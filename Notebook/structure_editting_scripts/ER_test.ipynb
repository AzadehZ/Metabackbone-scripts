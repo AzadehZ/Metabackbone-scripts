{
 "cells": [
  {
   "cell_type": "code",
   "execution_count": 1,
   "metadata": {},
   "outputs": [],
   "source": [
    "import os\n",
    "import numpy as np\n",
    "import random\n",
    "import logging\n",
    "from itertools import combinations\n",
    "from typing import Dict, Tuple, List\n",
    "\n",
    "# Import custom functions from Metabackbone_functions and ER_functions modules\n",
    "from Metabackbone_functions import (\n",
    "    load_dna_structure_files, find_longest_strand, find_cross_over_in_longest_strand,\n",
    "    calculate_left_right_pos, find_valid_point, find_bases_around_point,\n",
    "    calculate_center_of_mass, calculate_bend_angle, find_bend_angle,\n",
    "    find_bases_in_sphere, remove_three_strands_in_sphere, export_dna_structures,\n",
    "    run_all_simulations, stored_removed_strands\n",
    ")\n",
    "\n",
    "from ipy_oxdna.dna_structure import DNAStructure, DNAStructureStrand, load_dna_structure, DNABase, strand_from_info\n",
    "from ipy_oxdna.oxdna_simulation import Simulation, SimulationManager\n",
    "\n",
    "from ER_functions import (\n",
    "    run_simulations_for_structure, load_simulated_structure, evaluate_fitness, check_dna_structure,\n",
    "    create_index_position_map, get_indexes_from_positions, update_indices_for_selected_structures,\n",
    "    find_symmetric_strands, remove_symmetric_strands_in_sphere, find_multiple_symmetric_strand_collections,\n",
    "    plot_fitness_scores_line, plot_fitness_scores_box, plot_bend_angles_line, plot_bend_angles_scatter,\n",
    "    plot_fitness_vs_bend_angle, plot_removed_staples_heatmap\n",
    ")"
   ]
  },
  {
   "cell_type": "code",
   "execution_count": 2,
   "metadata": {},
   "outputs": [],
   "source": [
    "# ANSI color codes for printing colored messages\n",
    "colors = {\n",
    "    'blue': '34',\n",
    "    'green': '32',\n",
    "    'yellow': '33',\n",
    "    'cyan': '36',\n",
    "    'red': '31',\n",
    "    'magenta': '35'\n",
    "}\n"
   ]
  },
  {
   "cell_type": "code",
   "execution_count": 3,
   "metadata": {},
   "outputs": [],
   "source": [
    "# Configure logging\n",
    "logging.basicConfig(level=logging.INFO)\n",
    "\n",
    "def print_colored(message, color_code):\n",
    "    print(f\"\\033[{color_code}m{message}\\033[0m\")"
   ]
  },
  {
   "cell_type": "code",
   "execution_count": 4,
   "metadata": {},
   "outputs": [],
   "source": [
    "left_indices = [0,1,2,3,4,5,6,7,8,9,10,11,12,13,14,15,16,17,18,19,151,152,153,154,155,156,157,158,159,160,161,162,163,164,165,166,167,168,169,170,171,172,173,174,175,176,177,178,179,180,181,182,183,184,185,186,187,188,189,190,191,192,193,194,195,196,197,198,199,200,201,202,203,204,205,206,207,208,209,210,211,212,213,214,215,216,217,218,219,220,221,222,223,224,225,226,227,228,229,230,231,232,233,234,235,236,237,238,239,240,241,242,243,244,245,246,247,248,249,250,251,252,253,254,255,256,257,258,259,260,261,262,263,264,265,266,267,268,269,270,271,272,273,274,275,276,277,278,279,280,281,282,283,284,285,286,287,288,289,290,291,292,293,294,295,296,297,298,299,300,525,526,527,528,529,530,531,532,533,534,535,536,537,538,539,540,541,542,543,544,545,546,547,548,549,550,551,552,553,554,555,556,557,558,559,560,561,562,563,564,565,566,567,568,569,570,571,572,573,574,575,576,577,578,579,580,581,582,583,584,585,586,587,588,589,590,591,592,593,594,595,596,597,598,599,600,601,602,603,604,605,606,607,608,609,610,611,612,613,614,615,616,617,618,619,620,621,622,623,624,625,626,627,628,629,630,631,632,633,634,635,636,637,638,639,640,641,642,643,644,645,646,647,648,649,650,651,652,653,654,655,656,657,658,659,660,661,662,663,664,665,666,667,668,669,670,671,672,673,674,675,676,677,678,679,680,681,682,683,684,2028,2029,2030,2031,2032,2033,2034,2035,2036,2037,2038,2039,2040,2041,2042,2043,2044,2045,2046,2047,2048,2049,2050,2051,2052,2053,2054,2055,2056,2057,2058,2059,2060,2061,2062,2063,2064,2065,2066,2067,2068,2069,2070,2071,2072,2073,2074,2075,2076,2077,2078,2079,2080,2081,2082,2083,2084,2085,2086,2087,2088,2089,2090,2091,2092,2093,2094,2095,2096,2097,2098,2099,2100,2101,2102,2103,2104,2105,2106,2107,2108,2109,2110,2111,2112,2113,2114,2115,2116,2117,2118,2119,2120,2121,2122,2123,2124,2125,2126,2127,2128,2129,2130,2131,2132,2133,2134,2135,2136,2137,2138,2139,2140,2141,2142,2143,2144,2145,2146,2147,2148,2149,2150,2151,2152,2153,2154,2155,2156,2157,2158,2159,2160,2161,2162,2163,2164,2165,2166,2167,2168,2169,2170,2171,2172,2173,2174,2175,2176,2177,2178,2179,2180,2181,2182,2183,2184,2185,2186,2187,2188,2189,2190,2191,2192,2193,2194,2195,2196,2197,2198,2199,2200,2201,2202,2203,2204,2205,3269,3270,3271,3272,3273,3274,3275,3276,3277,3278,3279,3280,3281,3282,3283,3284,3285,3296,3302,3303,3304,3305,3306,3307,3308,3309,3310,3311,3312,3313,3314,3315,3316,3317,3318,3319,3320,3321,3322,3323,3324,3325,3326,3327,3328,3329,3330,3331,3332,3333,3334,3335,3336,3337,3338,3339,3340,3341,3342,3343,3344,3345,3346,3347,3348,3349,3350,3351,3352,3353,3354,3355,3356,3357,3358,3359,3360,3361,3362,3363,3364,3365,3366,3367,3368,3369,3370,3371,3372,3373,3374,3375,3376,3377,3378,3379,3380,3381,3382,3383,3384,3385,3386,3387,3388,3389,3390,3391,3392,3393,3394,3395,3396,3397,3398,3399,3400,3401,3402,3403,3404,3405,3406,3407,3408,3409,3410,3411,3412,3413,3414,3415,3416,3417,3418,3419,3420,3421,3422,3423,3424,3425,3426,3427,3428,3429,3430,3431,3432,3433,3434,3435,3436,3437,3438,3439,3440,3441,3442,3443,3444,3445,3446,3447,3448,3449,3450,3451,3452,3453,3454,3455,3456,3457,3458,3459,3460,3461,3462,3463,3464,3465,3466,3467,3468,3469,3470,3471,3472,3473,3474,3475,3476,3477,3478,3479,3480,3481,3482,3483,3484,3485,3486,3487,3488,3489,3490,3491,3492,3493,3494,3495,3496,3497,3498,3499,3500,3501,3502,3503,3504,3505,3506,3507,3508,3509,3510,3511,3512,3513,3514,3515,3516,3517,3518,3519,3520,3521,3522,3523,3524,3525,3526,3527,3528,3529,3530,3531,3532,3533,3534,3535,3536,3537,3538,3539,3540,3541,3542,3543,3544,3545,3546,3547,3548,3549,3550,3551,3552,3553,3554,3555,3556,3557,3558,3559,4066,4101,4102,4103,4104,4105,4106,4107,4108,4109,4110,4111,4112,4113,4114,4115,4116,4117,4118,4119,4120,4121,4122,4123,4124,4125,4126,4127,4128,4129,4130,4131,4132,4133,4134,4135,4136,4137,4138,4139,4140,4141,4142,4143,4144,4145,4146,4147,4148,4149,4150,4151,4152,4153,4154,4155,4156,4157,4158,4159,4160,4161,4162,4163,4164,4165,4166,4167,4168,4169,4170,4171,4172,4173,4174,4175,4176,4177,4178,4179,4180,4181,4182,4183,4184,4185,4186,4187,4188,4189,4190,4191,4192,4193,4194,4195,4196,4197,4198,4199,4200,4201,4202,4203,4204,4205,4469,4470,4471,4472,4473,4474,4475,4479,4480,4481,4482,4483,4484,4485,4486,4487,4488,4489,4490,4491,4492,4493,4494,4495,4496,4497,4498,4499,4500,4501,4502,4503,4504,4505,4506,4507,4508,4509,4510,4511,4512,4513,4514,4515,4516,4517,4518,4519,4520,4521,4522,4523,4524,4525,4526,4527,4528,4529,4530,4531,4532,4533,4534,4535,4536,4537,4538,4539,4540,4541,4542,4543,4544,4545,4546,4547,4548,4549,4550,4551,4552,4553,4554,4555,4556,4557,4558,4559,4560,4561,4562,4563,4564,4565,4566,4567,4568,4569,4570,4571,4572,4573,4574,4575,4576,4577,4578,4579,4580,4581]\n",
    "right_indices = [20,21,22,23,24,25,26,27,28,29,30,31,32,33,34,35,36,37,38,39,40,41,42,43,916,917,918,919,920,921,922,923,924,925,926,927,928,929,930,931,932,933,934,935,936,937,938,939,940,941,942,943,944,945,946,947,948,949,950,951,952,953,954,955,956,957,958,959,960,961,962,963,964,965,966,967,968,969,970,971,972,973,974,975,976,977,978,979,980,981,982,983,984,985,986,987,988,989,990,991,992,993,994,995,996,997,998,999,1000,1001,1002,1003,1004,1005,1006,1007,1008,1009,1010,1011,1012,1013,1014,1015,1016,1017,1018,1019,1020,1021,1022,1023,1024,1025,1026,1027,1028,1029,1030,1031,1032,1033,1034,1035,1036,1037,1038,1039,1040,1041,1042,1043,1044,1045,1046,1047,1048,1285,1286,1287,1288,1289,1290,1291,1292,1293,1294,1295,1296,1297,1298,1299,1300,1301,1302,1303,1304,1305,1306,1307,1308,1309,1310,1311,1312,1313,1314,1315,1316,1317,1318,1319,1320,1321,1322,1323,1324,1325,1326,1327,1328,1329,1330,1331,1332,1333,1334,1335,1336,1337,1338,1339,1340,1341,1342,1343,1344,1345,1346,1347,1348,1349,1350,1351,1352,1353,1354,1355,1356,1357,1358,1359,1360,1361,1362,1363,1364,1365,1366,1367,1368,1369,1370,1371,1372,1373,1374,1375,1376,1377,1378,1379,1380,1381,1382,1383,1384,1385,1386,1387,1388,1389,1390,1391,1392,1393,1394,1395,1396,1397,1398,1399,1400,1401,1402,1403,1404,1405,1406,1407,1408,1409,1410,1411,1412,1413,1414,1415,1416,1417,1418,1419,1420,1421,1422,1423,1424,1425,1426,1427,1428,1429,1430,1431,1432,1433,1434,1435,1436,1676,1677,1678,1679,1680,1681,1682,1683,1684,1685,1686,1687,1688,1689,1690,1691,1692,1693,1694,1695,1696,1697,1698,1699,1700,1701,1702,1703,1704,1705,1706,1707,1708,1709,1710,1711,1712,1713,1714,1715,1716,1717,1718,1719,1720,1721,1722,1723,1724,1725,1726,1727,1728,1729,1730,1731,1732,1733,1734,1735,1736,1737,1738,1739,1740,1741,1742,1743,1744,1745,1746,1747,1748,1749,1750,1751,1752,1753,1754,1755,1756,1757,1758,1759,1760,1761,1762,1763,1764,1765,1766,1767,1768,1769,1770,1771,1772,1773,1774,1775,1776,1777,1778,1779,1780,1781,1782,1783,1784,1785,1786,1787,1788,1789,1790,1791,1792,1793,1794,1795,1796,1797,1798,2312,2313,2314,2315,2316,2317,2318,2319,2320,2321,2322,2323,2324,2325,2326,2327,2328,2329,2330,2331,2332,2333,2334,2335,2336,2337,2338,2339,2340,2341,2342,2343,2344,2345,2346,2347,2348,2349,2350,2351,2352,2353,2354,2355,2356,2357,2358,2359,2360,2361,2362,2363,2364,2365,2366,2367,2368,2369,2370,2371,2372,2373,2374,2375,2376,2377,2378,2379,2380,2381,2382,2383,2384,2385,2386,2387,2388,2389,2390,2391,2392,2393,2394,2395,2396,2397,2398,2399,2400,2401,2402,2403,2404,2405,2406,2407,2408,2409,2410,2411,2412,2413,2414,2415,2416,2417,2418,2419,2420,2421,2422,2423,2424,2425,2426,2427,2428,2429,2430,2431,2432,2433,2434,2435,2436,2437,2438,2439,2440,2441,2442,2443,2444,2445,2446,2447,2448,2449,2450,2451,2452,2453,2454,2455,2456,2457,2458,2459,2460,2461,2462,2463,2464,2465,2466,2467,2468,2469,2470,2471,2472,2473,2474,2475,2476,2477,2478,2479,2480,2481,2482,2483,2484,2485,2486,2487,2488,2489,2490,2491,2492,2493,2494,2495,2496,2497,2498,2499,2500,2501,2513,2514,2515,2516,2517,2518,2519,2520,2521,2522,2523,2524,2527,2528,2529,2530,2531,2532,2533,3560,3561,3562,3563,3564,3565,3566,3567,3568,3569,3570,3571,3572,3573,3574,3575,3576,3577,3578,3579,3580,3581,3582,3583,3584,3585,3586,3587,3588,3589,3590,3591,3592,3593,3594,3595,3596,3597,3598,3599,3600,3601,3602,3603,3604,3605,3606,3607,3608,3609,3610,3611,3612,3613,3614,3615,3616,3617,3618,3619,3620,3621,3622,3623,3624,3625,3626,3627,3628,3629,3630,3631,3632,3633,3634,3635,3636,3637,3638,3639,3640,3641,3642,3643,3644,3645,3646,3647,3648,3649,3650,3651,3652,3653,3654,3655,3656,3657,3658,3659,3660,3661,3662,3663,3664,3665,3666,3667,3668,3669,3670,3671,3672,3673,3674,3675,3676,3677,3678,3679,3680,3682,3683,3684,3685,3686,3687,3688,3689,3690,3691,3692,3693,3694,3695,3696,3697,3698,3699,3700,3701,3702,3703,3704,3705,3706,3707,3708,3709,3710,3711,3712,3713,3714,3715,3750,4206,4207,4208,4209,4210,4211,4212,4213,4214,4215,4216,4217,4218,4219,4220,4221,4222,4223,4224,4225,4226,4227,4228,4229,4230,4231,4232,4233,4234,4235,4236,4237,4238,4239,4240,4241,4242,4243,4244,4245,4246,4247]\n",
    "sphere_radius = 3.0\n",
    "eq_steps = 1e3\n",
    "prod_steps = 1e3\n",
    "rel_steps = 1e2\n",
    "min_distance_threshold = 2.5\n",
    "min_distance = 7.0\n",
    "max_distance = 20.0\n",
    "num_best_structures = 5\n",
    "\n",
    "eq_parameters = {'dt':f'0.003','steps':f'{eq_steps}','print_energy_every': f'1e5', 'interaction_type': 'DNA2',\n",
    "                 'print_conf_interval':f'1e5', 'fix_diffusion':'false', 'T':f'20C','max_density_multiplier':f'50'}\n",
    "\n",
    "prod_parameters = {'dt':f'0.003','steps':f'{prod_steps}','print_energy_every': f'1e5', 'interaction_type': 'DNA2',\n",
    "                   'print_conf_interval':f'1e5', 'fix_diffusion':'false', 'T':f'20C','max_density_multiplier':f'50'}\n",
    "rel_parameters = {'steps': f'{rel_steps}', 'max_backbone_force': '200', 'max_backbone_force_far': '200'}"
   ]
  },
  {
   "cell_type": "code",
   "execution_count": 5,
   "metadata": {},
   "outputs": [],
   "source": [
    "num_iterations = 2\n",
    "sphere_radius = 3.0\n",
    "desired_angle = 100.0\n",
    "tolerance = 5.0\n",
    "\n",
    "input_path = \"/home/ava/MetaBackbone_project/Metabackbone-scripts/structure_files/six_helix_oxdna_file/unmodified/2268_bp\"\n",
    "base_path = \"/home/ava/MetaBackbone_project/Metabackbone-scripts/structure_files/six_helix_oxdna_file/modified/modified_2268_bp\"\n",
    "sim_base_path = '/home/ava/MetaBackbone_project/Metabackbone-scripts/Notebook/Simulations_results/Results/optimization_2268_bp'\n"
   ]
  },
  {
   "cell_type": "code",
   "execution_count": 6,
   "metadata": {},
   "outputs": [],
   "source": [
    "def load_dna_structure_files(input_path):\n",
    "    dat_path = os.path.join(input_path, '2268_bp.dat')\n",
    "    top_path = os.path.join(input_path, '2268_bp.top')\n",
    "    dna = load_dna_structure(top_path, dat_path)\n",
    "    return dna"
   ]
  },
  {
   "cell_type": "code",
   "execution_count": 7,
   "metadata": {},
   "outputs": [],
   "source": [
    "def evolutionary_algorithm(initial_dna_structure, left_indices, right_indices, num_iterations, num_best_structures, desired_angle, tolerance, base_path, sim_base_path, sphere_radius):\n",
    "    current_structures = [initial_dna_structure]\n",
    "    current_left_indices = [left_indices]\n",
    "    current_right_indices = [right_indices]\n",
    "    removed_staples_dict = {}  # Dictionary to store removed staples info\n",
    "    \n",
    "    fitness_history = []\n",
    "    fitness_scores_all_iterations = []\n",
    "    angle_history = []\n",
    "    angles_all_iterations = []\n",
    "    removed_staples_info_all_iterations = []\n",
    "\n",
    "    for iteration in range(num_iterations):\n",
    "        print_colored(f\"Iteration {iteration + 1}\", colors['yellow'])\n",
    "        \n",
    "        new_structures = []\n",
    "        new_left_indices = []\n",
    "        new_right_indices = []\n",
    "        removed_strands_info_all = []\n",
    "        structure_origin = []  # To keep track of which structure each mutant came from\n",
    "        \n",
    "        for i, dna in enumerate(current_structures):\n",
    "            # Added print statement for structure being processed\n",
    "            print_colored(f\"Processing structure {i+1} in iteration {iteration + 1}\", colors['yellow'])\n",
    "            \n",
    "            # Step 1: Find a valid point in the DNA structure\n",
    "            print_colored(\"Step 1: Finding a valid point in the DNA structure...\", colors['red'])\n",
    "            longest_strand, _ = find_longest_strand(dna)\n",
    "            point_pos = find_valid_point(dna, current_left_indices[i], current_right_indices[i], longest_strand)\n",
    "            print_colored(f'Found a valid point in the DNA structure: {point_pos}', colors['green'])\n",
    "            \n",
    "            # Step 2: Remove three random staples within a sphere around the point\n",
    "            print_colored(\"Step 2: Removing three random staples within a sphere around the point...\", colors['blue'])\n",
    "            mutants, removed_strands_info = remove_three_strands_in_sphere(dna, point_pos, sphere_radius)\n",
    "            removed_strands_info_all.extend(removed_strands_info)\n",
    "            new_structures.extend(mutants)\n",
    "            new_left_indices.extend([current_left_indices[i]] * len(mutants))\n",
    "            new_right_indices.extend([current_right_indices[i]] * len(mutants))\n",
    "            structure_origin.extend([i + 1] * len(mutants))  # Keep track of the origin\n",
    "            print_colored(f\"By modifying structure {i+1}, {len(mutants)} mutant structures were produced.\", colors['cyan'])\n",
    "        \n",
    "        # Determine the number of mutants based on the number of new structures created\n",
    "        num_mutants = len(new_structures)\n",
    "        print_colored(f\"Iteration {iteration + 1}: Total number of mutant structures generated: {num_mutants}.\", colors['blue'])\n",
    "        \n",
    "        # Step 3: Export new DNA structures\n",
    "        print_colored(\"Step 3: Exporting DNA structures...\", colors['magenta'])\n",
    "        export_paths = export_dna_structures(new_structures, base_path)\n",
    "        print_colored(f\"Export paths: {export_paths}\", colors['yellow'])\n",
    "        \n",
    "        # Step 4: Simulate each modified structure\n",
    "        print_colored(\"Step 4: Simulating each modified structure...\", colors['green'])\n",
    "        for j, export_path in enumerate(export_paths):\n",
    "            structure_id = export_path['structure_id']\n",
    "            origin_structure = structure_origin[j]\n",
    "            print_colored(f\"Simulating mutant {j % 10} produced by structure {origin_structure}\", colors['red'])\n",
    "            run_simulations_for_structure(structure_id, base_path, sim_base_path, rel_parameters, eq_parameters, prod_parameters)\n",
    "        \n",
    "        # Step 5: Measure the angle at the joint for each mutant after simulation\n",
    "        print_colored(\"Step 5: Measuring the angle at the joint for each mutant after simulation...\", colors['cyan'])\n",
    "        angles = []\n",
    "        for j, export_path in enumerate(export_paths):\n",
    "            structure_id = export_path['structure_id']\n",
    "            simulated_dna = load_simulated_structure(structure_id, sim_base_path)\n",
    "            \n",
    "            bend_angle = find_bend_angle(simulated_dna, new_left_indices[j], new_right_indices[j], longest_strand, point_pos)\n",
    "            angles.append((structure_id, bend_angle))\n",
    "            print_colored(f\"Measured bend angle for structure {structure_id}: {bend_angle} degrees.\", colors['magenta'])\n",
    "        \n",
    "        # Step 6: Evaluate fitness\n",
    "        print_colored(\"Step 6: Evaluating fitness of mutants...\", colors['yellow'])\n",
    "        fitness_scores = evaluate_fitness([angle for _, angle in angles], desired_angle, tolerance)\n",
    "        print_colored(f\"Fitness scores: {fitness_scores}\", colors['green'])\n",
    "        \n",
    "        # Step 7: Select the best mutants based on fitness scores\n",
    "        print_colored(\"Step 7: Selecting the best mutants based on fitness scores...\", colors['blue'])\n",
    "        sorted_mutants = sorted(zip(angles, fitness_scores), key=lambda x: x[1])\n",
    "        \n",
    "        # Display results for all structures\n",
    "        print_colored(\"Results for all structures:\", colors['cyan'])\n",
    "        for (structure_id, angle), fitness_score in sorted_mutants:\n",
    "            print_colored(f\"Structure ID: {structure_id}, Bend Angle: {angle}, Fitness Score: {fitness_score}\", colors['magenta'])\n",
    "\n",
    "        # Select the best mutants\n",
    "        best_mutants_info = sorted_mutants[:num_best_structures]  # Select top structures\n",
    "        best_mutants = [new_structures[angles.index((structure_id, angle))] for (structure_id, angle), _ in best_mutants_info]\n",
    "        best_angles = [angle for (_, angle), _ in best_mutants_info]\n",
    "        best_removed_strands_info = [removed_strands_info_all[angles.index((structure_id, angle))] for (structure_id, angle), _ in best_mutants_info]\n",
    "        best_left_indices = [new_left_indices[angles.index((structure_id, angle))] for (structure_id, angle), _ in best_mutants_info]\n",
    "        best_right_indices = [new_right_indices[angles.index((structure_id, angle))] for (structure_id, angle), _ in best_mutants_info]\n",
    "\n",
    "        # Display results for the selected best structures\n",
    "        print_colored(f\"Selected the best {num_best_structures} mutants:\", colors['yellow'])\n",
    "        for i, ((structure_id, angle), fitness_score) in enumerate(best_mutants_info):\n",
    "            print_colored(f\"Selected Structure {i+1}: Structure ID: {structure_id}, Bend Angle: {angle}, Fitness Score: {fitness_score}\", colors['red'])\n",
    "\n",
    "        # Step 8: Store the removed staples info for the best mutants\n",
    "        print_colored(\"Step 8: Storing the removed staples info for the best mutants...\", colors['green'])\n",
    "        for i, (structure_id, _) in enumerate(sorted_mutants[:num_best_structures]):\n",
    "            removed_staples_dict[structure_id] = best_removed_strands_info[i]\n",
    "            summary, removed_bases = stored_removed_strands(initial_dna_structure, [best_removed_strands_info[i]])[0]\n",
    "            print_colored(f\"Structure ID: {structure_id} - {summary}\", colors['blue'])\n",
    "            print_colored(f\"Removed bases: {removed_bases}\", colors['cyan'])\n",
    "        \n",
    "        # Update fitness and angle history for plotting\n",
    "        fitness_history.append(min(fitness_scores))\n",
    "        fitness_scores_all_iterations.append(fitness_scores)\n",
    "        angle_history.append(min([angle for _, angle in angles]))\n",
    "        angles_all_iterations.append([angle for _, angle in angles])\n",
    "        removed_staples_info_all_iterations.append([info for info in removed_strands_info_all])\n",
    "        \n",
    "        # Check if the best angle is within the desired tolerance\n",
    "        if any(abs(angle - desired_angle) <= tolerance for angle in best_angles):\n",
    "            print_colored(\"Desired angle achieved within tolerance. Stopping evolution process.\", colors['magenta'])\n",
    "            break\n",
    "        \n",
    "        # Step 9: Update the current structures with the best mutants for the next iteration\n",
    "        print_colored(\"Step 9: Updating the current structures with the best mutants for the next iteration...\", colors['yellow'])\n",
    "        current_structures = best_mutants  # Use the unsimulated versions\n",
    "        current_left_indices = best_left_indices\n",
    "        current_right_indices = best_right_indices\n",
    "\n",
    "        # Step 10: Verify updated left and right indices\n",
    "        for i in range(len(current_structures)):\n",
    "            print_colored(f\"Left indices for structure {i+1}: {current_left_indices[i]}\", colors['cyan'])\n",
    "            print_colored(f\"Right indices for structure {i+1}: {current_right_indices[i]}\", colors['cyan'])\n",
    "    \n",
    "    print_colored(\"Evolutionary algorithm completed.\", colors['red'])\n",
    "    \n",
    "    # # Plotting results\n",
    "    # plot_fitness_scores_line(fitness_history)\n",
    "    # plot_fitness_scores_box(fitness_scores_all_iterations)\n",
    "    # plot_bend_angles_line(angle_history, desired_angle)\n",
    "    # plot_bend_angles_scatter(angles_all_iterations, angle_history)\n",
    "    # plot_fitness_vs_bend_angle(\n",
    "    #     [angle for angles in angles_all_iterations for angle in angles],\n",
    "    #     [fitness for fitness_scores in fitness_scores_all_iterations for fitness in fitness_scores],\n",
    "    #     angle_history,\n",
    "    #     fitness_history\n",
    "    # )\n",
    "\n",
    "    # plot_removed_staples_heatmap(removed_staples_info_all_iterations)\n"
   ]
  },
  {
   "cell_type": "code",
   "execution_count": 8,
   "metadata": {},
   "outputs": [
    {
     "name": "stderr",
     "output_type": "stream",
     "text": [
      "INFO: Processed 0 / 1 confs\r"
     ]
    },
    {
     "name": "stdout",
     "output_type": "stream",
     "text": [
      "\u001b[33mIteration 1\u001b[0m\n",
      "\u001b[33mProcessing structure 1 in iteration 1\u001b[0m\n",
      "\u001b[31mStep 1: Finding a valid point in the DNA structure...\u001b[0m\n",
      "\u001b[32mFound a valid point in the DNA structure: [ 0.0278694   0.03810028 22.43766217]\u001b[0m\n",
      "\u001b[34mStep 2: Removing three random staples within a sphere around the point...\u001b[0m\n",
      "Bases in sphere: [97, 98, 99, 100, 101, 348, 349, 350, 351, 352, 473, 474, 475, 476, 477, 478, 736, 737, 738, 739, 740, 1975, 1976, 1977, 1978, 1979, 1980, 2249, 2250, 2251, 2252, 2253, 2254, 3065, 3066, 3067, 3099, 3100, 3101, 3117, 3118, 3119, 3120, 3121, 3122, 3123, 3127, 3128, 3147, 3148, 3149, 3150, 3157, 3158, 4005, 4006, 4007, 4008, 4009, 4010, 4011, 4015, 4016, 4017, 4018, 4019, 4020, 4021, 4416, 4417, 4418, 4419, 4420, 4421, 4436]\n",
      "Base to strand mapping: {97: 2, 98: 2, 99: 2, 100: 2, 101: 2, 348: 2, 349: 2, 350: 2, 351: 2, 352: 2, 473: 2, 474: 2, 475: 2, 476: 2, 477: 2, 478: 2, 736: 2, 737: 2, 738: 2, 739: 2, 740: 2, 1975: 2, 1976: 2, 1977: 2, 1978: 2, 1979: 2, 1980: 2, 2249: 2, 2250: 2, 2251: 2, 2252: 2, 2253: 2, 2254: 2, 3065: 24, 3066: 24, 3067: 24, 3099: 25, 3100: 25, 3101: 25, 3117: 25, 3118: 25, 3119: 25, 3120: 25, 3121: 25, 3122: 25, 3123: 25, 3127: 25, 3128: 25, 3147: 26, 3148: 26, 3149: 26, 3150: 26, 3157: 27, 3158: 27, 4005: 50, 4006: 50, 4007: 50, 4008: 50, 4009: 50, 4010: 50, 4011: 50, 4015: 50, 4016: 50, 4017: 50, 4018: 50, 4019: 50, 4020: 50, 4021: 50, 4416: 66, 4417: 66, 4418: 66, 4419: 66, 4420: 66, 4421: 66, 4436: 66}\n",
      "Strands in sphere to consider for removal: {66, 50, 24, 25, 26, 27}\n",
      "Removed strands: 66, 50, 24\n",
      "Removed strands: 66, 50, 25\n",
      "Removed strands: 66, 50, 26\n",
      "Removed strands: 66, 50, 27\n",
      "Removed strands: 66, 24, 25\n",
      "Removed strands: 66, 24, 26\n",
      "Removed strands: 66, 24, 27\n",
      "Removed strands: 66, 25, 26\n",
      "Removed strands: 66, 25, 27\n",
      "Removed strands: 66, 26, 27\n",
      "Removed strands: 50, 24, 25\n",
      "Removed strands: 50, 24, 26\n",
      "Removed strands: 50, 24, 27\n",
      "Removed strands: 50, 25, 26\n",
      "Removed strands: 50, 25, 27\n",
      "Removed strands: 50, 26, 27\n",
      "Removed strands: 24, 25, 26\n",
      "Removed strands: 24, 25, 27\n",
      "Removed strands: 24, 26, 27\n",
      "Removed strands: 25, 26, 27\n",
      "Total number of new structures created: 20\n",
      "\u001b[36mBy modifying structure 1, 20 mutant structures were produced.\u001b[0m\n",
      "\u001b[34mIteration 1: Total number of mutant structures generated: 20.\u001b[0m\n",
      "\u001b[35mStep 3: Exporting DNA structures...\u001b[0m\n",
      "\u001b[33mExport paths: [{'structure_id': 0, 'dat_path': '/home/ava/MetaBackbone_project/Metabackbone-scripts/structure_files/six_helix_oxdna_file/modified/modified_2268_bp/structure_0/1512_bp_rmv_staples.dat', 'top_path': '/home/ava/MetaBackbone_project/Metabackbone-scripts/structure_files/six_helix_oxdna_file/modified/modified_2268_bp/structure_0/1512_bp_rmv_staples.top'}, {'structure_id': 1, 'dat_path': '/home/ava/MetaBackbone_project/Metabackbone-scripts/structure_files/six_helix_oxdna_file/modified/modified_2268_bp/structure_1/1512_bp_rmv_staples.dat', 'top_path': '/home/ava/MetaBackbone_project/Metabackbone-scripts/structure_files/six_helix_oxdna_file/modified/modified_2268_bp/structure_1/1512_bp_rmv_staples.top'}, {'structure_id': 2, 'dat_path': '/home/ava/MetaBackbone_project/Metabackbone-scripts/structure_files/six_helix_oxdna_file/modified/modified_2268_bp/structure_2/1512_bp_rmv_staples.dat', 'top_path': '/home/ava/MetaBackbone_project/Metabackbone-scripts/structure_files/six_helix_oxdna_file/modified/modified_2268_bp/structure_2/1512_bp_rmv_staples.top'}, {'structure_id': 3, 'dat_path': '/home/ava/MetaBackbone_project/Metabackbone-scripts/structure_files/six_helix_oxdna_file/modified/modified_2268_bp/structure_3/1512_bp_rmv_staples.dat', 'top_path': '/home/ava/MetaBackbone_project/Metabackbone-scripts/structure_files/six_helix_oxdna_file/modified/modified_2268_bp/structure_3/1512_bp_rmv_staples.top'}, {'structure_id': 4, 'dat_path': '/home/ava/MetaBackbone_project/Metabackbone-scripts/structure_files/six_helix_oxdna_file/modified/modified_2268_bp/structure_4/1512_bp_rmv_staples.dat', 'top_path': '/home/ava/MetaBackbone_project/Metabackbone-scripts/structure_files/six_helix_oxdna_file/modified/modified_2268_bp/structure_4/1512_bp_rmv_staples.top'}, {'structure_id': 5, 'dat_path': '/home/ava/MetaBackbone_project/Metabackbone-scripts/structure_files/six_helix_oxdna_file/modified/modified_2268_bp/structure_5/1512_bp_rmv_staples.dat', 'top_path': '/home/ava/MetaBackbone_project/Metabackbone-scripts/structure_files/six_helix_oxdna_file/modified/modified_2268_bp/structure_5/1512_bp_rmv_staples.top'}, {'structure_id': 6, 'dat_path': '/home/ava/MetaBackbone_project/Metabackbone-scripts/structure_files/six_helix_oxdna_file/modified/modified_2268_bp/structure_6/1512_bp_rmv_staples.dat', 'top_path': '/home/ava/MetaBackbone_project/Metabackbone-scripts/structure_files/six_helix_oxdna_file/modified/modified_2268_bp/structure_6/1512_bp_rmv_staples.top'}, {'structure_id': 7, 'dat_path': '/home/ava/MetaBackbone_project/Metabackbone-scripts/structure_files/six_helix_oxdna_file/modified/modified_2268_bp/structure_7/1512_bp_rmv_staples.dat', 'top_path': '/home/ava/MetaBackbone_project/Metabackbone-scripts/structure_files/six_helix_oxdna_file/modified/modified_2268_bp/structure_7/1512_bp_rmv_staples.top'}, {'structure_id': 8, 'dat_path': '/home/ava/MetaBackbone_project/Metabackbone-scripts/structure_files/six_helix_oxdna_file/modified/modified_2268_bp/structure_8/1512_bp_rmv_staples.dat', 'top_path': '/home/ava/MetaBackbone_project/Metabackbone-scripts/structure_files/six_helix_oxdna_file/modified/modified_2268_bp/structure_8/1512_bp_rmv_staples.top'}, {'structure_id': 9, 'dat_path': '/home/ava/MetaBackbone_project/Metabackbone-scripts/structure_files/six_helix_oxdna_file/modified/modified_2268_bp/structure_9/1512_bp_rmv_staples.dat', 'top_path': '/home/ava/MetaBackbone_project/Metabackbone-scripts/structure_files/six_helix_oxdna_file/modified/modified_2268_bp/structure_9/1512_bp_rmv_staples.top'}, {'structure_id': 10, 'dat_path': '/home/ava/MetaBackbone_project/Metabackbone-scripts/structure_files/six_helix_oxdna_file/modified/modified_2268_bp/structure_10/1512_bp_rmv_staples.dat', 'top_path': '/home/ava/MetaBackbone_project/Metabackbone-scripts/structure_files/six_helix_oxdna_file/modified/modified_2268_bp/structure_10/1512_bp_rmv_staples.top'}, {'structure_id': 11, 'dat_path': '/home/ava/MetaBackbone_project/Metabackbone-scripts/structure_files/six_helix_oxdna_file/modified/modified_2268_bp/structure_11/1512_bp_rmv_staples.dat', 'top_path': '/home/ava/MetaBackbone_project/Metabackbone-scripts/structure_files/six_helix_oxdna_file/modified/modified_2268_bp/structure_11/1512_bp_rmv_staples.top'}, {'structure_id': 12, 'dat_path': '/home/ava/MetaBackbone_project/Metabackbone-scripts/structure_files/six_helix_oxdna_file/modified/modified_2268_bp/structure_12/1512_bp_rmv_staples.dat', 'top_path': '/home/ava/MetaBackbone_project/Metabackbone-scripts/structure_files/six_helix_oxdna_file/modified/modified_2268_bp/structure_12/1512_bp_rmv_staples.top'}, {'structure_id': 13, 'dat_path': '/home/ava/MetaBackbone_project/Metabackbone-scripts/structure_files/six_helix_oxdna_file/modified/modified_2268_bp/structure_13/1512_bp_rmv_staples.dat', 'top_path': '/home/ava/MetaBackbone_project/Metabackbone-scripts/structure_files/six_helix_oxdna_file/modified/modified_2268_bp/structure_13/1512_bp_rmv_staples.top'}, {'structure_id': 14, 'dat_path': '/home/ava/MetaBackbone_project/Metabackbone-scripts/structure_files/six_helix_oxdna_file/modified/modified_2268_bp/structure_14/1512_bp_rmv_staples.dat', 'top_path': '/home/ava/MetaBackbone_project/Metabackbone-scripts/structure_files/six_helix_oxdna_file/modified/modified_2268_bp/structure_14/1512_bp_rmv_staples.top'}, {'structure_id': 15, 'dat_path': '/home/ava/MetaBackbone_project/Metabackbone-scripts/structure_files/six_helix_oxdna_file/modified/modified_2268_bp/structure_15/1512_bp_rmv_staples.dat', 'top_path': '/home/ava/MetaBackbone_project/Metabackbone-scripts/structure_files/six_helix_oxdna_file/modified/modified_2268_bp/structure_15/1512_bp_rmv_staples.top'}, {'structure_id': 16, 'dat_path': '/home/ava/MetaBackbone_project/Metabackbone-scripts/structure_files/six_helix_oxdna_file/modified/modified_2268_bp/structure_16/1512_bp_rmv_staples.dat', 'top_path': '/home/ava/MetaBackbone_project/Metabackbone-scripts/structure_files/six_helix_oxdna_file/modified/modified_2268_bp/structure_16/1512_bp_rmv_staples.top'}, {'structure_id': 17, 'dat_path': '/home/ava/MetaBackbone_project/Metabackbone-scripts/structure_files/six_helix_oxdna_file/modified/modified_2268_bp/structure_17/1512_bp_rmv_staples.dat', 'top_path': '/home/ava/MetaBackbone_project/Metabackbone-scripts/structure_files/six_helix_oxdna_file/modified/modified_2268_bp/structure_17/1512_bp_rmv_staples.top'}, {'structure_id': 18, 'dat_path': '/home/ava/MetaBackbone_project/Metabackbone-scripts/structure_files/six_helix_oxdna_file/modified/modified_2268_bp/structure_18/1512_bp_rmv_staples.dat', 'top_path': '/home/ava/MetaBackbone_project/Metabackbone-scripts/structure_files/six_helix_oxdna_file/modified/modified_2268_bp/structure_18/1512_bp_rmv_staples.top'}, {'structure_id': 19, 'dat_path': '/home/ava/MetaBackbone_project/Metabackbone-scripts/structure_files/six_helix_oxdna_file/modified/modified_2268_bp/structure_19/1512_bp_rmv_staples.dat', 'top_path': '/home/ava/MetaBackbone_project/Metabackbone-scripts/structure_files/six_helix_oxdna_file/modified/modified_2268_bp/structure_19/1512_bp_rmv_staples.top'}]\u001b[0m\n",
      "\u001b[32mStep 4: Simulating each modified structure...\u001b[0m\n",
      "\u001b[31mSimulating mutant 0 produced by structure 1\u001b[0m\n",
      "Running: relaxed\n",
      "Run time: 4.677079751010751\n",
      "Finished: relaxed\n"
     ]
    },
    {
     "name": "stderr",
     "output_type": "stream",
     "text": [
      "INFO: Lists updated 1 times (every ~100.000000 steps)\n",
      "INFO: Aggregated I/O statistics (set debug=1 for file-wise information)\n",
      "\t  2.259 MB written to files\n",
      "\t 96.000  B written to stdout/stderr\n",
      "\tFor a total of    0.519 MB/s\n",
      "\n"
     ]
    },
    {
     "name": "stdout",
     "output_type": "stream",
     "text": [
      "All queued simulations finished in: 10.523306093004066\n",
      "\u001b[32mRelaxation simulation for structure 0 completed.\u001b[0m\n",
      "Running: eq\n",
      "Run time: 0.5821219520003069\n",
      "Finished: eq\n"
     ]
    },
    {
     "name": "stderr",
     "output_type": "stream",
     "text": [
      "INFO: Lists updated 4 times (every ~250.000000 steps)\n",
      "INFO: Aggregated I/O statistics (set debug=1 for file-wise information)\n",
      "\t  1.185 MB written to files\n",
      "\t 62.000  B written to stdout/stderr\n",
      "\tFor a total of     4.01 MB/s\n",
      "\n"
     ]
    },
    {
     "name": "stdout",
     "output_type": "stream",
     "text": [
      "All queued simulations finished in: 10.523034807003569\n",
      "\u001b[32mEquilibration simulation for structure 0 completed.\u001b[0m\n",
      "Running: prod\n",
      "Run time: 0.6110786739736795\n",
      "Finished: prod\n"
     ]
    },
    {
     "name": "stderr",
     "output_type": "stream",
     "text": [
      "INFO: Lists updated 4 times (every ~250.000000 steps)\n",
      "INFO: Aggregated I/O statistics (set debug=1 for file-wise information)\n",
      "\t  1.187 MB written to files\n",
      "\t 62.000  B written to stdout/stderr\n",
      "\tFor a total of     3.88 MB/s\n",
      "\n"
     ]
    },
    {
     "name": "stdout",
     "output_type": "stream",
     "text": [
      "All queued simulations finished in: 10.509420896996744\n",
      "\u001b[32mProduction simulation for structure 0 completed.\u001b[0m\n",
      "\u001b[36mAll simulations for mutant 0 completed.\n",
      "\u001b[0m\n",
      "\u001b[31mSimulating mutant 1 produced by structure 1\u001b[0m\n",
      "Running: relaxed\n",
      "Run time: 4.8523799540125765\n",
      "Finished: relaxed\n"
     ]
    },
    {
     "name": "stderr",
     "output_type": "stream",
     "text": [
      "INFO: Lists updated 1 times (every ~100.000000 steps)\n",
      "INFO: Aggregated I/O statistics (set debug=1 for file-wise information)\n",
      "\t  2.254 MB written to files\n",
      "\t 96.000  B written to stdout/stderr\n",
      "\tFor a total of      0.5 MB/s\n",
      "\n"
     ]
    },
    {
     "name": "stdout",
     "output_type": "stream",
     "text": [
      "All queued simulations finished in: 10.508550819999073\n",
      "\u001b[32mRelaxation simulation for structure 1 completed.\u001b[0m\n",
      "Running: eq\n",
      "Run time: 0.6065601450100075\n",
      "Finished: eq\n"
     ]
    },
    {
     "name": "stderr",
     "output_type": "stream",
     "text": [
      "INFO: Lists updated 3 times (every ~333.333333 steps)\n",
      "INFO: Aggregated I/O statistics (set debug=1 for file-wise information)\n",
      "\t  1.181 MB written to files\n",
      "\t 62.000  B written to stdout/stderr\n",
      "\tFor a total of     3.74 MB/s\n",
      "\n"
     ]
    },
    {
     "name": "stdout",
     "output_type": "stream",
     "text": [
      "All queued simulations finished in: 10.521451052976772\n",
      "\u001b[32mEquilibration simulation for structure 1 completed.\u001b[0m\n",
      "Running: prod\n",
      "Run time: 0.5848970569786616\n",
      "Finished: prod\n"
     ]
    },
    {
     "name": "stderr",
     "output_type": "stream",
     "text": [
      "INFO: Lists updated 3 times (every ~333.333333 steps)\n",
      "INFO: Aggregated I/O statistics (set debug=1 for file-wise information)\n",
      "\t  1.184 MB written to files\n",
      "\t 62.000  B written to stdout/stderr\n",
      "\tFor a total of     3.95 MB/s\n",
      "\n"
     ]
    },
    {
     "name": "stdout",
     "output_type": "stream",
     "text": [
      "All queued simulations finished in: 10.522418481006753\n",
      "\u001b[32mProduction simulation for structure 1 completed.\u001b[0m\n",
      "\u001b[36mAll simulations for mutant 1 completed.\n",
      "\u001b[0m\n",
      "\u001b[31mSimulating mutant 2 produced by structure 1\u001b[0m\n",
      "Running: relaxed\n",
      "Run time: 4.545091884006979\n",
      "Finished: relaxed\n"
     ]
    },
    {
     "name": "stderr",
     "output_type": "stream",
     "text": [
      "INFO: Aggregated I/O statistics (set debug=1 for file-wise information)\n",
      "\t  2.262 MB written to files\n",
      "\t 96.000  B written to stdout/stderr\n",
      "\tFor a total of    0.537 MB/s\n",
      "\n"
     ]
    },
    {
     "name": "stdout",
     "output_type": "stream",
     "text": [
      "All queued simulations finished in: 10.510579782014247\n",
      "\u001b[32mRelaxation simulation for structure 2 completed.\u001b[0m\n",
      "Running: eq\n",
      "Run time: 0.5847475990012754\n",
      "Finished: eq\n"
     ]
    },
    {
     "name": "stderr",
     "output_type": "stream",
     "text": [
      "INFO: Lists updated 3 times (every ~333.333333 steps)\n",
      "INFO: Aggregated I/O statistics (set debug=1 for file-wise information)\n",
      "\t  1.185 MB written to files\n",
      "\t 62.000  B written to stdout/stderr\n",
      "\tFor a total of     4.14 MB/s\n",
      "\n"
     ]
    },
    {
     "name": "stdout",
     "output_type": "stream",
     "text": [
      "All queued simulations finished in: 10.511013581010047\n",
      "\u001b[32mEquilibration simulation for structure 2 completed.\u001b[0m\n",
      "Running: prod\n",
      "Run time: 0.5822822240006644\n",
      "Finished: prod\n"
     ]
    },
    {
     "name": "stderr",
     "output_type": "stream",
     "text": [
      "INFO: Lists updated 4 times (every ~250.000000 steps)\n",
      "INFO: Aggregated I/O statistics (set debug=1 for file-wise information)\n",
      "\t  1.187 MB written to files\n",
      "\t 62.000  B written to stdout/stderr\n",
      "\tFor a total of      4.2 MB/s\n",
      "\n"
     ]
    },
    {
     "name": "stdout",
     "output_type": "stream",
     "text": [
      "All queued simulations finished in: 10.52088041100069\n",
      "\u001b[32mProduction simulation for structure 2 completed.\u001b[0m\n",
      "\u001b[36mAll simulations for mutant 2 completed.\n",
      "\u001b[0m\n",
      "\u001b[31mSimulating mutant 3 produced by structure 1\u001b[0m\n",
      "Running: relaxed\n",
      "Run time: 5.017323717998806\n",
      "Finished: relaxed\n"
     ]
    },
    {
     "name": "stderr",
     "output_type": "stream",
     "text": [
      "INFO: Lists updated 2 times (every ~50.000000 steps)\n",
      "INFO: Aggregated I/O statistics (set debug=1 for file-wise information)\n",
      "\t  2.255 MB written to files\n",
      "\t 96.000  B written to stdout/stderr\n",
      "\tFor a total of    0.481 MB/s\n",
      "\n"
     ]
    },
    {
     "name": "stdout",
     "output_type": "stream",
     "text": [
      "All queued simulations finished in: 10.509545391978463\n",
      "\u001b[32mRelaxation simulation for structure 3 completed.\u001b[0m\n",
      "Running: eq\n",
      "Run time: 0.6921813590161037\n",
      "Finished: eq\n"
     ]
    },
    {
     "name": "stderr",
     "output_type": "stream",
     "text": [
      "INFO: Lists updated 3 times (every ~333.333333 steps)\n",
      "INFO: Aggregated I/O statistics (set debug=1 for file-wise information)\n",
      "\t  1.181 MB written to files\n",
      "\t 62.000  B written to stdout/stderr\n",
      "\tFor a total of     3.39 MB/s\n",
      "\n"
     ]
    },
    {
     "name": "stdout",
     "output_type": "stream",
     "text": [
      "All queued simulations finished in: 10.510502899996936\n",
      "\u001b[32mEquilibration simulation for structure 3 completed.\u001b[0m\n",
      "Running: prod\n",
      "Run time: 0.5594444049929734\n",
      "Finished: prod\n"
     ]
    },
    {
     "name": "stderr",
     "output_type": "stream",
     "text": [
      "INFO: Lists updated 3 times (every ~333.333333 steps)\n",
      "INFO: Aggregated I/O statistics (set debug=1 for file-wise information)\n",
      "\t  1.183 MB written to files\n",
      "\t 62.000  B written to stdout/stderr\n",
      "\tFor a total of     4.34 MB/s\n",
      "\n"
     ]
    },
    {
     "name": "stdout",
     "output_type": "stream",
     "text": [
      "All queued simulations finished in: 10.50821565501974\n",
      "\u001b[32mProduction simulation for structure 3 completed.\u001b[0m\n",
      "\u001b[36mAll simulations for mutant 3 completed.\n",
      "\u001b[0m\n",
      "\u001b[31mSimulating mutant 4 produced by structure 1\u001b[0m\n",
      "Running: relaxed\n",
      "Run time: 4.893964902992593\n",
      "Finished: relaxed\n"
     ]
    },
    {
     "name": "stderr",
     "output_type": "stream",
     "text": [
      "INFO: Lists updated 2 times (every ~50.000000 steps)\n",
      "INFO: Aggregated I/O statistics (set debug=1 for file-wise information)\n",
      "\t  2.257 MB written to files\n",
      "\t 96.000  B written to stdout/stderr\n",
      "\tFor a total of    0.496 MB/s\n",
      "\n"
     ]
    },
    {
     "name": "stdout",
     "output_type": "stream",
     "text": [
      "All queued simulations finished in: 10.51142210001126\n",
      "\u001b[32mRelaxation simulation for structure 4 completed.\u001b[0m\n",
      "Running: eq\n",
      "Run time: 0.5760587950062472\n",
      "Finished: eq\n"
     ]
    },
    {
     "name": "stderr",
     "output_type": "stream",
     "text": [
      "INFO: Lists updated 3 times (every ~333.333333 steps)\n",
      "INFO: Aggregated I/O statistics (set debug=1 for file-wise information)\n",
      "\t  1.183 MB written to files\n",
      "\t 62.000  B written to stdout/stderr\n",
      "\tFor a total of     4.26 MB/s\n",
      "\n"
     ]
    },
    {
     "name": "stdout",
     "output_type": "stream",
     "text": [
      "All queued simulations finished in: 10.521567087998847\n",
      "\u001b[32mEquilibration simulation for structure 4 completed.\u001b[0m\n",
      "Running: prod\n",
      "Run time: 0.6107352089893539\n",
      "Finished: prod\n"
     ]
    },
    {
     "name": "stderr",
     "output_type": "stream",
     "text": [
      "INFO: Lists updated 4 times (every ~250.000000 steps)\n",
      "INFO: Aggregated I/O statistics (set debug=1 for file-wise information)\n",
      "\t  1.185 MB written to files\n",
      "\t 62.000  B written to stdout/stderr\n",
      "\tFor a total of     3.79 MB/s\n",
      "\n"
     ]
    },
    {
     "name": "stdout",
     "output_type": "stream",
     "text": [
      "All queued simulations finished in: 10.513945669023087\n",
      "\u001b[32mProduction simulation for structure 4 completed.\u001b[0m\n",
      "\u001b[36mAll simulations for mutant 4 completed.\n",
      "\u001b[0m\n",
      "\u001b[31mSimulating mutant 5 produced by structure 1\u001b[0m\n",
      "Running: relaxed\n",
      "Run time: 5.15793287899578\n",
      "Finished: relaxed\n"
     ]
    },
    {
     "name": "stderr",
     "output_type": "stream",
     "text": [
      "INFO: Lists updated 1 times (every ~100.000000 steps)\n",
      "INFO: Aggregated I/O statistics (set debug=1 for file-wise information)\n",
      "\t  2.264 MB written to files\n",
      "\t 96.000  B written to stdout/stderr\n",
      "\tFor a total of     0.47 MB/s\n",
      "\n"
     ]
    },
    {
     "name": "stdout",
     "output_type": "stream",
     "text": [
      "All queued simulations finished in: 10.509164230024908\n",
      "\u001b[32mRelaxation simulation for structure 5 completed.\u001b[0m\n",
      "Running: eq\n",
      "Run time: 0.6132522190164309\n",
      "Finished: eq\n"
     ]
    },
    {
     "name": "stderr",
     "output_type": "stream",
     "text": [
      "INFO: Lists updated 3 times (every ~333.333333 steps)\n",
      "INFO: Aggregated I/O statistics (set debug=1 for file-wise information)\n",
      "\t  1.187 MB written to files\n",
      "\t 62.000  B written to stdout/stderr\n",
      "\tFor a total of     3.78 MB/s\n",
      "\n"
     ]
    },
    {
     "name": "stdout",
     "output_type": "stream",
     "text": [
      "All queued simulations finished in: 10.512920971988933\n",
      "\u001b[32mEquilibration simulation for structure 5 completed.\u001b[0m\n",
      "Running: prod\n",
      "Run time: 0.6909810340148397\n",
      "Finished: prod\n"
     ]
    },
    {
     "name": "stderr",
     "output_type": "stream",
     "text": [
      "INFO: Lists updated 3 times (every ~333.333333 steps)\n",
      "INFO: Aggregated I/O statistics (set debug=1 for file-wise information)\n",
      "\t  1.189 MB written to files\n",
      "\t 62.000  B written to stdout/stderr\n",
      "\tFor a total of     3.15 MB/s\n",
      "\n"
     ]
    },
    {
     "name": "stdout",
     "output_type": "stream",
     "text": [
      "All queued simulations finished in: 10.50872308399994\n",
      "\u001b[32mProduction simulation for structure 5 completed.\u001b[0m\n",
      "\u001b[36mAll simulations for mutant 5 completed.\n",
      "\u001b[0m\n",
      "\u001b[31mSimulating mutant 6 produced by structure 1\u001b[0m\n",
      "Running: relaxed\n",
      "Run time: 5.058253747993149\n",
      "Finished: relaxed\n"
     ]
    },
    {
     "name": "stderr",
     "output_type": "stream",
     "text": [
      "INFO: Aggregated I/O statistics (set debug=1 for file-wise information)\n",
      "\t  2.256 MB written to files\n",
      "\t 96.000  B written to stdout/stderr\n",
      "\tFor a total of    0.481 MB/s\n",
      "\n"
     ]
    },
    {
     "name": "stdout",
     "output_type": "stream",
     "text": [
      "All queued simulations finished in: 10.510808931023348\n",
      "\u001b[32mRelaxation simulation for structure 6 completed.\u001b[0m\n",
      "Running: eq\n",
      "Run time: 0.6015314830001444\n",
      "Finished: eq\n"
     ]
    },
    {
     "name": "stderr",
     "output_type": "stream",
     "text": [
      "INFO: Lists updated 3 times (every ~333.333333 steps)\n",
      "INFO: Aggregated I/O statistics (set debug=1 for file-wise information)\n",
      "\t  1.183 MB written to files\n",
      "\t 62.000  B written to stdout/stderr\n",
      "\tFor a total of     3.69 MB/s\n",
      "\n"
     ]
    },
    {
     "name": "stdout",
     "output_type": "stream",
     "text": [
      "All queued simulations finished in: 10.516775754018454\n",
      "\u001b[32mEquilibration simulation for structure 6 completed.\u001b[0m\n",
      "Running: prod\n",
      "Run time: 0.6071177280100528\n",
      "Finished: prod\n"
     ]
    },
    {
     "name": "stderr",
     "output_type": "stream",
     "text": [
      "INFO: Lists updated 3 times (every ~333.333333 steps)\n",
      "INFO: Aggregated I/O statistics (set debug=1 for file-wise information)\n",
      "\t  1.185 MB written to files\n",
      "\t 62.000  B written to stdout/stderr\n",
      "\tFor a total of     3.86 MB/s\n",
      "\n"
     ]
    },
    {
     "name": "stdout",
     "output_type": "stream",
     "text": [
      "All queued simulations finished in: 10.507329297979595\n",
      "\u001b[32mProduction simulation for structure 6 completed.\u001b[0m\n",
      "\u001b[36mAll simulations for mutant 6 completed.\n",
      "\u001b[0m\n",
      "\u001b[31mSimulating mutant 7 produced by structure 1\u001b[0m\n",
      "Running: relaxed\n",
      "Run time: 4.828456692979671\n",
      "Finished: relaxed\n"
     ]
    },
    {
     "name": "stderr",
     "output_type": "stream",
     "text": [
      "INFO: Lists updated 1 times (every ~100.000000 steps)\n",
      "INFO: Aggregated I/O statistics (set debug=1 for file-wise information)\n",
      "\t  2.257 MB written to files\n",
      "\t 96.000  B written to stdout/stderr\n",
      "\tFor a total of    0.502 MB/s\n",
      "\n"
     ]
    },
    {
     "name": "stdout",
     "output_type": "stream",
     "text": [
      "All queued simulations finished in: 10.51213492199895\n",
      "\u001b[32mRelaxation simulation for structure 7 completed.\u001b[0m\n",
      "Running: eq\n",
      "Run time: 0.6564264240150806\n",
      "Finished: eq\n"
     ]
    },
    {
     "name": "stderr",
     "output_type": "stream",
     "text": [
      "INFO: Lists updated 3 times (every ~333.333333 steps)\n",
      "INFO: Aggregated I/O statistics (set debug=1 for file-wise information)\n",
      "\t  1.183 MB written to files\n",
      "\t 62.000  B written to stdout/stderr\n",
      "\tFor a total of     3.61 MB/s\n",
      "\n"
     ]
    },
    {
     "name": "stdout",
     "output_type": "stream",
     "text": [
      "All queued simulations finished in: 10.508764185011387\n",
      "\u001b[32mEquilibration simulation for structure 7 completed.\u001b[0m\n",
      "Running: prod\n",
      "Run time: 0.6660010080086067\n",
      "Finished: prod\n"
     ]
    },
    {
     "name": "stderr",
     "output_type": "stream",
     "text": [
      "INFO: Lists updated 3 times (every ~333.333333 steps)\n",
      "INFO: Aggregated I/O statistics (set debug=1 for file-wise information)\n",
      "\t  1.185 MB written to files\n",
      "\t 62.000  B written to stdout/stderr\n",
      "\tFor a total of     3.33 MB/s\n",
      "\n"
     ]
    },
    {
     "name": "stdout",
     "output_type": "stream",
     "text": [
      "All queued simulations finished in: 10.51094026400824\n",
      "\u001b[32mProduction simulation for structure 7 completed.\u001b[0m\n",
      "\u001b[36mAll simulations for mutant 7 completed.\n",
      "\u001b[0m\n",
      "\u001b[31mSimulating mutant 8 produced by structure 1\u001b[0m\n",
      "Running: relaxed\n",
      "Run time: 5.008244461991126\n",
      "Finished: relaxed\n"
     ]
    },
    {
     "name": "stderr",
     "output_type": "stream",
     "text": [
      "INFO: Lists updated 1 times (every ~100.000000 steps)\n",
      "INFO: Aggregated I/O statistics (set debug=1 for file-wise information)\n",
      "\t  2.252 MB written to files\n",
      "\t 96.000  B written to stdout/stderr\n",
      "\tFor a total of    0.485 MB/s\n",
      "\n"
     ]
    },
    {
     "name": "stdout",
     "output_type": "stream",
     "text": [
      "All queued simulations finished in: 10.508777707000263\n",
      "\u001b[32mRelaxation simulation for structure 8 completed.\u001b[0m\n",
      "Running: eq\n",
      "Run time: 0.6074275439896155\n",
      "Finished: eq\n"
     ]
    },
    {
     "name": "stderr",
     "output_type": "stream",
     "text": [
      "INFO: Lists updated 3 times (every ~333.333333 steps)\n",
      "INFO: Aggregated I/O statistics (set debug=1 for file-wise information)\n",
      "\t  1.179 MB written to files\n",
      "\t 62.000  B written to stdout/stderr\n",
      "\tFor a total of     3.82 MB/s\n",
      "\n"
     ]
    },
    {
     "name": "stdout",
     "output_type": "stream",
     "text": [
      "All queued simulations finished in: 10.522388736018911\n",
      "\u001b[32mEquilibration simulation for structure 8 completed.\u001b[0m\n",
      "Running: prod\n",
      "Run time: 0.583202800975414\n",
      "Finished: prod\n"
     ]
    },
    {
     "name": "stderr",
     "output_type": "stream",
     "text": [
      "INFO: Lists updated 4 times (every ~250.000000 steps)\n",
      "INFO: Aggregated I/O statistics (set debug=1 for file-wise information)\n",
      "\t  1.182 MB written to files\n",
      "\t 62.000  B written to stdout/stderr\n",
      "\tFor a total of     3.93 MB/s\n",
      "\n"
     ]
    },
    {
     "name": "stdout",
     "output_type": "stream",
     "text": [
      "All queued simulations finished in: 10.512227183004143\n",
      "\u001b[32mProduction simulation for structure 8 completed.\u001b[0m\n",
      "\u001b[36mAll simulations for mutant 8 completed.\n",
      "\u001b[0m\n",
      "\u001b[31mSimulating mutant 9 produced by structure 1\u001b[0m\n",
      "Running: relaxed\n",
      "Run time: 5.219290838984307\n",
      "Finished: relaxed\n"
     ]
    },
    {
     "name": "stderr",
     "output_type": "stream",
     "text": [
      "INFO: Lists updated 1 times (every ~100.000000 steps)\n",
      "INFO: Aggregated I/O statistics (set debug=1 for file-wise information)\n",
      "\t  2.259 MB written to files\n",
      "\t 96.000  B written to stdout/stderr\n",
      "\tFor a total of    0.466 MB/s\n",
      "\n"
     ]
    },
    {
     "name": "stdout",
     "output_type": "stream",
     "text": [
      "All queued simulations finished in: 10.50966176899965\n",
      "\u001b[32mRelaxation simulation for structure 9 completed.\u001b[0m\n",
      "Running: eq\n",
      "Run time: 0.5906036189990118\n",
      "Finished: eq\n"
     ]
    },
    {
     "name": "stderr",
     "output_type": "stream",
     "text": [
      "INFO: Lists updated 3 times (every ~333.333333 steps)\n",
      "INFO: Aggregated I/O statistics (set debug=1 for file-wise information)\n",
      "\t  1.183 MB written to files\n",
      "\t 62.000  B written to stdout/stderr\n",
      "\tFor a total of     3.74 MB/s\n",
      "\n"
     ]
    },
    {
     "name": "stdout",
     "output_type": "stream",
     "text": [
      "All queued simulations finished in: 10.507771021017106\n",
      "\u001b[32mEquilibration simulation for structure 9 completed.\u001b[0m\n",
      "Running: prod\n",
      "Run time: 0.5885738790093455\n",
      "Finished: prod\n"
     ]
    },
    {
     "name": "stderr",
     "output_type": "stream",
     "text": [
      "INFO: Lists updated 3 times (every ~333.333333 steps)\n",
      "INFO: Aggregated I/O statistics (set debug=1 for file-wise information)\n",
      "\t  1.185 MB written to files\n",
      "\t 62.000  B written to stdout/stderr\n",
      "\tFor a total of     3.98 MB/s\n",
      "\n"
     ]
    },
    {
     "name": "stdout",
     "output_type": "stream",
     "text": [
      "All queued simulations finished in: 10.513344940991374\n",
      "\u001b[32mProduction simulation for structure 9 completed.\u001b[0m\n",
      "\u001b[36mAll simulations for mutant 9 completed.\n",
      "\u001b[0m\n",
      "\u001b[31mSimulating mutant 0 produced by structure 1\u001b[0m\n",
      "Running: relaxed\n",
      "Run time: 4.811067192000337\n",
      "Finished: relaxed\n"
     ]
    },
    {
     "name": "stderr",
     "output_type": "stream",
     "text": [
      "INFO: Lists updated 2 times (every ~50.000000 steps)\n",
      "INFO: Aggregated I/O statistics (set debug=1 for file-wise information)\n",
      "\t  2.249 MB written to files\n",
      "\t 96.000  B written to stdout/stderr\n",
      "\tFor a total of    0.502 MB/s\n",
      "\n"
     ]
    },
    {
     "name": "stdout",
     "output_type": "stream",
     "text": [
      "All queued simulations finished in: 10.514710138988448\n",
      "\u001b[32mRelaxation simulation for structure 10 completed.\u001b[0m\n",
      "Running: eq\n",
      "Run time: 0.5924622180173174\n",
      "Finished: eq\n"
     ]
    },
    {
     "name": "stderr",
     "output_type": "stream",
     "text": [
      "INFO: Lists updated 3 times (every ~333.333333 steps)\n",
      "INFO: Aggregated I/O statistics (set debug=1 for file-wise information)\n",
      "\t  1.179 MB written to files\n",
      "\t 62.000  B written to stdout/stderr\n",
      "\tFor a total of     3.85 MB/s\n",
      "\n"
     ]
    },
    {
     "name": "stdout",
     "output_type": "stream",
     "text": [
      "All queued simulations finished in: 10.519790279999143\n",
      "\u001b[32mEquilibration simulation for structure 10 completed.\u001b[0m\n",
      "Running: prod\n",
      "Run time: 0.6449659219942987\n",
      "Finished: prod\n"
     ]
    },
    {
     "name": "stderr",
     "output_type": "stream",
     "text": [
      "INFO: Lists updated 4 times (every ~250.000000 steps)\n",
      "INFO: Aggregated I/O statistics (set debug=1 for file-wise information)\n",
      "\t  1.182 MB written to files\n",
      "\t 62.000  B written to stdout/stderr\n",
      "\tFor a total of     3.58 MB/s\n",
      "\n"
     ]
    },
    {
     "name": "stdout",
     "output_type": "stream",
     "text": [
      "All queued simulations finished in: 10.517699763004202\n",
      "\u001b[32mProduction simulation for structure 10 completed.\u001b[0m\n",
      "\u001b[36mAll simulations for mutant 10 completed.\n",
      "\u001b[0m\n",
      "\u001b[31mSimulating mutant 1 produced by structure 1\u001b[0m\n",
      "Running: relaxed\n",
      "Run time: 5.356889198010322\n",
      "Finished: relaxed\n"
     ]
    },
    {
     "name": "stderr",
     "output_type": "stream",
     "text": [
      "INFO: Lists updated 1 times (every ~100.000000 steps)\n",
      "INFO: Aggregated I/O statistics (set debug=1 for file-wise information)\n",
      "\t  2.257 MB written to files\n",
      "\t 96.000  B written to stdout/stderr\n",
      "\tFor a total of    0.452 MB/s\n",
      "\n"
     ]
    },
    {
     "name": "stdout",
     "output_type": "stream",
     "text": [
      "All queued simulations finished in: 10.508745655999519\n",
      "\u001b[32mRelaxation simulation for structure 11 completed.\u001b[0m\n",
      "Running: eq\n",
      "Run time: 0.6601363030204084\n",
      "Finished: eq\n"
     ]
    },
    {
     "name": "stderr",
     "output_type": "stream",
     "text": [
      "INFO: Lists updated 3 times (every ~333.333333 steps)\n",
      "INFO: Aggregated I/O statistics (set debug=1 for file-wise information)\n",
      "\t  1.183 MB written to files\n",
      "\t 62.000  B written to stdout/stderr\n",
      "\tFor a total of     3.54 MB/s\n",
      "\n"
     ]
    },
    {
     "name": "stdout",
     "output_type": "stream",
     "text": [
      "All queued simulations finished in: 10.509218409017194\n",
      "\u001b[32mEquilibration simulation for structure 11 completed.\u001b[0m\n",
      "Running: prod\n",
      "Run time: 0.6147209919872694\n",
      "Finished: prod\n"
     ]
    },
    {
     "name": "stderr",
     "output_type": "stream",
     "text": [
      "INFO: Lists updated 4 times (every ~250.000000 steps)\n",
      "INFO: Aggregated I/O statistics (set debug=1 for file-wise information)\n",
      "\t  1.185 MB written to files\n",
      "\t 62.000  B written to stdout/stderr\n",
      "\tFor a total of     3.74 MB/s\n",
      "\n"
     ]
    },
    {
     "name": "stdout",
     "output_type": "stream",
     "text": [
      "All queued simulations finished in: 10.510635051992722\n",
      "\u001b[32mProduction simulation for structure 11 completed.\u001b[0m\n",
      "\u001b[36mAll simulations for mutant 11 completed.\n",
      "\u001b[0m\n",
      "\u001b[31mSimulating mutant 2 produced by structure 1\u001b[0m\n",
      "Running: relaxed\n",
      "Run time: 4.541366755001945\n",
      "Finished: relaxed\n"
     ]
    },
    {
     "name": "stderr",
     "output_type": "stream",
     "text": [
      "INFO: Lists updated 1 times (every ~100.000000 steps)\n",
      "INFO: Aggregated I/O statistics (set debug=1 for file-wise information)\n",
      "\t  2.249 MB written to files\n",
      "\t 96.000  B written to stdout/stderr\n",
      "\tFor a total of    0.533 MB/s\n",
      "\n"
     ]
    },
    {
     "name": "stdout",
     "output_type": "stream",
     "text": [
      "All queued simulations finished in: 10.50891705401591\n",
      "\u001b[32mRelaxation simulation for structure 12 completed.\u001b[0m\n",
      "Running: eq\n",
      "Run time: 0.5785491169954184\n",
      "Finished: eq\n"
     ]
    },
    {
     "name": "stderr",
     "output_type": "stream",
     "text": [
      "INFO: Lists updated 3 times (every ~333.333333 steps)\n",
      "INFO: Aggregated I/O statistics (set debug=1 for file-wise information)\n",
      "\t  1.179 MB written to files\n",
      "\t 62.000  B written to stdout/stderr\n",
      "\tFor a total of     3.97 MB/s\n",
      "\n"
     ]
    },
    {
     "name": "stdout",
     "output_type": "stream",
     "text": [
      "All queued simulations finished in: 10.522919116017874\n",
      "\u001b[32mEquilibration simulation for structure 12 completed.\u001b[0m\n",
      "Running: prod\n",
      "Run time: 0.5831715569947846\n",
      "Finished: prod\n"
     ]
    },
    {
     "name": "stderr",
     "output_type": "stream",
     "text": [
      "INFO: Lists updated 3 times (every ~333.333333 steps)\n",
      "INFO: Aggregated I/O statistics (set debug=1 for file-wise information)\n",
      "\t  1.182 MB written to files\n",
      "\t 62.000  B written to stdout/stderr\n",
      "\tFor a total of     4.03 MB/s\n",
      "\n"
     ]
    },
    {
     "name": "stdout",
     "output_type": "stream",
     "text": [
      "All queued simulations finished in: 10.520901898999\n",
      "\u001b[32mProduction simulation for structure 12 completed.\u001b[0m\n",
      "\u001b[36mAll simulations for mutant 12 completed.\n",
      "\u001b[0m\n",
      "\u001b[31mSimulating mutant 3 produced by structure 1\u001b[0m\n",
      "Running: relaxed\n",
      "Run time: 4.546261142008007\n",
      "Finished: relaxed\n"
     ]
    },
    {
     "name": "stderr",
     "output_type": "stream",
     "text": [
      "INFO: Lists updated 1 times (every ~100.000000 steps)\n",
      "INFO: Aggregated I/O statistics (set debug=1 for file-wise information)\n",
      "\t  2.248 MB written to files\n",
      "\t 96.000  B written to stdout/stderr\n",
      "\tFor a total of    0.532 MB/s\n",
      "\n"
     ]
    },
    {
     "name": "stdout",
     "output_type": "stream",
     "text": [
      "All queued simulations finished in: 10.512402776017552\n",
      "\u001b[32mRelaxation simulation for structure 13 completed.\u001b[0m\n",
      "Running: eq\n",
      "Run time: 0.5689101589960046\n",
      "Finished: eq\n"
     ]
    },
    {
     "name": "stderr",
     "output_type": "stream",
     "text": [
      "INFO: Lists updated 3 times (every ~333.333333 steps)\n",
      "INFO: Aggregated I/O statistics (set debug=1 for file-wise information)\n",
      "\t  1.179 MB written to files\n",
      "\t 62.000  B written to stdout/stderr\n",
      "\tFor a total of     3.99 MB/s\n",
      "\n"
     ]
    },
    {
     "name": "stdout",
     "output_type": "stream",
     "text": [
      "All queued simulations finished in: 10.521565731003648\n",
      "\u001b[32mEquilibration simulation for structure 13 completed.\u001b[0m\n",
      "Running: prod\n",
      "Run time: 0.5759539720020257\n",
      "Finished: prod\n"
     ]
    },
    {
     "name": "stderr",
     "output_type": "stream",
     "text": [
      "INFO: Lists updated 4 times (every ~250.000000 steps)\n",
      "INFO: Aggregated I/O statistics (set debug=1 for file-wise information)\n",
      "\t  1.182 MB written to files\n",
      "\t 62.000  B written to stdout/stderr\n",
      "\tFor a total of     3.96 MB/s\n",
      "\n"
     ]
    },
    {
     "name": "stdout",
     "output_type": "stream",
     "text": [
      "All queued simulations finished in: 10.522022124001523\n",
      "\u001b[32mProduction simulation for structure 13 completed.\u001b[0m\n",
      "\u001b[36mAll simulations for mutant 13 completed.\n",
      "\u001b[0m\n",
      "\u001b[31mSimulating mutant 4 produced by structure 1\u001b[0m\n",
      "Running: relaxed\n",
      "Run time: 4.42829252500087\n",
      "Finished: relaxed\n"
     ]
    },
    {
     "name": "stderr",
     "output_type": "stream",
     "text": [
      "INFO: Aggregated I/O statistics (set debug=1 for file-wise information)\n",
      "\t  2.242 MB written to files\n",
      "\t 96.000  B written to stdout/stderr\n",
      "\tFor a total of    0.547 MB/s\n",
      "\n"
     ]
    },
    {
     "name": "stdout",
     "output_type": "stream",
     "text": [
      "All queued simulations finished in: 10.51069639599882\n",
      "\u001b[32mRelaxation simulation for structure 14 completed.\u001b[0m\n",
      "Running: eq\n",
      "Run time: 0.5903923840087373\n",
      "Finished: eq\n"
     ]
    },
    {
     "name": "stderr",
     "output_type": "stream",
     "text": [
      "INFO: Lists updated 3 times (every ~333.333333 steps)\n",
      "INFO: Aggregated I/O statistics (set debug=1 for file-wise information)\n",
      "\t  1.175 MB written to files\n",
      "\t 62.000  B written to stdout/stderr\n",
      "\tFor a total of     3.91 MB/s\n",
      "\n"
     ]
    },
    {
     "name": "stdout",
     "output_type": "stream",
     "text": [
      "All queued simulations finished in: 10.51827428600518\n",
      "\u001b[32mEquilibration simulation for structure 14 completed.\u001b[0m\n",
      "Running: prod\n",
      "Run time: 0.5811813969921786\n",
      "Finished: prod\n"
     ]
    },
    {
     "name": "stderr",
     "output_type": "stream",
     "text": [
      "INFO: Lists updated 3 times (every ~333.333333 steps)\n",
      "INFO: Aggregated I/O statistics (set debug=1 for file-wise information)\n",
      "\t  1.178 MB written to files\n",
      "\t 62.000  B written to stdout/stderr\n",
      "\tFor a total of     3.97 MB/s\n",
      "\n"
     ]
    },
    {
     "name": "stdout",
     "output_type": "stream",
     "text": [
      "All queued simulations finished in: 10.508310509001603\n",
      "\u001b[32mProduction simulation for structure 14 completed.\u001b[0m\n",
      "\u001b[36mAll simulations for mutant 14 completed.\n",
      "\u001b[0m\n",
      "\u001b[31mSimulating mutant 5 produced by structure 1\u001b[0m\n",
      "Running: relaxed\n",
      "Run time: 4.451499132992467\n",
      "Finished: relaxed\n"
     ]
    },
    {
     "name": "stderr",
     "output_type": "stream",
     "text": [
      "INFO: Aggregated I/O statistics (set debug=1 for file-wise information)\n",
      "\t  2.250 MB written to files\n",
      "\t 96.000  B written to stdout/stderr\n",
      "\tFor a total of    0.547 MB/s\n",
      "\n"
     ]
    },
    {
     "name": "stdout",
     "output_type": "stream",
     "text": [
      "All queued simulations finished in: 10.509004477004055\n",
      "\u001b[32mRelaxation simulation for structure 15 completed.\u001b[0m\n",
      "Running: eq\n",
      "Run time: 0.6266951999859884\n",
      "Finished: eq\n"
     ]
    },
    {
     "name": "stderr",
     "output_type": "stream",
     "text": [
      "INFO: Lists updated 3 times (every ~333.333333 steps)\n",
      "INFO: Aggregated I/O statistics (set debug=1 for file-wise information)\n",
      "\t  1.179 MB written to files\n",
      "\t 62.000  B written to stdout/stderr\n",
      "\tFor a total of     3.63 MB/s\n",
      "\n"
     ]
    },
    {
     "name": "stdout",
     "output_type": "stream",
     "text": [
      "All queued simulations finished in: 10.523718965006992\n",
      "\u001b[32mEquilibration simulation for structure 15 completed.\u001b[0m\n",
      "Running: prod\n",
      "Run time: 0.5781459200079553\n",
      "Finished: prod\n"
     ]
    },
    {
     "name": "stderr",
     "output_type": "stream",
     "text": [
      "INFO: Lists updated 3 times (every ~333.333333 steps)\n",
      "INFO: Aggregated I/O statistics (set debug=1 for file-wise information)\n",
      "\t  1.182 MB written to files\n",
      "\t 62.000  B written to stdout/stderr\n",
      "\tFor a total of     4.16 MB/s\n",
      "\n"
     ]
    },
    {
     "name": "stdout",
     "output_type": "stream",
     "text": [
      "All queued simulations finished in: 10.512719902995741\n",
      "\u001b[32mProduction simulation for structure 15 completed.\u001b[0m\n",
      "\u001b[36mAll simulations for mutant 15 completed.\n",
      "\u001b[0m\n",
      "\u001b[31mSimulating mutant 6 produced by structure 1\u001b[0m\n",
      "Running: relaxed\n",
      "Run time: 4.377779775008094\n",
      "Finished: relaxed\n"
     ]
    },
    {
     "name": "stderr",
     "output_type": "stream",
     "text": [
      "INFO: Aggregated I/O statistics (set debug=1 for file-wise information)\n",
      "\t  2.252 MB written to files\n",
      "\t 96.000  B written to stdout/stderr\n",
      "\tFor a total of    0.555 MB/s\n",
      "\n"
     ]
    },
    {
     "name": "stdout",
     "output_type": "stream",
     "text": [
      "All queued simulations finished in: 10.508821028022794\n",
      "\u001b[32mRelaxation simulation for structure 16 completed.\u001b[0m\n",
      "Running: eq\n",
      "Run time: 0.557401731988648\n",
      "Finished: eq\n"
     ]
    },
    {
     "name": "stderr",
     "output_type": "stream",
     "text": [
      "INFO: Lists updated 3 times (every ~333.333333 steps)\n",
      "INFO: Aggregated I/O statistics (set debug=1 for file-wise information)\n",
      "\t  1.181 MB written to files\n",
      "\t 62.000  B written to stdout/stderr\n",
      "\tFor a total of     4.19 MB/s\n",
      "\n"
     ]
    },
    {
     "name": "stdout",
     "output_type": "stream",
     "text": [
      "All queued simulations finished in: 10.507881379016908\n",
      "\u001b[32mEquilibration simulation for structure 16 completed.\u001b[0m\n",
      "Running: prod\n",
      "Run time: 0.5479668249899987\n",
      "Finished: prod\n"
     ]
    },
    {
     "name": "stderr",
     "output_type": "stream",
     "text": [
      "INFO: Lists updated 3 times (every ~333.333333 steps)\n",
      "INFO: Aggregated I/O statistics (set debug=1 for file-wise information)\n",
      "\t  1.184 MB written to files\n",
      "\t 62.000  B written to stdout/stderr\n",
      "\tFor a total of     4.31 MB/s\n",
      "\n"
     ]
    },
    {
     "name": "stdout",
     "output_type": "stream",
     "text": [
      "All queued simulations finished in: 10.510760256001959\n",
      "\u001b[32mProduction simulation for structure 16 completed.\u001b[0m\n",
      "\u001b[36mAll simulations for mutant 16 completed.\n",
      "\u001b[0m\n",
      "\u001b[31mSimulating mutant 7 produced by structure 1\u001b[0m\n",
      "Running: relaxed\n",
      "Run time: 4.796499344985932\n",
      "Finished: relaxed\n"
     ]
    },
    {
     "name": "stderr",
     "output_type": "stream",
     "text": [
      "INFO: Lists updated 1 times (every ~100.000000 steps)\n",
      "INFO: Aggregated I/O statistics (set debug=1 for file-wise information)\n",
      "\t  2.247 MB written to files\n",
      "\t 96.000  B written to stdout/stderr\n",
      "\tFor a total of    0.505 MB/s\n",
      "\n"
     ]
    },
    {
     "name": "stdout",
     "output_type": "stream",
     "text": [
      "All queued simulations finished in: 10.508435983996606\n",
      "\u001b[32mRelaxation simulation for structure 17 completed.\u001b[0m\n",
      "Running: eq\n",
      "Run time: 0.61808998597553\n",
      "Finished: eq\n"
     ]
    },
    {
     "name": "stderr",
     "output_type": "stream",
     "text": [
      "INFO: Lists updated 4 times (every ~250.000000 steps)\n",
      "INFO: Aggregated I/O statistics (set debug=1 for file-wise information)\n",
      "\t  1.178 MB written to files\n",
      "\t 62.000  B written to stdout/stderr\n",
      "\tFor a total of     3.69 MB/s\n",
      "\n"
     ]
    },
    {
     "name": "stdout",
     "output_type": "stream",
     "text": [
      "All queued simulations finished in: 10.510667221999029\n",
      "\u001b[32mEquilibration simulation for structure 17 completed.\u001b[0m\n",
      "Running: prod\n",
      "Run time: 0.5564163369999733\n",
      "Finished: prod\n"
     ]
    },
    {
     "name": "stderr",
     "output_type": "stream",
     "text": [
      "INFO: Lists updated 3 times (every ~333.333333 steps)\n",
      "INFO: Aggregated I/O statistics (set debug=1 for file-wise information)\n",
      "\t  1.180 MB written to files\n",
      "\t 62.000  B written to stdout/stderr\n",
      "\tFor a total of     4.17 MB/s\n",
      "\n"
     ]
    },
    {
     "name": "stdout",
     "output_type": "stream",
     "text": [
      "All queued simulations finished in: 10.51861272501992\n",
      "\u001b[32mProduction simulation for structure 17 completed.\u001b[0m\n",
      "\u001b[36mAll simulations for mutant 17 completed.\n",
      "\u001b[0m\n",
      "\u001b[31mSimulating mutant 8 produced by structure 1\u001b[0m\n",
      "Running: relaxed\n",
      "Run time: 4.513100701995427\n",
      "Finished: relaxed\n"
     ]
    },
    {
     "name": "stderr",
     "output_type": "stream",
     "text": [
      "INFO: Aggregated I/O statistics (set debug=1 for file-wise information)\n",
      "\t  2.252 MB written to files\n",
      "\t 96.000  B written to stdout/stderr\n",
      "\tFor a total of    0.537 MB/s\n",
      "\n"
     ]
    },
    {
     "name": "stdout",
     "output_type": "stream",
     "text": [
      "All queued simulations finished in: 10.509536794008454\n",
      "\u001b[32mRelaxation simulation for structure 18 completed.\u001b[0m\n",
      "Running: eq\n",
      "Run time: 0.6074009010044392\n",
      "Finished: eq\n"
     ]
    },
    {
     "name": "stderr",
     "output_type": "stream",
     "text": [
      "INFO: Lists updated 3 times (every ~333.333333 steps)\n",
      "INFO: Aggregated I/O statistics (set debug=1 for file-wise information)\n",
      "\t  1.181 MB written to files\n",
      "\t 62.000  B written to stdout/stderr\n",
      "\tFor a total of     3.82 MB/s\n",
      "\n"
     ]
    },
    {
     "name": "stdout",
     "output_type": "stream",
     "text": [
      "All queued simulations finished in: 10.513105149992043\n",
      "\u001b[32mEquilibration simulation for structure 18 completed.\u001b[0m\n",
      "Running: prod\n",
      "Run time: 0.5802921330032405\n",
      "Finished: prod\n"
     ]
    },
    {
     "name": "stderr",
     "output_type": "stream",
     "text": [
      "INFO: Lists updated 3 times (every ~333.333333 steps)\n",
      "INFO: Aggregated I/O statistics (set debug=1 for file-wise information)\n",
      "\t  1.183 MB written to files\n",
      "\t 62.000  B written to stdout/stderr\n",
      "\tFor a total of     4.14 MB/s\n",
      "\n"
     ]
    },
    {
     "name": "stdout",
     "output_type": "stream",
     "text": [
      "All queued simulations finished in: 10.518725120986346\n",
      "\u001b[32mProduction simulation for structure 18 completed.\u001b[0m\n",
      "\u001b[36mAll simulations for mutant 18 completed.\n",
      "\u001b[0m\n",
      "\u001b[31mSimulating mutant 9 produced by structure 1\u001b[0m\n",
      "Running: relaxed\n",
      "Run time: 4.417262827977538\n",
      "Finished: relaxed\n"
     ]
    },
    {
     "name": "stderr",
     "output_type": "stream",
     "text": [
      "INFO: Lists updated 1 times (every ~100.000000 steps)\n",
      "INFO: Aggregated I/O statistics (set debug=1 for file-wise information)\n",
      "\t  2.245 MB written to files\n",
      "\t 96.000  B written to stdout/stderr\n",
      "\tFor a total of    0.546 MB/s\n",
      "\n"
     ]
    },
    {
     "name": "stdout",
     "output_type": "stream",
     "text": [
      "All queued simulations finished in: 10.509359104995383\n",
      "\u001b[32mRelaxation simulation for structure 19 completed.\u001b[0m\n",
      "Running: eq\n",
      "Run time: 0.5524507549998816\n",
      "Finished: eq\n"
     ]
    },
    {
     "name": "stderr",
     "output_type": "stream",
     "text": [
      "INFO: Lists updated 3 times (every ~333.333333 steps)\n",
      "INFO: Aggregated I/O statistics (set debug=1 for file-wise information)\n",
      "\t  1.177 MB written to files\n",
      "\t 62.000  B written to stdout/stderr\n",
      "\tFor a total of     4.11 MB/s\n",
      "\n"
     ]
    },
    {
     "name": "stdout",
     "output_type": "stream",
     "text": [
      "All queued simulations finished in: 10.525199339987012\n",
      "\u001b[32mEquilibration simulation for structure 19 completed.\u001b[0m\n",
      "Running: prod\n",
      "Run time: 0.5737075099896174\n",
      "Finished: prod\n"
     ]
    },
    {
     "name": "stderr",
     "output_type": "stream",
     "text": [
      "INFO: Lists updated 3 times (every ~333.333333 steps)\n",
      "INFO: Aggregated I/O statistics (set debug=1 for file-wise information)\n",
      "\t  1.180 MB written to files\n",
      "\t 62.000  B written to stdout/stderr\n",
      "\tFor a total of     4.16 MB/s\n",
      "\n"
     ]
    },
    {
     "name": "stdout",
     "output_type": "stream",
     "text": [
      "All queued simulations finished in: 10.523272135993466\n",
      "\u001b[32mProduction simulation for structure 19 completed.\u001b[0m\n",
      "\u001b[36mAll simulations for mutant 19 completed.\n",
      "\u001b[0m\n",
      "\u001b[36mStep 5: Measuring the angle at the joint for each mutant after simulation...\u001b[0m\n",
      "\u001b[35mMeasured bend angle for structure 0: 168.78336772651082 degrees.\u001b[0m\n",
      "\u001b[35mMeasured bend angle for structure 1: 174.54638601569354 degrees.\u001b[0m\n",
      "\u001b[35mMeasured bend angle for structure 2: 177.05743048174074 degrees.\u001b[0m\n"
     ]
    },
    {
     "name": "stderr",
     "output_type": "stream",
     "text": [
      "INFO: Processed 0 / 1 confs\r"
     ]
    },
    {
     "name": "stdout",
     "output_type": "stream",
     "text": [
      "\u001b[35mMeasured bend angle for structure 3: 173.50243106879236 degrees.\u001b[0m\n",
      "\u001b[35mMeasured bend angle for structure 4: 162.2378974351501 degrees.\u001b[0m\n",
      "\u001b[35mMeasured bend angle for structure 5: 168.92354069539934 degrees.\u001b[0m\n",
      "\u001b[35mMeasured bend angle for structure 6: 168.2146150737041 degrees.\u001b[0m\n",
      "\u001b[35mMeasured bend angle for structure 7: 173.34812013816122 degrees.\u001b[0m\n"
     ]
    },
    {
     "name": "stderr",
     "output_type": "stream",
     "text": [
      "INFO: Processed 0 / 1 confs\r"
     ]
    },
    {
     "name": "stdout",
     "output_type": "stream",
     "text": [
      "\u001b[35mMeasured bend angle for structure 8: 165.0142064278913 degrees.\u001b[0m\n",
      "\u001b[35mMeasured bend angle for structure 9: 164.84380564134406 degrees.\u001b[0m\n",
      "\u001b[35mMeasured bend angle for structure 10: 177.53308397666902 degrees.\u001b[0m\n",
      "\u001b[35mMeasured bend angle for structure 11: 173.27545188757549 degrees.\u001b[0m\n",
      "\u001b[35mMeasured bend angle for structure 12: 169.87798082280767 degrees.\u001b[0m\n"
     ]
    },
    {
     "name": "stderr",
     "output_type": "stream",
     "text": [
      "INFO: Processed 0 / 1 confs\r"
     ]
    },
    {
     "name": "stdout",
     "output_type": "stream",
     "text": [
      "\u001b[35mMeasured bend angle for structure 13: 174.23357592794986 degrees.\u001b[0m\n",
      "\u001b[35mMeasured bend angle for structure 14: 168.2416722374977 degrees.\u001b[0m\n",
      "\u001b[35mMeasured bend angle for structure 15: 165.85441079088142 degrees.\u001b[0m\n",
      "\u001b[35mMeasured bend angle for structure 16: 174.16570733039015 degrees.\u001b[0m\n",
      "\u001b[35mMeasured bend angle for structure 17: 168.058365496313 degrees.\u001b[0m\n"
     ]
    },
    {
     "name": "stderr",
     "output_type": "stream",
     "text": [
      "INFO: Processed 0 / 1 confs\r"
     ]
    },
    {
     "name": "stdout",
     "output_type": "stream",
     "text": [
      "\u001b[35mMeasured bend angle for structure 18: 172.3619738448448 degrees.\u001b[0m\n",
      "\u001b[35mMeasured bend angle for structure 19: 170.38016490562376 degrees.\u001b[0m\n",
      "\u001b[33mStep 6: Evaluating fitness of mutants...\u001b[0m\n",
      "\u001b[32mFitness scores: [68.78336772651082, 74.54638601569354, 77.05743048174074, 73.50243106879236, 62.2378974351501, 68.92354069539934, 68.2146150737041, 73.34812013816122, 65.01420642789131, 64.84380564134406, 77.53308397666902, 73.27545188757549, 69.87798082280767, 74.23357592794986, 68.24167223749771, 65.85441079088142, 74.16570733039015, 68.058365496313, 72.36197384484481, 70.38016490562376]\u001b[0m\n",
      "\u001b[34mStep 7: Selecting the best mutants based on fitness scores...\u001b[0m\n",
      "\u001b[36mResults for all structures:\u001b[0m\n",
      "\u001b[35mStructure ID: 4, Bend Angle: 162.2378974351501, Fitness Score: 62.2378974351501\u001b[0m\n",
      "\u001b[35mStructure ID: 9, Bend Angle: 164.84380564134406, Fitness Score: 64.84380564134406\u001b[0m\n",
      "\u001b[35mStructure ID: 8, Bend Angle: 165.0142064278913, Fitness Score: 65.01420642789131\u001b[0m\n",
      "\u001b[35mStructure ID: 15, Bend Angle: 165.85441079088142, Fitness Score: 65.85441079088142\u001b[0m\n",
      "\u001b[35mStructure ID: 17, Bend Angle: 168.058365496313, Fitness Score: 68.058365496313\u001b[0m\n",
      "\u001b[35mStructure ID: 6, Bend Angle: 168.2146150737041, Fitness Score: 68.2146150737041\u001b[0m\n",
      "\u001b[35mStructure ID: 14, Bend Angle: 168.2416722374977, Fitness Score: 68.24167223749771\u001b[0m\n",
      "\u001b[35mStructure ID: 0, Bend Angle: 168.78336772651082, Fitness Score: 68.78336772651082\u001b[0m\n",
      "\u001b[35mStructure ID: 5, Bend Angle: 168.92354069539934, Fitness Score: 68.92354069539934\u001b[0m\n",
      "\u001b[35mStructure ID: 12, Bend Angle: 169.87798082280767, Fitness Score: 69.87798082280767\u001b[0m\n",
      "\u001b[35mStructure ID: 19, Bend Angle: 170.38016490562376, Fitness Score: 70.38016490562376\u001b[0m\n",
      "\u001b[35mStructure ID: 18, Bend Angle: 172.3619738448448, Fitness Score: 72.36197384484481\u001b[0m\n",
      "\u001b[35mStructure ID: 11, Bend Angle: 173.27545188757549, Fitness Score: 73.27545188757549\u001b[0m\n",
      "\u001b[35mStructure ID: 7, Bend Angle: 173.34812013816122, Fitness Score: 73.34812013816122\u001b[0m\n",
      "\u001b[35mStructure ID: 3, Bend Angle: 173.50243106879236, Fitness Score: 73.50243106879236\u001b[0m\n",
      "\u001b[35mStructure ID: 16, Bend Angle: 174.16570733039015, Fitness Score: 74.16570733039015\u001b[0m\n",
      "\u001b[35mStructure ID: 13, Bend Angle: 174.23357592794986, Fitness Score: 74.23357592794986\u001b[0m\n",
      "\u001b[35mStructure ID: 1, Bend Angle: 174.54638601569354, Fitness Score: 74.54638601569354\u001b[0m\n",
      "\u001b[35mStructure ID: 2, Bend Angle: 177.05743048174074, Fitness Score: 77.05743048174074\u001b[0m\n",
      "\u001b[35mStructure ID: 10, Bend Angle: 177.53308397666902, Fitness Score: 77.53308397666902\u001b[0m\n",
      "\u001b[33mSelected the best 5 mutants:\u001b[0m\n",
      "\u001b[31mSelected Structure 1: Structure ID: 4, Bend Angle: 162.2378974351501, Fitness Score: 62.2378974351501\u001b[0m\n",
      "\u001b[31mSelected Structure 2: Structure ID: 9, Bend Angle: 164.84380564134406, Fitness Score: 64.84380564134406\u001b[0m\n",
      "\u001b[31mSelected Structure 3: Structure ID: 8, Bend Angle: 165.0142064278913, Fitness Score: 65.01420642789131\u001b[0m\n",
      "\u001b[31mSelected Structure 4: Structure ID: 15, Bend Angle: 165.85441079088142, Fitness Score: 65.85441079088142\u001b[0m\n",
      "\u001b[31mSelected Structure 5: Structure ID: 17, Bend Angle: 168.058365496313, Fitness Score: 68.058365496313\u001b[0m\n",
      "\u001b[32mStep 8: Storing the removed staples info for the best mutants...\u001b[0m\n",
      "\u001b[34mStructure ID: (4, 162.2378974351501) - For structure_0, staples with the indexes 66, 24, 25 were removed.\u001b[0m\n",
      "\u001b[36mRemoved bases: [4416, 4417, 4418, 4419, 4420, 4421, 4422, 4423, 4424, 4425, 4426, 4427, 4428, 4429, 4430, 4431, 4432, 4433, 4434, 4435, 4436, 3059, 3060, 3061, 3062, 3063, 3064, 3065, 3066, 3067, 3068, 3069, 3070, 3071, 3072, 3073, 3074, 3075, 3076, 3077, 3078, 3079, 3080, 3081, 3082, 3083, 3084, 3085, 3086, 3087, 3088, 3089, 3090, 3091, 3092, 3093, 3094, 3095, 3096, 3097, 3098, 3099, 3100, 3101, 3102, 3103, 3104, 3105, 3106, 3107, 3108, 3109, 3110, 3111, 3112, 3113, 3114, 3115, 3116, 3117, 3118, 3119, 3120, 3121, 3122, 3123, 3124, 3125, 3126, 3127, 3128]\u001b[0m\n",
      "\u001b[34mStructure ID: (9, 164.84380564134406) - For structure_0, staples with the indexes 66, 26, 27 were removed.\u001b[0m\n",
      "\u001b[36mRemoved bases: [4416, 4417, 4418, 4419, 4420, 4421, 4422, 4423, 4424, 4425, 4426, 4427, 4428, 4429, 4430, 4431, 4432, 4433, 4434, 4435, 4436, 3129, 3130, 3131, 3132, 3133, 3134, 3135, 3136, 3137, 3138, 3139, 3140, 3141, 3142, 3143, 3144, 3145, 3146, 3147, 3148, 3149, 3150, 3151, 3152, 3153, 3154, 3155, 3156, 3157, 3158, 3159, 3160, 3161, 3162, 3163, 3164, 3165, 3166, 3167, 3168, 3169, 3170, 3171, 3172, 3173, 3174, 3175, 3176, 3177, 3178, 3179, 3180, 3181, 3182, 3183, 3184, 3185, 3186, 3187, 3188, 3189, 3190, 3191, 3192, 3193, 3194, 3195, 3196, 3197, 3198]\u001b[0m\n",
      "\u001b[34mStructure ID: (8, 165.0142064278913) - For structure_0, staples with the indexes 66, 25, 27 were removed.\u001b[0m\n",
      "\u001b[36mRemoved bases: [4416, 4417, 4418, 4419, 4420, 4421, 4422, 4423, 4424, 4425, 4426, 4427, 4428, 4429, 4430, 4431, 4432, 4433, 4434, 4435, 4436, 3087, 3088, 3089, 3090, 3091, 3092, 3093, 3094, 3095, 3096, 3097, 3098, 3099, 3100, 3101, 3102, 3103, 3104, 3105, 3106, 3107, 3108, 3109, 3110, 3111, 3112, 3113, 3114, 3115, 3116, 3117, 3118, 3119, 3120, 3121, 3122, 3123, 3124, 3125, 3126, 3127, 3128, 3157, 3158, 3159, 3160, 3161, 3162, 3163, 3164, 3165, 3166, 3167, 3168, 3169, 3170, 3171, 3172, 3173, 3174, 3175, 3176, 3177, 3178, 3179, 3180, 3181, 3182, 3183, 3184, 3185, 3186, 3187, 3188, 3189, 3190, 3191, 3192, 3193, 3194, 3195, 3196, 3197, 3198]\u001b[0m\n",
      "\u001b[34mStructure ID: (15, 165.85441079088142) - For structure_0, staples with the indexes 50, 26, 27 were removed.\u001b[0m\n",
      "\u001b[36mRemoved bases: [3996, 3997, 3998, 3999, 4000, 4001, 4002, 4003, 4004, 4005, 4006, 4007, 4008, 4009, 4010, 4011, 4012, 4013, 4014, 4015, 4016, 4017, 4018, 4019, 4020, 4021, 4022, 4023, 4024, 4025, 4026, 4027, 4028, 4029, 4030, 3129, 3130, 3131, 3132, 3133, 3134, 3135, 3136, 3137, 3138, 3139, 3140, 3141, 3142, 3143, 3144, 3145, 3146, 3147, 3148, 3149, 3150, 3151, 3152, 3153, 3154, 3155, 3156, 3157, 3158, 3159, 3160, 3161, 3162, 3163, 3164, 3165, 3166, 3167, 3168, 3169, 3170, 3171, 3172, 3173, 3174, 3175, 3176, 3177, 3178, 3179, 3180, 3181, 3182, 3183, 3184, 3185, 3186, 3187, 3188, 3189, 3190, 3191, 3192, 3193, 3194, 3195, 3196, 3197, 3198]\u001b[0m\n",
      "\u001b[34mStructure ID: (17, 168.058365496313) - For structure_0, staples with the indexes 24, 25, 27 were removed.\u001b[0m\n",
      "\u001b[36mRemoved bases: [3059, 3060, 3061, 3062, 3063, 3064, 3065, 3066, 3067, 3068, 3069, 3070, 3071, 3072, 3073, 3074, 3075, 3076, 3077, 3078, 3079, 3080, 3081, 3082, 3083, 3084, 3085, 3086, 3087, 3088, 3089, 3090, 3091, 3092, 3093, 3094, 3095, 3096, 3097, 3098, 3099, 3100, 3101, 3102, 3103, 3104, 3105, 3106, 3107, 3108, 3109, 3110, 3111, 3112, 3113, 3114, 3115, 3116, 3117, 3118, 3119, 3120, 3121, 3122, 3123, 3124, 3125, 3126, 3127, 3128, 3157, 3158, 3159, 3160, 3161, 3162, 3163, 3164, 3165, 3166, 3167, 3168, 3169, 3170, 3171, 3172, 3173, 3174, 3175, 3176, 3177, 3178, 3179, 3180, 3181, 3182, 3183, 3184, 3185, 3186, 3187, 3188, 3189, 3190, 3191, 3192, 3193, 3194, 3195, 3196, 3197, 3198]\u001b[0m\n",
      "\u001b[33mStep 9: Updating the current structures with the best mutants for the next iteration...\u001b[0m\n",
      "\u001b[36mLeft indices for structure 1: [0, 1, 2, 3, 4, 5, 6, 7, 8, 9, 10, 11, 12, 13, 14, 15, 16, 17, 18, 19, 151, 152, 153, 154, 155, 156, 157, 158, 159, 160, 161, 162, 163, 164, 165, 166, 167, 168, 169, 170, 171, 172, 173, 174, 175, 176, 177, 178, 179, 180, 181, 182, 183, 184, 185, 186, 187, 188, 189, 190, 191, 192, 193, 194, 195, 196, 197, 198, 199, 200, 201, 202, 203, 204, 205, 206, 207, 208, 209, 210, 211, 212, 213, 214, 215, 216, 217, 218, 219, 220, 221, 222, 223, 224, 225, 226, 227, 228, 229, 230, 231, 232, 233, 234, 235, 236, 237, 238, 239, 240, 241, 242, 243, 244, 245, 246, 247, 248, 249, 250, 251, 252, 253, 254, 255, 256, 257, 258, 259, 260, 261, 262, 263, 264, 265, 266, 267, 268, 269, 270, 271, 272, 273, 274, 275, 276, 277, 278, 279, 280, 281, 282, 283, 284, 285, 286, 287, 288, 289, 290, 291, 292, 293, 294, 295, 296, 297, 298, 299, 300, 525, 526, 527, 528, 529, 530, 531, 532, 533, 534, 535, 536, 537, 538, 539, 540, 541, 542, 543, 544, 545, 546, 547, 548, 549, 550, 551, 552, 553, 554, 555, 556, 557, 558, 559, 560, 561, 562, 563, 564, 565, 566, 567, 568, 569, 570, 571, 572, 573, 574, 575, 576, 577, 578, 579, 580, 581, 582, 583, 584, 585, 586, 587, 588, 589, 590, 591, 592, 593, 594, 595, 596, 597, 598, 599, 600, 601, 602, 603, 604, 605, 606, 607, 608, 609, 610, 611, 612, 613, 614, 615, 616, 617, 618, 619, 620, 621, 622, 623, 624, 625, 626, 627, 628, 629, 630, 631, 632, 633, 634, 635, 636, 637, 638, 639, 640, 641, 642, 643, 644, 645, 646, 647, 648, 649, 650, 651, 652, 653, 654, 655, 656, 657, 658, 659, 660, 661, 662, 663, 664, 665, 666, 667, 668, 669, 670, 671, 672, 673, 674, 675, 676, 677, 678, 679, 680, 681, 682, 683, 684, 2028, 2029, 2030, 2031, 2032, 2033, 2034, 2035, 2036, 2037, 2038, 2039, 2040, 2041, 2042, 2043, 2044, 2045, 2046, 2047, 2048, 2049, 2050, 2051, 2052, 2053, 2054, 2055, 2056, 2057, 2058, 2059, 2060, 2061, 2062, 2063, 2064, 2065, 2066, 2067, 2068, 2069, 2070, 2071, 2072, 2073, 2074, 2075, 2076, 2077, 2078, 2079, 2080, 2081, 2082, 2083, 2084, 2085, 2086, 2087, 2088, 2089, 2090, 2091, 2092, 2093, 2094, 2095, 2096, 2097, 2098, 2099, 2100, 2101, 2102, 2103, 2104, 2105, 2106, 2107, 2108, 2109, 2110, 2111, 2112, 2113, 2114, 2115, 2116, 2117, 2118, 2119, 2120, 2121, 2122, 2123, 2124, 2125, 2126, 2127, 2128, 2129, 2130, 2131, 2132, 2133, 2134, 2135, 2136, 2137, 2138, 2139, 2140, 2141, 2142, 2143, 2144, 2145, 2146, 2147, 2148, 2149, 2150, 2151, 2152, 2153, 2154, 2155, 2156, 2157, 2158, 2159, 2160, 2161, 2162, 2163, 2164, 2165, 2166, 2167, 2168, 2169, 2170, 2171, 2172, 2173, 2174, 2175, 2176, 2177, 2178, 2179, 2180, 2181, 2182, 2183, 2184, 2185, 2186, 2187, 2188, 2189, 2190, 2191, 2192, 2193, 2194, 2195, 2196, 2197, 2198, 2199, 2200, 2201, 2202, 2203, 2204, 2205, 3269, 3270, 3271, 3272, 3273, 3274, 3275, 3276, 3277, 3278, 3279, 3280, 3281, 3282, 3283, 3284, 3285, 3296, 3302, 3303, 3304, 3305, 3306, 3307, 3308, 3309, 3310, 3311, 3312, 3313, 3314, 3315, 3316, 3317, 3318, 3319, 3320, 3321, 3322, 3323, 3324, 3325, 3326, 3327, 3328, 3329, 3330, 3331, 3332, 3333, 3334, 3335, 3336, 3337, 3338, 3339, 3340, 3341, 3342, 3343, 3344, 3345, 3346, 3347, 3348, 3349, 3350, 3351, 3352, 3353, 3354, 3355, 3356, 3357, 3358, 3359, 3360, 3361, 3362, 3363, 3364, 3365, 3366, 3367, 3368, 3369, 3370, 3371, 3372, 3373, 3374, 3375, 3376, 3377, 3378, 3379, 3380, 3381, 3382, 3383, 3384, 3385, 3386, 3387, 3388, 3389, 3390, 3391, 3392, 3393, 3394, 3395, 3396, 3397, 3398, 3399, 3400, 3401, 3402, 3403, 3404, 3405, 3406, 3407, 3408, 3409, 3410, 3411, 3412, 3413, 3414, 3415, 3416, 3417, 3418, 3419, 3420, 3421, 3422, 3423, 3424, 3425, 3426, 3427, 3428, 3429, 3430, 3431, 3432, 3433, 3434, 3435, 3436, 3437, 3438, 3439, 3440, 3441, 3442, 3443, 3444, 3445, 3446, 3447, 3448, 3449, 3450, 3451, 3452, 3453, 3454, 3455, 3456, 3457, 3458, 3459, 3460, 3461, 3462, 3463, 3464, 3465, 3466, 3467, 3468, 3469, 3470, 3471, 3472, 3473, 3474, 3475, 3476, 3477, 3478, 3479, 3480, 3481, 3482, 3483, 3484, 3485, 3486, 3487, 3488, 3489, 3490, 3491, 3492, 3493, 3494, 3495, 3496, 3497, 3498, 3499, 3500, 3501, 3502, 3503, 3504, 3505, 3506, 3507, 3508, 3509, 3510, 3511, 3512, 3513, 3514, 3515, 3516, 3517, 3518, 3519, 3520, 3521, 3522, 3523, 3524, 3525, 3526, 3527, 3528, 3529, 3530, 3531, 3532, 3533, 3534, 3535, 3536, 3537, 3538, 3539, 3540, 3541, 3542, 3543, 3544, 3545, 3546, 3547, 3548, 3549, 3550, 3551, 3552, 3553, 3554, 3555, 3556, 3557, 3558, 3559, 4066, 4101, 4102, 4103, 4104, 4105, 4106, 4107, 4108, 4109, 4110, 4111, 4112, 4113, 4114, 4115, 4116, 4117, 4118, 4119, 4120, 4121, 4122, 4123, 4124, 4125, 4126, 4127, 4128, 4129, 4130, 4131, 4132, 4133, 4134, 4135, 4136, 4137, 4138, 4139, 4140, 4141, 4142, 4143, 4144, 4145, 4146, 4147, 4148, 4149, 4150, 4151, 4152, 4153, 4154, 4155, 4156, 4157, 4158, 4159, 4160, 4161, 4162, 4163, 4164, 4165, 4166, 4167, 4168, 4169, 4170, 4171, 4172, 4173, 4174, 4175, 4176, 4177, 4178, 4179, 4180, 4181, 4182, 4183, 4184, 4185, 4186, 4187, 4188, 4189, 4190, 4191, 4192, 4193, 4194, 4195, 4196, 4197, 4198, 4199, 4200, 4201, 4202, 4203, 4204, 4205, 4469, 4470, 4471, 4472, 4473, 4474, 4475, 4479, 4480, 4481, 4482, 4483, 4484, 4485, 4486, 4487, 4488, 4489, 4490, 4491, 4492, 4493, 4494, 4495, 4496, 4497, 4498, 4499, 4500, 4501, 4502, 4503, 4504, 4505, 4506, 4507, 4508, 4509, 4510, 4511, 4512, 4513, 4514, 4515, 4516, 4517, 4518, 4519, 4520, 4521, 4522, 4523, 4524, 4525, 4526, 4527, 4528, 4529, 4530, 4531, 4532, 4533, 4534, 4535, 4536, 4537, 4538, 4539, 4540, 4541, 4542, 4543, 4544, 4545, 4546, 4547, 4548, 4549, 4550, 4551, 4552, 4553, 4554, 4555, 4556, 4557, 4558, 4559, 4560, 4561, 4562, 4563, 4564, 4565, 4566, 4567, 4568, 4569, 4570, 4571, 4572, 4573, 4574, 4575, 4576, 4577, 4578, 4579, 4580, 4581]\u001b[0m\n",
      "\u001b[36mRight indices for structure 1: [20, 21, 22, 23, 24, 25, 26, 27, 28, 29, 30, 31, 32, 33, 34, 35, 36, 37, 38, 39, 40, 41, 42, 43, 916, 917, 918, 919, 920, 921, 922, 923, 924, 925, 926, 927, 928, 929, 930, 931, 932, 933, 934, 935, 936, 937, 938, 939, 940, 941, 942, 943, 944, 945, 946, 947, 948, 949, 950, 951, 952, 953, 954, 955, 956, 957, 958, 959, 960, 961, 962, 963, 964, 965, 966, 967, 968, 969, 970, 971, 972, 973, 974, 975, 976, 977, 978, 979, 980, 981, 982, 983, 984, 985, 986, 987, 988, 989, 990, 991, 992, 993, 994, 995, 996, 997, 998, 999, 1000, 1001, 1002, 1003, 1004, 1005, 1006, 1007, 1008, 1009, 1010, 1011, 1012, 1013, 1014, 1015, 1016, 1017, 1018, 1019, 1020, 1021, 1022, 1023, 1024, 1025, 1026, 1027, 1028, 1029, 1030, 1031, 1032, 1033, 1034, 1035, 1036, 1037, 1038, 1039, 1040, 1041, 1042, 1043, 1044, 1045, 1046, 1047, 1048, 1285, 1286, 1287, 1288, 1289, 1290, 1291, 1292, 1293, 1294, 1295, 1296, 1297, 1298, 1299, 1300, 1301, 1302, 1303, 1304, 1305, 1306, 1307, 1308, 1309, 1310, 1311, 1312, 1313, 1314, 1315, 1316, 1317, 1318, 1319, 1320, 1321, 1322, 1323, 1324, 1325, 1326, 1327, 1328, 1329, 1330, 1331, 1332, 1333, 1334, 1335, 1336, 1337, 1338, 1339, 1340, 1341, 1342, 1343, 1344, 1345, 1346, 1347, 1348, 1349, 1350, 1351, 1352, 1353, 1354, 1355, 1356, 1357, 1358, 1359, 1360, 1361, 1362, 1363, 1364, 1365, 1366, 1367, 1368, 1369, 1370, 1371, 1372, 1373, 1374, 1375, 1376, 1377, 1378, 1379, 1380, 1381, 1382, 1383, 1384, 1385, 1386, 1387, 1388, 1389, 1390, 1391, 1392, 1393, 1394, 1395, 1396, 1397, 1398, 1399, 1400, 1401, 1402, 1403, 1404, 1405, 1406, 1407, 1408, 1409, 1410, 1411, 1412, 1413, 1414, 1415, 1416, 1417, 1418, 1419, 1420, 1421, 1422, 1423, 1424, 1425, 1426, 1427, 1428, 1429, 1430, 1431, 1432, 1433, 1434, 1435, 1436, 1676, 1677, 1678, 1679, 1680, 1681, 1682, 1683, 1684, 1685, 1686, 1687, 1688, 1689, 1690, 1691, 1692, 1693, 1694, 1695, 1696, 1697, 1698, 1699, 1700, 1701, 1702, 1703, 1704, 1705, 1706, 1707, 1708, 1709, 1710, 1711, 1712, 1713, 1714, 1715, 1716, 1717, 1718, 1719, 1720, 1721, 1722, 1723, 1724, 1725, 1726, 1727, 1728, 1729, 1730, 1731, 1732, 1733, 1734, 1735, 1736, 1737, 1738, 1739, 1740, 1741, 1742, 1743, 1744, 1745, 1746, 1747, 1748, 1749, 1750, 1751, 1752, 1753, 1754, 1755, 1756, 1757, 1758, 1759, 1760, 1761, 1762, 1763, 1764, 1765, 1766, 1767, 1768, 1769, 1770, 1771, 1772, 1773, 1774, 1775, 1776, 1777, 1778, 1779, 1780, 1781, 1782, 1783, 1784, 1785, 1786, 1787, 1788, 1789, 1790, 1791, 1792, 1793, 1794, 1795, 1796, 1797, 1798, 2312, 2313, 2314, 2315, 2316, 2317, 2318, 2319, 2320, 2321, 2322, 2323, 2324, 2325, 2326, 2327, 2328, 2329, 2330, 2331, 2332, 2333, 2334, 2335, 2336, 2337, 2338, 2339, 2340, 2341, 2342, 2343, 2344, 2345, 2346, 2347, 2348, 2349, 2350, 2351, 2352, 2353, 2354, 2355, 2356, 2357, 2358, 2359, 2360, 2361, 2362, 2363, 2364, 2365, 2366, 2367, 2368, 2369, 2370, 2371, 2372, 2373, 2374, 2375, 2376, 2377, 2378, 2379, 2380, 2381, 2382, 2383, 2384, 2385, 2386, 2387, 2388, 2389, 2390, 2391, 2392, 2393, 2394, 2395, 2396, 2397, 2398, 2399, 2400, 2401, 2402, 2403, 2404, 2405, 2406, 2407, 2408, 2409, 2410, 2411, 2412, 2413, 2414, 2415, 2416, 2417, 2418, 2419, 2420, 2421, 2422, 2423, 2424, 2425, 2426, 2427, 2428, 2429, 2430, 2431, 2432, 2433, 2434, 2435, 2436, 2437, 2438, 2439, 2440, 2441, 2442, 2443, 2444, 2445, 2446, 2447, 2448, 2449, 2450, 2451, 2452, 2453, 2454, 2455, 2456, 2457, 2458, 2459, 2460, 2461, 2462, 2463, 2464, 2465, 2466, 2467, 2468, 2469, 2470, 2471, 2472, 2473, 2474, 2475, 2476, 2477, 2478, 2479, 2480, 2481, 2482, 2483, 2484, 2485, 2486, 2487, 2488, 2489, 2490, 2491, 2492, 2493, 2494, 2495, 2496, 2497, 2498, 2499, 2500, 2501, 2513, 2514, 2515, 2516, 2517, 2518, 2519, 2520, 2521, 2522, 2523, 2524, 2527, 2528, 2529, 2530, 2531, 2532, 2533, 3560, 3561, 3562, 3563, 3564, 3565, 3566, 3567, 3568, 3569, 3570, 3571, 3572, 3573, 3574, 3575, 3576, 3577, 3578, 3579, 3580, 3581, 3582, 3583, 3584, 3585, 3586, 3587, 3588, 3589, 3590, 3591, 3592, 3593, 3594, 3595, 3596, 3597, 3598, 3599, 3600, 3601, 3602, 3603, 3604, 3605, 3606, 3607, 3608, 3609, 3610, 3611, 3612, 3613, 3614, 3615, 3616, 3617, 3618, 3619, 3620, 3621, 3622, 3623, 3624, 3625, 3626, 3627, 3628, 3629, 3630, 3631, 3632, 3633, 3634, 3635, 3636, 3637, 3638, 3639, 3640, 3641, 3642, 3643, 3644, 3645, 3646, 3647, 3648, 3649, 3650, 3651, 3652, 3653, 3654, 3655, 3656, 3657, 3658, 3659, 3660, 3661, 3662, 3663, 3664, 3665, 3666, 3667, 3668, 3669, 3670, 3671, 3672, 3673, 3674, 3675, 3676, 3677, 3678, 3679, 3680, 3682, 3683, 3684, 3685, 3686, 3687, 3688, 3689, 3690, 3691, 3692, 3693, 3694, 3695, 3696, 3697, 3698, 3699, 3700, 3701, 3702, 3703, 3704, 3705, 3706, 3707, 3708, 3709, 3710, 3711, 3712, 3713, 3714, 3715, 3750, 4206, 4207, 4208, 4209, 4210, 4211, 4212, 4213, 4214, 4215, 4216, 4217, 4218, 4219, 4220, 4221, 4222, 4223, 4224, 4225, 4226, 4227, 4228, 4229, 4230, 4231, 4232, 4233, 4234, 4235, 4236, 4237, 4238, 4239, 4240, 4241, 4242, 4243, 4244, 4245, 4246, 4247]\u001b[0m\n",
      "\u001b[36mLeft indices for structure 2: [0, 1, 2, 3, 4, 5, 6, 7, 8, 9, 10, 11, 12, 13, 14, 15, 16, 17, 18, 19, 151, 152, 153, 154, 155, 156, 157, 158, 159, 160, 161, 162, 163, 164, 165, 166, 167, 168, 169, 170, 171, 172, 173, 174, 175, 176, 177, 178, 179, 180, 181, 182, 183, 184, 185, 186, 187, 188, 189, 190, 191, 192, 193, 194, 195, 196, 197, 198, 199, 200, 201, 202, 203, 204, 205, 206, 207, 208, 209, 210, 211, 212, 213, 214, 215, 216, 217, 218, 219, 220, 221, 222, 223, 224, 225, 226, 227, 228, 229, 230, 231, 232, 233, 234, 235, 236, 237, 238, 239, 240, 241, 242, 243, 244, 245, 246, 247, 248, 249, 250, 251, 252, 253, 254, 255, 256, 257, 258, 259, 260, 261, 262, 263, 264, 265, 266, 267, 268, 269, 270, 271, 272, 273, 274, 275, 276, 277, 278, 279, 280, 281, 282, 283, 284, 285, 286, 287, 288, 289, 290, 291, 292, 293, 294, 295, 296, 297, 298, 299, 300, 525, 526, 527, 528, 529, 530, 531, 532, 533, 534, 535, 536, 537, 538, 539, 540, 541, 542, 543, 544, 545, 546, 547, 548, 549, 550, 551, 552, 553, 554, 555, 556, 557, 558, 559, 560, 561, 562, 563, 564, 565, 566, 567, 568, 569, 570, 571, 572, 573, 574, 575, 576, 577, 578, 579, 580, 581, 582, 583, 584, 585, 586, 587, 588, 589, 590, 591, 592, 593, 594, 595, 596, 597, 598, 599, 600, 601, 602, 603, 604, 605, 606, 607, 608, 609, 610, 611, 612, 613, 614, 615, 616, 617, 618, 619, 620, 621, 622, 623, 624, 625, 626, 627, 628, 629, 630, 631, 632, 633, 634, 635, 636, 637, 638, 639, 640, 641, 642, 643, 644, 645, 646, 647, 648, 649, 650, 651, 652, 653, 654, 655, 656, 657, 658, 659, 660, 661, 662, 663, 664, 665, 666, 667, 668, 669, 670, 671, 672, 673, 674, 675, 676, 677, 678, 679, 680, 681, 682, 683, 684, 2028, 2029, 2030, 2031, 2032, 2033, 2034, 2035, 2036, 2037, 2038, 2039, 2040, 2041, 2042, 2043, 2044, 2045, 2046, 2047, 2048, 2049, 2050, 2051, 2052, 2053, 2054, 2055, 2056, 2057, 2058, 2059, 2060, 2061, 2062, 2063, 2064, 2065, 2066, 2067, 2068, 2069, 2070, 2071, 2072, 2073, 2074, 2075, 2076, 2077, 2078, 2079, 2080, 2081, 2082, 2083, 2084, 2085, 2086, 2087, 2088, 2089, 2090, 2091, 2092, 2093, 2094, 2095, 2096, 2097, 2098, 2099, 2100, 2101, 2102, 2103, 2104, 2105, 2106, 2107, 2108, 2109, 2110, 2111, 2112, 2113, 2114, 2115, 2116, 2117, 2118, 2119, 2120, 2121, 2122, 2123, 2124, 2125, 2126, 2127, 2128, 2129, 2130, 2131, 2132, 2133, 2134, 2135, 2136, 2137, 2138, 2139, 2140, 2141, 2142, 2143, 2144, 2145, 2146, 2147, 2148, 2149, 2150, 2151, 2152, 2153, 2154, 2155, 2156, 2157, 2158, 2159, 2160, 2161, 2162, 2163, 2164, 2165, 2166, 2167, 2168, 2169, 2170, 2171, 2172, 2173, 2174, 2175, 2176, 2177, 2178, 2179, 2180, 2181, 2182, 2183, 2184, 2185, 2186, 2187, 2188, 2189, 2190, 2191, 2192, 2193, 2194, 2195, 2196, 2197, 2198, 2199, 2200, 2201, 2202, 2203, 2204, 2205, 3269, 3270, 3271, 3272, 3273, 3274, 3275, 3276, 3277, 3278, 3279, 3280, 3281, 3282, 3283, 3284, 3285, 3296, 3302, 3303, 3304, 3305, 3306, 3307, 3308, 3309, 3310, 3311, 3312, 3313, 3314, 3315, 3316, 3317, 3318, 3319, 3320, 3321, 3322, 3323, 3324, 3325, 3326, 3327, 3328, 3329, 3330, 3331, 3332, 3333, 3334, 3335, 3336, 3337, 3338, 3339, 3340, 3341, 3342, 3343, 3344, 3345, 3346, 3347, 3348, 3349, 3350, 3351, 3352, 3353, 3354, 3355, 3356, 3357, 3358, 3359, 3360, 3361, 3362, 3363, 3364, 3365, 3366, 3367, 3368, 3369, 3370, 3371, 3372, 3373, 3374, 3375, 3376, 3377, 3378, 3379, 3380, 3381, 3382, 3383, 3384, 3385, 3386, 3387, 3388, 3389, 3390, 3391, 3392, 3393, 3394, 3395, 3396, 3397, 3398, 3399, 3400, 3401, 3402, 3403, 3404, 3405, 3406, 3407, 3408, 3409, 3410, 3411, 3412, 3413, 3414, 3415, 3416, 3417, 3418, 3419, 3420, 3421, 3422, 3423, 3424, 3425, 3426, 3427, 3428, 3429, 3430, 3431, 3432, 3433, 3434, 3435, 3436, 3437, 3438, 3439, 3440, 3441, 3442, 3443, 3444, 3445, 3446, 3447, 3448, 3449, 3450, 3451, 3452, 3453, 3454, 3455, 3456, 3457, 3458, 3459, 3460, 3461, 3462, 3463, 3464, 3465, 3466, 3467, 3468, 3469, 3470, 3471, 3472, 3473, 3474, 3475, 3476, 3477, 3478, 3479, 3480, 3481, 3482, 3483, 3484, 3485, 3486, 3487, 3488, 3489, 3490, 3491, 3492, 3493, 3494, 3495, 3496, 3497, 3498, 3499, 3500, 3501, 3502, 3503, 3504, 3505, 3506, 3507, 3508, 3509, 3510, 3511, 3512, 3513, 3514, 3515, 3516, 3517, 3518, 3519, 3520, 3521, 3522, 3523, 3524, 3525, 3526, 3527, 3528, 3529, 3530, 3531, 3532, 3533, 3534, 3535, 3536, 3537, 3538, 3539, 3540, 3541, 3542, 3543, 3544, 3545, 3546, 3547, 3548, 3549, 3550, 3551, 3552, 3553, 3554, 3555, 3556, 3557, 3558, 3559, 4066, 4101, 4102, 4103, 4104, 4105, 4106, 4107, 4108, 4109, 4110, 4111, 4112, 4113, 4114, 4115, 4116, 4117, 4118, 4119, 4120, 4121, 4122, 4123, 4124, 4125, 4126, 4127, 4128, 4129, 4130, 4131, 4132, 4133, 4134, 4135, 4136, 4137, 4138, 4139, 4140, 4141, 4142, 4143, 4144, 4145, 4146, 4147, 4148, 4149, 4150, 4151, 4152, 4153, 4154, 4155, 4156, 4157, 4158, 4159, 4160, 4161, 4162, 4163, 4164, 4165, 4166, 4167, 4168, 4169, 4170, 4171, 4172, 4173, 4174, 4175, 4176, 4177, 4178, 4179, 4180, 4181, 4182, 4183, 4184, 4185, 4186, 4187, 4188, 4189, 4190, 4191, 4192, 4193, 4194, 4195, 4196, 4197, 4198, 4199, 4200, 4201, 4202, 4203, 4204, 4205, 4469, 4470, 4471, 4472, 4473, 4474, 4475, 4479, 4480, 4481, 4482, 4483, 4484, 4485, 4486, 4487, 4488, 4489, 4490, 4491, 4492, 4493, 4494, 4495, 4496, 4497, 4498, 4499, 4500, 4501, 4502, 4503, 4504, 4505, 4506, 4507, 4508, 4509, 4510, 4511, 4512, 4513, 4514, 4515, 4516, 4517, 4518, 4519, 4520, 4521, 4522, 4523, 4524, 4525, 4526, 4527, 4528, 4529, 4530, 4531, 4532, 4533, 4534, 4535, 4536, 4537, 4538, 4539, 4540, 4541, 4542, 4543, 4544, 4545, 4546, 4547, 4548, 4549, 4550, 4551, 4552, 4553, 4554, 4555, 4556, 4557, 4558, 4559, 4560, 4561, 4562, 4563, 4564, 4565, 4566, 4567, 4568, 4569, 4570, 4571, 4572, 4573, 4574, 4575, 4576, 4577, 4578, 4579, 4580, 4581]\u001b[0m\n",
      "\u001b[36mRight indices for structure 2: [20, 21, 22, 23, 24, 25, 26, 27, 28, 29, 30, 31, 32, 33, 34, 35, 36, 37, 38, 39, 40, 41, 42, 43, 916, 917, 918, 919, 920, 921, 922, 923, 924, 925, 926, 927, 928, 929, 930, 931, 932, 933, 934, 935, 936, 937, 938, 939, 940, 941, 942, 943, 944, 945, 946, 947, 948, 949, 950, 951, 952, 953, 954, 955, 956, 957, 958, 959, 960, 961, 962, 963, 964, 965, 966, 967, 968, 969, 970, 971, 972, 973, 974, 975, 976, 977, 978, 979, 980, 981, 982, 983, 984, 985, 986, 987, 988, 989, 990, 991, 992, 993, 994, 995, 996, 997, 998, 999, 1000, 1001, 1002, 1003, 1004, 1005, 1006, 1007, 1008, 1009, 1010, 1011, 1012, 1013, 1014, 1015, 1016, 1017, 1018, 1019, 1020, 1021, 1022, 1023, 1024, 1025, 1026, 1027, 1028, 1029, 1030, 1031, 1032, 1033, 1034, 1035, 1036, 1037, 1038, 1039, 1040, 1041, 1042, 1043, 1044, 1045, 1046, 1047, 1048, 1285, 1286, 1287, 1288, 1289, 1290, 1291, 1292, 1293, 1294, 1295, 1296, 1297, 1298, 1299, 1300, 1301, 1302, 1303, 1304, 1305, 1306, 1307, 1308, 1309, 1310, 1311, 1312, 1313, 1314, 1315, 1316, 1317, 1318, 1319, 1320, 1321, 1322, 1323, 1324, 1325, 1326, 1327, 1328, 1329, 1330, 1331, 1332, 1333, 1334, 1335, 1336, 1337, 1338, 1339, 1340, 1341, 1342, 1343, 1344, 1345, 1346, 1347, 1348, 1349, 1350, 1351, 1352, 1353, 1354, 1355, 1356, 1357, 1358, 1359, 1360, 1361, 1362, 1363, 1364, 1365, 1366, 1367, 1368, 1369, 1370, 1371, 1372, 1373, 1374, 1375, 1376, 1377, 1378, 1379, 1380, 1381, 1382, 1383, 1384, 1385, 1386, 1387, 1388, 1389, 1390, 1391, 1392, 1393, 1394, 1395, 1396, 1397, 1398, 1399, 1400, 1401, 1402, 1403, 1404, 1405, 1406, 1407, 1408, 1409, 1410, 1411, 1412, 1413, 1414, 1415, 1416, 1417, 1418, 1419, 1420, 1421, 1422, 1423, 1424, 1425, 1426, 1427, 1428, 1429, 1430, 1431, 1432, 1433, 1434, 1435, 1436, 1676, 1677, 1678, 1679, 1680, 1681, 1682, 1683, 1684, 1685, 1686, 1687, 1688, 1689, 1690, 1691, 1692, 1693, 1694, 1695, 1696, 1697, 1698, 1699, 1700, 1701, 1702, 1703, 1704, 1705, 1706, 1707, 1708, 1709, 1710, 1711, 1712, 1713, 1714, 1715, 1716, 1717, 1718, 1719, 1720, 1721, 1722, 1723, 1724, 1725, 1726, 1727, 1728, 1729, 1730, 1731, 1732, 1733, 1734, 1735, 1736, 1737, 1738, 1739, 1740, 1741, 1742, 1743, 1744, 1745, 1746, 1747, 1748, 1749, 1750, 1751, 1752, 1753, 1754, 1755, 1756, 1757, 1758, 1759, 1760, 1761, 1762, 1763, 1764, 1765, 1766, 1767, 1768, 1769, 1770, 1771, 1772, 1773, 1774, 1775, 1776, 1777, 1778, 1779, 1780, 1781, 1782, 1783, 1784, 1785, 1786, 1787, 1788, 1789, 1790, 1791, 1792, 1793, 1794, 1795, 1796, 1797, 1798, 2312, 2313, 2314, 2315, 2316, 2317, 2318, 2319, 2320, 2321, 2322, 2323, 2324, 2325, 2326, 2327, 2328, 2329, 2330, 2331, 2332, 2333, 2334, 2335, 2336, 2337, 2338, 2339, 2340, 2341, 2342, 2343, 2344, 2345, 2346, 2347, 2348, 2349, 2350, 2351, 2352, 2353, 2354, 2355, 2356, 2357, 2358, 2359, 2360, 2361, 2362, 2363, 2364, 2365, 2366, 2367, 2368, 2369, 2370, 2371, 2372, 2373, 2374, 2375, 2376, 2377, 2378, 2379, 2380, 2381, 2382, 2383, 2384, 2385, 2386, 2387, 2388, 2389, 2390, 2391, 2392, 2393, 2394, 2395, 2396, 2397, 2398, 2399, 2400, 2401, 2402, 2403, 2404, 2405, 2406, 2407, 2408, 2409, 2410, 2411, 2412, 2413, 2414, 2415, 2416, 2417, 2418, 2419, 2420, 2421, 2422, 2423, 2424, 2425, 2426, 2427, 2428, 2429, 2430, 2431, 2432, 2433, 2434, 2435, 2436, 2437, 2438, 2439, 2440, 2441, 2442, 2443, 2444, 2445, 2446, 2447, 2448, 2449, 2450, 2451, 2452, 2453, 2454, 2455, 2456, 2457, 2458, 2459, 2460, 2461, 2462, 2463, 2464, 2465, 2466, 2467, 2468, 2469, 2470, 2471, 2472, 2473, 2474, 2475, 2476, 2477, 2478, 2479, 2480, 2481, 2482, 2483, 2484, 2485, 2486, 2487, 2488, 2489, 2490, 2491, 2492, 2493, 2494, 2495, 2496, 2497, 2498, 2499, 2500, 2501, 2513, 2514, 2515, 2516, 2517, 2518, 2519, 2520, 2521, 2522, 2523, 2524, 2527, 2528, 2529, 2530, 2531, 2532, 2533, 3560, 3561, 3562, 3563, 3564, 3565, 3566, 3567, 3568, 3569, 3570, 3571, 3572, 3573, 3574, 3575, 3576, 3577, 3578, 3579, 3580, 3581, 3582, 3583, 3584, 3585, 3586, 3587, 3588, 3589, 3590, 3591, 3592, 3593, 3594, 3595, 3596, 3597, 3598, 3599, 3600, 3601, 3602, 3603, 3604, 3605, 3606, 3607, 3608, 3609, 3610, 3611, 3612, 3613, 3614, 3615, 3616, 3617, 3618, 3619, 3620, 3621, 3622, 3623, 3624, 3625, 3626, 3627, 3628, 3629, 3630, 3631, 3632, 3633, 3634, 3635, 3636, 3637, 3638, 3639, 3640, 3641, 3642, 3643, 3644, 3645, 3646, 3647, 3648, 3649, 3650, 3651, 3652, 3653, 3654, 3655, 3656, 3657, 3658, 3659, 3660, 3661, 3662, 3663, 3664, 3665, 3666, 3667, 3668, 3669, 3670, 3671, 3672, 3673, 3674, 3675, 3676, 3677, 3678, 3679, 3680, 3682, 3683, 3684, 3685, 3686, 3687, 3688, 3689, 3690, 3691, 3692, 3693, 3694, 3695, 3696, 3697, 3698, 3699, 3700, 3701, 3702, 3703, 3704, 3705, 3706, 3707, 3708, 3709, 3710, 3711, 3712, 3713, 3714, 3715, 3750, 4206, 4207, 4208, 4209, 4210, 4211, 4212, 4213, 4214, 4215, 4216, 4217, 4218, 4219, 4220, 4221, 4222, 4223, 4224, 4225, 4226, 4227, 4228, 4229, 4230, 4231, 4232, 4233, 4234, 4235, 4236, 4237, 4238, 4239, 4240, 4241, 4242, 4243, 4244, 4245, 4246, 4247]\u001b[0m\n",
      "\u001b[36mLeft indices for structure 3: [0, 1, 2, 3, 4, 5, 6, 7, 8, 9, 10, 11, 12, 13, 14, 15, 16, 17, 18, 19, 151, 152, 153, 154, 155, 156, 157, 158, 159, 160, 161, 162, 163, 164, 165, 166, 167, 168, 169, 170, 171, 172, 173, 174, 175, 176, 177, 178, 179, 180, 181, 182, 183, 184, 185, 186, 187, 188, 189, 190, 191, 192, 193, 194, 195, 196, 197, 198, 199, 200, 201, 202, 203, 204, 205, 206, 207, 208, 209, 210, 211, 212, 213, 214, 215, 216, 217, 218, 219, 220, 221, 222, 223, 224, 225, 226, 227, 228, 229, 230, 231, 232, 233, 234, 235, 236, 237, 238, 239, 240, 241, 242, 243, 244, 245, 246, 247, 248, 249, 250, 251, 252, 253, 254, 255, 256, 257, 258, 259, 260, 261, 262, 263, 264, 265, 266, 267, 268, 269, 270, 271, 272, 273, 274, 275, 276, 277, 278, 279, 280, 281, 282, 283, 284, 285, 286, 287, 288, 289, 290, 291, 292, 293, 294, 295, 296, 297, 298, 299, 300, 525, 526, 527, 528, 529, 530, 531, 532, 533, 534, 535, 536, 537, 538, 539, 540, 541, 542, 543, 544, 545, 546, 547, 548, 549, 550, 551, 552, 553, 554, 555, 556, 557, 558, 559, 560, 561, 562, 563, 564, 565, 566, 567, 568, 569, 570, 571, 572, 573, 574, 575, 576, 577, 578, 579, 580, 581, 582, 583, 584, 585, 586, 587, 588, 589, 590, 591, 592, 593, 594, 595, 596, 597, 598, 599, 600, 601, 602, 603, 604, 605, 606, 607, 608, 609, 610, 611, 612, 613, 614, 615, 616, 617, 618, 619, 620, 621, 622, 623, 624, 625, 626, 627, 628, 629, 630, 631, 632, 633, 634, 635, 636, 637, 638, 639, 640, 641, 642, 643, 644, 645, 646, 647, 648, 649, 650, 651, 652, 653, 654, 655, 656, 657, 658, 659, 660, 661, 662, 663, 664, 665, 666, 667, 668, 669, 670, 671, 672, 673, 674, 675, 676, 677, 678, 679, 680, 681, 682, 683, 684, 2028, 2029, 2030, 2031, 2032, 2033, 2034, 2035, 2036, 2037, 2038, 2039, 2040, 2041, 2042, 2043, 2044, 2045, 2046, 2047, 2048, 2049, 2050, 2051, 2052, 2053, 2054, 2055, 2056, 2057, 2058, 2059, 2060, 2061, 2062, 2063, 2064, 2065, 2066, 2067, 2068, 2069, 2070, 2071, 2072, 2073, 2074, 2075, 2076, 2077, 2078, 2079, 2080, 2081, 2082, 2083, 2084, 2085, 2086, 2087, 2088, 2089, 2090, 2091, 2092, 2093, 2094, 2095, 2096, 2097, 2098, 2099, 2100, 2101, 2102, 2103, 2104, 2105, 2106, 2107, 2108, 2109, 2110, 2111, 2112, 2113, 2114, 2115, 2116, 2117, 2118, 2119, 2120, 2121, 2122, 2123, 2124, 2125, 2126, 2127, 2128, 2129, 2130, 2131, 2132, 2133, 2134, 2135, 2136, 2137, 2138, 2139, 2140, 2141, 2142, 2143, 2144, 2145, 2146, 2147, 2148, 2149, 2150, 2151, 2152, 2153, 2154, 2155, 2156, 2157, 2158, 2159, 2160, 2161, 2162, 2163, 2164, 2165, 2166, 2167, 2168, 2169, 2170, 2171, 2172, 2173, 2174, 2175, 2176, 2177, 2178, 2179, 2180, 2181, 2182, 2183, 2184, 2185, 2186, 2187, 2188, 2189, 2190, 2191, 2192, 2193, 2194, 2195, 2196, 2197, 2198, 2199, 2200, 2201, 2202, 2203, 2204, 2205, 3269, 3270, 3271, 3272, 3273, 3274, 3275, 3276, 3277, 3278, 3279, 3280, 3281, 3282, 3283, 3284, 3285, 3296, 3302, 3303, 3304, 3305, 3306, 3307, 3308, 3309, 3310, 3311, 3312, 3313, 3314, 3315, 3316, 3317, 3318, 3319, 3320, 3321, 3322, 3323, 3324, 3325, 3326, 3327, 3328, 3329, 3330, 3331, 3332, 3333, 3334, 3335, 3336, 3337, 3338, 3339, 3340, 3341, 3342, 3343, 3344, 3345, 3346, 3347, 3348, 3349, 3350, 3351, 3352, 3353, 3354, 3355, 3356, 3357, 3358, 3359, 3360, 3361, 3362, 3363, 3364, 3365, 3366, 3367, 3368, 3369, 3370, 3371, 3372, 3373, 3374, 3375, 3376, 3377, 3378, 3379, 3380, 3381, 3382, 3383, 3384, 3385, 3386, 3387, 3388, 3389, 3390, 3391, 3392, 3393, 3394, 3395, 3396, 3397, 3398, 3399, 3400, 3401, 3402, 3403, 3404, 3405, 3406, 3407, 3408, 3409, 3410, 3411, 3412, 3413, 3414, 3415, 3416, 3417, 3418, 3419, 3420, 3421, 3422, 3423, 3424, 3425, 3426, 3427, 3428, 3429, 3430, 3431, 3432, 3433, 3434, 3435, 3436, 3437, 3438, 3439, 3440, 3441, 3442, 3443, 3444, 3445, 3446, 3447, 3448, 3449, 3450, 3451, 3452, 3453, 3454, 3455, 3456, 3457, 3458, 3459, 3460, 3461, 3462, 3463, 3464, 3465, 3466, 3467, 3468, 3469, 3470, 3471, 3472, 3473, 3474, 3475, 3476, 3477, 3478, 3479, 3480, 3481, 3482, 3483, 3484, 3485, 3486, 3487, 3488, 3489, 3490, 3491, 3492, 3493, 3494, 3495, 3496, 3497, 3498, 3499, 3500, 3501, 3502, 3503, 3504, 3505, 3506, 3507, 3508, 3509, 3510, 3511, 3512, 3513, 3514, 3515, 3516, 3517, 3518, 3519, 3520, 3521, 3522, 3523, 3524, 3525, 3526, 3527, 3528, 3529, 3530, 3531, 3532, 3533, 3534, 3535, 3536, 3537, 3538, 3539, 3540, 3541, 3542, 3543, 3544, 3545, 3546, 3547, 3548, 3549, 3550, 3551, 3552, 3553, 3554, 3555, 3556, 3557, 3558, 3559, 4066, 4101, 4102, 4103, 4104, 4105, 4106, 4107, 4108, 4109, 4110, 4111, 4112, 4113, 4114, 4115, 4116, 4117, 4118, 4119, 4120, 4121, 4122, 4123, 4124, 4125, 4126, 4127, 4128, 4129, 4130, 4131, 4132, 4133, 4134, 4135, 4136, 4137, 4138, 4139, 4140, 4141, 4142, 4143, 4144, 4145, 4146, 4147, 4148, 4149, 4150, 4151, 4152, 4153, 4154, 4155, 4156, 4157, 4158, 4159, 4160, 4161, 4162, 4163, 4164, 4165, 4166, 4167, 4168, 4169, 4170, 4171, 4172, 4173, 4174, 4175, 4176, 4177, 4178, 4179, 4180, 4181, 4182, 4183, 4184, 4185, 4186, 4187, 4188, 4189, 4190, 4191, 4192, 4193, 4194, 4195, 4196, 4197, 4198, 4199, 4200, 4201, 4202, 4203, 4204, 4205, 4469, 4470, 4471, 4472, 4473, 4474, 4475, 4479, 4480, 4481, 4482, 4483, 4484, 4485, 4486, 4487, 4488, 4489, 4490, 4491, 4492, 4493, 4494, 4495, 4496, 4497, 4498, 4499, 4500, 4501, 4502, 4503, 4504, 4505, 4506, 4507, 4508, 4509, 4510, 4511, 4512, 4513, 4514, 4515, 4516, 4517, 4518, 4519, 4520, 4521, 4522, 4523, 4524, 4525, 4526, 4527, 4528, 4529, 4530, 4531, 4532, 4533, 4534, 4535, 4536, 4537, 4538, 4539, 4540, 4541, 4542, 4543, 4544, 4545, 4546, 4547, 4548, 4549, 4550, 4551, 4552, 4553, 4554, 4555, 4556, 4557, 4558, 4559, 4560, 4561, 4562, 4563, 4564, 4565, 4566, 4567, 4568, 4569, 4570, 4571, 4572, 4573, 4574, 4575, 4576, 4577, 4578, 4579, 4580, 4581]\u001b[0m\n",
      "\u001b[36mRight indices for structure 3: [20, 21, 22, 23, 24, 25, 26, 27, 28, 29, 30, 31, 32, 33, 34, 35, 36, 37, 38, 39, 40, 41, 42, 43, 916, 917, 918, 919, 920, 921, 922, 923, 924, 925, 926, 927, 928, 929, 930, 931, 932, 933, 934, 935, 936, 937, 938, 939, 940, 941, 942, 943, 944, 945, 946, 947, 948, 949, 950, 951, 952, 953, 954, 955, 956, 957, 958, 959, 960, 961, 962, 963, 964, 965, 966, 967, 968, 969, 970, 971, 972, 973, 974, 975, 976, 977, 978, 979, 980, 981, 982, 983, 984, 985, 986, 987, 988, 989, 990, 991, 992, 993, 994, 995, 996, 997, 998, 999, 1000, 1001, 1002, 1003, 1004, 1005, 1006, 1007, 1008, 1009, 1010, 1011, 1012, 1013, 1014, 1015, 1016, 1017, 1018, 1019, 1020, 1021, 1022, 1023, 1024, 1025, 1026, 1027, 1028, 1029, 1030, 1031, 1032, 1033, 1034, 1035, 1036, 1037, 1038, 1039, 1040, 1041, 1042, 1043, 1044, 1045, 1046, 1047, 1048, 1285, 1286, 1287, 1288, 1289, 1290, 1291, 1292, 1293, 1294, 1295, 1296, 1297, 1298, 1299, 1300, 1301, 1302, 1303, 1304, 1305, 1306, 1307, 1308, 1309, 1310, 1311, 1312, 1313, 1314, 1315, 1316, 1317, 1318, 1319, 1320, 1321, 1322, 1323, 1324, 1325, 1326, 1327, 1328, 1329, 1330, 1331, 1332, 1333, 1334, 1335, 1336, 1337, 1338, 1339, 1340, 1341, 1342, 1343, 1344, 1345, 1346, 1347, 1348, 1349, 1350, 1351, 1352, 1353, 1354, 1355, 1356, 1357, 1358, 1359, 1360, 1361, 1362, 1363, 1364, 1365, 1366, 1367, 1368, 1369, 1370, 1371, 1372, 1373, 1374, 1375, 1376, 1377, 1378, 1379, 1380, 1381, 1382, 1383, 1384, 1385, 1386, 1387, 1388, 1389, 1390, 1391, 1392, 1393, 1394, 1395, 1396, 1397, 1398, 1399, 1400, 1401, 1402, 1403, 1404, 1405, 1406, 1407, 1408, 1409, 1410, 1411, 1412, 1413, 1414, 1415, 1416, 1417, 1418, 1419, 1420, 1421, 1422, 1423, 1424, 1425, 1426, 1427, 1428, 1429, 1430, 1431, 1432, 1433, 1434, 1435, 1436, 1676, 1677, 1678, 1679, 1680, 1681, 1682, 1683, 1684, 1685, 1686, 1687, 1688, 1689, 1690, 1691, 1692, 1693, 1694, 1695, 1696, 1697, 1698, 1699, 1700, 1701, 1702, 1703, 1704, 1705, 1706, 1707, 1708, 1709, 1710, 1711, 1712, 1713, 1714, 1715, 1716, 1717, 1718, 1719, 1720, 1721, 1722, 1723, 1724, 1725, 1726, 1727, 1728, 1729, 1730, 1731, 1732, 1733, 1734, 1735, 1736, 1737, 1738, 1739, 1740, 1741, 1742, 1743, 1744, 1745, 1746, 1747, 1748, 1749, 1750, 1751, 1752, 1753, 1754, 1755, 1756, 1757, 1758, 1759, 1760, 1761, 1762, 1763, 1764, 1765, 1766, 1767, 1768, 1769, 1770, 1771, 1772, 1773, 1774, 1775, 1776, 1777, 1778, 1779, 1780, 1781, 1782, 1783, 1784, 1785, 1786, 1787, 1788, 1789, 1790, 1791, 1792, 1793, 1794, 1795, 1796, 1797, 1798, 2312, 2313, 2314, 2315, 2316, 2317, 2318, 2319, 2320, 2321, 2322, 2323, 2324, 2325, 2326, 2327, 2328, 2329, 2330, 2331, 2332, 2333, 2334, 2335, 2336, 2337, 2338, 2339, 2340, 2341, 2342, 2343, 2344, 2345, 2346, 2347, 2348, 2349, 2350, 2351, 2352, 2353, 2354, 2355, 2356, 2357, 2358, 2359, 2360, 2361, 2362, 2363, 2364, 2365, 2366, 2367, 2368, 2369, 2370, 2371, 2372, 2373, 2374, 2375, 2376, 2377, 2378, 2379, 2380, 2381, 2382, 2383, 2384, 2385, 2386, 2387, 2388, 2389, 2390, 2391, 2392, 2393, 2394, 2395, 2396, 2397, 2398, 2399, 2400, 2401, 2402, 2403, 2404, 2405, 2406, 2407, 2408, 2409, 2410, 2411, 2412, 2413, 2414, 2415, 2416, 2417, 2418, 2419, 2420, 2421, 2422, 2423, 2424, 2425, 2426, 2427, 2428, 2429, 2430, 2431, 2432, 2433, 2434, 2435, 2436, 2437, 2438, 2439, 2440, 2441, 2442, 2443, 2444, 2445, 2446, 2447, 2448, 2449, 2450, 2451, 2452, 2453, 2454, 2455, 2456, 2457, 2458, 2459, 2460, 2461, 2462, 2463, 2464, 2465, 2466, 2467, 2468, 2469, 2470, 2471, 2472, 2473, 2474, 2475, 2476, 2477, 2478, 2479, 2480, 2481, 2482, 2483, 2484, 2485, 2486, 2487, 2488, 2489, 2490, 2491, 2492, 2493, 2494, 2495, 2496, 2497, 2498, 2499, 2500, 2501, 2513, 2514, 2515, 2516, 2517, 2518, 2519, 2520, 2521, 2522, 2523, 2524, 2527, 2528, 2529, 2530, 2531, 2532, 2533, 3560, 3561, 3562, 3563, 3564, 3565, 3566, 3567, 3568, 3569, 3570, 3571, 3572, 3573, 3574, 3575, 3576, 3577, 3578, 3579, 3580, 3581, 3582, 3583, 3584, 3585, 3586, 3587, 3588, 3589, 3590, 3591, 3592, 3593, 3594, 3595, 3596, 3597, 3598, 3599, 3600, 3601, 3602, 3603, 3604, 3605, 3606, 3607, 3608, 3609, 3610, 3611, 3612, 3613, 3614, 3615, 3616, 3617, 3618, 3619, 3620, 3621, 3622, 3623, 3624, 3625, 3626, 3627, 3628, 3629, 3630, 3631, 3632, 3633, 3634, 3635, 3636, 3637, 3638, 3639, 3640, 3641, 3642, 3643, 3644, 3645, 3646, 3647, 3648, 3649, 3650, 3651, 3652, 3653, 3654, 3655, 3656, 3657, 3658, 3659, 3660, 3661, 3662, 3663, 3664, 3665, 3666, 3667, 3668, 3669, 3670, 3671, 3672, 3673, 3674, 3675, 3676, 3677, 3678, 3679, 3680, 3682, 3683, 3684, 3685, 3686, 3687, 3688, 3689, 3690, 3691, 3692, 3693, 3694, 3695, 3696, 3697, 3698, 3699, 3700, 3701, 3702, 3703, 3704, 3705, 3706, 3707, 3708, 3709, 3710, 3711, 3712, 3713, 3714, 3715, 3750, 4206, 4207, 4208, 4209, 4210, 4211, 4212, 4213, 4214, 4215, 4216, 4217, 4218, 4219, 4220, 4221, 4222, 4223, 4224, 4225, 4226, 4227, 4228, 4229, 4230, 4231, 4232, 4233, 4234, 4235, 4236, 4237, 4238, 4239, 4240, 4241, 4242, 4243, 4244, 4245, 4246, 4247]\u001b[0m\n",
      "\u001b[36mLeft indices for structure 4: [0, 1, 2, 3, 4, 5, 6, 7, 8, 9, 10, 11, 12, 13, 14, 15, 16, 17, 18, 19, 151, 152, 153, 154, 155, 156, 157, 158, 159, 160, 161, 162, 163, 164, 165, 166, 167, 168, 169, 170, 171, 172, 173, 174, 175, 176, 177, 178, 179, 180, 181, 182, 183, 184, 185, 186, 187, 188, 189, 190, 191, 192, 193, 194, 195, 196, 197, 198, 199, 200, 201, 202, 203, 204, 205, 206, 207, 208, 209, 210, 211, 212, 213, 214, 215, 216, 217, 218, 219, 220, 221, 222, 223, 224, 225, 226, 227, 228, 229, 230, 231, 232, 233, 234, 235, 236, 237, 238, 239, 240, 241, 242, 243, 244, 245, 246, 247, 248, 249, 250, 251, 252, 253, 254, 255, 256, 257, 258, 259, 260, 261, 262, 263, 264, 265, 266, 267, 268, 269, 270, 271, 272, 273, 274, 275, 276, 277, 278, 279, 280, 281, 282, 283, 284, 285, 286, 287, 288, 289, 290, 291, 292, 293, 294, 295, 296, 297, 298, 299, 300, 525, 526, 527, 528, 529, 530, 531, 532, 533, 534, 535, 536, 537, 538, 539, 540, 541, 542, 543, 544, 545, 546, 547, 548, 549, 550, 551, 552, 553, 554, 555, 556, 557, 558, 559, 560, 561, 562, 563, 564, 565, 566, 567, 568, 569, 570, 571, 572, 573, 574, 575, 576, 577, 578, 579, 580, 581, 582, 583, 584, 585, 586, 587, 588, 589, 590, 591, 592, 593, 594, 595, 596, 597, 598, 599, 600, 601, 602, 603, 604, 605, 606, 607, 608, 609, 610, 611, 612, 613, 614, 615, 616, 617, 618, 619, 620, 621, 622, 623, 624, 625, 626, 627, 628, 629, 630, 631, 632, 633, 634, 635, 636, 637, 638, 639, 640, 641, 642, 643, 644, 645, 646, 647, 648, 649, 650, 651, 652, 653, 654, 655, 656, 657, 658, 659, 660, 661, 662, 663, 664, 665, 666, 667, 668, 669, 670, 671, 672, 673, 674, 675, 676, 677, 678, 679, 680, 681, 682, 683, 684, 2028, 2029, 2030, 2031, 2032, 2033, 2034, 2035, 2036, 2037, 2038, 2039, 2040, 2041, 2042, 2043, 2044, 2045, 2046, 2047, 2048, 2049, 2050, 2051, 2052, 2053, 2054, 2055, 2056, 2057, 2058, 2059, 2060, 2061, 2062, 2063, 2064, 2065, 2066, 2067, 2068, 2069, 2070, 2071, 2072, 2073, 2074, 2075, 2076, 2077, 2078, 2079, 2080, 2081, 2082, 2083, 2084, 2085, 2086, 2087, 2088, 2089, 2090, 2091, 2092, 2093, 2094, 2095, 2096, 2097, 2098, 2099, 2100, 2101, 2102, 2103, 2104, 2105, 2106, 2107, 2108, 2109, 2110, 2111, 2112, 2113, 2114, 2115, 2116, 2117, 2118, 2119, 2120, 2121, 2122, 2123, 2124, 2125, 2126, 2127, 2128, 2129, 2130, 2131, 2132, 2133, 2134, 2135, 2136, 2137, 2138, 2139, 2140, 2141, 2142, 2143, 2144, 2145, 2146, 2147, 2148, 2149, 2150, 2151, 2152, 2153, 2154, 2155, 2156, 2157, 2158, 2159, 2160, 2161, 2162, 2163, 2164, 2165, 2166, 2167, 2168, 2169, 2170, 2171, 2172, 2173, 2174, 2175, 2176, 2177, 2178, 2179, 2180, 2181, 2182, 2183, 2184, 2185, 2186, 2187, 2188, 2189, 2190, 2191, 2192, 2193, 2194, 2195, 2196, 2197, 2198, 2199, 2200, 2201, 2202, 2203, 2204, 2205, 3269, 3270, 3271, 3272, 3273, 3274, 3275, 3276, 3277, 3278, 3279, 3280, 3281, 3282, 3283, 3284, 3285, 3296, 3302, 3303, 3304, 3305, 3306, 3307, 3308, 3309, 3310, 3311, 3312, 3313, 3314, 3315, 3316, 3317, 3318, 3319, 3320, 3321, 3322, 3323, 3324, 3325, 3326, 3327, 3328, 3329, 3330, 3331, 3332, 3333, 3334, 3335, 3336, 3337, 3338, 3339, 3340, 3341, 3342, 3343, 3344, 3345, 3346, 3347, 3348, 3349, 3350, 3351, 3352, 3353, 3354, 3355, 3356, 3357, 3358, 3359, 3360, 3361, 3362, 3363, 3364, 3365, 3366, 3367, 3368, 3369, 3370, 3371, 3372, 3373, 3374, 3375, 3376, 3377, 3378, 3379, 3380, 3381, 3382, 3383, 3384, 3385, 3386, 3387, 3388, 3389, 3390, 3391, 3392, 3393, 3394, 3395, 3396, 3397, 3398, 3399, 3400, 3401, 3402, 3403, 3404, 3405, 3406, 3407, 3408, 3409, 3410, 3411, 3412, 3413, 3414, 3415, 3416, 3417, 3418, 3419, 3420, 3421, 3422, 3423, 3424, 3425, 3426, 3427, 3428, 3429, 3430, 3431, 3432, 3433, 3434, 3435, 3436, 3437, 3438, 3439, 3440, 3441, 3442, 3443, 3444, 3445, 3446, 3447, 3448, 3449, 3450, 3451, 3452, 3453, 3454, 3455, 3456, 3457, 3458, 3459, 3460, 3461, 3462, 3463, 3464, 3465, 3466, 3467, 3468, 3469, 3470, 3471, 3472, 3473, 3474, 3475, 3476, 3477, 3478, 3479, 3480, 3481, 3482, 3483, 3484, 3485, 3486, 3487, 3488, 3489, 3490, 3491, 3492, 3493, 3494, 3495, 3496, 3497, 3498, 3499, 3500, 3501, 3502, 3503, 3504, 3505, 3506, 3507, 3508, 3509, 3510, 3511, 3512, 3513, 3514, 3515, 3516, 3517, 3518, 3519, 3520, 3521, 3522, 3523, 3524, 3525, 3526, 3527, 3528, 3529, 3530, 3531, 3532, 3533, 3534, 3535, 3536, 3537, 3538, 3539, 3540, 3541, 3542, 3543, 3544, 3545, 3546, 3547, 3548, 3549, 3550, 3551, 3552, 3553, 3554, 3555, 3556, 3557, 3558, 3559, 4066, 4101, 4102, 4103, 4104, 4105, 4106, 4107, 4108, 4109, 4110, 4111, 4112, 4113, 4114, 4115, 4116, 4117, 4118, 4119, 4120, 4121, 4122, 4123, 4124, 4125, 4126, 4127, 4128, 4129, 4130, 4131, 4132, 4133, 4134, 4135, 4136, 4137, 4138, 4139, 4140, 4141, 4142, 4143, 4144, 4145, 4146, 4147, 4148, 4149, 4150, 4151, 4152, 4153, 4154, 4155, 4156, 4157, 4158, 4159, 4160, 4161, 4162, 4163, 4164, 4165, 4166, 4167, 4168, 4169, 4170, 4171, 4172, 4173, 4174, 4175, 4176, 4177, 4178, 4179, 4180, 4181, 4182, 4183, 4184, 4185, 4186, 4187, 4188, 4189, 4190, 4191, 4192, 4193, 4194, 4195, 4196, 4197, 4198, 4199, 4200, 4201, 4202, 4203, 4204, 4205, 4469, 4470, 4471, 4472, 4473, 4474, 4475, 4479, 4480, 4481, 4482, 4483, 4484, 4485, 4486, 4487, 4488, 4489, 4490, 4491, 4492, 4493, 4494, 4495, 4496, 4497, 4498, 4499, 4500, 4501, 4502, 4503, 4504, 4505, 4506, 4507, 4508, 4509, 4510, 4511, 4512, 4513, 4514, 4515, 4516, 4517, 4518, 4519, 4520, 4521, 4522, 4523, 4524, 4525, 4526, 4527, 4528, 4529, 4530, 4531, 4532, 4533, 4534, 4535, 4536, 4537, 4538, 4539, 4540, 4541, 4542, 4543, 4544, 4545, 4546, 4547, 4548, 4549, 4550, 4551, 4552, 4553, 4554, 4555, 4556, 4557, 4558, 4559, 4560, 4561, 4562, 4563, 4564, 4565, 4566, 4567, 4568, 4569, 4570, 4571, 4572, 4573, 4574, 4575, 4576, 4577, 4578, 4579, 4580, 4581]\u001b[0m\n",
      "\u001b[36mRight indices for structure 4: [20, 21, 22, 23, 24, 25, 26, 27, 28, 29, 30, 31, 32, 33, 34, 35, 36, 37, 38, 39, 40, 41, 42, 43, 916, 917, 918, 919, 920, 921, 922, 923, 924, 925, 926, 927, 928, 929, 930, 931, 932, 933, 934, 935, 936, 937, 938, 939, 940, 941, 942, 943, 944, 945, 946, 947, 948, 949, 950, 951, 952, 953, 954, 955, 956, 957, 958, 959, 960, 961, 962, 963, 964, 965, 966, 967, 968, 969, 970, 971, 972, 973, 974, 975, 976, 977, 978, 979, 980, 981, 982, 983, 984, 985, 986, 987, 988, 989, 990, 991, 992, 993, 994, 995, 996, 997, 998, 999, 1000, 1001, 1002, 1003, 1004, 1005, 1006, 1007, 1008, 1009, 1010, 1011, 1012, 1013, 1014, 1015, 1016, 1017, 1018, 1019, 1020, 1021, 1022, 1023, 1024, 1025, 1026, 1027, 1028, 1029, 1030, 1031, 1032, 1033, 1034, 1035, 1036, 1037, 1038, 1039, 1040, 1041, 1042, 1043, 1044, 1045, 1046, 1047, 1048, 1285, 1286, 1287, 1288, 1289, 1290, 1291, 1292, 1293, 1294, 1295, 1296, 1297, 1298, 1299, 1300, 1301, 1302, 1303, 1304, 1305, 1306, 1307, 1308, 1309, 1310, 1311, 1312, 1313, 1314, 1315, 1316, 1317, 1318, 1319, 1320, 1321, 1322, 1323, 1324, 1325, 1326, 1327, 1328, 1329, 1330, 1331, 1332, 1333, 1334, 1335, 1336, 1337, 1338, 1339, 1340, 1341, 1342, 1343, 1344, 1345, 1346, 1347, 1348, 1349, 1350, 1351, 1352, 1353, 1354, 1355, 1356, 1357, 1358, 1359, 1360, 1361, 1362, 1363, 1364, 1365, 1366, 1367, 1368, 1369, 1370, 1371, 1372, 1373, 1374, 1375, 1376, 1377, 1378, 1379, 1380, 1381, 1382, 1383, 1384, 1385, 1386, 1387, 1388, 1389, 1390, 1391, 1392, 1393, 1394, 1395, 1396, 1397, 1398, 1399, 1400, 1401, 1402, 1403, 1404, 1405, 1406, 1407, 1408, 1409, 1410, 1411, 1412, 1413, 1414, 1415, 1416, 1417, 1418, 1419, 1420, 1421, 1422, 1423, 1424, 1425, 1426, 1427, 1428, 1429, 1430, 1431, 1432, 1433, 1434, 1435, 1436, 1676, 1677, 1678, 1679, 1680, 1681, 1682, 1683, 1684, 1685, 1686, 1687, 1688, 1689, 1690, 1691, 1692, 1693, 1694, 1695, 1696, 1697, 1698, 1699, 1700, 1701, 1702, 1703, 1704, 1705, 1706, 1707, 1708, 1709, 1710, 1711, 1712, 1713, 1714, 1715, 1716, 1717, 1718, 1719, 1720, 1721, 1722, 1723, 1724, 1725, 1726, 1727, 1728, 1729, 1730, 1731, 1732, 1733, 1734, 1735, 1736, 1737, 1738, 1739, 1740, 1741, 1742, 1743, 1744, 1745, 1746, 1747, 1748, 1749, 1750, 1751, 1752, 1753, 1754, 1755, 1756, 1757, 1758, 1759, 1760, 1761, 1762, 1763, 1764, 1765, 1766, 1767, 1768, 1769, 1770, 1771, 1772, 1773, 1774, 1775, 1776, 1777, 1778, 1779, 1780, 1781, 1782, 1783, 1784, 1785, 1786, 1787, 1788, 1789, 1790, 1791, 1792, 1793, 1794, 1795, 1796, 1797, 1798, 2312, 2313, 2314, 2315, 2316, 2317, 2318, 2319, 2320, 2321, 2322, 2323, 2324, 2325, 2326, 2327, 2328, 2329, 2330, 2331, 2332, 2333, 2334, 2335, 2336, 2337, 2338, 2339, 2340, 2341, 2342, 2343, 2344, 2345, 2346, 2347, 2348, 2349, 2350, 2351, 2352, 2353, 2354, 2355, 2356, 2357, 2358, 2359, 2360, 2361, 2362, 2363, 2364, 2365, 2366, 2367, 2368, 2369, 2370, 2371, 2372, 2373, 2374, 2375, 2376, 2377, 2378, 2379, 2380, 2381, 2382, 2383, 2384, 2385, 2386, 2387, 2388, 2389, 2390, 2391, 2392, 2393, 2394, 2395, 2396, 2397, 2398, 2399, 2400, 2401, 2402, 2403, 2404, 2405, 2406, 2407, 2408, 2409, 2410, 2411, 2412, 2413, 2414, 2415, 2416, 2417, 2418, 2419, 2420, 2421, 2422, 2423, 2424, 2425, 2426, 2427, 2428, 2429, 2430, 2431, 2432, 2433, 2434, 2435, 2436, 2437, 2438, 2439, 2440, 2441, 2442, 2443, 2444, 2445, 2446, 2447, 2448, 2449, 2450, 2451, 2452, 2453, 2454, 2455, 2456, 2457, 2458, 2459, 2460, 2461, 2462, 2463, 2464, 2465, 2466, 2467, 2468, 2469, 2470, 2471, 2472, 2473, 2474, 2475, 2476, 2477, 2478, 2479, 2480, 2481, 2482, 2483, 2484, 2485, 2486, 2487, 2488, 2489, 2490, 2491, 2492, 2493, 2494, 2495, 2496, 2497, 2498, 2499, 2500, 2501, 2513, 2514, 2515, 2516, 2517, 2518, 2519, 2520, 2521, 2522, 2523, 2524, 2527, 2528, 2529, 2530, 2531, 2532, 2533, 3560, 3561, 3562, 3563, 3564, 3565, 3566, 3567, 3568, 3569, 3570, 3571, 3572, 3573, 3574, 3575, 3576, 3577, 3578, 3579, 3580, 3581, 3582, 3583, 3584, 3585, 3586, 3587, 3588, 3589, 3590, 3591, 3592, 3593, 3594, 3595, 3596, 3597, 3598, 3599, 3600, 3601, 3602, 3603, 3604, 3605, 3606, 3607, 3608, 3609, 3610, 3611, 3612, 3613, 3614, 3615, 3616, 3617, 3618, 3619, 3620, 3621, 3622, 3623, 3624, 3625, 3626, 3627, 3628, 3629, 3630, 3631, 3632, 3633, 3634, 3635, 3636, 3637, 3638, 3639, 3640, 3641, 3642, 3643, 3644, 3645, 3646, 3647, 3648, 3649, 3650, 3651, 3652, 3653, 3654, 3655, 3656, 3657, 3658, 3659, 3660, 3661, 3662, 3663, 3664, 3665, 3666, 3667, 3668, 3669, 3670, 3671, 3672, 3673, 3674, 3675, 3676, 3677, 3678, 3679, 3680, 3682, 3683, 3684, 3685, 3686, 3687, 3688, 3689, 3690, 3691, 3692, 3693, 3694, 3695, 3696, 3697, 3698, 3699, 3700, 3701, 3702, 3703, 3704, 3705, 3706, 3707, 3708, 3709, 3710, 3711, 3712, 3713, 3714, 3715, 3750, 4206, 4207, 4208, 4209, 4210, 4211, 4212, 4213, 4214, 4215, 4216, 4217, 4218, 4219, 4220, 4221, 4222, 4223, 4224, 4225, 4226, 4227, 4228, 4229, 4230, 4231, 4232, 4233, 4234, 4235, 4236, 4237, 4238, 4239, 4240, 4241, 4242, 4243, 4244, 4245, 4246, 4247]\u001b[0m\n",
      "\u001b[36mLeft indices for structure 5: [0, 1, 2, 3, 4, 5, 6, 7, 8, 9, 10, 11, 12, 13, 14, 15, 16, 17, 18, 19, 151, 152, 153, 154, 155, 156, 157, 158, 159, 160, 161, 162, 163, 164, 165, 166, 167, 168, 169, 170, 171, 172, 173, 174, 175, 176, 177, 178, 179, 180, 181, 182, 183, 184, 185, 186, 187, 188, 189, 190, 191, 192, 193, 194, 195, 196, 197, 198, 199, 200, 201, 202, 203, 204, 205, 206, 207, 208, 209, 210, 211, 212, 213, 214, 215, 216, 217, 218, 219, 220, 221, 222, 223, 224, 225, 226, 227, 228, 229, 230, 231, 232, 233, 234, 235, 236, 237, 238, 239, 240, 241, 242, 243, 244, 245, 246, 247, 248, 249, 250, 251, 252, 253, 254, 255, 256, 257, 258, 259, 260, 261, 262, 263, 264, 265, 266, 267, 268, 269, 270, 271, 272, 273, 274, 275, 276, 277, 278, 279, 280, 281, 282, 283, 284, 285, 286, 287, 288, 289, 290, 291, 292, 293, 294, 295, 296, 297, 298, 299, 300, 525, 526, 527, 528, 529, 530, 531, 532, 533, 534, 535, 536, 537, 538, 539, 540, 541, 542, 543, 544, 545, 546, 547, 548, 549, 550, 551, 552, 553, 554, 555, 556, 557, 558, 559, 560, 561, 562, 563, 564, 565, 566, 567, 568, 569, 570, 571, 572, 573, 574, 575, 576, 577, 578, 579, 580, 581, 582, 583, 584, 585, 586, 587, 588, 589, 590, 591, 592, 593, 594, 595, 596, 597, 598, 599, 600, 601, 602, 603, 604, 605, 606, 607, 608, 609, 610, 611, 612, 613, 614, 615, 616, 617, 618, 619, 620, 621, 622, 623, 624, 625, 626, 627, 628, 629, 630, 631, 632, 633, 634, 635, 636, 637, 638, 639, 640, 641, 642, 643, 644, 645, 646, 647, 648, 649, 650, 651, 652, 653, 654, 655, 656, 657, 658, 659, 660, 661, 662, 663, 664, 665, 666, 667, 668, 669, 670, 671, 672, 673, 674, 675, 676, 677, 678, 679, 680, 681, 682, 683, 684, 2028, 2029, 2030, 2031, 2032, 2033, 2034, 2035, 2036, 2037, 2038, 2039, 2040, 2041, 2042, 2043, 2044, 2045, 2046, 2047, 2048, 2049, 2050, 2051, 2052, 2053, 2054, 2055, 2056, 2057, 2058, 2059, 2060, 2061, 2062, 2063, 2064, 2065, 2066, 2067, 2068, 2069, 2070, 2071, 2072, 2073, 2074, 2075, 2076, 2077, 2078, 2079, 2080, 2081, 2082, 2083, 2084, 2085, 2086, 2087, 2088, 2089, 2090, 2091, 2092, 2093, 2094, 2095, 2096, 2097, 2098, 2099, 2100, 2101, 2102, 2103, 2104, 2105, 2106, 2107, 2108, 2109, 2110, 2111, 2112, 2113, 2114, 2115, 2116, 2117, 2118, 2119, 2120, 2121, 2122, 2123, 2124, 2125, 2126, 2127, 2128, 2129, 2130, 2131, 2132, 2133, 2134, 2135, 2136, 2137, 2138, 2139, 2140, 2141, 2142, 2143, 2144, 2145, 2146, 2147, 2148, 2149, 2150, 2151, 2152, 2153, 2154, 2155, 2156, 2157, 2158, 2159, 2160, 2161, 2162, 2163, 2164, 2165, 2166, 2167, 2168, 2169, 2170, 2171, 2172, 2173, 2174, 2175, 2176, 2177, 2178, 2179, 2180, 2181, 2182, 2183, 2184, 2185, 2186, 2187, 2188, 2189, 2190, 2191, 2192, 2193, 2194, 2195, 2196, 2197, 2198, 2199, 2200, 2201, 2202, 2203, 2204, 2205, 3269, 3270, 3271, 3272, 3273, 3274, 3275, 3276, 3277, 3278, 3279, 3280, 3281, 3282, 3283, 3284, 3285, 3296, 3302, 3303, 3304, 3305, 3306, 3307, 3308, 3309, 3310, 3311, 3312, 3313, 3314, 3315, 3316, 3317, 3318, 3319, 3320, 3321, 3322, 3323, 3324, 3325, 3326, 3327, 3328, 3329, 3330, 3331, 3332, 3333, 3334, 3335, 3336, 3337, 3338, 3339, 3340, 3341, 3342, 3343, 3344, 3345, 3346, 3347, 3348, 3349, 3350, 3351, 3352, 3353, 3354, 3355, 3356, 3357, 3358, 3359, 3360, 3361, 3362, 3363, 3364, 3365, 3366, 3367, 3368, 3369, 3370, 3371, 3372, 3373, 3374, 3375, 3376, 3377, 3378, 3379, 3380, 3381, 3382, 3383, 3384, 3385, 3386, 3387, 3388, 3389, 3390, 3391, 3392, 3393, 3394, 3395, 3396, 3397, 3398, 3399, 3400, 3401, 3402, 3403, 3404, 3405, 3406, 3407, 3408, 3409, 3410, 3411, 3412, 3413, 3414, 3415, 3416, 3417, 3418, 3419, 3420, 3421, 3422, 3423, 3424, 3425, 3426, 3427, 3428, 3429, 3430, 3431, 3432, 3433, 3434, 3435, 3436, 3437, 3438, 3439, 3440, 3441, 3442, 3443, 3444, 3445, 3446, 3447, 3448, 3449, 3450, 3451, 3452, 3453, 3454, 3455, 3456, 3457, 3458, 3459, 3460, 3461, 3462, 3463, 3464, 3465, 3466, 3467, 3468, 3469, 3470, 3471, 3472, 3473, 3474, 3475, 3476, 3477, 3478, 3479, 3480, 3481, 3482, 3483, 3484, 3485, 3486, 3487, 3488, 3489, 3490, 3491, 3492, 3493, 3494, 3495, 3496, 3497, 3498, 3499, 3500, 3501, 3502, 3503, 3504, 3505, 3506, 3507, 3508, 3509, 3510, 3511, 3512, 3513, 3514, 3515, 3516, 3517, 3518, 3519, 3520, 3521, 3522, 3523, 3524, 3525, 3526, 3527, 3528, 3529, 3530, 3531, 3532, 3533, 3534, 3535, 3536, 3537, 3538, 3539, 3540, 3541, 3542, 3543, 3544, 3545, 3546, 3547, 3548, 3549, 3550, 3551, 3552, 3553, 3554, 3555, 3556, 3557, 3558, 3559, 4066, 4101, 4102, 4103, 4104, 4105, 4106, 4107, 4108, 4109, 4110, 4111, 4112, 4113, 4114, 4115, 4116, 4117, 4118, 4119, 4120, 4121, 4122, 4123, 4124, 4125, 4126, 4127, 4128, 4129, 4130, 4131, 4132, 4133, 4134, 4135, 4136, 4137, 4138, 4139, 4140, 4141, 4142, 4143, 4144, 4145, 4146, 4147, 4148, 4149, 4150, 4151, 4152, 4153, 4154, 4155, 4156, 4157, 4158, 4159, 4160, 4161, 4162, 4163, 4164, 4165, 4166, 4167, 4168, 4169, 4170, 4171, 4172, 4173, 4174, 4175, 4176, 4177, 4178, 4179, 4180, 4181, 4182, 4183, 4184, 4185, 4186, 4187, 4188, 4189, 4190, 4191, 4192, 4193, 4194, 4195, 4196, 4197, 4198, 4199, 4200, 4201, 4202, 4203, 4204, 4205, 4469, 4470, 4471, 4472, 4473, 4474, 4475, 4479, 4480, 4481, 4482, 4483, 4484, 4485, 4486, 4487, 4488, 4489, 4490, 4491, 4492, 4493, 4494, 4495, 4496, 4497, 4498, 4499, 4500, 4501, 4502, 4503, 4504, 4505, 4506, 4507, 4508, 4509, 4510, 4511, 4512, 4513, 4514, 4515, 4516, 4517, 4518, 4519, 4520, 4521, 4522, 4523, 4524, 4525, 4526, 4527, 4528, 4529, 4530, 4531, 4532, 4533, 4534, 4535, 4536, 4537, 4538, 4539, 4540, 4541, 4542, 4543, 4544, 4545, 4546, 4547, 4548, 4549, 4550, 4551, 4552, 4553, 4554, 4555, 4556, 4557, 4558, 4559, 4560, 4561, 4562, 4563, 4564, 4565, 4566, 4567, 4568, 4569, 4570, 4571, 4572, 4573, 4574, 4575, 4576, 4577, 4578, 4579, 4580, 4581]\u001b[0m\n",
      "\u001b[36mRight indices for structure 5: [20, 21, 22, 23, 24, 25, 26, 27, 28, 29, 30, 31, 32, 33, 34, 35, 36, 37, 38, 39, 40, 41, 42, 43, 916, 917, 918, 919, 920, 921, 922, 923, 924, 925, 926, 927, 928, 929, 930, 931, 932, 933, 934, 935, 936, 937, 938, 939, 940, 941, 942, 943, 944, 945, 946, 947, 948, 949, 950, 951, 952, 953, 954, 955, 956, 957, 958, 959, 960, 961, 962, 963, 964, 965, 966, 967, 968, 969, 970, 971, 972, 973, 974, 975, 976, 977, 978, 979, 980, 981, 982, 983, 984, 985, 986, 987, 988, 989, 990, 991, 992, 993, 994, 995, 996, 997, 998, 999, 1000, 1001, 1002, 1003, 1004, 1005, 1006, 1007, 1008, 1009, 1010, 1011, 1012, 1013, 1014, 1015, 1016, 1017, 1018, 1019, 1020, 1021, 1022, 1023, 1024, 1025, 1026, 1027, 1028, 1029, 1030, 1031, 1032, 1033, 1034, 1035, 1036, 1037, 1038, 1039, 1040, 1041, 1042, 1043, 1044, 1045, 1046, 1047, 1048, 1285, 1286, 1287, 1288, 1289, 1290, 1291, 1292, 1293, 1294, 1295, 1296, 1297, 1298, 1299, 1300, 1301, 1302, 1303, 1304, 1305, 1306, 1307, 1308, 1309, 1310, 1311, 1312, 1313, 1314, 1315, 1316, 1317, 1318, 1319, 1320, 1321, 1322, 1323, 1324, 1325, 1326, 1327, 1328, 1329, 1330, 1331, 1332, 1333, 1334, 1335, 1336, 1337, 1338, 1339, 1340, 1341, 1342, 1343, 1344, 1345, 1346, 1347, 1348, 1349, 1350, 1351, 1352, 1353, 1354, 1355, 1356, 1357, 1358, 1359, 1360, 1361, 1362, 1363, 1364, 1365, 1366, 1367, 1368, 1369, 1370, 1371, 1372, 1373, 1374, 1375, 1376, 1377, 1378, 1379, 1380, 1381, 1382, 1383, 1384, 1385, 1386, 1387, 1388, 1389, 1390, 1391, 1392, 1393, 1394, 1395, 1396, 1397, 1398, 1399, 1400, 1401, 1402, 1403, 1404, 1405, 1406, 1407, 1408, 1409, 1410, 1411, 1412, 1413, 1414, 1415, 1416, 1417, 1418, 1419, 1420, 1421, 1422, 1423, 1424, 1425, 1426, 1427, 1428, 1429, 1430, 1431, 1432, 1433, 1434, 1435, 1436, 1676, 1677, 1678, 1679, 1680, 1681, 1682, 1683, 1684, 1685, 1686, 1687, 1688, 1689, 1690, 1691, 1692, 1693, 1694, 1695, 1696, 1697, 1698, 1699, 1700, 1701, 1702, 1703, 1704, 1705, 1706, 1707, 1708, 1709, 1710, 1711, 1712, 1713, 1714, 1715, 1716, 1717, 1718, 1719, 1720, 1721, 1722, 1723, 1724, 1725, 1726, 1727, 1728, 1729, 1730, 1731, 1732, 1733, 1734, 1735, 1736, 1737, 1738, 1739, 1740, 1741, 1742, 1743, 1744, 1745, 1746, 1747, 1748, 1749, 1750, 1751, 1752, 1753, 1754, 1755, 1756, 1757, 1758, 1759, 1760, 1761, 1762, 1763, 1764, 1765, 1766, 1767, 1768, 1769, 1770, 1771, 1772, 1773, 1774, 1775, 1776, 1777, 1778, 1779, 1780, 1781, 1782, 1783, 1784, 1785, 1786, 1787, 1788, 1789, 1790, 1791, 1792, 1793, 1794, 1795, 1796, 1797, 1798, 2312, 2313, 2314, 2315, 2316, 2317, 2318, 2319, 2320, 2321, 2322, 2323, 2324, 2325, 2326, 2327, 2328, 2329, 2330, 2331, 2332, 2333, 2334, 2335, 2336, 2337, 2338, 2339, 2340, 2341, 2342, 2343, 2344, 2345, 2346, 2347, 2348, 2349, 2350, 2351, 2352, 2353, 2354, 2355, 2356, 2357, 2358, 2359, 2360, 2361, 2362, 2363, 2364, 2365, 2366, 2367, 2368, 2369, 2370, 2371, 2372, 2373, 2374, 2375, 2376, 2377, 2378, 2379, 2380, 2381, 2382, 2383, 2384, 2385, 2386, 2387, 2388, 2389, 2390, 2391, 2392, 2393, 2394, 2395, 2396, 2397, 2398, 2399, 2400, 2401, 2402, 2403, 2404, 2405, 2406, 2407, 2408, 2409, 2410, 2411, 2412, 2413, 2414, 2415, 2416, 2417, 2418, 2419, 2420, 2421, 2422, 2423, 2424, 2425, 2426, 2427, 2428, 2429, 2430, 2431, 2432, 2433, 2434, 2435, 2436, 2437, 2438, 2439, 2440, 2441, 2442, 2443, 2444, 2445, 2446, 2447, 2448, 2449, 2450, 2451, 2452, 2453, 2454, 2455, 2456, 2457, 2458, 2459, 2460, 2461, 2462, 2463, 2464, 2465, 2466, 2467, 2468, 2469, 2470, 2471, 2472, 2473, 2474, 2475, 2476, 2477, 2478, 2479, 2480, 2481, 2482, 2483, 2484, 2485, 2486, 2487, 2488, 2489, 2490, 2491, 2492, 2493, 2494, 2495, 2496, 2497, 2498, 2499, 2500, 2501, 2513, 2514, 2515, 2516, 2517, 2518, 2519, 2520, 2521, 2522, 2523, 2524, 2527, 2528, 2529, 2530, 2531, 2532, 2533, 3560, 3561, 3562, 3563, 3564, 3565, 3566, 3567, 3568, 3569, 3570, 3571, 3572, 3573, 3574, 3575, 3576, 3577, 3578, 3579, 3580, 3581, 3582, 3583, 3584, 3585, 3586, 3587, 3588, 3589, 3590, 3591, 3592, 3593, 3594, 3595, 3596, 3597, 3598, 3599, 3600, 3601, 3602, 3603, 3604, 3605, 3606, 3607, 3608, 3609, 3610, 3611, 3612, 3613, 3614, 3615, 3616, 3617, 3618, 3619, 3620, 3621, 3622, 3623, 3624, 3625, 3626, 3627, 3628, 3629, 3630, 3631, 3632, 3633, 3634, 3635, 3636, 3637, 3638, 3639, 3640, 3641, 3642, 3643, 3644, 3645, 3646, 3647, 3648, 3649, 3650, 3651, 3652, 3653, 3654, 3655, 3656, 3657, 3658, 3659, 3660, 3661, 3662, 3663, 3664, 3665, 3666, 3667, 3668, 3669, 3670, 3671, 3672, 3673, 3674, 3675, 3676, 3677, 3678, 3679, 3680, 3682, 3683, 3684, 3685, 3686, 3687, 3688, 3689, 3690, 3691, 3692, 3693, 3694, 3695, 3696, 3697, 3698, 3699, 3700, 3701, 3702, 3703, 3704, 3705, 3706, 3707, 3708, 3709, 3710, 3711, 3712, 3713, 3714, 3715, 3750, 4206, 4207, 4208, 4209, 4210, 4211, 4212, 4213, 4214, 4215, 4216, 4217, 4218, 4219, 4220, 4221, 4222, 4223, 4224, 4225, 4226, 4227, 4228, 4229, 4230, 4231, 4232, 4233, 4234, 4235, 4236, 4237, 4238, 4239, 4240, 4241, 4242, 4243, 4244, 4245, 4246, 4247]\u001b[0m\n",
      "\u001b[33mIteration 2\u001b[0m\n",
      "\u001b[33mProcessing structure 1 in iteration 2\u001b[0m\n",
      "\u001b[31mStep 1: Finding a valid point in the DNA structure...\u001b[0m\n"
     ]
    },
    {
     "name": "stderr",
     "output_type": "stream",
     "text": [
      "INFO: Processed 0 / 1 confs\r"
     ]
    },
    {
     "name": "stdout",
     "output_type": "stream",
     "text": [
      "\u001b[32mFound a valid point in the DNA structure: [ 0.02803046  0.03466347 20.56757278]\u001b[0m\n",
      "\u001b[34mStep 2: Removing three random staples within a sphere around the point...\u001b[0m\n",
      "Bases in sphere: [95, 96, 97, 98, 99, 100, 350, 351, 352, 353, 358, 359, 360, 465, 466, 467, 468, 469, 737, 738, 739, 740, 741, 742, 1967, 1968, 1969, 1970, 1973, 1974, 1975, 1976, 1977, 1978, 2258, 2259, 2260, 2261, 2262, 2263, 4006, 4007, 4008, 4009, 4010, 4020, 4025, 4026, 4027, 4028, 4029]\n",
      "Base to strand mapping: {95: 2, 96: 2, 97: 2, 98: 2, 99: 2, 100: 2, 350: 2, 351: 2, 352: 2, 353: 2, 358: 2, 359: 2, 360: 2, 465: 2, 466: 2, 467: 2, 468: 2, 469: 2, 737: 2, 738: 2, 739: 2, 740: 2, 741: 2, 742: 2, 1967: 2, 1968: 2, 1969: 2, 1970: 2, 1973: 2, 1974: 2, 1975: 2, 1976: 2, 1977: 2, 1978: 2, 2258: 2, 2259: 2, 2260: 2, 2261: 2, 2262: 2, 2263: 2, 4006: 48, 4007: 48, 4008: 48, 4009: 48, 4010: 48, 4020: 48, 4025: 48, 4026: 48, 4027: 48, 4028: 48, 4029: 48}\n",
      "Strands in sphere to consider for removal: {48}\n",
      "Total number of new structures created: 0\n",
      "\u001b[36mBy modifying structure 1, 0 mutant structures were produced.\u001b[0m\n",
      "\u001b[33mProcessing structure 2 in iteration 2\u001b[0m\n",
      "\u001b[31mStep 1: Finding a valid point in the DNA structure...\u001b[0m\n",
      "\u001b[32mFound a valid point in the DNA structure: [2.50122652e-02 9.90681095e-02 5.56124508e+01]\u001b[0m\n",
      "\u001b[34mStep 2: Removing three random staples within a sphere around the point...\u001b[0m\n",
      "Bases in sphere: [181, 182, 183, 184, 185, 190, 191, 192, 263, 264, 265, 266, 267, 268, 558, 559, 560, 561, 562, 645, 646, 647, 648, 652, 653, 654, 655, 656, 2059, 2060, 2061, 2062, 2063, 2064, 2165, 2166, 2167, 2168, 2169, 2170, 3346, 3397, 3398, 3399, 3400, 3401, 3402, 3403, 3404, 3407, 3408, 3427, 3428, 3429, 3430, 3437, 3438, 3439, 4144, 4145, 4146, 4147, 4148, 4149, 4155, 4156, 4157, 4158, 4159, 4160, 4161, 4500, 4501, 4502, 4503, 4504, 4505, 4520]\n",
      "Base to strand mapping: {181: 2, 182: 2, 183: 2, 184: 2, 185: 2, 190: 2, 191: 2, 192: 2, 263: 2, 264: 2, 265: 2, 266: 2, 267: 2, 268: 2, 558: 2, 559: 2, 560: 2, 561: 2, 562: 2, 645: 2, 646: 2, 647: 2, 648: 2, 652: 2, 653: 2, 654: 2, 655: 2, 656: 2, 2059: 2, 2060: 2, 2061: 2, 2062: 2, 2063: 2, 2064: 2, 2165: 2, 2166: 2, 2167: 2, 2168: 2, 2169: 2, 2170: 2, 3346: 30, 3397: 31, 3398: 31, 3399: 31, 3400: 31, 3401: 31, 3402: 31, 3403: 31, 3404: 31, 3407: 31, 3408: 31, 3427: 32, 3428: 32, 3429: 32, 3430: 32, 3437: 33, 3438: 33, 3439: 33, 4144: 52, 4145: 52, 4146: 52, 4147: 52, 4148: 52, 4149: 52, 4155: 52, 4156: 52, 4157: 52, 4158: 52, 4159: 52, 4160: 52, 4161: 52, 4500: 67, 4501: 67, 4502: 67, 4503: 67, 4504: 67, 4505: 67, 4520: 67}\n",
      "Strands in sphere to consider for removal: {32, 33, 67, 52, 30, 31}\n",
      "Removed strands: 32, 33, 67\n",
      "Removed strands: 32, 33, 52\n",
      "Removed strands: 32, 33, 30\n",
      "Removed strands: 32, 33, 31\n",
      "Removed strands: 32, 67, 52\n",
      "Removed strands: 32, 67, 30\n",
      "Removed strands: 32, 67, 31\n",
      "Removed strands: 32, 52, 30\n",
      "Removed strands: 32, 52, 31\n",
      "Removed strands: 32, 30, 31\n",
      "Removed strands: 33, 67, 52\n",
      "Removed strands: 33, 67, 30\n",
      "Removed strands: 33, 67, 31\n",
      "Removed strands: 33, 52, 30\n",
      "Removed strands: 33, 52, 31\n",
      "Removed strands: 33, 30, 31\n",
      "Removed strands: 67, 52, 30\n",
      "Removed strands: 67, 52, 31\n",
      "Removed strands: 67, 30, 31\n",
      "Removed strands: 52, 30, 31\n",
      "Total number of new structures created: 20\n",
      "\u001b[36mBy modifying structure 2, 20 mutant structures were produced.\u001b[0m\n",
      "\u001b[33mProcessing structure 3 in iteration 2\u001b[0m\n",
      "\u001b[31mStep 1: Finding a valid point in the DNA structure...\u001b[0m\n",
      "\u001b[32mFound a valid point in the DNA structure: [2.65042912e-02 6.72300920e-02 3.82882411e+01]\u001b[0m\n",
      "\u001b[34mStep 2: Removing three random staples within a sphere around the point...\u001b[0m\n",
      "Bases in sphere: [138, 139, 140, 141, 142, 143, 306, 307, 308, 309, 310, 311, 509, 510, 516, 517, 518, 519, 694, 695, 696, 697, 698, 699, 2016, 2017, 2018, 2019, 2020, 2021, 2208, 2209, 2210, 2211, 2212, 2216, 2217, 2218, 2219, 3205, 3206, 3207, 3208, 3238, 3239, 3240, 3241, 3256, 3257, 3258, 3259, 3260, 3261, 3262, 3266, 3267, 3268, 3289, 4075, 4076, 4077, 4078, 4079, 4080, 4081, 4086, 4087, 4088, 4089, 4090, 4091, 4458, 4459, 4460, 4461, 4462]\n",
      "Base to strand mapping: {138: 2, 139: 2, 140: 2, 141: 2, 142: 2, 143: 2, 306: 2, 307: 2, 308: 2, 309: 2, 310: 2, 311: 2, 509: 2, 510: 2, 516: 2, 517: 2, 518: 2, 519: 2, 694: 2, 695: 2, 696: 2, 697: 2, 698: 2, 699: 2, 2016: 2, 2017: 2, 2018: 2, 2019: 2, 2020: 2, 2021: 2, 2208: 2, 2209: 2, 2210: 2, 2211: 2, 2212: 2, 2216: 2, 2217: 2, 2218: 2, 2219: 2, 3205: 26, 3206: 26, 3207: 26, 3208: 26, 3238: 27, 3239: 27, 3240: 27, 3241: 27, 3256: 27, 3257: 27, 3258: 27, 3259: 27, 3260: 27, 3261: 27, 3262: 27, 3266: 27, 3267: 27, 3268: 27, 3289: 28, 4075: 50, 4076: 50, 4077: 50, 4078: 50, 4079: 50, 4080: 50, 4081: 50, 4086: 50, 4087: 50, 4088: 50, 4089: 50, 4090: 50, 4091: 50, 4458: 65, 4459: 65, 4460: 65, 4461: 65, 4462: 65}\n",
      "Strands in sphere to consider for removal: {65, 50, 26, 27, 28}\n",
      "Removed strands: 65, 50, 26\n",
      "Removed strands: 65, 50, 27\n",
      "Removed strands: 65, 50, 28\n",
      "Removed strands: 65, 26, 27\n",
      "Removed strands: 65, 26, 28\n",
      "Removed strands: 65, 27, 28\n",
      "Removed strands: 50, 26, 27\n",
      "Removed strands: 50, 26, 28\n",
      "Removed strands: 50, 27, 28\n",
      "Removed strands: 26, 27, 28\n",
      "Total number of new structures created: 10\n",
      "\u001b[36mBy modifying structure 3, 10 mutant structures were produced.\u001b[0m\n",
      "\u001b[33mProcessing structure 4 in iteration 2\u001b[0m\n",
      "\u001b[31mStep 1: Finding a valid point in the DNA structure...\u001b[0m\n",
      "\u001b[32mFound a valid point in the DNA structure: [  0.0309339   -0.02729235 -13.14481943]\u001b[0m\n",
      "\u001b[34mStep 2: Removing three random staples within a sphere around the point...\u001b[0m\n",
      "Bases in sphere: [823, 824, 825, 826, 827, 1136, 1137, 1138, 1139, 1140, 1197, 1198, 1199, 1200, 1201, 1202, 1517, 1522, 1523, 1524, 1525, 1526, 1527, 1586, 1587, 1588, 1589, 1590, 1591, 1592, 1881, 1882, 1883, 1884, 1885, 1886, 2779, 2780, 2784, 2785, 2786, 2787, 2788, 2789, 2790, 2806, 2816, 2817, 2818, 2819, 2820, 2821, 2822, 2826, 2827, 2828, 2829, 2830, 2831, 2832, 2848, 3821, 3822, 3868, 3869, 3870, 3885, 3886, 3887, 3888, 3889, 3890, 4323, 4324, 4325, 4332, 4333]\n",
      "Base to strand mapping: {823: 2, 824: 2, 825: 2, 826: 2, 827: 2, 1136: 2, 1137: 2, 1138: 2, 1139: 2, 1140: 2, 1197: 2, 1198: 2, 1199: 2, 1200: 2, 1201: 2, 1202: 2, 1517: 2, 1522: 2, 1523: 2, 1524: 2, 1525: 2, 1526: 2, 1527: 2, 1586: 2, 1587: 2, 1588: 2, 1589: 2, 1590: 2, 1591: 2, 1592: 2, 1881: 2, 1882: 2, 1883: 2, 1884: 2, 1885: 2, 1886: 2, 2779: 16, 2780: 16, 2784: 16, 2785: 16, 2786: 16, 2787: 16, 2788: 16, 2789: 16, 2790: 16, 2806: 16, 2816: 17, 2817: 17, 2818: 17, 2819: 17, 2820: 17, 2821: 17, 2822: 17, 2826: 17, 2827: 17, 2828: 17, 2829: 17, 2830: 17, 2831: 17, 2832: 17, 2848: 17, 3821: 43, 3822: 43, 3868: 44, 3869: 44, 3870: 44, 3885: 44, 3886: 44, 3887: 44, 3888: 44, 3889: 44, 3890: 44, 4323: 58, 4324: 58, 4325: 58, 4332: 59, 4333: 59}\n",
      "Strands in sphere to consider for removal: {43, 44, 16, 17, 58, 59}\n",
      "Removed strands: 43, 44, 16\n",
      "Removed strands: 43, 44, 17\n",
      "Removed strands: 43, 44, 58\n",
      "Removed strands: 43, 44, 59\n",
      "Removed strands: 43, 16, 17\n",
      "Removed strands: 43, 16, 58\n",
      "Removed strands: 43, 16, 59\n",
      "Removed strands: 43, 17, 58\n",
      "Removed strands: 43, 17, 59\n",
      "Removed strands: 43, 58, 59\n",
      "Removed strands: 44, 16, 17\n",
      "Removed strands: 44, 16, 58\n",
      "Removed strands: 44, 16, 59\n",
      "Removed strands: 44, 17, 58\n",
      "Removed strands: 44, 17, 59\n",
      "Removed strands: 44, 58, 59\n",
      "Removed strands: 16, 17, 58\n",
      "Removed strands: 16, 17, 59\n",
      "Removed strands: 16, 58, 59\n",
      "Removed strands: 17, 58, 59\n",
      "Total number of new structures created: 20\n",
      "\u001b[36mBy modifying structure 4, 20 mutant structures were produced.\u001b[0m\n",
      "\u001b[33mProcessing structure 5 in iteration 2\u001b[0m\n",
      "\u001b[31mStep 1: Finding a valid point in the DNA structure...\u001b[0m\n",
      "\u001b[32mFound a valid point in the DNA structure: [ 3.26887102e-02 -6.47378784e-02 -3.35202748e+01]\u001b[0m\n",
      "\u001b[34mStep 2: Removing three random staples within a sphere around the point...\u001b[0m\n",
      "Bases in sphere: [875, 876, 877, 878, 879, 1083, 1084, 1085, 1086, 1087, 1088, 1249, 1250, 1251, 1252, 1253, 1254, 1469, 1470, 1471, 1472, 1473, 1474, 1639, 1640, 1641, 1642, 1643, 1644, 1829, 1830, 1831, 1832, 1833, 2628, 2629, 2630, 2631, 2632, 2633, 2656, 2657, 2658, 2659, 2660, 2661, 2667, 2668, 2669, 2670, 3752, 3753, 3754, 3755, 3759, 3760, 3761, 3762, 3763, 3770, 3771, 3772, 3773, 3774, 3775, 4270, 4271, 4272, 4273, 4274, 4278, 4279, 4280, 4281, 4288, 4289]\n",
      "Base to strand mapping: {875: 2, 876: 2, 877: 2, 878: 2, 879: 2, 1083: 2, 1084: 2, 1085: 2, 1086: 2, 1087: 2, 1088: 2, 1249: 2, 1250: 2, 1251: 2, 1252: 2, 1253: 2, 1254: 2, 1469: 2, 1470: 2, 1471: 2, 1472: 2, 1473: 2, 1474: 2, 1639: 2, 1640: 2, 1641: 2, 1642: 2, 1643: 2, 1644: 2, 1829: 2, 1830: 2, 1831: 2, 1832: 2, 1833: 2, 2628: 11, 2629: 11, 2630: 11, 2631: 11, 2632: 11, 2633: 11, 2656: 12, 2657: 12, 2658: 12, 2659: 12, 2660: 12, 2661: 12, 2667: 13, 2668: 13, 2669: 13, 2670: 13, 3752: 40, 3753: 40, 3754: 40, 3755: 40, 3759: 40, 3760: 40, 3761: 40, 3762: 40, 3763: 40, 3770: 40, 3771: 40, 3772: 40, 3773: 40, 3774: 40, 3775: 40, 4270: 56, 4271: 56, 4272: 56, 4273: 56, 4274: 56, 4278: 56, 4279: 56, 4280: 56, 4281: 56, 4288: 56, 4289: 56}\n",
      "Strands in sphere to consider for removal: {40, 11, 12, 13, 56}\n",
      "Removed strands: 40, 11, 12\n",
      "Removed strands: 40, 11, 13\n",
      "Removed strands: 40, 11, 56\n",
      "Removed strands: 40, 12, 13\n",
      "Removed strands: 40, 12, 56\n",
      "Removed strands: 40, 13, 56\n",
      "Removed strands: 11, 12, 13\n",
      "Removed strands: 11, 12, 56\n",
      "Removed strands: 11, 13, 56\n",
      "Removed strands: 12, 13, 56\n",
      "Total number of new structures created: 10\n",
      "\u001b[36mBy modifying structure 5, 10 mutant structures were produced.\u001b[0m\n",
      "\u001b[34mIteration 2: Total number of mutant structures generated: 60.\u001b[0m\n",
      "\u001b[35mStep 3: Exporting DNA structures...\u001b[0m\n",
      "\u001b[33mExport paths: [{'structure_id': 0, 'dat_path': '/home/ava/MetaBackbone_project/Metabackbone-scripts/structure_files/six_helix_oxdna_file/modified/modified_2268_bp/structure_0/1512_bp_rmv_staples.dat', 'top_path': '/home/ava/MetaBackbone_project/Metabackbone-scripts/structure_files/six_helix_oxdna_file/modified/modified_2268_bp/structure_0/1512_bp_rmv_staples.top'}, {'structure_id': 1, 'dat_path': '/home/ava/MetaBackbone_project/Metabackbone-scripts/structure_files/six_helix_oxdna_file/modified/modified_2268_bp/structure_1/1512_bp_rmv_staples.dat', 'top_path': '/home/ava/MetaBackbone_project/Metabackbone-scripts/structure_files/six_helix_oxdna_file/modified/modified_2268_bp/structure_1/1512_bp_rmv_staples.top'}, {'structure_id': 2, 'dat_path': '/home/ava/MetaBackbone_project/Metabackbone-scripts/structure_files/six_helix_oxdna_file/modified/modified_2268_bp/structure_2/1512_bp_rmv_staples.dat', 'top_path': '/home/ava/MetaBackbone_project/Metabackbone-scripts/structure_files/six_helix_oxdna_file/modified/modified_2268_bp/structure_2/1512_bp_rmv_staples.top'}, {'structure_id': 3, 'dat_path': '/home/ava/MetaBackbone_project/Metabackbone-scripts/structure_files/six_helix_oxdna_file/modified/modified_2268_bp/structure_3/1512_bp_rmv_staples.dat', 'top_path': '/home/ava/MetaBackbone_project/Metabackbone-scripts/structure_files/six_helix_oxdna_file/modified/modified_2268_bp/structure_3/1512_bp_rmv_staples.top'}, {'structure_id': 4, 'dat_path': '/home/ava/MetaBackbone_project/Metabackbone-scripts/structure_files/six_helix_oxdna_file/modified/modified_2268_bp/structure_4/1512_bp_rmv_staples.dat', 'top_path': '/home/ava/MetaBackbone_project/Metabackbone-scripts/structure_files/six_helix_oxdna_file/modified/modified_2268_bp/structure_4/1512_bp_rmv_staples.top'}, {'structure_id': 5, 'dat_path': '/home/ava/MetaBackbone_project/Metabackbone-scripts/structure_files/six_helix_oxdna_file/modified/modified_2268_bp/structure_5/1512_bp_rmv_staples.dat', 'top_path': '/home/ava/MetaBackbone_project/Metabackbone-scripts/structure_files/six_helix_oxdna_file/modified/modified_2268_bp/structure_5/1512_bp_rmv_staples.top'}, {'structure_id': 6, 'dat_path': '/home/ava/MetaBackbone_project/Metabackbone-scripts/structure_files/six_helix_oxdna_file/modified/modified_2268_bp/structure_6/1512_bp_rmv_staples.dat', 'top_path': '/home/ava/MetaBackbone_project/Metabackbone-scripts/structure_files/six_helix_oxdna_file/modified/modified_2268_bp/structure_6/1512_bp_rmv_staples.top'}, {'structure_id': 7, 'dat_path': '/home/ava/MetaBackbone_project/Metabackbone-scripts/structure_files/six_helix_oxdna_file/modified/modified_2268_bp/structure_7/1512_bp_rmv_staples.dat', 'top_path': '/home/ava/MetaBackbone_project/Metabackbone-scripts/structure_files/six_helix_oxdna_file/modified/modified_2268_bp/structure_7/1512_bp_rmv_staples.top'}, {'structure_id': 8, 'dat_path': '/home/ava/MetaBackbone_project/Metabackbone-scripts/structure_files/six_helix_oxdna_file/modified/modified_2268_bp/structure_8/1512_bp_rmv_staples.dat', 'top_path': '/home/ava/MetaBackbone_project/Metabackbone-scripts/structure_files/six_helix_oxdna_file/modified/modified_2268_bp/structure_8/1512_bp_rmv_staples.top'}, {'structure_id': 9, 'dat_path': '/home/ava/MetaBackbone_project/Metabackbone-scripts/structure_files/six_helix_oxdna_file/modified/modified_2268_bp/structure_9/1512_bp_rmv_staples.dat', 'top_path': '/home/ava/MetaBackbone_project/Metabackbone-scripts/structure_files/six_helix_oxdna_file/modified/modified_2268_bp/structure_9/1512_bp_rmv_staples.top'}, {'structure_id': 10, 'dat_path': '/home/ava/MetaBackbone_project/Metabackbone-scripts/structure_files/six_helix_oxdna_file/modified/modified_2268_bp/structure_10/1512_bp_rmv_staples.dat', 'top_path': '/home/ava/MetaBackbone_project/Metabackbone-scripts/structure_files/six_helix_oxdna_file/modified/modified_2268_bp/structure_10/1512_bp_rmv_staples.top'}, {'structure_id': 11, 'dat_path': '/home/ava/MetaBackbone_project/Metabackbone-scripts/structure_files/six_helix_oxdna_file/modified/modified_2268_bp/structure_11/1512_bp_rmv_staples.dat', 'top_path': '/home/ava/MetaBackbone_project/Metabackbone-scripts/structure_files/six_helix_oxdna_file/modified/modified_2268_bp/structure_11/1512_bp_rmv_staples.top'}, {'structure_id': 12, 'dat_path': '/home/ava/MetaBackbone_project/Metabackbone-scripts/structure_files/six_helix_oxdna_file/modified/modified_2268_bp/structure_12/1512_bp_rmv_staples.dat', 'top_path': '/home/ava/MetaBackbone_project/Metabackbone-scripts/structure_files/six_helix_oxdna_file/modified/modified_2268_bp/structure_12/1512_bp_rmv_staples.top'}, {'structure_id': 13, 'dat_path': '/home/ava/MetaBackbone_project/Metabackbone-scripts/structure_files/six_helix_oxdna_file/modified/modified_2268_bp/structure_13/1512_bp_rmv_staples.dat', 'top_path': '/home/ava/MetaBackbone_project/Metabackbone-scripts/structure_files/six_helix_oxdna_file/modified/modified_2268_bp/structure_13/1512_bp_rmv_staples.top'}, {'structure_id': 14, 'dat_path': '/home/ava/MetaBackbone_project/Metabackbone-scripts/structure_files/six_helix_oxdna_file/modified/modified_2268_bp/structure_14/1512_bp_rmv_staples.dat', 'top_path': '/home/ava/MetaBackbone_project/Metabackbone-scripts/structure_files/six_helix_oxdna_file/modified/modified_2268_bp/structure_14/1512_bp_rmv_staples.top'}, {'structure_id': 15, 'dat_path': '/home/ava/MetaBackbone_project/Metabackbone-scripts/structure_files/six_helix_oxdna_file/modified/modified_2268_bp/structure_15/1512_bp_rmv_staples.dat', 'top_path': '/home/ava/MetaBackbone_project/Metabackbone-scripts/structure_files/six_helix_oxdna_file/modified/modified_2268_bp/structure_15/1512_bp_rmv_staples.top'}, {'structure_id': 16, 'dat_path': '/home/ava/MetaBackbone_project/Metabackbone-scripts/structure_files/six_helix_oxdna_file/modified/modified_2268_bp/structure_16/1512_bp_rmv_staples.dat', 'top_path': '/home/ava/MetaBackbone_project/Metabackbone-scripts/structure_files/six_helix_oxdna_file/modified/modified_2268_bp/structure_16/1512_bp_rmv_staples.top'}, {'structure_id': 17, 'dat_path': '/home/ava/MetaBackbone_project/Metabackbone-scripts/structure_files/six_helix_oxdna_file/modified/modified_2268_bp/structure_17/1512_bp_rmv_staples.dat', 'top_path': '/home/ava/MetaBackbone_project/Metabackbone-scripts/structure_files/six_helix_oxdna_file/modified/modified_2268_bp/structure_17/1512_bp_rmv_staples.top'}, {'structure_id': 18, 'dat_path': '/home/ava/MetaBackbone_project/Metabackbone-scripts/structure_files/six_helix_oxdna_file/modified/modified_2268_bp/structure_18/1512_bp_rmv_staples.dat', 'top_path': '/home/ava/MetaBackbone_project/Metabackbone-scripts/structure_files/six_helix_oxdna_file/modified/modified_2268_bp/structure_18/1512_bp_rmv_staples.top'}, {'structure_id': 19, 'dat_path': '/home/ava/MetaBackbone_project/Metabackbone-scripts/structure_files/six_helix_oxdna_file/modified/modified_2268_bp/structure_19/1512_bp_rmv_staples.dat', 'top_path': '/home/ava/MetaBackbone_project/Metabackbone-scripts/structure_files/six_helix_oxdna_file/modified/modified_2268_bp/structure_19/1512_bp_rmv_staples.top'}, {'structure_id': 20, 'dat_path': '/home/ava/MetaBackbone_project/Metabackbone-scripts/structure_files/six_helix_oxdna_file/modified/modified_2268_bp/structure_20/1512_bp_rmv_staples.dat', 'top_path': '/home/ava/MetaBackbone_project/Metabackbone-scripts/structure_files/six_helix_oxdna_file/modified/modified_2268_bp/structure_20/1512_bp_rmv_staples.top'}, {'structure_id': 21, 'dat_path': '/home/ava/MetaBackbone_project/Metabackbone-scripts/structure_files/six_helix_oxdna_file/modified/modified_2268_bp/structure_21/1512_bp_rmv_staples.dat', 'top_path': '/home/ava/MetaBackbone_project/Metabackbone-scripts/structure_files/six_helix_oxdna_file/modified/modified_2268_bp/structure_21/1512_bp_rmv_staples.top'}, {'structure_id': 22, 'dat_path': '/home/ava/MetaBackbone_project/Metabackbone-scripts/structure_files/six_helix_oxdna_file/modified/modified_2268_bp/structure_22/1512_bp_rmv_staples.dat', 'top_path': '/home/ava/MetaBackbone_project/Metabackbone-scripts/structure_files/six_helix_oxdna_file/modified/modified_2268_bp/structure_22/1512_bp_rmv_staples.top'}, {'structure_id': 23, 'dat_path': '/home/ava/MetaBackbone_project/Metabackbone-scripts/structure_files/six_helix_oxdna_file/modified/modified_2268_bp/structure_23/1512_bp_rmv_staples.dat', 'top_path': '/home/ava/MetaBackbone_project/Metabackbone-scripts/structure_files/six_helix_oxdna_file/modified/modified_2268_bp/structure_23/1512_bp_rmv_staples.top'}, {'structure_id': 24, 'dat_path': '/home/ava/MetaBackbone_project/Metabackbone-scripts/structure_files/six_helix_oxdna_file/modified/modified_2268_bp/structure_24/1512_bp_rmv_staples.dat', 'top_path': '/home/ava/MetaBackbone_project/Metabackbone-scripts/structure_files/six_helix_oxdna_file/modified/modified_2268_bp/structure_24/1512_bp_rmv_staples.top'}, {'structure_id': 25, 'dat_path': '/home/ava/MetaBackbone_project/Metabackbone-scripts/structure_files/six_helix_oxdna_file/modified/modified_2268_bp/structure_25/1512_bp_rmv_staples.dat', 'top_path': '/home/ava/MetaBackbone_project/Metabackbone-scripts/structure_files/six_helix_oxdna_file/modified/modified_2268_bp/structure_25/1512_bp_rmv_staples.top'}, {'structure_id': 26, 'dat_path': '/home/ava/MetaBackbone_project/Metabackbone-scripts/structure_files/six_helix_oxdna_file/modified/modified_2268_bp/structure_26/1512_bp_rmv_staples.dat', 'top_path': '/home/ava/MetaBackbone_project/Metabackbone-scripts/structure_files/six_helix_oxdna_file/modified/modified_2268_bp/structure_26/1512_bp_rmv_staples.top'}, {'structure_id': 27, 'dat_path': '/home/ava/MetaBackbone_project/Metabackbone-scripts/structure_files/six_helix_oxdna_file/modified/modified_2268_bp/structure_27/1512_bp_rmv_staples.dat', 'top_path': '/home/ava/MetaBackbone_project/Metabackbone-scripts/structure_files/six_helix_oxdna_file/modified/modified_2268_bp/structure_27/1512_bp_rmv_staples.top'}, {'structure_id': 28, 'dat_path': '/home/ava/MetaBackbone_project/Metabackbone-scripts/structure_files/six_helix_oxdna_file/modified/modified_2268_bp/structure_28/1512_bp_rmv_staples.dat', 'top_path': '/home/ava/MetaBackbone_project/Metabackbone-scripts/structure_files/six_helix_oxdna_file/modified/modified_2268_bp/structure_28/1512_bp_rmv_staples.top'}, {'structure_id': 29, 'dat_path': '/home/ava/MetaBackbone_project/Metabackbone-scripts/structure_files/six_helix_oxdna_file/modified/modified_2268_bp/structure_29/1512_bp_rmv_staples.dat', 'top_path': '/home/ava/MetaBackbone_project/Metabackbone-scripts/structure_files/six_helix_oxdna_file/modified/modified_2268_bp/structure_29/1512_bp_rmv_staples.top'}, {'structure_id': 30, 'dat_path': '/home/ava/MetaBackbone_project/Metabackbone-scripts/structure_files/six_helix_oxdna_file/modified/modified_2268_bp/structure_30/1512_bp_rmv_staples.dat', 'top_path': '/home/ava/MetaBackbone_project/Metabackbone-scripts/structure_files/six_helix_oxdna_file/modified/modified_2268_bp/structure_30/1512_bp_rmv_staples.top'}, {'structure_id': 31, 'dat_path': '/home/ava/MetaBackbone_project/Metabackbone-scripts/structure_files/six_helix_oxdna_file/modified/modified_2268_bp/structure_31/1512_bp_rmv_staples.dat', 'top_path': '/home/ava/MetaBackbone_project/Metabackbone-scripts/structure_files/six_helix_oxdna_file/modified/modified_2268_bp/structure_31/1512_bp_rmv_staples.top'}, {'structure_id': 32, 'dat_path': '/home/ava/MetaBackbone_project/Metabackbone-scripts/structure_files/six_helix_oxdna_file/modified/modified_2268_bp/structure_32/1512_bp_rmv_staples.dat', 'top_path': '/home/ava/MetaBackbone_project/Metabackbone-scripts/structure_files/six_helix_oxdna_file/modified/modified_2268_bp/structure_32/1512_bp_rmv_staples.top'}, {'structure_id': 33, 'dat_path': '/home/ava/MetaBackbone_project/Metabackbone-scripts/structure_files/six_helix_oxdna_file/modified/modified_2268_bp/structure_33/1512_bp_rmv_staples.dat', 'top_path': '/home/ava/MetaBackbone_project/Metabackbone-scripts/structure_files/six_helix_oxdna_file/modified/modified_2268_bp/structure_33/1512_bp_rmv_staples.top'}, {'structure_id': 34, 'dat_path': '/home/ava/MetaBackbone_project/Metabackbone-scripts/structure_files/six_helix_oxdna_file/modified/modified_2268_bp/structure_34/1512_bp_rmv_staples.dat', 'top_path': '/home/ava/MetaBackbone_project/Metabackbone-scripts/structure_files/six_helix_oxdna_file/modified/modified_2268_bp/structure_34/1512_bp_rmv_staples.top'}, {'structure_id': 35, 'dat_path': '/home/ava/MetaBackbone_project/Metabackbone-scripts/structure_files/six_helix_oxdna_file/modified/modified_2268_bp/structure_35/1512_bp_rmv_staples.dat', 'top_path': '/home/ava/MetaBackbone_project/Metabackbone-scripts/structure_files/six_helix_oxdna_file/modified/modified_2268_bp/structure_35/1512_bp_rmv_staples.top'}, {'structure_id': 36, 'dat_path': '/home/ava/MetaBackbone_project/Metabackbone-scripts/structure_files/six_helix_oxdna_file/modified/modified_2268_bp/structure_36/1512_bp_rmv_staples.dat', 'top_path': '/home/ava/MetaBackbone_project/Metabackbone-scripts/structure_files/six_helix_oxdna_file/modified/modified_2268_bp/structure_36/1512_bp_rmv_staples.top'}, {'structure_id': 37, 'dat_path': '/home/ava/MetaBackbone_project/Metabackbone-scripts/structure_files/six_helix_oxdna_file/modified/modified_2268_bp/structure_37/1512_bp_rmv_staples.dat', 'top_path': '/home/ava/MetaBackbone_project/Metabackbone-scripts/structure_files/six_helix_oxdna_file/modified/modified_2268_bp/structure_37/1512_bp_rmv_staples.top'}, {'structure_id': 38, 'dat_path': '/home/ava/MetaBackbone_project/Metabackbone-scripts/structure_files/six_helix_oxdna_file/modified/modified_2268_bp/structure_38/1512_bp_rmv_staples.dat', 'top_path': '/home/ava/MetaBackbone_project/Metabackbone-scripts/structure_files/six_helix_oxdna_file/modified/modified_2268_bp/structure_38/1512_bp_rmv_staples.top'}, {'structure_id': 39, 'dat_path': '/home/ava/MetaBackbone_project/Metabackbone-scripts/structure_files/six_helix_oxdna_file/modified/modified_2268_bp/structure_39/1512_bp_rmv_staples.dat', 'top_path': '/home/ava/MetaBackbone_project/Metabackbone-scripts/structure_files/six_helix_oxdna_file/modified/modified_2268_bp/structure_39/1512_bp_rmv_staples.top'}, {'structure_id': 40, 'dat_path': '/home/ava/MetaBackbone_project/Metabackbone-scripts/structure_files/six_helix_oxdna_file/modified/modified_2268_bp/structure_40/1512_bp_rmv_staples.dat', 'top_path': '/home/ava/MetaBackbone_project/Metabackbone-scripts/structure_files/six_helix_oxdna_file/modified/modified_2268_bp/structure_40/1512_bp_rmv_staples.top'}, {'structure_id': 41, 'dat_path': '/home/ava/MetaBackbone_project/Metabackbone-scripts/structure_files/six_helix_oxdna_file/modified/modified_2268_bp/structure_41/1512_bp_rmv_staples.dat', 'top_path': '/home/ava/MetaBackbone_project/Metabackbone-scripts/structure_files/six_helix_oxdna_file/modified/modified_2268_bp/structure_41/1512_bp_rmv_staples.top'}, {'structure_id': 42, 'dat_path': '/home/ava/MetaBackbone_project/Metabackbone-scripts/structure_files/six_helix_oxdna_file/modified/modified_2268_bp/structure_42/1512_bp_rmv_staples.dat', 'top_path': '/home/ava/MetaBackbone_project/Metabackbone-scripts/structure_files/six_helix_oxdna_file/modified/modified_2268_bp/structure_42/1512_bp_rmv_staples.top'}, {'structure_id': 43, 'dat_path': '/home/ava/MetaBackbone_project/Metabackbone-scripts/structure_files/six_helix_oxdna_file/modified/modified_2268_bp/structure_43/1512_bp_rmv_staples.dat', 'top_path': '/home/ava/MetaBackbone_project/Metabackbone-scripts/structure_files/six_helix_oxdna_file/modified/modified_2268_bp/structure_43/1512_bp_rmv_staples.top'}, {'structure_id': 44, 'dat_path': '/home/ava/MetaBackbone_project/Metabackbone-scripts/structure_files/six_helix_oxdna_file/modified/modified_2268_bp/structure_44/1512_bp_rmv_staples.dat', 'top_path': '/home/ava/MetaBackbone_project/Metabackbone-scripts/structure_files/six_helix_oxdna_file/modified/modified_2268_bp/structure_44/1512_bp_rmv_staples.top'}, {'structure_id': 45, 'dat_path': '/home/ava/MetaBackbone_project/Metabackbone-scripts/structure_files/six_helix_oxdna_file/modified/modified_2268_bp/structure_45/1512_bp_rmv_staples.dat', 'top_path': '/home/ava/MetaBackbone_project/Metabackbone-scripts/structure_files/six_helix_oxdna_file/modified/modified_2268_bp/structure_45/1512_bp_rmv_staples.top'}, {'structure_id': 46, 'dat_path': '/home/ava/MetaBackbone_project/Metabackbone-scripts/structure_files/six_helix_oxdna_file/modified/modified_2268_bp/structure_46/1512_bp_rmv_staples.dat', 'top_path': '/home/ava/MetaBackbone_project/Metabackbone-scripts/structure_files/six_helix_oxdna_file/modified/modified_2268_bp/structure_46/1512_bp_rmv_staples.top'}, {'structure_id': 47, 'dat_path': '/home/ava/MetaBackbone_project/Metabackbone-scripts/structure_files/six_helix_oxdna_file/modified/modified_2268_bp/structure_47/1512_bp_rmv_staples.dat', 'top_path': '/home/ava/MetaBackbone_project/Metabackbone-scripts/structure_files/six_helix_oxdna_file/modified/modified_2268_bp/structure_47/1512_bp_rmv_staples.top'}, {'structure_id': 48, 'dat_path': '/home/ava/MetaBackbone_project/Metabackbone-scripts/structure_files/six_helix_oxdna_file/modified/modified_2268_bp/structure_48/1512_bp_rmv_staples.dat', 'top_path': '/home/ava/MetaBackbone_project/Metabackbone-scripts/structure_files/six_helix_oxdna_file/modified/modified_2268_bp/structure_48/1512_bp_rmv_staples.top'}, {'structure_id': 49, 'dat_path': '/home/ava/MetaBackbone_project/Metabackbone-scripts/structure_files/six_helix_oxdna_file/modified/modified_2268_bp/structure_49/1512_bp_rmv_staples.dat', 'top_path': '/home/ava/MetaBackbone_project/Metabackbone-scripts/structure_files/six_helix_oxdna_file/modified/modified_2268_bp/structure_49/1512_bp_rmv_staples.top'}, {'structure_id': 50, 'dat_path': '/home/ava/MetaBackbone_project/Metabackbone-scripts/structure_files/six_helix_oxdna_file/modified/modified_2268_bp/structure_50/1512_bp_rmv_staples.dat', 'top_path': '/home/ava/MetaBackbone_project/Metabackbone-scripts/structure_files/six_helix_oxdna_file/modified/modified_2268_bp/structure_50/1512_bp_rmv_staples.top'}, {'structure_id': 51, 'dat_path': '/home/ava/MetaBackbone_project/Metabackbone-scripts/structure_files/six_helix_oxdna_file/modified/modified_2268_bp/structure_51/1512_bp_rmv_staples.dat', 'top_path': '/home/ava/MetaBackbone_project/Metabackbone-scripts/structure_files/six_helix_oxdna_file/modified/modified_2268_bp/structure_51/1512_bp_rmv_staples.top'}, {'structure_id': 52, 'dat_path': '/home/ava/MetaBackbone_project/Metabackbone-scripts/structure_files/six_helix_oxdna_file/modified/modified_2268_bp/structure_52/1512_bp_rmv_staples.dat', 'top_path': '/home/ava/MetaBackbone_project/Metabackbone-scripts/structure_files/six_helix_oxdna_file/modified/modified_2268_bp/structure_52/1512_bp_rmv_staples.top'}, {'structure_id': 53, 'dat_path': '/home/ava/MetaBackbone_project/Metabackbone-scripts/structure_files/six_helix_oxdna_file/modified/modified_2268_bp/structure_53/1512_bp_rmv_staples.dat', 'top_path': '/home/ava/MetaBackbone_project/Metabackbone-scripts/structure_files/six_helix_oxdna_file/modified/modified_2268_bp/structure_53/1512_bp_rmv_staples.top'}, {'structure_id': 54, 'dat_path': '/home/ava/MetaBackbone_project/Metabackbone-scripts/structure_files/six_helix_oxdna_file/modified/modified_2268_bp/structure_54/1512_bp_rmv_staples.dat', 'top_path': '/home/ava/MetaBackbone_project/Metabackbone-scripts/structure_files/six_helix_oxdna_file/modified/modified_2268_bp/structure_54/1512_bp_rmv_staples.top'}, {'structure_id': 55, 'dat_path': '/home/ava/MetaBackbone_project/Metabackbone-scripts/structure_files/six_helix_oxdna_file/modified/modified_2268_bp/structure_55/1512_bp_rmv_staples.dat', 'top_path': '/home/ava/MetaBackbone_project/Metabackbone-scripts/structure_files/six_helix_oxdna_file/modified/modified_2268_bp/structure_55/1512_bp_rmv_staples.top'}, {'structure_id': 56, 'dat_path': '/home/ava/MetaBackbone_project/Metabackbone-scripts/structure_files/six_helix_oxdna_file/modified/modified_2268_bp/structure_56/1512_bp_rmv_staples.dat', 'top_path': '/home/ava/MetaBackbone_project/Metabackbone-scripts/structure_files/six_helix_oxdna_file/modified/modified_2268_bp/structure_56/1512_bp_rmv_staples.top'}, {'structure_id': 57, 'dat_path': '/home/ava/MetaBackbone_project/Metabackbone-scripts/structure_files/six_helix_oxdna_file/modified/modified_2268_bp/structure_57/1512_bp_rmv_staples.dat', 'top_path': '/home/ava/MetaBackbone_project/Metabackbone-scripts/structure_files/six_helix_oxdna_file/modified/modified_2268_bp/structure_57/1512_bp_rmv_staples.top'}, {'structure_id': 58, 'dat_path': '/home/ava/MetaBackbone_project/Metabackbone-scripts/structure_files/six_helix_oxdna_file/modified/modified_2268_bp/structure_58/1512_bp_rmv_staples.dat', 'top_path': '/home/ava/MetaBackbone_project/Metabackbone-scripts/structure_files/six_helix_oxdna_file/modified/modified_2268_bp/structure_58/1512_bp_rmv_staples.top'}, {'structure_id': 59, 'dat_path': '/home/ava/MetaBackbone_project/Metabackbone-scripts/structure_files/six_helix_oxdna_file/modified/modified_2268_bp/structure_59/1512_bp_rmv_staples.dat', 'top_path': '/home/ava/MetaBackbone_project/Metabackbone-scripts/structure_files/six_helix_oxdna_file/modified/modified_2268_bp/structure_59/1512_bp_rmv_staples.top'}]\u001b[0m\n",
      "\u001b[32mStep 4: Simulating each modified structure...\u001b[0m\n",
      "\u001b[31mSimulating mutant 0 produced by structure 2\u001b[0m\n",
      "Running: relaxed\n",
      "Run time: 5.839487876975909\n",
      "Finished: relaxed\n"
     ]
    },
    {
     "name": "stderr",
     "output_type": "stream",
     "text": [
      "INFO: Lists updated 1 times (every ~100.000000 steps)\n",
      "INFO: Aggregated I/O statistics (set debug=1 for file-wise information)\n",
      "\t  2.213 MB written to files\n",
      "\t 96.000  B written to stdout/stderr\n",
      "\tFor a total of    0.404 MB/s\n",
      "\n"
     ]
    },
    {
     "name": "stdout",
     "output_type": "stream",
     "text": [
      "All queued simulations finished in: 10.512490241992055\n",
      "\u001b[32mRelaxation simulation for structure 0 completed.\u001b[0m\n",
      "Running: eq\n",
      "Run time: 0.6859186820220202\n",
      "Finished: eq\n"
     ]
    },
    {
     "name": "stderr",
     "output_type": "stream",
     "text": [
      "INFO: Lists updated 4 times (every ~250.000000 steps)\n",
      "INFO: Aggregated I/O statistics (set debug=1 for file-wise information)\n",
      "\t  1.159 MB written to files\n",
      "\t 62.000  B written to stdout/stderr\n",
      "\tFor a total of     3.31 MB/s\n",
      "\n"
     ]
    },
    {
     "name": "stdout",
     "output_type": "stream",
     "text": [
      "All queued simulations finished in: 10.51076300200657\n",
      "\u001b[32mEquilibration simulation for structure 0 completed.\u001b[0m\n",
      "Running: prod\n",
      "Run time: 0.6331148169992957\n",
      "Finished: prod\n"
     ]
    },
    {
     "name": "stderr",
     "output_type": "stream",
     "text": [
      "INFO: Lists updated 4 times (every ~250.000000 steps)\n",
      "INFO: Aggregated I/O statistics (set debug=1 for file-wise information)\n",
      "\t  1.162 MB written to files\n",
      "\t 62.000  B written to stdout/stderr\n",
      "\tFor a total of     3.44 MB/s\n",
      "\n"
     ]
    },
    {
     "name": "stdout",
     "output_type": "stream",
     "text": [
      "All queued simulations finished in: 10.508587641001213\n",
      "\u001b[32mProduction simulation for structure 0 completed.\u001b[0m\n",
      "\u001b[36mAll simulations for mutant 0 completed.\n",
      "\u001b[0m\n",
      "\u001b[31mSimulating mutant 1 produced by structure 2\u001b[0m\n",
      "Running: relaxed\n",
      "Run time: 5.862097768986132\n",
      "Finished: relaxed\n"
     ]
    },
    {
     "name": "stderr",
     "output_type": "stream",
     "text": [
      "INFO: Aggregated I/O statistics (set debug=1 for file-wise information)\n",
      "\t  2.207 MB written to files\n",
      "\t 96.000  B written to stdout/stderr\n",
      "\tFor a total of    0.405 MB/s\n",
      "\n"
     ]
    },
    {
     "name": "stdout",
     "output_type": "stream",
     "text": [
      "All queued simulations finished in: 10.51172323798528\n",
      "\u001b[32mRelaxation simulation for structure 1 completed.\u001b[0m\n",
      "Running: eq\n",
      "Run time: 0.6605741689854767\n",
      "Finished: eq\n"
     ]
    },
    {
     "name": "stderr",
     "output_type": "stream",
     "text": [
      "INFO: Lists updated 3 times (every ~333.333333 steps)\n",
      "INFO: Aggregated I/O statistics (set debug=1 for file-wise information)\n",
      "\t  1.155 MB written to files\n",
      "\t 62.000  B written to stdout/stderr\n",
      "\tFor a total of      3.4 MB/s\n",
      "\n"
     ]
    },
    {
     "name": "stdout",
     "output_type": "stream",
     "text": [
      "All queued simulations finished in: 10.507629276020452\n",
      "\u001b[32mEquilibration simulation for structure 1 completed.\u001b[0m\n",
      "Running: prod\n",
      "Run time: 0.6331578629906289\n",
      "Finished: prod\n"
     ]
    },
    {
     "name": "stderr",
     "output_type": "stream",
     "text": [
      "INFO: Lists updated 3 times (every ~333.333333 steps)\n",
      "INFO: Aggregated I/O statistics (set debug=1 for file-wise information)\n",
      "\t  1.158 MB written to files\n",
      "\t 62.000  B written to stdout/stderr\n",
      "\tFor a total of     3.72 MB/s\n",
      "\n"
     ]
    },
    {
     "name": "stdout",
     "output_type": "stream",
     "text": [
      "All queued simulations finished in: 10.508338851010194\n",
      "\u001b[32mProduction simulation for structure 1 completed.\u001b[0m\n",
      "\u001b[36mAll simulations for mutant 1 completed.\n",
      "\u001b[0m\n",
      "\u001b[31mSimulating mutant 2 produced by structure 2\u001b[0m\n",
      "Running: relaxed\n",
      "Run time: 5.275812367006438\n",
      "Finished: relaxed\n"
     ]
    },
    {
     "name": "stderr",
     "output_type": "stream",
     "text": [
      "INFO: Lists updated 1 times (every ~100.000000 steps)\n",
      "INFO: Aggregated I/O statistics (set debug=1 for file-wise information)\n",
      "\t  2.206 MB written to files\n",
      "\t 96.000  B written to stdout/stderr\n",
      "\tFor a total of    0.452 MB/s\n",
      "\n"
     ]
    },
    {
     "name": "stdout",
     "output_type": "stream",
     "text": [
      "All queued simulations finished in: 10.50898925299407\n",
      "\u001b[32mRelaxation simulation for structure 2 completed.\u001b[0m\n",
      "Running: eq\n",
      "Run time: 0.6557507189863827\n",
      "Finished: eq\n"
     ]
    },
    {
     "name": "stderr",
     "output_type": "stream",
     "text": [
      "INFO: Lists updated 4 times (every ~250.000000 steps)\n",
      "INFO: Aggregated I/O statistics (set debug=1 for file-wise information)\n",
      "\t  1.157 MB written to files\n",
      "\t 62.000  B written to stdout/stderr\n",
      "\tFor a total of     3.44 MB/s\n",
      "\n"
     ]
    },
    {
     "name": "stdout",
     "output_type": "stream",
     "text": [
      "All queued simulations finished in: 10.509365521022119\n",
      "\u001b[32mEquilibration simulation for structure 2 completed.\u001b[0m\n",
      "Running: prod\n",
      "Run time: 0.695129428000655\n",
      "Finished: prod\n"
     ]
    },
    {
     "name": "stderr",
     "output_type": "stream",
     "text": [
      "INFO: Lists updated 3 times (every ~333.333333 steps)\n",
      "INFO: Aggregated I/O statistics (set debug=1 for file-wise information)\n",
      "\t  1.159 MB written to files\n",
      "\t 62.000  B written to stdout/stderr\n",
      "\tFor a total of     3.36 MB/s\n",
      "\n"
     ]
    },
    {
     "name": "stdout",
     "output_type": "stream",
     "text": [
      "All queued simulations finished in: 10.509684728021966\n",
      "\u001b[32mProduction simulation for structure 2 completed.\u001b[0m\n",
      "\u001b[36mAll simulations for mutant 2 completed.\n",
      "\u001b[0m\n",
      "\u001b[31mSimulating mutant 3 produced by structure 2\u001b[0m\n",
      "Running: relaxed\n",
      "Run time: 6.013958447001642\n",
      "Finished: relaxed\n"
     ]
    },
    {
     "name": "stderr",
     "output_type": "stream",
     "text": [
      "INFO: Lists updated 2 times (every ~50.000000 steps)\n",
      "INFO: Aggregated I/O statistics (set debug=1 for file-wise information)\n",
      "\t  2.200 MB written to files\n",
      "\t 96.000  B written to stdout/stderr\n",
      "\tFor a total of    0.388 MB/s\n",
      "\n"
     ]
    },
    {
     "name": "stdout",
     "output_type": "stream",
     "text": [
      "All queued simulations finished in: 10.512358906998998\n",
      "\u001b[32mRelaxation simulation for structure 3 completed.\u001b[0m\n",
      "Running: eq\n",
      "Run time: 0.6346501749940217\n",
      "Finished: eq\n"
     ]
    },
    {
     "name": "stderr",
     "output_type": "stream",
     "text": [
      "INFO: Lists updated 3 times (every ~333.333333 steps)\n",
      "INFO: Aggregated I/O statistics (set debug=1 for file-wise information)\n",
      "\t  1.154 MB written to files\n",
      "\t 62.000  B written to stdout/stderr\n",
      "\tFor a total of     3.58 MB/s\n",
      "\n"
     ]
    },
    {
     "name": "stdout",
     "output_type": "stream",
     "text": [
      "All queued simulations finished in: 10.510314931016183\n",
      "\u001b[32mEquilibration simulation for structure 3 completed.\u001b[0m\n",
      "Running: prod\n",
      "Run time: 0.6323065789765678\n",
      "Finished: prod\n"
     ]
    },
    {
     "name": "stderr",
     "output_type": "stream",
     "text": [
      "INFO: Lists updated 3 times (every ~333.333333 steps)\n",
      "INFO: Aggregated I/O statistics (set debug=1 for file-wise information)\n",
      "\t  1.156 MB written to files\n",
      "\t 62.000  B written to stdout/stderr\n",
      "\tFor a total of     3.45 MB/s\n",
      "\n"
     ]
    },
    {
     "name": "stdout",
     "output_type": "stream",
     "text": [
      "All queued simulations finished in: 10.507511596020777\n",
      "\u001b[32mProduction simulation for structure 3 completed.\u001b[0m\n",
      "\u001b[36mAll simulations for mutant 3 completed.\n",
      "\u001b[0m\n",
      "\u001b[31mSimulating mutant 4 produced by structure 2\u001b[0m\n",
      "Running: relaxed\n",
      "Run time: 6.263694541994482\n",
      "Finished: relaxed\n"
     ]
    },
    {
     "name": "stderr",
     "output_type": "stream",
     "text": [
      "INFO: Lists updated 1 times (every ~100.000000 steps)\n",
      "INFO: Aggregated I/O statistics (set debug=1 for file-wise information)\n",
      "\t  2.282 MB written to files\n",
      "\t 96.000  B written to stdout/stderr\n",
      "\tFor a total of     0.39 MB/s\n",
      "\n"
     ]
    },
    {
     "name": "stdout",
     "output_type": "stream",
     "text": [
      "All queued simulations finished in: 10.510881996015087\n",
      "\u001b[32mRelaxation simulation for structure 4 completed.\u001b[0m\n",
      "Running: eq\n",
      "Run time: 0.662164737994317\n",
      "Finished: eq\n"
     ]
    },
    {
     "name": "stderr",
     "output_type": "stream",
     "text": [
      "INFO: Lists updated 3 times (every ~333.333333 steps)\n",
      "INFO: Aggregated I/O statistics (set debug=1 for file-wise information)\n",
      "\t  1.196 MB written to files\n",
      "\t 62.000  B written to stdout/stderr\n",
      "\tFor a total of     3.51 MB/s\n",
      "\n"
     ]
    },
    {
     "name": "stdout",
     "output_type": "stream",
     "text": [
      "All queued simulations finished in: 10.507554004987469\n",
      "\u001b[32mEquilibration simulation for structure 4 completed.\u001b[0m\n",
      "Running: prod\n",
      "Run time: 0.6590685379924253\n",
      "Finished: prod\n"
     ]
    },
    {
     "name": "stderr",
     "output_type": "stream",
     "text": [
      "INFO: Lists updated 3 times (every ~333.333333 steps)\n",
      "INFO: Aggregated I/O statistics (set debug=1 for file-wise information)\n",
      "\t  1.198 MB written to files\n",
      "\t 62.000  B written to stdout/stderr\n",
      "\tFor a total of     3.61 MB/s\n",
      "\n"
     ]
    },
    {
     "name": "stdout",
     "output_type": "stream",
     "text": [
      "All queued simulations finished in: 10.509819633007282\n",
      "\u001b[32mProduction simulation for structure 4 completed.\u001b[0m\n",
      "\u001b[36mAll simulations for mutant 4 completed.\n",
      "\u001b[0m\n",
      "\u001b[31mSimulating mutant 5 produced by structure 2\u001b[0m\n",
      "Running: relaxed\n",
      "Run time: 5.6353867599973455\n",
      "Finished: relaxed\n"
     ]
    },
    {
     "name": "stderr",
     "output_type": "stream",
     "text": [
      "INFO: Lists updated 2 times (every ~50.000000 steps)\n",
      "INFO: Aggregated I/O statistics (set debug=1 for file-wise information)\n",
      "\t  2.218 MB written to files\n",
      "\t 96.000  B written to stdout/stderr\n",
      "\tFor a total of    0.422 MB/s\n",
      "\n"
     ]
    },
    {
     "name": "stdout",
     "output_type": "stream",
     "text": [
      "All queued simulations finished in: 10.514857169007882\n",
      "\u001b[32mRelaxation simulation for structure 5 completed.\u001b[0m\n",
      "Running: eq\n",
      "Run time: 0.6392164220160339\n",
      "Finished: eq\n"
     ]
    },
    {
     "name": "stderr",
     "output_type": "stream",
     "text": [
      "INFO: Lists updated 3 times (every ~333.333333 steps)\n",
      "INFO: Aggregated I/O statistics (set debug=1 for file-wise information)\n",
      "\t  1.163 MB written to files\n",
      "\t 62.000  B written to stdout/stderr\n",
      "\tFor a total of     3.61 MB/s\n",
      "\n"
     ]
    },
    {
     "name": "stdout",
     "output_type": "stream",
     "text": [
      "All queued simulations finished in: 10.511803365021478\n",
      "\u001b[32mEquilibration simulation for structure 5 completed.\u001b[0m\n",
      "Running: prod\n",
      "Run time: 0.6015824489877559\n",
      "Finished: prod\n"
     ]
    },
    {
     "name": "stderr",
     "output_type": "stream",
     "text": [
      "INFO: Lists updated 3 times (every ~333.333333 steps)\n",
      "INFO: Aggregated I/O statistics (set debug=1 for file-wise information)\n",
      "\t  1.165 MB written to files\n",
      "\t 62.000  B written to stdout/stderr\n",
      "\tFor a total of     3.96 MB/s\n",
      "\n"
     ]
    },
    {
     "name": "stdout",
     "output_type": "stream",
     "text": [
      "All queued simulations finished in: 10.511642844998278\n",
      "\u001b[32mProduction simulation for structure 5 completed.\u001b[0m\n",
      "\u001b[36mAll simulations for mutant 5 completed.\n",
      "\u001b[0m\n",
      "\u001b[31mSimulating mutant 6 produced by structure 2\u001b[0m\n",
      "Running: relaxed\n",
      "Run time: 5.42824746799306\n",
      "Finished: relaxed\n"
     ]
    },
    {
     "name": "stderr",
     "output_type": "stream",
     "text": [
      "INFO: Lists updated 1 times (every ~100.000000 steps)\n",
      "INFO: Aggregated I/O statistics (set debug=1 for file-wise information)\n",
      "\t  2.213 MB written to files\n",
      "\t 96.000  B written to stdout/stderr\n",
      "\tFor a total of    0.436 MB/s\n",
      "\n"
     ]
    },
    {
     "name": "stdout",
     "output_type": "stream",
     "text": [
      "All queued simulations finished in: 10.508928053983254\n",
      "\u001b[32mRelaxation simulation for structure 6 completed.\u001b[0m\n",
      "Running: eq\n",
      "Run time: 0.6457512709894218\n",
      "Finished: eq\n"
     ]
    },
    {
     "name": "stderr",
     "output_type": "stream",
     "text": [
      "INFO: Lists updated 3 times (every ~333.333333 steps)\n",
      "INFO: Aggregated I/O statistics (set debug=1 for file-wise information)\n",
      "\t  1.159 MB written to files\n",
      "\t 62.000  B written to stdout/stderr\n",
      "\tFor a total of     3.47 MB/s\n",
      "\n"
     ]
    },
    {
     "name": "stdout",
     "output_type": "stream",
     "text": [
      "All queued simulations finished in: 10.508907487994293\n",
      "\u001b[32mEquilibration simulation for structure 6 completed.\u001b[0m\n",
      "Running: prod\n",
      "Run time: 0.6618198580108583\n",
      "Finished: prod\n"
     ]
    },
    {
     "name": "stderr",
     "output_type": "stream",
     "text": [
      "INFO: Lists updated 3 times (every ~333.333333 steps)\n",
      "INFO: Aggregated I/O statistics (set debug=1 for file-wise information)\n",
      "\t  1.161 MB written to files\n",
      "\t 62.000  B written to stdout/stderr\n",
      "\tFor a total of      3.5 MB/s\n",
      "\n"
     ]
    },
    {
     "name": "stdout",
     "output_type": "stream",
     "text": [
      "All queued simulations finished in: 10.512426778994268\n",
      "\u001b[32mProduction simulation for structure 6 completed.\u001b[0m\n",
      "\u001b[36mAll simulations for mutant 6 completed.\n",
      "\u001b[0m\n",
      "\u001b[31mSimulating mutant 7 produced by structure 2\u001b[0m\n",
      "Running: relaxed\n",
      "Run time: 5.242943737015594\n",
      "Finished: relaxed\n"
     ]
    },
    {
     "name": "stderr",
     "output_type": "stream",
     "text": [
      "INFO: Lists updated 1 times (every ~100.000000 steps)\n",
      "INFO: Aggregated I/O statistics (set debug=1 for file-wise information)\n",
      "\t  2.212 MB written to files\n",
      "\t 96.000  B written to stdout/stderr\n",
      "\tFor a total of    0.452 MB/s\n",
      "\n"
     ]
    },
    {
     "name": "stdout",
     "output_type": "stream",
     "text": [
      "All queued simulations finished in: 10.512956801016117\n",
      "\u001b[32mRelaxation simulation for structure 7 completed.\u001b[0m\n",
      "Running: eq\n",
      "Run time: 0.6336165109823924\n",
      "Finished: eq\n"
     ]
    },
    {
     "name": "stderr",
     "output_type": "stream",
     "text": [
      "INFO: Lists updated 4 times (every ~250.000000 steps)\n",
      "INFO: Aggregated I/O statistics (set debug=1 for file-wise information)\n",
      "\t  1.159 MB written to files\n",
      "\t 62.000  B written to stdout/stderr\n",
      "\tFor a total of      3.7 MB/s\n",
      "\n"
     ]
    },
    {
     "name": "stdout",
     "output_type": "stream",
     "text": [
      "All queued simulations finished in: 10.511978422000539\n",
      "\u001b[32mEquilibration simulation for structure 7 completed.\u001b[0m\n",
      "Running: prod\n",
      "Run time: 0.6240626409999095\n",
      "Finished: prod\n"
     ]
    },
    {
     "name": "stderr",
     "output_type": "stream",
     "text": [
      "INFO: Lists updated 4 times (every ~250.000000 steps)\n",
      "INFO: Aggregated I/O statistics (set debug=1 for file-wise information)\n",
      "\t  1.161 MB written to files\n",
      "\t 62.000  B written to stdout/stderr\n",
      "\tFor a total of     3.65 MB/s\n",
      "\n"
     ]
    },
    {
     "name": "stdout",
     "output_type": "stream",
     "text": [
      "All queued simulations finished in: 10.514004368014866\n",
      "\u001b[32mProduction simulation for structure 7 completed.\u001b[0m\n",
      "\u001b[36mAll simulations for mutant 7 completed.\n",
      "\u001b[0m\n",
      "\u001b[31mSimulating mutant 8 produced by structure 2\u001b[0m\n",
      "Running: relaxed\n",
      "Run time: 5.4921486210078\n",
      "Finished: relaxed\n"
     ]
    },
    {
     "name": "stderr",
     "output_type": "stream",
     "text": [
      "INFO: Lists updated 2 times (every ~50.000000 steps)\n",
      "INFO: Aggregated I/O statistics (set debug=1 for file-wise information)\n",
      "\t  2.205 MB written to files\n",
      "\t 96.000  B written to stdout/stderr\n",
      "\tFor a total of     0.43 MB/s\n",
      "\n"
     ]
    },
    {
     "name": "stdout",
     "output_type": "stream",
     "text": [
      "All queued simulations finished in: 10.511035787989385\n",
      "\u001b[32mRelaxation simulation for structure 8 completed.\u001b[0m\n",
      "Running: eq\n",
      "Run time: 0.6228858329996001\n",
      "Finished: eq\n"
     ]
    },
    {
     "name": "stderr",
     "output_type": "stream",
     "text": [
      "INFO: Lists updated 3 times (every ~333.333333 steps)\n",
      "INFO: Aggregated I/O statistics (set debug=1 for file-wise information)\n",
      "\t  1.156 MB written to files\n",
      "\t 62.000  B written to stdout/stderr\n",
      "\tFor a total of     3.52 MB/s\n",
      "\n"
     ]
    },
    {
     "name": "stdout",
     "output_type": "stream",
     "text": [
      "All queued simulations finished in: 10.511596830008784\n",
      "\u001b[32mEquilibration simulation for structure 8 completed.\u001b[0m\n",
      "Running: prod\n",
      "Run time: 0.589460542978486\n",
      "Finished: prod\n"
     ]
    },
    {
     "name": "stderr",
     "output_type": "stream",
     "text": [
      "INFO: Lists updated 3 times (every ~333.333333 steps)\n",
      "INFO: Aggregated I/O statistics (set debug=1 for file-wise information)\n",
      "\t  1.158 MB written to files\n",
      "\t 62.000  B written to stdout/stderr\n",
      "\tFor a total of     3.76 MB/s\n",
      "\n"
     ]
    },
    {
     "name": "stdout",
     "output_type": "stream",
     "text": [
      "All queued simulations finished in: 10.515153114014538\n",
      "\u001b[32mProduction simulation for structure 8 completed.\u001b[0m\n",
      "\u001b[36mAll simulations for mutant 8 completed.\n",
      "\u001b[0m\n",
      "\u001b[31mSimulating mutant 9 produced by structure 2\u001b[0m\n",
      "Running: relaxed\n",
      "Run time: 5.068357184994966\n",
      "Finished: relaxed\n"
     ]
    },
    {
     "name": "stderr",
     "output_type": "stream",
     "text": [
      "INFO: Aggregated I/O statistics (set debug=1 for file-wise information)\n",
      "\t  2.208 MB written to files\n",
      "\t 96.000  B written to stdout/stderr\n",
      "\tFor a total of    0.469 MB/s\n",
      "\n"
     ]
    },
    {
     "name": "stdout",
     "output_type": "stream",
     "text": [
      "All queued simulations finished in: 10.512539314018795\n",
      "\u001b[32mRelaxation simulation for structure 9 completed.\u001b[0m\n",
      "Running: eq\n",
      "Run time: 0.5863498690014239\n",
      "Finished: eq\n"
     ]
    },
    {
     "name": "stderr",
     "output_type": "stream",
     "text": [
      "INFO: Lists updated 3 times (every ~333.333333 steps)\n",
      "INFO: Aggregated I/O statistics (set debug=1 for file-wise information)\n",
      "\t  1.157 MB written to files\n",
      "\t 62.000  B written to stdout/stderr\n",
      "\tFor a total of        4 MB/s\n",
      "\n"
     ]
    },
    {
     "name": "stdout",
     "output_type": "stream",
     "text": [
      "All queued simulations finished in: 10.511794448975706\n",
      "\u001b[32mEquilibration simulation for structure 9 completed.\u001b[0m\n",
      "Running: prod\n",
      "Run time: 0.6196950210141949\n",
      "Finished: prod\n"
     ]
    },
    {
     "name": "stderr",
     "output_type": "stream",
     "text": [
      "INFO: Lists updated 3 times (every ~333.333333 steps)\n",
      "INFO: Aggregated I/O statistics (set debug=1 for file-wise information)\n",
      "\t  1.160 MB written to files\n",
      "\t 62.000  B written to stdout/stderr\n",
      "\tFor a total of     3.83 MB/s\n",
      "\n"
     ]
    },
    {
     "name": "stdout",
     "output_type": "stream",
     "text": [
      "All queued simulations finished in: 10.513906596024754\n",
      "\u001b[32mProduction simulation for structure 9 completed.\u001b[0m\n",
      "\u001b[36mAll simulations for mutant 9 completed.\n",
      "\u001b[0m\n",
      "\u001b[31mSimulating mutant 0 produced by structure 2\u001b[0m\n",
      "Running: relaxed\n",
      "Run time: 4.954294193012174\n",
      "Finished: relaxed\n"
     ]
    },
    {
     "name": "stderr",
     "output_type": "stream",
     "text": [
      "INFO: Lists updated 1 times (every ~100.000000 steps)\n",
      "INFO: Aggregated I/O statistics (set debug=1 for file-wise information)\n",
      "\t  2.207 MB written to files\n",
      "\t 96.000  B written to stdout/stderr\n",
      "\tFor a total of    0.477 MB/s\n",
      "\n"
     ]
    },
    {
     "name": "stdout",
     "output_type": "stream",
     "text": [
      "All queued simulations finished in: 10.511067336978158\n",
      "\u001b[32mRelaxation simulation for structure 10 completed.\u001b[0m\n",
      "Running: eq\n",
      "Run time: 0.6536821400222834\n",
      "Finished: eq\n"
     ]
    },
    {
     "name": "stderr",
     "output_type": "stream",
     "text": [
      "INFO: Lists updated 4 times (every ~250.000000 steps)\n",
      "INFO: Aggregated I/O statistics (set debug=1 for file-wise information)\n",
      "\t  1.157 MB written to files\n",
      "\t 62.000  B written to stdout/stderr\n",
      "\tFor a total of     3.45 MB/s\n",
      "\n"
     ]
    },
    {
     "name": "stdout",
     "output_type": "stream",
     "text": [
      "All queued simulations finished in: 10.51213673001621\n",
      "\u001b[32mEquilibration simulation for structure 10 completed.\u001b[0m\n",
      "Running: prod\n",
      "Run time: 0.640318813995691\n",
      "Finished: prod\n"
     ]
    },
    {
     "name": "stderr",
     "output_type": "stream",
     "text": [
      "INFO: Lists updated 3 times (every ~333.333333 steps)\n",
      "INFO: Aggregated I/O statistics (set debug=1 for file-wise information)\n",
      "\t  1.160 MB written to files\n",
      "\t 62.000  B written to stdout/stderr\n",
      "\tFor a total of     3.39 MB/s\n",
      "\n"
     ]
    },
    {
     "name": "stdout",
     "output_type": "stream",
     "text": [
      "All queued simulations finished in: 10.509479079017183\n",
      "\u001b[32mProduction simulation for structure 10 completed.\u001b[0m\n",
      "\u001b[36mAll simulations for mutant 10 completed.\n",
      "\u001b[0m\n",
      "\u001b[31mSimulating mutant 1 produced by structure 2\u001b[0m\n",
      "Running: relaxed\n",
      "Run time: 5.472714155999711\n",
      "Finished: relaxed\n"
     ]
    },
    {
     "name": "stderr",
     "output_type": "stream",
     "text": [
      "INFO: Lists updated 1 times (every ~100.000000 steps)\n",
      "INFO: Aggregated I/O statistics (set debug=1 for file-wise information)\n",
      "\t  2.211 MB written to files\n",
      "\t 96.000  B written to stdout/stderr\n",
      "\tFor a total of    0.435 MB/s\n",
      "\n"
     ]
    },
    {
     "name": "stdout",
     "output_type": "stream",
     "text": [
      "All queued simulations finished in: 10.512377156992443\n",
      "\u001b[32mRelaxation simulation for structure 11 completed.\u001b[0m\n",
      "Running: eq\n",
      "Run time: 0.662718281004345\n",
      "Finished: eq\n"
     ]
    },
    {
     "name": "stderr",
     "output_type": "stream",
     "text": [
      "INFO: Lists updated 3 times (every ~333.333333 steps)\n",
      "INFO: Aggregated I/O statistics (set debug=1 for file-wise information)\n",
      "\t  1.159 MB written to files\n",
      "\t 62.000  B written to stdout/stderr\n",
      "\tFor a total of     3.29 MB/s\n",
      "\n"
     ]
    },
    {
     "name": "stdout",
     "output_type": "stream",
     "text": [
      "All queued simulations finished in: 10.508333737991052\n",
      "\u001b[32mEquilibration simulation for structure 11 completed.\u001b[0m\n",
      "Running: prod\n",
      "Run time: 0.6256900110165589\n",
      "Finished: prod\n"
     ]
    },
    {
     "name": "stderr",
     "output_type": "stream",
     "text": [
      "INFO: Lists updated 3 times (every ~333.333333 steps)\n",
      "INFO: Aggregated I/O statistics (set debug=1 for file-wise information)\n",
      "\t  1.161 MB written to files\n",
      "\t 62.000  B written to stdout/stderr\n",
      "\tFor a total of     3.84 MB/s\n",
      "\n"
     ]
    },
    {
     "name": "stdout",
     "output_type": "stream",
     "text": [
      "All queued simulations finished in: 10.508413405012107\n",
      "\u001b[32mProduction simulation for structure 11 completed.\u001b[0m\n",
      "\u001b[36mAll simulations for mutant 11 completed.\n",
      "\u001b[0m\n",
      "\u001b[31mSimulating mutant 2 produced by structure 2\u001b[0m\n",
      "Running: relaxed\n",
      "Run time: 5.13990899300552\n",
      "Finished: relaxed\n"
     ]
    },
    {
     "name": "stderr",
     "output_type": "stream",
     "text": [
      "INFO: Lists updated 1 times (every ~100.000000 steps)\n",
      "INFO: Aggregated I/O statistics (set debug=1 for file-wise information)\n",
      "\t  2.205 MB written to files\n",
      "\t 96.000  B written to stdout/stderr\n",
      "\tFor a total of    0.461 MB/s\n",
      "\n"
     ]
    },
    {
     "name": "stdout",
     "output_type": "stream",
     "text": [
      "All queued simulations finished in: 10.516454163996968\n",
      "\u001b[32mRelaxation simulation for structure 12 completed.\u001b[0m\n",
      "Running: eq\n",
      "Run time: 0.6252682240155991\n",
      "Finished: eq\n"
     ]
    },
    {
     "name": "stderr",
     "output_type": "stream",
     "text": [
      "INFO: Lists updated 3 times (every ~333.333333 steps)\n",
      "INFO: Aggregated I/O statistics (set debug=1 for file-wise information)\n",
      "\t  1.156 MB written to files\n",
      "\t 62.000  B written to stdout/stderr\n",
      "\tFor a total of     3.55 MB/s\n",
      "\n"
     ]
    },
    {
     "name": "stdout",
     "output_type": "stream",
     "text": [
      "All queued simulations finished in: 10.509518682025373\n",
      "\u001b[32mEquilibration simulation for structure 12 completed.\u001b[0m\n",
      "Running: prod\n",
      "Run time: 0.5931028749910183\n",
      "Finished: prod\n"
     ]
    },
    {
     "name": "stderr",
     "output_type": "stream",
     "text": [
      "INFO: Lists updated 3 times (every ~333.333333 steps)\n",
      "INFO: Aggregated I/O statistics (set debug=1 for file-wise information)\n",
      "\t  1.158 MB written to files\n",
      "\t 62.000  B written to stdout/stderr\n",
      "\tFor a total of     4.04 MB/s\n",
      "\n"
     ]
    },
    {
     "name": "stdout",
     "output_type": "stream",
     "text": [
      "All queued simulations finished in: 10.50897561799502\n",
      "\u001b[32mProduction simulation for structure 12 completed.\u001b[0m\n",
      "\u001b[36mAll simulations for mutant 12 completed.\n",
      "\u001b[0m\n",
      "\u001b[31mSimulating mutant 3 produced by structure 2\u001b[0m\n",
      "Running: relaxed\n",
      "Run time: 5.278749704011716\n",
      "Finished: relaxed\n"
     ]
    },
    {
     "name": "stderr",
     "output_type": "stream",
     "text": [
      "INFO: Aggregated I/O statistics (set debug=1 for file-wise information)\n",
      "\t  2.204 MB written to files\n",
      "\t 96.000  B written to stdout/stderr\n",
      "\tFor a total of    0.446 MB/s\n",
      "\n"
     ]
    },
    {
     "name": "stdout",
     "output_type": "stream",
     "text": [
      "All queued simulations finished in: 10.51091754398658\n",
      "\u001b[32mRelaxation simulation for structure 13 completed.\u001b[0m\n",
      "Running: eq\n",
      "Run time: 0.6267758280155249\n",
      "Finished: eq\n"
     ]
    },
    {
     "name": "stderr",
     "output_type": "stream",
     "text": [
      "INFO: Lists updated 3 times (every ~333.333333 steps)\n",
      "INFO: Aggregated I/O statistics (set debug=1 for file-wise information)\n",
      "\t  1.156 MB written to files\n",
      "\t 62.000  B written to stdout/stderr\n",
      "\tFor a total of     3.58 MB/s\n",
      "\n"
     ]
    },
    {
     "name": "stdout",
     "output_type": "stream",
     "text": [
      "All queued simulations finished in: 10.509059161995538\n",
      "\u001b[32mEquilibration simulation for structure 13 completed.\u001b[0m\n",
      "Running: prod\n",
      "Run time: 0.6013542019936722\n",
      "Finished: prod\n"
     ]
    },
    {
     "name": "stderr",
     "output_type": "stream",
     "text": [
      "INFO: Lists updated 3 times (every ~333.333333 steps)\n",
      "INFO: Aggregated I/O statistics (set debug=1 for file-wise information)\n",
      "\t  1.158 MB written to files\n",
      "\t 62.000  B written to stdout/stderr\n",
      "\tFor a total of     3.67 MB/s\n",
      "\n"
     ]
    },
    {
     "name": "stdout",
     "output_type": "stream",
     "text": [
      "All queued simulations finished in: 10.511618404998444\n",
      "\u001b[32mProduction simulation for structure 13 completed.\u001b[0m\n",
      "\u001b[36mAll simulations for mutant 13 completed.\n",
      "\u001b[0m\n",
      "\u001b[31mSimulating mutant 4 produced by structure 2\u001b[0m\n",
      "Running: relaxed\n",
      "Run time: 5.491878664004616\n",
      "Finished: relaxed\n"
     ]
    },
    {
     "name": "stderr",
     "output_type": "stream",
     "text": [
      "INFO: Lists updated 1 times (every ~100.000000 steps)\n",
      "INFO: Aggregated I/O statistics (set debug=1 for file-wise information)\n",
      "\t  2.196 MB written to files\n",
      "\t 96.000  B written to stdout/stderr\n",
      "\tFor a total of    0.427 MB/s\n",
      "\n"
     ]
    },
    {
     "name": "stdout",
     "output_type": "stream",
     "text": [
      "All queued simulations finished in: 10.5111559270008\n",
      "\u001b[32mRelaxation simulation for structure 14 completed.\u001b[0m\n",
      "Running: eq\n",
      "Run time: 0.6442882409901358\n",
      "Finished: eq\n"
     ]
    },
    {
     "name": "stderr",
     "output_type": "stream",
     "text": [
      "INFO: Lists updated 3 times (every ~333.333333 steps)\n",
      "INFO: Aggregated I/O statistics (set debug=1 for file-wise information)\n",
      "\t  1.152 MB written to files\n",
      "\t 62.000  B written to stdout/stderr\n",
      "\tFor a total of     3.38 MB/s\n",
      "\n"
     ]
    },
    {
     "name": "stdout",
     "output_type": "stream",
     "text": [
      "All queued simulations finished in: 10.50907645499683\n",
      "\u001b[32mEquilibration simulation for structure 14 completed.\u001b[0m\n",
      "Running: prod\n",
      "Run time: 0.6422917300078552\n",
      "Finished: prod\n"
     ]
    },
    {
     "name": "stderr",
     "output_type": "stream",
     "text": [
      "INFO: Lists updated 3 times (every ~333.333333 steps)\n",
      "INFO: Aggregated I/O statistics (set debug=1 for file-wise information)\n",
      "\t  1.154 MB written to files\n",
      "\t 62.000  B written to stdout/stderr\n",
      "\tFor a total of     3.33 MB/s\n",
      "\n"
     ]
    },
    {
     "name": "stdout",
     "output_type": "stream",
     "text": [
      "All queued simulations finished in: 10.51222919797874\n",
      "\u001b[32mProduction simulation for structure 14 completed.\u001b[0m\n",
      "\u001b[36mAll simulations for mutant 14 completed.\n",
      "\u001b[0m\n",
      "\u001b[31mSimulating mutant 5 produced by structure 2\u001b[0m\n",
      "Running: relaxed\n",
      "Run time: 5.05248885799665\n",
      "Finished: relaxed\n"
     ]
    },
    {
     "name": "stderr",
     "output_type": "stream",
     "text": [
      "INFO: Lists updated 1 times (every ~100.000000 steps)\n",
      "INFO: Aggregated I/O statistics (set debug=1 for file-wise information)\n",
      "\t  2.201 MB written to files\n",
      "\t 96.000  B written to stdout/stderr\n",
      "\tFor a total of    0.469 MB/s\n",
      "\n"
     ]
    },
    {
     "name": "stdout",
     "output_type": "stream",
     "text": [
      "All queued simulations finished in: 10.511913794005523\n",
      "\u001b[32mRelaxation simulation for structure 15 completed.\u001b[0m\n",
      "Running: eq\n",
      "Run time: 0.6122989949944895\n",
      "Finished: eq\n"
     ]
    },
    {
     "name": "stderr",
     "output_type": "stream",
     "text": [
      "INFO: Lists updated 3 times (every ~333.333333 steps)\n",
      "INFO: Aggregated I/O statistics (set debug=1 for file-wise information)\n",
      "\t  1.154 MB written to files\n",
      "\t 62.000  B written to stdout/stderr\n",
      "\tFor a total of     3.76 MB/s\n",
      "\n"
     ]
    },
    {
     "name": "stdout",
     "output_type": "stream",
     "text": [
      "All queued simulations finished in: 10.508565944997827\n",
      "\u001b[32mEquilibration simulation for structure 15 completed.\u001b[0m\n",
      "Running: prod\n",
      "Run time: 0.6041692880098708\n",
      "Finished: prod\n"
     ]
    },
    {
     "name": "stderr",
     "output_type": "stream",
     "text": [
      "INFO: Lists updated 3 times (every ~333.333333 steps)\n",
      "INFO: Aggregated I/O statistics (set debug=1 for file-wise information)\n",
      "\t  1.156 MB written to files\n",
      "\t 62.000  B written to stdout/stderr\n",
      "\tFor a total of     3.76 MB/s\n",
      "\n"
     ]
    },
    {
     "name": "stdout",
     "output_type": "stream",
     "text": [
      "All queued simulations finished in: 10.511155835003592\n",
      "\u001b[32mProduction simulation for structure 15 completed.\u001b[0m\n",
      "\u001b[36mAll simulations for mutant 15 completed.\n",
      "\u001b[0m\n",
      "\u001b[31mSimulating mutant 6 produced by structure 2\u001b[0m\n",
      "Running: relaxed\n",
      "Run time: 5.2450883479905315\n",
      "Finished: relaxed\n"
     ]
    },
    {
     "name": "stderr",
     "output_type": "stream",
     "text": [
      "INFO: Lists updated 1 times (every ~100.000000 steps)\n",
      "INFO: Aggregated I/O statistics (set debug=1 for file-wise information)\n",
      "\t  2.215 MB written to files\n",
      "\t 96.000  B written to stdout/stderr\n",
      "\tFor a total of    0.455 MB/s\n",
      "\n"
     ]
    },
    {
     "name": "stdout",
     "output_type": "stream",
     "text": [
      "All queued simulations finished in: 10.509820081992075\n",
      "\u001b[32mRelaxation simulation for structure 16 completed.\u001b[0m\n",
      "Running: eq\n",
      "Run time: 0.6749681920045987\n",
      "Finished: eq\n"
     ]
    },
    {
     "name": "stderr",
     "output_type": "stream",
     "text": [
      "INFO: Lists updated 4 times (every ~250.000000 steps)\n",
      "INFO: Aggregated I/O statistics (set debug=1 for file-wise information)\n",
      "\t  1.161 MB written to files\n",
      "\t 62.000  B written to stdout/stderr\n",
      "\tFor a total of     3.34 MB/s\n",
      "\n"
     ]
    },
    {
     "name": "stdout",
     "output_type": "stream",
     "text": [
      "All queued simulations finished in: 10.510426072985865\n",
      "\u001b[32mEquilibration simulation for structure 16 completed.\u001b[0m\n",
      "Running: prod\n",
      "Run time: 0.6260840899776667\n",
      "Finished: prod\n"
     ]
    },
    {
     "name": "stderr",
     "output_type": "stream",
     "text": [
      "INFO: Lists updated 3 times (every ~333.333333 steps)\n",
      "INFO: Aggregated I/O statistics (set debug=1 for file-wise information)\n",
      "\t  1.163 MB written to files\n",
      "\t 62.000  B written to stdout/stderr\n",
      "\tFor a total of     3.73 MB/s\n",
      "\n"
     ]
    },
    {
     "name": "stdout",
     "output_type": "stream",
     "text": [
      "All queued simulations finished in: 10.507886372011853\n",
      "\u001b[32mProduction simulation for structure 16 completed.\u001b[0m\n",
      "\u001b[36mAll simulations for mutant 16 completed.\n",
      "\u001b[0m\n",
      "\u001b[31mSimulating mutant 7 produced by structure 2\u001b[0m\n",
      "Running: relaxed\n",
      "Run time: 5.377138309995644\n",
      "Finished: relaxed\n"
     ]
    },
    {
     "name": "stderr",
     "output_type": "stream",
     "text": [
      "INFO: Lists updated 1 times (every ~100.000000 steps)\n",
      "INFO: Aggregated I/O statistics (set debug=1 for file-wise information)\n",
      "\t  2.208 MB written to files\n",
      "\t 96.000  B written to stdout/stderr\n",
      "\tFor a total of    0.438 MB/s\n",
      "\n"
     ]
    },
    {
     "name": "stdout",
     "output_type": "stream",
     "text": [
      "All queued simulations finished in: 10.512473077018512\n",
      "\u001b[32mRelaxation simulation for structure 17 completed.\u001b[0m\n",
      "Running: eq\n",
      "Run time: 0.6159374759881757\n",
      "Finished: eq\n"
     ]
    },
    {
     "name": "stderr",
     "output_type": "stream",
     "text": [
      "INFO: Lists updated 3 times (every ~333.333333 steps)\n",
      "INFO: Aggregated I/O statistics (set debug=1 for file-wise information)\n",
      "\t  1.157 MB written to files\n",
      "\t 62.000  B written to stdout/stderr\n",
      "\tFor a total of     3.78 MB/s\n",
      "\n"
     ]
    },
    {
     "name": "stdout",
     "output_type": "stream",
     "text": [
      "All queued simulations finished in: 10.510831292020157\n",
      "\u001b[32mEquilibration simulation for structure 17 completed.\u001b[0m\n",
      "Running: prod\n",
      "Run time: 0.6991730260197073\n",
      "Finished: prod\n"
     ]
    },
    {
     "name": "stderr",
     "output_type": "stream",
     "text": [
      "INFO: Lists updated 3 times (every ~333.333333 steps)\n",
      "INFO: Aggregated I/O statistics (set debug=1 for file-wise information)\n",
      "\t  1.160 MB written to files\n",
      "\t 62.000  B written to stdout/stderr\n",
      "\tFor a total of     3.43 MB/s\n",
      "\n"
     ]
    },
    {
     "name": "stdout",
     "output_type": "stream",
     "text": [
      "All queued simulations finished in: 10.5198850230081\n",
      "\u001b[32mProduction simulation for structure 17 completed.\u001b[0m\n",
      "\u001b[36mAll simulations for mutant 17 completed.\n",
      "\u001b[0m\n",
      "\u001b[31mSimulating mutant 8 produced by structure 2\u001b[0m\n",
      "Running: relaxed\n",
      "Run time: 6.17093247701996\n",
      "Finished: relaxed\n"
     ]
    },
    {
     "name": "stderr",
     "output_type": "stream",
     "text": [
      "INFO: Lists updated 1 times (every ~100.000000 steps)\n",
      "INFO: Aggregated I/O statistics (set debug=1 for file-wise information)\n",
      "\t  2.212 MB written to files\n",
      "\t 96.000  B written to stdout/stderr\n",
      "\tFor a total of    0.383 MB/s\n",
      "\n"
     ]
    },
    {
     "name": "stdout",
     "output_type": "stream",
     "text": [
      "All queued simulations finished in: 10.510713046998717\n",
      "\u001b[32mRelaxation simulation for structure 18 completed.\u001b[0m\n",
      "Running: eq\n",
      "Run time: 0.6495677610218991\n",
      "Finished: eq\n"
     ]
    },
    {
     "name": "stderr",
     "output_type": "stream",
     "text": [
      "INFO: Lists updated 3 times (every ~333.333333 steps)\n",
      "INFO: Aggregated I/O statistics (set debug=1 for file-wise information)\n",
      "\t  1.159 MB written to files\n",
      "\t 62.000  B written to stdout/stderr\n",
      "\tFor a total of     3.46 MB/s\n",
      "\n"
     ]
    },
    {
     "name": "stdout",
     "output_type": "stream",
     "text": [
      "All queued simulations finished in: 10.510521282994887\n",
      "\u001b[32mEquilibration simulation for structure 18 completed.\u001b[0m\n",
      "Running: prod\n",
      "Run time: 0.6206374430039432\n",
      "Finished: prod\n"
     ]
    },
    {
     "name": "stderr",
     "output_type": "stream",
     "text": [
      "INFO: Lists updated 3 times (every ~333.333333 steps)\n",
      "INFO: Aggregated I/O statistics (set debug=1 for file-wise information)\n",
      "\t  1.161 MB written to files\n",
      "\t 62.000  B written to stdout/stderr\n",
      "\tFor a total of     3.67 MB/s\n",
      "\n"
     ]
    },
    {
     "name": "stdout",
     "output_type": "stream",
     "text": [
      "All queued simulations finished in: 10.509077619004529\n",
      "\u001b[32mProduction simulation for structure 18 completed.\u001b[0m\n",
      "\u001b[36mAll simulations for mutant 18 completed.\n",
      "\u001b[0m\n",
      "\u001b[31mSimulating mutant 9 produced by structure 2\u001b[0m\n",
      "Running: relaxed\n",
      "Run time: 5.343983372004004\n",
      "Finished: relaxed\n"
     ]
    },
    {
     "name": "stderr",
     "output_type": "stream",
     "text": [
      "INFO: Lists updated 1 times (every ~100.000000 steps)\n",
      "INFO: Aggregated I/O statistics (set debug=1 for file-wise information)\n",
      "\t  2.205 MB written to files\n",
      "\t 96.000  B written to stdout/stderr\n",
      "\tFor a total of    0.441 MB/s\n",
      "\n"
     ]
    },
    {
     "name": "stdout",
     "output_type": "stream",
     "text": [
      "All queued simulations finished in: 10.509030990011524\n",
      "\u001b[32mRelaxation simulation for structure 19 completed.\u001b[0m\n",
      "Running: eq\n",
      "Run time: 0.659922792983707\n",
      "Finished: eq\n"
     ]
    },
    {
     "name": "stderr",
     "output_type": "stream",
     "text": [
      "INFO: Lists updated 3 times (every ~333.333333 steps)\n",
      "INFO: Aggregated I/O statistics (set debug=1 for file-wise information)\n",
      "\t  1.156 MB written to files\n",
      "\t 62.000  B written to stdout/stderr\n",
      "\tFor a total of      3.4 MB/s\n",
      "\n"
     ]
    },
    {
     "name": "stdout",
     "output_type": "stream",
     "text": [
      "All queued simulations finished in: 10.509514292993117\n",
      "\u001b[32mEquilibration simulation for structure 19 completed.\u001b[0m\n",
      "Running: prod\n",
      "Run time: 0.647090621991083\n",
      "Finished: prod\n"
     ]
    },
    {
     "name": "stderr",
     "output_type": "stream",
     "text": [
      "INFO: Lists updated 3 times (every ~333.333333 steps)\n",
      "INFO: Aggregated I/O statistics (set debug=1 for file-wise information)\n",
      "\t  1.158 MB written to files\n",
      "\t 62.000  B written to stdout/stderr\n",
      "\tFor a total of     3.37 MB/s\n",
      "\n"
     ]
    },
    {
     "name": "stdout",
     "output_type": "stream",
     "text": [
      "All queued simulations finished in: 10.508398738980759\n",
      "\u001b[32mProduction simulation for structure 19 completed.\u001b[0m\n",
      "\u001b[36mAll simulations for mutant 19 completed.\n",
      "\u001b[0m\n",
      "\u001b[31mSimulating mutant 0 produced by structure 3\u001b[0m\n",
      "Running: relaxed\n",
      "Run time: 5.272996957995929\n",
      "Finished: relaxed\n"
     ]
    },
    {
     "name": "stderr",
     "output_type": "stream",
     "text": [
      "INFO: Aggregated I/O statistics (set debug=1 for file-wise information)\n",
      "\t  2.207 MB written to files\n",
      "\t 96.000  B written to stdout/stderr\n",
      "\tFor a total of     0.45 MB/s\n",
      "\n"
     ]
    },
    {
     "name": "stdout",
     "output_type": "stream",
     "text": [
      "All queued simulations finished in: 10.509738654014654\n",
      "\u001b[32mRelaxation simulation for structure 20 completed.\u001b[0m\n",
      "Running: eq\n",
      "Run time: 0.7283918310131412\n",
      "Finished: eq\n"
     ]
    },
    {
     "name": "stderr",
     "output_type": "stream",
     "text": [
      "INFO: Lists updated 3 times (every ~333.333333 steps)\n",
      "INFO: Aggregated I/O statistics (set debug=1 for file-wise information)\n",
      "\t  1.157 MB written to files\n",
      "\t 62.000  B written to stdout/stderr\n",
      "\tFor a total of     3.29 MB/s\n",
      "\n"
     ]
    },
    {
     "name": "stdout",
     "output_type": "stream",
     "text": [
      "All queued simulations finished in: 10.510939639003482\n",
      "\u001b[32mEquilibration simulation for structure 20 completed.\u001b[0m\n",
      "Running: prod\n",
      "Run time: 0.6260682299907785\n",
      "Finished: prod\n"
     ]
    },
    {
     "name": "stderr",
     "output_type": "stream",
     "text": [
      "INFO: Lists updated 3 times (every ~333.333333 steps)\n",
      "INFO: Aggregated I/O statistics (set debug=1 for file-wise information)\n",
      "\t  1.159 MB written to files\n",
      "\t 62.000  B written to stdout/stderr\n",
      "\tFor a total of     3.64 MB/s\n",
      "\n"
     ]
    },
    {
     "name": "stdout",
     "output_type": "stream",
     "text": [
      "All queued simulations finished in: 10.511166261014296\n",
      "\u001b[32mProduction simulation for structure 20 completed.\u001b[0m\n",
      "\u001b[36mAll simulations for mutant 20 completed.\n",
      "\u001b[0m\n",
      "\u001b[31mSimulating mutant 1 produced by structure 3\u001b[0m\n",
      "Running: relaxed\n",
      "Run time: 5.557460417010589\n",
      "Finished: relaxed\n"
     ]
    },
    {
     "name": "stderr",
     "output_type": "stream",
     "text": [
      "INFO: Aggregated I/O statistics (set debug=1 for file-wise information)\n",
      "\t  2.200 MB written to files\n",
      "\t 96.000  B written to stdout/stderr\n",
      "\tFor a total of    0.424 MB/s\n",
      "\n"
     ]
    },
    {
     "name": "stdout",
     "output_type": "stream",
     "text": [
      "All queued simulations finished in: 10.510376050980994\n",
      "\u001b[32mRelaxation simulation for structure 21 completed.\u001b[0m\n",
      "Running: eq\n",
      "Run time: 0.7038109939894639\n",
      "Finished: eq\n"
     ]
    },
    {
     "name": "stderr",
     "output_type": "stream",
     "text": [
      "INFO: Lists updated 3 times (every ~333.333333 steps)\n",
      "INFO: Aggregated I/O statistics (set debug=1 for file-wise information)\n",
      "\t  1.154 MB written to files\n",
      "\t 62.000  B written to stdout/stderr\n",
      "\tFor a total of     3.36 MB/s\n",
      "\n"
     ]
    },
    {
     "name": "stdout",
     "output_type": "stream",
     "text": [
      "All queued simulations finished in: 10.509242529020412\n",
      "\u001b[32mEquilibration simulation for structure 21 completed.\u001b[0m\n",
      "Running: prod\n",
      "Run time: 0.6585714399989229\n",
      "Finished: prod\n"
     ]
    },
    {
     "name": "stderr",
     "output_type": "stream",
     "text": [
      "INFO: Lists updated 3 times (every ~333.333333 steps)\n",
      "INFO: Aggregated I/O statistics (set debug=1 for file-wise information)\n",
      "\t  1.156 MB written to files\n",
      "\t 62.000  B written to stdout/stderr\n",
      "\tFor a total of     3.38 MB/s\n",
      "\n"
     ]
    },
    {
     "name": "stdout",
     "output_type": "stream",
     "text": [
      "All queued simulations finished in: 10.50911198198446\n",
      "\u001b[32mProduction simulation for structure 21 completed.\u001b[0m\n",
      "\u001b[36mAll simulations for mutant 21 completed.\n",
      "\u001b[0m\n",
      "\u001b[31mSimulating mutant 2 produced by structure 3\u001b[0m\n",
      "Running: relaxed\n",
      "Run time: 5.262503523990745\n",
      "Finished: relaxed\n"
     ]
    },
    {
     "name": "stderr",
     "output_type": "stream",
     "text": [
      "INFO: Lists updated 1 times (every ~100.000000 steps)\n",
      "INFO: Aggregated I/O statistics (set debug=1 for file-wise information)\n",
      "\t  2.208 MB written to files\n",
      "\t 96.000  B written to stdout/stderr\n",
      "\tFor a total of    0.448 MB/s\n",
      "\n"
     ]
    },
    {
     "name": "stdout",
     "output_type": "stream",
     "text": [
      "All queued simulations finished in: 10.509471049997956\n",
      "\u001b[32mRelaxation simulation for structure 22 completed.\u001b[0m\n",
      "Running: eq\n",
      "Run time: 0.658482038998045\n",
      "Finished: eq\n"
     ]
    },
    {
     "name": "stderr",
     "output_type": "stream",
     "text": [
      "INFO: Lists updated 3 times (every ~333.333333 steps)\n",
      "INFO: Aggregated I/O statistics (set debug=1 for file-wise information)\n",
      "\t  1.157 MB written to files\n",
      "\t 62.000  B written to stdout/stderr\n",
      "\tFor a total of     3.37 MB/s\n",
      "\n"
     ]
    },
    {
     "name": "stdout",
     "output_type": "stream",
     "text": [
      "All queued simulations finished in: 10.51176702498924\n",
      "\u001b[32mEquilibration simulation for structure 22 completed.\u001b[0m\n",
      "Running: prod\n",
      "Run time: 0.6431997140171006\n",
      "Finished: prod\n"
     ]
    },
    {
     "name": "stderr",
     "output_type": "stream",
     "text": [
      "INFO: Lists updated 4 times (every ~250.000000 steps)\n",
      "INFO: Aggregated I/O statistics (set debug=1 for file-wise information)\n",
      "\t  1.159 MB written to files\n",
      "\t 62.000  B written to stdout/stderr\n",
      "\tFor a total of     3.53 MB/s\n",
      "\n"
     ]
    },
    {
     "name": "stdout",
     "output_type": "stream",
     "text": [
      "All queued simulations finished in: 10.50869724599761\n",
      "\u001b[32mProduction simulation for structure 22 completed.\u001b[0m\n",
      "\u001b[36mAll simulations for mutant 22 completed.\n",
      "\u001b[0m\n",
      "\u001b[31mSimulating mutant 3 produced by structure 3\u001b[0m\n",
      "Running: relaxed\n",
      "Run time: 5.249665628012735\n",
      "Finished: relaxed\n"
     ]
    },
    {
     "name": "stderr",
     "output_type": "stream",
     "text": [
      "INFO: Aggregated I/O statistics (set debug=1 for file-wise information)\n",
      "\t  2.204 MB written to files\n",
      "\t 96.000  B written to stdout/stderr\n",
      "\tFor a total of     0.45 MB/s\n",
      "\n"
     ]
    },
    {
     "name": "stdout",
     "output_type": "stream",
     "text": [
      "All queued simulations finished in: 10.512390524003422\n",
      "\u001b[32mRelaxation simulation for structure 23 completed.\u001b[0m\n",
      "Running: eq\n",
      "Run time: 0.6342349570186343\n",
      "Finished: eq\n"
     ]
    },
    {
     "name": "stderr",
     "output_type": "stream",
     "text": [
      "INFO: Lists updated 3 times (every ~333.333333 steps)\n",
      "INFO: Aggregated I/O statistics (set debug=1 for file-wise information)\n",
      "\t  1.156 MB written to files\n",
      "\t 62.000  B written to stdout/stderr\n",
      "\tFor a total of     3.57 MB/s\n",
      "\n"
     ]
    },
    {
     "name": "stdout",
     "output_type": "stream",
     "text": [
      "All queued simulations finished in: 10.51066691899905\n",
      "\u001b[32mEquilibration simulation for structure 23 completed.\u001b[0m\n",
      "Running: prod\n",
      "Run time: 0.6347254859865643\n",
      "Finished: prod\n"
     ]
    },
    {
     "name": "stderr",
     "output_type": "stream",
     "text": [
      "INFO: Lists updated 3 times (every ~333.333333 steps)\n",
      "INFO: Aggregated I/O statistics (set debug=1 for file-wise information)\n",
      "\t  1.158 MB written to files\n",
      "\t 62.000  B written to stdout/stderr\n",
      "\tFor a total of     3.62 MB/s\n",
      "\n"
     ]
    },
    {
     "name": "stdout",
     "output_type": "stream",
     "text": [
      "All queued simulations finished in: 10.508670951006934\n",
      "\u001b[32mProduction simulation for structure 23 completed.\u001b[0m\n",
      "\u001b[36mAll simulations for mutant 23 completed.\n",
      "\u001b[0m\n",
      "\u001b[31mSimulating mutant 4 produced by structure 3\u001b[0m\n",
      "Running: relaxed\n",
      "Run time: 5.354518620995805\n",
      "Finished: relaxed\n"
     ]
    },
    {
     "name": "stderr",
     "output_type": "stream",
     "text": [
      "INFO: Aggregated I/O statistics (set debug=1 for file-wise information)\n",
      "\t  2.212 MB written to files\n",
      "\t 96.000  B written to stdout/stderr\n",
      "\tFor a total of    0.442 MB/s\n",
      "\n"
     ]
    },
    {
     "name": "stdout",
     "output_type": "stream",
     "text": [
      "All queued simulations finished in: 10.510807910992298\n",
      "\u001b[32mRelaxation simulation for structure 24 completed.\u001b[0m\n",
      "Running: eq\n",
      "Run time: 0.6596051559899934\n",
      "Finished: eq\n"
     ]
    },
    {
     "name": "stderr",
     "output_type": "stream",
     "text": [
      "INFO: Lists updated 3 times (every ~333.333333 steps)\n",
      "INFO: Aggregated I/O statistics (set debug=1 for file-wise information)\n",
      "\t  1.159 MB written to files\n",
      "\t 62.000  B written to stdout/stderr\n",
      "\tFor a total of     3.35 MB/s\n",
      "\n"
     ]
    },
    {
     "name": "stdout",
     "output_type": "stream",
     "text": [
      "All queued simulations finished in: 10.508003233000636\n",
      "\u001b[32mEquilibration simulation for structure 24 completed.\u001b[0m\n",
      "Running: prod\n",
      "Run time: 0.6908973329991568\n",
      "Finished: prod\n"
     ]
    },
    {
     "name": "stderr",
     "output_type": "stream",
     "text": [
      "INFO: Lists updated 3 times (every ~333.333333 steps)\n",
      "INFO: Aggregated I/O statistics (set debug=1 for file-wise information)\n",
      "\t  1.161 MB written to files\n",
      "\t 62.000  B written to stdout/stderr\n",
      "\tFor a total of     3.44 MB/s\n",
      "\n"
     ]
    },
    {
     "name": "stdout",
     "output_type": "stream",
     "text": [
      "All queued simulations finished in: 10.50960180000402\n",
      "\u001b[32mProduction simulation for structure 24 completed.\u001b[0m\n",
      "\u001b[36mAll simulations for mutant 24 completed.\n",
      "\u001b[0m\n",
      "\u001b[31mSimulating mutant 5 produced by structure 3\u001b[0m\n",
      "Running: relaxed\n",
      "Run time: 5.384419393987628\n",
      "Finished: relaxed\n"
     ]
    },
    {
     "name": "stderr",
     "output_type": "stream",
     "text": [
      "INFO: Lists updated 1 times (every ~100.000000 steps)\n",
      "INFO: Aggregated I/O statistics (set debug=1 for file-wise information)\n",
      "\t  2.205 MB written to files\n",
      "\t 96.000  B written to stdout/stderr\n",
      "\tFor a total of    0.438 MB/s\n",
      "\n"
     ]
    },
    {
     "name": "stdout",
     "output_type": "stream",
     "text": [
      "All queued simulations finished in: 10.51066623700899\n",
      "\u001b[32mRelaxation simulation for structure 25 completed.\u001b[0m\n",
      "Running: eq\n",
      "Run time: 0.6196479620120954\n",
      "Finished: eq\n"
     ]
    },
    {
     "name": "stderr",
     "output_type": "stream",
     "text": [
      "INFO: Lists updated 3 times (every ~333.333333 steps)\n",
      "INFO: Aggregated I/O statistics (set debug=1 for file-wise information)\n",
      "\t  1.155 MB written to files\n",
      "\t 62.000  B written to stdout/stderr\n",
      "\tFor a total of     3.69 MB/s\n",
      "\n"
     ]
    },
    {
     "name": "stdout",
     "output_type": "stream",
     "text": [
      "All queued simulations finished in: 10.509971986000892\n",
      "\u001b[32mEquilibration simulation for structure 25 completed.\u001b[0m\n",
      "Running: prod\n",
      "Run time: 0.591307770984713\n",
      "Finished: prod\n"
     ]
    },
    {
     "name": "stderr",
     "output_type": "stream",
     "text": [
      "INFO: Lists updated 3 times (every ~333.333333 steps)\n",
      "INFO: Aggregated I/O statistics (set debug=1 for file-wise information)\n",
      "\t  1.158 MB written to files\n",
      "\t 62.000  B written to stdout/stderr\n",
      "\tFor a total of      3.9 MB/s\n",
      "\n"
     ]
    },
    {
     "name": "stdout",
     "output_type": "stream",
     "text": [
      "All queued simulations finished in: 10.508091291994788\n",
      "\u001b[32mProduction simulation for structure 25 completed.\u001b[0m\n",
      "\u001b[36mAll simulations for mutant 25 completed.\n",
      "\u001b[0m\n",
      "\u001b[31mSimulating mutant 6 produced by structure 3\u001b[0m\n",
      "Running: relaxed\n",
      "Run time: 5.471294598013628\n",
      "Finished: relaxed\n"
     ]
    },
    {
     "name": "stderr",
     "output_type": "stream",
     "text": [
      "INFO: Aggregated I/O statistics (set debug=1 for file-wise information)\n",
      "\t  2.196 MB written to files\n",
      "\t 96.000  B written to stdout/stderr\n",
      "\tFor a total of     0.43 MB/s\n",
      "\n"
     ]
    },
    {
     "name": "stdout",
     "output_type": "stream",
     "text": [
      "All queued simulations finished in: 10.510399868013337\n",
      "\u001b[32mRelaxation simulation for structure 26 completed.\u001b[0m\n",
      "Running: eq\n",
      "Run time: 0.6836491780122742\n",
      "Finished: eq\n"
     ]
    },
    {
     "name": "stderr",
     "output_type": "stream",
     "text": [
      "INFO: Lists updated 3 times (every ~333.333333 steps)\n",
      "INFO: Aggregated I/O statistics (set debug=1 for file-wise information)\n",
      "\t  1.152 MB written to files\n",
      "\t 62.000  B written to stdout/stderr\n",
      "\tFor a total of     3.29 MB/s\n",
      "\n"
     ]
    },
    {
     "name": "stdout",
     "output_type": "stream",
     "text": [
      "All queued simulations finished in: 10.507753458019579\n",
      "\u001b[32mEquilibration simulation for structure 26 completed.\u001b[0m\n",
      "Running: prod\n",
      "Run time: 0.6595486659789458\n",
      "Finished: prod\n"
     ]
    },
    {
     "name": "stderr",
     "output_type": "stream",
     "text": [
      "INFO: Lists updated 3 times (every ~333.333333 steps)\n",
      "INFO: Aggregated I/O statistics (set debug=1 for file-wise information)\n",
      "\t  1.154 MB written to files\n",
      "\t 62.000  B written to stdout/stderr\n",
      "\tFor a total of      3.4 MB/s\n",
      "\n"
     ]
    },
    {
     "name": "stdout",
     "output_type": "stream",
     "text": [
      "All queued simulations finished in: 10.509150411002338\n",
      "\u001b[32mProduction simulation for structure 26 completed.\u001b[0m\n",
      "\u001b[36mAll simulations for mutant 26 completed.\n",
      "\u001b[0m\n",
      "\u001b[31mSimulating mutant 7 produced by structure 3\u001b[0m\n",
      "Running: relaxed\n",
      "Run time: 5.75242741801776\n",
      "Finished: relaxed\n"
     ]
    },
    {
     "name": "stderr",
     "output_type": "stream",
     "text": [
      "INFO: Lists updated 1 times (every ~100.000000 steps)\n",
      "INFO: Aggregated I/O statistics (set debug=1 for file-wise information)\n",
      "\t  2.202 MB written to files\n",
      "\t 96.000  B written to stdout/stderr\n",
      "\tFor a total of    0.408 MB/s\n",
      "\n"
     ]
    },
    {
     "name": "stdout",
     "output_type": "stream",
     "text": [
      "All queued simulations finished in: 10.509694829001091\n",
      "\u001b[32mRelaxation simulation for structure 27 completed.\u001b[0m\n",
      "Running: eq\n",
      "Run time: 0.6912812590016983\n",
      "Finished: eq\n"
     ]
    },
    {
     "name": "stderr",
     "output_type": "stream",
     "text": [
      "INFO: Lists updated 3 times (every ~333.333333 steps)\n",
      "INFO: Aggregated I/O statistics (set debug=1 for file-wise information)\n",
      "\t  1.156 MB written to files\n",
      "\t 62.000  B written to stdout/stderr\n",
      "\tFor a total of      3.4 MB/s\n",
      "\n"
     ]
    },
    {
     "name": "stdout",
     "output_type": "stream",
     "text": [
      "All queued simulations finished in: 10.508091132011032\n",
      "\u001b[32mEquilibration simulation for structure 27 completed.\u001b[0m\n",
      "Running: prod\n",
      "Run time: 0.667254823987605\n",
      "Finished: prod\n"
     ]
    },
    {
     "name": "stderr",
     "output_type": "stream",
     "text": [
      "INFO: Lists updated 3 times (every ~333.333333 steps)\n",
      "INFO: Aggregated I/O statistics (set debug=1 for file-wise information)\n",
      "\t  1.158 MB written to files\n",
      "\t 62.000  B written to stdout/stderr\n",
      "\tFor a total of     3.59 MB/s\n",
      "\n"
     ]
    },
    {
     "name": "stdout",
     "output_type": "stream",
     "text": [
      "All queued simulations finished in: 10.508056999999098\n",
      "\u001b[32mProduction simulation for structure 27 completed.\u001b[0m\n",
      "\u001b[36mAll simulations for mutant 27 completed.\n",
      "\u001b[0m\n",
      "\u001b[31mSimulating mutant 8 produced by structure 3\u001b[0m\n",
      "Running: relaxed\n",
      "Run time: 5.682966074004071\n",
      "Finished: relaxed\n"
     ]
    },
    {
     "name": "stderr",
     "output_type": "stream",
     "text": [
      "INFO: Lists updated 2 times (every ~50.000000 steps)\n",
      "INFO: Aggregated I/O statistics (set debug=1 for file-wise information)\n",
      "\t  2.195 MB written to files\n",
      "\t 96.000  B written to stdout/stderr\n",
      "\tFor a total of     0.41 MB/s\n",
      "\n"
     ]
    },
    {
     "name": "stdout",
     "output_type": "stream",
     "text": [
      "All queued simulations finished in: 10.511143814015668\n",
      "\u001b[32mRelaxation simulation for structure 28 completed.\u001b[0m\n",
      "Running: eq\n",
      "Run time: 0.6326928199850954\n",
      "Finished: eq\n"
     ]
    },
    {
     "name": "stderr",
     "output_type": "stream",
     "text": [
      "INFO: Lists updated 3 times (every ~333.333333 steps)\n",
      "INFO: Aggregated I/O statistics (set debug=1 for file-wise information)\n",
      "\t  1.152 MB written to files\n",
      "\t 62.000  B written to stdout/stderr\n",
      "\tFor a total of      3.5 MB/s\n",
      "\n"
     ]
    },
    {
     "name": "stdout",
     "output_type": "stream",
     "text": [
      "All queued simulations finished in: 10.508189479995053\n",
      "\u001b[32mEquilibration simulation for structure 28 completed.\u001b[0m\n",
      "Running: prod\n",
      "Run time: 0.6379378249985166\n",
      "Finished: prod\n"
     ]
    },
    {
     "name": "stderr",
     "output_type": "stream",
     "text": [
      "INFO: Lists updated 4 times (every ~250.000000 steps)\n",
      "INFO: Aggregated I/O statistics (set debug=1 for file-wise information)\n",
      "\t  1.154 MB written to files\n",
      "\t 62.000  B written to stdout/stderr\n",
      "\tFor a total of     3.51 MB/s\n",
      "\n"
     ]
    },
    {
     "name": "stdout",
     "output_type": "stream",
     "text": [
      "All queued simulations finished in: 10.51214245898882\n",
      "\u001b[32mProduction simulation for structure 28 completed.\u001b[0m\n",
      "\u001b[36mAll simulations for mutant 28 completed.\n",
      "\u001b[0m\n",
      "\u001b[31mSimulating mutant 9 produced by structure 3\u001b[0m\n",
      "Running: relaxed\n",
      "Run time: 5.1608975770068355\n",
      "Finished: relaxed\n"
     ]
    },
    {
     "name": "stderr",
     "output_type": "stream",
     "text": [
      "INFO: Aggregated I/O statistics (set debug=1 for file-wise information)\n",
      "\t  2.202 MB written to files\n",
      "\t 96.000  B written to stdout/stderr\n",
      "\tFor a total of    0.456 MB/s\n",
      "\n"
     ]
    },
    {
     "name": "stdout",
     "output_type": "stream",
     "text": [
      "All queued simulations finished in: 10.510303176008165\n",
      "\u001b[32mRelaxation simulation for structure 29 completed.\u001b[0m\n",
      "Running: eq\n",
      "Run time: 0.6601103149878327\n",
      "Finished: eq\n"
     ]
    },
    {
     "name": "stderr",
     "output_type": "stream",
     "text": [
      "INFO: Lists updated 3 times (every ~333.333333 steps)\n",
      "INFO: Aggregated I/O statistics (set debug=1 for file-wise information)\n",
      "\t  1.154 MB written to files\n",
      "\t 62.000  B written to stdout/stderr\n",
      "\tFor a total of     3.43 MB/s\n",
      "\n"
     ]
    },
    {
     "name": "stdout",
     "output_type": "stream",
     "text": [
      "All queued simulations finished in: 10.511241042986512\n",
      "\u001b[32mEquilibration simulation for structure 29 completed.\u001b[0m\n",
      "Running: prod\n",
      "Run time: 0.6226509289990645\n",
      "Finished: prod\n"
     ]
    },
    {
     "name": "stderr",
     "output_type": "stream",
     "text": [
      "INFO: Lists updated 3 times (every ~333.333333 steps)\n",
      "INFO: Aggregated I/O statistics (set debug=1 for file-wise information)\n",
      "\t  1.156 MB written to files\n",
      "\t 62.000  B written to stdout/stderr\n",
      "\tFor a total of     3.68 MB/s\n",
      "\n"
     ]
    },
    {
     "name": "stdout",
     "output_type": "stream",
     "text": [
      "All queued simulations finished in: 10.508355689002201\n",
      "\u001b[32mProduction simulation for structure 29 completed.\u001b[0m\n",
      "\u001b[36mAll simulations for mutant 29 completed.\n",
      "\u001b[0m\n",
      "\u001b[31mSimulating mutant 0 produced by structure 4\u001b[0m\n",
      "Running: relaxed\n",
      "Run time: 4.9694514959992375\n",
      "Finished: relaxed\n"
     ]
    },
    {
     "name": "stderr",
     "output_type": "stream",
     "text": [
      "INFO: Lists updated 1 times (every ~100.000000 steps)\n",
      "INFO: Aggregated I/O statistics (set debug=1 for file-wise information)\n",
      "\t  2.201 MB written to files\n",
      "\t 96.000  B written to stdout/stderr\n",
      "\tFor a total of    0.476 MB/s\n",
      "\n"
     ]
    },
    {
     "name": "stdout",
     "output_type": "stream",
     "text": [
      "All queued simulations finished in: 10.509208678995492\n",
      "\u001b[32mRelaxation simulation for structure 30 completed.\u001b[0m\n",
      "Running: eq\n",
      "Run time: 0.5948985590075608\n",
      "Finished: eq\n"
     ]
    },
    {
     "name": "stderr",
     "output_type": "stream",
     "text": [
      "INFO: Lists updated 3 times (every ~333.333333 steps)\n",
      "INFO: Aggregated I/O statistics (set debug=1 for file-wise information)\n",
      "\t  1.153 MB written to files\n",
      "\t 62.000  B written to stdout/stderr\n",
      "\tFor a total of     3.91 MB/s\n",
      "\n"
     ]
    },
    {
     "name": "stdout",
     "output_type": "stream",
     "text": [
      "All queued simulations finished in: 10.511540665989742\n",
      "\u001b[32mEquilibration simulation for structure 30 completed.\u001b[0m\n",
      "Running: prod\n",
      "Run time: 0.5847129519970622\n",
      "Finished: prod\n"
     ]
    },
    {
     "name": "stderr",
     "output_type": "stream",
     "text": [
      "INFO: Lists updated 3 times (every ~333.333333 steps)\n",
      "INFO: Aggregated I/O statistics (set debug=1 for file-wise information)\n",
      "\t  1.156 MB written to files\n",
      "\t 62.000  B written to stdout/stderr\n",
      "\tFor a total of     4.08 MB/s\n",
      "\n"
     ]
    },
    {
     "name": "stdout",
     "output_type": "stream",
     "text": [
      "All queued simulations finished in: 10.509770573000424\n",
      "\u001b[32mProduction simulation for structure 30 completed.\u001b[0m\n",
      "\u001b[36mAll simulations for mutant 30 completed.\n",
      "\u001b[0m\n",
      "\u001b[31mSimulating mutant 1 produced by structure 4\u001b[0m\n",
      "Running: relaxed\n",
      "Run time: 4.99004660101491\n",
      "Finished: relaxed\n"
     ]
    },
    {
     "name": "stderr",
     "output_type": "stream",
     "text": [
      "INFO: Lists updated 1 times (every ~100.000000 steps)\n",
      "INFO: Aggregated I/O statistics (set debug=1 for file-wise information)\n",
      "\t  2.194 MB written to files\n",
      "\t 96.000  B written to stdout/stderr\n",
      "\tFor a total of    0.471 MB/s\n",
      "\n"
     ]
    },
    {
     "name": "stdout",
     "output_type": "stream",
     "text": [
      "All queued simulations finished in: 10.509746195981279\n",
      "\u001b[32mRelaxation simulation for structure 31 completed.\u001b[0m\n",
      "Running: eq\n",
      "Run time: 0.6304701459885109\n",
      "Finished: eq\n"
     ]
    },
    {
     "name": "stderr",
     "output_type": "stream",
     "text": [
      "INFO: Lists updated 3 times (every ~333.333333 steps)\n",
      "INFO: Aggregated I/O statistics (set debug=1 for file-wise information)\n",
      "\t  1.150 MB written to files\n",
      "\t 62.000  B written to stdout/stderr\n",
      "\tFor a total of     3.55 MB/s\n",
      "\n"
     ]
    },
    {
     "name": "stdout",
     "output_type": "stream",
     "text": [
      "All queued simulations finished in: 10.508230715000536\n",
      "\u001b[32mEquilibration simulation for structure 31 completed.\u001b[0m\n",
      "Running: prod\n",
      "Run time: 0.6992961840005592\n",
      "Finished: prod\n"
     ]
    },
    {
     "name": "stderr",
     "output_type": "stream",
     "text": [
      "INFO: Lists updated 3 times (every ~333.333333 steps)\n",
      "INFO: Aggregated I/O statistics (set debug=1 for file-wise information)\n",
      "\t  1.152 MB written to files\n",
      "\t 62.000  B written to stdout/stderr\n",
      "\tFor a total of     3.19 MB/s\n",
      "\n"
     ]
    },
    {
     "name": "stdout",
     "output_type": "stream",
     "text": [
      "All queued simulations finished in: 10.50775636502658\n",
      "\u001b[32mProduction simulation for structure 31 completed.\u001b[0m\n",
      "\u001b[36mAll simulations for mutant 31 completed.\n",
      "\u001b[0m\n",
      "\u001b[31mSimulating mutant 2 produced by structure 4\u001b[0m\n",
      "Running: relaxed\n",
      "Run time: 5.722046588023659\n",
      "Finished: relaxed\n"
     ]
    },
    {
     "name": "stderr",
     "output_type": "stream",
     "text": [
      "INFO: Lists updated 1 times (every ~100.000000 steps)\n",
      "INFO: Aggregated I/O statistics (set debug=1 for file-wise information)\n",
      "\t  2.206 MB written to files\n",
      "\t 96.000  B written to stdout/stderr\n",
      "\tFor a total of    0.412 MB/s\n",
      "\n"
     ]
    },
    {
     "name": "stdout",
     "output_type": "stream",
     "text": [
      "All queued simulations finished in: 10.511229383992031\n",
      "\u001b[32mRelaxation simulation for structure 32 completed.\u001b[0m\n",
      "Running: eq\n",
      "Run time: 0.6347047169983853\n",
      "Finished: eq\n"
     ]
    },
    {
     "name": "stderr",
     "output_type": "stream",
     "text": [
      "INFO: Lists updated 3 times (every ~333.333333 steps)\n",
      "INFO: Aggregated I/O statistics (set debug=1 for file-wise information)\n",
      "\t  1.155 MB written to files\n",
      "\t 62.000  B written to stdout/stderr\n",
      "\tFor a total of     3.64 MB/s\n",
      "\n"
     ]
    },
    {
     "name": "stdout",
     "output_type": "stream",
     "text": [
      "All queued simulations finished in: 10.51040668899077\n",
      "\u001b[32mEquilibration simulation for structure 32 completed.\u001b[0m\n",
      "Running: prod\n",
      "Run time: 0.6457551829807926\n",
      "Finished: prod\n"
     ]
    },
    {
     "name": "stderr",
     "output_type": "stream",
     "text": [
      "INFO: Lists updated 3 times (every ~333.333333 steps)\n",
      "INFO: Aggregated I/O statistics (set debug=1 for file-wise information)\n",
      "\t  1.158 MB written to files\n",
      "\t 62.000  B written to stdout/stderr\n",
      "\tFor a total of     3.69 MB/s\n",
      "\n"
     ]
    },
    {
     "name": "stdout",
     "output_type": "stream",
     "text": [
      "All queued simulations finished in: 10.509907155996189\n",
      "\u001b[32mProduction simulation for structure 32 completed.\u001b[0m\n",
      "\u001b[36mAll simulations for mutant 32 completed.\n",
      "\u001b[0m\n",
      "\u001b[31mSimulating mutant 3 produced by structure 4\u001b[0m\n",
      "Running: relaxed\n",
      "Run time: 6.0854036239907146\n",
      "Finished: relaxed\n"
     ]
    },
    {
     "name": "stderr",
     "output_type": "stream",
     "text": [
      "INFO: Lists updated 2 times (every ~50.000000 steps)\n",
      "INFO: Aggregated I/O statistics (set debug=1 for file-wise information)\n",
      "\t  2.205 MB written to files\n",
      "\t 96.000  B written to stdout/stderr\n",
      "\tFor a total of    0.386 MB/s\n",
      "\n"
     ]
    },
    {
     "name": "stdout",
     "output_type": "stream",
     "text": [
      "All queued simulations finished in: 10.511144871998113\n",
      "\u001b[32mRelaxation simulation for structure 33 completed.\u001b[0m\n",
      "Running: eq\n",
      "Run time: 0.633031003002543\n",
      "Finished: eq\n"
     ]
    },
    {
     "name": "stderr",
     "output_type": "stream",
     "text": [
      "INFO: Lists updated 3 times (every ~333.333333 steps)\n",
      "INFO: Aggregated I/O statistics (set debug=1 for file-wise information)\n",
      "\t  1.155 MB written to files\n",
      "\t 62.000  B written to stdout/stderr\n",
      "\tFor a total of     3.57 MB/s\n",
      "\n"
     ]
    },
    {
     "name": "stdout",
     "output_type": "stream",
     "text": [
      "All queued simulations finished in: 10.509091185987927\n",
      "\u001b[32mEquilibration simulation for structure 33 completed.\u001b[0m\n",
      "Running: prod\n",
      "Run time: 0.6094664210104384\n",
      "Finished: prod\n"
     ]
    },
    {
     "name": "stderr",
     "output_type": "stream",
     "text": [
      "INFO: Lists updated 3 times (every ~333.333333 steps)\n",
      "INFO: Aggregated I/O statistics (set debug=1 for file-wise information)\n",
      "\t  1.158 MB written to files\n",
      "\t 62.000  B written to stdout/stderr\n",
      "\tFor a total of     3.81 MB/s\n",
      "\n"
     ]
    },
    {
     "name": "stdout",
     "output_type": "stream",
     "text": [
      "All queued simulations finished in: 10.507705579977483\n",
      "\u001b[32mProduction simulation for structure 33 completed.\u001b[0m\n",
      "\u001b[36mAll simulations for mutant 33 completed.\n",
      "\u001b[0m\n",
      "\u001b[31mSimulating mutant 4 produced by structure 4\u001b[0m\n",
      "Running: relaxed\n",
      "Run time: 5.496942539990414\n",
      "Finished: relaxed\n"
     ]
    },
    {
     "name": "stderr",
     "output_type": "stream",
     "text": [
      "INFO: Lists updated 1 times (every ~100.000000 steps)\n",
      "INFO: Aggregated I/O statistics (set debug=1 for file-wise information)\n",
      "\t  2.196 MB written to files\n",
      "\t 96.000  B written to stdout/stderr\n",
      "\tFor a total of    0.428 MB/s\n",
      "\n"
     ]
    },
    {
     "name": "stdout",
     "output_type": "stream",
     "text": [
      "All queued simulations finished in: 10.511610159999691\n",
      "\u001b[32mRelaxation simulation for structure 34 completed.\u001b[0m\n",
      "Running: eq\n",
      "Run time: 0.6306639139947947\n",
      "Finished: eq\n"
     ]
    },
    {
     "name": "stderr",
     "output_type": "stream",
     "text": [
      "INFO: Lists updated 4 times (every ~250.000000 steps)\n",
      "INFO: Aggregated I/O statistics (set debug=1 for file-wise information)\n",
      "\t  1.152 MB written to files\n",
      "\t 62.000  B written to stdout/stderr\n",
      "\tFor a total of     3.32 MB/s\n",
      "\n"
     ]
    },
    {
     "name": "stdout",
     "output_type": "stream",
     "text": [
      "All queued simulations finished in: 10.508551378006814\n",
      "\u001b[32mEquilibration simulation for structure 34 completed.\u001b[0m\n",
      "Running: prod\n",
      "Run time: 0.641810868983157\n",
      "Finished: prod\n"
     ]
    },
    {
     "name": "stderr",
     "output_type": "stream",
     "text": [
      "INFO: Lists updated 4 times (every ~250.000000 steps)\n",
      "INFO: Aggregated I/O statistics (set debug=1 for file-wise information)\n",
      "\t  1.154 MB written to files\n",
      "\t 62.000  B written to stdout/stderr\n",
      "\tFor a total of     3.46 MB/s\n",
      "\n"
     ]
    },
    {
     "name": "stdout",
     "output_type": "stream",
     "text": [
      "All queued simulations finished in: 10.508146996988216\n",
      "\u001b[32mProduction simulation for structure 34 completed.\u001b[0m\n",
      "\u001b[36mAll simulations for mutant 34 completed.\n",
      "\u001b[0m\n",
      "\u001b[31mSimulating mutant 5 produced by structure 4\u001b[0m\n",
      "Running: relaxed\n",
      "Run time: 5.495177236996824\n",
      "Finished: relaxed\n"
     ]
    },
    {
     "name": "stderr",
     "output_type": "stream",
     "text": [
      "INFO: Aggregated I/O statistics (set debug=1 for file-wise information)\n",
      "\t  2.209 MB written to files\n",
      "\t 96.000  B written to stdout/stderr\n",
      "\tFor a total of    0.431 MB/s\n",
      "\n"
     ]
    },
    {
     "name": "stdout",
     "output_type": "stream",
     "text": [
      "All queued simulations finished in: 10.515648985019652\n",
      "\u001b[32mRelaxation simulation for structure 35 completed.\u001b[0m\n",
      "Running: eq\n",
      "Run time: 0.6573276669951156\n",
      "Finished: eq\n"
     ]
    },
    {
     "name": "stderr",
     "output_type": "stream",
     "text": [
      "INFO: Lists updated 3 times (every ~333.333333 steps)\n",
      "INFO: Aggregated I/O statistics (set debug=1 for file-wise information)\n",
      "\t  1.157 MB written to files\n",
      "\t 62.000  B written to stdout/stderr\n",
      "\tFor a total of     3.44 MB/s\n",
      "\n"
     ]
    },
    {
     "name": "stdout",
     "output_type": "stream",
     "text": [
      "All queued simulations finished in: 10.509365398989758\n",
      "\u001b[32mEquilibration simulation for structure 35 completed.\u001b[0m\n",
      "Running: prod\n",
      "Run time: 0.6170913309906609\n",
      "Finished: prod\n"
     ]
    },
    {
     "name": "stderr",
     "output_type": "stream",
     "text": [
      "INFO: Lists updated 3 times (every ~333.333333 steps)\n",
      "INFO: Aggregated I/O statistics (set debug=1 for file-wise information)\n",
      "\t  1.159 MB written to files\n",
      "\t 62.000  B written to stdout/stderr\n",
      "\tFor a total of     3.83 MB/s\n",
      "\n"
     ]
    },
    {
     "name": "stdout",
     "output_type": "stream",
     "text": [
      "All queued simulations finished in: 10.511978581984295\n",
      "\u001b[32mProduction simulation for structure 35 completed.\u001b[0m\n",
      "\u001b[36mAll simulations for mutant 35 completed.\n",
      "\u001b[0m\n",
      "\u001b[31mSimulating mutant 6 produced by structure 4\u001b[0m\n",
      "Running: relaxed\n",
      "Run time: 5.312074640009087\n",
      "Finished: relaxed\n"
     ]
    },
    {
     "name": "stderr",
     "output_type": "stream",
     "text": [
      "INFO: Aggregated I/O statistics (set debug=1 for file-wise information)\n",
      "\t  2.208 MB written to files\n",
      "\t 96.000  B written to stdout/stderr\n",
      "\tFor a total of    0.446 MB/s\n",
      "\n"
     ]
    },
    {
     "name": "stdout",
     "output_type": "stream",
     "text": [
      "All queued simulations finished in: 10.50989132199902\n",
      "\u001b[32mRelaxation simulation for structure 36 completed.\u001b[0m\n",
      "Running: eq\n",
      "Run time: 0.6483428940118756\n",
      "Finished: eq\n"
     ]
    },
    {
     "name": "stderr",
     "output_type": "stream",
     "text": [
      "INFO: Lists updated 3 times (every ~333.333333 steps)\n",
      "INFO: Aggregated I/O statistics (set debug=1 for file-wise information)\n",
      "\t  1.157 MB written to files\n",
      "\t 62.000  B written to stdout/stderr\n",
      "\tFor a total of     3.58 MB/s\n",
      "\n"
     ]
    },
    {
     "name": "stdout",
     "output_type": "stream",
     "text": [
      "All queued simulations finished in: 10.508585998002673\n",
      "\u001b[32mEquilibration simulation for structure 36 completed.\u001b[0m\n",
      "Running: prod\n",
      "Run time: 0.6375852029887028\n",
      "Finished: prod\n"
     ]
    },
    {
     "name": "stderr",
     "output_type": "stream",
     "text": [
      "INFO: Lists updated 3 times (every ~333.333333 steps)\n",
      "INFO: Aggregated I/O statistics (set debug=1 for file-wise information)\n",
      "\t  1.160 MB written to files\n",
      "\t 62.000  B written to stdout/stderr\n",
      "\tFor a total of     3.51 MB/s\n",
      "\n"
     ]
    },
    {
     "name": "stdout",
     "output_type": "stream",
     "text": [
      "All queued simulations finished in: 10.511045363993617\n",
      "\u001b[32mProduction simulation for structure 36 completed.\u001b[0m\n",
      "\u001b[36mAll simulations for mutant 36 completed.\n",
      "\u001b[0m\n",
      "\u001b[31mSimulating mutant 7 produced by structure 4\u001b[0m\n",
      "Running: relaxed\n",
      "Run time: 5.016527979983948\n",
      "Finished: relaxed\n"
     ]
    },
    {
     "name": "stderr",
     "output_type": "stream",
     "text": [
      "INFO: Lists updated 2 times (every ~50.000000 steps)\n",
      "INFO: Aggregated I/O statistics (set debug=1 for file-wise information)\n",
      "\t  2.201 MB written to files\n",
      "\t 96.000  B written to stdout/stderr\n",
      "\tFor a total of    0.472 MB/s\n",
      "\n"
     ]
    },
    {
     "name": "stdout",
     "output_type": "stream",
     "text": [
      "All queued simulations finished in: 10.508979371981695\n",
      "\u001b[32mRelaxation simulation for structure 37 completed.\u001b[0m\n",
      "Running: eq\n",
      "Run time: 0.6653047619911376\n",
      "Finished: eq\n"
     ]
    },
    {
     "name": "stderr",
     "output_type": "stream",
     "text": [
      "INFO: Lists updated 3 times (every ~333.333333 steps)\n",
      "INFO: Aggregated I/O statistics (set debug=1 for file-wise information)\n",
      "\t  1.154 MB written to files\n",
      "\t 62.000  B written to stdout/stderr\n",
      "\tFor a total of     3.41 MB/s\n",
      "\n"
     ]
    },
    {
     "name": "stdout",
     "output_type": "stream",
     "text": [
      "All queued simulations finished in: 10.508828819991322\n",
      "\u001b[32mEquilibration simulation for structure 37 completed.\u001b[0m\n",
      "Running: prod\n",
      "Run time: 0.6306718760170043\n",
      "Finished: prod\n"
     ]
    },
    {
     "name": "stderr",
     "output_type": "stream",
     "text": [
      "INFO: Lists updated 3 times (every ~333.333333 steps)\n",
      "INFO: Aggregated I/O statistics (set debug=1 for file-wise information)\n",
      "\t  1.156 MB written to files\n",
      "\t 62.000  B written to stdout/stderr\n",
      "\tFor a total of     3.62 MB/s\n",
      "\n"
     ]
    },
    {
     "name": "stdout",
     "output_type": "stream",
     "text": [
      "All queued simulations finished in: 10.512362146982923\n",
      "\u001b[32mProduction simulation for structure 37 completed.\u001b[0m\n",
      "\u001b[36mAll simulations for mutant 37 completed.\n",
      "\u001b[0m\n",
      "\u001b[31mSimulating mutant 8 produced by structure 4\u001b[0m\n",
      "Running: relaxed\n",
      "Run time: 5.1698478830221575\n",
      "Finished: relaxed\n"
     ]
    },
    {
     "name": "stderr",
     "output_type": "stream",
     "text": [
      "INFO: Lists updated 1 times (every ~100.000000 steps)\n",
      "INFO: Aggregated I/O statistics (set debug=1 for file-wise information)\n",
      "\t  2.202 MB written to files\n",
      "\t 96.000  B written to stdout/stderr\n",
      "\tFor a total of    0.457 MB/s\n",
      "\n"
     ]
    },
    {
     "name": "stdout",
     "output_type": "stream",
     "text": [
      "All queued simulations finished in: 10.513689084997168\n",
      "\u001b[32mRelaxation simulation for structure 38 completed.\u001b[0m\n",
      "Running: eq\n",
      "Run time: 0.6460922589758411\n",
      "Finished: eq\n"
     ]
    },
    {
     "name": "stderr",
     "output_type": "stream",
     "text": [
      "INFO: Lists updated 4 times (every ~250.000000 steps)\n",
      "INFO: Aggregated I/O statistics (set debug=1 for file-wise information)\n",
      "\t  1.153 MB written to files\n",
      "\t 62.000  B written to stdout/stderr\n",
      "\tFor a total of     3.45 MB/s\n",
      "\n"
     ]
    },
    {
     "name": "stdout",
     "output_type": "stream",
     "text": [
      "All queued simulations finished in: 10.508983748004539\n",
      "\u001b[32mEquilibration simulation for structure 38 completed.\u001b[0m\n",
      "Running: prod\n",
      "Run time: 0.5965322759875562\n",
      "Finished: prod\n"
     ]
    },
    {
     "name": "stderr",
     "output_type": "stream",
     "text": [
      "INFO: Lists updated 3 times (every ~333.333333 steps)\n",
      "INFO: Aggregated I/O statistics (set debug=1 for file-wise information)\n",
      "\t  1.156 MB written to files\n",
      "\t 62.000  B written to stdout/stderr\n",
      "\tFor a total of     3.88 MB/s\n",
      "\n"
     ]
    },
    {
     "name": "stdout",
     "output_type": "stream",
     "text": [
      "All queued simulations finished in: 10.51702793300501\n",
      "\u001b[32mProduction simulation for structure 38 completed.\u001b[0m\n",
      "\u001b[36mAll simulations for mutant 38 completed.\n",
      "\u001b[0m\n",
      "\u001b[31mSimulating mutant 9 produced by structure 4\u001b[0m\n",
      "Running: relaxed\n",
      "Run time: 5.464816155988956\n",
      "Finished: relaxed\n"
     ]
    },
    {
     "name": "stderr",
     "output_type": "stream",
     "text": [
      "INFO: Lists updated 1 times (every ~100.000000 steps)\n",
      "INFO: Aggregated I/O statistics (set debug=1 for file-wise information)\n",
      "\t  2.211 MB written to files\n",
      "\t 96.000  B written to stdout/stderr\n",
      "\tFor a total of    0.433 MB/s\n",
      "\n"
     ]
    },
    {
     "name": "stdout",
     "output_type": "stream",
     "text": [
      "All queued simulations finished in: 10.510157679993426\n",
      "\u001b[32mRelaxation simulation for structure 39 completed.\u001b[0m\n",
      "Running: eq\n",
      "Run time: 0.6607896589848679\n",
      "Finished: eq\n"
     ]
    },
    {
     "name": "stderr",
     "output_type": "stream",
     "text": [
      "INFO: Lists updated 3 times (every ~333.333333 steps)\n",
      "INFO: Aggregated I/O statistics (set debug=1 for file-wise information)\n",
      "\t  1.159 MB written to files\n",
      "\t 62.000  B written to stdout/stderr\n",
      "\tFor a total of     3.33 MB/s\n",
      "\n"
     ]
    },
    {
     "name": "stdout",
     "output_type": "stream",
     "text": [
      "All queued simulations finished in: 10.510880981019\n",
      "\u001b[32mEquilibration simulation for structure 39 completed.\u001b[0m\n",
      "Running: prod\n",
      "Run time: 0.6415218509791885\n",
      "Finished: prod\n"
     ]
    },
    {
     "name": "stderr",
     "output_type": "stream",
     "text": [
      "INFO: Lists updated 3 times (every ~333.333333 steps)\n",
      "INFO: Aggregated I/O statistics (set debug=1 for file-wise information)\n",
      "\t  1.161 MB written to files\n",
      "\t 62.000  B written to stdout/stderr\n",
      "\tFor a total of      3.7 MB/s\n",
      "\n"
     ]
    },
    {
     "name": "stdout",
     "output_type": "stream",
     "text": [
      "All queued simulations finished in: 10.508658371982165\n",
      "\u001b[32mProduction simulation for structure 39 completed.\u001b[0m\n",
      "\u001b[36mAll simulations for mutant 39 completed.\n",
      "\u001b[0m\n",
      "\u001b[31mSimulating mutant 0 produced by structure 4\u001b[0m\n",
      "Running: relaxed\n",
      "Run time: 5.020038529008161\n",
      "Finished: relaxed\n"
     ]
    },
    {
     "name": "stderr",
     "output_type": "stream",
     "text": [
      "INFO: Lists updated 1 times (every ~100.000000 steps)\n",
      "INFO: Aggregated I/O statistics (set debug=1 for file-wise information)\n",
      "\t  2.198 MB written to files\n",
      "\t 96.000  B written to stdout/stderr\n",
      "\tFor a total of    0.471 MB/s\n",
      "\n"
     ]
    },
    {
     "name": "stdout",
     "output_type": "stream",
     "text": [
      "All queued simulations finished in: 10.508756010007346\n",
      "\u001b[32mRelaxation simulation for structure 40 completed.\u001b[0m\n",
      "Running: eq\n",
      "Run time: 0.6194392619945575\n",
      "Finished: eq\n"
     ]
    },
    {
     "name": "stderr",
     "output_type": "stream",
     "text": [
      "INFO: Lists updated 3 times (every ~333.333333 steps)\n",
      "INFO: Aggregated I/O statistics (set debug=1 for file-wise information)\n",
      "\t  1.152 MB written to files\n",
      "\t 62.000  B written to stdout/stderr\n",
      "\tFor a total of     3.46 MB/s\n",
      "\n"
     ]
    },
    {
     "name": "stdout",
     "output_type": "stream",
     "text": [
      "All queued simulations finished in: 10.507691509003052\n",
      "\u001b[32mEquilibration simulation for structure 40 completed.\u001b[0m\n",
      "Running: prod\n",
      "Run time: 0.5835013610194437\n",
      "Finished: prod\n"
     ]
    },
    {
     "name": "stderr",
     "output_type": "stream",
     "text": [
      "INFO: Lists updated 3 times (every ~333.333333 steps)\n",
      "INFO: Aggregated I/O statistics (set debug=1 for file-wise information)\n",
      "\t  1.154 MB written to files\n",
      "\t 62.000  B written to stdout/stderr\n",
      "\tFor a total of      3.9 MB/s\n",
      "\n"
     ]
    },
    {
     "name": "stdout",
     "output_type": "stream",
     "text": [
      "All queued simulations finished in: 10.50856247099\n",
      "\u001b[32mProduction simulation for structure 40 completed.\u001b[0m\n",
      "\u001b[36mAll simulations for mutant 40 completed.\n",
      "\u001b[0m\n",
      "\u001b[31mSimulating mutant 1 produced by structure 4\u001b[0m\n",
      "Running: relaxed\n",
      "Run time: 5.365040169999702\n",
      "Finished: relaxed\n"
     ]
    },
    {
     "name": "stderr",
     "output_type": "stream",
     "text": [
      "INFO: Lists updated 1 times (every ~100.000000 steps)\n",
      "INFO: Aggregated I/O statistics (set debug=1 for file-wise information)\n",
      "\t  2.210 MB written to files\n",
      "\t 96.000  B written to stdout/stderr\n",
      "\tFor a total of     0.44 MB/s\n",
      "\n"
     ]
    },
    {
     "name": "stdout",
     "output_type": "stream",
     "text": [
      "All queued simulations finished in: 10.511973046988714\n",
      "\u001b[32mRelaxation simulation for structure 41 completed.\u001b[0m\n",
      "Running: eq\n",
      "Run time: 0.5920909650158137\n",
      "Finished: eq\n"
     ]
    },
    {
     "name": "stderr",
     "output_type": "stream",
     "text": [
      "INFO: Lists updated 4 times (every ~250.000000 steps)\n",
      "INFO: Aggregated I/O statistics (set debug=1 for file-wise information)\n",
      "\t  1.157 MB written to files\n",
      "\t 62.000  B written to stdout/stderr\n",
      "\tFor a total of     3.88 MB/s\n",
      "\n"
     ]
    },
    {
     "name": "stdout",
     "output_type": "stream",
     "text": [
      "All queued simulations finished in: 10.516293171007419\n",
      "\u001b[32mEquilibration simulation for structure 41 completed.\u001b[0m\n",
      "Running: prod\n",
      "Run time: 0.6038438539835624\n",
      "Finished: prod\n"
     ]
    },
    {
     "name": "stderr",
     "output_type": "stream",
     "text": [
      "INFO: Lists updated 3 times (every ~333.333333 steps)\n",
      "INFO: Aggregated I/O statistics (set debug=1 for file-wise information)\n",
      "\t  1.159 MB written to files\n",
      "\t 62.000  B written to stdout/stderr\n",
      "\tFor a total of     3.88 MB/s\n",
      "\n"
     ]
    },
    {
     "name": "stdout",
     "output_type": "stream",
     "text": [
      "All queued simulations finished in: 10.508564218995161\n",
      "\u001b[32mProduction simulation for structure 41 completed.\u001b[0m\n",
      "\u001b[36mAll simulations for mutant 41 completed.\n",
      "\u001b[0m\n",
      "\u001b[31mSimulating mutant 2 produced by structure 4\u001b[0m\n",
      "Running: relaxed\n",
      "Run time: 4.943831586977467\n",
      "Finished: relaxed\n"
     ]
    },
    {
     "name": "stderr",
     "output_type": "stream",
     "text": [
      "INFO: Lists updated 1 times (every ~100.000000 steps)\n",
      "INFO: Aggregated I/O statistics (set debug=1 for file-wise information)\n",
      "\t  2.209 MB written to files\n",
      "\t 96.000  B written to stdout/stderr\n",
      "\tFor a total of    0.483 MB/s\n",
      "\n"
     ]
    },
    {
     "name": "stdout",
     "output_type": "stream",
     "text": [
      "All queued simulations finished in: 10.513260442996398\n",
      "\u001b[32mRelaxation simulation for structure 42 completed.\u001b[0m\n",
      "Running: eq\n",
      "Run time: 0.6140577129845042\n",
      "Finished: eq\n"
     ]
    },
    {
     "name": "stderr",
     "output_type": "stream",
     "text": [
      "INFO: Lists updated 3 times (every ~333.333333 steps)\n",
      "INFO: Aggregated I/O statistics (set debug=1 for file-wise information)\n",
      "\t  1.157 MB written to files\n",
      "\t 62.000  B written to stdout/stderr\n",
      "\tFor a total of     3.64 MB/s\n",
      "\n"
     ]
    },
    {
     "name": "stdout",
     "output_type": "stream",
     "text": [
      "All queued simulations finished in: 10.51519073700183\n",
      "\u001b[32mEquilibration simulation for structure 42 completed.\u001b[0m\n",
      "Running: prod\n",
      "Run time: 0.624725886998931\n",
      "Finished: prod\n"
     ]
    },
    {
     "name": "stderr",
     "output_type": "stream",
     "text": [
      "INFO: Lists updated 3 times (every ~333.333333 steps)\n",
      "INFO: Aggregated I/O statistics (set debug=1 for file-wise information)\n",
      "\t  1.159 MB written to files\n",
      "\t 62.000  B written to stdout/stderr\n",
      "\tFor a total of     3.84 MB/s\n",
      "\n"
     ]
    },
    {
     "name": "stdout",
     "output_type": "stream",
     "text": [
      "All queued simulations finished in: 10.508889857999748\n",
      "\u001b[32mProduction simulation for structure 42 completed.\u001b[0m\n",
      "\u001b[36mAll simulations for mutant 42 completed.\n",
      "\u001b[0m\n",
      "\u001b[31mSimulating mutant 3 produced by structure 4\u001b[0m\n",
      "Running: relaxed\n",
      "Run time: 5.02596348899533\n",
      "Finished: relaxed\n"
     ]
    },
    {
     "name": "stderr",
     "output_type": "stream",
     "text": [
      "INFO: Lists updated 2 times (every ~50.000000 steps)\n",
      "INFO: Aggregated I/O statistics (set debug=1 for file-wise information)\n",
      "\t  2.201 MB written to files\n",
      "\t 96.000  B written to stdout/stderr\n",
      "\tFor a total of     0.47 MB/s\n",
      "\n"
     ]
    },
    {
     "name": "stdout",
     "output_type": "stream",
     "text": [
      "All queued simulations finished in: 10.509943882003427\n",
      "\u001b[32mRelaxation simulation for structure 43 completed.\u001b[0m\n",
      "Running: eq\n",
      "Run time: 0.6889111060008872\n",
      "Finished: eq\n"
     ]
    },
    {
     "name": "stderr",
     "output_type": "stream",
     "text": [
      "INFO: Lists updated 3 times (every ~333.333333 steps)\n",
      "INFO: Aggregated I/O statistics (set debug=1 for file-wise information)\n",
      "\t  1.154 MB written to files\n",
      "\t 62.000  B written to stdout/stderr\n",
      "\tFor a total of     3.26 MB/s\n",
      "\n"
     ]
    },
    {
     "name": "stdout",
     "output_type": "stream",
     "text": [
      "All queued simulations finished in: 10.511387184000341\n",
      "\u001b[32mEquilibration simulation for structure 43 completed.\u001b[0m\n",
      "Running: prod\n",
      "Run time: 0.6400754310016055\n",
      "Finished: prod\n"
     ]
    },
    {
     "name": "stderr",
     "output_type": "stream",
     "text": [
      "INFO: Lists updated 3 times (every ~333.333333 steps)\n",
      "INFO: Aggregated I/O statistics (set debug=1 for file-wise information)\n",
      "\t  1.156 MB written to files\n",
      "\t 62.000  B written to stdout/stderr\n",
      "\tFor a total of     3.45 MB/s\n",
      "\n"
     ]
    },
    {
     "name": "stdout",
     "output_type": "stream",
     "text": [
      "All queued simulations finished in: 10.507820108992746\n",
      "\u001b[32mProduction simulation for structure 43 completed.\u001b[0m\n",
      "\u001b[36mAll simulations for mutant 43 completed.\n",
      "\u001b[0m\n",
      "\u001b[31mSimulating mutant 4 produced by structure 4\u001b[0m\n",
      "Running: relaxed\n",
      "Run time: 5.344984024995938\n",
      "Finished: relaxed\n"
     ]
    },
    {
     "name": "stderr",
     "output_type": "stream",
     "text": [
      "INFO: Lists updated 2 times (every ~50.000000 steps)\n",
      "INFO: Aggregated I/O statistics (set debug=1 for file-wise information)\n",
      "\t  2.201 MB written to files\n",
      "\t 96.000  B written to stdout/stderr\n",
      "\tFor a total of    0.444 MB/s\n",
      "\n"
     ]
    },
    {
     "name": "stdout",
     "output_type": "stream",
     "text": [
      "All queued simulations finished in: 10.509580421989085\n",
      "\u001b[32mRelaxation simulation for structure 44 completed.\u001b[0m\n",
      "Running: eq\n",
      "Run time: 0.5811733920127153\n",
      "Finished: eq\n"
     ]
    },
    {
     "name": "stderr",
     "output_type": "stream",
     "text": [
      "INFO: Lists updated 3 times (every ~333.333333 steps)\n",
      "INFO: Aggregated I/O statistics (set debug=1 for file-wise information)\n",
      "\t  1.153 MB written to files\n",
      "\t 62.000  B written to stdout/stderr\n",
      "\tFor a total of     3.91 MB/s\n",
      "\n"
     ]
    },
    {
     "name": "stdout",
     "output_type": "stream",
     "text": [
      "All queued simulations finished in: 10.511327287007589\n",
      "\u001b[32mEquilibration simulation for structure 44 completed.\u001b[0m\n",
      "Running: prod\n",
      "Run time: 0.6085757069813553\n",
      "Finished: prod\n"
     ]
    },
    {
     "name": "stderr",
     "output_type": "stream",
     "text": [
      "INFO: Lists updated 3 times (every ~333.333333 steps)\n",
      "INFO: Aggregated I/O statistics (set debug=1 for file-wise information)\n",
      "\t  1.156 MB written to files\n",
      "\t 62.000  B written to stdout/stderr\n",
      "\tFor a total of     3.75 MB/s\n",
      "\n"
     ]
    },
    {
     "name": "stdout",
     "output_type": "stream",
     "text": [
      "All queued simulations finished in: 10.511698120011715\n",
      "\u001b[32mProduction simulation for structure 44 completed.\u001b[0m\n",
      "\u001b[36mAll simulations for mutant 44 completed.\n",
      "\u001b[0m\n",
      "\u001b[31mSimulating mutant 5 produced by structure 4\u001b[0m\n",
      "Running: relaxed\n",
      "Run time: 5.368169164983556\n",
      "Finished: relaxed\n"
     ]
    },
    {
     "name": "stderr",
     "output_type": "stream",
     "text": [
      "INFO: Lists updated 2 times (every ~50.000000 steps)\n",
      "INFO: Aggregated I/O statistics (set debug=1 for file-wise information)\n",
      "\t  2.211 MB written to files\n",
      "\t 96.000  B written to stdout/stderr\n",
      "\tFor a total of    0.441 MB/s\n",
      "\n"
     ]
    },
    {
     "name": "stdout",
     "output_type": "stream",
     "text": [
      "All queued simulations finished in: 10.509157705993857\n",
      "\u001b[32mRelaxation simulation for structure 45 completed.\u001b[0m\n",
      "Running: eq\n",
      "Run time: 0.608198961999733\n",
      "Finished: eq\n"
     ]
    },
    {
     "name": "stderr",
     "output_type": "stream",
     "text": [
      "INFO: Lists updated 3 times (every ~333.333333 steps)\n",
      "INFO: Aggregated I/O statistics (set debug=1 for file-wise information)\n",
      "\t  1.159 MB written to files\n",
      "\t 62.000  B written to stdout/stderr\n",
      "\tFor a total of     3.72 MB/s\n",
      "\n"
     ]
    },
    {
     "name": "stdout",
     "output_type": "stream",
     "text": [
      "All queued simulations finished in: 10.507998154003872\n",
      "\u001b[32mEquilibration simulation for structure 45 completed.\u001b[0m\n",
      "Running: prod\n",
      "Run time: 0.6398794339911547\n",
      "Finished: prod\n"
     ]
    },
    {
     "name": "stderr",
     "output_type": "stream",
     "text": [
      "INFO: Lists updated 3 times (every ~333.333333 steps)\n",
      "INFO: Aggregated I/O statistics (set debug=1 for file-wise information)\n",
      "\t  1.161 MB written to files\n",
      "\t 62.000  B written to stdout/stderr\n",
      "\tFor a total of     3.85 MB/s\n",
      "\n"
     ]
    },
    {
     "name": "stdout",
     "output_type": "stream",
     "text": [
      "All queued simulations finished in: 10.511205942020752\n",
      "\u001b[32mProduction simulation for structure 45 completed.\u001b[0m\n",
      "\u001b[36mAll simulations for mutant 45 completed.\n",
      "\u001b[0m\n",
      "\u001b[31mSimulating mutant 6 produced by structure 4\u001b[0m\n",
      "Running: relaxed\n",
      "Run time: 5.335002578998683\n",
      "Finished: relaxed\n"
     ]
    },
    {
     "name": "stderr",
     "output_type": "stream",
     "text": [
      "INFO: Lists updated 1 times (every ~100.000000 steps)\n",
      "INFO: Aggregated I/O statistics (set debug=1 for file-wise information)\n",
      "\t  2.204 MB written to files\n",
      "\t 96.000  B written to stdout/stderr\n",
      "\tFor a total of    0.442 MB/s\n",
      "\n"
     ]
    },
    {
     "name": "stdout",
     "output_type": "stream",
     "text": [
      "All queued simulations finished in: 10.511717976012733\n",
      "\u001b[32mRelaxation simulation for structure 46 completed.\u001b[0m\n",
      "Running: eq\n",
      "Run time: 0.6293929330131505\n",
      "Finished: eq\n"
     ]
    },
    {
     "name": "stderr",
     "output_type": "stream",
     "text": [
      "INFO: Lists updated 4 times (every ~250.000000 steps)\n",
      "INFO: Aggregated I/O statistics (set debug=1 for file-wise information)\n",
      "\t  1.155 MB written to files\n",
      "\t 62.000  B written to stdout/stderr\n",
      "\tFor a total of     3.59 MB/s\n",
      "\n"
     ]
    },
    {
     "name": "stdout",
     "output_type": "stream",
     "text": [
      "All queued simulations finished in: 10.508136963006109\n",
      "\u001b[32mEquilibration simulation for structure 46 completed.\u001b[0m\n",
      "Running: prod\n",
      "Run time: 0.6576763780030888\n",
      "Finished: prod\n"
     ]
    },
    {
     "name": "stderr",
     "output_type": "stream",
     "text": [
      "INFO: Lists updated 4 times (every ~250.000000 steps)\n",
      "INFO: Aggregated I/O statistics (set debug=1 for file-wise information)\n",
      "\t  1.157 MB written to files\n",
      "\t 62.000  B written to stdout/stderr\n",
      "\tFor a total of     3.48 MB/s\n",
      "\n"
     ]
    },
    {
     "name": "stdout",
     "output_type": "stream",
     "text": [
      "All queued simulations finished in: 10.508457643009024\n",
      "\u001b[32mProduction simulation for structure 46 completed.\u001b[0m\n",
      "\u001b[36mAll simulations for mutant 46 completed.\n",
      "\u001b[0m\n",
      "\u001b[31mSimulating mutant 7 produced by structure 4\u001b[0m\n",
      "Running: relaxed\n",
      "Run time: 5.449282983987359\n",
      "Finished: relaxed\n"
     ]
    },
    {
     "name": "stderr",
     "output_type": "stream",
     "text": [
      "INFO: Lists updated 1 times (every ~100.000000 steps)\n",
      "INFO: Aggregated I/O statistics (set debug=1 for file-wise information)\n",
      "\t  2.205 MB written to files\n",
      "\t 96.000  B written to stdout/stderr\n",
      "\tFor a total of    0.436 MB/s\n",
      "\n"
     ]
    },
    {
     "name": "stdout",
     "output_type": "stream",
     "text": [
      "All queued simulations finished in: 10.509728414996061\n",
      "\u001b[32mRelaxation simulation for structure 47 completed.\u001b[0m\n",
      "Running: eq\n",
      "Run time: 0.6636884539911989\n",
      "Finished: eq\n"
     ]
    },
    {
     "name": "stderr",
     "output_type": "stream",
     "text": [
      "INFO: Lists updated 3 times (every ~333.333333 steps)\n",
      "INFO: Aggregated I/O statistics (set debug=1 for file-wise information)\n",
      "\t  1.155 MB written to files\n",
      "\t 62.000  B written to stdout/stderr\n",
      "\tFor a total of     3.52 MB/s\n",
      "\n"
     ]
    },
    {
     "name": "stdout",
     "output_type": "stream",
     "text": [
      "All queued simulations finished in: 10.509339715994429\n",
      "\u001b[32mEquilibration simulation for structure 47 completed.\u001b[0m\n",
      "Running: prod\n",
      "Run time: 0.6373497480235528\n",
      "Finished: prod\n"
     ]
    },
    {
     "name": "stderr",
     "output_type": "stream",
     "text": [
      "INFO: Lists updated 3 times (every ~333.333333 steps)\n",
      "INFO: Aggregated I/O statistics (set debug=1 for file-wise information)\n",
      "\t  1.157 MB written to files\n",
      "\t 62.000  B written to stdout/stderr\n",
      "\tFor a total of     3.51 MB/s\n",
      "\n"
     ]
    },
    {
     "name": "stdout",
     "output_type": "stream",
     "text": [
      "All queued simulations finished in: 10.512399297993397\n",
      "\u001b[32mProduction simulation for structure 47 completed.\u001b[0m\n",
      "\u001b[36mAll simulations for mutant 47 completed.\n",
      "\u001b[0m\n",
      "\u001b[31mSimulating mutant 8 produced by structure 4\u001b[0m\n",
      "Running: relaxed\n",
      "Run time: 5.253670670004794\n",
      "Finished: relaxed\n"
     ]
    },
    {
     "name": "stderr",
     "output_type": "stream",
     "text": [
      "INFO: Lists updated 1 times (every ~100.000000 steps)\n",
      "INFO: Aggregated I/O statistics (set debug=1 for file-wise information)\n",
      "\t  2.215 MB written to files\n",
      "\t 96.000  B written to stdout/stderr\n",
      "\tFor a total of    0.455 MB/s\n",
      "\n"
     ]
    },
    {
     "name": "stdout",
     "output_type": "stream",
     "text": [
      "All queued simulations finished in: 10.508727932989132\n",
      "\u001b[32mRelaxation simulation for structure 48 completed.\u001b[0m\n",
      "Running: eq\n",
      "Run time: 0.6369193900027312\n",
      "Finished: eq\n"
     ]
    },
    {
     "name": "stderr",
     "output_type": "stream",
     "text": [
      "INFO: Lists updated 3 times (every ~333.333333 steps)\n",
      "INFO: Aggregated I/O statistics (set debug=1 for file-wise information)\n",
      "\t  1.161 MB written to files\n",
      "\t 62.000  B written to stdout/stderr\n",
      "\tFor a total of     3.59 MB/s\n",
      "\n"
     ]
    },
    {
     "name": "stdout",
     "output_type": "stream",
     "text": [
      "All queued simulations finished in: 10.509855596988928\n",
      "\u001b[32mEquilibration simulation for structure 48 completed.\u001b[0m\n",
      "Running: prod\n",
      "Run time: 0.6113213890057523\n",
      "Finished: prod\n"
     ]
    },
    {
     "name": "stderr",
     "output_type": "stream",
     "text": [
      "INFO: Lists updated 3 times (every ~333.333333 steps)\n",
      "INFO: Aggregated I/O statistics (set debug=1 for file-wise information)\n",
      "\t  1.163 MB written to files\n",
      "\t 62.000  B written to stdout/stderr\n",
      "\tFor a total of     3.72 MB/s\n",
      "\n"
     ]
    },
    {
     "name": "stdout",
     "output_type": "stream",
     "text": [
      "All queued simulations finished in: 10.510835750988917\n",
      "\u001b[32mProduction simulation for structure 48 completed.\u001b[0m\n",
      "\u001b[36mAll simulations for mutant 48 completed.\n",
      "\u001b[0m\n",
      "\u001b[31mSimulating mutant 9 produced by structure 4\u001b[0m\n",
      "Running: relaxed\n",
      "Run time: 4.938572371000191\n",
      "Finished: relaxed\n"
     ]
    },
    {
     "name": "stderr",
     "output_type": "stream",
     "text": [
      "INFO: Aggregated I/O statistics (set debug=1 for file-wise information)\n",
      "\t  2.208 MB written to files\n",
      "\t 96.000  B written to stdout/stderr\n",
      "\tFor a total of    0.481 MB/s\n",
      "\n"
     ]
    },
    {
     "name": "stdout",
     "output_type": "stream",
     "text": [
      "All queued simulations finished in: 10.515164868003922\n",
      "\u001b[32mRelaxation simulation for structure 49 completed.\u001b[0m\n",
      "Running: eq\n",
      "Run time: 0.5802568369836081\n",
      "Finished: eq\n"
     ]
    },
    {
     "name": "stderr",
     "output_type": "stream",
     "text": [
      "INFO: Lists updated 3 times (every ~333.333333 steps)\n",
      "INFO: Aggregated I/O statistics (set debug=1 for file-wise information)\n",
      "\t  1.157 MB written to files\n",
      "\t 62.000  B written to stdout/stderr\n",
      "\tFor a total of     3.95 MB/s\n",
      "\n"
     ]
    },
    {
     "name": "stdout",
     "output_type": "stream",
     "text": [
      "All queued simulations finished in: 10.516368112992495\n",
      "\u001b[32mEquilibration simulation for structure 49 completed.\u001b[0m\n",
      "Running: prod\n",
      "Run time: 0.6098101850075182\n",
      "Finished: prod\n"
     ]
    },
    {
     "name": "stderr",
     "output_type": "stream",
     "text": [
      "INFO: Lists updated 3 times (every ~333.333333 steps)\n",
      "INFO: Aggregated I/O statistics (set debug=1 for file-wise information)\n",
      "\t  1.159 MB written to files\n",
      "\t 62.000  B written to stdout/stderr\n",
      "\tFor a total of      3.8 MB/s\n",
      "\n"
     ]
    },
    {
     "name": "stdout",
     "output_type": "stream",
     "text": [
      "All queued simulations finished in: 10.509990165010095\n",
      "\u001b[32mProduction simulation for structure 49 completed.\u001b[0m\n",
      "\u001b[36mAll simulations for mutant 49 completed.\n",
      "\u001b[0m\n",
      "\u001b[31mSimulating mutant 0 produced by structure 5\u001b[0m\n",
      "Running: relaxed\n",
      "Run time: 4.964879692997783\n",
      "Finished: relaxed\n"
     ]
    },
    {
     "name": "stderr",
     "output_type": "stream",
     "text": [
      "INFO: Lists updated 2 times (every ~50.000000 steps)\n",
      "INFO: Aggregated I/O statistics (set debug=1 for file-wise information)\n",
      "\t  2.193 MB written to files\n",
      "\t 96.000  B written to stdout/stderr\n",
      "\tFor a total of    0.473 MB/s\n",
      "\n"
     ]
    },
    {
     "name": "stdout",
     "output_type": "stream",
     "text": [
      "All queued simulations finished in: 10.51099823002005\n",
      "\u001b[32mRelaxation simulation for structure 50 completed.\u001b[0m\n",
      "Running: eq\n",
      "Run time: 0.5823479370155837\n",
      "Finished: eq\n"
     ]
    },
    {
     "name": "stderr",
     "output_type": "stream",
     "text": [
      "INFO: Lists updated 3 times (every ~333.333333 steps)\n",
      "INFO: Aggregated I/O statistics (set debug=1 for file-wise information)\n",
      "\t  1.150 MB written to files\n",
      "\t 62.000  B written to stdout/stderr\n",
      "\tFor a total of     3.88 MB/s\n",
      "\n"
     ]
    },
    {
     "name": "stdout",
     "output_type": "stream",
     "text": [
      "All queued simulations finished in: 10.508081606007181\n",
      "\u001b[32mEquilibration simulation for structure 50 completed.\u001b[0m\n",
      "Running: prod\n",
      "Run time: 0.592080864997115\n",
      "Finished: prod\n"
     ]
    },
    {
     "name": "stderr",
     "output_type": "stream",
     "text": [
      "INFO: Lists updated 3 times (every ~333.333333 steps)\n",
      "INFO: Aggregated I/O statistics (set debug=1 for file-wise information)\n",
      "\t  1.152 MB written to files\n",
      "\t 62.000  B written to stdout/stderr\n",
      "\tFor a total of        4 MB/s\n",
      "\n"
     ]
    },
    {
     "name": "stdout",
     "output_type": "stream",
     "text": [
      "All queued simulations finished in: 10.514196717995219\n",
      "\u001b[32mProduction simulation for structure 50 completed.\u001b[0m\n",
      "\u001b[36mAll simulations for mutant 50 completed.\n",
      "\u001b[0m\n",
      "\u001b[31mSimulating mutant 1 produced by structure 5\u001b[0m\n",
      "Running: relaxed\n",
      "Run time: 5.000863081018906\n",
      "Finished: relaxed\n"
     ]
    },
    {
     "name": "stderr",
     "output_type": "stream",
     "text": [
      "INFO: Lists updated 1 times (every ~100.000000 steps)\n",
      "INFO: Aggregated I/O statistics (set debug=1 for file-wise information)\n",
      "\t  2.186 MB written to files\n",
      "\t 96.000  B written to stdout/stderr\n",
      "\tFor a total of    0.468 MB/s\n",
      "\n"
     ]
    },
    {
     "name": "stdout",
     "output_type": "stream",
     "text": [
      "All queued simulations finished in: 10.514997196005424\n",
      "\u001b[32mRelaxation simulation for structure 51 completed.\u001b[0m\n",
      "Running: eq\n",
      "Run time: 0.5958963650045916\n",
      "Finished: eq\n"
     ]
    },
    {
     "name": "stderr",
     "output_type": "stream",
     "text": [
      "INFO: Lists updated 3 times (every ~333.333333 steps)\n",
      "INFO: Aggregated I/O statistics (set debug=1 for file-wise information)\n",
      "\t  1.146 MB written to files\n",
      "\t 62.000  B written to stdout/stderr\n",
      "\tFor a total of      3.7 MB/s\n",
      "\n"
     ]
    },
    {
     "name": "stdout",
     "output_type": "stream",
     "text": [
      "All queued simulations finished in: 10.50777640400338\n",
      "\u001b[32mEquilibration simulation for structure 51 completed.\u001b[0m\n",
      "Running: prod\n",
      "Run time: 0.5842260529752821\n",
      "Finished: prod\n"
     ]
    },
    {
     "name": "stderr",
     "output_type": "stream",
     "text": [
      "INFO: Lists updated 3 times (every ~333.333333 steps)\n",
      "INFO: Aggregated I/O statistics (set debug=1 for file-wise information)\n",
      "\t  1.148 MB written to files\n",
      "\t 62.000  B written to stdout/stderr\n",
      "\tFor a total of     4.05 MB/s\n",
      "\n"
     ]
    },
    {
     "name": "stdout",
     "output_type": "stream",
     "text": [
      "All queued simulations finished in: 10.51348076199065\n",
      "\u001b[32mProduction simulation for structure 51 completed.\u001b[0m\n",
      "\u001b[36mAll simulations for mutant 51 completed.\n",
      "\u001b[0m\n",
      "\u001b[31mSimulating mutant 2 produced by structure 5\u001b[0m\n",
      "Running: relaxed\n",
      "Run time: 5.013230590993771\n",
      "Finished: relaxed\n"
     ]
    },
    {
     "name": "stderr",
     "output_type": "stream",
     "text": [
      "INFO: Lists updated 1 times (every ~100.000000 steps)\n",
      "INFO: Aggregated I/O statistics (set debug=1 for file-wise information)\n",
      "\t  2.196 MB written to files\n",
      "\t 96.000  B written to stdout/stderr\n",
      "\tFor a total of    0.471 MB/s\n",
      "\n"
     ]
    },
    {
     "name": "stdout",
     "output_type": "stream",
     "text": [
      "All queued simulations finished in: 10.514104088011663\n",
      "\u001b[32mRelaxation simulation for structure 52 completed.\u001b[0m\n",
      "Running: eq\n",
      "Run time: 0.5685568320041057\n",
      "Finished: eq\n"
     ]
    },
    {
     "name": "stderr",
     "output_type": "stream",
     "text": [
      "INFO: Lists updated 3 times (every ~333.333333 steps)\n",
      "INFO: Aggregated I/O statistics (set debug=1 for file-wise information)\n",
      "\t  1.152 MB written to files\n",
      "\t 62.000  B written to stdout/stderr\n",
      "\tFor a total of      4.1 MB/s\n",
      "\n"
     ]
    },
    {
     "name": "stdout",
     "output_type": "stream",
     "text": [
      "All queued simulations finished in: 10.51625213897205\n",
      "\u001b[32mEquilibration simulation for structure 52 completed.\u001b[0m\n",
      "Running: prod\n",
      "Run time: 0.6069830560008995\n",
      "Finished: prod\n"
     ]
    },
    {
     "name": "stderr",
     "output_type": "stream",
     "text": [
      "INFO: Lists updated 4 times (every ~250.000000 steps)\n",
      "INFO: Aggregated I/O statistics (set debug=1 for file-wise information)\n",
      "\t  1.154 MB written to files\n",
      "\t 62.000  B written to stdout/stderr\n",
      "\tFor a total of     3.89 MB/s\n",
      "\n"
     ]
    },
    {
     "name": "stdout",
     "output_type": "stream",
     "text": [
      "All queued simulations finished in: 10.511839824990602\n",
      "\u001b[32mProduction simulation for structure 52 completed.\u001b[0m\n",
      "\u001b[36mAll simulations for mutant 52 completed.\n",
      "\u001b[0m\n",
      "\u001b[31mSimulating mutant 3 produced by structure 5\u001b[0m\n",
      "Running: relaxed\n",
      "Run time: 4.753296851005871\n",
      "Finished: relaxed\n"
     ]
    },
    {
     "name": "stderr",
     "output_type": "stream",
     "text": [
      "INFO: Lists updated 1 times (every ~100.000000 steps)\n",
      "INFO: Aggregated I/O statistics (set debug=1 for file-wise information)\n",
      "\t  2.191 MB written to files\n",
      "\t 96.000  B written to stdout/stderr\n",
      "\tFor a total of    0.497 MB/s\n",
      "\n"
     ]
    },
    {
     "name": "stdout",
     "output_type": "stream",
     "text": [
      "All queued simulations finished in: 10.51044218800962\n",
      "\u001b[32mRelaxation simulation for structure 53 completed.\u001b[0m\n",
      "Running: eq\n",
      "Run time: 0.6082666589936707\n",
      "Finished: eq\n"
     ]
    },
    {
     "name": "stderr",
     "output_type": "stream",
     "text": [
      "INFO: Lists updated 4 times (every ~250.000000 steps)\n",
      "INFO: Aggregated I/O statistics (set debug=1 for file-wise information)\n",
      "\t  1.149 MB written to files\n",
      "\t 62.000  B written to stdout/stderr\n",
      "\tFor a total of     3.84 MB/s\n",
      "\n"
     ]
    },
    {
     "name": "stdout",
     "output_type": "stream",
     "text": [
      "All queued simulations finished in: 10.519535361003364\n",
      "\u001b[32mEquilibration simulation for structure 53 completed.\u001b[0m\n",
      "Running: prod\n",
      "Run time: 0.5654203459853306\n",
      "Finished: prod\n"
     ]
    },
    {
     "name": "stderr",
     "output_type": "stream",
     "text": [
      "INFO: Lists updated 3 times (every ~333.333333 steps)\n",
      "INFO: Aggregated I/O statistics (set debug=1 for file-wise information)\n",
      "\t  1.152 MB written to files\n",
      "\t 62.000  B written to stdout/stderr\n",
      "\tFor a total of     4.12 MB/s\n",
      "\n"
     ]
    },
    {
     "name": "stdout",
     "output_type": "stream",
     "text": [
      "All queued simulations finished in: 10.510250301013002\n",
      "\u001b[32mProduction simulation for structure 53 completed.\u001b[0m\n",
      "\u001b[36mAll simulations for mutant 53 completed.\n",
      "\u001b[0m\n",
      "\u001b[31mSimulating mutant 4 produced by structure 5\u001b[0m\n",
      "Running: relaxed\n",
      "Run time: 5.311776868999004\n",
      "Finished: relaxed\n"
     ]
    },
    {
     "name": "stderr",
     "output_type": "stream",
     "text": [
      "INFO: Lists updated 1 times (every ~100.000000 steps)\n",
      "INFO: Aggregated I/O statistics (set debug=1 for file-wise information)\n",
      "\t  2.204 MB written to files\n",
      "\t 96.000  B written to stdout/stderr\n",
      "\tFor a total of    0.451 MB/s\n",
      "\n"
     ]
    },
    {
     "name": "stdout",
     "output_type": "stream",
     "text": [
      "All queued simulations finished in: 10.521356826007832\n",
      "\u001b[32mRelaxation simulation for structure 54 completed.\u001b[0m\n",
      "Running: eq\n",
      "Run time: 0.5962600269995164\n",
      "Finished: eq\n"
     ]
    },
    {
     "name": "stderr",
     "output_type": "stream",
     "text": [
      "INFO: Lists updated 3 times (every ~333.333333 steps)\n",
      "INFO: Aggregated I/O statistics (set debug=1 for file-wise information)\n",
      "\t  1.155 MB written to files\n",
      "\t 62.000  B written to stdout/stderr\n",
      "\tFor a total of      3.8 MB/s\n",
      "\n"
     ]
    },
    {
     "name": "stdout",
     "output_type": "stream",
     "text": [
      "All queued simulations finished in: 10.508058348001214\n",
      "\u001b[32mEquilibration simulation for structure 54 completed.\u001b[0m\n",
      "Running: prod\n",
      "Run time: 0.5896494269836694\n",
      "Finished: prod\n"
     ]
    },
    {
     "name": "stderr",
     "output_type": "stream",
     "text": [
      "INFO: Lists updated 4 times (every ~250.000000 steps)\n",
      "INFO: Aggregated I/O statistics (set debug=1 for file-wise information)\n",
      "\t  1.158 MB written to files\n",
      "\t 62.000  B written to stdout/stderr\n",
      "\tFor a total of     4.02 MB/s\n",
      "\n"
     ]
    },
    {
     "name": "stdout",
     "output_type": "stream",
     "text": [
      "All queued simulations finished in: 10.511350357002812\n",
      "\u001b[32mProduction simulation for structure 54 completed.\u001b[0m\n",
      "\u001b[36mAll simulations for mutant 54 completed.\n",
      "\u001b[0m\n",
      "\u001b[31mSimulating mutant 5 produced by structure 5\u001b[0m\n",
      "Running: relaxed\n",
      "Run time: 4.773098342993762\n",
      "Finished: relaxed\n"
     ]
    },
    {
     "name": "stderr",
     "output_type": "stream",
     "text": [
      "INFO: Lists updated 1 times (every ~100.000000 steps)\n",
      "INFO: Aggregated I/O statistics (set debug=1 for file-wise information)\n",
      "\t  2.198 MB written to files\n",
      "\t 96.000  B written to stdout/stderr\n",
      "\tFor a total of    0.494 MB/s\n",
      "\n"
     ]
    },
    {
     "name": "stdout",
     "output_type": "stream",
     "text": [
      "All queued simulations finished in: 10.511698665010044\n",
      "\u001b[32mRelaxation simulation for structure 55 completed.\u001b[0m\n",
      "Running: eq\n",
      "Run time: 0.6031274830165785\n",
      "Finished: eq\n"
     ]
    },
    {
     "name": "stderr",
     "output_type": "stream",
     "text": [
      "INFO: Lists updated 3 times (every ~333.333333 steps)\n",
      "INFO: Aggregated I/O statistics (set debug=1 for file-wise information)\n",
      "\t  1.152 MB written to files\n",
      "\t 62.000  B written to stdout/stderr\n",
      "\tFor a total of     3.83 MB/s\n",
      "\n"
     ]
    },
    {
     "name": "stdout",
     "output_type": "stream",
     "text": [
      "All queued simulations finished in: 10.512973909004359\n",
      "\u001b[32mEquilibration simulation for structure 55 completed.\u001b[0m\n",
      "Running: prod\n",
      "Run time: 0.6236851759895217\n",
      "Finished: prod\n"
     ]
    },
    {
     "name": "stderr",
     "output_type": "stream",
     "text": [
      "INFO: Lists updated 4 times (every ~250.000000 steps)\n",
      "INFO: Aggregated I/O statistics (set debug=1 for file-wise information)\n",
      "\t  1.154 MB written to files\n",
      "\t 62.000  B written to stdout/stderr\n",
      "\tFor a total of     3.64 MB/s\n",
      "\n"
     ]
    },
    {
     "name": "stdout",
     "output_type": "stream",
     "text": [
      "All queued simulations finished in: 10.509924633981427\n",
      "\u001b[32mProduction simulation for structure 55 completed.\u001b[0m\n",
      "\u001b[36mAll simulations for mutant 55 completed.\n",
      "\u001b[0m\n",
      "\u001b[31mSimulating mutant 6 produced by structure 5\u001b[0m\n",
      "Running: relaxed\n",
      "Run time: 4.668190346012125\n",
      "Finished: relaxed\n"
     ]
    },
    {
     "name": "stderr",
     "output_type": "stream",
     "text": [
      "INFO: Aggregated I/O statistics (set debug=1 for file-wise information)\n",
      "\t  2.189 MB written to files\n",
      "\t 96.000  B written to stdout/stderr\n",
      "\tFor a total of    0.503 MB/s\n",
      "\n"
     ]
    },
    {
     "name": "stdout",
     "output_type": "stream",
     "text": [
      "All queued simulations finished in: 10.509363946999656\n",
      "\u001b[32mRelaxation simulation for structure 56 completed.\u001b[0m\n",
      "Running: eq\n",
      "Run time: 0.6057060250022914\n",
      "Finished: eq\n"
     ]
    },
    {
     "name": "stderr",
     "output_type": "stream",
     "text": [
      "INFO: Lists updated 3 times (every ~333.333333 steps)\n",
      "INFO: Aggregated I/O statistics (set debug=1 for file-wise information)\n",
      "\t  1.148 MB written to files\n",
      "\t 62.000  B written to stdout/stderr\n",
      "\tFor a total of      3.8 MB/s\n",
      "\n"
     ]
    },
    {
     "name": "stdout",
     "output_type": "stream",
     "text": [
      "All queued simulations finished in: 10.508551054022973\n",
      "\u001b[32mEquilibration simulation for structure 56 completed.\u001b[0m\n",
      "Running: prod\n",
      "Run time: 0.6128028520033695\n",
      "Finished: prod\n"
     ]
    },
    {
     "name": "stderr",
     "output_type": "stream",
     "text": [
      "INFO: Lists updated 3 times (every ~333.333333 steps)\n",
      "INFO: Aggregated I/O statistics (set debug=1 for file-wise information)\n",
      "\t  1.150 MB written to files\n",
      "\t 62.000  B written to stdout/stderr\n",
      "\tFor a total of     3.79 MB/s\n",
      "\n"
     ]
    },
    {
     "name": "stdout",
     "output_type": "stream",
     "text": [
      "All queued simulations finished in: 10.508246991987107\n",
      "\u001b[32mProduction simulation for structure 56 completed.\u001b[0m\n",
      "\u001b[36mAll simulations for mutant 56 completed.\n",
      "\u001b[0m\n",
      "\u001b[31mSimulating mutant 7 produced by structure 5\u001b[0m\n",
      "Running: relaxed\n",
      "Run time: 4.854872210999019\n",
      "Finished: relaxed\n"
     ]
    },
    {
     "name": "stderr",
     "output_type": "stream",
     "text": [
      "INFO: Aggregated I/O statistics (set debug=1 for file-wise information)\n",
      "\t  2.200 MB written to files\n",
      "\t 96.000  B written to stdout/stderr\n",
      "\tFor a total of    0.488 MB/s\n",
      "\n"
     ]
    },
    {
     "name": "stdout",
     "output_type": "stream",
     "text": [
      "All queued simulations finished in: 10.511396162008168\n",
      "\u001b[32mRelaxation simulation for structure 57 completed.\u001b[0m\n",
      "Running: eq\n",
      "Run time: 0.6019160529831424\n",
      "Finished: eq\n"
     ]
    },
    {
     "name": "stderr",
     "output_type": "stream",
     "text": [
      "INFO: Lists updated 3 times (every ~333.333333 steps)\n",
      "INFO: Aggregated I/O statistics (set debug=1 for file-wise information)\n",
      "\t  1.154 MB written to files\n",
      "\t 62.000  B written to stdout/stderr\n",
      "\tFor a total of     3.66 MB/s\n",
      "\n"
     ]
    },
    {
     "name": "stdout",
     "output_type": "stream",
     "text": [
      "All queued simulations finished in: 10.511757208994823\n",
      "\u001b[32mEquilibration simulation for structure 57 completed.\u001b[0m\n",
      "Running: prod\n",
      "Run time: 0.5980006010213401\n",
      "Finished: prod\n"
     ]
    },
    {
     "name": "stderr",
     "output_type": "stream",
     "text": [
      "INFO: Lists updated 4 times (every ~250.000000 steps)\n",
      "INFO: Aggregated I/O statistics (set debug=1 for file-wise information)\n",
      "\t  1.156 MB written to files\n",
      "\t 62.000  B written to stdout/stderr\n",
      "\tFor a total of     3.87 MB/s\n",
      "\n"
     ]
    },
    {
     "name": "stdout",
     "output_type": "stream",
     "text": [
      "All queued simulations finished in: 10.51071300500189\n",
      "\u001b[32mProduction simulation for structure 57 completed.\u001b[0m\n",
      "\u001b[36mAll simulations for mutant 57 completed.\n",
      "\u001b[0m\n",
      "\u001b[31mSimulating mutant 8 produced by structure 5\u001b[0m\n",
      "Running: relaxed\n",
      "Run time: 5.047177136002574\n",
      "Finished: relaxed\n"
     ]
    },
    {
     "name": "stderr",
     "output_type": "stream",
     "text": [
      "INFO: Lists updated 1 times (every ~100.000000 steps)\n",
      "INFO: Aggregated I/O statistics (set debug=1 for file-wise information)\n",
      "\t  2.193 MB written to files\n",
      "\t 96.000  B written to stdout/stderr\n",
      "\tFor a total of    0.465 MB/s\n",
      "\n"
     ]
    },
    {
     "name": "stdout",
     "output_type": "stream",
     "text": [
      "All queued simulations finished in: 10.51458518099389\n",
      "\u001b[32mRelaxation simulation for structure 58 completed.\u001b[0m\n",
      "Running: eq\n",
      "Run time: 0.6115520670136902\n",
      "Finished: eq\n"
     ]
    },
    {
     "name": "stderr",
     "output_type": "stream",
     "text": [
      "INFO: Lists updated 3 times (every ~333.333333 steps)\n",
      "INFO: Aggregated I/O statistics (set debug=1 for file-wise information)\n",
      "\t  1.150 MB written to files\n",
      "\t 62.000  B written to stdout/stderr\n",
      "\tFor a total of     3.74 MB/s\n",
      "\n"
     ]
    },
    {
     "name": "stdout",
     "output_type": "stream",
     "text": [
      "All queued simulations finished in: 10.515442536008777\n",
      "\u001b[32mEquilibration simulation for structure 58 completed.\u001b[0m\n",
      "Running: prod\n",
      "Run time: 0.6166981199930888\n",
      "Finished: prod\n"
     ]
    },
    {
     "name": "stderr",
     "output_type": "stream",
     "text": [
      "INFO: Lists updated 3 times (every ~333.333333 steps)\n",
      "INFO: Aggregated I/O statistics (set debug=1 for file-wise information)\n",
      "\t  1.152 MB written to files\n",
      "\t 62.000  B written to stdout/stderr\n",
      "\tFor a total of     3.78 MB/s\n",
      "\n"
     ]
    },
    {
     "name": "stdout",
     "output_type": "stream",
     "text": [
      "All queued simulations finished in: 10.509486355993431\n",
      "\u001b[32mProduction simulation for structure 58 completed.\u001b[0m\n",
      "\u001b[36mAll simulations for mutant 58 completed.\n",
      "\u001b[0m\n",
      "\u001b[31mSimulating mutant 9 produced by structure 5\u001b[0m\n",
      "Running: relaxed\n",
      "Run time: 4.854540550004458\n",
      "Finished: relaxed\n"
     ]
    },
    {
     "name": "stderr",
     "output_type": "stream",
     "text": [
      "INFO: Lists updated 1 times (every ~100.000000 steps)\n",
      "INFO: Aggregated I/O statistics (set debug=1 for file-wise information)\n",
      "\t  2.200 MB written to files\n",
      "\t 96.000  B written to stdout/stderr\n",
      "\tFor a total of    0.486 MB/s\n",
      "\n"
     ]
    },
    {
     "name": "stdout",
     "output_type": "stream",
     "text": [
      "All queued simulations finished in: 10.514991912990808\n",
      "\u001b[32mRelaxation simulation for structure 59 completed.\u001b[0m\n",
      "Running: eq\n",
      "Run time: 0.5774381490191445\n",
      "Finished: eq\n"
     ]
    },
    {
     "name": "stderr",
     "output_type": "stream",
     "text": [
      "INFO: Lists updated 3 times (every ~333.333333 steps)\n",
      "INFO: Aggregated I/O statistics (set debug=1 for file-wise information)\n",
      "\t  1.153 MB written to files\n",
      "\t 62.000  B written to stdout/stderr\n",
      "\tFor a total of     3.97 MB/s\n",
      "\n"
     ]
    },
    {
     "name": "stdout",
     "output_type": "stream",
     "text": [
      "All queued simulations finished in: 10.511415671004215\n",
      "\u001b[32mEquilibration simulation for structure 59 completed.\u001b[0m\n",
      "Running: prod\n",
      "Run time: 0.5993365739996079\n",
      "Finished: prod\n"
     ]
    },
    {
     "name": "stderr",
     "output_type": "stream",
     "text": [
      "INFO: Lists updated 4 times (every ~250.000000 steps)\n",
      "INFO: Aggregated I/O statistics (set debug=1 for file-wise information)\n",
      "\t  1.156 MB written to files\n",
      "\t 62.000  B written to stdout/stderr\n",
      "\tFor a total of     3.97 MB/s\n",
      "\n"
     ]
    },
    {
     "name": "stdout",
     "output_type": "stream",
     "text": [
      "All queued simulations finished in: 10.513742868002737\n",
      "\u001b[32mProduction simulation for structure 59 completed.\u001b[0m\n",
      "\u001b[36mAll simulations for mutant 59 completed.\n",
      "\u001b[0m\n",
      "\u001b[36mStep 5: Measuring the angle at the joint for each mutant after simulation...\u001b[0m\n",
      "\u001b[35mMeasured bend angle for structure 0: 169.5826583800486 degrees.\u001b[0m\n",
      "\u001b[35mMeasured bend angle for structure 1: 175.49205915732185 degrees.\u001b[0m\n",
      "\u001b[35mMeasured bend angle for structure 2: 168.27246956307894 degrees.\u001b[0m\n"
     ]
    },
    {
     "name": "stderr",
     "output_type": "stream",
     "text": [
      "INFO: Processed 0 / 1 confs\r"
     ]
    },
    {
     "name": "stdout",
     "output_type": "stream",
     "text": [
      "\u001b[35mMeasured bend angle for structure 3: 149.01601255081485 degrees.\u001b[0m\n",
      "\u001b[35mMeasured bend angle for structure 4: 167.9510997058228 degrees.\u001b[0m\n",
      "\u001b[35mMeasured bend angle for structure 5: 172.26129569725538 degrees.\u001b[0m\n",
      "\u001b[35mMeasured bend angle for structure 6: 176.46270557215038 degrees.\u001b[0m\n",
      "\u001b[35mMeasured bend angle for structure 7: 177.19812216628168 degrees.\u001b[0m\n"
     ]
    },
    {
     "name": "stderr",
     "output_type": "stream",
     "text": [
      "INFO: Processed 0 / 1 confs\r"
     ]
    },
    {
     "name": "stdout",
     "output_type": "stream",
     "text": [
      "\u001b[35mMeasured bend angle for structure 8: 176.38776374907914 degrees.\u001b[0m\n",
      "\u001b[35mMeasured bend angle for structure 9: 175.3239341402218 degrees.\u001b[0m\n",
      "\u001b[35mMeasured bend angle for structure 10: 176.63151206280708 degrees.\u001b[0m\n",
      "\u001b[35mMeasured bend angle for structure 11: 177.9999888263936 degrees.\u001b[0m\n",
      "\u001b[35mMeasured bend angle for structure 12: 178.88378347350442 degrees.\u001b[0m\n"
     ]
    },
    {
     "name": "stderr",
     "output_type": "stream",
     "text": [
      "INFO: Processed 0 / 1 confs\r"
     ]
    },
    {
     "name": "stdout",
     "output_type": "stream",
     "text": [
      "\u001b[35mMeasured bend angle for structure 13: 173.53501166530125 degrees.\u001b[0m\n",
      "\u001b[35mMeasured bend angle for structure 14: 174.14282919573557 degrees.\u001b[0m\n",
      "\u001b[35mMeasured bend angle for structure 15: 172.89898354984547 degrees.\u001b[0m\n",
      "\u001b[35mMeasured bend angle for structure 16: 168.85936408202102 degrees.\u001b[0m\n",
      "\u001b[35mMeasured bend angle for structure 17: 176.84687030867178 degrees.\u001b[0m\n"
     ]
    },
    {
     "name": "stderr",
     "output_type": "stream",
     "text": [
      "INFO: Processed 0 / 1 confs\r"
     ]
    },
    {
     "name": "stdout",
     "output_type": "stream",
     "text": [
      "\u001b[35mMeasured bend angle for structure 18: 172.094738283384 degrees.\u001b[0m\n",
      "\u001b[35mMeasured bend angle for structure 19: 178.56718312794047 degrees.\u001b[0m\n",
      "\u001b[35mMeasured bend angle for structure 20: 173.23162760767545 degrees.\u001b[0m\n",
      "\u001b[35mMeasured bend angle for structure 21: 177.52037382973754 degrees.\u001b[0m\n",
      "\u001b[35mMeasured bend angle for structure 22: 173.9472323594419 degrees.\u001b[0m\n"
     ]
    },
    {
     "name": "stderr",
     "output_type": "stream",
     "text": [
      "INFO: Processed 0 / 1 confs\r"
     ]
    },
    {
     "name": "stdout",
     "output_type": "stream",
     "text": [
      "\u001b[35mMeasured bend angle for structure 23: 169.65157738737068 degrees.\u001b[0m\n",
      "\u001b[35mMeasured bend angle for structure 24: 173.45124027315333 degrees.\u001b[0m\n",
      "\u001b[35mMeasured bend angle for structure 25: 177.7081426462313 degrees.\u001b[0m\n",
      "\u001b[35mMeasured bend angle for structure 26: 173.80786245114024 degrees.\u001b[0m\n",
      "\u001b[35mMeasured bend angle for structure 27: 178.424905916161 degrees.\u001b[0m\n"
     ]
    },
    {
     "name": "stderr",
     "output_type": "stream",
     "text": [
      "INFO: Processed 0 / 1 confs\r"
     ]
    },
    {
     "name": "stdout",
     "output_type": "stream",
     "text": [
      "\u001b[35mMeasured bend angle for structure 28: 172.83479007066157 degrees.\u001b[0m\n",
      "\u001b[35mMeasured bend angle for structure 29: 171.4745651470714 degrees.\u001b[0m\n",
      "\u001b[35mMeasured bend angle for structure 30: 114.50624539507342 degrees.\u001b[0m\n",
      "\u001b[35mMeasured bend angle for structure 31: 125.2990321286798 degrees.\u001b[0m\n"
     ]
    },
    {
     "name": "stderr",
     "output_type": "stream",
     "text": [
      "INFO: Processed 0 / 1 confs\r"
     ]
    },
    {
     "name": "stdout",
     "output_type": "stream",
     "text": [
      "\u001b[35mMeasured bend angle for structure 32: 114.17172950425665 degrees.\u001b[0m\n",
      "\u001b[35mMeasured bend angle for structure 33: 136.0358658214932 degrees.\u001b[0m\n",
      "\u001b[35mMeasured bend angle for structure 34: 117.48027281712302 degrees.\u001b[0m\n",
      "\u001b[35mMeasured bend angle for structure 35: 98.9318115034999 degrees.\u001b[0m\n",
      "\u001b[35mMeasured bend angle for structure 36: 115.27651047567353 degrees.\u001b[0m\n"
     ]
    },
    {
     "name": "stderr",
     "output_type": "stream",
     "text": [
      "INFO: Processed 0 / 1 confs\r"
     ]
    },
    {
     "name": "stdout",
     "output_type": "stream",
     "text": [
      "\u001b[35mMeasured bend angle for structure 37: 105.15218568065218 degrees.\u001b[0m\n",
      "\u001b[35mMeasured bend angle for structure 38: 119.22670118755367 degrees.\u001b[0m\n",
      "\u001b[35mMeasured bend angle for structure 39: 114.98435062663361 degrees.\u001b[0m\n",
      "\u001b[35mMeasured bend angle for structure 40: 139.88861149525601 degrees.\u001b[0m\n"
     ]
    },
    {
     "name": "stderr",
     "output_type": "stream",
     "text": [
      "INFO: Processed 0 / 1 confs\r"
     ]
    },
    {
     "name": "stdout",
     "output_type": "stream",
     "text": [
      "\u001b[35mMeasured bend angle for structure 41: 135.45332113978762 degrees.\u001b[0m\n",
      "\u001b[35mMeasured bend angle for structure 42: 152.95834413361422 degrees.\u001b[0m\n",
      "\u001b[35mMeasured bend angle for structure 43: 134.8990680317788 degrees.\u001b[0m\n",
      "\u001b[35mMeasured bend angle for structure 44: 159.28963019651601 degrees.\u001b[0m\n",
      "\u001b[35mMeasured bend angle for structure 45: 146.03216440489007 degrees.\u001b[0m\n"
     ]
    },
    {
     "name": "stderr",
     "output_type": "stream",
     "text": [
      "INFO: Processed 0 / 1 confs\r"
     ]
    },
    {
     "name": "stdout",
     "output_type": "stream",
     "text": [
      "\u001b[35mMeasured bend angle for structure 46: 118.50492232853777 degrees.\u001b[0m\n",
      "\u001b[35mMeasured bend angle for structure 47: 138.20512474541616 degrees.\u001b[0m\n",
      "\u001b[35mMeasured bend angle for structure 48: 131.00415779857164 degrees.\u001b[0m\n",
      "\u001b[35mMeasured bend angle for structure 49: 136.0434268265322 degrees.\u001b[0m\n",
      "\u001b[35mMeasured bend angle for structure 50: 173.22907318718273 degrees.\u001b[0m\n"
     ]
    },
    {
     "name": "stderr",
     "output_type": "stream",
     "text": [
      "INFO: Processed 0 / 1 confs\r"
     ]
    },
    {
     "name": "stdout",
     "output_type": "stream",
     "text": [
      "\u001b[35mMeasured bend angle for structure 51: 177.04889281701256 degrees.\u001b[0m\n",
      "\u001b[35mMeasured bend angle for structure 52: 169.37471716557502 degrees.\u001b[0m\n",
      "\u001b[35mMeasured bend angle for structure 53: 172.30155752368893 degrees.\u001b[0m\n",
      "\u001b[35mMeasured bend angle for structure 54: 171.42493058406546 degrees.\u001b[0m\n",
      "\u001b[35mMeasured bend angle for structure 55: 176.58245416085683 degrees.\u001b[0m\n"
     ]
    },
    {
     "name": "stderr",
     "output_type": "stream",
     "text": [
      "INFO: Processed 0 / 1 confs\r"
     ]
    },
    {
     "name": "stdout",
     "output_type": "stream",
     "text": [
      "\u001b[35mMeasured bend angle for structure 56: 174.33181163084294 degrees.\u001b[0m\n",
      "\u001b[35mMeasured bend angle for structure 57: 178.05970844859328 degrees.\u001b[0m\n",
      "\u001b[35mMeasured bend angle for structure 58: 173.2502482021255 degrees.\u001b[0m\n",
      "\u001b[35mMeasured bend angle for structure 59: 172.2508919372069 degrees.\u001b[0m\n",
      "\u001b[33mStep 6: Evaluating fitness of mutants...\u001b[0m\n",
      "\u001b[32mFitness scores: [69.5826583800486, 75.49205915732185, 68.27246956307894, 49.01601255081485, 67.9510997058228, 72.26129569725538, 76.46270557215038, 77.19812216628168, 76.38776374907914, 75.32393414022181, 76.63151206280708, 77.9999888263936, 78.88378347350442, 73.53501166530125, 74.14282919573557, 72.89898354984547, 68.85936408202102, 76.84687030867178, 72.094738283384, 78.56718312794047, 73.23162760767545, 77.52037382973754, 73.9472323594419, 69.65157738737068, 73.45124027315333, 77.7081426462313, 73.80786245114024, 78.42490591616101, 72.83479007066157, 71.47456514707139, 14.506245395073421, 25.299032128679798, 14.171729504256646, 36.03586582149319, 17.480272817123023, 1.068188496500099, 15.276510475673533, 5.152185680652181, 19.226701187553672, 14.984350626633614, 39.888611495256015, 35.45332113978762, 52.95834413361422, 34.899068031778796, 59.289630196516015, 46.03216440489007, 18.504922328537774, 38.20512474541616, 31.00415779857164, 36.0434268265322, 73.22907318718273, 77.04889281701256, 69.37471716557502, 72.30155752368893, 71.42493058406546, 76.58245416085683, 74.33181163084294, 78.05970844859328, 73.2502482021255, 72.25089193720689]\u001b[0m\n",
      "\u001b[34mStep 7: Selecting the best mutants based on fitness scores...\u001b[0m\n",
      "\u001b[36mResults for all structures:\u001b[0m\n",
      "\u001b[35mStructure ID: 35, Bend Angle: 98.9318115034999, Fitness Score: 1.068188496500099\u001b[0m\n",
      "\u001b[35mStructure ID: 37, Bend Angle: 105.15218568065218, Fitness Score: 5.152185680652181\u001b[0m\n",
      "\u001b[35mStructure ID: 32, Bend Angle: 114.17172950425665, Fitness Score: 14.171729504256646\u001b[0m\n",
      "\u001b[35mStructure ID: 30, Bend Angle: 114.50624539507342, Fitness Score: 14.506245395073421\u001b[0m\n",
      "\u001b[35mStructure ID: 39, Bend Angle: 114.98435062663361, Fitness Score: 14.984350626633614\u001b[0m\n",
      "\u001b[35mStructure ID: 36, Bend Angle: 115.27651047567353, Fitness Score: 15.276510475673533\u001b[0m\n",
      "\u001b[35mStructure ID: 34, Bend Angle: 117.48027281712302, Fitness Score: 17.480272817123023\u001b[0m\n",
      "\u001b[35mStructure ID: 46, Bend Angle: 118.50492232853777, Fitness Score: 18.504922328537774\u001b[0m\n",
      "\u001b[35mStructure ID: 38, Bend Angle: 119.22670118755367, Fitness Score: 19.226701187553672\u001b[0m\n",
      "\u001b[35mStructure ID: 31, Bend Angle: 125.2990321286798, Fitness Score: 25.299032128679798\u001b[0m\n",
      "\u001b[35mStructure ID: 48, Bend Angle: 131.00415779857164, Fitness Score: 31.00415779857164\u001b[0m\n",
      "\u001b[35mStructure ID: 43, Bend Angle: 134.8990680317788, Fitness Score: 34.899068031778796\u001b[0m\n",
      "\u001b[35mStructure ID: 41, Bend Angle: 135.45332113978762, Fitness Score: 35.45332113978762\u001b[0m\n",
      "\u001b[35mStructure ID: 33, Bend Angle: 136.0358658214932, Fitness Score: 36.03586582149319\u001b[0m\n",
      "\u001b[35mStructure ID: 49, Bend Angle: 136.0434268265322, Fitness Score: 36.0434268265322\u001b[0m\n",
      "\u001b[35mStructure ID: 47, Bend Angle: 138.20512474541616, Fitness Score: 38.20512474541616\u001b[0m\n",
      "\u001b[35mStructure ID: 40, Bend Angle: 139.88861149525601, Fitness Score: 39.888611495256015\u001b[0m\n",
      "\u001b[35mStructure ID: 45, Bend Angle: 146.03216440489007, Fitness Score: 46.03216440489007\u001b[0m\n",
      "\u001b[35mStructure ID: 3, Bend Angle: 149.01601255081485, Fitness Score: 49.01601255081485\u001b[0m\n",
      "\u001b[35mStructure ID: 42, Bend Angle: 152.95834413361422, Fitness Score: 52.95834413361422\u001b[0m\n",
      "\u001b[35mStructure ID: 44, Bend Angle: 159.28963019651601, Fitness Score: 59.289630196516015\u001b[0m\n",
      "\u001b[35mStructure ID: 4, Bend Angle: 167.9510997058228, Fitness Score: 67.9510997058228\u001b[0m\n",
      "\u001b[35mStructure ID: 2, Bend Angle: 168.27246956307894, Fitness Score: 68.27246956307894\u001b[0m\n",
      "\u001b[35mStructure ID: 16, Bend Angle: 168.85936408202102, Fitness Score: 68.85936408202102\u001b[0m\n",
      "\u001b[35mStructure ID: 52, Bend Angle: 169.37471716557502, Fitness Score: 69.37471716557502\u001b[0m\n",
      "\u001b[35mStructure ID: 0, Bend Angle: 169.5826583800486, Fitness Score: 69.5826583800486\u001b[0m\n",
      "\u001b[35mStructure ID: 23, Bend Angle: 169.65157738737068, Fitness Score: 69.65157738737068\u001b[0m\n",
      "\u001b[35mStructure ID: 54, Bend Angle: 171.42493058406546, Fitness Score: 71.42493058406546\u001b[0m\n",
      "\u001b[35mStructure ID: 29, Bend Angle: 171.4745651470714, Fitness Score: 71.47456514707139\u001b[0m\n",
      "\u001b[35mStructure ID: 18, Bend Angle: 172.094738283384, Fitness Score: 72.094738283384\u001b[0m\n",
      "\u001b[35mStructure ID: 59, Bend Angle: 172.2508919372069, Fitness Score: 72.25089193720689\u001b[0m\n",
      "\u001b[35mStructure ID: 5, Bend Angle: 172.26129569725538, Fitness Score: 72.26129569725538\u001b[0m\n",
      "\u001b[35mStructure ID: 53, Bend Angle: 172.30155752368893, Fitness Score: 72.30155752368893\u001b[0m\n",
      "\u001b[35mStructure ID: 28, Bend Angle: 172.83479007066157, Fitness Score: 72.83479007066157\u001b[0m\n",
      "\u001b[35mStructure ID: 15, Bend Angle: 172.89898354984547, Fitness Score: 72.89898354984547\u001b[0m\n",
      "\u001b[35mStructure ID: 50, Bend Angle: 173.22907318718273, Fitness Score: 73.22907318718273\u001b[0m\n",
      "\u001b[35mStructure ID: 20, Bend Angle: 173.23162760767545, Fitness Score: 73.23162760767545\u001b[0m\n",
      "\u001b[35mStructure ID: 58, Bend Angle: 173.2502482021255, Fitness Score: 73.2502482021255\u001b[0m\n",
      "\u001b[35mStructure ID: 24, Bend Angle: 173.45124027315333, Fitness Score: 73.45124027315333\u001b[0m\n",
      "\u001b[35mStructure ID: 13, Bend Angle: 173.53501166530125, Fitness Score: 73.53501166530125\u001b[0m\n",
      "\u001b[35mStructure ID: 26, Bend Angle: 173.80786245114024, Fitness Score: 73.80786245114024\u001b[0m\n",
      "\u001b[35mStructure ID: 22, Bend Angle: 173.9472323594419, Fitness Score: 73.9472323594419\u001b[0m\n",
      "\u001b[35mStructure ID: 14, Bend Angle: 174.14282919573557, Fitness Score: 74.14282919573557\u001b[0m\n",
      "\u001b[35mStructure ID: 56, Bend Angle: 174.33181163084294, Fitness Score: 74.33181163084294\u001b[0m\n",
      "\u001b[35mStructure ID: 9, Bend Angle: 175.3239341402218, Fitness Score: 75.32393414022181\u001b[0m\n",
      "\u001b[35mStructure ID: 1, Bend Angle: 175.49205915732185, Fitness Score: 75.49205915732185\u001b[0m\n",
      "\u001b[35mStructure ID: 8, Bend Angle: 176.38776374907914, Fitness Score: 76.38776374907914\u001b[0m\n",
      "\u001b[35mStructure ID: 6, Bend Angle: 176.46270557215038, Fitness Score: 76.46270557215038\u001b[0m\n",
      "\u001b[35mStructure ID: 55, Bend Angle: 176.58245416085683, Fitness Score: 76.58245416085683\u001b[0m\n",
      "\u001b[35mStructure ID: 10, Bend Angle: 176.63151206280708, Fitness Score: 76.63151206280708\u001b[0m\n",
      "\u001b[35mStructure ID: 17, Bend Angle: 176.84687030867178, Fitness Score: 76.84687030867178\u001b[0m\n",
      "\u001b[35mStructure ID: 51, Bend Angle: 177.04889281701256, Fitness Score: 77.04889281701256\u001b[0m\n",
      "\u001b[35mStructure ID: 7, Bend Angle: 177.19812216628168, Fitness Score: 77.19812216628168\u001b[0m\n",
      "\u001b[35mStructure ID: 21, Bend Angle: 177.52037382973754, Fitness Score: 77.52037382973754\u001b[0m\n",
      "\u001b[35mStructure ID: 25, Bend Angle: 177.7081426462313, Fitness Score: 77.7081426462313\u001b[0m\n",
      "\u001b[35mStructure ID: 11, Bend Angle: 177.9999888263936, Fitness Score: 77.9999888263936\u001b[0m\n",
      "\u001b[35mStructure ID: 57, Bend Angle: 178.05970844859328, Fitness Score: 78.05970844859328\u001b[0m\n",
      "\u001b[35mStructure ID: 27, Bend Angle: 178.424905916161, Fitness Score: 78.42490591616101\u001b[0m\n",
      "\u001b[35mStructure ID: 19, Bend Angle: 178.56718312794047, Fitness Score: 78.56718312794047\u001b[0m\n",
      "\u001b[35mStructure ID: 12, Bend Angle: 178.88378347350442, Fitness Score: 78.88378347350442\u001b[0m\n",
      "\u001b[33mSelected the best 5 mutants:\u001b[0m\n",
      "\u001b[31mSelected Structure 1: Structure ID: 35, Bend Angle: 98.9318115034999, Fitness Score: 1.068188496500099\u001b[0m\n",
      "\u001b[31mSelected Structure 2: Structure ID: 37, Bend Angle: 105.15218568065218, Fitness Score: 5.152185680652181\u001b[0m\n",
      "\u001b[31mSelected Structure 3: Structure ID: 32, Bend Angle: 114.17172950425665, Fitness Score: 14.171729504256646\u001b[0m\n",
      "\u001b[31mSelected Structure 4: Structure ID: 30, Bend Angle: 114.50624539507342, Fitness Score: 14.506245395073421\u001b[0m\n",
      "\u001b[31mSelected Structure 5: Structure ID: 39, Bend Angle: 114.98435062663361, Fitness Score: 14.984350626633614\u001b[0m\n",
      "\u001b[32mStep 8: Storing the removed staples info for the best mutants...\u001b[0m\n",
      "\u001b[34mStructure ID: (35, 98.9318115034999) - For structure_0, staples with the indexes 43, 16, 58 were removed.\u001b[0m\n",
      "\u001b[36mRemoved bases: [3751, 3752, 3753, 3754, 3755, 3756, 3757, 3758, 3759, 3760, 3761, 3762, 3763, 3764, 3765, 3766, 3767, 3768, 3769, 3770, 3771, 3772, 3773, 3774, 3775, 3776, 3777, 3778, 3779, 3780, 3781, 3782, 3783, 3784, 3785, 2779, 2780, 2781, 2782, 2783, 2784, 2785, 2786, 2787, 2788, 2789, 2790, 2791, 2792, 2793, 2794, 2795, 2796, 2797, 2798, 2799, 2800, 2801, 2802, 2803, 2804, 2805, 2806, 4248, 4249, 4250, 4251, 4252, 4253, 4254, 4255, 4256, 4257, 4258, 4259, 4260, 4261, 4262, 4263, 4264, 4265, 4266, 4267, 4268]\u001b[0m\n",
      "\u001b[34mStructure ID: (37, 105.15218568065218) - For structure_0, staples with the indexes 43, 17, 58 were removed.\u001b[0m\n",
      "\u001b[36mRemoved bases: [3751, 3752, 3753, 3754, 3755, 3756, 3757, 3758, 3759, 3760, 3761, 3762, 3763, 3764, 3765, 3766, 3767, 3768, 3769, 3770, 3771, 3772, 3773, 3774, 3775, 3776, 3777, 3778, 3779, 3780, 3781, 3782, 3783, 3784, 3785, 2807, 2808, 2809, 2810, 2811, 2812, 2813, 2814, 2815, 2816, 2817, 2818, 2819, 2820, 2821, 2822, 2823, 2824, 2825, 2826, 2827, 2828, 2829, 2830, 2831, 2832, 2833, 2834, 2835, 2836, 2837, 2838, 2839, 2840, 2841, 2842, 2843, 2844, 2845, 2846, 2847, 2848, 4248, 4249, 4250, 4251, 4252, 4253, 4254, 4255, 4256, 4257, 4258, 4259, 4260, 4261, 4262, 4263, 4264, 4265, 4266, 4267, 4268]\u001b[0m\n",
      "\u001b[34mStructure ID: (32, 114.17172950425665) - For structure_0, staples with the indexes 43, 44, 58 were removed.\u001b[0m\n",
      "\u001b[36mRemoved bases: [3751, 3752, 3753, 3754, 3755, 3756, 3757, 3758, 3759, 3760, 3761, 3762, 3763, 3764, 3765, 3766, 3767, 3768, 3769, 3770, 3771, 3772, 3773, 3774, 3775, 3776, 3777, 3778, 3779, 3780, 3781, 3782, 3783, 3784, 3785, 3786, 3787, 3788, 3789, 3790, 3791, 3792, 3793, 3794, 3795, 3796, 3797, 3798, 3799, 3800, 3801, 3802, 3803, 3804, 3805, 3806, 3807, 3808, 3809, 3810, 3811, 3812, 3813, 3814, 3815, 3816, 3817, 3818, 3819, 3820, 4248, 4249, 4250, 4251, 4252, 4253, 4254, 4255, 4256, 4257, 4258, 4259, 4260, 4261, 4262, 4263, 4264, 4265, 4266, 4267, 4268]\u001b[0m\n",
      "\u001b[34mStructure ID: (30, 114.50624539507342) - For structure_0, staples with the indexes 43, 44, 16 were removed.\u001b[0m\n",
      "\u001b[36mRemoved bases: [3751, 3752, 3753, 3754, 3755, 3756, 3757, 3758, 3759, 3760, 3761, 3762, 3763, 3764, 3765, 3766, 3767, 3768, 3769, 3770, 3771, 3772, 3773, 3774, 3775, 3776, 3777, 3778, 3779, 3780, 3781, 3782, 3783, 3784, 3785, 3786, 3787, 3788, 3789, 3790, 3791, 3792, 3793, 3794, 3795, 3796, 3797, 3798, 3799, 3800, 3801, 3802, 3803, 3804, 3805, 3806, 3807, 3808, 3809, 3810, 3811, 3812, 3813, 3814, 3815, 3816, 3817, 3818, 3819, 3820, 2779, 2780, 2781, 2782, 2783, 2784, 2785, 2786, 2787, 2788, 2789, 2790, 2791, 2792, 2793, 2794, 2795, 2796, 2797, 2798, 2799, 2800, 2801, 2802, 2803, 2804, 2805, 2806]\u001b[0m\n",
      "\u001b[34mStructure ID: (39, 114.98435062663361) - For structure_0, staples with the indexes 43, 58, 59 were removed.\u001b[0m\n",
      "\u001b[36mRemoved bases: [3751, 3752, 3753, 3754, 3755, 3756, 3757, 3758, 3759, 3760, 3761, 3762, 3763, 3764, 3765, 3766, 3767, 3768, 3769, 3770, 3771, 3772, 3773, 3774, 3775, 3776, 3777, 3778, 3779, 3780, 3781, 3782, 3783, 3784, 3785, 4248, 4249, 4250, 4251, 4252, 4253, 4254, 4255, 4256, 4257, 4258, 4259, 4260, 4261, 4262, 4263, 4264, 4265, 4266, 4267, 4268, 4269, 4270, 4271, 4272, 4273, 4274, 4275, 4276, 4277, 4278, 4279, 4280, 4281, 4282, 4283, 4284, 4285, 4286, 4287, 4288, 4289]\u001b[0m\n",
      "\u001b[35mDesired angle achieved within tolerance. Stopping evolution process.\u001b[0m\n",
      "\u001b[31mEvolutionary algorithm completed.\u001b[0m\n"
     ]
    },
    {
     "name": "stderr",
     "output_type": "stream",
     "text": [
      "INFO: Processed 0 / 1 confs\r"
     ]
    }
   ],
   "source": [
    "initial_dna_structure = load_dna_structure_files(input_path)\n",
    "evolutionary_algorithm(initial_dna_structure, left_indices, right_indices, num_iterations, num_best_structures, desired_angle, tolerance, base_path, sim_base_path, sphere_radius)"
   ]
  }
 ],
 "metadata": {
  "kernelspec": {
   "display_name": "pypatchy",
   "language": "python",
   "name": "python3"
  },
  "language_info": {
   "codemirror_mode": {
    "name": "ipython",
    "version": 3
   },
   "file_extension": ".py",
   "mimetype": "text/x-python",
   "name": "python",
   "nbconvert_exporter": "python",
   "pygments_lexer": "ipython3",
   "version": "3.11.8"
  }
 },
 "nbformat": 4,
 "nbformat_minor": 2
}
