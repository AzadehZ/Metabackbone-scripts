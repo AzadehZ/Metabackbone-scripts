{
 "cells": [
  {
   "cell_type": "code",
   "execution_count": 1,
   "metadata": {},
   "outputs": [],
   "source": [
    "from itertools import combinations\n",
    "import numpy as np\n",
    "from oxDNA_analysis_tools.UTILS.oxview import oxdna_conf, from_path\n",
    "from oxDNA_analysis_tools.UTILS.RyeReader import describe, get_confs, inbox\n",
    "from pathlib import Path\n",
    "import os\n",
    "from ipy_oxdna.dna_structure import DNAStructure, DNAStructureStrand, load_dna_structure, DNABase, strand_from_info\n",
    "from copy import deepcopy\n",
    "from ipy_oxdna.oxdna_simulation import Simulation \n",
    "import copy\n",
    "from tqdm.auto import tqdm"
   ]
  },
  {
   "cell_type": "code",
   "execution_count": 2,
   "metadata": {},
   "outputs": [],
   "source": [
    "path_struct = Path('/home/ava/Dropbox (ASU)/temp/Metabackbone/structure_files/six_helix_oxdna_file/unmodified/1512_bp')\n",
    "\n",
    "dat_path = path_struct /\"1512_bp_mod.dat\"\n",
    "top_path = path_struct /\"1512_bp_mod.top\""
   ]
  },
  {
   "cell_type": "code",
   "execution_count": 3,
   "metadata": {},
   "outputs": [
    {
     "name": "stderr",
     "output_type": "stream",
     "text": [
      "INFO: processed 0 / 1 confs\r"
     ]
    }
   ],
   "source": [
    "dna = load_dna_structure(top_path, dat_path)"
   ]
  },
  {
   "cell_type": "code",
   "execution_count": 5,
   "metadata": {},
   "outputs": [
    {
     "name": "stdout",
     "output_type": "stream",
     "text": [
      "Strand 0: Start index = 0\n",
      "Strand 1: Start index = 747\n",
      "Strand 2: Start index = 768\n",
      "Strand 3: Start index = 806\n",
      "Strand 4: Start index = 834\n",
      "Strand 5: Start index = 876\n",
      "Strand 6: Start index = 904\n",
      "Strand 7: Start index = 946\n",
      "Strand 8: Start index = 974\n",
      "Strand 9: Start index = 1016\n",
      "Strand 10: Start index = 1044\n",
      "Strand 11: Start index = 1086\n",
      "Strand 12: Start index = 1114\n",
      "Strand 13: Start index = 1156\n",
      "Strand 14: Start index = 1165\n",
      "Strand 15: Start index = 1169\n",
      "Strand 16: Start index = 1173\n",
      "Strand 17: Start index = 1208\n",
      "Strand 18: Start index = 1243\n",
      "Strand 19: Start index = 1278\n",
      "Strand 20: Start index = 1313\n",
      "Strand 21: Start index = 1348\n",
      "Strand 22: Start index = 1380\n",
      "Strand 23: Start index = 1381\n",
      "Strand 24: Start index = 1402\n",
      "Strand 25: Start index = 1423\n",
      "Strand 26: Start index = 1444\n",
      "Strand 27: Start index = 1465\n",
      "Strand 28: Start index = 1486\n",
      "Strand 0: End index = 746\n",
      "Strand 1: End index = 767\n",
      "Strand 2: End index = 805\n",
      "Strand 3: End index = 833\n",
      "Strand 4: End index = 875\n",
      "Strand 5: End index = 903\n",
      "Strand 6: End index = 945\n",
      "Strand 7: End index = 973\n",
      "Strand 8: End index = 1015\n",
      "Strand 9: End index = 1043\n",
      "Strand 10: End index = 1085\n",
      "Strand 11: End index = 1113\n",
      "Strand 12: End index = 1155\n",
      "Strand 13: End index = 1164\n",
      "Strand 14: End index = 1168\n",
      "Strand 15: End index = 1172\n",
      "Strand 16: End index = 1207\n",
      "Strand 17: End index = 1242\n",
      "Strand 18: End index = 1277\n",
      "Strand 19: End index = 1312\n",
      "Strand 20: End index = 1347\n",
      "Strand 21: End index = 1379\n",
      "Strand 22: End index = 1380\n",
      "Strand 23: End index = 1401\n",
      "Strand 24: End index = 1422\n",
      "Strand 25: End index = 1443\n",
      "Strand 26: End index = 1464\n",
      "Strand 27: End index = 1485\n",
      "Strand 28: End index = 1493\n"
     ]
    }
   ],
   "source": [
    "def find_strand_indices(dna):\n",
    "    first_base = []\n",
    "    end_base = []\n",
    "    \n",
    "    for strand in dna.strands:\n",
    "        if strand: \n",
    "            \n",
    "            base_indices = [base.uid for base in strand]\n",
    "            min_index = min(base_indices) \n",
    "            max_index = max(base_indices)  \n",
    "            \n",
    "            first_base.append(min_index)\n",
    "            end_base.append(max_index)\n",
    "            \n",
    "    return first_base, end_base \n",
    "\n",
    "\n",
    "\n",
    "first_base, end_base = find_strand_indices(dna)\n",
    "\n",
    "for i, start in enumerate(first_base):\n",
    "    print(f\"Strand {i}: Start index = {start}\")\n",
    "    \n",
    "    \n",
    "for j, end in enumerate(end_base):\n",
    "    print(f\"Strand {j}: End index = {end}\") "
   ]
  }
 ],
 "metadata": {
  "kernelspec": {
   "display_name": "pypatchy",
   "language": "python",
   "name": "python3"
  },
  "language_info": {
   "codemirror_mode": {
    "name": "ipython",
    "version": 3
   },
   "file_extension": ".py",
   "mimetype": "text/x-python",
   "name": "python",
   "nbconvert_exporter": "python",
   "pygments_lexer": "ipython3",
   "version": "3.11.8"
  }
 },
 "nbformat": 4,
 "nbformat_minor": 2
}
