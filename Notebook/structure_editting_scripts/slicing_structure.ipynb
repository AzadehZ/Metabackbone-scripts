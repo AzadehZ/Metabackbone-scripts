{
 "cells": [
  {
   "cell_type": "code",
   "execution_count": null,
   "metadata": {},
   "outputs": [],
   "source": [
    "from itertools import combinations\n",
    "import numpy as np\n",
    "import sys\n",
    "from oxDNA_analysis_tools.UTILS.oxview import oxdna_conf, from_path\n",
    "from oxDNA_analysis_tools.UTILS.RyeReader import describe, get_confs, inbox\n",
    "from oxDNA_analysis_tools.UTILS.data_structures import TopInfo, TrajInfo\n",
    "from pathlib import Path\n",
    "import os\n",
    "from ipy_oxdna.dna_structure import DNAStructure, DNAStructureStrand, load_dna_structure, DNABase, strand_from_info\n",
    "from copy import deepcopy\n",
    "from ipy_oxdna.oxdna_simulation import Simulation, SimulationManager\n",
    "import copy\n",
    "from tqdm.auto import tqdm\n",
    "from ipy_oxdna.oxdna_simulation import Simulation, SimulationManager\n",
    "import os"
   ]
  },
  {
   "cell_type": "code",
   "execution_count": null,
   "metadata": {},
   "outputs": [],
   "source": [
    "path = '/home/ava/MetaBackbone_project/Metabackbone-scripts/structure_files/six_helix_oxdna_file/unmodified/1512_bp'\n",
    "dat_path = os.path.join(path,'1512_bp.dat')\n",
    "top_path = os.path.join(path,'1512_bp.top')"
   ]
  },
  {
   "cell_type": "code",
   "execution_count": null,
   "metadata": {},
   "outputs": [],
   "source": [
    "\n",
    "dna = load_dna_structure(top_path, dat_path)"
   ]
  },
  {
   "cell_type": "code",
   "execution_count": null,
   "metadata": {},
   "outputs": [],
   "source": [
    "\n",
    "indxs_oxview = [43,44,45,46,47,48,49,50,51,52,53,54,55,56,57,58,59,60,61,62,63,64,65,66,67,68,69,70,71,72,73,74,75,76,77,78,79,80,81,82,83,84,85,86,237,238,239,240,241,242,243,244,245,246,247,248,249,250,251,252,253,254,255,256,257,258,259,260,261,262,263,264,265,266,267,268,269,270,271,272,273,274,275,276,277,278,279,280,281,282,283,284,285,286,287,288,289,290,291,292,293,294,295,296,297,298,299,300,301,302,303,304,305,306,307,308,309,310,311,312,313,314,315,316,317,318,319,320,321,322,323,324,325,326,327,328,329,330,331,332,333,334,495,496,497,498,499,500,501,502,503,504,505,506,507,508,509,510,511,512,513,514,515,516,517,518,519,520,521,522,523,524,525,526,527,528,529,530,531,532,533,534,535,536,537,538,539,540,541,542,543,544,545,546,547,548,549,550,551,552,553,554,555,556,557,558,559,560,561,562,563,564,565,566,567,568,569,570,571,572,573,574,575,576,577,578,579,580,581,582,583,584,585,586,587,588,589,743,744,745,746,747,748,749,750,751,752,753,754,755,756,757,758,759,760,761,762,763,764,765,766,767,768,769,770,771,772,773,774,775,776,777,778,779,780,781,782,783,784,785,786,787,788,789,790,791,792,793,794,795,796,797,798,799,800,801,802,803,804,805,806,807,808,809,810,811,812,813,814,815,816,817,818,819,820,821,822,823,824,825,826,827,828,829,830,831,832,1004,1005,1006,1007,1008,1009,1010,1011,1012,1013,1014,1015,1016,1017,1018,1019,1020,1021,1022,1023,1024,1025,1026,1027,1028,1029,1030,1031,1032,1033,1034,1035,1036,1037,1038,1039,1040,1041,1042,1043,1044,1045,1046,1047,1048,1049,1050,1051,1052,1053,1054,1055,1056,1057,1058,1059,1060,1061,1062,1063,1064,1065,1066,1067,1068,1069,1070,1071,1072,1073,1074,1075,1076,1077,1078,1079,1080,1081,1082,1083,1084,1085,1086,1087,1088,1089,1090,1091,1092,1093,1094,1095,1096,1097,1240,1241,1242,1243,1244,1245,1246,1247,1248,1249,1250,1251,1252,1253,1254,1255,1256,1257,1258,1259,1260,1261,1262,1263,1264,1265,1266,1267,1268,1269,1270,1271,1272,1273,1274,1275,1276,1277,1278,1279,1280,1281,1282,1283,1284,1285,1286,1287,1288,1289,1290,1291,1292,1293,1294,1295,1296,1297,1298,1299,1300,1301,1302,1303,1304,1305,1306,1307,1308,1309,1310,1311,1312,1313,1314,1315,1316,1317,1318,1319,1320,1321,1322,1323,1324,1325,1326,1327,1328,1329,1330,1331,1332,1333,1512,1513,1514,1515,1516,1517,1518,1519,1520,1521,1522,1523,1524,1525,1526,1527,1528,1529,1530,1531,1532,1533,1534,1535,1536,1537,1538,1539,1540,1541,1542,1543,1544,1545,1546,1547,1548,1549,1550,1551,1552,1553,1554,1798,1799,1800,1801,1802,1803,1804,1805,1806,1807,1811,1812,1813,1814,1815,1816,1817,1818,1819,1820,1821,1822,1823,1824,1825,1826,1827,1828,1829,1830,1831,1832,1833,1834,1835,1836,1837,1838,1839,1840,1841,1842,1843,1844,1845,1846,1847,1848,1849,1850,1851,1852,1853,1854,1855,1856,1857,1858,1859,1860,1861,1862,1863,1864,1865,1866,1867,1868,1869,1870,1871,1872,1873,1874,1875,1876,1877,1878,1879,1880,1881,1882,1883,1884,1885,1886,1887,1888,1889,1890,1891,1892,1893,1894,1895,1896,1897,1898,1899,1900,1901,1902,1903,1904,1905,1906,1907,1908,1909,1910,1911,1912,1913,1914,1915,1916,1917,1918,1919,1920,1921,1922,1923,1924,1925,1926,1927,1928,1929,1930,1931,1932,1933,1934,1935,1936,1937,1938,1939,1940,1941,1942,1943,1944,1945,1946,1947,1948,1949,1950,1951,1952,1953,1954,1955,1956,1957,1958,1959,1960,1961,1962,1963,1964,1965,1966,1967,1968,1969,1970,1971,1972,1973,1974,1975,1976,1977,1978,1979,1980,1981,1982,1983,1984,1985,1986,1987,1988,1989,1990,1991,1992,1993,1994,1995,1996,1997,1998,1999,2000,2001,2002,2003,2004,2005,2006,2007,2008,2009,2010,2011,2012,2013,2014,2015,2016,2017,2018,2019,2020,2021,2022,2023,2024,2025,2026,2027,2028,2029,2030,2031,2032,2033,2034,2035,2036,2037,2038,2039,2040,2041,2042,2043,2044,2045,2046,2047,2048,2049,2050,2051,2052,2053,2054,2055,2056,2057,2058,2059,2060,2061,2062,2063,2064,2065,2066,2067,2068,2069,2070,2071,2072,2073,2074,2075,2076,2077,2078,2079,2080,2081,2082,2083,2084,2085,2086,2087,2088,2089,2090,2108,2109,2110,2111,2112,2113,2114,2115,2116,2117,2119,2120,2121,2122,2123,2538,2539,2540,2541,2542,2543,2544,2545,2546,2547,2548,2549,2554,2555,2556,2557,2558,2559,2560,2561,2573,2574,2575,2576,2577,2578,2579,2580,2581,2582,2583,2584,2585,2586,2587,2588,2589,2590,2591,2592,2593,2594,2595,2596,2597,2598,2599,2600,2601,2602,2603,2604,2605,2606,2607,2608,2609,2610,2611,2612,2613,2614,2615,2616,2617,2618,2619,2620,2621,2622,2623,2624,2625,2626,2627,2628,2629,2630,2631,2632,2633,2634,2635,2636,2637,2638,2639,2640,2641,2642,2643,2644,2645,2646,2647,2648,2649,2650,2651,2652,2653,2654,2655,2656,2657,2658,2659,2660,2661,2662,2663,2664,2665,2666,2667,2668,2669,2670,2671,2672,2673,2674,2675,2676,2677,2679,2680,2681,2682,2683,2684,2685,2686,2687,2688,2689,2690,2691,2692,2693,2694,2695,2696,2697,2698,2699,2700,2701,2702,2703,2704,2705,2706,2707,2708,2709,2710,2711,2712,2864,2865,2866,2867,2868,2869,2870,2871,2872,2873,2874,2875,2876,2877,2878,2879,2880,2881,2882,2883,2884,2885,2886,2887,2888,2889,2890,2891,2892,2893,2894,2895,2896,2897,2898,2899,2900,2901,2902,2903,2904,2905,2906,2907,2908,2909,2910,2911,2912,2913,2914,2915,2916,2917,2918,2919,2920,2921,2922,2923,2924,2925,2926,2927,2928,2929,2930,2931,2932,2933,2934,2935,2936,2937,2938,2939,2940,2941,2942,2943,2944,2945,2946,2947,2948,2949,2950,2951,2952,2953,2954,2962,2963,2964]\n",
    "\n",
    "def create_strands_from_indices(dna, indxs_oxview):\n",
    "    \"\"\"\n",
    "    Create a new DNA structure based on a list of UIDs and return the positions of the bases,\n",
    "    along with applying a mutual trap force at the cut sites.\n",
    "\n",
    "    Parameters:\n",
    "    dna: DNAStructure\n",
    "        The original DNA structure.\n",
    "    indxs_oxview: list\n",
    "        The list of UIDs to filter the bases.\n",
    "    trap_force_params: dict\n",
    "        Parameters for the mutual trap force (stiff, r0, PBC).\n",
    "\n",
    "    Returns:\n",
    "    tuple\n",
    "        A new DNA structure containing only the strands with the specified UIDs,\n",
    "        positions of all bases in the original structure,\n",
    "        positions of the bases in the oxview list,\n",
    "        common positions in both lists,\n",
    "        and the trap forces applied.\n",
    "    \"\"\"\n",
    "    strand_list = []\n",
    "    original_positions = []\n",
    "    oxview_positions = []\n",
    "    trap_forces = []\n",
    "    \n",
    "    for strand in dna.strands:\n",
    "        bases_in_strand = []\n",
    "        for base in strand:\n",
    "            original_positions.append(tuple(base.pos))\n",
    "            if base.uid in indxs_oxview:\n",
    "                bases_in_strand.append((base.base, base.pos, base.a1, base.a3))\n",
    "                oxview_positions.append(tuple(base.pos))\n",
    "        \n",
    "        if bases_in_strand:\n",
    "            new_strand = strand_from_info(bases_in_strand)\n",
    "            strand_list.append(new_strand)\n",
    "    \n",
    "    slcd_dna_structure = DNAStructure(strand_list, dna.time, dna.box, dna.energy)\n",
    "    \n",
    "    # Find common positions\n",
    "    common_positions = list(set(original_positions) & set(oxview_positions))\n",
    "    \n",
    "    # Print commands for verification\n",
    "    print(\"Original positions of all bases:\")\n",
    "    print(original_positions)\n",
    "    \n",
    "    print(\"Positions of bases in the oxview list:\")\n",
    "    print(oxview_positions)\n",
    "    \n",
    "    print(\"Common positions in both lists:\")\n",
    "    print(common_positions)\n",
    "\n",
    "    return slcd_dna_structure, original_positions, oxview_positions, common_positions"
   ]
  },
  {
   "cell_type": "code",
   "execution_count": null,
   "metadata": {},
   "outputs": [],
   "source": [
    "def mutual_trap(particle=None, ref_particle=None, stiff=None, r0=None, PBC=None):\n",
    "    \"\"\"\n",
    "    A spring force that pulls a particle towards the position of another particle\n",
    "    \n",
    "    Parameters:\n",
    "        particle (int): the particle that the force acts upon\n",
    "        ref_particle (int): the particle that the particle will be pulled towards\n",
    "        stiff (float): the force constant of the spring (in simulation units)\n",
    "        r0 (float): the equilibrium distance of the spring\n",
    "        PBC (bool): does the force calculation take PBC into account (almost always 1)\n",
    "    \n",
    "    Returns:\n",
    "        dict: The mutual trap force configuration.\n",
    "    \"\"\"\n",
    "    return {\n",
    "        \"force\": {\n",
    "            \"type\": \"mutual_trap\",\n",
    "            \"particle\": particle,\n",
    "            \"ref_particle\": ref_particle,\n",
    "            \"stiff\": stiff,\n",
    "            \"r0\": r0,\n",
    "            \"PBC\": PBC\n",
    "        }\n",
    "    }"
   ]
  },
  {
   "cell_type": "code",
   "execution_count": null,
   "metadata": {},
   "outputs": [],
   "source": [
    "filtered_dna, orig_pos, oxview_pos, common_pos = create_strands_from_indices(dna, indxs_oxview)"
   ]
  },
  {
   "cell_type": "code",
   "execution_count": null,
   "metadata": {},
   "outputs": [],
   "source": [
    "# Create new DNA structure and export it\n",
    "path_struct = Path('/home/ava/MetaBackbone_project/Metabackbone-scripts/structure_files/six_helix_oxdna_file/sliced_structure/1512_bp')\n",
    "\n",
    "dat_path = path_struct /\"1512_bp_mod.dat\"\n",
    "top_path = path_struct /\"1512_bp_mod.top\"\n",
    "filtered_dna.export_top_conf(top_path, dat_path)"
   ]
  }
 ],
 "metadata": {
  "kernelspec": {
   "display_name": "myenv",
   "language": "python",
   "name": "python3"
  },
  "language_info": {
   "codemirror_mode": {
    "name": "ipython",
    "version": 3
   },
   "file_extension": ".py",
   "mimetype": "text/x-python",
   "name": "python",
   "nbconvert_exporter": "python",
   "pygments_lexer": "ipython3",
   "version": "3.11.8"
  }
 },
 "nbformat": 4,
 "nbformat_minor": 2
}
