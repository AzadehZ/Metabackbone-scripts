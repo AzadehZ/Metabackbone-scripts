{
 "cells": [
  {
   "cell_type": "code",
   "execution_count": 1,
   "metadata": {},
   "outputs": [],
   "source": [
    "from itertools import combinations\n",
    "import numpy as np\n",
    "from oxDNA_analysis_tools.UTILS.oxview import oxdna_conf, from_path\n",
    "from oxDNA_analysis_tools.UTILS.RyeReader import describe, get_confs, inbox\n",
    "from pathlib import Path\n",
    "import os\n",
    "from ipy_oxdna.dna_structure import DNAStructure, DNAStructureStrand, load_dna_structure, DNABase, strand_from_info\n",
    "from copy import deepcopy\n",
    "from ipy_oxdna.oxdna_simulation import Simulation , SimulationManager\n",
    "import copy\n",
    "from tqdm.auto import tqdm"
   ]
  },
  {
   "cell_type": "code",
   "execution_count": 2,
   "metadata": {},
   "outputs": [],
   "source": [
    "path = '/home/ava/Dropbox (ASU)/temp/Metabackbone/structure_files/six_helix_oxdna_file/unmodified/1512_bp'\n",
    "dat_path = os.path.join(path,'1512_bp.dat')\n",
    "top_path = os.path.join(path,'1512_bp.top')\n",
    "\n",
    "# print(path)\n",
    "# print(dat_path)\n",
    "# print(top_path)"
   ]
  },
  {
   "cell_type": "code",
   "execution_count": 3,
   "metadata": {},
   "outputs": [
    {
     "name": "stderr",
     "output_type": "stream",
     "text": [
      "INFO: processed 0 / 1 confs\r"
     ]
    }
   ],
   "source": [
    "dna = load_dna_structure(top_path, dat_path)      # dna is an instance of DNAstructure object\n",
    "dna_rmvd_staples = deepcopy(dna)                  # dna_rmvd_staples is an instance of DNAstructure object\n",
    "# dna"
   ]
  },
  {
   "cell_type": "code",
   "execution_count": 4,
   "metadata": {},
   "outputs": [],
   "source": [
    "indxs_oxview = [2034,2035,2036,2037,2016,2017,2018,2019,1964,1965,1966,1967,1946,1947,1948,1949,1893,1894,1895,1896]\n",
    "strand_list =[]\n",
    "for strand in dna_rmvd_staples.strands:\n",
    "\n",
    "    bases_in_strand = [] \n",
    "\n",
    "    for base in strand:\n",
    "        if base.uid not in indxs_oxview:\n",
    "            base_info = (base.base, base.pos, base.a1, base.a3)\n",
    "            bases_in_strand.append(base_info)\n",
    "            # print(base.uid)\n",
    "    # print(bases_in_strand)\n",
    "    if len(bases_in_strand)>0:\n",
    "\n",
    "        new_strands = strand_from_info(bases_in_strand)        \n",
    "        strand_list.append(new_strands)\n",
    "        \n",
    "new_dna_structure = DNAStructure(strand_list, dna_rmvd_staples.time, dna_rmvd_staples.box, dna_rmvd_staples.energy)\n",
    "# print(new_dna_structure.get_num_bases())\n",
    "# print(dna_rmvd_staples.get_num_bases())"
   ]
  },
  {
   "cell_type": "code",
   "execution_count": 5,
   "metadata": {},
   "outputs": [],
   "source": [
    "path = '/home/ava/Dropbox (ASU)/temp/Metabackbone/structure_files/six_helix_oxdna_file/modified/remove_bases/1512_bp'\n",
    "dat_path = os.path.join(path,'1512_bp_rmv_bases.dat')\n",
    "top_path = os.path.join(path,'1512_bp_rmv_bases.top')\n",
    "new_dna_structure.export_top_conf(Path(top_path), Path(dat_path))\n",
    "\n",
    "# print(path)\n",
    "# print(dat_path)\n",
    "# print(top_path)"
   ]
  }
 ],
 "metadata": {
  "kernelspec": {
   "display_name": "pypatchy",
   "language": "python",
   "name": "python3"
  },
  "language_info": {
   "codemirror_mode": {
    "name": "ipython",
    "version": 3
   },
   "file_extension": ".py",
   "mimetype": "text/x-python",
   "name": "python",
   "nbconvert_exporter": "python",
   "pygments_lexer": "ipython3",
   "version": "3.11.8"
  }
 },
 "nbformat": 4,
 "nbformat_minor": 2
}
