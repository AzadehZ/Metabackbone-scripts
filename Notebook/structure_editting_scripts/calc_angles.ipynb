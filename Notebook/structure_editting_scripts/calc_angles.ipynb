{
 "cells": [
  {
   "cell_type": "code",
   "execution_count": 1,
   "metadata": {},
   "outputs": [],
   "source": [
    "from itertools import combinations\n",
    "import numpy as np\n",
    "from oxDNA_analysis_tools.UTILS.oxview import oxdna_conf, from_path\n",
    "from oxDNA_analysis_tools.UTILS.RyeReader import describe, get_confs, inbox\n",
    "from pathlib import Path\n",
    "import os\n",
    "from ipy_oxdna.dna_structure import DNAStructure, DNAStructureStrand, load_dna_structure, DNABase, strand_from_info\n",
    "from copy import deepcopy\n",
    "from ipy_oxdna.oxdna_simulation import Simulation \n",
    "import copy\n",
    "from tqdm.auto import tqdm"
   ]
  },
  {
   "cell_type": "code",
   "execution_count": 2,
   "metadata": {},
   "outputs": [],
   "source": [
    "# function that calculate the angle betweem two vectors \n",
    "\n",
    "def angle_between_vectors(v, w):\n",
    "    \n",
    "    # Calculate dot product\n",
    "    dot_product = np.dot(v, w)\n",
    "\n",
    "    # Calculate norms\n",
    "    norm_v = np.linalg.norm(v)\n",
    "    norm_w = np.linalg.norm(w)\n",
    "\n",
    "    # Calculate cosine of the angle\n",
    "    cos_angle = dot_product / (norm_v * norm_w)\n",
    "\n",
    "    # Calculate the angle in radians and then convert it to degrees\n",
    "    angle_rad = np.arccos(cos_angle)\n",
    "    angle_deg = np.degrees(angle_rad)\n",
    "\n",
    "    return angle_deg"
   ]
  },
  {
   "cell_type": "code",
   "execution_count": 3,
   "metadata": {},
   "outputs": [
    {
     "ename": "AttributeError",
     "evalue": "'SimFiles' object has no attribute 'top'",
     "output_type": "error",
     "traceback": [
      "\u001b[0;31m---------------------------------------------------------------------------\u001b[0m",
      "\u001b[0;31mAttributeError\u001b[0m                            Traceback (most recent call last)",
      "Cell \u001b[0;32mIn[3], line 9\u001b[0m\n\u001b[1;32m      5\u001b[0m sim_dir \u001b[38;5;241m=\u001b[39m os\u001b[38;5;241m.\u001b[39mpath\u001b[38;5;241m.\u001b[39mjoin(path2,\u001b[38;5;124m'\u001b[39m\u001b[38;5;124mprod\u001b[39m\u001b[38;5;124m'\u001b[39m)\n\u001b[1;32m      7\u001b[0m sim \u001b[38;5;241m=\u001b[39m Simulation(file_dir, sim_dir)\n\u001b[0;32m----> 9\u001b[0m top_path \u001b[38;5;241m=\u001b[39m sim\u001b[38;5;241m.\u001b[39msim_files\u001b[38;5;241m.\u001b[39mtop\n\u001b[1;32m     10\u001b[0m traj_path \u001b[38;5;241m=\u001b[39m sim\u001b[38;5;241m.\u001b[39msim_files\u001b[38;5;241m.\u001b[39mtraj\n\u001b[1;32m     12\u001b[0m top, traj \u001b[38;5;241m=\u001b[39m describe(top_path, traj_path)\n",
      "\u001b[0;31mAttributeError\u001b[0m: 'SimFiles' object has no attribute 'top'"
     ]
    }
   ],
   "source": [
    "path = '/home/azare3/metabackbone/python_scratch_work/simulate_and_calc_angles/simulations/1512/modified/'\n",
    "file_dir = os.path.join(path,'eq')\n",
    "\n",
    "path2 = '/home/azare3/metabackbone/python_scratch_work/simulate_and_calc_angles/simulations/1512/modified/'\n",
    "sim_dir = os.path.join(path2,'prod')\n",
    "\n",
    "sim = Simulation(file_dir, sim_dir)\n",
    "\n",
    "top_path = sim.sim_files.top\n",
    "traj_path = sim.sim_files.traj\n",
    "\n",
    "top, traj = describe(top_path, traj_path)\n",
    "\n",
    "# use the get_confs function to get the conformations postiions info read into python memory\n",
    "confs = get_confs(top , traj , 0, traj.nconfs)\n",
    "\n",
    "left_side_indx = [9,10,11,12,13,14,15,16,17,18,19,156,157,158,159,160,161,162,163,164,165,166,167,168,169,170,171,392,393,394,395,396,397,398,399,400,401,402,403,404,405,406,407,408,409,410,411,412,413,414,415,416,417,418,419,420,421,422,423,424,425,426,427,428,429,430,431,432,433,434,435,436,437,438,439,440,1393,1394,1395,1396,1397,1398,1399,1400,1401,1402,1403,1404,1405,1406,1407,1408,1409,1410,1411,1412,1413,1414,1415,1416,1417,1418,1419,1420,1421,1422,1423,1424,1425,1426,1427,1428,1429,1430,1431,1432,1433,1434,1435,1436,1437,1438,1439,1440,1441,1442,1443,1444,1445,1446,2281,2282,2289,2290,2291,2292,2293,2294,2295,2296,2297,2298,2299,2300,2301,2302,2303,2304,2305,2306,2307,2308,2309,2310,2311,2312,2313,2314,2315,2316,2317,2318,2319,2320,2321,2322,2323,2324,2325,2326,2327,2328,2329,2330,2331,2332,2333,2334,2335,2336,2337,2338,2339,2340,2341,2342,2343,2344,2345,2346,2347,2348,2349,2350,2351,2352,2353,2354,2355,2356,2357,2358,2359,2360,2361,2362,2363,2364,2365,2366,2367,2368,2369,2771,2772,2773,2774,2775,2776,3006,3007,3008,3016,3017,3018,3019,3020,3021,3022,3023,3024,3025,3026,3027,3028,3029,3030,3031,3032,3033,3034,3035,3036,3037,3038,3039,3040,3041,3042,3043,3044,3045,3046,3047,3048,3049,3050,3051,3052,3053,3054,3055]\n",
    "right_side_indx = [20,21,22,23,24,25,26,27,28,29,30,645,646,647,648,649,650,651,652,653,654,655,656,657,658,659,660,661,662,663,664,665,666,667,668,669,670,671,672,673,674,675,676,677,678,679,680,681,682,683,684,685,686,687,688,689,690,691,692,693,890,891,892,893,894,895,896,897,898,899,900,901,902,903,904,905,906,907,908,909,910,911,912,913,914,915,916,917,918,919,920,921,922,923,924,925,926,927,928,929,930,931,932,933,934,935,936,937,938,939,940,941,1162,1163,1164,1165,1166,1167,1168,1169,1170,1171,1172,1173,1174,1175,1176,1177,1178,1179,1180,1181,1555,1556,1557,1558,1559,1560,1561,1562,1563,1564,1565,1566,1567,1568,1569,1570,1571,1572,1573,1574,1575,1576,1577,1578,1579,1580,1581,1582,1583,1584,1585,1586,1587,1588,1589,1590,1591,1592,1593,1614,1615,1616,1617,1618,1619,1620,1621,1629,1630,1631,1632,1633,2370,2371,2372,2373,2374,2375,2376,2377,2378,2379,2380,2381,2382,2383,2384,2385,2386,2387,2388,2389,2390,2391,2392,2393,2394,2395,2396,2397,2398,2399,2400,2401,2402,2403,2404,2405,2406,2409,2410,2411,2412,2413,2414,2415,2416,2417,2418,2419,2420,2421,2422,2423,2424,2425,2426,2427,2428,2429,2430,2431,2432,2433,2434,2435,2436,2437,2438,2439,2440,2441,2442,2443,2444,2445,2446,2447,2448,2449,2450,2451,2452,2453,2454,2455]\n"
   ]
  },
  {
   "cell_type": "code",
   "execution_count": null,
   "metadata": {},
   "outputs": [],
   "source": [
    "def calc_angle(conf, left_side_indx, right_side_indx):\n",
    "    positions = conf.positions \n",
    "    COM = np.mean(positions, axis=0)\n",
    "    pos_left_side = (positions[left_side_indx])\n",
    "    pos_right_side = (positions[right_side_indx])\n",
    "    cms_left_side = np.mean(pos_left_side, axis = 0)\n",
    "    cms_right_side = np.mean(pos_right_side, axis = 0)\n",
    "    left_vector =  cms_left_side - COM\n",
    "    right_vector = cms_right_side - COM\n",
    "    angle = angle_between_vectors(left_vector, right_vector)\n",
    "    return angle"
   ]
  },
  {
   "cell_type": "code",
   "execution_count": null,
   "metadata": {},
   "outputs": [],
   "source": [
    "angles  = [calc_angle(conf, left_side_indx, right_side_indx) for conf in confs]\n",
    "angles"
   ]
  },
  {
   "cell_type": "code",
   "execution_count": null,
   "metadata": {},
   "outputs": [],
   "source": [
    "import matplotlib.pyplot as plt\n",
    "plt.hist(angles, density = True, bins=10)\n",
    "plt.ylabel(\"probability\")\n",
    "plt.xlabel(\"angles\")"
   ]
  },
  {
   "cell_type": "code",
   "execution_count": null,
   "metadata": {},
   "outputs": [],
   "source": [
    "sim.analysis.view_last()"
   ]
  }
 ],
 "metadata": {
  "kernelspec": {
   "display_name": "pypatchy",
   "language": "python",
   "name": "python3"
  },
  "language_info": {
   "codemirror_mode": {
    "name": "ipython",
    "version": 3
   },
   "file_extension": ".py",
   "mimetype": "text/x-python",
   "name": "python",
   "nbconvert_exporter": "python",
   "pygments_lexer": "ipython3",
   "version": "3.11.8"
  }
 },
 "nbformat": 4,
 "nbformat_minor": 2
}
