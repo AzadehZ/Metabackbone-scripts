{
 "cells": [
  {
   "cell_type": "code",
   "execution_count": 1,
   "metadata": {},
   "outputs": [],
   "source": [
    "from itertools import combinations\n",
    "import numpy as np\n",
    "from oxDNA_analysis_tools.UTILS.oxview import oxdna_conf, from_path\n",
    "from oxDNA_analysis_tools.UTILS.RyeReader import describe, get_confs, inbox\n",
    "from pathlib import Path\n",
    "import os\n",
    "from ipy_oxdna.dna_structure import DNAStructure, DNAStructureStrand, load_dna_structure, DNABase, strand_from_info\n",
    "from copy import deepcopy\n",
    "from ipy_oxdna.oxdna_simulation import Simulation \n",
    "import copy\n",
    "from tqdm.auto import tqdm"
   ]
  },
  {
   "cell_type": "code",
   "execution_count": 2,
   "metadata": {},
   "outputs": [],
   "source": [
    "path_struct = Path('/home/ava/Dropbox (ASU)/Metabackbone/structure_files/six_helix_oxdna_file/unmodified/1512_bp')\n",
    "# print (path_struct)\n",
    "\n",
    "dat_path = path_struct /\"1512_bp.dat\"\n",
    "top_path = path_struct /\"1512_bp.top\"\n",
    "# print(top_path.is_file())\n",
    "# print (dat_path.is_file())\n",
    "# print(dat_path)\n",
    "# print(top_path)"
   ]
  },
  {
   "cell_type": "code",
   "execution_count": 3,
   "metadata": {},
   "outputs": [
    {
     "name": "stderr",
     "output_type": "stream",
     "text": [
      "INFO: processed 0 / 1 confs\r"
     ]
    }
   ],
   "source": [
    "# downloading the structure and making a copy of that\n",
    "\n",
    "dna = load_dna_structure(top_path, dat_path)      # dna is an instance of DNAstructure object\n",
    "dna_rmvd_staples = deepcopy(dna)                  # dna_rmvd_staples is an instance of DNAstructure object\n",
    "# dna"
   ]
  },
  {
   "cell_type": "code",
   "execution_count": 4,
   "metadata": {},
   "outputs": [],
   "source": [
    "def trim_staple(strand, trim_length):\n",
    "    \n",
    "    trimmed_strand = []\n",
    "    if len(strand) > trim_length:\n",
    "        trimmed_strand = strand[trim_length:]\n",
    "    return trimmed_strand\n",
    "\n"
   ]
  },
  {
   "cell_type": "code",
   "execution_count": 5,
   "metadata": {},
   "outputs": [
    {
     "name": "stdout",
     "output_type": "stream",
     "text": [
      "New structure bases: 3063\n",
      "Original structure bases: 3068\n"
     ]
    }
   ],
   "source": [
    "indxs_oxview = set([1881,1882,1883,1884,1885,1886,1887,1888,1889,1890,1891,1892,1893,1894,1895,1896,1897,1898,1899,1900,1901,1902,1903,1904,1905,1906,1907,1908])\n",
    "short_strand = []\n",
    "original_strand = []\n",
    "\n",
    "# Loop to collect strands that are not in the set of indices to be shortened\n",
    "for strand in dna_rmvd_staples.strands:\n",
    "    bases_in_strand = [(base.base, base.pos, base.a1, base.a3) for base in strand if base.uid not in indxs_oxview]\n",
    "    if len(bases_in_strand) > 0:\n",
    "        new_strands = strand_from_info(bases_in_strand)        \n",
    "        original_strand.append(new_strands)\n",
    "\n",
    "# Loop to collect, shorten, and modify strands that are in the set of indices to be shortened\n",
    "for strand in dna_rmvd_staples.strands:\n",
    "    bases_in_short_strand = [(base.base, base.pos, base.a1, base.a3) for base in strand if base.uid in indxs_oxview]\n",
    "    if len(bases_in_short_strand) > 0:\n",
    "        new_short_strands = strand_from_info(bases_in_short_strand) \n",
    "        trimmed_strand = trim_staple(new_short_strands, 5)       \n",
    "        short_strand.append(trimmed_strand)\n",
    "\n",
    "# Combine the original and shortened strands to create the new DNA structure\n",
    "total_strands = short_strand + original_strand\n",
    "new_dna_structure = DNAStructure(total_strands, dna_rmvd_staples.time, dna_rmvd_staples.box, dna_rmvd_staples.energy)\n",
    "\n",
    "# Display the number of bases in the new and original structures for comparison\n",
    "print(\"New structure bases:\", new_dna_structure.get_num_bases())\n",
    "print(\"Original structure bases:\", dna_rmvd_staples.get_num_bases())\n",
    "\n",
    "\n"
   ]
  },
  {
   "cell_type": "code",
   "execution_count": 6,
   "metadata": {},
   "outputs": [],
   "source": [
    "path_struct = Path('/home/ava/Dropbox (ASU)/temp/Metabackbone/structure_files/six_helix_oxdna_file/modified/trimmed_staples/1512_bp')\n",
    "dat_path = path_struct /\"1215_bp_trm_staples.dat\"\n",
    "top_path = path_struct /\"1215_bp_trm_staples.top\"\n",
    "new_dna_structure.export_top_conf(top_path, dat_path)\n",
    "# print(dat_path)\n",
    "# print(top_path)"
   ]
  }
 ],
 "metadata": {
  "kernelspec": {
   "display_name": "pypatchy",
   "language": "python",
   "name": "python3"
  },
  "language_info": {
   "codemirror_mode": {
    "name": "ipython",
    "version": 3
   },
   "file_extension": ".py",
   "mimetype": "text/x-python",
   "name": "python",
   "nbconvert_exporter": "python",
   "pygments_lexer": "ipython3",
   "version": "3.11.8"
  }
 },
 "nbformat": 4,
 "nbformat_minor": 2
}
