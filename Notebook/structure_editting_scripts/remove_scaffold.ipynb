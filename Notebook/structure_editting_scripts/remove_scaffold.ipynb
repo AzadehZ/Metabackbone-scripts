{
 "cells": [
  {
   "cell_type": "code",
   "execution_count": 1,
   "metadata": {},
   "outputs": [],
   "source": [
    "import numpy as np\n",
    "from oxDNA_analysis_tools.UTILS.oxview import oxdna_conf, from_path\n",
    "from oxDNA_analysis_tools.UTILS.RyeReader import describe, get_confs, inbox\n",
    "from pathlib import Path\n",
    "import os\n",
    "\n",
    "import ipy_oxdna.dna_structure as dna\n",
    "from copy import deepcopy"
   ]
  },
  {
   "cell_type": "code",
   "execution_count": 2,
   "metadata": {},
   "outputs": [
    {
     "ename": "AssertionError",
     "evalue": "",
     "output_type": "error",
     "traceback": [
      "\u001b[0;31m---------------------------------------------------------------------------\u001b[0m",
      "\u001b[0;31mAssertionError\u001b[0m                            Traceback (most recent call last)",
      "Cell \u001b[0;32mIn[2], line 14\u001b[0m\n\u001b[1;32m     11\u001b[0m top_files \u001b[38;5;241m=\u001b[39m [Path(\u001b[38;5;124mf\u001b[39m\u001b[38;5;124m'\u001b[39m\u001b[38;5;132;01m{\u001b[39;00msys_path\u001b[38;5;132;01m}\u001b[39;00m\u001b[38;5;124m/\u001b[39m\u001b[38;5;132;01m{\u001b[39;00msys\u001b[38;5;132;01m}\u001b[39;00m\u001b[38;5;124m.top\u001b[39m\u001b[38;5;124m'\u001b[39m) \u001b[38;5;28;01mfor\u001b[39;00m sys_path, sys \u001b[38;5;129;01min\u001b[39;00m \u001b[38;5;28mzip\u001b[39m(path_to_sys, systems)]\n\u001b[1;32m     12\u001b[0m dat_files \u001b[38;5;241m=\u001b[39m [Path(\u001b[38;5;124mf\u001b[39m\u001b[38;5;124m'\u001b[39m\u001b[38;5;132;01m{\u001b[39;00msys_path\u001b[38;5;132;01m}\u001b[39;00m\u001b[38;5;124m/\u001b[39m\u001b[38;5;132;01m{\u001b[39;00msys\u001b[38;5;132;01m}\u001b[39;00m\u001b[38;5;124m.dat\u001b[39m\u001b[38;5;124m'\u001b[39m) \u001b[38;5;28;01mfor\u001b[39;00m sys_path, sys \u001b[38;5;129;01min\u001b[39;00m \u001b[38;5;28mzip\u001b[39m(path_to_sys, systems)]\n\u001b[0;32m---> 14\u001b[0m dna_structs \u001b[38;5;241m=\u001b[39m [\u001b[43mdna\u001b[49m\u001b[38;5;241;43m.\u001b[39;49m\u001b[43mload_dna_structure\u001b[49m\u001b[43m(\u001b[49m\u001b[43mtop\u001b[49m\u001b[43m,\u001b[49m\u001b[43m \u001b[49m\u001b[43mdat\u001b[49m\u001b[43m)\u001b[49m \u001b[38;5;28;01mfor\u001b[39;00m top, dat \u001b[38;5;129;01min\u001b[39;00m \u001b[38;5;28mzip\u001b[39m(top_files, dat_files)]\n",
      "File \u001b[0;32m~/miniconda3/envs/oxDNA/lib/python3.12/site-packages/ipy_oxdna/dna_structure.py:637\u001b[0m, in \u001b[0;36mload_dna_structure\u001b[0;34m(top, conf_file)\u001b[0m\n\u001b[1;32m    631\u001b[0m     conf_file \u001b[38;5;241m=\u001b[39m Path(conf_file)\n\u001b[1;32m    632\u001b[0m \u001b[38;5;66;03m# if not top.is_absolute():\u001b[39;00m\n\u001b[1;32m    633\u001b[0m \u001b[38;5;66;03m#     top = get_input_dir() / top\u001b[39;00m\n\u001b[1;32m    634\u001b[0m \u001b[38;5;66;03m# if not conf_file.is_absolute():\u001b[39;00m\n\u001b[1;32m    635\u001b[0m \u001b[38;5;66;03m#     conf_file = get_input_dir() / conf_file\u001b[39;00m\n\u001b[0;32m--> 637\u001b[0m \u001b[38;5;28;01massert\u001b[39;00m top\u001b[38;5;241m.\u001b[39mis_file()\n\u001b[1;32m    639\u001b[0m \u001b[38;5;28;01mwith\u001b[39;00m top\u001b[38;5;241m.\u001b[39mopen(\u001b[38;5;124m\"\u001b[39m\u001b[38;5;124mr\u001b[39m\u001b[38;5;124m\"\u001b[39m) \u001b[38;5;28;01mas\u001b[39;00m top_file:\n\u001b[1;32m    640\u001b[0m     lines \u001b[38;5;241m=\u001b[39m top_file\u001b[38;5;241m.\u001b[39mreadlines()\n",
      "\u001b[0;31mAssertionError\u001b[0m: "
     ]
    }
   ],
   "source": [
    "# define path to where I save the oxdna files\n",
    "path_to_structs = Path('../../structure_files/six_helix_oxdna_file/unmodified')\n",
    "\n",
    "# define our 3 systems\n",
    "systems = ['1512_bp', '2268_bp', '3024_bp']\n",
    "\n",
    "# create a variable with the full path to each systems files\n",
    "path_to_sys = [Path(f'{path_to_structs}/{sys}').resolve() for sys in systems]\n",
    "\n",
    "# create list containing paths to the systems dat and top files\n",
    "top_files = [Path(f'{sys_path}/{sys}.top') for sys_path, sys in zip(path_to_sys, systems)]\n",
    "dat_files = [Path(f'{sys_path}/{sys}.dat') for sys_path, sys in zip(path_to_sys, systems)]\n",
    "\n",
    "dna_structs = [dna.load_dna_structure(top, dat) for top, dat in zip(top_files, dat_files)]"
   ]
  },
  {
   "cell_type": "code",
   "execution_count": 3,
   "metadata": {},
   "outputs": [
    {
     "ename": "NameError",
     "evalue": "name 'dna_structs' is not defined",
     "output_type": "error",
     "traceback": [
      "\u001b[0;31m---------------------------------------------------------------------------\u001b[0m",
      "\u001b[0;31mNameError\u001b[0m                                 Traceback (most recent call last)",
      "Cell \u001b[0;32mIn[3], line 1\u001b[0m\n\u001b[0;32m----> 1\u001b[0m dna_struct \u001b[38;5;241m=\u001b[39m \u001b[43mdna_structs\u001b[49m[\u001b[38;5;241m0\u001b[39m]\n\u001b[1;32m      3\u001b[0m dna_struct\u001b[38;5;241m.\u001b[39mstrands\u001b[38;5;241m.\u001b[39mpop()\n",
      "\u001b[0;31mNameError\u001b[0m: name 'dna_structs' is not defined"
     ]
    }
   ],
   "source": [
    "dna_struct = dna_structs[0]\n",
    "\n",
    "dna_struct.strands.pop()"
   ]
  },
  {
   "cell_type": "code",
   "execution_count": null,
   "metadata": {},
   "outputs": [],
   "source": [
    "dna_structs_remove_scaffold = [deepcopy(struct) for struct in dna_structs]\n",
    "strand_len_max_idx = [np.argmax([len(strand.bases) for strand in dna_struct.strands]) for dna_struct in dna_structs_remove_scaffold]\n",
    "\n",
    "for struct,scaffold_idx in zip(dna_structs_remove_scaffold, strand_len_max_idx):\n",
    "    struct.strands.pop(scaffold_idx)\n",
    "\n",
    "remove_scaffold_test = Path(f'{path_to_structs}/modified/testing/remove_scaffold').resolve()\n",
    "os.makedirs(remove_scaffold_test, exist_ok=True)\n",
    "\n",
    "rm_scaff_sys_path = [Path(f'{remove_scaffold_test}/{sys}') for sys in systems]\n",
    "rm_scaff_dat_path = [Path(f'{remove_scaffold_test}/{sys}/{sys}.dat') for sys in systems]\n",
    "rm_scaff_top_path = [Path(f'{remove_scaffold_test}/{sys}/{sys}.top') for sys in systems]\n",
    "\n",
    "for sys in rm_scaff_sys_path:\n",
    "    os.makedirs(sys, exist_ok=True) \n",
    "\n",
    "for idx, struct in  enumerate(dna_structs_remove_scaffold):\n",
    "    struct.export_top_conf(rm_scaff_top_path[idx], rm_scaff_dat_path[idx])"
   ]
  },
  {
   "cell_type": "code",
   "execution_count": null,
   "metadata": {},
   "outputs": [],
   "source": []
  }
 ],
 "metadata": {
  "kernelspec": {
   "display_name": "Python 3 (ipykernel)",
   "language": "python",
   "name": "python3"
  },
  "language_info": {
   "codemirror_mode": {
    "name": "ipython",
    "version": 3
   },
   "file_extension": ".py",
   "mimetype": "text/x-python",
   "name": "python",
   "nbconvert_exporter": "python",
   "pygments_lexer": "ipython3",
   "version": "3.1.-1"
  }
 },
 "nbformat": 4,
 "nbformat_minor": 2
}
