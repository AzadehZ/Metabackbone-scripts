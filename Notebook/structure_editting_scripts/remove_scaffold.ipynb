{
 "cells": [
  {
   "cell_type": "code",
   "execution_count": null,
   "metadata": {},
   "outputs": [],
   "source": [
    "import numpy as np\n",
    "from oxDNA_analysis_tools.UTILS.oxview import oxdna_conf, from_path\n",
    "from oxDNA_analysis_tools.UTILS.RyeReader import describe, get_confs, inbox\n",
    "from pathlib import Path\n",
    "import os\n",
    "\n",
    "import ipy_oxdna.dna_structure as dna\n",
    "from copy import deepcopy"
   ]
  },
  {
   "cell_type": "code",
   "execution_count": null,
   "metadata": {},
   "outputs": [],
   "source": [
    "# define path to where I save the oxdna files\n",
    "path_to_structs = Path('../../structure_files/six_helix_oxdna_file/unmodified')\n",
    "\n",
    "# define our 3 systems\n",
    "systems = ['1512_bp', '2268_bp', '3024_bp']\n",
    "\n",
    "# create a variable with the full path to each systems files\n",
    "path_to_sys = [Path(f'{path_to_structs}/{sys}').resolve() for sys in systems]\n",
    "\n",
    "# create list containing paths to the systems dat and top files\n",
    "top_files = [Path(f'{sys_path}/{sys}.top') for sys_path, sys in zip(path_to_sys, systems)]\n",
    "dat_files = [Path(f'{sys_path}/{sys}.dat') for sys_path, sys in zip(path_to_sys, systems)]\n",
    "\n",
    "dna_structs = [dna.load_dna_structure(top, dat) for top, dat in zip(top_files, dat_files)]"
   ]
  },
  {
   "cell_type": "code",
   "execution_count": null,
   "metadata": {},
   "outputs": [],
   "source": [
    "dna_struct = dna_structs[0]\n",
    "\n",
    "dna_struct.strands.pop()"
   ]
  },
  {
   "cell_type": "code",
   "execution_count": null,
   "metadata": {},
   "outputs": [],
   "source": [
    "dna_structs_remove_scaffold = [deepcopy(struct) for struct in dna_structs]\n",
    "strand_len_max_idx = [np.argmax([len(strand.bases) for strand in dna_struct.strands]) for dna_struct in dna_structs_remove_scaffold]\n",
    "\n",
    "for struct,scaffold_idx in zip(dna_structs_remove_scaffold, strand_len_max_idx):\n",
    "    struct.strands.pop(scaffold_idx)\n",
    "\n",
    "remove_scaffold_test = Path(f'{path_to_structs}/modified/testing/remove_scaffold').resolve()\n",
    "os.makedirs(remove_scaffold_test, exist_ok=True)\n",
    "\n",
    "rm_scaff_sys_path = [Path(f'{remove_scaffold_test}/{sys}') for sys in systems]\n",
    "rm_scaff_dat_path = [Path(f'{remove_scaffold_test}/{sys}/{sys}.dat') for sys in systems]\n",
    "rm_scaff_top_path = [Path(f'{remove_scaffold_test}/{sys}/{sys}.top') for sys in systems]\n",
    "\n",
    "for sys in rm_scaff_sys_path:\n",
    "    os.makedirs(sys, exist_ok=True) \n",
    "\n",
    "for idx, struct in  enumerate(dna_structs_remove_scaffold):\n",
    "    struct.export_top_conf(rm_scaff_top_path[idx], rm_scaff_dat_path[idx])"
   ]
  },
  {
   "cell_type": "code",
   "execution_count": null,
   "metadata": {},
   "outputs": [],
   "source": []
  }
 ],
 "metadata": {
  "kernelspec": {
   "display_name": "Python 3 (ipykernel)",
   "language": "python",
   "name": "python3"
  },
  "language_info": {
   "codemirror_mode": {
    "name": "ipython",
    "version": 3
   },
   "file_extension": ".py",
   "mimetype": "text/x-python",
   "name": "python",
   "nbconvert_exporter": "python",
   "pygments_lexer": "ipython3",
   "version": "3.11.8"
  }
 },
 "nbformat": 4,
 "nbformat_minor": 2
}
