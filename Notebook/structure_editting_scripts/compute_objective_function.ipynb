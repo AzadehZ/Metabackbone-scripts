{
 "cells": [
  {
   "cell_type": "code",
   "execution_count": null,
   "metadata": {},
   "outputs": [],
   "source": [
    "import numpy as np\n",
    "from oxDNA_analysis_tools.UTILS.oxview import oxdna_conf, from_path\n",
    "from oxDNA_analysis_tools.UTILS.RyeReader import describe, get_confs, inbox\n",
    "from pathlib import Path"
   ]
  },
  {
   "cell_type": "code",
   "execution_count": null,
   "metadata": {},
   "outputs": [],
   "source": [
    "# define path to where I save the oxdna files\n",
    "path_to_structs = Path('../../structure_files/six_helix_oxdna_file/unmodified')\n",
    "print (path_to_structs)"
   ]
  },
  {
   "cell_type": "code",
   "execution_count": null,
   "metadata": {},
   "outputs": [],
   "source": [
    "# define our 3 systems\n",
    "systems = ['1512_bp', '2268_bp', '3024_bp']\n",
    "\n",
    "# create a variable with the full path to each systems files\n",
    "path_to_sys = [Path(f'{path_to_structs}/{sys}').resolve() for sys in systems]\n",
    "print (path_to_sys)"
   ]
  },
  {
   "cell_type": "code",
   "execution_count": null,
   "metadata": {},
   "outputs": [],
   "source": [
    "# create list containing paths to the systems dat and top files\n",
    "top_files = [Path(f'{sys_path}/{sys}.top') for sys_path, sys in zip(path_to_sys, systems)]\n",
    "dat_files = [Path(f'{sys_path}/{sys}.dat') for sys_path, sys in zip(path_to_sys, systems)]\n",
    "print(top_files)\n",
    "print (dat_files)"
   ]
  },
  {
   "cell_type": "code",
   "execution_count": null,
   "metadata": {},
   "outputs": [],
   "source": [
    "# use the describe function form RyeReader to get top and traj info need for the get confs function\n",
    "descriptions = [describe(top=top.as_posix(), traj=dat.as_posix()) for top,dat in zip(top_files, dat_files)]\n",
    "print (descriptions)"
   ]
  },
  {
   "cell_type": "code",
   "execution_count": null,
   "metadata": {},
   "outputs": [],
   "source": [
    "# use the get_confs function to get the conformations postiions info read into python memory\n",
    "confs = [get_confs(info[0], info[1], 0, 1) for info in descriptions]\n",
    "print (confs)"
   ]
  },
  {
   "cell_type": "code",
   "execution_count": null,
   "metadata": {},
   "outputs": [],
   "source": [
    "# We just need the positions info so inbox it and extract it\n",
    "positions = [inbox(conf[0]).positions for conf in confs]\n",
    "positions"
   ]
  },
  {
   "cell_type": "code",
   "execution_count": null,
   "metadata": {},
   "outputs": [],
   "source": [
    "op_0 = [\n",
    "    [3028,3029,3030,3031,3065,3066,3067,3064],\n",
    "    [4542,4543,4544,4578,4579,4580,4581,4545],\n",
    "    [6054,6055,6056,6057,6090,6091,6092,6093]\n",
    "]\n",
    "\n",
    "op_1 = [\n",
    "    [2467,2466,2382,2383],\n",
    "    [3645,3644,3560,3561],\n",
    "    [4736,4737,4820,4821]\n",
    "]\n",
    "\n",
    "pos_op_0 = [pos[idxes] for pos,idxes in zip(positions, op_0)]\n",
    "pos_op_1 = [pos[idxes] for pos,idxes in zip(positions, op_1)]\n",
    "\n",
    "cms_op_0 = [np.mean(pos, axis=0) for pos in pos_op_0]\n",
    "cms_op_1 = [np.mean(pos, axis=0) for pos in pos_op_1]\n",
    "\n",
    "op_dist = [np.linalg.norm(cms_1 - cms_0) for cms_1,cms_0 in zip(cms_op_1, cms_op_0)]\n",
    "\n",
    "op_dist"
   ]
  }
 ],
 "metadata": {
  "kernelspec": {
   "display_name": "Python 3 (ipykernel)",
   "language": "python",
   "name": "python3"
  },
  "language_info": {
   "codemirror_mode": {
    "name": "ipython",
    "version": 3
   },
   "file_extension": ".py",
   "mimetype": "text/x-python",
   "name": "python",
   "nbconvert_exporter": "python",
   "pygments_lexer": "ipython3",
   "version": "3.11.8"
  }
 },
 "nbformat": 4,
 "nbformat_minor": 2
}
