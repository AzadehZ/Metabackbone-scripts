{
 "cells": [
  {
   "cell_type": "code",
   "execution_count": 1,
   "metadata": {},
   "outputs": [],
   "source": [
    "import os\n",
    "import numpy as np\n",
    "from itertools import combinations\n",
    "import random\n",
    "import logging\n",
    "from typing import Dict, Tuple, List\n",
    "from Metabackbone_functions import (\n",
    "    load_dna_structure_files, find_longest_strand, find_cross_over_in_longest_strand, \n",
    "    calculate_left_right_pos, find_valid_point, find_bases_around_point, \n",
    "    calculate_center_of_mass, calculate_bend_angle, find_bend_angle, \n",
    "    find_bases_in_sphere, remove_three_strands_in_sphere, export_dna_structures, \n",
    "    run_all_simulations, stored_removed_strands)\n",
    "from ipy_oxdna.dna_structure import DNAStructure, DNAStructureStrand, load_dna_structure, DNABase, strand_from_info\n",
    "from ipy_oxdna.oxdna_simulation import Simulation, SimulationManager\n",
    "from ER_functions import run_simulations_for_structure, load_simulated_structure, evaluate_fitness, check_dna_structure, create_index_position_map, get_indexes_from_positions, update_indices_for_selected_structures"
   ]
  },
  {
   "cell_type": "code",
   "execution_count": 2,
   "metadata": {},
   "outputs": [],
   "source": [
    "# ANSI color codes for printing colored messages\n",
    "colors = {\n",
    "    'blue': '34',\n",
    "    'green': '32',\n",
    "    'yellow': '33',\n",
    "    'cyan': '36',\n",
    "    'red': '31',\n",
    "    'magenta': '35'\n",
    "}\n"
   ]
  },
  {
   "cell_type": "code",
   "execution_count": 3,
   "metadata": {},
   "outputs": [],
   "source": [
    "# Configure logging\n",
    "logging.basicConfig(level=logging.INFO)\n",
    "\n",
    "def print_colored(message, color_code):\n",
    "    print(f\"\\033[{color_code}m{message}\\033[0m\")\n",
    "    "
   ]
  },
  {
   "cell_type": "code",
   "execution_count": 4,
   "metadata": {},
   "outputs": [],
   "source": [
    "left_indices = [0,1,2,3,4,5,6,7,8,9,10,11,12,13,14,15,16,17,18,19,151,152,153,154,155,156,157,158,159,160,161,162,163,164,165,166,167,168,169,170,171,172,173,174,175,176,177,178,179,180,181,182,183,184,185,186,187,188,189,190,191,192,193,194,195,196,197,198,199,200,201,202,203,204,205,206,207,208,209,210,211,212,213,214,215,216,217,218,219,220,221,222,223,224,225,226,227,228,229,230,231,232,233,234,235,236,237,238,239,240,241,242,243,244,245,246,247,248,249,250,251,252,253,254,255,256,257,258,259,260,261,262,263,264,265,266,267,268,269,270,271,272,273,274,275,276,277,278,279,280,281,282,283,284,285,286,287,288,289,290,291,292,293,294,295,296,297,298,299,300,525,526,527,528,529,530,531,532,533,534,535,536,537,538,539,540,541,542,543,544,545,546,547,548,549,550,551,552,553,554,555,556,557,558,559,560,561,562,563,564,565,566,567,568,569,570,571,572,573,574,575,576,577,578,579,580,581,582,583,584,585,586,587,588,589,590,591,592,593,594,595,596,597,598,599,600,601,602,603,604,605,606,607,608,609,610,611,612,613,614,615,616,617,618,619,620,621,622,623,624,625,626,627,628,629,630,631,632,633,634,635,636,637,638,639,640,641,642,643,644,645,646,647,648,649,650,651,652,653,654,655,656,657,658,659,660,661,662,663,664,665,666,667,668,669,670,671,672,673,674,675,676,677,678,679,680,681,682,683,684,2028,2029,2030,2031,2032,2033,2034,2035,2036,2037,2038,2039,2040,2041,2042,2043,2044,2045,2046,2047,2048,2049,2050,2051,2052,2053,2054,2055,2056,2057,2058,2059,2060,2061,2062,2063,2064,2065,2066,2067,2068,2069,2070,2071,2072,2073,2074,2075,2076,2077,2078,2079,2080,2081,2082,2083,2084,2085,2086,2087,2088,2089,2090,2091,2092,2093,2094,2095,2096,2097,2098,2099,2100,2101,2102,2103,2104,2105,2106,2107,2108,2109,2110,2111,2112,2113,2114,2115,2116,2117,2118,2119,2120,2121,2122,2123,2124,2125,2126,2127,2128,2129,2130,2131,2132,2133,2134,2135,2136,2137,2138,2139,2140,2141,2142,2143,2144,2145,2146,2147,2148,2149,2150,2151,2152,2153,2154,2155,2156,2157,2158,2159,2160,2161,2162,2163,2164,2165,2166,2167,2168,2169,2170,2171,2172,2173,2174,2175,2176,2177,2178,2179,2180,2181,2182,2183,2184,2185,2186,2187,2188,2189,2190,2191,2192,2193,2194,2195,2196,2197,2198,2199,2200,2201,2202,2203,2204,2205,3269,3270,3271,3272,3273,3274,3275,3276,3277,3278,3279,3280,3281,3282,3283,3284,3285,3296,3302,3303,3304,3305,3306,3307,3308,3309,3310,3311,3312,3313,3314,3315,3316,3317,3318,3319,3320,3321,3322,3323,3324,3325,3326,3327,3328,3329,3330,3331,3332,3333,3334,3335,3336,3337,3338,3339,3340,3341,3342,3343,3344,3345,3346,3347,3348,3349,3350,3351,3352,3353,3354,3355,3356,3357,3358,3359,3360,3361,3362,3363,3364,3365,3366,3367,3368,3369,3370,3371,3372,3373,3374,3375,3376,3377,3378,3379,3380,3381,3382,3383,3384,3385,3386,3387,3388,3389,3390,3391,3392,3393,3394,3395,3396,3397,3398,3399,3400,3401,3402,3403,3404,3405,3406,3407,3408,3409,3410,3411,3412,3413,3414,3415,3416,3417,3418,3419,3420,3421,3422,3423,3424,3425,3426,3427,3428,3429,3430,3431,3432,3433,3434,3435,3436,3437,3438,3439,3440,3441,3442,3443,3444,3445,3446,3447,3448,3449,3450,3451,3452,3453,3454,3455,3456,3457,3458,3459,3460,3461,3462,3463,3464,3465,3466,3467,3468,3469,3470,3471,3472,3473,3474,3475,3476,3477,3478,3479,3480,3481,3482,3483,3484,3485,3486,3487,3488,3489,3490,3491,3492,3493,3494,3495,3496,3497,3498,3499,3500,3501,3502,3503,3504,3505,3506,3507,3508,3509,3510,3511,3512,3513,3514,3515,3516,3517,3518,3519,3520,3521,3522,3523,3524,3525,3526,3527,3528,3529,3530,3531,3532,3533,3534,3535,3536,3537,3538,3539,3540,3541,3542,3543,3544,3545,3546,3547,3548,3549,3550,3551,3552,3553,3554,3555,3556,3557,3558,3559,4066,4101,4102,4103,4104,4105,4106,4107,4108,4109,4110,4111,4112,4113,4114,4115,4116,4117,4118,4119,4120,4121,4122,4123,4124,4125,4126,4127,4128,4129,4130,4131,4132,4133,4134,4135,4136,4137,4138,4139,4140,4141,4142,4143,4144,4145,4146,4147,4148,4149,4150,4151,4152,4153,4154,4155,4156,4157,4158,4159,4160,4161,4162,4163,4164,4165,4166,4167,4168,4169,4170,4171,4172,4173,4174,4175,4176,4177,4178,4179,4180,4181,4182,4183,4184,4185,4186,4187,4188,4189,4190,4191,4192,4193,4194,4195,4196,4197,4198,4199,4200,4201,4202,4203,4204,4205,4469,4470,4471,4472,4473,4474,4475,4479,4480,4481,4482,4483,4484,4485,4486,4487,4488,4489,4490,4491,4492,4493,4494,4495,4496,4497,4498,4499,4500,4501,4502,4503,4504,4505,4506,4507,4508,4509,4510,4511,4512,4513,4514,4515,4516,4517,4518,4519,4520,4521,4522,4523,4524,4525,4526,4527,4528,4529,4530,4531,4532,4533,4534,4535,4536,4537,4538,4539,4540,4541,4542,4543,4544,4545,4546,4547,4548,4549,4550,4551,4552,4553,4554,4555,4556,4557,4558,4559,4560,4561,4562,4563,4564,4565,4566,4567,4568,4569,4570,4571,4572,4573,4574,4575,4576,4577,4578,4579,4580,4581]\n",
    "right_indices = [20,21,22,23,24,25,26,27,28,29,30,31,32,33,34,35,36,37,38,39,40,41,42,43,916,917,918,919,920,921,922,923,924,925,926,927,928,929,930,931,932,933,934,935,936,937,938,939,940,941,942,943,944,945,946,947,948,949,950,951,952,953,954,955,956,957,958,959,960,961,962,963,964,965,966,967,968,969,970,971,972,973,974,975,976,977,978,979,980,981,982,983,984,985,986,987,988,989,990,991,992,993,994,995,996,997,998,999,1000,1001,1002,1003,1004,1005,1006,1007,1008,1009,1010,1011,1012,1013,1014,1015,1016,1017,1018,1019,1020,1021,1022,1023,1024,1025,1026,1027,1028,1029,1030,1031,1032,1033,1034,1035,1036,1037,1038,1039,1040,1041,1042,1043,1044,1045,1046,1047,1048,1285,1286,1287,1288,1289,1290,1291,1292,1293,1294,1295,1296,1297,1298,1299,1300,1301,1302,1303,1304,1305,1306,1307,1308,1309,1310,1311,1312,1313,1314,1315,1316,1317,1318,1319,1320,1321,1322,1323,1324,1325,1326,1327,1328,1329,1330,1331,1332,1333,1334,1335,1336,1337,1338,1339,1340,1341,1342,1343,1344,1345,1346,1347,1348,1349,1350,1351,1352,1353,1354,1355,1356,1357,1358,1359,1360,1361,1362,1363,1364,1365,1366,1367,1368,1369,1370,1371,1372,1373,1374,1375,1376,1377,1378,1379,1380,1381,1382,1383,1384,1385,1386,1387,1388,1389,1390,1391,1392,1393,1394,1395,1396,1397,1398,1399,1400,1401,1402,1403,1404,1405,1406,1407,1408,1409,1410,1411,1412,1413,1414,1415,1416,1417,1418,1419,1420,1421,1422,1423,1424,1425,1426,1427,1428,1429,1430,1431,1432,1433,1434,1435,1436,1676,1677,1678,1679,1680,1681,1682,1683,1684,1685,1686,1687,1688,1689,1690,1691,1692,1693,1694,1695,1696,1697,1698,1699,1700,1701,1702,1703,1704,1705,1706,1707,1708,1709,1710,1711,1712,1713,1714,1715,1716,1717,1718,1719,1720,1721,1722,1723,1724,1725,1726,1727,1728,1729,1730,1731,1732,1733,1734,1735,1736,1737,1738,1739,1740,1741,1742,1743,1744,1745,1746,1747,1748,1749,1750,1751,1752,1753,1754,1755,1756,1757,1758,1759,1760,1761,1762,1763,1764,1765,1766,1767,1768,1769,1770,1771,1772,1773,1774,1775,1776,1777,1778,1779,1780,1781,1782,1783,1784,1785,1786,1787,1788,1789,1790,1791,1792,1793,1794,1795,1796,1797,1798,2312,2313,2314,2315,2316,2317,2318,2319,2320,2321,2322,2323,2324,2325,2326,2327,2328,2329,2330,2331,2332,2333,2334,2335,2336,2337,2338,2339,2340,2341,2342,2343,2344,2345,2346,2347,2348,2349,2350,2351,2352,2353,2354,2355,2356,2357,2358,2359,2360,2361,2362,2363,2364,2365,2366,2367,2368,2369,2370,2371,2372,2373,2374,2375,2376,2377,2378,2379,2380,2381,2382,2383,2384,2385,2386,2387,2388,2389,2390,2391,2392,2393,2394,2395,2396,2397,2398,2399,2400,2401,2402,2403,2404,2405,2406,2407,2408,2409,2410,2411,2412,2413,2414,2415,2416,2417,2418,2419,2420,2421,2422,2423,2424,2425,2426,2427,2428,2429,2430,2431,2432,2433,2434,2435,2436,2437,2438,2439,2440,2441,2442,2443,2444,2445,2446,2447,2448,2449,2450,2451,2452,2453,2454,2455,2456,2457,2458,2459,2460,2461,2462,2463,2464,2465,2466,2467,2468,2469,2470,2471,2472,2473,2474,2475,2476,2477,2478,2479,2480,2481,2482,2483,2484,2485,2486,2487,2488,2489,2490,2491,2492,2493,2494,2495,2496,2497,2498,2499,2500,2501,2513,2514,2515,2516,2517,2518,2519,2520,2521,2522,2523,2524,2527,2528,2529,2530,2531,2532,2533,3560,3561,3562,3563,3564,3565,3566,3567,3568,3569,3570,3571,3572,3573,3574,3575,3576,3577,3578,3579,3580,3581,3582,3583,3584,3585,3586,3587,3588,3589,3590,3591,3592,3593,3594,3595,3596,3597,3598,3599,3600,3601,3602,3603,3604,3605,3606,3607,3608,3609,3610,3611,3612,3613,3614,3615,3616,3617,3618,3619,3620,3621,3622,3623,3624,3625,3626,3627,3628,3629,3630,3631,3632,3633,3634,3635,3636,3637,3638,3639,3640,3641,3642,3643,3644,3645,3646,3647,3648,3649,3650,3651,3652,3653,3654,3655,3656,3657,3658,3659,3660,3661,3662,3663,3664,3665,3666,3667,3668,3669,3670,3671,3672,3673,3674,3675,3676,3677,3678,3679,3680,3682,3683,3684,3685,3686,3687,3688,3689,3690,3691,3692,3693,3694,3695,3696,3697,3698,3699,3700,3701,3702,3703,3704,3705,3706,3707,3708,3709,3710,3711,3712,3713,3714,3715,3750,4206,4207,4208,4209,4210,4211,4212,4213,4214,4215,4216,4217,4218,4219,4220,4221,4222,4223,4224,4225,4226,4227,4228,4229,4230,4231,4232,4233,4234,4235,4236,4237,4238,4239,4240,4241,4242,4243,4244,4245,4246,4247]\n",
    "sphere_radius = 3.0\n",
    "eq_steps = 1e3\n",
    "prod_steps = 1e3\n",
    "rel_steps = 1e2\n",
    "min_distance_threshold = 2.5\n",
    "min_distance = 7.0\n",
    "max_distance = 20.0\n",
    "num_best_structures = 5\n",
    "\n",
    "eq_parameters = {'dt':f'0.003','steps':f'{eq_steps}','print_energy_every': f'1e5', 'interaction_type': 'DNA2',\n",
    "                 'print_conf_interval':f'1e5', 'fix_diffusion':'false', 'T':f'20C','max_density_multiplier':f'50'}\n",
    "\n",
    "prod_parameters = {'dt':f'0.003','steps':f'{prod_steps}','print_energy_every': f'1e5', 'interaction_type': 'DNA2',\n",
    "                   'print_conf_interval':f'1e5', 'fix_diffusion':'false', 'T':f'20C','max_density_multiplier':f'50'}\n",
    "rel_parameters = {'steps': f'{rel_steps}', 'max_backbone_force': '200', 'max_backbone_force_far': '200'}"
   ]
  },
  {
   "cell_type": "code",
   "execution_count": 5,
   "metadata": {},
   "outputs": [],
   "source": [
    "num_iterations = 2\n",
    "sphere_radius = 3.0\n",
    "desired_angle = 100.0\n",
    "tolerance = 5.0\n",
    "\n",
    "input_path = \"/home/ava/MetaBackbone_project/Metabackbone-scripts/structure_files/six_helix_oxdna_file/unmodified/2268_bp\"\n",
    "base_path = \"/home/ava/MetaBackbone_project/Metabackbone-scripts/structure_files/six_helix_oxdna_file/modified/modified_2268_bp\"\n",
    "sim_base_path = '/home/ava/MetaBackbone_project/Metabackbone-scripts/Notebook/Simulations_results/Results/optimization_2268_bp'\n"
   ]
  },
  {
   "cell_type": "code",
   "execution_count": 6,
   "metadata": {},
   "outputs": [],
   "source": [
    "def load_dna_structure_files(input_path):\n",
    "    dat_path = os.path.join(input_path, '2268_bp.dat')\n",
    "    top_path = os.path.join(input_path, '2268_bp.top')\n",
    "    dna = load_dna_structure(top_path, dat_path)\n",
    "    return dna"
   ]
  },
  {
   "cell_type": "code",
   "execution_count": 7,
   "metadata": {},
   "outputs": [
    {
     "name": "stderr",
     "output_type": "stream",
     "text": [
      "INFO: Processed 0 / 1 confs\r"
     ]
    }
   ],
   "source": [
    "initial_dna_structure = load_dna_structure_files(input_path)"
   ]
  },
  {
   "cell_type": "code",
   "execution_count": 8,
   "metadata": {},
   "outputs": [],
   "source": [
    "longest_strand, _ = find_longest_strand(initial_dna_structure)"
   ]
  },
  {
   "cell_type": "code",
   "execution_count": 9,
   "metadata": {},
   "outputs": [
    {
     "name": "stdout",
     "output_type": "stream",
     "text": [
      "point_pos: [ 0.02789847  0.03747995 22.10012055]\n"
     ]
    }
   ],
   "source": [
    "point_pos = find_valid_point(initial_dna_structure, left_indices, right_indices, longest_strand)\n",
    "print('point_pos:', point_pos)"
   ]
  },
  {
   "cell_type": "code",
   "execution_count": 10,
   "metadata": {},
   "outputs": [
    {
     "name": "stdout",
     "output_type": "stream",
     "text": [
      "Bases in sphere: [96, 97, 98, 99, 100, 101, 348, 349, 350, 351, 352, 353, 467, 468, 474, 475, 476, 477, 736, 737, 738, 739, 740, 741, 1974, 1975, 1976, 1977, 1978, 1979, 2250, 2251, 2252, 2253, 2254, 2259, 2260, 3065, 3066, 3067, 3068, 3098, 3099, 3100, 3101, 3117, 3118, 3119, 3120, 3121, 3122, 3126, 3127, 3128, 3148, 3149, 3157, 3158, 4005, 4006, 4007, 4008, 4009, 4010, 4011, 4016, 4017, 4018, 4019, 4020, 4021, 4416, 4417, 4418, 4419, 4420]\n",
      "Base to strand mapping: {96: 2, 97: 2, 98: 2, 99: 2, 100: 2, 101: 2, 348: 2, 349: 2, 350: 2, 351: 2, 352: 2, 353: 2, 467: 2, 468: 2, 474: 2, 475: 2, 476: 2, 477: 2, 736: 2, 737: 2, 738: 2, 739: 2, 740: 2, 741: 2, 1974: 2, 1975: 2, 1976: 2, 1977: 2, 1978: 2, 1979: 2, 2250: 2, 2251: 2, 2252: 2, 2253: 2, 2254: 2, 2259: 2, 2260: 2, 3065: 24, 3066: 24, 3067: 24, 3068: 24, 3098: 25, 3099: 25, 3100: 25, 3101: 25, 3117: 25, 3118: 25, 3119: 25, 3120: 25, 3121: 25, 3122: 25, 3126: 25, 3127: 25, 3128: 25, 3148: 26, 3149: 26, 3157: 27, 3158: 27, 4005: 50, 4006: 50, 4007: 50, 4008: 50, 4009: 50, 4010: 50, 4011: 50, 4016: 50, 4017: 50, 4018: 50, 4019: 50, 4020: 50, 4021: 50, 4416: 66, 4417: 66, 4418: 66, 4419: 66, 4420: 66}\n",
      "Strands in sphere to consider for removal: {66, 50, 24, 25, 26, 27}\n",
      "Removed strands: 66, 50, 24\n",
      "Removed strands: 66, 50, 25\n",
      "Removed strands: 66, 50, 26\n",
      "Removed strands: 66, 50, 27\n",
      "Removed strands: 66, 24, 25\n",
      "Removed strands: 66, 24, 26\n",
      "Removed strands: 66, 24, 27\n",
      "Removed strands: 66, 25, 26\n",
      "Removed strands: 66, 25, 27\n",
      "Removed strands: 66, 26, 27\n",
      "Removed strands: 50, 24, 25\n",
      "Removed strands: 50, 24, 26\n",
      "Removed strands: 50, 24, 27\n",
      "Removed strands: 50, 25, 26\n",
      "Removed strands: 50, 25, 27\n",
      "Removed strands: 50, 26, 27\n",
      "Removed strands: 24, 25, 26\n",
      "Removed strands: 24, 25, 27\n",
      "Removed strands: 24, 26, 27\n",
      "Removed strands: 25, 26, 27\n",
      "Total number of new structures created: 20\n",
      "mutants: [<ipy_oxdna.dna_structure.DNAStructure object at 0x77e12c24b0d0>, <ipy_oxdna.dna_structure.DNAStructure object at 0x77e0c2bc2b50>, <ipy_oxdna.dna_structure.DNAStructure object at 0x77e0c2bc2bd0>, <ipy_oxdna.dna_structure.DNAStructure object at 0x77e0c2bc2cd0>, <ipy_oxdna.dna_structure.DNAStructure object at 0x77e0c2bc2d90>, <ipy_oxdna.dna_structure.DNAStructure object at 0x77e0c2bc2f50>, <ipy_oxdna.dna_structure.DNAStructure object at 0x77e0c2bc3010>, <ipy_oxdna.dna_structure.DNAStructure object at 0x77e0c2bc3110>, <ipy_oxdna.dna_structure.DNAStructure object at 0x77e0c2bc32d0>, <ipy_oxdna.dna_structure.DNAStructure object at 0x77e0c2bc2ed0>, <ipy_oxdna.dna_structure.DNAStructure object at 0x77e0c2bc3390>, <ipy_oxdna.dna_structure.DNAStructure object at 0x77e0c2bc3550>, <ipy_oxdna.dna_structure.DNAStructure object at 0x77e0c2bc35d0>, <ipy_oxdna.dna_structure.DNAStructure object at 0x77e0c2bc36d0>, <ipy_oxdna.dna_structure.DNAStructure object at 0x77e0c2bc3790>, <ipy_oxdna.dna_structure.DNAStructure object at 0x77e0c2bc3890>, <ipy_oxdna.dna_structure.DNAStructure object at 0x77e0c2bc3990>, <ipy_oxdna.dna_structure.DNAStructure object at 0x77e0c2bc3b10>, <ipy_oxdna.dna_structure.DNAStructure object at 0x77e0c2bc3bd0>, <ipy_oxdna.dna_structure.DNAStructure object at 0x77e0c2bc3c90>]\n"
     ]
    }
   ],
   "source": [
    "mutants, removed_strands_info = remove_three_strands_in_sphere(initial_dna_structure, point_pos, sphere_radius)\n",
    "print('mutants:',mutants)"
   ]
  },
  {
   "cell_type": "code",
   "execution_count": 11,
   "metadata": {},
   "outputs": [
    {
     "name": "stdout",
     "output_type": "stream",
     "text": [
      "For structure_0, staples with the indexes 66, 50, 24 were removed.\n",
      "Removed bases: [4416, 4417, 4418, 4419, 4420, 4421, 4422, 4423, 4424, 4425, 4426, 4427, 4428, 4429, 4430, 4431, 4432, 4433, 4434, 4435, 4436, 3996, 3997, 3998, 3999, 4000, 4001, 4002, 4003, 4004, 4005, 4006, 4007, 4008, 4009, 4010, 4011, 4012, 4013, 4014, 4015, 4016, 4017, 4018, 4019, 4020, 4021, 4022, 4023, 4024, 4025, 4026, 4027, 4028, 4029, 4030, 3059, 3060, 3061, 3062, 3063, 3064, 3065, 3066, 3067, 3068, 3069, 3070, 3071, 3072, 3073, 3074, 3075, 3076, 3077, 3078, 3079, 3080, 3081, 3082, 3083, 3084, 3085, 3086]\n",
      "For structure_1, staples with the indexes 66, 50, 25 were removed.\n",
      "Removed bases: [4416, 4417, 4418, 4419, 4420, 4421, 4422, 4423, 4424, 4425, 4426, 4427, 4428, 4429, 4430, 4431, 4432, 4433, 4434, 4435, 4436, 3996, 3997, 3998, 3999, 4000, 4001, 4002, 4003, 4004, 4005, 4006, 4007, 4008, 4009, 4010, 4011, 4012, 4013, 4014, 4015, 4016, 4017, 4018, 4019, 4020, 4021, 4022, 4023, 4024, 4025, 4026, 4027, 4028, 4029, 4030, 3087, 3088, 3089, 3090, 3091, 3092, 3093, 3094, 3095, 3096, 3097, 3098, 3099, 3100, 3101, 3102, 3103, 3104, 3105, 3106, 3107, 3108, 3109, 3110, 3111, 3112, 3113, 3114, 3115, 3116, 3117, 3118, 3119, 3120, 3121, 3122, 3123, 3124, 3125, 3126, 3127, 3128]\n",
      "For structure_2, staples with the indexes 66, 50, 26 were removed.\n",
      "Removed bases: [4416, 4417, 4418, 4419, 4420, 4421, 4422, 4423, 4424, 4425, 4426, 4427, 4428, 4429, 4430, 4431, 4432, 4433, 4434, 4435, 4436, 3996, 3997, 3998, 3999, 4000, 4001, 4002, 4003, 4004, 4005, 4006, 4007, 4008, 4009, 4010, 4011, 4012, 4013, 4014, 4015, 4016, 4017, 4018, 4019, 4020, 4021, 4022, 4023, 4024, 4025, 4026, 4027, 4028, 4029, 4030, 3129, 3130, 3131, 3132, 3133, 3134, 3135, 3136, 3137, 3138, 3139, 3140, 3141, 3142, 3143, 3144, 3145, 3146, 3147, 3148, 3149, 3150, 3151, 3152, 3153, 3154, 3155, 3156]\n",
      "For structure_3, staples with the indexes 66, 50, 27 were removed.\n",
      "Removed bases: [4416, 4417, 4418, 4419, 4420, 4421, 4422, 4423, 4424, 4425, 4426, 4427, 4428, 4429, 4430, 4431, 4432, 4433, 4434, 4435, 4436, 3996, 3997, 3998, 3999, 4000, 4001, 4002, 4003, 4004, 4005, 4006, 4007, 4008, 4009, 4010, 4011, 4012, 4013, 4014, 4015, 4016, 4017, 4018, 4019, 4020, 4021, 4022, 4023, 4024, 4025, 4026, 4027, 4028, 4029, 4030, 3157, 3158, 3159, 3160, 3161, 3162, 3163, 3164, 3165, 3166, 3167, 3168, 3169, 3170, 3171, 3172, 3173, 3174, 3175, 3176, 3177, 3178, 3179, 3180, 3181, 3182, 3183, 3184, 3185, 3186, 3187, 3188, 3189, 3190, 3191, 3192, 3193, 3194, 3195, 3196, 3197, 3198]\n",
      "For structure_4, staples with the indexes 66, 24, 25 were removed.\n",
      "Removed bases: [4416, 4417, 4418, 4419, 4420, 4421, 4422, 4423, 4424, 4425, 4426, 4427, 4428, 4429, 4430, 4431, 4432, 4433, 4434, 4435, 4436, 3059, 3060, 3061, 3062, 3063, 3064, 3065, 3066, 3067, 3068, 3069, 3070, 3071, 3072, 3073, 3074, 3075, 3076, 3077, 3078, 3079, 3080, 3081, 3082, 3083, 3084, 3085, 3086, 3087, 3088, 3089, 3090, 3091, 3092, 3093, 3094, 3095, 3096, 3097, 3098, 3099, 3100, 3101, 3102, 3103, 3104, 3105, 3106, 3107, 3108, 3109, 3110, 3111, 3112, 3113, 3114, 3115, 3116, 3117, 3118, 3119, 3120, 3121, 3122, 3123, 3124, 3125, 3126, 3127, 3128]\n",
      "For structure_5, staples with the indexes 66, 24, 26 were removed.\n",
      "Removed bases: [4416, 4417, 4418, 4419, 4420, 4421, 4422, 4423, 4424, 4425, 4426, 4427, 4428, 4429, 4430, 4431, 4432, 4433, 4434, 4435, 4436, 3059, 3060, 3061, 3062, 3063, 3064, 3065, 3066, 3067, 3068, 3069, 3070, 3071, 3072, 3073, 3074, 3075, 3076, 3077, 3078, 3079, 3080, 3081, 3082, 3083, 3084, 3085, 3086, 3129, 3130, 3131, 3132, 3133, 3134, 3135, 3136, 3137, 3138, 3139, 3140, 3141, 3142, 3143, 3144, 3145, 3146, 3147, 3148, 3149, 3150, 3151, 3152, 3153, 3154, 3155, 3156]\n",
      "For structure_6, staples with the indexes 66, 24, 27 were removed.\n",
      "Removed bases: [4416, 4417, 4418, 4419, 4420, 4421, 4422, 4423, 4424, 4425, 4426, 4427, 4428, 4429, 4430, 4431, 4432, 4433, 4434, 4435, 4436, 3059, 3060, 3061, 3062, 3063, 3064, 3065, 3066, 3067, 3068, 3069, 3070, 3071, 3072, 3073, 3074, 3075, 3076, 3077, 3078, 3079, 3080, 3081, 3082, 3083, 3084, 3085, 3086, 3157, 3158, 3159, 3160, 3161, 3162, 3163, 3164, 3165, 3166, 3167, 3168, 3169, 3170, 3171, 3172, 3173, 3174, 3175, 3176, 3177, 3178, 3179, 3180, 3181, 3182, 3183, 3184, 3185, 3186, 3187, 3188, 3189, 3190, 3191, 3192, 3193, 3194, 3195, 3196, 3197, 3198]\n",
      "For structure_7, staples with the indexes 66, 25, 26 were removed.\n",
      "Removed bases: [4416, 4417, 4418, 4419, 4420, 4421, 4422, 4423, 4424, 4425, 4426, 4427, 4428, 4429, 4430, 4431, 4432, 4433, 4434, 4435, 4436, 3087, 3088, 3089, 3090, 3091, 3092, 3093, 3094, 3095, 3096, 3097, 3098, 3099, 3100, 3101, 3102, 3103, 3104, 3105, 3106, 3107, 3108, 3109, 3110, 3111, 3112, 3113, 3114, 3115, 3116, 3117, 3118, 3119, 3120, 3121, 3122, 3123, 3124, 3125, 3126, 3127, 3128, 3129, 3130, 3131, 3132, 3133, 3134, 3135, 3136, 3137, 3138, 3139, 3140, 3141, 3142, 3143, 3144, 3145, 3146, 3147, 3148, 3149, 3150, 3151, 3152, 3153, 3154, 3155, 3156]\n",
      "For structure_8, staples with the indexes 66, 25, 27 were removed.\n",
      "Removed bases: [4416, 4417, 4418, 4419, 4420, 4421, 4422, 4423, 4424, 4425, 4426, 4427, 4428, 4429, 4430, 4431, 4432, 4433, 4434, 4435, 4436, 3087, 3088, 3089, 3090, 3091, 3092, 3093, 3094, 3095, 3096, 3097, 3098, 3099, 3100, 3101, 3102, 3103, 3104, 3105, 3106, 3107, 3108, 3109, 3110, 3111, 3112, 3113, 3114, 3115, 3116, 3117, 3118, 3119, 3120, 3121, 3122, 3123, 3124, 3125, 3126, 3127, 3128, 3157, 3158, 3159, 3160, 3161, 3162, 3163, 3164, 3165, 3166, 3167, 3168, 3169, 3170, 3171, 3172, 3173, 3174, 3175, 3176, 3177, 3178, 3179, 3180, 3181, 3182, 3183, 3184, 3185, 3186, 3187, 3188, 3189, 3190, 3191, 3192, 3193, 3194, 3195, 3196, 3197, 3198]\n",
      "For structure_9, staples with the indexes 66, 26, 27 were removed.\n",
      "Removed bases: [4416, 4417, 4418, 4419, 4420, 4421, 4422, 4423, 4424, 4425, 4426, 4427, 4428, 4429, 4430, 4431, 4432, 4433, 4434, 4435, 4436, 3129, 3130, 3131, 3132, 3133, 3134, 3135, 3136, 3137, 3138, 3139, 3140, 3141, 3142, 3143, 3144, 3145, 3146, 3147, 3148, 3149, 3150, 3151, 3152, 3153, 3154, 3155, 3156, 3157, 3158, 3159, 3160, 3161, 3162, 3163, 3164, 3165, 3166, 3167, 3168, 3169, 3170, 3171, 3172, 3173, 3174, 3175, 3176, 3177, 3178, 3179, 3180, 3181, 3182, 3183, 3184, 3185, 3186, 3187, 3188, 3189, 3190, 3191, 3192, 3193, 3194, 3195, 3196, 3197, 3198]\n",
      "For structure_10, staples with the indexes 50, 24, 25 were removed.\n",
      "Removed bases: [3996, 3997, 3998, 3999, 4000, 4001, 4002, 4003, 4004, 4005, 4006, 4007, 4008, 4009, 4010, 4011, 4012, 4013, 4014, 4015, 4016, 4017, 4018, 4019, 4020, 4021, 4022, 4023, 4024, 4025, 4026, 4027, 4028, 4029, 4030, 3059, 3060, 3061, 3062, 3063, 3064, 3065, 3066, 3067, 3068, 3069, 3070, 3071, 3072, 3073, 3074, 3075, 3076, 3077, 3078, 3079, 3080, 3081, 3082, 3083, 3084, 3085, 3086, 3087, 3088, 3089, 3090, 3091, 3092, 3093, 3094, 3095, 3096, 3097, 3098, 3099, 3100, 3101, 3102, 3103, 3104, 3105, 3106, 3107, 3108, 3109, 3110, 3111, 3112, 3113, 3114, 3115, 3116, 3117, 3118, 3119, 3120, 3121, 3122, 3123, 3124, 3125, 3126, 3127, 3128]\n",
      "For structure_11, staples with the indexes 50, 24, 26 were removed.\n",
      "Removed bases: [3996, 3997, 3998, 3999, 4000, 4001, 4002, 4003, 4004, 4005, 4006, 4007, 4008, 4009, 4010, 4011, 4012, 4013, 4014, 4015, 4016, 4017, 4018, 4019, 4020, 4021, 4022, 4023, 4024, 4025, 4026, 4027, 4028, 4029, 4030, 3059, 3060, 3061, 3062, 3063, 3064, 3065, 3066, 3067, 3068, 3069, 3070, 3071, 3072, 3073, 3074, 3075, 3076, 3077, 3078, 3079, 3080, 3081, 3082, 3083, 3084, 3085, 3086, 3129, 3130, 3131, 3132, 3133, 3134, 3135, 3136, 3137, 3138, 3139, 3140, 3141, 3142, 3143, 3144, 3145, 3146, 3147, 3148, 3149, 3150, 3151, 3152, 3153, 3154, 3155, 3156]\n",
      "For structure_12, staples with the indexes 50, 24, 27 were removed.\n",
      "Removed bases: [3996, 3997, 3998, 3999, 4000, 4001, 4002, 4003, 4004, 4005, 4006, 4007, 4008, 4009, 4010, 4011, 4012, 4013, 4014, 4015, 4016, 4017, 4018, 4019, 4020, 4021, 4022, 4023, 4024, 4025, 4026, 4027, 4028, 4029, 4030, 3059, 3060, 3061, 3062, 3063, 3064, 3065, 3066, 3067, 3068, 3069, 3070, 3071, 3072, 3073, 3074, 3075, 3076, 3077, 3078, 3079, 3080, 3081, 3082, 3083, 3084, 3085, 3086, 3157, 3158, 3159, 3160, 3161, 3162, 3163, 3164, 3165, 3166, 3167, 3168, 3169, 3170, 3171, 3172, 3173, 3174, 3175, 3176, 3177, 3178, 3179, 3180, 3181, 3182, 3183, 3184, 3185, 3186, 3187, 3188, 3189, 3190, 3191, 3192, 3193, 3194, 3195, 3196, 3197, 3198]\n",
      "For structure_13, staples with the indexes 50, 25, 26 were removed.\n",
      "Removed bases: [3996, 3997, 3998, 3999, 4000, 4001, 4002, 4003, 4004, 4005, 4006, 4007, 4008, 4009, 4010, 4011, 4012, 4013, 4014, 4015, 4016, 4017, 4018, 4019, 4020, 4021, 4022, 4023, 4024, 4025, 4026, 4027, 4028, 4029, 4030, 3087, 3088, 3089, 3090, 3091, 3092, 3093, 3094, 3095, 3096, 3097, 3098, 3099, 3100, 3101, 3102, 3103, 3104, 3105, 3106, 3107, 3108, 3109, 3110, 3111, 3112, 3113, 3114, 3115, 3116, 3117, 3118, 3119, 3120, 3121, 3122, 3123, 3124, 3125, 3126, 3127, 3128, 3129, 3130, 3131, 3132, 3133, 3134, 3135, 3136, 3137, 3138, 3139, 3140, 3141, 3142, 3143, 3144, 3145, 3146, 3147, 3148, 3149, 3150, 3151, 3152, 3153, 3154, 3155, 3156]\n",
      "For structure_14, staples with the indexes 50, 25, 27 were removed.\n",
      "Removed bases: [3996, 3997, 3998, 3999, 4000, 4001, 4002, 4003, 4004, 4005, 4006, 4007, 4008, 4009, 4010, 4011, 4012, 4013, 4014, 4015, 4016, 4017, 4018, 4019, 4020, 4021, 4022, 4023, 4024, 4025, 4026, 4027, 4028, 4029, 4030, 3087, 3088, 3089, 3090, 3091, 3092, 3093, 3094, 3095, 3096, 3097, 3098, 3099, 3100, 3101, 3102, 3103, 3104, 3105, 3106, 3107, 3108, 3109, 3110, 3111, 3112, 3113, 3114, 3115, 3116, 3117, 3118, 3119, 3120, 3121, 3122, 3123, 3124, 3125, 3126, 3127, 3128, 3157, 3158, 3159, 3160, 3161, 3162, 3163, 3164, 3165, 3166, 3167, 3168, 3169, 3170, 3171, 3172, 3173, 3174, 3175, 3176, 3177, 3178, 3179, 3180, 3181, 3182, 3183, 3184, 3185, 3186, 3187, 3188, 3189, 3190, 3191, 3192, 3193, 3194, 3195, 3196, 3197, 3198]\n",
      "For structure_15, staples with the indexes 50, 26, 27 were removed.\n",
      "Removed bases: [3996, 3997, 3998, 3999, 4000, 4001, 4002, 4003, 4004, 4005, 4006, 4007, 4008, 4009, 4010, 4011, 4012, 4013, 4014, 4015, 4016, 4017, 4018, 4019, 4020, 4021, 4022, 4023, 4024, 4025, 4026, 4027, 4028, 4029, 4030, 3129, 3130, 3131, 3132, 3133, 3134, 3135, 3136, 3137, 3138, 3139, 3140, 3141, 3142, 3143, 3144, 3145, 3146, 3147, 3148, 3149, 3150, 3151, 3152, 3153, 3154, 3155, 3156, 3157, 3158, 3159, 3160, 3161, 3162, 3163, 3164, 3165, 3166, 3167, 3168, 3169, 3170, 3171, 3172, 3173, 3174, 3175, 3176, 3177, 3178, 3179, 3180, 3181, 3182, 3183, 3184, 3185, 3186, 3187, 3188, 3189, 3190, 3191, 3192, 3193, 3194, 3195, 3196, 3197, 3198]\n",
      "For structure_16, staples with the indexes 24, 25, 26 were removed.\n",
      "Removed bases: [3059, 3060, 3061, 3062, 3063, 3064, 3065, 3066, 3067, 3068, 3069, 3070, 3071, 3072, 3073, 3074, 3075, 3076, 3077, 3078, 3079, 3080, 3081, 3082, 3083, 3084, 3085, 3086, 3087, 3088, 3089, 3090, 3091, 3092, 3093, 3094, 3095, 3096, 3097, 3098, 3099, 3100, 3101, 3102, 3103, 3104, 3105, 3106, 3107, 3108, 3109, 3110, 3111, 3112, 3113, 3114, 3115, 3116, 3117, 3118, 3119, 3120, 3121, 3122, 3123, 3124, 3125, 3126, 3127, 3128, 3129, 3130, 3131, 3132, 3133, 3134, 3135, 3136, 3137, 3138, 3139, 3140, 3141, 3142, 3143, 3144, 3145, 3146, 3147, 3148, 3149, 3150, 3151, 3152, 3153, 3154, 3155, 3156]\n",
      "For structure_17, staples with the indexes 24, 25, 27 were removed.\n",
      "Removed bases: [3059, 3060, 3061, 3062, 3063, 3064, 3065, 3066, 3067, 3068, 3069, 3070, 3071, 3072, 3073, 3074, 3075, 3076, 3077, 3078, 3079, 3080, 3081, 3082, 3083, 3084, 3085, 3086, 3087, 3088, 3089, 3090, 3091, 3092, 3093, 3094, 3095, 3096, 3097, 3098, 3099, 3100, 3101, 3102, 3103, 3104, 3105, 3106, 3107, 3108, 3109, 3110, 3111, 3112, 3113, 3114, 3115, 3116, 3117, 3118, 3119, 3120, 3121, 3122, 3123, 3124, 3125, 3126, 3127, 3128, 3157, 3158, 3159, 3160, 3161, 3162, 3163, 3164, 3165, 3166, 3167, 3168, 3169, 3170, 3171, 3172, 3173, 3174, 3175, 3176, 3177, 3178, 3179, 3180, 3181, 3182, 3183, 3184, 3185, 3186, 3187, 3188, 3189, 3190, 3191, 3192, 3193, 3194, 3195, 3196, 3197, 3198]\n",
      "For structure_18, staples with the indexes 24, 26, 27 were removed.\n",
      "Removed bases: [3059, 3060, 3061, 3062, 3063, 3064, 3065, 3066, 3067, 3068, 3069, 3070, 3071, 3072, 3073, 3074, 3075, 3076, 3077, 3078, 3079, 3080, 3081, 3082, 3083, 3084, 3085, 3086, 3129, 3130, 3131, 3132, 3133, 3134, 3135, 3136, 3137, 3138, 3139, 3140, 3141, 3142, 3143, 3144, 3145, 3146, 3147, 3148, 3149, 3150, 3151, 3152, 3153, 3154, 3155, 3156, 3157, 3158, 3159, 3160, 3161, 3162, 3163, 3164, 3165, 3166, 3167, 3168, 3169, 3170, 3171, 3172, 3173, 3174, 3175, 3176, 3177, 3178, 3179, 3180, 3181, 3182, 3183, 3184, 3185, 3186, 3187, 3188, 3189, 3190, 3191, 3192, 3193, 3194, 3195, 3196, 3197, 3198]\n",
      "For structure_19, staples with the indexes 25, 26, 27 were removed.\n",
      "Removed bases: [3087, 3088, 3089, 3090, 3091, 3092, 3093, 3094, 3095, 3096, 3097, 3098, 3099, 3100, 3101, 3102, 3103, 3104, 3105, 3106, 3107, 3108, 3109, 3110, 3111, 3112, 3113, 3114, 3115, 3116, 3117, 3118, 3119, 3120, 3121, 3122, 3123, 3124, 3125, 3126, 3127, 3128, 3129, 3130, 3131, 3132, 3133, 3134, 3135, 3136, 3137, 3138, 3139, 3140, 3141, 3142, 3143, 3144, 3145, 3146, 3147, 3148, 3149, 3150, 3151, 3152, 3153, 3154, 3155, 3156, 3157, 3158, 3159, 3160, 3161, 3162, 3163, 3164, 3165, 3166, 3167, 3168, 3169, 3170, 3171, 3172, 3173, 3174, 3175, 3176, 3177, 3178, 3179, 3180, 3181, 3182, 3183, 3184, 3185, 3186, 3187, 3188, 3189, 3190, 3191, 3192, 3193, 3194, 3195, 3196, 3197, 3198]\n"
     ]
    }
   ],
   "source": [
    "summaries = stored_removed_strands(initial_dna_structure, removed_strands_info)\n",
    "for summary, bases in summaries:\n",
    "    print(summary)\n",
    "    print(\"Removed bases:\", bases)"
   ]
  },
  {
   "cell_type": "code",
   "execution_count": 12,
   "metadata": {},
   "outputs": [
    {
     "name": "stdout",
     "output_type": "stream",
     "text": [
      "new structures: [<ipy_oxdna.dna_structure.DNAStructure object at 0x77e12c24b0d0>, <ipy_oxdna.dna_structure.DNAStructure object at 0x77e0c2bc2b50>, <ipy_oxdna.dna_structure.DNAStructure object at 0x77e0c2bc2bd0>, <ipy_oxdna.dna_structure.DNAStructure object at 0x77e0c2bc2cd0>, <ipy_oxdna.dna_structure.DNAStructure object at 0x77e0c2bc2d90>, <ipy_oxdna.dna_structure.DNAStructure object at 0x77e0c2bc2f50>, <ipy_oxdna.dna_structure.DNAStructure object at 0x77e0c2bc3010>, <ipy_oxdna.dna_structure.DNAStructure object at 0x77e0c2bc3110>, <ipy_oxdna.dna_structure.DNAStructure object at 0x77e0c2bc32d0>, <ipy_oxdna.dna_structure.DNAStructure object at 0x77e0c2bc2ed0>, <ipy_oxdna.dna_structure.DNAStructure object at 0x77e0c2bc3390>, <ipy_oxdna.dna_structure.DNAStructure object at 0x77e0c2bc3550>, <ipy_oxdna.dna_structure.DNAStructure object at 0x77e0c2bc35d0>, <ipy_oxdna.dna_structure.DNAStructure object at 0x77e0c2bc36d0>, <ipy_oxdna.dna_structure.DNAStructure object at 0x77e0c2bc3790>, <ipy_oxdna.dna_structure.DNAStructure object at 0x77e0c2bc3890>, <ipy_oxdna.dna_structure.DNAStructure object at 0x77e0c2bc3990>, <ipy_oxdna.dna_structure.DNAStructure object at 0x77e0c2bc3b10>, <ipy_oxdna.dna_structure.DNAStructure object at 0x77e0c2bc3bd0>, <ipy_oxdna.dna_structure.DNAStructure object at 0x77e0c2bc3c90>]\n"
     ]
    }
   ],
   "source": [
    "new_structures = []\n",
    "new_structures.extend(mutants)\n",
    "print('new structures:', new_structures)"
   ]
  },
  {
   "cell_type": "code",
   "execution_count": 13,
   "metadata": {},
   "outputs": [],
   "source": [
    "num_mutants = len(new_structures)"
   ]
  },
  {
   "cell_type": "code",
   "execution_count": 14,
   "metadata": {},
   "outputs": [
    {
     "name": "stdout",
     "output_type": "stream",
     "text": [
      "\u001b[32mExported DNA structures.\u001b[0m\n",
      "\u001b[34mExport paths: [{'structure_id': 0, 'dat_path': '/home/ava/MetaBackbone_project/Metabackbone-scripts/structure_files/six_helix_oxdna_file/modified/modified_2268_bp/structure_0/1512_bp_rmv_staples.dat', 'top_path': '/home/ava/MetaBackbone_project/Metabackbone-scripts/structure_files/six_helix_oxdna_file/modified/modified_2268_bp/structure_0/1512_bp_rmv_staples.top'}, {'structure_id': 1, 'dat_path': '/home/ava/MetaBackbone_project/Metabackbone-scripts/structure_files/six_helix_oxdna_file/modified/modified_2268_bp/structure_1/1512_bp_rmv_staples.dat', 'top_path': '/home/ava/MetaBackbone_project/Metabackbone-scripts/structure_files/six_helix_oxdna_file/modified/modified_2268_bp/structure_1/1512_bp_rmv_staples.top'}, {'structure_id': 2, 'dat_path': '/home/ava/MetaBackbone_project/Metabackbone-scripts/structure_files/six_helix_oxdna_file/modified/modified_2268_bp/structure_2/1512_bp_rmv_staples.dat', 'top_path': '/home/ava/MetaBackbone_project/Metabackbone-scripts/structure_files/six_helix_oxdna_file/modified/modified_2268_bp/structure_2/1512_bp_rmv_staples.top'}, {'structure_id': 3, 'dat_path': '/home/ava/MetaBackbone_project/Metabackbone-scripts/structure_files/six_helix_oxdna_file/modified/modified_2268_bp/structure_3/1512_bp_rmv_staples.dat', 'top_path': '/home/ava/MetaBackbone_project/Metabackbone-scripts/structure_files/six_helix_oxdna_file/modified/modified_2268_bp/structure_3/1512_bp_rmv_staples.top'}, {'structure_id': 4, 'dat_path': '/home/ava/MetaBackbone_project/Metabackbone-scripts/structure_files/six_helix_oxdna_file/modified/modified_2268_bp/structure_4/1512_bp_rmv_staples.dat', 'top_path': '/home/ava/MetaBackbone_project/Metabackbone-scripts/structure_files/six_helix_oxdna_file/modified/modified_2268_bp/structure_4/1512_bp_rmv_staples.top'}, {'structure_id': 5, 'dat_path': '/home/ava/MetaBackbone_project/Metabackbone-scripts/structure_files/six_helix_oxdna_file/modified/modified_2268_bp/structure_5/1512_bp_rmv_staples.dat', 'top_path': '/home/ava/MetaBackbone_project/Metabackbone-scripts/structure_files/six_helix_oxdna_file/modified/modified_2268_bp/structure_5/1512_bp_rmv_staples.top'}, {'structure_id': 6, 'dat_path': '/home/ava/MetaBackbone_project/Metabackbone-scripts/structure_files/six_helix_oxdna_file/modified/modified_2268_bp/structure_6/1512_bp_rmv_staples.dat', 'top_path': '/home/ava/MetaBackbone_project/Metabackbone-scripts/structure_files/six_helix_oxdna_file/modified/modified_2268_bp/structure_6/1512_bp_rmv_staples.top'}, {'structure_id': 7, 'dat_path': '/home/ava/MetaBackbone_project/Metabackbone-scripts/structure_files/six_helix_oxdna_file/modified/modified_2268_bp/structure_7/1512_bp_rmv_staples.dat', 'top_path': '/home/ava/MetaBackbone_project/Metabackbone-scripts/structure_files/six_helix_oxdna_file/modified/modified_2268_bp/structure_7/1512_bp_rmv_staples.top'}, {'structure_id': 8, 'dat_path': '/home/ava/MetaBackbone_project/Metabackbone-scripts/structure_files/six_helix_oxdna_file/modified/modified_2268_bp/structure_8/1512_bp_rmv_staples.dat', 'top_path': '/home/ava/MetaBackbone_project/Metabackbone-scripts/structure_files/six_helix_oxdna_file/modified/modified_2268_bp/structure_8/1512_bp_rmv_staples.top'}, {'structure_id': 9, 'dat_path': '/home/ava/MetaBackbone_project/Metabackbone-scripts/structure_files/six_helix_oxdna_file/modified/modified_2268_bp/structure_9/1512_bp_rmv_staples.dat', 'top_path': '/home/ava/MetaBackbone_project/Metabackbone-scripts/structure_files/six_helix_oxdna_file/modified/modified_2268_bp/structure_9/1512_bp_rmv_staples.top'}, {'structure_id': 10, 'dat_path': '/home/ava/MetaBackbone_project/Metabackbone-scripts/structure_files/six_helix_oxdna_file/modified/modified_2268_bp/structure_10/1512_bp_rmv_staples.dat', 'top_path': '/home/ava/MetaBackbone_project/Metabackbone-scripts/structure_files/six_helix_oxdna_file/modified/modified_2268_bp/structure_10/1512_bp_rmv_staples.top'}, {'structure_id': 11, 'dat_path': '/home/ava/MetaBackbone_project/Metabackbone-scripts/structure_files/six_helix_oxdna_file/modified/modified_2268_bp/structure_11/1512_bp_rmv_staples.dat', 'top_path': '/home/ava/MetaBackbone_project/Metabackbone-scripts/structure_files/six_helix_oxdna_file/modified/modified_2268_bp/structure_11/1512_bp_rmv_staples.top'}, {'structure_id': 12, 'dat_path': '/home/ava/MetaBackbone_project/Metabackbone-scripts/structure_files/six_helix_oxdna_file/modified/modified_2268_bp/structure_12/1512_bp_rmv_staples.dat', 'top_path': '/home/ava/MetaBackbone_project/Metabackbone-scripts/structure_files/six_helix_oxdna_file/modified/modified_2268_bp/structure_12/1512_bp_rmv_staples.top'}, {'structure_id': 13, 'dat_path': '/home/ava/MetaBackbone_project/Metabackbone-scripts/structure_files/six_helix_oxdna_file/modified/modified_2268_bp/structure_13/1512_bp_rmv_staples.dat', 'top_path': '/home/ava/MetaBackbone_project/Metabackbone-scripts/structure_files/six_helix_oxdna_file/modified/modified_2268_bp/structure_13/1512_bp_rmv_staples.top'}, {'structure_id': 14, 'dat_path': '/home/ava/MetaBackbone_project/Metabackbone-scripts/structure_files/six_helix_oxdna_file/modified/modified_2268_bp/structure_14/1512_bp_rmv_staples.dat', 'top_path': '/home/ava/MetaBackbone_project/Metabackbone-scripts/structure_files/six_helix_oxdna_file/modified/modified_2268_bp/structure_14/1512_bp_rmv_staples.top'}, {'structure_id': 15, 'dat_path': '/home/ava/MetaBackbone_project/Metabackbone-scripts/structure_files/six_helix_oxdna_file/modified/modified_2268_bp/structure_15/1512_bp_rmv_staples.dat', 'top_path': '/home/ava/MetaBackbone_project/Metabackbone-scripts/structure_files/six_helix_oxdna_file/modified/modified_2268_bp/structure_15/1512_bp_rmv_staples.top'}, {'structure_id': 16, 'dat_path': '/home/ava/MetaBackbone_project/Metabackbone-scripts/structure_files/six_helix_oxdna_file/modified/modified_2268_bp/structure_16/1512_bp_rmv_staples.dat', 'top_path': '/home/ava/MetaBackbone_project/Metabackbone-scripts/structure_files/six_helix_oxdna_file/modified/modified_2268_bp/structure_16/1512_bp_rmv_staples.top'}, {'structure_id': 17, 'dat_path': '/home/ava/MetaBackbone_project/Metabackbone-scripts/structure_files/six_helix_oxdna_file/modified/modified_2268_bp/structure_17/1512_bp_rmv_staples.dat', 'top_path': '/home/ava/MetaBackbone_project/Metabackbone-scripts/structure_files/six_helix_oxdna_file/modified/modified_2268_bp/structure_17/1512_bp_rmv_staples.top'}, {'structure_id': 18, 'dat_path': '/home/ava/MetaBackbone_project/Metabackbone-scripts/structure_files/six_helix_oxdna_file/modified/modified_2268_bp/structure_18/1512_bp_rmv_staples.dat', 'top_path': '/home/ava/MetaBackbone_project/Metabackbone-scripts/structure_files/six_helix_oxdna_file/modified/modified_2268_bp/structure_18/1512_bp_rmv_staples.top'}, {'structure_id': 19, 'dat_path': '/home/ava/MetaBackbone_project/Metabackbone-scripts/structure_files/six_helix_oxdna_file/modified/modified_2268_bp/structure_19/1512_bp_rmv_staples.dat', 'top_path': '/home/ava/MetaBackbone_project/Metabackbone-scripts/structure_files/six_helix_oxdna_file/modified/modified_2268_bp/structure_19/1512_bp_rmv_staples.top'}]\u001b[0m\n"
     ]
    }
   ],
   "source": [
    "export_paths = export_dna_structures(new_structures, base_path)\n",
    "print_colored(\"Exported DNA structures.\", colors['green'])\n",
    "print_colored(f\"Export paths: {export_paths}\", colors['blue'])"
   ]
  },
  {
   "cell_type": "code",
   "execution_count": 15,
   "metadata": {},
   "outputs": [
    {
     "name": "stdout",
     "output_type": "stream",
     "text": [
      "Bases in sphere: [96, 97, 98, 99, 100, 101, 348, 349, 350, 351, 352, 353, 467, 468, 474, 475, 476, 477, 736, 737, 738, 739, 740, 741, 1974, 1975, 1976, 1977, 1978, 1979, 2250, 2251, 2252, 2253, 2254, 2259, 2260, 3065, 3066, 3067, 3068, 3098, 3099, 3100, 3101, 3117, 3118, 3119, 3120, 3121, 3122, 3126, 3127, 3128, 3148, 3149, 3157, 3158, 4005, 4006, 4007, 4008, 4009, 4010, 4011, 4016, 4017, 4018, 4019, 4020, 4021, 4416, 4417, 4418, 4419, 4420]\n",
      "Base to strand mapping: {96: 2, 97: 2, 98: 2, 99: 2, 100: 2, 101: 2, 348: 2, 349: 2, 350: 2, 351: 2, 352: 2, 353: 2, 467: 2, 468: 2, 474: 2, 475: 2, 476: 2, 477: 2, 736: 2, 737: 2, 738: 2, 739: 2, 740: 2, 741: 2, 1974: 2, 1975: 2, 1976: 2, 1977: 2, 1978: 2, 1979: 2, 2250: 2, 2251: 2, 2252: 2, 2253: 2, 2254: 2, 2259: 2, 2260: 2, 3065: 24, 3066: 24, 3067: 24, 3068: 24, 3098: 25, 3099: 25, 3100: 25, 3101: 25, 3117: 25, 3118: 25, 3119: 25, 3120: 25, 3121: 25, 3122: 25, 3126: 25, 3127: 25, 3128: 25, 3148: 26, 3149: 26, 3157: 27, 3158: 27, 4005: 50, 4006: 50, 4007: 50, 4008: 50, 4009: 50, 4010: 50, 4011: 50, 4016: 50, 4017: 50, 4018: 50, 4019: 50, 4020: 50, 4021: 50, 4416: 66, 4417: 66, 4418: 66, 4419: 66, 4420: 66}\n",
      "Strands in sphere to consider for removal: {66, 50, 24, 25, 26, 27}\n",
      "Removed strands: 66, 50, 24\n",
      "Removed strands: 66, 50, 25\n",
      "Removed strands: 66, 50, 26\n",
      "Removed strands: 66, 50, 27\n",
      "Removed strands: 66, 24, 25\n",
      "Removed strands: 66, 24, 26\n",
      "Removed strands: 66, 24, 27\n",
      "Removed strands: 66, 25, 26\n",
      "Removed strands: 66, 25, 27\n",
      "Removed strands: 66, 26, 27\n",
      "Removed strands: 50, 24, 25\n",
      "Removed strands: 50, 24, 26\n",
      "Removed strands: 50, 24, 27\n",
      "Removed strands: 50, 25, 26\n",
      "Removed strands: 50, 25, 27\n",
      "Removed strands: 50, 26, 27\n",
      "Removed strands: 24, 25, 26\n",
      "Removed strands: 24, 25, 27\n",
      "Removed strands: 24, 26, 27\n",
      "Removed strands: 25, 26, 27\n",
      "Total number of new structures created: 20\n",
      "removed_strands_info_all: [(66, 50, 24), (66, 50, 25), (66, 50, 26), (66, 50, 27), (66, 24, 25), (66, 24, 26), (66, 24, 27), (66, 25, 26), (66, 25, 27), (66, 26, 27), (50, 24, 25), (50, 24, 26), (50, 24, 27), (50, 25, 26), (50, 25, 27), (50, 26, 27), (24, 25, 26), (24, 25, 27), (24, 26, 27), (25, 26, 27)]\n"
     ]
    }
   ],
   "source": [
    "removed_strands_info_all = []\n",
    "mutants, removed_strands_info = remove_three_strands_in_sphere(initial_dna_structure, point_pos, sphere_radius)\n",
    "removed_strands_info_all.extend(removed_strands_info)\n",
    "print('removed_strands_info_all:', removed_strands_info_all)"
   ]
  },
  {
   "cell_type": "code",
   "execution_count": 16,
   "metadata": {},
   "outputs": [],
   "source": [
    "def evolutionary_algorithm(initial_dna_structure, left_indices, right_indices, num_iterations, num_best_structures, desired_angle, tolerance, base_path, sim_base_path, sphere_radius):\n",
    "    current_structures = [initial_dna_structure]\n",
    "    removed_staples_dict = {}  # Dictionary to store removed staples info\n",
    "    \n",
    "    for iteration in range(num_iterations):\n",
    "        print_colored(f\"Iteration {iteration + 1}\", colors['yellow'])\n",
    "        \n",
    "        new_structures = []\n",
    "        removed_strands_info_all = []\n",
    "        \n",
    "        for dna in current_structures:\n",
    "            # Step 1: Find a valid point in the DNA structure\n",
    "            print_colored(\"Step 1: Finding a valid point in the DNA structure...\", colors['red'])\n",
    "            longest_strand, _ = find_longest_strand(dna)\n",
    "            point_pos = find_valid_point(dna, left_indices, right_indices, longest_strand)\n",
    "            print_colored(f'Found a valid point in the DNA structure: {point_pos}', colors['green'])\n",
    "            \n",
    "            # Step 2: Remove three random staples within a sphere around the point\n",
    "            print_colored(\"Step 2: Removing three random staples within a sphere around the point...\", colors['blue'])\n",
    "            mutants, removed_strands_info = remove_three_strands_in_sphere(dna, point_pos, sphere_radius)\n",
    "            removed_strands_info_all.extend(removed_strands_info)\n",
    "            new_structures.extend(mutants)\n",
    "            print_colored(f\"Removed three random staples. Number of new structures: {len(mutants)}\", colors['cyan'])\n",
    "        \n",
    "        # Determine the number of mutants based on the number of new structures created\n",
    "        num_mutants = len(new_structures)\n",
    "        print_colored(f\"Iteration {iteration + 1}: Generated {num_mutants} new structures.\", colors['blue'])\n",
    "        \n",
    "        # Step 3: Export new DNA structures\n",
    "        print_colored(\"Step 3: Exporting DNA structures...\", colors['magenta'])\n",
    "        export_paths = export_dna_structures(new_structures, base_path)\n",
    "        # print_colored(\"Exported DNA structures.\", colors['yellow'])\n",
    "        print_colored(f\"Export paths: {export_paths}\", colors['yellow'])\n",
    "        \n",
    "        # Step 4: Simulate each modified structure\n",
    "        print_colored(\"Step 4: Simulating each modified structure...\", colors['green'])\n",
    "        for export_path in export_paths:\n",
    "            structure_id = export_path['structure_id']\n",
    "            print_colored(f\"Starting simulations for structure {structure_id}...\", colors['red'])\n",
    "            run_simulations_for_structure(structure_id, base_path, sim_base_path, rel_parameters, eq_parameters, prod_parameters)\n",
    "            # print_colored(f\"Simulations for structure {structure_id} completed.\", colors['blue'])\n",
    "        \n",
    "        # Step 5: Measure the angle at the joint for each mutant after simulation\n",
    "        print_colored(\"Step 5: Measuring the angle at the joint for each mutant after simulation...\", colors['cyan'])\n",
    "        angles = []\n",
    "        for export_path in export_paths:\n",
    "            structure_id = export_path['structure_id']\n",
    "            simulated_dna = load_simulated_structure(structure_id, sim_base_path)\n",
    "            \n",
    "            bend_angle = find_bend_angle(simulated_dna, left_indices, right_indices, longest_strand, point_pos)\n",
    "            angles.append((structure_id, bend_angle))\n",
    "            print_colored(f\"Measured bend angle for structure {structure_id}: {bend_angle} degrees.\", colors['magenta'])\n",
    "        \n",
    "        # Step 6: Evaluate fitness\n",
    "        print_colored(\"Step 6: Evaluating fitness of mutants...\", colors['yellow'])\n",
    "        fitness_scores = evaluate_fitness([angle for _, angle in angles], desired_angle, tolerance)\n",
    "        # print_colored(\"Evaluated fitness of mutants.\", colors['red'])\n",
    "        print_colored(f\"Fitness scores: {fitness_scores}\", colors['green'])\n",
    "        \n",
    "        # Step 7: Select the best mutants based on fitness scores\n",
    "        print_colored(\"Step 7: Selecting the best mutants based on fitness scores...\", colors['blue'])\n",
    "        sorted_mutants = sorted(zip(angles, fitness_scores), key=lambda x: x[1])\n",
    "        \n",
    "        # Display results for all structures\n",
    "        print_colored(\"Results for all structures:\", colors['cyan'])\n",
    "        sorted_mutants = sorted(zip(angles, fitness_scores), key=lambda x: x[1])  # Ensure mutants are sorted by fitness score\n",
    "\n",
    "        for (structure_id, angle), fitness_score in sorted_mutants:\n",
    "            print_colored(f\"Structure ID: {structure_id}, Bend Angle: {angle}, Fitness Score: {fitness_score}\", colors['magenta'])\n",
    "\n",
    "        # Select the best mutants\n",
    "        best_mutants_info = sorted_mutants[:num_best_structures]  # Select top structures\n",
    "        best_mutants = [new_structures[angles.index((structure_id, angle))] for (structure_id, angle), _ in best_mutants_info]\n",
    "        best_angles = [angle for (_, angle), _ in best_mutants_info]\n",
    "        best_removed_strands_info = [removed_strands_info_all[angles.index((structure_id, angle))] for (structure_id, angle), _ in best_mutants_info]\n",
    "\n",
    "        # Display results for the selected best structures\n",
    "        print_colored(f\"Selected the best {num_best_structures} mutants:\", colors['yellow'])\n",
    "        for i, ((structure_id, angle), fitness_score) in enumerate(best_mutants_info):\n",
    "            print_colored(f\"Selected Structure {i}: Structure ID: {structure_id}, Bend Angle: {angle}, Fitness Score: {fitness_score}\", colors['red'])\n",
    "\n",
    "        # Step 8: Store the removed staples info for the best mutants\n",
    "        print_colored(\"Step 8: Storing the removed staples info for the best mutants...\", colors['green'])\n",
    "        for i, (structure_id, _) in enumerate(sorted_mutants[:num_best_structures]):\n",
    "            removed_staples_dict[structure_id] = best_removed_strands_info[i]\n",
    "            summary, removed_bases = stored_removed_strands(initial_dna_structure, [best_removed_strands_info[i]])[0]\n",
    "            print_colored(f\"Structure ID: {structure_id} - {summary}\", colors['blue'])\n",
    "            print_colored(f\"Removed bases: {removed_bases}\", colors['cyan'])\n",
    "        \n",
    "        # Check if the best angle is within the desired tolerance\n",
    "        if any(abs(angle - desired_angle) <= tolerance for angle in best_angles):\n",
    "            print_colored(\"Desired angle achieved within tolerance. Stopping evolution process.\", colors['magenta'])\n",
    "            break\n",
    "        \n",
    "        # Step 9: Update the current structures with the best mutants for the next iteration\n",
    "        print_colored(\"Step 9: Updating the current structures with the best mutants for the next iteration...\", colors['yellow'])\n",
    "        current_structures = best_mutants\n",
    "        print_colored(f\"Updated current structures for iteration {iteration + 1}:\", colors['red'])\n",
    "        for i, structure in enumerate(current_structures):\n",
    "            print_colored(f\"Structure {i}: {structure}\", colors['blue'])\n",
    "            \n",
    "        \n",
    "        # Step 10: Update left and right indices for each selected structure\n",
    "        print_colored(\"Step 10: Updating left and right indices for each selected structure...\", colors['green'])\n",
    "        new_indices_list = update_indices_for_selected_structures(current_structures, initial_dna_structure, left_indices, right_indices, best_removed_strands_info)\n",
    "        left_indices, right_indices = new_indices_list[0]\n",
    "        print_colored(f\"Updated left indices: {left_indices}\", colors['cyan'])\n",
    "        print_colored(f\"Updated right indices: {right_indices}\", colors['cyan'])\n",
    "    \n",
    "    print_colored(\"Evolutionary algorithm completed.\", colors['red'])\n",
    "                     "
   ]
  },
  {
   "cell_type": "code",
   "execution_count": 17,
   "metadata": {},
   "outputs": [
    {
     "name": "stdout",
     "output_type": "stream",
     "text": [
      "\u001b[33mIteration 1\u001b[0m\n",
      "\u001b[31mStep 1: Finding a valid point in the DNA structure...\u001b[0m\n",
      "\u001b[32mFound a valid point in the DNA structure: [  0.03102638  -0.02926586 -14.21867599]\u001b[0m\n",
      "\u001b[34mStep 2: Removing three random staples within a sphere around the point...\u001b[0m\n",
      "Bases in sphere: [825, 831, 832, 833, 834, 835, 1135, 1136, 1137, 1138, 1139, 1198, 1199, 1200, 1201, 1202, 1203, 1514, 1515, 1516, 1517, 1518, 1519, 1524, 1588, 1589, 1590, 1591, 1592, 1880, 1881, 1882, 1883, 1884, 1885, 2779, 2780, 2787, 2788, 2789, 2790, 2795, 2796, 2797, 2805, 2806, 2809, 2810, 2811, 2815, 2816, 2817, 2818, 2819, 2826, 2827, 2828, 2829, 2830, 2831, 3821, 3822, 3823, 3824, 3886, 3887, 3888, 3889, 3890, 4321, 4322, 4323, 4324, 4325, 4326]\n",
      "Base to strand mapping: {825: 2, 831: 2, 832: 2, 833: 2, 834: 2, 835: 2, 1135: 2, 1136: 2, 1137: 2, 1138: 2, 1139: 2, 1198: 2, 1199: 2, 1200: 2, 1201: 2, 1202: 2, 1203: 2, 1514: 2, 1515: 2, 1516: 2, 1517: 2, 1518: 2, 1519: 2, 1524: 2, 1588: 2, 1589: 2, 1590: 2, 1591: 2, 1592: 2, 1880: 2, 1881: 2, 1882: 2, 1883: 2, 1884: 2, 1885: 2, 2779: 16, 2780: 16, 2787: 16, 2788: 16, 2789: 16, 2790: 16, 2795: 16, 2796: 16, 2797: 16, 2805: 16, 2806: 16, 2809: 17, 2810: 17, 2811: 17, 2815: 17, 2816: 17, 2817: 17, 2818: 17, 2819: 17, 2826: 17, 2827: 17, 2828: 17, 2829: 17, 2830: 17, 2831: 17, 3821: 45, 3822: 45, 3823: 45, 3824: 45, 3886: 46, 3887: 46, 3888: 46, 3889: 46, 3890: 46, 4321: 61, 4322: 61, 4323: 61, 4324: 61, 4325: 61, 4326: 61}\n",
      "Strands in sphere to consider for removal: {45, 46, 16, 17, 61}\n",
      "Removed strands: 45, 46, 16\n",
      "Removed strands: 45, 46, 17\n",
      "Removed strands: 45, 46, 61\n",
      "Removed strands: 45, 16, 17\n",
      "Removed strands: 45, 16, 61\n",
      "Removed strands: 45, 17, 61\n",
      "Removed strands: 46, 16, 17\n",
      "Removed strands: 46, 16, 61\n",
      "Removed strands: 46, 17, 61\n",
      "Removed strands: 16, 17, 61\n",
      "Total number of new structures created: 10\n",
      "\u001b[36mRemoved three random staples. Number of new structures: 10\u001b[0m\n",
      "\u001b[34mIteration 1: Generated 10 new structures.\u001b[0m\n",
      "\u001b[35mStep 3: Exporting DNA structures...\u001b[0m\n",
      "\u001b[33mExport paths: [{'structure_id': 0, 'dat_path': '/home/ava/MetaBackbone_project/Metabackbone-scripts/structure_files/six_helix_oxdna_file/modified/modified_2268_bp/structure_0/1512_bp_rmv_staples.dat', 'top_path': '/home/ava/MetaBackbone_project/Metabackbone-scripts/structure_files/six_helix_oxdna_file/modified/modified_2268_bp/structure_0/1512_bp_rmv_staples.top'}, {'structure_id': 1, 'dat_path': '/home/ava/MetaBackbone_project/Metabackbone-scripts/structure_files/six_helix_oxdna_file/modified/modified_2268_bp/structure_1/1512_bp_rmv_staples.dat', 'top_path': '/home/ava/MetaBackbone_project/Metabackbone-scripts/structure_files/six_helix_oxdna_file/modified/modified_2268_bp/structure_1/1512_bp_rmv_staples.top'}, {'structure_id': 2, 'dat_path': '/home/ava/MetaBackbone_project/Metabackbone-scripts/structure_files/six_helix_oxdna_file/modified/modified_2268_bp/structure_2/1512_bp_rmv_staples.dat', 'top_path': '/home/ava/MetaBackbone_project/Metabackbone-scripts/structure_files/six_helix_oxdna_file/modified/modified_2268_bp/structure_2/1512_bp_rmv_staples.top'}, {'structure_id': 3, 'dat_path': '/home/ava/MetaBackbone_project/Metabackbone-scripts/structure_files/six_helix_oxdna_file/modified/modified_2268_bp/structure_3/1512_bp_rmv_staples.dat', 'top_path': '/home/ava/MetaBackbone_project/Metabackbone-scripts/structure_files/six_helix_oxdna_file/modified/modified_2268_bp/structure_3/1512_bp_rmv_staples.top'}, {'structure_id': 4, 'dat_path': '/home/ava/MetaBackbone_project/Metabackbone-scripts/structure_files/six_helix_oxdna_file/modified/modified_2268_bp/structure_4/1512_bp_rmv_staples.dat', 'top_path': '/home/ava/MetaBackbone_project/Metabackbone-scripts/structure_files/six_helix_oxdna_file/modified/modified_2268_bp/structure_4/1512_bp_rmv_staples.top'}, {'structure_id': 5, 'dat_path': '/home/ava/MetaBackbone_project/Metabackbone-scripts/structure_files/six_helix_oxdna_file/modified/modified_2268_bp/structure_5/1512_bp_rmv_staples.dat', 'top_path': '/home/ava/MetaBackbone_project/Metabackbone-scripts/structure_files/six_helix_oxdna_file/modified/modified_2268_bp/structure_5/1512_bp_rmv_staples.top'}, {'structure_id': 6, 'dat_path': '/home/ava/MetaBackbone_project/Metabackbone-scripts/structure_files/six_helix_oxdna_file/modified/modified_2268_bp/structure_6/1512_bp_rmv_staples.dat', 'top_path': '/home/ava/MetaBackbone_project/Metabackbone-scripts/structure_files/six_helix_oxdna_file/modified/modified_2268_bp/structure_6/1512_bp_rmv_staples.top'}, {'structure_id': 7, 'dat_path': '/home/ava/MetaBackbone_project/Metabackbone-scripts/structure_files/six_helix_oxdna_file/modified/modified_2268_bp/structure_7/1512_bp_rmv_staples.dat', 'top_path': '/home/ava/MetaBackbone_project/Metabackbone-scripts/structure_files/six_helix_oxdna_file/modified/modified_2268_bp/structure_7/1512_bp_rmv_staples.top'}, {'structure_id': 8, 'dat_path': '/home/ava/MetaBackbone_project/Metabackbone-scripts/structure_files/six_helix_oxdna_file/modified/modified_2268_bp/structure_8/1512_bp_rmv_staples.dat', 'top_path': '/home/ava/MetaBackbone_project/Metabackbone-scripts/structure_files/six_helix_oxdna_file/modified/modified_2268_bp/structure_8/1512_bp_rmv_staples.top'}, {'structure_id': 9, 'dat_path': '/home/ava/MetaBackbone_project/Metabackbone-scripts/structure_files/six_helix_oxdna_file/modified/modified_2268_bp/structure_9/1512_bp_rmv_staples.dat', 'top_path': '/home/ava/MetaBackbone_project/Metabackbone-scripts/structure_files/six_helix_oxdna_file/modified/modified_2268_bp/structure_9/1512_bp_rmv_staples.top'}]\u001b[0m\n",
      "\u001b[32mStep 4: Simulating each modified structure...\u001b[0m\n",
      "\u001b[31mStarting simulations for structure 0...\u001b[0m\n",
      "Running: relaxed\n",
      "Run time: 4.436951883999427\n",
      "Finished: relaxed\n"
     ]
    },
    {
     "name": "stderr",
     "output_type": "stream",
     "text": [
      "INFO: Lists updated 1 times (every ~100.000000 steps)\n",
      "INFO: Aggregated I/O statistics (set debug=1 for file-wise information)\n",
      "\t  2.253 MB written to files\n",
      "\t 96.000  B written to stdout/stderr\n",
      "\tFor a total of    0.546 MB/s\n",
      "\n"
     ]
    },
    {
     "name": "stdout",
     "output_type": "stream",
     "text": [
      "All queued simulations finished in: 10.520825346000493\n",
      "\u001b[32mRelaxation simulation for structure 0 completed.\u001b[0m\n",
      "Running: eq\n",
      "Run time: 0.5732486279994191\n",
      "Finished: eq\n"
     ]
    },
    {
     "name": "stderr",
     "output_type": "stream",
     "text": [
      "INFO: Lists updated 4 times (every ~250.000000 steps)\n",
      "INFO: Aggregated I/O statistics (set debug=1 for file-wise information)\n",
      "\t  1.181 MB written to files\n",
      "\t 62.000  B written to stdout/stderr\n",
      "\tFor a total of      3.9 MB/s\n",
      "\n"
     ]
    },
    {
     "name": "stdout",
     "output_type": "stream",
     "text": [
      "All queued simulations finished in: 10.507368104999841\n",
      "\u001b[32mEquilibration simulation for structure 0 completed.\u001b[0m\n",
      "Running: prod\n",
      "Run time: 0.5806139979995351\n",
      "Finished: prod\n"
     ]
    },
    {
     "name": "stderr",
     "output_type": "stream",
     "text": [
      "INFO: Lists updated 4 times (every ~250.000000 steps)\n",
      "INFO: Aggregated I/O statistics (set debug=1 for file-wise information)\n",
      "\t  1.183 MB written to files\n",
      "\t 62.000  B written to stdout/stderr\n",
      "\tFor a total of     4.02 MB/s\n",
      "\n"
     ]
    },
    {
     "name": "stdout",
     "output_type": "stream",
     "text": [
      "All queued simulations finished in: 10.520952588\n",
      "\u001b[32mProduction simulation for structure 0 completed.\u001b[0m\n",
      "\u001b[36mAll simulations for structure 0 completed.\n",
      "\u001b[0m\n",
      "\u001b[31mStarting simulations for structure 1...\u001b[0m\n",
      "Running: relaxed\n",
      "Run time: 4.370498763000796\n",
      "Finished: relaxed\n"
     ]
    },
    {
     "name": "stderr",
     "output_type": "stream",
     "text": [
      "INFO: Lists updated 1 times (every ~100.000000 steps)\n",
      "INFO: Aggregated I/O statistics (set debug=1 for file-wise information)\n",
      "\t  2.246 MB written to files\n",
      "\t 96.000  B written to stdout/stderr\n",
      "\tFor a total of    0.554 MB/s\n",
      "\n"
     ]
    },
    {
     "name": "stdout",
     "output_type": "stream",
     "text": [
      "All queued simulations finished in: 10.509585353000148\n",
      "\u001b[32mRelaxation simulation for structure 1 completed.\u001b[0m\n",
      "Running: eq\n",
      "Run time: 0.5714099639990309\n",
      "Finished: eq\n"
     ]
    },
    {
     "name": "stderr",
     "output_type": "stream",
     "text": [
      "INFO: Lists updated 4 times (every ~250.000000 steps)\n",
      "INFO: Aggregated I/O statistics (set debug=1 for file-wise information)\n",
      "\t  1.177 MB written to files\n",
      "\t 62.000  B written to stdout/stderr\n",
      "\tFor a total of     4.03 MB/s\n",
      "\n"
     ]
    },
    {
     "name": "stdout",
     "output_type": "stream",
     "text": [
      "All queued simulations finished in: 10.519842605999656\n",
      "\u001b[32mEquilibration simulation for structure 1 completed.\u001b[0m\n",
      "Running: prod\n",
      "Run time: 0.5834380639989831\n",
      "Finished: prod\n"
     ]
    },
    {
     "name": "stderr",
     "output_type": "stream",
     "text": [
      "INFO: Lists updated 3 times (every ~333.333333 steps)\n",
      "INFO: Aggregated I/O statistics (set debug=1 for file-wise information)\n",
      "\t  1.180 MB written to files\n",
      "\t 62.000  B written to stdout/stderr\n",
      "\tFor a total of     3.93 MB/s\n",
      "\n"
     ]
    },
    {
     "name": "stdout",
     "output_type": "stream",
     "text": [
      "All queued simulations finished in: 10.522325103000185\n",
      "\u001b[32mProduction simulation for structure 1 completed.\u001b[0m\n",
      "\u001b[36mAll simulations for structure 1 completed.\n",
      "\u001b[0m\n",
      "\u001b[31mStarting simulations for structure 2...\u001b[0m\n",
      "Running: relaxed\n",
      "Run time: 4.4385565080010565\n",
      "Finished: relaxed\n"
     ]
    },
    {
     "name": "stderr",
     "output_type": "stream",
     "text": [
      "INFO: Lists updated 1 times (every ~100.000000 steps)\n",
      "INFO: Aggregated I/O statistics (set debug=1 for file-wise information)\n",
      "\t  2.257 MB written to files\n",
      "\t 96.000  B written to stdout/stderr\n",
      "\tFor a total of    0.548 MB/s\n",
      "\n"
     ]
    },
    {
     "name": "stdout",
     "output_type": "stream",
     "text": [
      "All queued simulations finished in: 10.508448550001049\n",
      "\u001b[32mRelaxation simulation for structure 2 completed.\u001b[0m\n",
      "Running: eq\n",
      "Run time: 0.5608751090003352\n",
      "Finished: eq\n"
     ]
    },
    {
     "name": "stderr",
     "output_type": "stream",
     "text": [
      "INFO: Lists updated 3 times (every ~333.333333 steps)\n",
      "INFO: Aggregated I/O statistics (set debug=1 for file-wise information)\n",
      "\t  1.183 MB written to files\n",
      "\t 62.000  B written to stdout/stderr\n",
      "\tFor a total of     4.08 MB/s\n",
      "\n"
     ]
    },
    {
     "name": "stdout",
     "output_type": "stream",
     "text": [
      "All queued simulations finished in: 10.507079520000843\n",
      "\u001b[32mEquilibration simulation for structure 2 completed.\u001b[0m\n",
      "Running: prod\n",
      "Run time: 0.563712144999954\n",
      "Finished: prod\n"
     ]
    },
    {
     "name": "stderr",
     "output_type": "stream",
     "text": [
      "INFO: Lists updated 3 times (every ~333.333333 steps)\n",
      "INFO: Aggregated I/O statistics (set debug=1 for file-wise information)\n",
      "\t  1.185 MB written to files\n",
      "\t 62.000  B written to stdout/stderr\n",
      "\tFor a total of     4.22 MB/s\n",
      "\n"
     ]
    },
    {
     "name": "stdout",
     "output_type": "stream",
     "text": [
      "All queued simulations finished in: 10.522238030000153\n",
      "\u001b[32mProduction simulation for structure 2 completed.\u001b[0m\n",
      "\u001b[36mAll simulations for structure 2 completed.\n",
      "\u001b[0m\n",
      "\u001b[31mStarting simulations for structure 3...\u001b[0m\n",
      "Running: relaxed\n",
      "Run time: 4.386383766999643\n",
      "Finished: relaxed\n"
     ]
    },
    {
     "name": "stderr",
     "output_type": "stream",
     "text": [
      "INFO: Lists updated 1 times (every ~100.000000 steps)\n",
      "INFO: Aggregated I/O statistics (set debug=1 for file-wise information)\n",
      "\t  2.251 MB written to files\n",
      "\t 96.000  B written to stdout/stderr\n",
      "\tFor a total of    0.553 MB/s\n",
      "\n"
     ]
    },
    {
     "name": "stdout",
     "output_type": "stream",
     "text": [
      "All queued simulations finished in: 10.507282226000825\n",
      "\u001b[32mRelaxation simulation for structure 3 completed.\u001b[0m\n",
      "Running: eq\n",
      "Run time: 0.5906860209997831\n",
      "Finished: eq\n"
     ]
    },
    {
     "name": "stderr",
     "output_type": "stream",
     "text": [
      "INFO: Lists updated 3 times (every ~333.333333 steps)\n",
      "INFO: Aggregated I/O statistics (set debug=1 for file-wise information)\n",
      "\t  1.179 MB written to files\n",
      "\t 62.000  B written to stdout/stderr\n",
      "\tFor a total of     3.88 MB/s\n",
      "\n"
     ]
    },
    {
     "name": "stdout",
     "output_type": "stream",
     "text": [
      "All queued simulations finished in: 10.511179991999597\n",
      "\u001b[32mEquilibration simulation for structure 3 completed.\u001b[0m\n",
      "Running: prod\n",
      "Run time: 0.5682238079989474\n",
      "Finished: prod\n"
     ]
    },
    {
     "name": "stderr",
     "output_type": "stream",
     "text": [
      "INFO: Lists updated 4 times (every ~250.000000 steps)\n",
      "INFO: Aggregated I/O statistics (set debug=1 for file-wise information)\n",
      "\t  1.181 MB written to files\n",
      "\t 62.000  B written to stdout/stderr\n",
      "\tFor a total of     4.02 MB/s\n",
      "\n"
     ]
    },
    {
     "name": "stdout",
     "output_type": "stream",
     "text": [
      "All queued simulations finished in: 10.50681615800022\n",
      "\u001b[32mProduction simulation for structure 3 completed.\u001b[0m\n",
      "\u001b[36mAll simulations for structure 3 completed.\n",
      "\u001b[0m\n",
      "\u001b[31mStarting simulations for structure 4...\u001b[0m\n",
      "Running: relaxed\n",
      "Run time: 4.447471032000976\n",
      "Finished: relaxed\n"
     ]
    },
    {
     "name": "stderr",
     "output_type": "stream",
     "text": [
      "INFO: Lists updated 1 times (every ~100.000000 steps)\n",
      "INFO: Aggregated I/O statistics (set debug=1 for file-wise information)\n",
      "\t  2.261 MB written to files\n",
      "\t 96.000  B written to stdout/stderr\n",
      "\tFor a total of    0.546 MB/s\n",
      "\n"
     ]
    },
    {
     "name": "stdout",
     "output_type": "stream",
     "text": [
      "All queued simulations finished in: 10.512168336999821\n",
      "\u001b[32mRelaxation simulation for structure 4 completed.\u001b[0m\n",
      "Running: eq\n",
      "Run time: 0.582774292999602\n",
      "Finished: eq\n"
     ]
    },
    {
     "name": "stderr",
     "output_type": "stream",
     "text": [
      "INFO: Lists updated 3 times (every ~333.333333 steps)\n",
      "INFO: Aggregated I/O statistics (set debug=1 for file-wise information)\n",
      "\t  1.185 MB written to files\n",
      "\t 62.000  B written to stdout/stderr\n",
      "\tFor a total of     3.98 MB/s\n",
      "\n"
     ]
    },
    {
     "name": "stdout",
     "output_type": "stream",
     "text": [
      "All queued simulations finished in: 10.523210539000502\n",
      "\u001b[32mEquilibration simulation for structure 4 completed.\u001b[0m\n",
      "Running: prod\n",
      "Run time: 0.5980259489988384\n",
      "Finished: prod\n"
     ]
    },
    {
     "name": "stderr",
     "output_type": "stream",
     "text": [
      "INFO: Lists updated 3 times (every ~333.333333 steps)\n",
      "INFO: Aggregated I/O statistics (set debug=1 for file-wise information)\n",
      "\t  1.187 MB written to files\n",
      "\t 62.000  B written to stdout/stderr\n",
      "\tFor a total of     3.91 MB/s\n",
      "\n"
     ]
    },
    {
     "name": "stdout",
     "output_type": "stream",
     "text": [
      "All queued simulations finished in: 10.521190886000113\n",
      "\u001b[32mProduction simulation for structure 4 completed.\u001b[0m\n",
      "\u001b[36mAll simulations for structure 4 completed.\n",
      "\u001b[0m\n",
      "\u001b[31mStarting simulations for structure 5...\u001b[0m\n",
      "Running: relaxed\n",
      "Run time: 4.633383849999518\n",
      "Finished: relaxed\n"
     ]
    },
    {
     "name": "stderr",
     "output_type": "stream",
     "text": [
      "INFO: Lists updated 1 times (every ~100.000000 steps)\n",
      "INFO: Aggregated I/O statistics (set debug=1 for file-wise information)\n",
      "\t  2.255 MB written to files\n",
      "\t 96.000  B written to stdout/stderr\n",
      "\tFor a total of    0.523 MB/s\n",
      "\n"
     ]
    },
    {
     "name": "stdout",
     "output_type": "stream",
     "text": [
      "All queued simulations finished in: 10.508440310999504\n",
      "\u001b[32mRelaxation simulation for structure 5 completed.\u001b[0m\n",
      "Running: eq\n",
      "Run time: 0.5505635310000798\n",
      "Finished: eq\n"
     ]
    },
    {
     "name": "stderr",
     "output_type": "stream",
     "text": [
      "INFO: Lists updated 3 times (every ~333.333333 steps)\n",
      "INFO: Aggregated I/O statistics (set debug=1 for file-wise information)\n",
      "\t  1.181 MB written to files\n",
      "\t 62.000  B written to stdout/stderr\n",
      "\tFor a total of     4.12 MB/s\n",
      "\n"
     ]
    },
    {
     "name": "stdout",
     "output_type": "stream",
     "text": [
      "All queued simulations finished in: 10.50756091799849\n",
      "\u001b[32mEquilibration simulation for structure 5 completed.\u001b[0m\n",
      "Running: prod\n",
      "Run time: 0.5387274069998966\n",
      "Finished: prod\n"
     ]
    },
    {
     "name": "stderr",
     "output_type": "stream",
     "text": [
      "INFO: Lists updated 3 times (every ~333.333333 steps)\n",
      "INFO: Aggregated I/O statistics (set debug=1 for file-wise information)\n",
      "\t  1.183 MB written to files\n",
      "\t 62.000  B written to stdout/stderr\n",
      "\tFor a total of     4.37 MB/s\n",
      "\n"
     ]
    },
    {
     "name": "stdout",
     "output_type": "stream",
     "text": [
      "All queued simulations finished in: 10.506805660999817\n",
      "\u001b[32mProduction simulation for structure 5 completed.\u001b[0m\n",
      "\u001b[36mAll simulations for structure 5 completed.\n",
      "\u001b[0m\n",
      "\u001b[31mStarting simulations for structure 6...\u001b[0m\n",
      "Running: relaxed\n",
      "Run time: 4.444286497999201\n",
      "Finished: relaxed\n"
     ]
    },
    {
     "name": "stderr",
     "output_type": "stream",
     "text": [
      "INFO: Lists updated 1 times (every ~100.000000 steps)\n",
      "INFO: Aggregated I/O statistics (set debug=1 for file-wise information)\n",
      "\t  2.248 MB written to files\n",
      "\t 96.000  B written to stdout/stderr\n",
      "\tFor a total of    0.546 MB/s\n",
      "\n"
     ]
    },
    {
     "name": "stdout",
     "output_type": "stream",
     "text": [
      "All queued simulations finished in: 10.51122624600066\n",
      "\u001b[32mRelaxation simulation for structure 6 completed.\u001b[0m\n",
      "Running: eq\n",
      "Run time: 0.5574454849993344\n",
      "Finished: eq\n"
     ]
    },
    {
     "name": "stderr",
     "output_type": "stream",
     "text": [
      "INFO: Lists updated 3 times (every ~333.333333 steps)\n",
      "INFO: Aggregated I/O statistics (set debug=1 for file-wise information)\n",
      "\t  1.179 MB written to files\n",
      "\t 62.000  B written to stdout/stderr\n",
      "\tFor a total of     4.11 MB/s\n",
      "\n"
     ]
    },
    {
     "name": "stdout",
     "output_type": "stream",
     "text": [
      "All queued simulations finished in: 10.505877349000002\n",
      "\u001b[32mEquilibration simulation for structure 6 completed.\u001b[0m\n",
      "Running: prod\n",
      "Run time: 0.5349792619999789\n",
      "Finished: prod\n"
     ]
    },
    {
     "name": "stderr",
     "output_type": "stream",
     "text": [
      "INFO: Lists updated 3 times (every ~333.333333 steps)\n",
      "INFO: Aggregated I/O statistics (set debug=1 for file-wise information)\n",
      "\t  1.182 MB written to files\n",
      "\t 62.000  B written to stdout/stderr\n",
      "\tFor a total of     4.42 MB/s\n",
      "\n"
     ]
    },
    {
     "name": "stdout",
     "output_type": "stream",
     "text": [
      "All queued simulations finished in: 10.508785748999799\n",
      "\u001b[32mProduction simulation for structure 6 completed.\u001b[0m\n",
      "\u001b[36mAll simulations for structure 6 completed.\n",
      "\u001b[0m\n",
      "\u001b[31mStarting simulations for structure 7...\u001b[0m\n",
      "Running: relaxed\n",
      "Run time: 4.468003571999361\n",
      "Finished: relaxed\n"
     ]
    },
    {
     "name": "stderr",
     "output_type": "stream",
     "text": [
      "INFO: Lists updated 1 times (every ~100.000000 steps)\n",
      "INFO: Aggregated I/O statistics (set debug=1 for file-wise information)\n",
      "\t  2.260 MB written to files\n",
      "\t 96.000  B written to stdout/stderr\n",
      "\tFor a total of    0.545 MB/s\n",
      "\n"
     ]
    },
    {
     "name": "stdout",
     "output_type": "stream",
     "text": [
      "All queued simulations finished in: 10.508996431000924\n",
      "\u001b[32mRelaxation simulation for structure 7 completed.\u001b[0m\n",
      "Running: eq\n",
      "Run time: 0.5732759729999088\n",
      "Finished: eq\n"
     ]
    },
    {
     "name": "stderr",
     "output_type": "stream",
     "text": [
      "INFO: Lists updated 3 times (every ~333.333333 steps)\n",
      "INFO: Aggregated I/O statistics (set debug=1 for file-wise information)\n",
      "\t  1.185 MB written to files\n",
      "\t 62.000  B written to stdout/stderr\n",
      "\tFor a total of     4.13 MB/s\n",
      "\n"
     ]
    },
    {
     "name": "stdout",
     "output_type": "stream",
     "text": [
      "All queued simulations finished in: 10.513876711000194\n",
      "\u001b[32mEquilibration simulation for structure 7 completed.\u001b[0m\n",
      "Running: prod\n",
      "Run time: 0.565618392000033\n",
      "Finished: prod\n"
     ]
    },
    {
     "name": "stderr",
     "output_type": "stream",
     "text": [
      "INFO: Lists updated 3 times (every ~333.333333 steps)\n",
      "INFO: Aggregated I/O statistics (set debug=1 for file-wise information)\n",
      "\t  1.187 MB written to files\n",
      "\t 62.000  B written to stdout/stderr\n",
      "\tFor a total of     4.12 MB/s\n",
      "\n"
     ]
    },
    {
     "name": "stdout",
     "output_type": "stream",
     "text": [
      "All queued simulations finished in: 10.521126776000528\n",
      "\u001b[32mProduction simulation for structure 7 completed.\u001b[0m\n",
      "\u001b[36mAll simulations for structure 7 completed.\n",
      "\u001b[0m\n",
      "\u001b[31mStarting simulations for structure 8...\u001b[0m\n",
      "Running: relaxed\n",
      "Run time: 4.371758053001031\n",
      "Finished: relaxed\n"
     ]
    },
    {
     "name": "stderr",
     "output_type": "stream",
     "text": [
      "INFO: Lists updated 1 times (every ~100.000000 steps)\n",
      "INFO: Aggregated I/O statistics (set debug=1 for file-wise information)\n",
      "\t  2.253 MB written to files\n",
      "\t 96.000  B written to stdout/stderr\n",
      "\tFor a total of    0.556 MB/s\n",
      "\n"
     ]
    },
    {
     "name": "stdout",
     "output_type": "stream",
     "text": [
      "All queued simulations finished in: 10.511840201999803\n",
      "\u001b[32mRelaxation simulation for structure 8 completed.\u001b[0m\n",
      "Running: eq\n",
      "Run time: 0.5330664519988204\n",
      "Finished: eq\n"
     ]
    },
    {
     "name": "stderr",
     "output_type": "stream",
     "text": [
      "INFO: Lists updated 3 times (every ~333.333333 steps)\n",
      "INFO: Aggregated I/O statistics (set debug=1 for file-wise information)\n",
      "\t  1.181 MB written to files\n",
      "\t 62.000  B written to stdout/stderr\n",
      "\tFor a total of     4.35 MB/s\n",
      "\n"
     ]
    },
    {
     "name": "stdout",
     "output_type": "stream",
     "text": [
      "All queued simulations finished in: 10.506608267000047\n",
      "\u001b[32mEquilibration simulation for structure 8 completed.\u001b[0m\n",
      "Running: prod\n",
      "Run time: 0.5261513400000695\n",
      "Finished: prod\n"
     ]
    },
    {
     "name": "stderr",
     "output_type": "stream",
     "text": [
      "INFO: Lists updated 3 times (every ~333.333333 steps)\n",
      "INFO: Aggregated I/O statistics (set debug=1 for file-wise information)\n",
      "\t  1.184 MB written to files\n",
      "\t 62.000  B written to stdout/stderr\n",
      "\tFor a total of     4.45 MB/s\n",
      "\n"
     ]
    },
    {
     "name": "stdout",
     "output_type": "stream",
     "text": [
      "All queued simulations finished in: 10.506727803998729\n",
      "\u001b[32mProduction simulation for structure 8 completed.\u001b[0m\n",
      "\u001b[36mAll simulations for structure 8 completed.\n",
      "\u001b[0m\n",
      "\u001b[31mStarting simulations for structure 9...\u001b[0m\n",
      "Running: relaxed\n",
      "Run time: 4.35018112599937\n",
      "Finished: relaxed\n"
     ]
    },
    {
     "name": "stderr",
     "output_type": "stream",
     "text": [
      "INFO: Lists updated 1 times (every ~100.000000 steps)\n",
      "INFO: Aggregated I/O statistics (set debug=1 for file-wise information)\n",
      "\t  2.256 MB written to files\n",
      "\t 96.000  B written to stdout/stderr\n",
      "\tFor a total of    0.558 MB/s\n",
      "\n"
     ]
    },
    {
     "name": "stdout",
     "output_type": "stream",
     "text": [
      "All queued simulations finished in: 10.508590269000706\n",
      "\u001b[32mRelaxation simulation for structure 9 completed.\u001b[0m\n",
      "Running: eq\n",
      "Run time: 0.5516804759990919\n",
      "Finished: eq\n"
     ]
    },
    {
     "name": "stderr",
     "output_type": "stream",
     "text": [
      "INFO: Lists updated 3 times (every ~333.333333 steps)\n",
      "INFO: Aggregated I/O statistics (set debug=1 for file-wise information)\n",
      "\t  1.183 MB written to files\n",
      "\t 62.000  B written to stdout/stderr\n",
      "\tFor a total of     4.16 MB/s\n",
      "\n"
     ]
    },
    {
     "name": "stdout",
     "output_type": "stream",
     "text": [
      "All queued simulations finished in: 10.506511133000458\n",
      "\u001b[32mEquilibration simulation for structure 9 completed.\u001b[0m\n",
      "Running: prod\n",
      "Run time: 0.5808845310002653\n",
      "Finished: prod\n"
     ]
    },
    {
     "name": "stderr",
     "output_type": "stream",
     "text": [
      "INFO: Lists updated 3 times (every ~333.333333 steps)\n",
      "INFO: Aggregated I/O statistics (set debug=1 for file-wise information)\n",
      "\t  1.185 MB written to files\n",
      "\t 62.000  B written to stdout/stderr\n",
      "\tFor a total of     4.11 MB/s\n",
      "\n"
     ]
    },
    {
     "name": "stdout",
     "output_type": "stream",
     "text": [
      "All queued simulations finished in: 10.509413787000085\n",
      "\u001b[32mProduction simulation for structure 9 completed.\u001b[0m\n",
      "\u001b[36mAll simulations for structure 9 completed.\n",
      "\u001b[0m\n",
      "\u001b[36mStep 5: Measuring the angle at the joint for each mutant after simulation...\u001b[0m\n",
      "\u001b[35mMeasured bend angle for structure 0: 177.97812878108957 degrees.\u001b[0m\n",
      "\u001b[35mMeasured bend angle for structure 1: 170.85794512410112 degrees.\u001b[0m\n",
      "\u001b[35mMeasured bend angle for structure 2: 171.44819086110638 degrees.\u001b[0m\n",
      "\u001b[35mMeasured bend angle for structure 3: 174.7486580434886 degrees.\u001b[0m\n"
     ]
    },
    {
     "name": "stderr",
     "output_type": "stream",
     "text": [
      "INFO: Processed 0 / 1 confs\r"
     ]
    },
    {
     "name": "stdout",
     "output_type": "stream",
     "text": [
      "\u001b[35mMeasured bend angle for structure 4: 177.10288958901316 degrees.\u001b[0m\n",
      "\u001b[35mMeasured bend angle for structure 5: 172.4489651711905 degrees.\u001b[0m\n",
      "\u001b[35mMeasured bend angle for structure 6: 172.2570534331948 degrees.\u001b[0m\n",
      "\u001b[35mMeasured bend angle for structure 7: 175.7101826862466 degrees.\u001b[0m\n",
      "\u001b[35mMeasured bend angle for structure 8: 173.2445793418321 degrees.\u001b[0m\n",
      "\u001b[35mMeasured bend angle for structure 9: 174.49386717577974 degrees.\u001b[0m\n",
      "\u001b[33mStep 6: Evaluating fitness of mutants...\u001b[0m\n",
      "\u001b[32mFitness scores: [77.97812878108957, 70.85794512410112, 71.44819086110638, 74.7486580434886, 77.10288958901316, 72.44896517119051, 72.25705343319481, 75.71018268624661, 73.2445793418321, 74.49386717577974]\u001b[0m\n",
      "\u001b[34mStep 7: Selecting the best mutants based on fitness scores...\u001b[0m\n",
      "\u001b[36mResults for all structures:\u001b[0m\n",
      "\u001b[35mStructure ID: 1, Bend Angle: 170.85794512410112, Fitness Score: 70.85794512410112\u001b[0m\n",
      "\u001b[35mStructure ID: 2, Bend Angle: 171.44819086110638, Fitness Score: 71.44819086110638\u001b[0m\n",
      "\u001b[35mStructure ID: 6, Bend Angle: 172.2570534331948, Fitness Score: 72.25705343319481\u001b[0m\n",
      "\u001b[35mStructure ID: 5, Bend Angle: 172.4489651711905, Fitness Score: 72.44896517119051\u001b[0m\n",
      "\u001b[35mStructure ID: 8, Bend Angle: 173.2445793418321, Fitness Score: 73.2445793418321\u001b[0m\n",
      "\u001b[35mStructure ID: 9, Bend Angle: 174.49386717577974, Fitness Score: 74.49386717577974\u001b[0m\n",
      "\u001b[35mStructure ID: 3, Bend Angle: 174.7486580434886, Fitness Score: 74.7486580434886\u001b[0m\n",
      "\u001b[35mStructure ID: 7, Bend Angle: 175.7101826862466, Fitness Score: 75.71018268624661\u001b[0m\n",
      "\u001b[35mStructure ID: 4, Bend Angle: 177.10288958901316, Fitness Score: 77.10288958901316\u001b[0m\n",
      "\u001b[35mStructure ID: 0, Bend Angle: 177.97812878108957, Fitness Score: 77.97812878108957\u001b[0m\n",
      "\u001b[33mSelected the best 5 mutants:\u001b[0m\n",
      "\u001b[31mSelected Structure 0: Structure ID: 1, Bend Angle: 170.85794512410112, Fitness Score: 70.85794512410112\u001b[0m\n",
      "\u001b[31mSelected Structure 1: Structure ID: 2, Bend Angle: 171.44819086110638, Fitness Score: 71.44819086110638\u001b[0m\n",
      "\u001b[31mSelected Structure 2: Structure ID: 6, Bend Angle: 172.2570534331948, Fitness Score: 72.25705343319481\u001b[0m\n",
      "\u001b[31mSelected Structure 3: Structure ID: 5, Bend Angle: 172.4489651711905, Fitness Score: 72.44896517119051\u001b[0m\n",
      "\u001b[31mSelected Structure 4: Structure ID: 8, Bend Angle: 173.2445793418321, Fitness Score: 73.2445793418321\u001b[0m\n",
      "\u001b[32mStep 8: Storing the removed staples info for the best mutants...\u001b[0m\n",
      "\u001b[34mStructure ID: (1, 170.85794512410112) - For structure_0, staples with the indexes 45, 46, 17 were removed.\u001b[0m\n",
      "\u001b[36mRemoved bases: [3821, 3822, 3823, 3824, 3825, 3826, 3827, 3828, 3829, 3830, 3831, 3832, 3833, 3834, 3835, 3836, 3837, 3838, 3839, 3840, 3841, 3842, 3843, 3844, 3845, 3846, 3847, 3848, 3849, 3850, 3851, 3852, 3853, 3854, 3855, 3856, 3857, 3858, 3859, 3860, 3861, 3862, 3863, 3864, 3865, 3866, 3867, 3868, 3869, 3870, 3871, 3872, 3873, 3874, 3875, 3876, 3877, 3878, 3879, 3880, 3881, 3882, 3883, 3884, 3885, 3886, 3887, 3888, 3889, 3890, 2807, 2808, 2809, 2810, 2811, 2812, 2813, 2814, 2815, 2816, 2817, 2818, 2819, 2820, 2821, 2822, 2823, 2824, 2825, 2826, 2827, 2828, 2829, 2830, 2831, 2832, 2833, 2834, 2835, 2836, 2837, 2838, 2839, 2840, 2841, 2842, 2843, 2844, 2845, 2846, 2847, 2848]\u001b[0m\n",
      "\u001b[34mStructure ID: (2, 171.44819086110638) - For structure_0, staples with the indexes 45, 46, 61 were removed.\u001b[0m\n",
      "\u001b[36mRemoved bases: [3821, 3822, 3823, 3824, 3825, 3826, 3827, 3828, 3829, 3830, 3831, 3832, 3833, 3834, 3835, 3836, 3837, 3838, 3839, 3840, 3841, 3842, 3843, 3844, 3845, 3846, 3847, 3848, 3849, 3850, 3851, 3852, 3853, 3854, 3855, 3856, 3857, 3858, 3859, 3860, 3861, 3862, 3863, 3864, 3865, 3866, 3867, 3868, 3869, 3870, 3871, 3872, 3873, 3874, 3875, 3876, 3877, 3878, 3879, 3880, 3881, 3882, 3883, 3884, 3885, 3886, 3887, 3888, 3889, 3890, 4311, 4312, 4313, 4314, 4315, 4316, 4317, 4318, 4319, 4320, 4321, 4322, 4323, 4324, 4325, 4326, 4327, 4328, 4329, 4330, 4331]\u001b[0m\n",
      "\u001b[34mStructure ID: (6, 172.2570534331948) - For structure_0, staples with the indexes 46, 16, 17 were removed.\u001b[0m\n",
      "\u001b[36mRemoved bases: [3856, 3857, 3858, 3859, 3860, 3861, 3862, 3863, 3864, 3865, 3866, 3867, 3868, 3869, 3870, 3871, 3872, 3873, 3874, 3875, 3876, 3877, 3878, 3879, 3880, 3881, 3882, 3883, 3884, 3885, 3886, 3887, 3888, 3889, 3890, 2779, 2780, 2781, 2782, 2783, 2784, 2785, 2786, 2787, 2788, 2789, 2790, 2791, 2792, 2793, 2794, 2795, 2796, 2797, 2798, 2799, 2800, 2801, 2802, 2803, 2804, 2805, 2806, 2807, 2808, 2809, 2810, 2811, 2812, 2813, 2814, 2815, 2816, 2817, 2818, 2819, 2820, 2821, 2822, 2823, 2824, 2825, 2826, 2827, 2828, 2829, 2830, 2831, 2832, 2833, 2834, 2835, 2836, 2837, 2838, 2839, 2840, 2841, 2842, 2843, 2844, 2845, 2846, 2847, 2848]\u001b[0m\n",
      "\u001b[34mStructure ID: (5, 172.4489651711905) - For structure_0, staples with the indexes 45, 17, 61 were removed.\u001b[0m\n",
      "\u001b[36mRemoved bases: [3821, 3822, 3823, 3824, 3825, 3826, 3827, 3828, 3829, 3830, 3831, 3832, 3833, 3834, 3835, 3836, 3837, 3838, 3839, 3840, 3841, 3842, 3843, 3844, 3845, 3846, 3847, 3848, 3849, 3850, 3851, 3852, 3853, 3854, 3855, 2807, 2808, 2809, 2810, 2811, 2812, 2813, 2814, 2815, 2816, 2817, 2818, 2819, 2820, 2821, 2822, 2823, 2824, 2825, 2826, 2827, 2828, 2829, 2830, 2831, 2832, 2833, 2834, 2835, 2836, 2837, 2838, 2839, 2840, 2841, 2842, 2843, 2844, 2845, 2846, 2847, 2848, 4311, 4312, 4313, 4314, 4315, 4316, 4317, 4318, 4319, 4320, 4321, 4322, 4323, 4324, 4325, 4326, 4327, 4328, 4329, 4330, 4331]\u001b[0m\n",
      "\u001b[34mStructure ID: (8, 173.2445793418321) - For structure_0, staples with the indexes 46, 17, 61 were removed.\u001b[0m\n",
      "\u001b[36mRemoved bases: [3856, 3857, 3858, 3859, 3860, 3861, 3862, 3863, 3864, 3865, 3866, 3867, 3868, 3869, 3870, 3871, 3872, 3873, 3874, 3875, 3876, 3877, 3878, 3879, 3880, 3881, 3882, 3883, 3884, 3885, 3886, 3887, 3888, 3889, 3890, 2807, 2808, 2809, 2810, 2811, 2812, 2813, 2814, 2815, 2816, 2817, 2818, 2819, 2820, 2821, 2822, 2823, 2824, 2825, 2826, 2827, 2828, 2829, 2830, 2831, 2832, 2833, 2834, 2835, 2836, 2837, 2838, 2839, 2840, 2841, 2842, 2843, 2844, 2845, 2846, 2847, 2848, 4311, 4312, 4313, 4314, 4315, 4316, 4317, 4318, 4319, 4320, 4321, 4322, 4323, 4324, 4325, 4326, 4327, 4328, 4329, 4330, 4331]\u001b[0m\n",
      "\u001b[33mStep 9: Updating the current structures with the best mutants for the next iteration...\u001b[0m\n",
      "\u001b[31mUpdated current structures for iteration 1:\u001b[0m\n",
      "\u001b[34mStructure 0: <ipy_oxdna.dna_structure.DNAStructure object at 0x77e0c2bfdb50>\u001b[0m\n",
      "\u001b[34mStructure 1: <ipy_oxdna.dna_structure.DNAStructure object at 0x77e0c2bfca50>\u001b[0m\n",
      "\u001b[34mStructure 2: <ipy_oxdna.dna_structure.DNAStructure object at 0x77e0c2bfcc50>\u001b[0m\n",
      "\u001b[34mStructure 3: <ipy_oxdna.dna_structure.DNAStructure object at 0x77e0c2bfd910>\u001b[0m\n",
      "\u001b[34mStructure 4: <ipy_oxdna.dna_structure.DNAStructure object at 0x77e0c2bfc690>\u001b[0m\n",
      "\u001b[32mStep 10: Updating left and right indices for each selected structure...\u001b[0m\n",
      "\u001b[36mUpdated left indices: [0, 1, 2, 3, 4, 5, 6, 7, 8, 9, 10, 11, 12, 13, 14, 15, 16, 17, 18, 19, 151, 152, 153, 154, 155, 156, 157, 158, 159, 160, 161, 162, 163, 164, 165, 166, 167, 168, 169, 170, 171, 172, 173, 174, 175, 176, 177, 178, 179, 180, 181, 182, 183, 184, 185, 186, 187, 188, 189, 190, 191, 192, 193, 194, 195, 196, 197, 198, 199, 200, 201, 202, 203, 204, 205, 206, 207, 208, 209, 210, 211, 212, 213, 214, 215, 216, 217, 218, 219, 220, 221, 222, 223, 224, 225, 226, 227, 228, 229, 230, 231, 232, 233, 234, 235, 236, 237, 238, 239, 240, 241, 242, 243, 244, 245, 246, 247, 248, 249, 250, 251, 252, 253, 254, 255, 256, 257, 258, 259, 260, 261, 262, 263, 264, 265, 266, 267, 268, 269, 270, 271, 272, 273, 274, 275, 276, 277, 278, 279, 280, 281, 282, 283, 284, 285, 286, 287, 288, 289, 290, 291, 292, 293, 294, 295, 296, 297, 298, 299, 300, 525, 526, 527, 528, 529, 530, 531, 532, 533, 534, 535, 536, 537, 538, 539, 540, 541, 542, 543, 544, 545, 546, 547, 548, 549, 550, 551, 552, 553, 554, 555, 556, 557, 558, 559, 560, 561, 562, 563, 564, 565, 566, 567, 568, 569, 570, 571, 572, 573, 574, 575, 576, 577, 578, 579, 580, 581, 582, 583, 584, 585, 586, 587, 588, 589, 590, 591, 592, 593, 594, 595, 596, 597, 598, 599, 600, 601, 602, 603, 604, 605, 606, 607, 608, 609, 610, 611, 612, 613, 614, 615, 616, 617, 618, 619, 620, 621, 622, 623, 624, 625, 626, 627, 628, 629, 630, 631, 632, 633, 634, 635, 636, 637, 638, 639, 640, 641, 642, 643, 644, 645, 646, 647, 648, 649, 650, 651, 652, 653, 654, 655, 656, 657, 658, 659, 660, 661, 662, 663, 664, 665, 666, 667, 668, 669, 670, 671, 672, 673, 674, 675, 676, 677, 678, 679, 680, 681, 682, 683, 684, 2028, 2029, 2030, 2031, 2032, 2033, 2034, 2035, 2036, 2037, 2038, 2039, 2040, 2041, 2042, 2043, 2044, 2045, 2046, 2047, 2048, 2049, 2050, 2051, 2052, 2053, 2054, 2055, 2056, 2057, 2058, 2059, 2060, 2061, 2062, 2063, 2064, 2065, 2066, 2067, 2068, 2069, 2070, 2071, 2072, 2073, 2074, 2075, 2076, 2077, 2078, 2079, 2080, 2081, 2082, 2083, 2084, 2085, 2086, 2087, 2088, 2089, 2090, 2091, 2092, 2093, 2094, 2095, 2096, 2097, 2098, 2099, 2100, 2101, 2102, 2103, 2104, 2105, 2106, 2107, 2108, 2109, 2110, 2111, 2112, 2113, 2114, 2115, 2116, 2117, 2118, 2119, 2120, 2121, 2122, 2123, 2124, 2125, 2126, 2127, 2128, 2129, 2130, 2131, 2132, 2133, 2134, 2135, 2136, 2137, 2138, 2139, 2140, 2141, 2142, 2143, 2144, 2145, 2146, 2147, 2148, 2149, 2150, 2151, 2152, 2153, 2154, 2155, 2156, 2157, 2158, 2159, 2160, 2161, 2162, 2163, 2164, 2165, 2166, 2167, 2168, 2169, 2170, 2171, 2172, 2173, 2174, 2175, 2176, 2177, 2178, 2179, 2180, 2181, 2182, 2183, 2184, 2185, 2186, 2187, 2188, 2189, 2190, 2191, 2192, 2193, 2194, 2195, 2196, 2197, 2198, 2199, 2200, 2201, 2202, 2203, 2204, 2205, 3269, 3270, 3271, 3272, 3273, 3274, 3275, 3276, 3277, 3278, 3279, 3280, 3281, 3282, 3283, 3284, 3285, 3296, 3302, 3303, 3304, 3305, 3306, 3307, 3308, 3309, 3310, 3311, 3312, 3313, 3314, 3315, 3316, 3317, 3318, 3319, 3320, 3321, 3322, 3323, 3324, 3325, 3326, 3327, 3328, 3329, 3330, 3331, 3332, 3333, 3334, 3335, 3336, 3337, 3338, 3339, 3340, 3341, 3342, 3343, 3344, 3345, 3346, 3347, 3348, 3349, 3350, 3351, 3352, 3353, 3354, 3355, 3356, 3357, 3358, 3359, 3360, 3361, 3362, 3363, 3364, 3365, 3366, 3367, 3368, 3369, 3370, 3371, 3372, 3373, 3374, 3375, 3376, 3377, 3378, 3379, 3380, 3381, 3382, 3383, 3384, 3385, 3386, 3387, 3388, 3389, 3390, 3391, 3392, 3393, 3394, 3395, 3396, 3397, 3398, 3399, 3400, 3401, 3402, 3403, 3404, 3405, 3406, 3407, 3408, 3409, 3410, 3411, 3412, 3413, 3414, 3415, 3416, 3417, 3418, 3419, 3420, 3421, 3422, 3423, 3424, 3425, 3426, 3427, 3428, 3429, 3430, 3431, 3432, 3433, 3434, 3435, 3436, 3437, 3438, 3439, 3440, 3441, 3442, 3443, 3444, 3445, 3446, 3447, 3448, 3449, 3450, 3451, 3452, 3453, 3454, 3455, 3456, 3457, 3458, 3459, 3460, 3461, 3462, 3463, 3464, 3465, 3466, 3467, 3468, 3469, 3470, 3471, 3472, 3473, 3474, 3475, 3476, 3477, 3478, 3479, 3480, 3481, 3482, 3483, 3484, 3485, 3486, 3487, 3488, 3489, 3490, 3491, 3492, 3493, 3494, 3495, 3496, 3497, 3498, 3499, 3500, 3501, 3502, 3503, 3504, 3505, 3506, 3507, 3508, 3509, 3510, 3511, 3512, 3513, 3514, 3515, 3516, 3517, 3518, 3519, 3520, 3521, 3522, 3523, 3524, 3525, 3526, 3527, 3528, 3529, 3530, 3531, 3532, 3533, 3534, 3535, 3536, 3537, 3538, 3539, 3540, 3541, 3542, 3543, 3544, 3545, 3546, 3547, 3548, 3549, 3550, 3551, 3552, 3553, 3554, 3555, 3556, 3557, 3558, 3559, 3954, 3989, 3990, 3991, 3992, 3993, 3994, 3995, 3996, 3997, 3998, 3999, 4000, 4001, 4002, 4003, 4004, 4005, 4006, 4007, 4008, 4009, 4010, 4011, 4012, 4013, 4014, 4015, 4016, 4017, 4018, 4019, 4020, 4021, 4022, 4023, 4024, 4025, 4026, 4027, 4028, 4029, 4030, 4031, 4032, 4033, 4034, 4035, 4036, 4037, 4038, 4039, 4040, 4041, 4042, 4043, 4044, 4045, 4046, 4047, 4048, 4049, 4050, 4051, 4052, 4053, 4054, 4055, 4056, 4057, 4058, 4059, 4060, 4061, 4062, 4063, 4064, 4065, 4066, 4067, 4068, 4069, 4070, 4071, 4072, 4073, 4074, 4075, 4076, 4077, 4078, 4079, 4080, 4081, 4082, 4083, 4084, 4085, 4086, 4087, 4088, 4089, 4090, 4091, 4092, 4093, 4357, 4358, 4359, 4360, 4361, 4362, 4363, 4367, 4368, 4369, 4370, 4371, 4372, 4373, 4374, 4375, 4376, 4377, 4378, 4379, 4380, 4381, 4382, 4383, 4384, 4385, 4386, 4387, 4388, 4389, 4390, 4391, 4392, 4393, 4394, 4395, 4396, 4397, 4398, 4399, 4400, 4401, 4402, 4403, 4404, 4405, 4406, 4407, 4408, 4409, 4410, 4411, 4412, 4413, 4414, 4415, 4416, 4417, 4418, 4419, 4420, 4421, 4422, 4423, 4424, 4425, 4426, 4427, 4428, 4429, 4430, 4431, 4432, 4433, 4434, 4435, 4436, 4437, 4438, 4439, 4440, 4441, 4442, 4443, 4444, 4445, 4446, 4447, 4448, 4449, 4450, 4451, 4452, 4453, 4454, 4455, 4456, 4457, 4458, 4459, 4460, 4461, 4462, 4463, 4464, 4465, 4466, 4467, 4468, 4469]\u001b[0m\n",
      "\u001b[36mUpdated right indices: [20, 21, 22, 23, 24, 25, 26, 27, 28, 29, 30, 31, 32, 33, 34, 35, 36, 37, 38, 39, 40, 41, 42, 43, 916, 917, 918, 919, 920, 921, 922, 923, 924, 925, 926, 927, 928, 929, 930, 931, 932, 933, 934, 935, 936, 937, 938, 939, 940, 941, 942, 943, 944, 945, 946, 947, 948, 949, 950, 951, 952, 953, 954, 955, 956, 957, 958, 959, 960, 961, 962, 963, 964, 965, 966, 967, 968, 969, 970, 971, 972, 973, 974, 975, 976, 977, 978, 979, 980, 981, 982, 983, 984, 985, 986, 987, 988, 989, 990, 991, 992, 993, 994, 995, 996, 997, 998, 999, 1000, 1001, 1002, 1003, 1004, 1005, 1006, 1007, 1008, 1009, 1010, 1011, 1012, 1013, 1014, 1015, 1016, 1017, 1018, 1019, 1020, 1021, 1022, 1023, 1024, 1025, 1026, 1027, 1028, 1029, 1030, 1031, 1032, 1033, 1034, 1035, 1036, 1037, 1038, 1039, 1040, 1041, 1042, 1043, 1044, 1045, 1046, 1047, 1048, 1285, 1286, 1287, 1288, 1289, 1290, 1291, 1292, 1293, 1294, 1295, 1296, 1297, 1298, 1299, 1300, 1301, 1302, 1303, 1304, 1305, 1306, 1307, 1308, 1309, 1310, 1311, 1312, 1313, 1314, 1315, 1316, 1317, 1318, 1319, 1320, 1321, 1322, 1323, 1324, 1325, 1326, 1327, 1328, 1329, 1330, 1331, 1332, 1333, 1334, 1335, 1336, 1337, 1338, 1339, 1340, 1341, 1342, 1343, 1344, 1345, 1346, 1347, 1348, 1349, 1350, 1351, 1352, 1353, 1354, 1355, 1356, 1357, 1358, 1359, 1360, 1361, 1362, 1363, 1364, 1365, 1366, 1367, 1368, 1369, 1370, 1371, 1372, 1373, 1374, 1375, 1376, 1377, 1378, 1379, 1380, 1381, 1382, 1383, 1384, 1385, 1386, 1387, 1388, 1389, 1390, 1391, 1392, 1393, 1394, 1395, 1396, 1397, 1398, 1399, 1400, 1401, 1402, 1403, 1404, 1405, 1406, 1407, 1408, 1409, 1410, 1411, 1412, 1413, 1414, 1415, 1416, 1417, 1418, 1419, 1420, 1421, 1422, 1423, 1424, 1425, 1426, 1427, 1428, 1429, 1430, 1431, 1432, 1433, 1434, 1435, 1436, 1676, 1677, 1678, 1679, 1680, 1681, 1682, 1683, 1684, 1685, 1686, 1687, 1688, 1689, 1690, 1691, 1692, 1693, 1694, 1695, 1696, 1697, 1698, 1699, 1700, 1701, 1702, 1703, 1704, 1705, 1706, 1707, 1708, 1709, 1710, 1711, 1712, 1713, 1714, 1715, 1716, 1717, 1718, 1719, 1720, 1721, 1722, 1723, 1724, 1725, 1726, 1727, 1728, 1729, 1730, 1731, 1732, 1733, 1734, 1735, 1736, 1737, 1738, 1739, 1740, 1741, 1742, 1743, 1744, 1745, 1746, 1747, 1748, 1749, 1750, 1751, 1752, 1753, 1754, 1755, 1756, 1757, 1758, 1759, 1760, 1761, 1762, 1763, 1764, 1765, 1766, 1767, 1768, 1769, 1770, 1771, 1772, 1773, 1774, 1775, 1776, 1777, 1778, 1779, 1780, 1781, 1782, 1783, 1784, 1785, 1786, 1787, 1788, 1789, 1790, 1791, 1792, 1793, 1794, 1795, 1796, 1797, 1798, 2312, 2313, 2314, 2315, 2316, 2317, 2318, 2319, 2320, 2321, 2322, 2323, 2324, 2325, 2326, 2327, 2328, 2329, 2330, 2331, 2332, 2333, 2334, 2335, 2336, 2337, 2338, 2339, 2340, 2341, 2342, 2343, 2344, 2345, 2346, 2347, 2348, 2349, 2350, 2351, 2352, 2353, 2354, 2355, 2356, 2357, 2358, 2359, 2360, 2361, 2362, 2363, 2364, 2365, 2366, 2367, 2368, 2369, 2370, 2371, 2372, 2373, 2374, 2375, 2376, 2377, 2378, 2379, 2380, 2381, 2382, 2383, 2384, 2385, 2386, 2387, 2388, 2389, 2390, 2391, 2392, 2393, 2394, 2395, 2396, 2397, 2398, 2399, 2400, 2401, 2402, 2403, 2404, 2405, 2406, 2407, 2408, 2409, 2410, 2411, 2412, 2413, 2414, 2415, 2416, 2417, 2418, 2419, 2420, 2421, 2422, 2423, 2424, 2425, 2426, 2427, 2428, 2429, 2430, 2431, 2432, 2433, 2434, 2435, 2436, 2437, 2438, 2439, 2440, 2441, 2442, 2443, 2444, 2445, 2446, 2447, 2448, 2449, 2450, 2451, 2452, 2453, 2454, 2455, 2456, 2457, 2458, 2459, 2460, 2461, 2462, 2463, 2464, 2465, 2466, 2467, 2468, 2469, 2470, 2471, 2472, 2473, 2474, 2475, 2476, 2477, 2478, 2479, 2480, 2481, 2482, 2483, 2484, 2485, 2486, 2487, 2488, 2489, 2490, 2491, 2492, 2493, 2494, 2495, 2496, 2497, 2498, 2499, 2500, 2501, 2513, 2514, 2515, 2516, 2517, 2518, 2519, 2520, 2521, 2522, 2523, 2524, 2527, 2528, 2529, 2530, 2531, 2532, 2533, 3560, 3561, 3562, 3563, 3564, 3565, 3566, 3567, 3568, 3569, 3570, 3571, 3572, 3573, 3574, 3575, 3576, 3577, 3578, 3579, 3580, 3581, 3582, 3583, 3584, 3585, 3586, 3587, 3588, 3589, 3590, 3591, 3592, 3593, 3594, 3595, 3596, 3597, 3598, 3599, 3600, 3601, 3602, 3603, 3604, 3605, 3606, 3607, 3608, 3609, 3610, 3611, 3612, 3613, 3614, 3615, 3616, 3617, 3618, 3619, 3620, 3621, 3622, 3623, 3624, 3625, 3626, 3627, 3628, 3629, 3630, 3631, 3632, 3633, 3634, 3635, 3636, 3637, 3638, 3639, 3640, 3641, 3642, 3643, 3644, 3645, 3646, 3647, 3648, 3649, 3650, 3651, 3652, 3653, 3654, 3655, 3656, 3657, 3658, 3659, 3660, 3661, 3662, 3663, 3664, 3665, 3666, 3667, 3668, 3669, 3670, 3671, 3672, 3673, 3674, 3675, 3676, 3677, 3678, 3679, 3680, 3682, 3683, 3684, 3685, 3686, 3687, 3688, 3689, 3690, 3691, 3692, 3693, 3694, 3695, 3696, 3697, 3698, 3699, 3700, 3701, 3702, 3703, 3704, 3705, 3706, 3707, 3708, 3709, 3710, 3711, 3712, 3713, 3714, 3715, 3750, 4094, 4095, 4096, 4097, 4098, 4099, 4100, 4101, 4102, 4103, 4104, 4105, 4106, 4107, 4108, 4109, 4110, 4111, 4112, 4113, 4114, 4115, 4116, 4117, 4118, 4119, 4120, 4121, 4122, 4123, 4124, 4125, 4126, 4127, 4128, 4129, 4130, 4131, 4132, 4133, 4134, 4135]\u001b[0m\n",
      "\u001b[33mIteration 2\u001b[0m\n",
      "\u001b[31mStep 1: Finding a valid point in the DNA structure...\u001b[0m\n"
     ]
    },
    {
     "name": "stderr",
     "output_type": "stream",
     "text": [
      "INFO: Processed 0 / 1 confs\r"
     ]
    },
    {
     "name": "stdout",
     "output_type": "stream",
     "text": [
      "\u001b[32mFound a valid point in the DNA structure: [ 0.02553652 -0.04387808 11.61223753]\u001b[0m\n",
      "\u001b[34mStep 2: Removing three random staples within a sphere around the point...\u001b[0m\n",
      "Bases in sphere: [73, 74, 75, 76, 77, 78, 378, 379, 380, 381, 382, 443, 444, 445, 446, 447, 448, 759, 760, 761, 762, 763, 764, 1945, 1946, 1947, 1948, 1949, 2279, 2280, 2281, 2282, 2283, 2284, 2989, 2990, 2994, 2995, 2996, 2997, 2998, 2999, 3000, 3026, 3027, 3028, 3029, 3030, 3031, 3032, 3036, 3037, 3038, 3039, 3040, 3041, 3042, 3058, 3926, 3927, 3972, 3973, 3974, 3975, 3990, 3991, 3992, 3993, 3994, 3995, 4386, 4387, 4395, 4396, 4397]\n",
      "Base to strand mapping: {73: 2, 74: 2, 75: 2, 76: 2, 77: 2, 78: 2, 378: 2, 379: 2, 380: 2, 381: 2, 382: 2, 443: 2, 444: 2, 445: 2, 446: 2, 447: 2, 448: 2, 759: 2, 760: 2, 761: 2, 762: 2, 763: 2, 764: 2, 1945: 2, 1946: 2, 1947: 2, 1948: 2, 1949: 2, 2279: 2, 2280: 2, 2281: 2, 2282: 2, 2283: 2, 2284: 2, 2989: 21, 2990: 21, 2994: 21, 2995: 21, 2996: 21, 2997: 21, 2998: 21, 2999: 21, 3000: 21, 3026: 22, 3027: 22, 3028: 22, 3029: 22, 3030: 22, 3031: 22, 3032: 22, 3036: 22, 3037: 22, 3038: 22, 3039: 22, 3040: 22, 3041: 22, 3042: 22, 3058: 22, 3926: 45, 3927: 45, 3972: 46, 3973: 46, 3974: 46, 3975: 46, 3990: 46, 3991: 46, 3992: 46, 3993: 46, 3994: 46, 3995: 46, 4386: 61, 4387: 61, 4395: 62, 4396: 62, 4397: 62}\n",
      "Strands in sphere to consider for removal: {45, 46, 21, 22, 61, 62}\n",
      "Removed strands: 45, 46, 21\n",
      "Removed strands: 45, 46, 22\n",
      "Removed strands: 45, 46, 61\n",
      "Removed strands: 45, 46, 62\n",
      "Removed strands: 45, 21, 22\n",
      "Removed strands: 45, 21, 61\n",
      "Removed strands: 45, 21, 62\n",
      "Removed strands: 45, 22, 61\n",
      "Removed strands: 45, 22, 62\n",
      "Removed strands: 45, 61, 62\n",
      "Removed strands: 46, 21, 22\n",
      "Removed strands: 46, 21, 61\n",
      "Removed strands: 46, 21, 62\n",
      "Removed strands: 46, 22, 61\n",
      "Removed strands: 46, 22, 62\n",
      "Removed strands: 46, 61, 62\n",
      "Removed strands: 21, 22, 61\n",
      "Removed strands: 21, 22, 62\n",
      "Removed strands: 21, 61, 62\n",
      "Removed strands: 22, 61, 62\n",
      "Total number of new structures created: 20\n",
      "\u001b[36mRemoved three random staples. Number of new structures: 20\u001b[0m\n",
      "\u001b[31mStep 1: Finding a valid point in the DNA structure...\u001b[0m\n",
      "\u001b[32mFound a valid point in the DNA structure: [ 4.68059731e-02 -2.47589036e-03  2.87745475e+01]\u001b[0m\n",
      "\u001b[34mStep 2: Removing three random staples within a sphere around the point...\u001b[0m\n",
      "Bases in sphere: [116, 117, 118, 119, 120, 121, 329, 330, 331, 332, 337, 338, 339, 486, 487, 488, 489, 490, 716, 717, 718, 719, 720, 721, 1988, 1989, 1990, 1995, 1996, 1997, 1998, 1999, 2236, 2237, 2238, 2239, 2240, 2241, 2242, 3134, 3135, 3136, 3137, 3138, 3139, 3166, 3167, 3168, 3169, 3170, 3171, 3172, 3179, 3180, 3181, 3182, 3188, 3189, 3197, 3198, 4041, 4042, 4043, 4044, 4045, 4046, 4054, 4055, 4060, 4061, 4062, 4063, 4064, 4437, 4438, 4439, 4440]\n",
      "Base to strand mapping: {116: 2, 117: 2, 118: 2, 119: 2, 120: 2, 121: 2, 329: 2, 330: 2, 331: 2, 332: 2, 337: 2, 338: 2, 339: 2, 486: 2, 487: 2, 488: 2, 489: 2, 490: 2, 716: 2, 717: 2, 718: 2, 719: 2, 720: 2, 721: 2, 1988: 2, 1989: 2, 1990: 2, 1995: 2, 1996: 2, 1997: 2, 1998: 2, 1999: 2, 2236: 2, 2237: 2, 2238: 2, 2239: 2, 2240: 2, 2241: 2, 2242: 2, 3134: 26, 3135: 26, 3136: 26, 3137: 26, 3138: 26, 3139: 26, 3166: 27, 3167: 27, 3168: 27, 3169: 27, 3170: 27, 3171: 27, 3172: 27, 3179: 27, 3180: 27, 3181: 27, 3182: 27, 3188: 27, 3189: 27, 3197: 27, 3198: 27, 4041: 49, 4042: 49, 4043: 49, 4044: 49, 4045: 49, 4046: 49, 4054: 49, 4055: 49, 4060: 49, 4061: 49, 4062: 49, 4063: 49, 4064: 49, 4437: 64, 4438: 64, 4439: 64, 4440: 64}\n",
      "Strands in sphere to consider for removal: {64, 49, 26, 27}\n",
      "Removed strands: 64, 49, 26\n",
      "Removed strands: 64, 49, 27\n",
      "Removed strands: 64, 26, 27\n",
      "Removed strands: 49, 26, 27\n",
      "Total number of new structures created: 4\n",
      "\u001b[36mRemoved three random staples. Number of new structures: 4\u001b[0m\n",
      "\u001b[31mStep 1: Finding a valid point in the DNA structure...\u001b[0m\n",
      "\u001b[32mFound a valid point in the DNA structure: [-4.22805766e-02 -1.75887925e-01 -4.31093539e+01]\u001b[0m\n",
      "\u001b[34mStep 2: Removing three random staples within a sphere around the point...\u001b[0m\n",
      "Bases in sphere: [904, 905, 906, 907, 908, 909, 1061, 1062, 1063, 1064, 1065, 1066, 1271, 1272, 1273, 1274, 1275, 1276, 1277, 1441, 1442, 1443, 1444, 1445, 1662, 1663, 1664, 1665, 1807, 1808, 1809, 1810, 1811, 2506, 2507, 2538, 2539, 2540, 2541, 2557, 2558, 2559, 2560, 2561, 2562, 2568, 2588, 2589, 2590, 2597, 2598, 2599, 3724, 3725, 3726, 3727, 3728, 3729, 3730, 3731, 3732, 3733, 3734, 3735, 3736, 3737, 3738, 3739, 3740, 3741, 4248, 4249, 4250, 4251, 4252, 4268]\n",
      "Base to strand mapping: {904: 2, 905: 2, 906: 2, 907: 2, 908: 2, 909: 2, 1061: 2, 1062: 2, 1063: 2, 1064: 2, 1065: 2, 1066: 2, 1271: 2, 1272: 2, 1273: 2, 1274: 2, 1275: 2, 1276: 2, 1277: 2, 1441: 2, 1442: 2, 1443: 2, 1444: 2, 1445: 2, 1662: 2, 1663: 2, 1664: 2, 1665: 2, 1807: 2, 1808: 2, 1809: 2, 1810: 2, 1811: 2, 2506: 8, 2507: 8, 2538: 9, 2539: 9, 2540: 9, 2541: 9, 2557: 9, 2558: 9, 2559: 9, 2560: 9, 2561: 9, 2562: 9, 2568: 9, 2588: 10, 2589: 10, 2590: 10, 2597: 11, 2598: 11, 2599: 11, 3724: 40, 3725: 40, 3726: 40, 3727: 40, 3728: 40, 3729: 40, 3730: 40, 3731: 40, 3732: 40, 3733: 40, 3734: 40, 3735: 40, 3736: 40, 3737: 40, 3738: 40, 3739: 40, 3740: 40, 3741: 40, 4248: 55, 4249: 55, 4250: 55, 4251: 55, 4252: 55, 4268: 55}\n",
      "Strands in sphere to consider for removal: {8, 9, 10, 11, 40, 55}\n",
      "Removed strands: 8, 9, 10\n",
      "Removed strands: 8, 9, 11\n",
      "Removed strands: 8, 9, 40\n",
      "Removed strands: 8, 9, 55\n",
      "Removed strands: 8, 10, 11\n",
      "Removed strands: 8, 10, 40\n",
      "Removed strands: 8, 10, 55\n",
      "Removed strands: 8, 11, 40\n",
      "Removed strands: 8, 11, 55\n",
      "Removed strands: 8, 40, 55\n",
      "Removed strands: 9, 10, 11\n",
      "Removed strands: 9, 10, 40\n",
      "Removed strands: 9, 10, 55\n",
      "Removed strands: 9, 11, 40\n",
      "Removed strands: 9, 11, 55\n",
      "Removed strands: 9, 40, 55\n",
      "Removed strands: 10, 11, 40\n",
      "Removed strands: 10, 11, 55\n",
      "Removed strands: 10, 40, 55\n",
      "Removed strands: 11, 40, 55\n",
      "Total number of new structures created: 20\n",
      "\u001b[36mRemoved three random staples. Number of new structures: 20\u001b[0m\n",
      "\u001b[31mStep 1: Finding a valid point in the DNA structure...\u001b[0m\n",
      "\u001b[32mFound a valid point in the DNA structure: [ -0.05800346  -0.20649341 -55.79614305]\u001b[0m\n",
      "\u001b[34mStep 2: Removing three random staples within a sphere around the point...\u001b[0m\n",
      "Bases in sphere: [936, 937, 938, 939, 940, 941, 1023, 1024, 1025, 1026, 1029, 1030, 1031, 1032, 1033, 1034, 1303, 1304, 1305, 1306, 1307, 1308, 1309, 1409, 1410, 1411, 1412, 1413, 1414, 1694, 1695, 1696, 1703, 1775, 1776, 1777, 1778, 1779, 2429, 2445, 2446, 2447, 2448, 2455, 2456, 2457, 2458, 2459, 2460, 2461, 2462, 2463, 2464, 2465, 2466, 2467, 2468, 2476, 2477, 2478, 2479, 2480, 2481, 3646, 3647, 3648, 3649, 3650, 3712, 3713, 3714, 3715, 4216, 4217, 4218, 4219, 4220, 4221]\n",
      "Base to strand mapping: {936: 2, 937: 2, 938: 2, 939: 2, 940: 2, 941: 2, 1023: 2, 1024: 2, 1025: 2, 1026: 2, 1029: 2, 1030: 2, 1031: 2, 1032: 2, 1033: 2, 1034: 2, 1303: 2, 1304: 2, 1305: 2, 1306: 2, 1307: 2, 1308: 2, 1309: 2, 1409: 2, 1410: 2, 1411: 2, 1412: 2, 1413: 2, 1414: 2, 1694: 2, 1695: 2, 1696: 2, 1703: 2, 1775: 2, 1776: 2, 1777: 2, 1778: 2, 1779: 2, 2429: 6, 2445: 6, 2446: 6, 2447: 6, 2448: 6, 2455: 6, 2456: 6, 2457: 7, 2458: 7, 2459: 7, 2460: 7, 2461: 7, 2462: 7, 2463: 7, 2464: 7, 2465: 7, 2466: 7, 2467: 7, 2468: 7, 2476: 7, 2477: 7, 2478: 7, 2479: 7, 2480: 7, 2481: 7, 3646: 39, 3647: 39, 3648: 39, 3649: 39, 3650: 39, 3712: 40, 3713: 40, 3714: 40, 3715: 40, 4216: 54, 4217: 54, 4218: 54, 4219: 54, 4220: 54, 4221: 54}\n",
      "Strands in sphere to consider for removal: {6, 7, 40, 39, 54}\n",
      "Removed strands: 6, 7, 40\n",
      "Removed strands: 6, 7, 39\n",
      "Removed strands: 6, 7, 54\n",
      "Removed strands: 6, 40, 39\n",
      "Removed strands: 6, 40, 54\n",
      "Removed strands: 6, 39, 54\n",
      "Removed strands: 7, 40, 39\n",
      "Removed strands: 7, 40, 54\n",
      "Removed strands: 7, 39, 54\n",
      "Removed strands: 40, 39, 54\n",
      "Total number of new structures created: 10\n",
      "\u001b[36mRemoved three random staples. Number of new structures: 10\u001b[0m\n",
      "\u001b[31mStep 1: Finding a valid point in the DNA structure...\u001b[0m\n",
      "\u001b[32mFound a valid point in the DNA structure: [5.08399552e-02 5.37648520e-03 3.20295660e+01]\u001b[0m\n",
      "\u001b[34mStep 2: Removing three random staples within a sphere around the point...\u001b[0m\n",
      "Bases in sphere: [126, 127, 128, 129, 130, 326, 327, 328, 329, 330, 495, 496, 497, 498, 499, 500, 707, 708, 709, 710, 711, 1997, 1998, 1999, 2000, 2001, 2002, 2227, 2228, 2229, 2230, 2231, 2232, 3188, 3189, 3190, 3191, 3192, 3193, 3216, 3217, 3218, 3219, 3220, 3221, 3227, 3228, 3229, 3230, 4032, 4033, 4034, 4035, 4040, 4041, 4042, 4050, 4051, 4052, 4053, 4054, 4055, 4438, 4439, 4440, 4441, 4442, 4445, 4446, 4447, 4448, 4449, 4456, 4457]\n",
      "Base to strand mapping: {126: 2, 127: 2, 128: 2, 129: 2, 130: 2, 326: 2, 327: 2, 328: 2, 329: 2, 330: 2, 495: 2, 496: 2, 497: 2, 498: 2, 499: 2, 500: 2, 707: 2, 708: 2, 709: 2, 710: 2, 711: 2, 1997: 2, 1998: 2, 1999: 2, 2000: 2, 2001: 2, 2002: 2, 2227: 2, 2228: 2, 2229: 2, 2230: 2, 2231: 2, 2232: 2, 3188: 26, 3189: 26, 3190: 26, 3191: 26, 3192: 26, 3193: 26, 3216: 27, 3217: 27, 3218: 27, 3219: 27, 3220: 27, 3221: 27, 3227: 28, 3228: 28, 3229: 28, 3230: 28, 4032: 49, 4033: 49, 4034: 49, 4035: 49, 4040: 49, 4041: 49, 4042: 49, 4050: 49, 4051: 49, 4052: 49, 4053: 49, 4054: 49, 4055: 49, 4438: 64, 4439: 64, 4440: 64, 4441: 64, 4442: 64, 4445: 64, 4446: 64, 4447: 64, 4448: 64, 4449: 64, 4456: 64, 4457: 64}\n",
      "Strands in sphere to consider for removal: {64, 49, 26, 27, 28}\n",
      "Removed strands: 64, 49, 26\n",
      "Removed strands: 64, 49, 27\n",
      "Removed strands: 64, 49, 28\n",
      "Removed strands: 64, 26, 27\n",
      "Removed strands: 64, 26, 28\n",
      "Removed strands: 64, 27, 28\n",
      "Removed strands: 49, 26, 27\n",
      "Removed strands: 49, 26, 28\n",
      "Removed strands: 49, 27, 28\n",
      "Removed strands: 26, 27, 28\n",
      "Total number of new structures created: 10\n",
      "\u001b[36mRemoved three random staples. Number of new structures: 10\u001b[0m\n",
      "\u001b[34mIteration 2: Generated 64 new structures.\u001b[0m\n",
      "\u001b[35mStep 3: Exporting DNA structures...\u001b[0m\n",
      "\u001b[33mExport paths: [{'structure_id': 0, 'dat_path': '/home/ava/MetaBackbone_project/Metabackbone-scripts/structure_files/six_helix_oxdna_file/modified/modified_2268_bp/structure_0/1512_bp_rmv_staples.dat', 'top_path': '/home/ava/MetaBackbone_project/Metabackbone-scripts/structure_files/six_helix_oxdna_file/modified/modified_2268_bp/structure_0/1512_bp_rmv_staples.top'}, {'structure_id': 1, 'dat_path': '/home/ava/MetaBackbone_project/Metabackbone-scripts/structure_files/six_helix_oxdna_file/modified/modified_2268_bp/structure_1/1512_bp_rmv_staples.dat', 'top_path': '/home/ava/MetaBackbone_project/Metabackbone-scripts/structure_files/six_helix_oxdna_file/modified/modified_2268_bp/structure_1/1512_bp_rmv_staples.top'}, {'structure_id': 2, 'dat_path': '/home/ava/MetaBackbone_project/Metabackbone-scripts/structure_files/six_helix_oxdna_file/modified/modified_2268_bp/structure_2/1512_bp_rmv_staples.dat', 'top_path': '/home/ava/MetaBackbone_project/Metabackbone-scripts/structure_files/six_helix_oxdna_file/modified/modified_2268_bp/structure_2/1512_bp_rmv_staples.top'}, {'structure_id': 3, 'dat_path': '/home/ava/MetaBackbone_project/Metabackbone-scripts/structure_files/six_helix_oxdna_file/modified/modified_2268_bp/structure_3/1512_bp_rmv_staples.dat', 'top_path': '/home/ava/MetaBackbone_project/Metabackbone-scripts/structure_files/six_helix_oxdna_file/modified/modified_2268_bp/structure_3/1512_bp_rmv_staples.top'}, {'structure_id': 4, 'dat_path': '/home/ava/MetaBackbone_project/Metabackbone-scripts/structure_files/six_helix_oxdna_file/modified/modified_2268_bp/structure_4/1512_bp_rmv_staples.dat', 'top_path': '/home/ava/MetaBackbone_project/Metabackbone-scripts/structure_files/six_helix_oxdna_file/modified/modified_2268_bp/structure_4/1512_bp_rmv_staples.top'}, {'structure_id': 5, 'dat_path': '/home/ava/MetaBackbone_project/Metabackbone-scripts/structure_files/six_helix_oxdna_file/modified/modified_2268_bp/structure_5/1512_bp_rmv_staples.dat', 'top_path': '/home/ava/MetaBackbone_project/Metabackbone-scripts/structure_files/six_helix_oxdna_file/modified/modified_2268_bp/structure_5/1512_bp_rmv_staples.top'}, {'structure_id': 6, 'dat_path': '/home/ava/MetaBackbone_project/Metabackbone-scripts/structure_files/six_helix_oxdna_file/modified/modified_2268_bp/structure_6/1512_bp_rmv_staples.dat', 'top_path': '/home/ava/MetaBackbone_project/Metabackbone-scripts/structure_files/six_helix_oxdna_file/modified/modified_2268_bp/structure_6/1512_bp_rmv_staples.top'}, {'structure_id': 7, 'dat_path': '/home/ava/MetaBackbone_project/Metabackbone-scripts/structure_files/six_helix_oxdna_file/modified/modified_2268_bp/structure_7/1512_bp_rmv_staples.dat', 'top_path': '/home/ava/MetaBackbone_project/Metabackbone-scripts/structure_files/six_helix_oxdna_file/modified/modified_2268_bp/structure_7/1512_bp_rmv_staples.top'}, {'structure_id': 8, 'dat_path': '/home/ava/MetaBackbone_project/Metabackbone-scripts/structure_files/six_helix_oxdna_file/modified/modified_2268_bp/structure_8/1512_bp_rmv_staples.dat', 'top_path': '/home/ava/MetaBackbone_project/Metabackbone-scripts/structure_files/six_helix_oxdna_file/modified/modified_2268_bp/structure_8/1512_bp_rmv_staples.top'}, {'structure_id': 9, 'dat_path': '/home/ava/MetaBackbone_project/Metabackbone-scripts/structure_files/six_helix_oxdna_file/modified/modified_2268_bp/structure_9/1512_bp_rmv_staples.dat', 'top_path': '/home/ava/MetaBackbone_project/Metabackbone-scripts/structure_files/six_helix_oxdna_file/modified/modified_2268_bp/structure_9/1512_bp_rmv_staples.top'}, {'structure_id': 10, 'dat_path': '/home/ava/MetaBackbone_project/Metabackbone-scripts/structure_files/six_helix_oxdna_file/modified/modified_2268_bp/structure_10/1512_bp_rmv_staples.dat', 'top_path': '/home/ava/MetaBackbone_project/Metabackbone-scripts/structure_files/six_helix_oxdna_file/modified/modified_2268_bp/structure_10/1512_bp_rmv_staples.top'}, {'structure_id': 11, 'dat_path': '/home/ava/MetaBackbone_project/Metabackbone-scripts/structure_files/six_helix_oxdna_file/modified/modified_2268_bp/structure_11/1512_bp_rmv_staples.dat', 'top_path': '/home/ava/MetaBackbone_project/Metabackbone-scripts/structure_files/six_helix_oxdna_file/modified/modified_2268_bp/structure_11/1512_bp_rmv_staples.top'}, {'structure_id': 12, 'dat_path': '/home/ava/MetaBackbone_project/Metabackbone-scripts/structure_files/six_helix_oxdna_file/modified/modified_2268_bp/structure_12/1512_bp_rmv_staples.dat', 'top_path': '/home/ava/MetaBackbone_project/Metabackbone-scripts/structure_files/six_helix_oxdna_file/modified/modified_2268_bp/structure_12/1512_bp_rmv_staples.top'}, {'structure_id': 13, 'dat_path': '/home/ava/MetaBackbone_project/Metabackbone-scripts/structure_files/six_helix_oxdna_file/modified/modified_2268_bp/structure_13/1512_bp_rmv_staples.dat', 'top_path': '/home/ava/MetaBackbone_project/Metabackbone-scripts/structure_files/six_helix_oxdna_file/modified/modified_2268_bp/structure_13/1512_bp_rmv_staples.top'}, {'structure_id': 14, 'dat_path': '/home/ava/MetaBackbone_project/Metabackbone-scripts/structure_files/six_helix_oxdna_file/modified/modified_2268_bp/structure_14/1512_bp_rmv_staples.dat', 'top_path': '/home/ava/MetaBackbone_project/Metabackbone-scripts/structure_files/six_helix_oxdna_file/modified/modified_2268_bp/structure_14/1512_bp_rmv_staples.top'}, {'structure_id': 15, 'dat_path': '/home/ava/MetaBackbone_project/Metabackbone-scripts/structure_files/six_helix_oxdna_file/modified/modified_2268_bp/structure_15/1512_bp_rmv_staples.dat', 'top_path': '/home/ava/MetaBackbone_project/Metabackbone-scripts/structure_files/six_helix_oxdna_file/modified/modified_2268_bp/structure_15/1512_bp_rmv_staples.top'}, {'structure_id': 16, 'dat_path': '/home/ava/MetaBackbone_project/Metabackbone-scripts/structure_files/six_helix_oxdna_file/modified/modified_2268_bp/structure_16/1512_bp_rmv_staples.dat', 'top_path': '/home/ava/MetaBackbone_project/Metabackbone-scripts/structure_files/six_helix_oxdna_file/modified/modified_2268_bp/structure_16/1512_bp_rmv_staples.top'}, {'structure_id': 17, 'dat_path': '/home/ava/MetaBackbone_project/Metabackbone-scripts/structure_files/six_helix_oxdna_file/modified/modified_2268_bp/structure_17/1512_bp_rmv_staples.dat', 'top_path': '/home/ava/MetaBackbone_project/Metabackbone-scripts/structure_files/six_helix_oxdna_file/modified/modified_2268_bp/structure_17/1512_bp_rmv_staples.top'}, {'structure_id': 18, 'dat_path': '/home/ava/MetaBackbone_project/Metabackbone-scripts/structure_files/six_helix_oxdna_file/modified/modified_2268_bp/structure_18/1512_bp_rmv_staples.dat', 'top_path': '/home/ava/MetaBackbone_project/Metabackbone-scripts/structure_files/six_helix_oxdna_file/modified/modified_2268_bp/structure_18/1512_bp_rmv_staples.top'}, {'structure_id': 19, 'dat_path': '/home/ava/MetaBackbone_project/Metabackbone-scripts/structure_files/six_helix_oxdna_file/modified/modified_2268_bp/structure_19/1512_bp_rmv_staples.dat', 'top_path': '/home/ava/MetaBackbone_project/Metabackbone-scripts/structure_files/six_helix_oxdna_file/modified/modified_2268_bp/structure_19/1512_bp_rmv_staples.top'}, {'structure_id': 20, 'dat_path': '/home/ava/MetaBackbone_project/Metabackbone-scripts/structure_files/six_helix_oxdna_file/modified/modified_2268_bp/structure_20/1512_bp_rmv_staples.dat', 'top_path': '/home/ava/MetaBackbone_project/Metabackbone-scripts/structure_files/six_helix_oxdna_file/modified/modified_2268_bp/structure_20/1512_bp_rmv_staples.top'}, {'structure_id': 21, 'dat_path': '/home/ava/MetaBackbone_project/Metabackbone-scripts/structure_files/six_helix_oxdna_file/modified/modified_2268_bp/structure_21/1512_bp_rmv_staples.dat', 'top_path': '/home/ava/MetaBackbone_project/Metabackbone-scripts/structure_files/six_helix_oxdna_file/modified/modified_2268_bp/structure_21/1512_bp_rmv_staples.top'}, {'structure_id': 22, 'dat_path': '/home/ava/MetaBackbone_project/Metabackbone-scripts/structure_files/six_helix_oxdna_file/modified/modified_2268_bp/structure_22/1512_bp_rmv_staples.dat', 'top_path': '/home/ava/MetaBackbone_project/Metabackbone-scripts/structure_files/six_helix_oxdna_file/modified/modified_2268_bp/structure_22/1512_bp_rmv_staples.top'}, {'structure_id': 23, 'dat_path': '/home/ava/MetaBackbone_project/Metabackbone-scripts/structure_files/six_helix_oxdna_file/modified/modified_2268_bp/structure_23/1512_bp_rmv_staples.dat', 'top_path': '/home/ava/MetaBackbone_project/Metabackbone-scripts/structure_files/six_helix_oxdna_file/modified/modified_2268_bp/structure_23/1512_bp_rmv_staples.top'}, {'structure_id': 24, 'dat_path': '/home/ava/MetaBackbone_project/Metabackbone-scripts/structure_files/six_helix_oxdna_file/modified/modified_2268_bp/structure_24/1512_bp_rmv_staples.dat', 'top_path': '/home/ava/MetaBackbone_project/Metabackbone-scripts/structure_files/six_helix_oxdna_file/modified/modified_2268_bp/structure_24/1512_bp_rmv_staples.top'}, {'structure_id': 25, 'dat_path': '/home/ava/MetaBackbone_project/Metabackbone-scripts/structure_files/six_helix_oxdna_file/modified/modified_2268_bp/structure_25/1512_bp_rmv_staples.dat', 'top_path': '/home/ava/MetaBackbone_project/Metabackbone-scripts/structure_files/six_helix_oxdna_file/modified/modified_2268_bp/structure_25/1512_bp_rmv_staples.top'}, {'structure_id': 26, 'dat_path': '/home/ava/MetaBackbone_project/Metabackbone-scripts/structure_files/six_helix_oxdna_file/modified/modified_2268_bp/structure_26/1512_bp_rmv_staples.dat', 'top_path': '/home/ava/MetaBackbone_project/Metabackbone-scripts/structure_files/six_helix_oxdna_file/modified/modified_2268_bp/structure_26/1512_bp_rmv_staples.top'}, {'structure_id': 27, 'dat_path': '/home/ava/MetaBackbone_project/Metabackbone-scripts/structure_files/six_helix_oxdna_file/modified/modified_2268_bp/structure_27/1512_bp_rmv_staples.dat', 'top_path': '/home/ava/MetaBackbone_project/Metabackbone-scripts/structure_files/six_helix_oxdna_file/modified/modified_2268_bp/structure_27/1512_bp_rmv_staples.top'}, {'structure_id': 28, 'dat_path': '/home/ava/MetaBackbone_project/Metabackbone-scripts/structure_files/six_helix_oxdna_file/modified/modified_2268_bp/structure_28/1512_bp_rmv_staples.dat', 'top_path': '/home/ava/MetaBackbone_project/Metabackbone-scripts/structure_files/six_helix_oxdna_file/modified/modified_2268_bp/structure_28/1512_bp_rmv_staples.top'}, {'structure_id': 29, 'dat_path': '/home/ava/MetaBackbone_project/Metabackbone-scripts/structure_files/six_helix_oxdna_file/modified/modified_2268_bp/structure_29/1512_bp_rmv_staples.dat', 'top_path': '/home/ava/MetaBackbone_project/Metabackbone-scripts/structure_files/six_helix_oxdna_file/modified/modified_2268_bp/structure_29/1512_bp_rmv_staples.top'}, {'structure_id': 30, 'dat_path': '/home/ava/MetaBackbone_project/Metabackbone-scripts/structure_files/six_helix_oxdna_file/modified/modified_2268_bp/structure_30/1512_bp_rmv_staples.dat', 'top_path': '/home/ava/MetaBackbone_project/Metabackbone-scripts/structure_files/six_helix_oxdna_file/modified/modified_2268_bp/structure_30/1512_bp_rmv_staples.top'}, {'structure_id': 31, 'dat_path': '/home/ava/MetaBackbone_project/Metabackbone-scripts/structure_files/six_helix_oxdna_file/modified/modified_2268_bp/structure_31/1512_bp_rmv_staples.dat', 'top_path': '/home/ava/MetaBackbone_project/Metabackbone-scripts/structure_files/six_helix_oxdna_file/modified/modified_2268_bp/structure_31/1512_bp_rmv_staples.top'}, {'structure_id': 32, 'dat_path': '/home/ava/MetaBackbone_project/Metabackbone-scripts/structure_files/six_helix_oxdna_file/modified/modified_2268_bp/structure_32/1512_bp_rmv_staples.dat', 'top_path': '/home/ava/MetaBackbone_project/Metabackbone-scripts/structure_files/six_helix_oxdna_file/modified/modified_2268_bp/structure_32/1512_bp_rmv_staples.top'}, {'structure_id': 33, 'dat_path': '/home/ava/MetaBackbone_project/Metabackbone-scripts/structure_files/six_helix_oxdna_file/modified/modified_2268_bp/structure_33/1512_bp_rmv_staples.dat', 'top_path': '/home/ava/MetaBackbone_project/Metabackbone-scripts/structure_files/six_helix_oxdna_file/modified/modified_2268_bp/structure_33/1512_bp_rmv_staples.top'}, {'structure_id': 34, 'dat_path': '/home/ava/MetaBackbone_project/Metabackbone-scripts/structure_files/six_helix_oxdna_file/modified/modified_2268_bp/structure_34/1512_bp_rmv_staples.dat', 'top_path': '/home/ava/MetaBackbone_project/Metabackbone-scripts/structure_files/six_helix_oxdna_file/modified/modified_2268_bp/structure_34/1512_bp_rmv_staples.top'}, {'structure_id': 35, 'dat_path': '/home/ava/MetaBackbone_project/Metabackbone-scripts/structure_files/six_helix_oxdna_file/modified/modified_2268_bp/structure_35/1512_bp_rmv_staples.dat', 'top_path': '/home/ava/MetaBackbone_project/Metabackbone-scripts/structure_files/six_helix_oxdna_file/modified/modified_2268_bp/structure_35/1512_bp_rmv_staples.top'}, {'structure_id': 36, 'dat_path': '/home/ava/MetaBackbone_project/Metabackbone-scripts/structure_files/six_helix_oxdna_file/modified/modified_2268_bp/structure_36/1512_bp_rmv_staples.dat', 'top_path': '/home/ava/MetaBackbone_project/Metabackbone-scripts/structure_files/six_helix_oxdna_file/modified/modified_2268_bp/structure_36/1512_bp_rmv_staples.top'}, {'structure_id': 37, 'dat_path': '/home/ava/MetaBackbone_project/Metabackbone-scripts/structure_files/six_helix_oxdna_file/modified/modified_2268_bp/structure_37/1512_bp_rmv_staples.dat', 'top_path': '/home/ava/MetaBackbone_project/Metabackbone-scripts/structure_files/six_helix_oxdna_file/modified/modified_2268_bp/structure_37/1512_bp_rmv_staples.top'}, {'structure_id': 38, 'dat_path': '/home/ava/MetaBackbone_project/Metabackbone-scripts/structure_files/six_helix_oxdna_file/modified/modified_2268_bp/structure_38/1512_bp_rmv_staples.dat', 'top_path': '/home/ava/MetaBackbone_project/Metabackbone-scripts/structure_files/six_helix_oxdna_file/modified/modified_2268_bp/structure_38/1512_bp_rmv_staples.top'}, {'structure_id': 39, 'dat_path': '/home/ava/MetaBackbone_project/Metabackbone-scripts/structure_files/six_helix_oxdna_file/modified/modified_2268_bp/structure_39/1512_bp_rmv_staples.dat', 'top_path': '/home/ava/MetaBackbone_project/Metabackbone-scripts/structure_files/six_helix_oxdna_file/modified/modified_2268_bp/structure_39/1512_bp_rmv_staples.top'}, {'structure_id': 40, 'dat_path': '/home/ava/MetaBackbone_project/Metabackbone-scripts/structure_files/six_helix_oxdna_file/modified/modified_2268_bp/structure_40/1512_bp_rmv_staples.dat', 'top_path': '/home/ava/MetaBackbone_project/Metabackbone-scripts/structure_files/six_helix_oxdna_file/modified/modified_2268_bp/structure_40/1512_bp_rmv_staples.top'}, {'structure_id': 41, 'dat_path': '/home/ava/MetaBackbone_project/Metabackbone-scripts/structure_files/six_helix_oxdna_file/modified/modified_2268_bp/structure_41/1512_bp_rmv_staples.dat', 'top_path': '/home/ava/MetaBackbone_project/Metabackbone-scripts/structure_files/six_helix_oxdna_file/modified/modified_2268_bp/structure_41/1512_bp_rmv_staples.top'}, {'structure_id': 42, 'dat_path': '/home/ava/MetaBackbone_project/Metabackbone-scripts/structure_files/six_helix_oxdna_file/modified/modified_2268_bp/structure_42/1512_bp_rmv_staples.dat', 'top_path': '/home/ava/MetaBackbone_project/Metabackbone-scripts/structure_files/six_helix_oxdna_file/modified/modified_2268_bp/structure_42/1512_bp_rmv_staples.top'}, {'structure_id': 43, 'dat_path': '/home/ava/MetaBackbone_project/Metabackbone-scripts/structure_files/six_helix_oxdna_file/modified/modified_2268_bp/structure_43/1512_bp_rmv_staples.dat', 'top_path': '/home/ava/MetaBackbone_project/Metabackbone-scripts/structure_files/six_helix_oxdna_file/modified/modified_2268_bp/structure_43/1512_bp_rmv_staples.top'}, {'structure_id': 44, 'dat_path': '/home/ava/MetaBackbone_project/Metabackbone-scripts/structure_files/six_helix_oxdna_file/modified/modified_2268_bp/structure_44/1512_bp_rmv_staples.dat', 'top_path': '/home/ava/MetaBackbone_project/Metabackbone-scripts/structure_files/six_helix_oxdna_file/modified/modified_2268_bp/structure_44/1512_bp_rmv_staples.top'}, {'structure_id': 45, 'dat_path': '/home/ava/MetaBackbone_project/Metabackbone-scripts/structure_files/six_helix_oxdna_file/modified/modified_2268_bp/structure_45/1512_bp_rmv_staples.dat', 'top_path': '/home/ava/MetaBackbone_project/Metabackbone-scripts/structure_files/six_helix_oxdna_file/modified/modified_2268_bp/structure_45/1512_bp_rmv_staples.top'}, {'structure_id': 46, 'dat_path': '/home/ava/MetaBackbone_project/Metabackbone-scripts/structure_files/six_helix_oxdna_file/modified/modified_2268_bp/structure_46/1512_bp_rmv_staples.dat', 'top_path': '/home/ava/MetaBackbone_project/Metabackbone-scripts/structure_files/six_helix_oxdna_file/modified/modified_2268_bp/structure_46/1512_bp_rmv_staples.top'}, {'structure_id': 47, 'dat_path': '/home/ava/MetaBackbone_project/Metabackbone-scripts/structure_files/six_helix_oxdna_file/modified/modified_2268_bp/structure_47/1512_bp_rmv_staples.dat', 'top_path': '/home/ava/MetaBackbone_project/Metabackbone-scripts/structure_files/six_helix_oxdna_file/modified/modified_2268_bp/structure_47/1512_bp_rmv_staples.top'}, {'structure_id': 48, 'dat_path': '/home/ava/MetaBackbone_project/Metabackbone-scripts/structure_files/six_helix_oxdna_file/modified/modified_2268_bp/structure_48/1512_bp_rmv_staples.dat', 'top_path': '/home/ava/MetaBackbone_project/Metabackbone-scripts/structure_files/six_helix_oxdna_file/modified/modified_2268_bp/structure_48/1512_bp_rmv_staples.top'}, {'structure_id': 49, 'dat_path': '/home/ava/MetaBackbone_project/Metabackbone-scripts/structure_files/six_helix_oxdna_file/modified/modified_2268_bp/structure_49/1512_bp_rmv_staples.dat', 'top_path': '/home/ava/MetaBackbone_project/Metabackbone-scripts/structure_files/six_helix_oxdna_file/modified/modified_2268_bp/structure_49/1512_bp_rmv_staples.top'}, {'structure_id': 50, 'dat_path': '/home/ava/MetaBackbone_project/Metabackbone-scripts/structure_files/six_helix_oxdna_file/modified/modified_2268_bp/structure_50/1512_bp_rmv_staples.dat', 'top_path': '/home/ava/MetaBackbone_project/Metabackbone-scripts/structure_files/six_helix_oxdna_file/modified/modified_2268_bp/structure_50/1512_bp_rmv_staples.top'}, {'structure_id': 51, 'dat_path': '/home/ava/MetaBackbone_project/Metabackbone-scripts/structure_files/six_helix_oxdna_file/modified/modified_2268_bp/structure_51/1512_bp_rmv_staples.dat', 'top_path': '/home/ava/MetaBackbone_project/Metabackbone-scripts/structure_files/six_helix_oxdna_file/modified/modified_2268_bp/structure_51/1512_bp_rmv_staples.top'}, {'structure_id': 52, 'dat_path': '/home/ava/MetaBackbone_project/Metabackbone-scripts/structure_files/six_helix_oxdna_file/modified/modified_2268_bp/structure_52/1512_bp_rmv_staples.dat', 'top_path': '/home/ava/MetaBackbone_project/Metabackbone-scripts/structure_files/six_helix_oxdna_file/modified/modified_2268_bp/structure_52/1512_bp_rmv_staples.top'}, {'structure_id': 53, 'dat_path': '/home/ava/MetaBackbone_project/Metabackbone-scripts/structure_files/six_helix_oxdna_file/modified/modified_2268_bp/structure_53/1512_bp_rmv_staples.dat', 'top_path': '/home/ava/MetaBackbone_project/Metabackbone-scripts/structure_files/six_helix_oxdna_file/modified/modified_2268_bp/structure_53/1512_bp_rmv_staples.top'}, {'structure_id': 54, 'dat_path': '/home/ava/MetaBackbone_project/Metabackbone-scripts/structure_files/six_helix_oxdna_file/modified/modified_2268_bp/structure_54/1512_bp_rmv_staples.dat', 'top_path': '/home/ava/MetaBackbone_project/Metabackbone-scripts/structure_files/six_helix_oxdna_file/modified/modified_2268_bp/structure_54/1512_bp_rmv_staples.top'}, {'structure_id': 55, 'dat_path': '/home/ava/MetaBackbone_project/Metabackbone-scripts/structure_files/six_helix_oxdna_file/modified/modified_2268_bp/structure_55/1512_bp_rmv_staples.dat', 'top_path': '/home/ava/MetaBackbone_project/Metabackbone-scripts/structure_files/six_helix_oxdna_file/modified/modified_2268_bp/structure_55/1512_bp_rmv_staples.top'}, {'structure_id': 56, 'dat_path': '/home/ava/MetaBackbone_project/Metabackbone-scripts/structure_files/six_helix_oxdna_file/modified/modified_2268_bp/structure_56/1512_bp_rmv_staples.dat', 'top_path': '/home/ava/MetaBackbone_project/Metabackbone-scripts/structure_files/six_helix_oxdna_file/modified/modified_2268_bp/structure_56/1512_bp_rmv_staples.top'}, {'structure_id': 57, 'dat_path': '/home/ava/MetaBackbone_project/Metabackbone-scripts/structure_files/six_helix_oxdna_file/modified/modified_2268_bp/structure_57/1512_bp_rmv_staples.dat', 'top_path': '/home/ava/MetaBackbone_project/Metabackbone-scripts/structure_files/six_helix_oxdna_file/modified/modified_2268_bp/structure_57/1512_bp_rmv_staples.top'}, {'structure_id': 58, 'dat_path': '/home/ava/MetaBackbone_project/Metabackbone-scripts/structure_files/six_helix_oxdna_file/modified/modified_2268_bp/structure_58/1512_bp_rmv_staples.dat', 'top_path': '/home/ava/MetaBackbone_project/Metabackbone-scripts/structure_files/six_helix_oxdna_file/modified/modified_2268_bp/structure_58/1512_bp_rmv_staples.top'}, {'structure_id': 59, 'dat_path': '/home/ava/MetaBackbone_project/Metabackbone-scripts/structure_files/six_helix_oxdna_file/modified/modified_2268_bp/structure_59/1512_bp_rmv_staples.dat', 'top_path': '/home/ava/MetaBackbone_project/Metabackbone-scripts/structure_files/six_helix_oxdna_file/modified/modified_2268_bp/structure_59/1512_bp_rmv_staples.top'}, {'structure_id': 60, 'dat_path': '/home/ava/MetaBackbone_project/Metabackbone-scripts/structure_files/six_helix_oxdna_file/modified/modified_2268_bp/structure_60/1512_bp_rmv_staples.dat', 'top_path': '/home/ava/MetaBackbone_project/Metabackbone-scripts/structure_files/six_helix_oxdna_file/modified/modified_2268_bp/structure_60/1512_bp_rmv_staples.top'}, {'structure_id': 61, 'dat_path': '/home/ava/MetaBackbone_project/Metabackbone-scripts/structure_files/six_helix_oxdna_file/modified/modified_2268_bp/structure_61/1512_bp_rmv_staples.dat', 'top_path': '/home/ava/MetaBackbone_project/Metabackbone-scripts/structure_files/six_helix_oxdna_file/modified/modified_2268_bp/structure_61/1512_bp_rmv_staples.top'}, {'structure_id': 62, 'dat_path': '/home/ava/MetaBackbone_project/Metabackbone-scripts/structure_files/six_helix_oxdna_file/modified/modified_2268_bp/structure_62/1512_bp_rmv_staples.dat', 'top_path': '/home/ava/MetaBackbone_project/Metabackbone-scripts/structure_files/six_helix_oxdna_file/modified/modified_2268_bp/structure_62/1512_bp_rmv_staples.top'}, {'structure_id': 63, 'dat_path': '/home/ava/MetaBackbone_project/Metabackbone-scripts/structure_files/six_helix_oxdna_file/modified/modified_2268_bp/structure_63/1512_bp_rmv_staples.dat', 'top_path': '/home/ava/MetaBackbone_project/Metabackbone-scripts/structure_files/six_helix_oxdna_file/modified/modified_2268_bp/structure_63/1512_bp_rmv_staples.top'}]\u001b[0m\n",
      "\u001b[32mStep 4: Simulating each modified structure...\u001b[0m\n",
      "\u001b[31mStarting simulations for structure 0...\u001b[0m\n",
      "Running: relaxed\n",
      "Run time: 4.342043655000452\n",
      "Finished: relaxed\n"
     ]
    },
    {
     "name": "stderr",
     "output_type": "stream",
     "text": [
      "INFO: Lists updated 1 times (every ~100.000000 steps)\n",
      "INFO: Aggregated I/O statistics (set debug=1 for file-wise information)\n",
      "\t  2.197 MB written to files\n",
      "\t 96.000  B written to stdout/stderr\n",
      "\tFor a total of    0.543 MB/s\n",
      "\n"
     ]
    },
    {
     "name": "stdout",
     "output_type": "stream",
     "text": [
      "All queued simulations finished in: 10.507735732999208\n",
      "\u001b[32mRelaxation simulation for structure 0 completed.\u001b[0m\n",
      "Running: eq\n",
      "Run time: 0.5851209850006853\n",
      "Finished: eq\n"
     ]
    },
    {
     "name": "stderr",
     "output_type": "stream",
     "text": [
      "INFO: Lists updated 3 times (every ~333.333333 steps)\n",
      "INFO: Aggregated I/O statistics (set debug=1 for file-wise information)\n",
      "\t  1.151 MB written to files\n",
      "\t 62.000  B written to stdout/stderr\n",
      "\tFor a total of     3.74 MB/s\n",
      "\n"
     ]
    },
    {
     "name": "stdout",
     "output_type": "stream",
     "text": [
      "All queued simulations finished in: 10.518077988001096\n",
      "\u001b[32mEquilibration simulation for structure 0 completed.\u001b[0m\n",
      "Running: prod\n",
      "Run time: 0.5632036970000627\n",
      "Finished: prod\n"
     ]
    },
    {
     "name": "stderr",
     "output_type": "stream",
     "text": [
      "INFO: Lists updated 3 times (every ~333.333333 steps)\n",
      "INFO: Aggregated I/O statistics (set debug=1 for file-wise information)\n",
      "\t  1.154 MB written to files\n",
      "\t 62.000  B written to stdout/stderr\n",
      "\tFor a total of     4.09 MB/s\n",
      "\n"
     ]
    },
    {
     "name": "stdout",
     "output_type": "stream",
     "text": [
      "All queued simulations finished in: 10.520525662999717\n",
      "\u001b[32mProduction simulation for structure 0 completed.\u001b[0m\n",
      "\u001b[36mAll simulations for structure 0 completed.\n",
      "\u001b[0m\n",
      "\u001b[31mStarting simulations for structure 1...\u001b[0m\n",
      "Running: relaxed\n",
      "Run time: 4.335757733000719\n",
      "Finished: relaxed\n"
     ]
    },
    {
     "name": "stderr",
     "output_type": "stream",
     "text": [
      "INFO: Lists updated 2 times (every ~50.000000 steps)\n",
      "INFO: Aggregated I/O statistics (set debug=1 for file-wise information)\n",
      "\t  2.189 MB written to files\n",
      "\t 96.000  B written to stdout/stderr\n",
      "\tFor a total of    0.543 MB/s\n",
      "\n"
     ]
    },
    {
     "name": "stdout",
     "output_type": "stream",
     "text": [
      "All queued simulations finished in: 10.509585208999852\n",
      "\u001b[32mRelaxation simulation for structure 1 completed.\u001b[0m\n",
      "Running: eq\n",
      "Run time: 0.5508536199995433\n",
      "Finished: eq\n"
     ]
    },
    {
     "name": "stderr",
     "output_type": "stream",
     "text": [
      "INFO: Lists updated 3 times (every ~333.333333 steps)\n",
      "INFO: Aggregated I/O statistics (set debug=1 for file-wise information)\n",
      "\t  1.148 MB written to files\n",
      "\t 62.000  B written to stdout/stderr\n",
      "\tFor a total of     4.01 MB/s\n",
      "\n"
     ]
    },
    {
     "name": "stdout",
     "output_type": "stream",
     "text": [
      "All queued simulations finished in: 10.506752500999937\n",
      "\u001b[32mEquilibration simulation for structure 1 completed.\u001b[0m\n",
      "Running: prod\n",
      "Run time: 0.5806523249993916\n",
      "Finished: prod\n"
     ]
    },
    {
     "name": "stderr",
     "output_type": "stream",
     "text": [
      "INFO: Lists updated 4 times (every ~250.000000 steps)\n",
      "INFO: Aggregated I/O statistics (set debug=1 for file-wise information)\n",
      "\t  1.150 MB written to files\n",
      "\t 62.000  B written to stdout/stderr\n",
      "\tFor a total of     3.84 MB/s\n",
      "\n"
     ]
    },
    {
     "name": "stdout",
     "output_type": "stream",
     "text": [
      "All queued simulations finished in: 10.514983023998866\n",
      "\u001b[32mProduction simulation for structure 1 completed.\u001b[0m\n",
      "\u001b[36mAll simulations for structure 1 completed.\n",
      "\u001b[0m\n",
      "\u001b[31mStarting simulations for structure 2...\u001b[0m\n",
      "Running: relaxed\n",
      "Run time: 4.274439172999337\n",
      "Finished: relaxed\n"
     ]
    },
    {
     "name": "stderr",
     "output_type": "stream",
     "text": [
      "INFO: Lists updated 1 times (every ~100.000000 steps)\n",
      "INFO: Aggregated I/O statistics (set debug=1 for file-wise information)\n",
      "\t  2.203 MB written to files\n",
      "\t 96.000  B written to stdout/stderr\n",
      "\tFor a total of    0.554 MB/s\n",
      "\n"
     ]
    },
    {
     "name": "stdout",
     "output_type": "stream",
     "text": [
      "All queued simulations finished in: 10.510403506999864\n",
      "\u001b[32mRelaxation simulation for structure 2 completed.\u001b[0m\n",
      "Running: eq\n",
      "Run time: 0.5546002209994185\n",
      "Finished: eq\n"
     ]
    },
    {
     "name": "stderr",
     "output_type": "stream",
     "text": [
      "INFO: Lists updated 3 times (every ~333.333333 steps)\n",
      "INFO: Aggregated I/O statistics (set debug=1 for file-wise information)\n",
      "\t  1.154 MB written to files\n",
      "\t 62.000  B written to stdout/stderr\n",
      "\tFor a total of     4.02 MB/s\n",
      "\n"
     ]
    },
    {
     "name": "stdout",
     "output_type": "stream",
     "text": [
      "All queued simulations finished in: 10.523596957998961\n",
      "\u001b[32mEquilibration simulation for structure 2 completed.\u001b[0m\n",
      "Running: prod\n",
      "Run time: 0.5406124710007134\n",
      "Finished: prod\n"
     ]
    },
    {
     "name": "stderr",
     "output_type": "stream",
     "text": [
      "INFO: Lists updated 3 times (every ~333.333333 steps)\n",
      "INFO: Aggregated I/O statistics (set debug=1 for file-wise information)\n",
      "\t  1.156 MB written to files\n",
      "\t 62.000  B written to stdout/stderr\n",
      "\tFor a total of     4.21 MB/s\n",
      "\n"
     ]
    },
    {
     "name": "stdout",
     "output_type": "stream",
     "text": [
      "All queued simulations finished in: 10.506895574000737\n",
      "\u001b[32mProduction simulation for structure 2 completed.\u001b[0m\n",
      "\u001b[36mAll simulations for structure 2 completed.\n",
      "\u001b[0m\n",
      "\u001b[31mStarting simulations for structure 3...\u001b[0m\n",
      "Running: relaxed\n",
      "Run time: 4.353764356999818\n",
      "Finished: relaxed\n"
     ]
    },
    {
     "name": "stderr",
     "output_type": "stream",
     "text": [
      "INFO: Lists updated 2 times (every ~50.000000 steps)\n",
      "INFO: Aggregated I/O statistics (set debug=1 for file-wise information)\n",
      "\t  2.202 MB written to files\n",
      "\t 96.000  B written to stdout/stderr\n",
      "\tFor a total of    0.544 MB/s\n",
      "\n"
     ]
    },
    {
     "name": "stdout",
     "output_type": "stream",
     "text": [
      "All queued simulations finished in: 10.506885889999467\n",
      "\u001b[32mRelaxation simulation for structure 3 completed.\u001b[0m\n",
      "Running: eq\n",
      "Run time: 0.5914030769999954\n",
      "Finished: eq\n"
     ]
    },
    {
     "name": "stderr",
     "output_type": "stream",
     "text": [
      "INFO: Lists updated 3 times (every ~333.333333 steps)\n",
      "INFO: Aggregated I/O statistics (set debug=1 for file-wise information)\n",
      "\t  1.154 MB written to files\n",
      "\t 62.000  B written to stdout/stderr\n",
      "\tFor a total of     3.68 MB/s\n",
      "\n"
     ]
    },
    {
     "name": "stdout",
     "output_type": "stream",
     "text": [
      "All queued simulations finished in: 10.511751048001315\n",
      "\u001b[32mEquilibration simulation for structure 3 completed.\u001b[0m\n",
      "Running: prod\n",
      "Run time: 0.5520124650010985\n",
      "Finished: prod\n"
     ]
    },
    {
     "name": "stderr",
     "output_type": "stream",
     "text": [
      "INFO: Lists updated 3 times (every ~333.333333 steps)\n",
      "INFO: Aggregated I/O statistics (set debug=1 for file-wise information)\n",
      "\t  1.155 MB written to files\n",
      "\t 62.000  B written to stdout/stderr\n",
      "\tFor a total of     4.17 MB/s\n",
      "\n"
     ]
    },
    {
     "name": "stdout",
     "output_type": "stream",
     "text": [
      "All queued simulations finished in: 10.521348726000724\n",
      "\u001b[32mProduction simulation for structure 3 completed.\u001b[0m\n",
      "\u001b[36mAll simulations for structure 3 completed.\n",
      "\u001b[0m\n",
      "\u001b[31mStarting simulations for structure 4...\u001b[0m\n",
      "Running: relaxed\n",
      "Run time: 4.208031307000056\n",
      "Finished: relaxed\n"
     ]
    },
    {
     "name": "stderr",
     "output_type": "stream",
     "text": [
      "INFO: Lists updated 1 times (every ~100.000000 steps)\n",
      "INFO: Aggregated I/O statistics (set debug=1 for file-wise information)\n",
      "\t  2.192 MB written to files\n",
      "\t 96.000  B written to stdout/stderr\n",
      "\tFor a total of     0.56 MB/s\n",
      "\n"
     ]
    },
    {
     "name": "stdout",
     "output_type": "stream",
     "text": [
      "All queued simulations finished in: 10.509164237999357\n",
      "\u001b[32mRelaxation simulation for structure 4 completed.\u001b[0m\n",
      "Running: eq\n",
      "Run time: 0.5649823189996823\n",
      "Finished: eq\n"
     ]
    },
    {
     "name": "stderr",
     "output_type": "stream",
     "text": [
      "INFO: Lists updated 4 times (every ~250.000000 steps)\n",
      "INFO: Aggregated I/O statistics (set debug=1 for file-wise information)\n",
      "\t  1.150 MB written to files\n",
      "\t 62.000  B written to stdout/stderr\n",
      "\tFor a total of     4.01 MB/s\n",
      "\n"
     ]
    },
    {
     "name": "stdout",
     "output_type": "stream",
     "text": [
      "All queued simulations finished in: 10.521437612998852\n",
      "\u001b[32mEquilibration simulation for structure 4 completed.\u001b[0m\n",
      "Running: prod\n",
      "Run time: 0.5751068469999154\n",
      "Finished: prod\n"
     ]
    },
    {
     "name": "stderr",
     "output_type": "stream",
     "text": [
      "INFO: Lists updated 3 times (every ~333.333333 steps)\n",
      "INFO: Aggregated I/O statistics (set debug=1 for file-wise information)\n",
      "\t  1.152 MB written to files\n",
      "\t 62.000  B written to stdout/stderr\n",
      "\tFor a total of        4 MB/s\n",
      "\n"
     ]
    },
    {
     "name": "stdout",
     "output_type": "stream",
     "text": [
      "All queued simulations finished in: 10.52062960099829\n",
      "\u001b[32mProduction simulation for structure 4 completed.\u001b[0m\n",
      "\u001b[36mAll simulations for structure 4 completed.\n",
      "\u001b[0m\n",
      "\u001b[31mStarting simulations for structure 5...\u001b[0m\n",
      "Running: relaxed\n",
      "Run time: 4.268193403000623\n",
      "Finished: relaxed\n"
     ]
    },
    {
     "name": "stderr",
     "output_type": "stream",
     "text": [
      "INFO: Lists updated 1 times (every ~100.000000 steps)\n",
      "INFO: Aggregated I/O statistics (set debug=1 for file-wise information)\n",
      "\t  2.205 MB written to files\n",
      "\t 96.000  B written to stdout/stderr\n",
      "\tFor a total of    0.556 MB/s\n",
      "\n"
     ]
    },
    {
     "name": "stdout",
     "output_type": "stream",
     "text": [
      "All queued simulations finished in: 10.511659906000205\n",
      "\u001b[32mRelaxation simulation for structure 5 completed.\u001b[0m\n",
      "Running: eq\n",
      "Run time: 0.563718900000822\n",
      "Finished: eq\n"
     ]
    },
    {
     "name": "stderr",
     "output_type": "stream",
     "text": [
      "INFO: Lists updated 4 times (every ~250.000000 steps)\n",
      "INFO: Aggregated I/O statistics (set debug=1 for file-wise information)\n",
      "\t  1.156 MB written to files\n",
      "\t 62.000  B written to stdout/stderr\n",
      "\tFor a total of     4.03 MB/s\n",
      "\n"
     ]
    },
    {
     "name": "stdout",
     "output_type": "stream",
     "text": [
      "All queued simulations finished in: 10.522203714999705\n",
      "\u001b[32mEquilibration simulation for structure 5 completed.\u001b[0m\n",
      "Running: prod\n",
      "Run time: 0.5483604410001135\n",
      "Finished: prod\n"
     ]
    },
    {
     "name": "stderr",
     "output_type": "stream",
     "text": [
      "INFO: Lists updated 3 times (every ~333.333333 steps)\n",
      "INFO: Aggregated I/O statistics (set debug=1 for file-wise information)\n",
      "\t  1.158 MB written to files\n",
      "\t 62.000  B written to stdout/stderr\n",
      "\tFor a total of     4.21 MB/s\n",
      "\n"
     ]
    },
    {
     "name": "stdout",
     "output_type": "stream",
     "text": [
      "All queued simulations finished in: 10.521257165999486\n",
      "\u001b[32mProduction simulation for structure 5 completed.\u001b[0m\n",
      "\u001b[36mAll simulations for structure 5 completed.\n",
      "\u001b[0m\n",
      "\u001b[31mStarting simulations for structure 6...\u001b[0m\n",
      "Running: relaxed\n",
      "Run time: 4.257420082998578\n",
      "Finished: relaxed\n"
     ]
    },
    {
     "name": "stderr",
     "output_type": "stream",
     "text": [
      "INFO: Lists updated 1 times (every ~100.000000 steps)\n",
      "INFO: Aggregated I/O statistics (set debug=1 for file-wise information)\n",
      "\t  2.203 MB written to files\n",
      "\t 96.000  B written to stdout/stderr\n",
      "\tFor a total of    0.557 MB/s\n",
      "\n"
     ]
    },
    {
     "name": "stdout",
     "output_type": "stream",
     "text": [
      "All queued simulations finished in: 10.508248674999777\n",
      "\u001b[32mRelaxation simulation for structure 6 completed.\u001b[0m\n",
      "Running: eq\n",
      "Run time: 0.5853615759988315\n",
      "Finished: eq\n"
     ]
    },
    {
     "name": "stderr",
     "output_type": "stream",
     "text": [
      "INFO: Lists updated 3 times (every ~333.333333 steps)\n",
      "INFO: Aggregated I/O statistics (set debug=1 for file-wise information)\n",
      "\t  1.155 MB written to files\n",
      "\t 62.000  B written to stdout/stderr\n",
      "\tFor a total of     3.81 MB/s\n",
      "\n"
     ]
    },
    {
     "name": "stdout",
     "output_type": "stream",
     "text": [
      "All queued simulations finished in: 10.522063782998885\n",
      "\u001b[32mEquilibration simulation for structure 6 completed.\u001b[0m\n",
      "Running: prod\n",
      "Run time: 0.5546911000001273\n",
      "Finished: prod\n"
     ]
    },
    {
     "name": "stderr",
     "output_type": "stream",
     "text": [
      "INFO: Lists updated 3 times (every ~333.333333 steps)\n",
      "INFO: Aggregated I/O statistics (set debug=1 for file-wise information)\n",
      "\t  1.158 MB written to files\n",
      "\t 62.000  B written to stdout/stderr\n",
      "\tFor a total of     4.14 MB/s\n",
      "\n"
     ]
    },
    {
     "name": "stdout",
     "output_type": "stream",
     "text": [
      "All queued simulations finished in: 10.508774288000495\n",
      "\u001b[32mProduction simulation for structure 6 completed.\u001b[0m\n",
      "\u001b[36mAll simulations for structure 6 completed.\n",
      "\u001b[0m\n",
      "\u001b[31mStarting simulations for structure 7...\u001b[0m\n",
      "Running: relaxed\n",
      "Run time: 4.218691538000712\n",
      "Finished: relaxed\n"
     ]
    },
    {
     "name": "stderr",
     "output_type": "stream",
     "text": [
      "INFO: Lists updated 1 times (every ~100.000000 steps)\n",
      "INFO: Aggregated I/O statistics (set debug=1 for file-wise information)\n",
      "\t  2.199 MB written to files\n",
      "\t 96.000  B written to stdout/stderr\n",
      "\tFor a total of    0.561 MB/s\n",
      "\n"
     ]
    },
    {
     "name": "stdout",
     "output_type": "stream",
     "text": [
      "All queued simulations finished in: 10.510456831998454\n",
      "\u001b[32mRelaxation simulation for structure 7 completed.\u001b[0m\n",
      "Running: eq\n",
      "Run time: 0.5638056230000075\n",
      "Finished: eq\n"
     ]
    },
    {
     "name": "stderr",
     "output_type": "stream",
     "text": [
      "INFO: Lists updated 3 times (every ~333.333333 steps)\n",
      "INFO: Aggregated I/O statistics (set debug=1 for file-wise information)\n",
      "\t  1.152 MB written to files\n",
      "\t 62.000  B written to stdout/stderr\n",
      "\tFor a total of     4.06 MB/s\n",
      "\n"
     ]
    },
    {
     "name": "stdout",
     "output_type": "stream",
     "text": [
      "All queued simulations finished in: 10.521828044998983\n",
      "\u001b[32mEquilibration simulation for structure 7 completed.\u001b[0m\n",
      "Running: prod\n",
      "Run time: 0.5829224709996197\n",
      "Finished: prod\n"
     ]
    },
    {
     "name": "stderr",
     "output_type": "stream",
     "text": [
      "INFO: Lists updated 4 times (every ~250.000000 steps)\n",
      "INFO: Aggregated I/O statistics (set debug=1 for file-wise information)\n",
      "\t  1.154 MB written to files\n",
      "\t 62.000  B written to stdout/stderr\n",
      "\tFor a total of     3.86 MB/s\n",
      "\n"
     ]
    },
    {
     "name": "stdout",
     "output_type": "stream",
     "text": [
      "All queued simulations finished in: 10.520797672001208\n",
      "\u001b[32mProduction simulation for structure 7 completed.\u001b[0m\n",
      "\u001b[36mAll simulations for structure 7 completed.\n",
      "\u001b[0m\n",
      "\u001b[31mStarting simulations for structure 8...\u001b[0m\n",
      "Running: relaxed\n",
      "Run time: 4.253488020000077\n",
      "Finished: relaxed\n"
     ]
    },
    {
     "name": "stderr",
     "output_type": "stream",
     "text": [
      "INFO: Lists updated 1 times (every ~100.000000 steps)\n",
      "INFO: Aggregated I/O statistics (set debug=1 for file-wise information)\n",
      "\t  2.195 MB written to files\n",
      "\t 96.000  B written to stdout/stderr\n",
      "\tFor a total of    0.556 MB/s\n",
      "\n"
     ]
    },
    {
     "name": "stdout",
     "output_type": "stream",
     "text": [
      "All queued simulations finished in: 10.512253904000318\n",
      "\u001b[32mRelaxation simulation for structure 8 completed.\u001b[0m\n",
      "Running: eq\n",
      "Run time: 0.5627097460001096\n",
      "Finished: eq\n"
     ]
    },
    {
     "name": "stderr",
     "output_type": "stream",
     "text": [
      "INFO: Lists updated 3 times (every ~333.333333 steps)\n",
      "INFO: Aggregated I/O statistics (set debug=1 for file-wise information)\n",
      "\t  1.152 MB written to files\n",
      "\t 62.000  B written to stdout/stderr\n",
      "\tFor a total of     3.97 MB/s\n",
      "\n"
     ]
    },
    {
     "name": "stdout",
     "output_type": "stream",
     "text": [
      "All queued simulations finished in: 10.519827754998914\n",
      "\u001b[32mEquilibration simulation for structure 8 completed.\u001b[0m\n",
      "Running: prod\n",
      "Run time: 0.5393078489996697\n",
      "Finished: prod\n"
     ]
    },
    {
     "name": "stderr",
     "output_type": "stream",
     "text": [
      "INFO: Lists updated 4 times (every ~250.000000 steps)\n",
      "INFO: Aggregated I/O statistics (set debug=1 for file-wise information)\n",
      "\t  1.154 MB written to files\n",
      "\t 62.000  B written to stdout/stderr\n",
      "\tFor a total of     4.16 MB/s\n",
      "\n"
     ]
    },
    {
     "name": "stdout",
     "output_type": "stream",
     "text": [
      "All queued simulations finished in: 10.512514474999989\n",
      "\u001b[32mProduction simulation for structure 8 completed.\u001b[0m\n",
      "\u001b[36mAll simulations for structure 8 completed.\n",
      "\u001b[0m\n",
      "\u001b[31mStarting simulations for structure 9...\u001b[0m\n",
      "Running: relaxed\n",
      "Run time: 4.24116786400009\n",
      "Finished: relaxed\n"
     ]
    },
    {
     "name": "stderr",
     "output_type": "stream",
     "text": [
      "INFO: Lists updated 1 times (every ~100.000000 steps)\n",
      "INFO: Aggregated I/O statistics (set debug=1 for file-wise information)\n",
      "\t  2.209 MB written to files\n",
      "\t 96.000  B written to stdout/stderr\n",
      "\tFor a total of    0.562 MB/s\n",
      "\n"
     ]
    },
    {
     "name": "stdout",
     "output_type": "stream",
     "text": [
      "All queued simulations finished in: 10.511960260000706\n",
      "\u001b[32mRelaxation simulation for structure 9 completed.\u001b[0m\n",
      "Running: eq\n",
      "Run time: 0.5737996120005846\n",
      "Finished: eq\n"
     ]
    },
    {
     "name": "stderr",
     "output_type": "stream",
     "text": [
      "INFO: Lists updated 3 times (every ~333.333333 steps)\n",
      "INFO: Aggregated I/O statistics (set debug=1 for file-wise information)\n",
      "\t  1.157 MB written to files\n",
      "\t 62.000  B written to stdout/stderr\n",
      "\tFor a total of     3.84 MB/s\n",
      "\n"
     ]
    },
    {
     "name": "stdout",
     "output_type": "stream",
     "text": [
      "All queued simulations finished in: 10.507392643999992\n",
      "\u001b[32mEquilibration simulation for structure 9 completed.\u001b[0m\n",
      "Running: prod\n",
      "Run time: 0.5596484720008448\n",
      "Finished: prod\n"
     ]
    },
    {
     "name": "stderr",
     "output_type": "stream",
     "text": [
      "INFO: Lists updated 3 times (every ~333.333333 steps)\n",
      "INFO: Aggregated I/O statistics (set debug=1 for file-wise information)\n",
      "\t  1.159 MB written to files\n",
      "\t 62.000  B written to stdout/stderr\n",
      "\tFor a total of     4.07 MB/s\n",
      "\n"
     ]
    },
    {
     "name": "stdout",
     "output_type": "stream",
     "text": [
      "All queued simulations finished in: 10.506535493001138\n",
      "\u001b[32mProduction simulation for structure 9 completed.\u001b[0m\n",
      "\u001b[36mAll simulations for structure 9 completed.\n",
      "\u001b[0m\n",
      "\u001b[31mStarting simulations for structure 10...\u001b[0m\n",
      "Running: relaxed\n",
      "Run time: 4.228334527000698\n",
      "Finished: relaxed\n"
     ]
    },
    {
     "name": "stderr",
     "output_type": "stream",
     "text": [
      "INFO: Lists updated 1 times (every ~100.000000 steps)\n",
      "INFO: Aggregated I/O statistics (set debug=1 for file-wise information)\n",
      "\t  2.194 MB written to files\n",
      "\t 96.000  B written to stdout/stderr\n",
      "\tFor a total of    0.558 MB/s\n",
      "\n"
     ]
    },
    {
     "name": "stdout",
     "output_type": "stream",
     "text": [
      "All queued simulations finished in: 10.508578069999203\n",
      "\u001b[32mRelaxation simulation for structure 10 completed.\u001b[0m\n",
      "Running: eq\n",
      "Run time: 0.5722716690015659\n",
      "Finished: eq\n"
     ]
    },
    {
     "name": "stderr",
     "output_type": "stream",
     "text": [
      "INFO: Lists updated 3 times (every ~333.333333 steps)\n",
      "INFO: Aggregated I/O statistics (set debug=1 for file-wise information)\n",
      "\t  1.150 MB written to files\n",
      "\t 62.000  B written to stdout/stderr\n",
      "\tFor a total of     4.09 MB/s\n",
      "\n"
     ]
    },
    {
     "name": "stdout",
     "output_type": "stream",
     "text": [
      "All queued simulations finished in: 10.520251505000488\n",
      "\u001b[32mEquilibration simulation for structure 10 completed.\u001b[0m\n",
      "Running: prod\n",
      "Run time: 0.569804053999178\n",
      "Finished: prod\n"
     ]
    },
    {
     "name": "stderr",
     "output_type": "stream",
     "text": [
      "INFO: Lists updated 3 times (every ~333.333333 steps)\n",
      "INFO: Aggregated I/O statistics (set debug=1 for file-wise information)\n",
      "\t  1.152 MB written to files\n",
      "\t 62.000  B written to stdout/stderr\n",
      "\tFor a total of     3.97 MB/s\n",
      "\n"
     ]
    },
    {
     "name": "stdout",
     "output_type": "stream",
     "text": [
      "All queued simulations finished in: 10.507033529998807\n",
      "\u001b[32mProduction simulation for structure 10 completed.\u001b[0m\n",
      "\u001b[36mAll simulations for structure 10 completed.\n",
      "\u001b[0m\n",
      "\u001b[31mStarting simulations for structure 11...\u001b[0m\n",
      "Running: relaxed\n",
      "Run time: 4.311704175999694\n",
      "Finished: relaxed\n"
     ]
    },
    {
     "name": "stderr",
     "output_type": "stream",
     "text": [
      "INFO: Lists updated 1 times (every ~100.000000 steps)\n",
      "INFO: Aggregated I/O statistics (set debug=1 for file-wise information)\n",
      "\t  2.204 MB written to files\n",
      "\t 96.000  B written to stdout/stderr\n",
      "\tFor a total of    0.551 MB/s\n",
      "\n"
     ]
    },
    {
     "name": "stdout",
     "output_type": "stream",
     "text": [
      "All queued simulations finished in: 10.509063884999705\n",
      "\u001b[32mRelaxation simulation for structure 11 completed.\u001b[0m\n",
      "Running: eq\n",
      "Run time: 0.5666221980009141\n",
      "Finished: eq\n"
     ]
    },
    {
     "name": "stderr",
     "output_type": "stream",
     "text": [
      "INFO: Lists updated 4 times (every ~250.000000 steps)\n",
      "INFO: Aggregated I/O statistics (set debug=1 for file-wise information)\n",
      "\t  1.155 MB written to files\n",
      "\t 62.000  B written to stdout/stderr\n",
      "\tFor a total of        4 MB/s\n",
      "\n"
     ]
    },
    {
     "name": "stdout",
     "output_type": "stream",
     "text": [
      "All queued simulations finished in: 10.520994758000597\n",
      "\u001b[32mEquilibration simulation for structure 11 completed.\u001b[0m\n",
      "Running: prod\n",
      "Run time: 0.5415490809991752\n",
      "Finished: prod\n"
     ]
    },
    {
     "name": "stderr",
     "output_type": "stream",
     "text": [
      "INFO: Lists updated 3 times (every ~333.333333 steps)\n",
      "INFO: Aggregated I/O statistics (set debug=1 for file-wise information)\n",
      "\t  1.157 MB written to files\n",
      "\t 62.000  B written to stdout/stderr\n",
      "\tFor a total of     4.24 MB/s\n",
      "\n"
     ]
    },
    {
     "name": "stdout",
     "output_type": "stream",
     "text": [
      "All queued simulations finished in: 10.52339139400101\n",
      "\u001b[32mProduction simulation for structure 11 completed.\u001b[0m\n",
      "\u001b[36mAll simulations for structure 11 completed.\n",
      "\u001b[0m\n",
      "\u001b[31mStarting simulations for structure 12...\u001b[0m\n",
      "Running: relaxed\n",
      "Run time: 4.169282426999416\n",
      "Finished: relaxed\n"
     ]
    },
    {
     "name": "stderr",
     "output_type": "stream",
     "text": [
      "INFO: Aggregated I/O statistics (set debug=1 for file-wise information)\n",
      "\t  2.203 MB written to files\n",
      "\t 96.000  B written to stdout/stderr\n",
      "\tFor a total of     0.57 MB/s\n",
      "\n"
     ]
    },
    {
     "name": "stdout",
     "output_type": "stream",
     "text": [
      "All queued simulations finished in: 10.508025757999349\n",
      "\u001b[32mRelaxation simulation for structure 12 completed.\u001b[0m\n",
      "Running: eq\n",
      "Run time: 0.5744515259993932\n",
      "Finished: eq\n"
     ]
    },
    {
     "name": "stderr",
     "output_type": "stream",
     "text": [
      "INFO: Lists updated 3 times (every ~333.333333 steps)\n",
      "INFO: Aggregated I/O statistics (set debug=1 for file-wise information)\n",
      "\t  1.155 MB written to files\n",
      "\t 62.000  B written to stdout/stderr\n",
      "\tFor a total of     3.96 MB/s\n",
      "\n"
     ]
    },
    {
     "name": "stdout",
     "output_type": "stream",
     "text": [
      "All queued simulations finished in: 10.507456675999492\n",
      "\u001b[32mEquilibration simulation for structure 12 completed.\u001b[0m\n",
      "Running: prod\n",
      "Run time: 0.5403199980009958\n",
      "Finished: prod\n"
     ]
    },
    {
     "name": "stderr",
     "output_type": "stream",
     "text": [
      "INFO: Lists updated 3 times (every ~333.333333 steps)\n",
      "INFO: Aggregated I/O statistics (set debug=1 for file-wise information)\n",
      "\t  1.157 MB written to files\n",
      "\t 62.000  B written to stdout/stderr\n",
      "\tFor a total of      4.2 MB/s\n",
      "\n"
     ]
    },
    {
     "name": "stdout",
     "output_type": "stream",
     "text": [
      "All queued simulations finished in: 10.52063175100011\n",
      "\u001b[32mProduction simulation for structure 12 completed.\u001b[0m\n",
      "\u001b[36mAll simulations for structure 12 completed.\n",
      "\u001b[0m\n",
      "\u001b[31mStarting simulations for structure 13...\u001b[0m\n",
      "Running: relaxed\n",
      "Run time: 4.185842565999337\n",
      "Finished: relaxed\n"
     ]
    },
    {
     "name": "stderr",
     "output_type": "stream",
     "text": [
      "INFO: Lists updated 1 times (every ~100.000000 steps)\n",
      "INFO: Aggregated I/O statistics (set debug=1 for file-wise information)\n",
      "\t  2.198 MB written to files\n",
      "\t 96.000  B written to stdout/stderr\n",
      "\tFor a total of    0.565 MB/s\n",
      "\n"
     ]
    },
    {
     "name": "stdout",
     "output_type": "stream",
     "text": [
      "All queued simulations finished in: 10.507740654000372\n",
      "\u001b[32mRelaxation simulation for structure 13 completed.\u001b[0m\n",
      "Running: eq\n",
      "Run time: 0.5394901319996279\n",
      "Finished: eq\n"
     ]
    },
    {
     "name": "stderr",
     "output_type": "stream",
     "text": [
      "INFO: Lists updated 3 times (every ~333.333333 steps)\n",
      "INFO: Aggregated I/O statistics (set debug=1 for file-wise information)\n",
      "\t  1.152 MB written to files\n",
      "\t 62.000  B written to stdout/stderr\n",
      "\tFor a total of      4.2 MB/s\n",
      "\n"
     ]
    },
    {
     "name": "stdout",
     "output_type": "stream",
     "text": [
      "All queued simulations finished in: 10.506891315999383\n",
      "\u001b[32mEquilibration simulation for structure 13 completed.\u001b[0m\n",
      "Running: prod\n",
      "Run time: 0.5796016039985261\n",
      "Finished: prod\n"
     ]
    },
    {
     "name": "stderr",
     "output_type": "stream",
     "text": [
      "INFO: Lists updated 4 times (every ~250.000000 steps)\n",
      "INFO: Aggregated I/O statistics (set debug=1 for file-wise information)\n",
      "\t  1.154 MB written to files\n",
      "\t 62.000  B written to stdout/stderr\n",
      "\tFor a total of     3.96 MB/s\n",
      "\n"
     ]
    },
    {
     "name": "stdout",
     "output_type": "stream",
     "text": [
      "All queued simulations finished in: 10.506913646999237\n",
      "\u001b[32mProduction simulation for structure 13 completed.\u001b[0m\n",
      "\u001b[36mAll simulations for structure 13 completed.\n",
      "\u001b[0m\n",
      "\u001b[31mStarting simulations for structure 14...\u001b[0m\n",
      "Running: relaxed\n",
      "Run time: 4.698862888999429\n",
      "Finished: relaxed\n"
     ]
    },
    {
     "name": "stderr",
     "output_type": "stream",
     "text": [
      "INFO: Lists updated 2 times (every ~50.000000 steps)\n",
      "INFO: Aggregated I/O statistics (set debug=1 for file-wise information)\n",
      "\t  2.198 MB written to files\n",
      "\t 96.000  B written to stdout/stderr\n",
      "\tFor a total of    0.501 MB/s\n",
      "\n"
     ]
    },
    {
     "name": "stdout",
     "output_type": "stream",
     "text": [
      "All queued simulations finished in: 10.5084937240008\n",
      "\u001b[32mRelaxation simulation for structure 14 completed.\u001b[0m\n",
      "Running: eq\n",
      "Run time: 0.5566421040002751\n",
      "Finished: eq\n"
     ]
    },
    {
     "name": "stderr",
     "output_type": "stream",
     "text": [
      "INFO: Lists updated 3 times (every ~333.333333 steps)\n",
      "INFO: Aggregated I/O statistics (set debug=1 for file-wise information)\n",
      "\t  1.151 MB written to files\n",
      "\t 62.000  B written to stdout/stderr\n",
      "\tFor a total of      4.1 MB/s\n",
      "\n"
     ]
    },
    {
     "name": "stdout",
     "output_type": "stream",
     "text": [
      "All queued simulations finished in: 10.518455038998582\n",
      "\u001b[32mEquilibration simulation for structure 14 completed.\u001b[0m\n",
      "Running: prod\n",
      "Run time: 0.5493465359995753\n",
      "Finished: prod\n"
     ]
    },
    {
     "name": "stderr",
     "output_type": "stream",
     "text": [
      "INFO: Lists updated 3 times (every ~333.333333 steps)\n",
      "INFO: Aggregated I/O statistics (set debug=1 for file-wise information)\n",
      "\t  1.154 MB written to files\n",
      "\t 62.000  B written to stdout/stderr\n",
      "\tFor a total of     4.29 MB/s\n",
      "\n"
     ]
    },
    {
     "name": "stdout",
     "output_type": "stream",
     "text": [
      "All queued simulations finished in: 10.519065196000156\n",
      "\u001b[32mProduction simulation for structure 14 completed.\u001b[0m\n",
      "\u001b[36mAll simulations for structure 14 completed.\n",
      "\u001b[0m\n",
      "\u001b[31mStarting simulations for structure 15...\u001b[0m\n",
      "Running: relaxed\n",
      "Run time: 4.515818235000552\n",
      "Finished: relaxed\n"
     ]
    },
    {
     "name": "stderr",
     "output_type": "stream",
     "text": [
      "INFO: Lists updated 2 times (every ~50.000000 steps)\n",
      "INFO: Aggregated I/O statistics (set debug=1 for file-wise information)\n",
      "\t  2.210 MB written to files\n",
      "\t 96.000  B written to stdout/stderr\n",
      "\tFor a total of    0.527 MB/s\n",
      "\n"
     ]
    },
    {
     "name": "stdout",
     "output_type": "stream",
     "text": [
      "All queued simulations finished in: 10.509024021001096\n",
      "\u001b[32mRelaxation simulation for structure 15 completed.\u001b[0m\n",
      "Running: eq\n",
      "Run time: 0.6009486750008364\n",
      "Finished: eq\n"
     ]
    },
    {
     "name": "stderr",
     "output_type": "stream",
     "text": [
      "INFO: Lists updated 3 times (every ~333.333333 steps)\n",
      "INFO: Aggregated I/O statistics (set debug=1 for file-wise information)\n",
      "\t  1.157 MB written to files\n",
      "\t 62.000  B written to stdout/stderr\n",
      "\tFor a total of     3.64 MB/s\n",
      "\n"
     ]
    },
    {
     "name": "stdout",
     "output_type": "stream",
     "text": [
      "All queued simulations finished in: 10.512666056998569\n",
      "\u001b[32mEquilibration simulation for structure 15 completed.\u001b[0m\n",
      "Running: prod\n",
      "Run time: 0.543583941000179\n",
      "Finished: prod\n"
     ]
    },
    {
     "name": "stderr",
     "output_type": "stream",
     "text": [
      "INFO: Lists updated 3 times (every ~333.333333 steps)\n",
      "INFO: Aggregated I/O statistics (set debug=1 for file-wise information)\n",
      "\t  1.159 MB written to files\n",
      "\t 62.000  B written to stdout/stderr\n",
      "\tFor a total of     4.27 MB/s\n",
      "\n"
     ]
    },
    {
     "name": "stdout",
     "output_type": "stream",
     "text": [
      "All queued simulations finished in: 10.522661107001113\n",
      "\u001b[32mProduction simulation for structure 15 completed.\u001b[0m\n",
      "\u001b[36mAll simulations for structure 15 completed.\n",
      "\u001b[0m\n",
      "\u001b[31mStarting simulations for structure 16...\u001b[0m\n",
      "Running: relaxed\n",
      "Run time: 4.696690922999551\n",
      "Finished: relaxed\n"
     ]
    },
    {
     "name": "stderr",
     "output_type": "stream",
     "text": [
      "INFO: Lists updated 1 times (every ~100.000000 steps)\n",
      "INFO: Aggregated I/O statistics (set debug=1 for file-wise information)\n",
      "\t  2.201 MB written to files\n",
      "\t 96.000  B written to stdout/stderr\n",
      "\tFor a total of    0.509 MB/s\n",
      "\n"
     ]
    },
    {
     "name": "stdout",
     "output_type": "stream",
     "text": [
      "All queued simulations finished in: 10.510648617000697\n",
      "\u001b[32mRelaxation simulation for structure 16 completed.\u001b[0m\n",
      "Running: eq\n",
      "Run time: 0.5604903790008393\n",
      "Finished: eq\n"
     ]
    },
    {
     "name": "stderr",
     "output_type": "stream",
     "text": [
      "INFO: Lists updated 3 times (every ~333.333333 steps)\n",
      "INFO: Aggregated I/O statistics (set debug=1 for file-wise information)\n",
      "\t  1.153 MB written to files\n",
      "\t 62.000  B written to stdout/stderr\n",
      "\tFor a total of     4.09 MB/s\n",
      "\n"
     ]
    },
    {
     "name": "stdout",
     "output_type": "stream",
     "text": [
      "All queued simulations finished in: 10.518823275000614\n",
      "\u001b[32mEquilibration simulation for structure 16 completed.\u001b[0m\n",
      "Running: prod\n",
      "Run time: 0.5605479900004866\n",
      "Finished: prod\n"
     ]
    },
    {
     "name": "stderr",
     "output_type": "stream",
     "text": [
      "INFO: Lists updated 4 times (every ~250.000000 steps)\n",
      "INFO: Aggregated I/O statistics (set debug=1 for file-wise information)\n",
      "\t  1.156 MB written to files\n",
      "\t 62.000  B written to stdout/stderr\n",
      "\tFor a total of     4.14 MB/s\n",
      "\n"
     ]
    },
    {
     "name": "stdout",
     "output_type": "stream",
     "text": [
      "All queued simulations finished in: 10.522600861000683\n",
      "\u001b[32mProduction simulation for structure 16 completed.\u001b[0m\n",
      "\u001b[36mAll simulations for structure 16 completed.\n",
      "\u001b[0m\n",
      "\u001b[31mStarting simulations for structure 17...\u001b[0m\n",
      "Running: relaxed\n",
      "Run time: 4.640910300000542\n",
      "Finished: relaxed\n"
     ]
    },
    {
     "name": "stderr",
     "output_type": "stream",
     "text": [
      "INFO: Lists updated 1 times (every ~100.000000 steps)\n",
      "INFO: Aggregated I/O statistics (set debug=1 for file-wise information)\n",
      "\t  2.201 MB written to files\n",
      "\t 96.000  B written to stdout/stderr\n",
      "\tFor a total of    0.507 MB/s\n",
      "\n"
     ]
    },
    {
     "name": "stdout",
     "output_type": "stream",
     "text": [
      "All queued simulations finished in: 10.509324175000074\n",
      "\u001b[32mRelaxation simulation for structure 17 completed.\u001b[0m\n",
      "Running: eq\n",
      "Run time: 0.5978647930005536\n",
      "Finished: eq\n"
     ]
    },
    {
     "name": "stderr",
     "output_type": "stream",
     "text": [
      "INFO: Lists updated 3 times (every ~333.333333 steps)\n",
      "INFO: Aggregated I/O statistics (set debug=1 for file-wise information)\n",
      "\t  1.154 MB written to files\n",
      "\t 62.000  B written to stdout/stderr\n",
      "\tFor a total of     3.66 MB/s\n",
      "\n"
     ]
    },
    {
     "name": "stdout",
     "output_type": "stream",
     "text": [
      "All queued simulations finished in: 10.521450580001328\n",
      "\u001b[32mEquilibration simulation for structure 17 completed.\u001b[0m\n",
      "Running: prod\n",
      "Run time: 0.5580919029998768\n",
      "Finished: prod\n"
     ]
    },
    {
     "name": "stderr",
     "output_type": "stream",
     "text": [
      "INFO: Lists updated 3 times (every ~333.333333 steps)\n",
      "INFO: Aggregated I/O statistics (set debug=1 for file-wise information)\n",
      "\t  1.156 MB written to files\n",
      "\t 62.000  B written to stdout/stderr\n",
      "\tFor a total of     4.09 MB/s\n",
      "\n"
     ]
    },
    {
     "name": "stdout",
     "output_type": "stream",
     "text": [
      "All queued simulations finished in: 10.51687656499962\n",
      "\u001b[32mProduction simulation for structure 17 completed.\u001b[0m\n",
      "\u001b[36mAll simulations for structure 17 completed.\n",
      "\u001b[0m\n",
      "\u001b[31mStarting simulations for structure 18...\u001b[0m\n",
      "Running: relaxed\n",
      "Run time: 4.3510661689997505\n",
      "Finished: relaxed\n"
     ]
    },
    {
     "name": "stderr",
     "output_type": "stream",
     "text": [
      "INFO: Lists updated 1 times (every ~100.000000 steps)\n",
      "INFO: Aggregated I/O statistics (set debug=1 for file-wise information)\n",
      "\t  2.210 MB written to files\n",
      "\t 96.000  B written to stdout/stderr\n",
      "\tFor a total of    0.546 MB/s\n",
      "\n"
     ]
    },
    {
     "name": "stdout",
     "output_type": "stream",
     "text": [
      "All queued simulations finished in: 10.50909022199994\n",
      "\u001b[32mRelaxation simulation for structure 18 completed.\u001b[0m\n",
      "Running: eq\n",
      "Run time: 0.5627187900008721\n",
      "Finished: eq\n"
     ]
    },
    {
     "name": "stderr",
     "output_type": "stream",
     "text": [
      "INFO: Lists updated 3 times (every ~333.333333 steps)\n",
      "INFO: Aggregated I/O statistics (set debug=1 for file-wise information)\n",
      "\t  1.159 MB written to files\n",
      "\t 62.000  B written to stdout/stderr\n",
      "\tFor a total of     4.03 MB/s\n",
      "\n"
     ]
    },
    {
     "name": "stdout",
     "output_type": "stream",
     "text": [
      "All queued simulations finished in: 10.518587804001072\n",
      "\u001b[32mEquilibration simulation for structure 18 completed.\u001b[0m\n",
      "Running: prod\n",
      "Run time: 0.5586534089998167\n",
      "Finished: prod\n"
     ]
    },
    {
     "name": "stderr",
     "output_type": "stream",
     "text": [
      "INFO: Lists updated 4 times (every ~250.000000 steps)\n",
      "INFO: Aggregated I/O statistics (set debug=1 for file-wise information)\n",
      "\t  1.162 MB written to files\n",
      "\t 62.000  B written to stdout/stderr\n",
      "\tFor a total of     3.99 MB/s\n",
      "\n"
     ]
    },
    {
     "name": "stdout",
     "output_type": "stream",
     "text": [
      "All queued simulations finished in: 10.506781467998735\n",
      "\u001b[32mProduction simulation for structure 18 completed.\u001b[0m\n",
      "\u001b[36mAll simulations for structure 18 completed.\n",
      "\u001b[0m\n",
      "\u001b[31mStarting simulations for structure 19...\u001b[0m\n",
      "Running: relaxed\n",
      "Run time: 4.668814501999805\n",
      "Finished: relaxed\n"
     ]
    },
    {
     "name": "stderr",
     "output_type": "stream",
     "text": [
      "INFO: Aggregated I/O statistics (set debug=1 for file-wise information)\n",
      "\t  2.205 MB written to files\n",
      "\t 96.000  B written to stdout/stderr\n",
      "\tFor a total of    0.507 MB/s\n",
      "\n"
     ]
    },
    {
     "name": "stdout",
     "output_type": "stream",
     "text": [
      "All queued simulations finished in: 10.512130537999838\n",
      "\u001b[32mRelaxation simulation for structure 19 completed.\u001b[0m\n",
      "Running: eq\n",
      "Run time: 0.5569947759995557\n",
      "Finished: eq\n"
     ]
    },
    {
     "name": "stderr",
     "output_type": "stream",
     "text": [
      "INFO: Lists updated 4 times (every ~250.000000 steps)\n",
      "INFO: Aggregated I/O statistics (set debug=1 for file-wise information)\n",
      "\t  1.155 MB written to files\n",
      "\t 62.000  B written to stdout/stderr\n",
      "\tFor a total of     4.14 MB/s\n",
      "\n"
     ]
    },
    {
     "name": "stdout",
     "output_type": "stream",
     "text": [
      "All queued simulations finished in: 10.511763034999603\n",
      "\u001b[32mEquilibration simulation for structure 19 completed.\u001b[0m\n",
      "Running: prod\n",
      "Run time: 0.5705316929997934\n",
      "Finished: prod\n"
     ]
    },
    {
     "name": "stderr",
     "output_type": "stream",
     "text": [
      "INFO: Lists updated 4 times (every ~250.000000 steps)\n",
      "INFO: Aggregated I/O statistics (set debug=1 for file-wise information)\n",
      "\t  1.158 MB written to files\n",
      "\t 62.000  B written to stdout/stderr\n",
      "\tFor a total of     4.11 MB/s\n",
      "\n"
     ]
    },
    {
     "name": "stdout",
     "output_type": "stream",
     "text": [
      "All queued simulations finished in: 10.51983329200084\n",
      "\u001b[32mProduction simulation for structure 19 completed.\u001b[0m\n",
      "\u001b[36mAll simulations for structure 19 completed.\n",
      "\u001b[0m\n",
      "\u001b[31mStarting simulations for structure 20...\u001b[0m\n",
      "Running: relaxed\n",
      "Run time: 4.565187161999347\n",
      "Finished: relaxed\n"
     ]
    },
    {
     "name": "stderr",
     "output_type": "stream",
     "text": [
      "INFO: Aggregated I/O statistics (set debug=1 for file-wise information)\n",
      "\t  2.214 MB written to files\n",
      "\t 96.000  B written to stdout/stderr\n",
      "\tFor a total of    0.522 MB/s\n",
      "\n"
     ]
    },
    {
     "name": "stdout",
     "output_type": "stream",
     "text": [
      "All queued simulations finished in: 10.507805012999597\n",
      "\u001b[32mRelaxation simulation for structure 20 completed.\u001b[0m\n",
      "Running: eq\n",
      "Run time: 0.6018968909993418\n",
      "Finished: eq\n"
     ]
    },
    {
     "name": "stderr",
     "output_type": "stream",
     "text": [
      "INFO: Lists updated 3 times (every ~333.333333 steps)\n",
      "INFO: Aggregated I/O statistics (set debug=1 for file-wise information)\n",
      "\t  1.161 MB written to files\n",
      "\t 62.000  B written to stdout/stderr\n",
      "\tFor a total of     3.71 MB/s\n",
      "\n"
     ]
    },
    {
     "name": "stdout",
     "output_type": "stream",
     "text": [
      "All queued simulations finished in: 10.524085387000014\n",
      "\u001b[32mEquilibration simulation for structure 20 completed.\u001b[0m\n",
      "Running: prod\n",
      "Run time: 0.5397083509997174\n",
      "Finished: prod\n"
     ]
    },
    {
     "name": "stderr",
     "output_type": "stream",
     "text": [
      "INFO: Lists updated 3 times (every ~333.333333 steps)\n",
      "INFO: Aggregated I/O statistics (set debug=1 for file-wise information)\n",
      "\t  1.163 MB written to files\n",
      "\t 62.000  B written to stdout/stderr\n",
      "\tFor a total of      4.2 MB/s\n",
      "\n"
     ]
    },
    {
     "name": "stdout",
     "output_type": "stream",
     "text": [
      "All queued simulations finished in: 10.506787551001253\n",
      "\u001b[32mProduction simulation for structure 20 completed.\u001b[0m\n",
      "\u001b[36mAll simulations for structure 20 completed.\n",
      "\u001b[0m\n",
      "\u001b[31mStarting simulations for structure 21...\u001b[0m\n",
      "Running: relaxed\n",
      "Run time: 4.325545858000623\n",
      "Finished: relaxed\n"
     ]
    },
    {
     "name": "stderr",
     "output_type": "stream",
     "text": [
      "INFO: Lists updated 1 times (every ~100.000000 steps)\n",
      "INFO: Aggregated I/O statistics (set debug=1 for file-wise information)\n",
      "\t  2.210 MB written to files\n",
      "\t 96.000  B written to stdout/stderr\n",
      "\tFor a total of    0.549 MB/s\n",
      "\n"
     ]
    },
    {
     "name": "stdout",
     "output_type": "stream",
     "text": [
      "All queued simulations finished in: 10.512229637000928\n",
      "\u001b[32mRelaxation simulation for structure 21 completed.\u001b[0m\n",
      "Running: eq\n",
      "Run time: 0.5598511030002555\n",
      "Finished: eq\n"
     ]
    },
    {
     "name": "stderr",
     "output_type": "stream",
     "text": [
      "INFO: Lists updated 3 times (every ~333.333333 steps)\n",
      "INFO: Aggregated I/O statistics (set debug=1 for file-wise information)\n",
      "\t  1.157 MB written to files\n",
      "\t 62.000  B written to stdout/stderr\n",
      "\tFor a total of     4.03 MB/s\n",
      "\n"
     ]
    },
    {
     "name": "stdout",
     "output_type": "stream",
     "text": [
      "All queued simulations finished in: 10.506845691999843\n",
      "\u001b[32mEquilibration simulation for structure 21 completed.\u001b[0m\n",
      "Running: prod\n",
      "Run time: 0.5609511130005558\n",
      "Finished: prod\n"
     ]
    },
    {
     "name": "stderr",
     "output_type": "stream",
     "text": [
      "INFO: Lists updated 3 times (every ~333.333333 steps)\n",
      "INFO: Aggregated I/O statistics (set debug=1 for file-wise information)\n",
      "\t  1.159 MB written to files\n",
      "\t 62.000  B written to stdout/stderr\n",
      "\tFor a total of     4.02 MB/s\n",
      "\n"
     ]
    },
    {
     "name": "stdout",
     "output_type": "stream",
     "text": [
      "All queued simulations finished in: 10.517875432000437\n",
      "\u001b[32mProduction simulation for structure 21 completed.\u001b[0m\n",
      "\u001b[36mAll simulations for structure 21 completed.\n",
      "\u001b[0m\n",
      "\u001b[31mStarting simulations for structure 22...\u001b[0m\n",
      "Running: relaxed\n",
      "Run time: 4.317318564000743\n",
      "Finished: relaxed\n"
     ]
    },
    {
     "name": "stderr",
     "output_type": "stream",
     "text": [
      "INFO: Lists updated 1 times (every ~100.000000 steps)\n",
      "INFO: Aggregated I/O statistics (set debug=1 for file-wise information)\n",
      "\t  2.211 MB written to files\n",
      "\t 96.000  B written to stdout/stderr\n",
      "\tFor a total of    0.551 MB/s\n",
      "\n"
     ]
    },
    {
     "name": "stdout",
     "output_type": "stream",
     "text": [
      "All queued simulations finished in: 10.511223392999455\n",
      "\u001b[32mRelaxation simulation for structure 22 completed.\u001b[0m\n",
      "Running: eq\n",
      "Run time: 0.5736798759990052\n",
      "Finished: eq\n"
     ]
    },
    {
     "name": "stderr",
     "output_type": "stream",
     "text": [
      "INFO: Lists updated 3 times (every ~333.333333 steps)\n",
      "INFO: Aggregated I/O statistics (set debug=1 for file-wise information)\n",
      "\t  1.159 MB written to files\n",
      "\t 62.000  B written to stdout/stderr\n",
      "\tFor a total of     3.91 MB/s\n",
      "\n"
     ]
    },
    {
     "name": "stdout",
     "output_type": "stream",
     "text": [
      "All queued simulations finished in: 10.509475984999881\n",
      "\u001b[32mEquilibration simulation for structure 22 completed.\u001b[0m\n",
      "Running: prod\n",
      "Run time: 0.563777059000131\n",
      "Finished: prod\n"
     ]
    },
    {
     "name": "stderr",
     "output_type": "stream",
     "text": [
      "INFO: Lists updated 3 times (every ~333.333333 steps)\n",
      "INFO: Aggregated I/O statistics (set debug=1 for file-wise information)\n",
      "\t  1.161 MB written to files\n",
      "\t 62.000  B written to stdout/stderr\n",
      "\tFor a total of     4.09 MB/s\n",
      "\n"
     ]
    },
    {
     "name": "stdout",
     "output_type": "stream",
     "text": [
      "All queued simulations finished in: 10.52050631900056\n",
      "\u001b[32mProduction simulation for structure 22 completed.\u001b[0m\n",
      "\u001b[36mAll simulations for structure 22 completed.\n",
      "\u001b[0m\n",
      "\u001b[31mStarting simulations for structure 23...\u001b[0m\n",
      "Running: relaxed\n",
      "Run time: 4.4378666340016935\n",
      "Finished: relaxed\n"
     ]
    },
    {
     "name": "stderr",
     "output_type": "stream",
     "text": [
      "INFO: Lists updated 1 times (every ~100.000000 steps)\n",
      "INFO: Aggregated I/O statistics (set debug=1 for file-wise information)\n",
      "\t  2.204 MB written to files\n",
      "\t 96.000  B written to stdout/stderr\n",
      "\tFor a total of    0.534 MB/s\n",
      "\n"
     ]
    },
    {
     "name": "stdout",
     "output_type": "stream",
     "text": [
      "All queued simulations finished in: 10.510404036000182\n",
      "\u001b[32mRelaxation simulation for structure 23 completed.\u001b[0m\n",
      "Running: eq\n",
      "Run time: 0.5817897569995694\n",
      "Finished: eq\n"
     ]
    },
    {
     "name": "stderr",
     "output_type": "stream",
     "text": [
      "INFO: Lists updated 3 times (every ~333.333333 steps)\n",
      "INFO: Aggregated I/O statistics (set debug=1 for file-wise information)\n",
      "\t  1.156 MB written to files\n",
      "\t 62.000  B written to stdout/stderr\n",
      "\tFor a total of     3.88 MB/s\n",
      "\n"
     ]
    },
    {
     "name": "stdout",
     "output_type": "stream",
     "text": [
      "All queued simulations finished in: 10.521113873001013\n",
      "\u001b[32mEquilibration simulation for structure 23 completed.\u001b[0m\n",
      "Running: prod\n",
      "Run time: 0.5462053160008509\n",
      "Finished: prod\n"
     ]
    },
    {
     "name": "stderr",
     "output_type": "stream",
     "text": [
      "INFO: Lists updated 3 times (every ~333.333333 steps)\n",
      "INFO: Aggregated I/O statistics (set debug=1 for file-wise information)\n",
      "\t  1.158 MB written to files\n",
      "\t 62.000  B written to stdout/stderr\n",
      "\tFor a total of     4.16 MB/s\n",
      "\n"
     ]
    },
    {
     "name": "stdout",
     "output_type": "stream",
     "text": [
      "All queued simulations finished in: 10.506445148999774\n",
      "\u001b[32mProduction simulation for structure 23 completed.\u001b[0m\n",
      "\u001b[36mAll simulations for structure 23 completed.\n",
      "\u001b[0m\n",
      "\u001b[31mStarting simulations for structure 24...\u001b[0m\n",
      "Running: relaxed\n",
      "Run time: 4.290503111000362\n",
      "Finished: relaxed\n"
     ]
    },
    {
     "name": "stderr",
     "output_type": "stream",
     "text": [
      "INFO: Lists updated 1 times (every ~100.000000 steps)\n",
      "INFO: Aggregated I/O statistics (set debug=1 for file-wise information)\n",
      "\t  2.202 MB written to files\n",
      "\t 96.000  B written to stdout/stderr\n",
      "\tFor a total of    0.552 MB/s\n",
      "\n"
     ]
    },
    {
     "name": "stdout",
     "output_type": "stream",
     "text": [
      "All queued simulations finished in: 10.50760836200061\n",
      "\u001b[32mRelaxation simulation for structure 24 completed.\u001b[0m\n",
      "Running: eq\n",
      "Run time: 0.5505087439996714\n",
      "Finished: eq\n"
     ]
    },
    {
     "name": "stderr",
     "output_type": "stream",
     "text": [
      "INFO: Lists updated 4 times (every ~250.000000 steps)\n",
      "INFO: Aggregated I/O statistics (set debug=1 for file-wise information)\n",
      "\t  1.154 MB written to files\n",
      "\t 62.000  B written to stdout/stderr\n",
      "\tFor a total of     4.08 MB/s\n",
      "\n"
     ]
    },
    {
     "name": "stdout",
     "output_type": "stream",
     "text": [
      "All queued simulations finished in: 10.52112744599981\n",
      "\u001b[32mEquilibration simulation for structure 24 completed.\u001b[0m\n",
      "Running: prod\n",
      "Run time: 0.5549081529989053\n",
      "Finished: prod\n"
     ]
    },
    {
     "name": "stderr",
     "output_type": "stream",
     "text": [
      "INFO: Lists updated 3 times (every ~333.333333 steps)\n",
      "INFO: Aggregated I/O statistics (set debug=1 for file-wise information)\n",
      "\t  1.156 MB written to files\n",
      "\t 62.000  B written to stdout/stderr\n",
      "\tFor a total of     4.04 MB/s\n",
      "\n"
     ]
    },
    {
     "name": "stdout",
     "output_type": "stream",
     "text": [
      "All queued simulations finished in: 10.520988603999285\n",
      "\u001b[32mProduction simulation for structure 24 completed.\u001b[0m\n",
      "\u001b[36mAll simulations for structure 24 completed.\n",
      "\u001b[0m\n",
      "\u001b[31mStarting simulations for structure 25...\u001b[0m\n",
      "Running: relaxed\n",
      "Run time: 4.309689196999898\n",
      "Finished: relaxed\n"
     ]
    },
    {
     "name": "stderr",
     "output_type": "stream",
     "text": [
      "INFO: Aggregated I/O statistics (set debug=1 for file-wise information)\n",
      "\t  2.193 MB written to files\n",
      "\t 96.000  B written to stdout/stderr\n",
      "\tFor a total of    0.547 MB/s\n",
      "\n"
     ]
    },
    {
     "name": "stdout",
     "output_type": "stream",
     "text": [
      "All queued simulations finished in: 10.50957114099947\n",
      "\u001b[32mRelaxation simulation for structure 25 completed.\u001b[0m\n",
      "Running: eq\n",
      "Run time: 0.551575531000708\n",
      "Finished: eq\n"
     ]
    },
    {
     "name": "stderr",
     "output_type": "stream",
     "text": [
      "INFO: Lists updated 3 times (every ~333.333333 steps)\n",
      "INFO: Aggregated I/O statistics (set debug=1 for file-wise information)\n",
      "\t  1.149 MB written to files\n",
      "\t 62.000  B written to stdout/stderr\n",
      "\tFor a total of     4.08 MB/s\n",
      "\n"
     ]
    },
    {
     "name": "stdout",
     "output_type": "stream",
     "text": [
      "All queued simulations finished in: 10.523326050999458\n",
      "\u001b[32mEquilibration simulation for structure 25 completed.\u001b[0m\n",
      "Running: prod\n",
      "Run time: 0.577979513000173\n",
      "Finished: prod\n"
     ]
    },
    {
     "name": "stderr",
     "output_type": "stream",
     "text": [
      "INFO: Lists updated 3 times (every ~333.333333 steps)\n",
      "INFO: Aggregated I/O statistics (set debug=1 for file-wise information)\n",
      "\t  1.152 MB written to files\n",
      "\t 62.000  B written to stdout/stderr\n",
      "\tFor a total of     3.78 MB/s\n",
      "\n"
     ]
    },
    {
     "name": "stdout",
     "output_type": "stream",
     "text": [
      "All queued simulations finished in: 10.519094514000244\n",
      "\u001b[32mProduction simulation for structure 25 completed.\u001b[0m\n",
      "\u001b[36mAll simulations for structure 25 completed.\n",
      "\u001b[0m\n",
      "\u001b[31mStarting simulations for structure 26...\u001b[0m\n",
      "Running: relaxed\n",
      "Run time: 4.215457693999269\n",
      "Finished: relaxed\n"
     ]
    },
    {
     "name": "stderr",
     "output_type": "stream",
     "text": [
      "INFO: Lists updated 1 times (every ~100.000000 steps)\n",
      "INFO: Aggregated I/O statistics (set debug=1 for file-wise information)\n",
      "\t  2.197 MB written to files\n",
      "\t 96.000  B written to stdout/stderr\n",
      "\tFor a total of    0.561 MB/s\n",
      "\n"
     ]
    },
    {
     "name": "stdout",
     "output_type": "stream",
     "text": [
      "All queued simulations finished in: 10.511816144999102\n",
      "\u001b[32mRelaxation simulation for structure 26 completed.\u001b[0m\n",
      "Running: eq\n",
      "Run time: 0.5589281980010128\n",
      "Finished: eq\n"
     ]
    },
    {
     "name": "stderr",
     "output_type": "stream",
     "text": [
      "INFO: Lists updated 3 times (every ~333.333333 steps)\n",
      "INFO: Aggregated I/O statistics (set debug=1 for file-wise information)\n",
      "\t  1.152 MB written to files\n",
      "\t 62.000  B written to stdout/stderr\n",
      "\tFor a total of     3.89 MB/s\n",
      "\n"
     ]
    },
    {
     "name": "stdout",
     "output_type": "stream",
     "text": [
      "All queued simulations finished in: 10.523756377999234\n",
      "\u001b[32mEquilibration simulation for structure 26 completed.\u001b[0m\n",
      "Running: prod\n",
      "Run time: 0.5544388500002242\n",
      "Finished: prod\n"
     ]
    },
    {
     "name": "stderr",
     "output_type": "stream",
     "text": [
      "INFO: Lists updated 3 times (every ~333.333333 steps)\n",
      "INFO: Aggregated I/O statistics (set debug=1 for file-wise information)\n",
      "\t  1.154 MB written to files\n",
      "\t 62.000  B written to stdout/stderr\n",
      "\tFor a total of     4.13 MB/s\n",
      "\n"
     ]
    },
    {
     "name": "stdout",
     "output_type": "stream",
     "text": [
      "All queued simulations finished in: 10.521110984000188\n",
      "\u001b[32mProduction simulation for structure 26 completed.\u001b[0m\n",
      "\u001b[36mAll simulations for structure 26 completed.\n",
      "\u001b[0m\n",
      "\u001b[31mStarting simulations for structure 27...\u001b[0m\n",
      "Running: relaxed\n",
      "Run time: 4.307943133999288\n",
      "Finished: relaxed\n"
     ]
    },
    {
     "name": "stderr",
     "output_type": "stream",
     "text": [
      "INFO: Lists updated 1 times (every ~100.000000 steps)\n",
      "INFO: Aggregated I/O statistics (set debug=1 for file-wise information)\n",
      "\t  2.205 MB written to files\n",
      "\t 96.000  B written to stdout/stderr\n",
      "\tFor a total of    0.551 MB/s\n",
      "\n"
     ]
    },
    {
     "name": "stdout",
     "output_type": "stream",
     "text": [
      "All queued simulations finished in: 10.511194931999853\n",
      "\u001b[32mRelaxation simulation for structure 27 completed.\u001b[0m\n",
      "Running: eq\n",
      "Run time: 0.5592107409993332\n",
      "Finished: eq\n"
     ]
    },
    {
     "name": "stderr",
     "output_type": "stream",
     "text": [
      "INFO: Lists updated 3 times (every ~333.333333 steps)\n",
      "INFO: Aggregated I/O statistics (set debug=1 for file-wise information)\n",
      "\t  1.155 MB written to files\n",
      "\t 62.000  B written to stdout/stderr\n",
      "\tFor a total of     4.08 MB/s\n",
      "\n"
     ]
    },
    {
     "name": "stdout",
     "output_type": "stream",
     "text": [
      "All queued simulations finished in: 10.523467143000744\n",
      "\u001b[32mEquilibration simulation for structure 27 completed.\u001b[0m\n",
      "Running: prod\n",
      "Run time: 0.5495595240008697\n",
      "Finished: prod\n"
     ]
    },
    {
     "name": "stderr",
     "output_type": "stream",
     "text": [
      "INFO: Lists updated 3 times (every ~333.333333 steps)\n",
      "INFO: Aggregated I/O statistics (set debug=1 for file-wise information)\n",
      "\t  1.157 MB written to files\n",
      "\t 62.000  B written to stdout/stderr\n",
      "\tFor a total of     4.22 MB/s\n",
      "\n"
     ]
    },
    {
     "name": "stdout",
     "output_type": "stream",
     "text": [
      "All queued simulations finished in: 10.522106751999672\n",
      "\u001b[32mProduction simulation for structure 27 completed.\u001b[0m\n",
      "\u001b[36mAll simulations for structure 27 completed.\n",
      "\u001b[0m\n",
      "\u001b[31mStarting simulations for structure 28...\u001b[0m\n",
      "Running: relaxed\n",
      "Run time: 4.393096492998666\n",
      "Finished: relaxed\n"
     ]
    },
    {
     "name": "stderr",
     "output_type": "stream",
     "text": [
      "INFO: Lists updated 1 times (every ~100.000000 steps)\n",
      "INFO: Aggregated I/O statistics (set debug=1 for file-wise information)\n",
      "\t  2.202 MB written to files\n",
      "\t 96.000  B written to stdout/stderr\n",
      "\tFor a total of     0.54 MB/s\n",
      "\n"
     ]
    },
    {
     "name": "stdout",
     "output_type": "stream",
     "text": [
      "All queued simulations finished in: 10.514216593999663\n",
      "\u001b[32mRelaxation simulation for structure 28 completed.\u001b[0m\n",
      "Running: eq\n",
      "Run time: 0.5972887570005696\n",
      "Finished: eq\n"
     ]
    },
    {
     "name": "stderr",
     "output_type": "stream",
     "text": [
      "INFO: Lists updated 3 times (every ~333.333333 steps)\n",
      "INFO: Aggregated I/O statistics (set debug=1 for file-wise information)\n",
      "\t  1.153 MB written to files\n",
      "\t 62.000  B written to stdout/stderr\n",
      "\tFor a total of     3.68 MB/s\n",
      "\n"
     ]
    },
    {
     "name": "stdout",
     "output_type": "stream",
     "text": [
      "All queued simulations finished in: 10.522204932998648\n",
      "\u001b[32mEquilibration simulation for structure 28 completed.\u001b[0m\n",
      "Running: prod\n",
      "Run time: 0.5468625860012253\n",
      "Finished: prod\n"
     ]
    },
    {
     "name": "stderr",
     "output_type": "stream",
     "text": [
      "INFO: Lists updated 3 times (every ~333.333333 steps)\n",
      "INFO: Aggregated I/O statistics (set debug=1 for file-wise information)\n",
      "\t  1.156 MB written to files\n",
      "\t 62.000  B written to stdout/stderr\n",
      "\tFor a total of     4.17 MB/s\n",
      "\n"
     ]
    },
    {
     "name": "stdout",
     "output_type": "stream",
     "text": [
      "All queued simulations finished in: 10.523490486999435\n",
      "\u001b[32mProduction simulation for structure 28 completed.\u001b[0m\n",
      "\u001b[36mAll simulations for structure 28 completed.\n",
      "\u001b[0m\n",
      "\u001b[31mStarting simulations for structure 29...\u001b[0m\n",
      "Running: relaxed\n",
      "Run time: 4.3887617780001165\n",
      "Finished: relaxed\n"
     ]
    },
    {
     "name": "stderr",
     "output_type": "stream",
     "text": [
      "INFO: Lists updated 2 times (every ~50.000000 steps)\n",
      "INFO: Aggregated I/O statistics (set debug=1 for file-wise information)\n",
      "\t  2.204 MB written to files\n",
      "\t 96.000  B written to stdout/stderr\n",
      "\tFor a total of    0.539 MB/s\n",
      "\n"
     ]
    },
    {
     "name": "stdout",
     "output_type": "stream",
     "text": [
      "All queued simulations finished in: 10.508402194000155\n",
      "\u001b[32mRelaxation simulation for structure 29 completed.\u001b[0m\n",
      "Running: eq\n",
      "Run time: 0.589771209999526\n",
      "Finished: eq\n"
     ]
    },
    {
     "name": "stderr",
     "output_type": "stream",
     "text": [
      "INFO: Lists updated 3 times (every ~333.333333 steps)\n",
      "INFO: Aggregated I/O statistics (set debug=1 for file-wise information)\n",
      "\t  1.155 MB written to files\n",
      "\t 62.000  B written to stdout/stderr\n",
      "\tFor a total of      3.9 MB/s\n",
      "\n"
     ]
    },
    {
     "name": "stdout",
     "output_type": "stream",
     "text": [
      "All queued simulations finished in: 10.517665815001237\n",
      "\u001b[32mEquilibration simulation for structure 29 completed.\u001b[0m\n",
      "Running: prod\n",
      "Run time: 0.5639924430015526\n",
      "Finished: prod\n"
     ]
    },
    {
     "name": "stderr",
     "output_type": "stream",
     "text": [
      "INFO: Lists updated 3 times (every ~333.333333 steps)\n",
      "INFO: Aggregated I/O statistics (set debug=1 for file-wise information)\n",
      "\t  1.158 MB written to files\n",
      "\t 62.000  B written to stdout/stderr\n",
      "\tFor a total of     4.12 MB/s\n",
      "\n"
     ]
    },
    {
     "name": "stdout",
     "output_type": "stream",
     "text": [
      "All queued simulations finished in: 10.509449842000322\n",
      "\u001b[32mProduction simulation for structure 29 completed.\u001b[0m\n",
      "\u001b[36mAll simulations for structure 29 completed.\n",
      "\u001b[0m\n",
      "\u001b[31mStarting simulations for structure 30...\u001b[0m\n",
      "Running: relaxed\n",
      "Run time: 4.904450991998601\n",
      "Finished: relaxed\n"
     ]
    },
    {
     "name": "stderr",
     "output_type": "stream",
     "text": [
      "INFO: Lists updated 3 times (every ~33.333333 steps)\n",
      "INFO: Aggregated I/O statistics (set debug=1 for file-wise information)\n",
      "\t  2.212 MB written to files\n",
      "\t 96.000  B written to stdout/stderr\n",
      "\tFor a total of    0.483 MB/s\n",
      "\n"
     ]
    },
    {
     "name": "stdout",
     "output_type": "stream",
     "text": [
      "All queued simulations finished in: 10.507475926999177\n",
      "\u001b[32mRelaxation simulation for structure 30 completed.\u001b[0m\n",
      "Running: eq\n",
      "Run time: 0.5600352219989873\n",
      "Finished: eq\n"
     ]
    },
    {
     "name": "stderr",
     "output_type": "stream",
     "text": [
      "INFO: Lists updated 3 times (every ~333.333333 steps)\n",
      "INFO: Aggregated I/O statistics (set debug=1 for file-wise information)\n",
      "\t  1.159 MB written to files\n",
      "\t 62.000  B written to stdout/stderr\n",
      "\tFor a total of     4.02 MB/s\n",
      "\n"
     ]
    },
    {
     "name": "stdout",
     "output_type": "stream",
     "text": [
      "All queued simulations finished in: 10.514336977001221\n",
      "\u001b[32mEquilibration simulation for structure 30 completed.\u001b[0m\n",
      "Running: prod\n",
      "Run time: 0.5887554609998915\n",
      "Finished: prod\n"
     ]
    },
    {
     "name": "stderr",
     "output_type": "stream",
     "text": [
      "INFO: Lists updated 3 times (every ~333.333333 steps)\n",
      "INFO: Aggregated I/O statistics (set debug=1 for file-wise information)\n",
      "\t  1.161 MB written to files\n",
      "\t 62.000  B written to stdout/stderr\n",
      "\tFor a total of     4.01 MB/s\n",
      "\n"
     ]
    },
    {
     "name": "stdout",
     "output_type": "stream",
     "text": [
      "All queued simulations finished in: 10.515624589001163\n",
      "\u001b[32mProduction simulation for structure 30 completed.\u001b[0m\n",
      "\u001b[36mAll simulations for structure 30 completed.\n",
      "\u001b[0m\n",
      "\u001b[31mStarting simulations for structure 31...\u001b[0m\n",
      "Running: relaxed\n",
      "Run time: 4.344325897998715\n",
      "Finished: relaxed\n"
     ]
    },
    {
     "name": "stderr",
     "output_type": "stream",
     "text": [
      "INFO: Lists updated 1 times (every ~100.000000 steps)\n",
      "INFO: Aggregated I/O statistics (set debug=1 for file-wise information)\n",
      "\t  2.195 MB written to files\n",
      "\t 96.000  B written to stdout/stderr\n",
      "\tFor a total of    0.543 MB/s\n",
      "\n"
     ]
    },
    {
     "name": "stdout",
     "output_type": "stream",
     "text": [
      "All queued simulations finished in: 10.507724156001132\n",
      "\u001b[32mRelaxation simulation for structure 31 completed.\u001b[0m\n",
      "Running: eq\n",
      "Run time: 0.5636305770003673\n",
      "Finished: eq\n"
     ]
    },
    {
     "name": "stderr",
     "output_type": "stream",
     "text": [
      "INFO: Lists updated 3 times (every ~333.333333 steps)\n",
      "INFO: Aggregated I/O statistics (set debug=1 for file-wise information)\n",
      "\t  1.151 MB written to files\n",
      "\t 62.000  B written to stdout/stderr\n",
      "\tFor a total of     3.93 MB/s\n",
      "\n"
     ]
    },
    {
     "name": "stdout",
     "output_type": "stream",
     "text": [
      "All queued simulations finished in: 10.522631603000264\n",
      "\u001b[32mEquilibration simulation for structure 31 completed.\u001b[0m\n",
      "Running: prod\n",
      "Run time: 0.5520298119990912\n",
      "Finished: prod\n"
     ]
    },
    {
     "name": "stderr",
     "output_type": "stream",
     "text": [
      "INFO: Lists updated 3 times (every ~333.333333 steps)\n",
      "INFO: Aggregated I/O statistics (set debug=1 for file-wise information)\n",
      "\t  1.154 MB written to files\n",
      "\t 62.000  B written to stdout/stderr\n",
      "\tFor a total of      4.2 MB/s\n",
      "\n"
     ]
    },
    {
     "name": "stdout",
     "output_type": "stream",
     "text": [
      "All queued simulations finished in: 10.512233732000823\n",
      "\u001b[32mProduction simulation for structure 31 completed.\u001b[0m\n",
      "\u001b[36mAll simulations for structure 31 completed.\n",
      "\u001b[0m\n",
      "\u001b[31mStarting simulations for structure 32...\u001b[0m\n",
      "Running: relaxed\n",
      "Run time: 4.374912221999693\n",
      "Finished: relaxed\n"
     ]
    },
    {
     "name": "stderr",
     "output_type": "stream",
     "text": [
      "INFO: Aggregated I/O statistics (set debug=1 for file-wise information)\n",
      "\t  2.205 MB written to files\n",
      "\t 96.000  B written to stdout/stderr\n",
      "\tFor a total of    0.541 MB/s\n",
      "\n"
     ]
    },
    {
     "name": "stdout",
     "output_type": "stream",
     "text": [
      "All queued simulations finished in: 10.512851987999966\n",
      "\u001b[32mRelaxation simulation for structure 32 completed.\u001b[0m\n",
      "Running: eq\n",
      "Run time: 0.5519204310003261\n",
      "Finished: eq\n"
     ]
    },
    {
     "name": "stderr",
     "output_type": "stream",
     "text": [
      "INFO: Lists updated 3 times (every ~333.333333 steps)\n",
      "INFO: Aggregated I/O statistics (set debug=1 for file-wise information)\n",
      "\t  1.155 MB written to files\n",
      "\t 62.000  B written to stdout/stderr\n",
      "\tFor a total of     4.12 MB/s\n",
      "\n"
     ]
    },
    {
     "name": "stdout",
     "output_type": "stream",
     "text": [
      "All queued simulations finished in: 10.526375874998848\n",
      "\u001b[32mEquilibration simulation for structure 32 completed.\u001b[0m\n",
      "Running: prod\n",
      "Run time: 0.5796482669993566\n",
      "Finished: prod\n"
     ]
    },
    {
     "name": "stderr",
     "output_type": "stream",
     "text": [
      "INFO: Lists updated 3 times (every ~333.333333 steps)\n",
      "INFO: Aggregated I/O statistics (set debug=1 for file-wise information)\n",
      "\t  1.157 MB written to files\n",
      "\t 62.000  B written to stdout/stderr\n",
      "\tFor a total of     3.97 MB/s\n",
      "\n"
     ]
    },
    {
     "name": "stdout",
     "output_type": "stream",
     "text": [
      "All queued simulations finished in: 10.519141775999742\n",
      "\u001b[32mProduction simulation for structure 32 completed.\u001b[0m\n",
      "\u001b[36mAll simulations for structure 32 completed.\n",
      "\u001b[0m\n",
      "\u001b[31mStarting simulations for structure 33...\u001b[0m\n",
      "Running: relaxed\n",
      "Run time: 4.296954494000602\n",
      "Finished: relaxed\n"
     ]
    },
    {
     "name": "stderr",
     "output_type": "stream",
     "text": [
      "INFO: Lists updated 1 times (every ~100.000000 steps)\n",
      "INFO: Aggregated I/O statistics (set debug=1 for file-wise information)\n",
      "\t  2.207 MB written to files\n",
      "\t 96.000  B written to stdout/stderr\n",
      "\tFor a total of    0.554 MB/s\n",
      "\n"
     ]
    },
    {
     "name": "stdout",
     "output_type": "stream",
     "text": [
      "All queued simulations finished in: 10.511628644000666\n",
      "\u001b[32mRelaxation simulation for structure 33 completed.\u001b[0m\n",
      "Running: eq\n",
      "Run time: 0.6198301040003571\n",
      "Finished: eq\n"
     ]
    },
    {
     "name": "stderr",
     "output_type": "stream",
     "text": [
      "INFO: Lists updated 3 times (every ~333.333333 steps)\n",
      "INFO: Aggregated I/O statistics (set debug=1 for file-wise information)\n",
      "\t  1.157 MB written to files\n",
      "\t 62.000  B written to stdout/stderr\n",
      "\tFor a total of     3.75 MB/s\n",
      "\n"
     ]
    },
    {
     "name": "stdout",
     "output_type": "stream",
     "text": [
      "All queued simulations finished in: 10.506985079000515\n",
      "\u001b[32mEquilibration simulation for structure 33 completed.\u001b[0m\n",
      "Running: prod\n",
      "Run time: 0.5483610409992252\n",
      "Finished: prod\n"
     ]
    },
    {
     "name": "stderr",
     "output_type": "stream",
     "text": [
      "INFO: Lists updated 3 times (every ~333.333333 steps)\n",
      "INFO: Aggregated I/O statistics (set debug=1 for file-wise information)\n",
      "\t  1.159 MB written to files\n",
      "\t 62.000  B written to stdout/stderr\n",
      "\tFor a total of     4.24 MB/s\n",
      "\n"
     ]
    },
    {
     "name": "stdout",
     "output_type": "stream",
     "text": [
      "All queued simulations finished in: 10.518974290000187\n",
      "\u001b[32mProduction simulation for structure 33 completed.\u001b[0m\n",
      "\u001b[36mAll simulations for structure 33 completed.\n",
      "\u001b[0m\n",
      "\u001b[31mStarting simulations for structure 34...\u001b[0m\n",
      "Running: relaxed\n",
      "Run time: 4.69047293299991\n",
      "Finished: relaxed\n"
     ]
    },
    {
     "name": "stderr",
     "output_type": "stream",
     "text": [
      "INFO: Lists updated 2 times (every ~50.000000 steps)\n",
      "INFO: Aggregated I/O statistics (set debug=1 for file-wise information)\n",
      "\t  2.194 MB written to files\n",
      "\t 96.000  B written to stdout/stderr\n",
      "\tFor a total of    0.502 MB/s\n",
      "\n"
     ]
    },
    {
     "name": "stdout",
     "output_type": "stream",
     "text": [
      "All queued simulations finished in: 10.511219957999856\n",
      "\u001b[32mRelaxation simulation for structure 34 completed.\u001b[0m\n",
      "Running: eq\n",
      "Run time: 0.5815278619993478\n",
      "Finished: eq\n"
     ]
    },
    {
     "name": "stderr",
     "output_type": "stream",
     "text": [
      "INFO: Lists updated 4 times (every ~250.000000 steps)\n",
      "INFO: Aggregated I/O statistics (set debug=1 for file-wise information)\n",
      "\t  1.150 MB written to files\n",
      "\t 62.000  B written to stdout/stderr\n",
      "\tFor a total of     3.82 MB/s\n",
      "\n"
     ]
    },
    {
     "name": "stdout",
     "output_type": "stream",
     "text": [
      "All queued simulations finished in: 10.519060781000007\n",
      "\u001b[32mEquilibration simulation for structure 34 completed.\u001b[0m\n",
      "Running: prod\n",
      "Run time: 0.5442587730012747\n",
      "Finished: prod\n"
     ]
    },
    {
     "name": "stderr",
     "output_type": "stream",
     "text": [
      "INFO: Lists updated 4 times (every ~250.000000 steps)\n",
      "INFO: Aggregated I/O statistics (set debug=1 for file-wise information)\n",
      "\t  1.152 MB written to files\n",
      "\t 62.000  B written to stdout/stderr\n",
      "\tFor a total of     4.04 MB/s\n",
      "\n"
     ]
    },
    {
     "name": "stdout",
     "output_type": "stream",
     "text": [
      "All queued simulations finished in: 10.507127719998607\n",
      "\u001b[32mProduction simulation for structure 34 completed.\u001b[0m\n",
      "\u001b[36mAll simulations for structure 34 completed.\n",
      "\u001b[0m\n",
      "\u001b[31mStarting simulations for structure 35...\u001b[0m\n",
      "Running: relaxed\n",
      "Run time: 4.4926608959995065\n",
      "Finished: relaxed\n"
     ]
    },
    {
     "name": "stderr",
     "output_type": "stream",
     "text": [
      "INFO: Lists updated 1 times (every ~100.000000 steps)\n",
      "INFO: Aggregated I/O statistics (set debug=1 for file-wise information)\n",
      "\t  2.196 MB written to files\n",
      "\t 96.000  B written to stdout/stderr\n",
      "\tFor a total of    0.527 MB/s\n",
      "\n"
     ]
    },
    {
     "name": "stdout",
     "output_type": "stream",
     "text": [
      "All queued simulations finished in: 10.508490954998706\n",
      "\u001b[32mRelaxation simulation for structure 35 completed.\u001b[0m\n",
      "Running: eq\n",
      "Run time: 0.5415066139994451\n",
      "Finished: eq\n"
     ]
    },
    {
     "name": "stderr",
     "output_type": "stream",
     "text": [
      "INFO: Lists updated 4 times (every ~250.000000 steps)\n",
      "INFO: Aggregated I/O statistics (set debug=1 for file-wise information)\n",
      "\t  1.152 MB written to files\n",
      "\t 62.000  B written to stdout/stderr\n",
      "\tFor a total of     4.16 MB/s\n",
      "\n"
     ]
    },
    {
     "name": "stdout",
     "output_type": "stream",
     "text": [
      "All queued simulations finished in: 10.506933112999832\n",
      "\u001b[32mEquilibration simulation for structure 35 completed.\u001b[0m\n",
      "Running: prod\n",
      "Run time: 0.5578469709998899\n",
      "Finished: prod\n"
     ]
    },
    {
     "name": "stderr",
     "output_type": "stream",
     "text": [
      "INFO: Lists updated 3 times (every ~333.333333 steps)\n",
      "INFO: Aggregated I/O statistics (set debug=1 for file-wise information)\n",
      "\t  1.153 MB written to files\n",
      "\t 62.000  B written to stdout/stderr\n",
      "\tFor a total of     4.21 MB/s\n",
      "\n"
     ]
    },
    {
     "name": "stdout",
     "output_type": "stream",
     "text": [
      "All queued simulations finished in: 10.522335382000165\n",
      "\u001b[32mProduction simulation for structure 35 completed.\u001b[0m\n",
      "\u001b[36mAll simulations for structure 35 completed.\n",
      "\u001b[0m\n",
      "\u001b[31mStarting simulations for structure 36...\u001b[0m\n",
      "Running: relaxed\n",
      "Run time: 4.188743232998604\n",
      "Finished: relaxed\n"
     ]
    },
    {
     "name": "stderr",
     "output_type": "stream",
     "text": [
      "INFO: Aggregated I/O statistics (set debug=1 for file-wise information)\n",
      "\t  2.206 MB written to files\n",
      "\t 96.000  B written to stdout/stderr\n",
      "\tFor a total of    0.567 MB/s\n",
      "\n"
     ]
    },
    {
     "name": "stdout",
     "output_type": "stream",
     "text": [
      "All queued simulations finished in: 10.512090206999346\n",
      "\u001b[32mRelaxation simulation for structure 36 completed.\u001b[0m\n",
      "Running: eq\n",
      "Run time: 0.5695391940007539\n",
      "Finished: eq\n"
     ]
    },
    {
     "name": "stderr",
     "output_type": "stream",
     "text": [
      "INFO: Lists updated 3 times (every ~333.333333 steps)\n",
      "INFO: Aggregated I/O statistics (set debug=1 for file-wise information)\n",
      "\t  1.155 MB written to files\n",
      "\t 62.000  B written to stdout/stderr\n",
      "\tFor a total of      3.8 MB/s\n",
      "\n"
     ]
    },
    {
     "name": "stdout",
     "output_type": "stream",
     "text": [
      "All queued simulations finished in: 10.508711343998584\n",
      "\u001b[32mEquilibration simulation for structure 36 completed.\u001b[0m\n",
      "Running: prod\n",
      "Run time: 0.5608553969996137\n",
      "Finished: prod\n"
     ]
    },
    {
     "name": "stderr",
     "output_type": "stream",
     "text": [
      "INFO: Lists updated 4 times (every ~250.000000 steps)\n",
      "INFO: Aggregated I/O statistics (set debug=1 for file-wise information)\n",
      "\t  1.158 MB written to files\n",
      "\t 62.000  B written to stdout/stderr\n",
      "\tFor a total of     4.12 MB/s\n",
      "\n"
     ]
    },
    {
     "name": "stdout",
     "output_type": "stream",
     "text": [
      "All queued simulations finished in: 10.506733025000358\n",
      "\u001b[32mProduction simulation for structure 36 completed.\u001b[0m\n",
      "\u001b[36mAll simulations for structure 36 completed.\n",
      "\u001b[0m\n",
      "\u001b[31mStarting simulations for structure 37...\u001b[0m\n",
      "Running: relaxed\n",
      "Run time: 4.484083448998717\n",
      "Finished: relaxed\n"
     ]
    },
    {
     "name": "stderr",
     "output_type": "stream",
     "text": [
      "INFO: Lists updated 2 times (every ~50.000000 steps)\n",
      "INFO: Aggregated I/O statistics (set debug=1 for file-wise information)\n",
      "\t  2.189 MB written to files\n",
      "\t 96.000  B written to stdout/stderr\n",
      "\tFor a total of    0.525 MB/s\n",
      "\n"
     ]
    },
    {
     "name": "stdout",
     "output_type": "stream",
     "text": [
      "All queued simulations finished in: 10.512324035000347\n",
      "\u001b[32mRelaxation simulation for structure 37 completed.\u001b[0m\n",
      "Running: eq\n",
      "Run time: 0.5682452349992673\n",
      "Finished: eq\n"
     ]
    },
    {
     "name": "stderr",
     "output_type": "stream",
     "text": [
      "INFO: Lists updated 4 times (every ~250.000000 steps)\n",
      "INFO: Aggregated I/O statistics (set debug=1 for file-wise information)\n",
      "\t  1.148 MB written to files\n",
      "\t 62.000  B written to stdout/stderr\n",
      "\tFor a total of        4 MB/s\n",
      "\n"
     ]
    },
    {
     "name": "stdout",
     "output_type": "stream",
     "text": [
      "All queued simulations finished in: 10.507055660000333\n",
      "\u001b[32mEquilibration simulation for structure 37 completed.\u001b[0m\n",
      "Running: prod\n",
      "Run time: 0.5644927970006393\n",
      "Finished: prod\n"
     ]
    },
    {
     "name": "stderr",
     "output_type": "stream",
     "text": [
      "INFO: Lists updated 3 times (every ~333.333333 steps)\n",
      "INFO: Aggregated I/O statistics (set debug=1 for file-wise information)\n",
      "\t  1.150 MB written to files\n",
      "\t 62.000  B written to stdout/stderr\n",
      "\tFor a total of     3.88 MB/s\n",
      "\n"
     ]
    },
    {
     "name": "stdout",
     "output_type": "stream",
     "text": [
      "All queued simulations finished in: 10.514091621998887\n",
      "\u001b[32mProduction simulation for structure 37 completed.\u001b[0m\n",
      "\u001b[36mAll simulations for structure 37 completed.\n",
      "\u001b[0m\n",
      "\u001b[31mStarting simulations for structure 38...\u001b[0m\n",
      "Running: relaxed\n",
      "Run time: 4.3949362809999\n",
      "Finished: relaxed\n"
     ]
    },
    {
     "name": "stderr",
     "output_type": "stream",
     "text": [
      "INFO: Lists updated 2 times (every ~50.000000 steps)\n",
      "INFO: Aggregated I/O statistics (set debug=1 for file-wise information)\n",
      "\t  2.199 MB written to files\n",
      "\t 96.000  B written to stdout/stderr\n",
      "\tFor a total of     0.54 MB/s\n",
      "\n"
     ]
    },
    {
     "name": "stdout",
     "output_type": "stream",
     "text": [
      "All queued simulations finished in: 10.510656210999514\n",
      "\u001b[32mRelaxation simulation for structure 38 completed.\u001b[0m\n",
      "Running: eq\n",
      "Run time: 0.6576712410005712\n",
      "Finished: eq\n"
     ]
    },
    {
     "name": "stderr",
     "output_type": "stream",
     "text": [
      "INFO: Lists updated 5 times (every ~200.000000 steps)\n",
      "INFO: Aggregated I/O statistics (set debug=1 for file-wise information)\n",
      "\t  1.151 MB written to files\n",
      "\t 62.000  B written to stdout/stderr\n",
      "\tFor a total of     4.04 MB/s\n",
      "\n"
     ]
    },
    {
     "name": "stdout",
     "output_type": "stream",
     "text": [
      "All queued simulations finished in: 10.51258080200023\n",
      "\u001b[32mEquilibration simulation for structure 38 completed.\u001b[0m\n",
      "Running: prod\n",
      "Run time: 0.553964602000633\n",
      "Finished: prod\n"
     ]
    },
    {
     "name": "stderr",
     "output_type": "stream",
     "text": [
      "INFO: Lists updated 3 times (every ~333.333333 steps)\n",
      "INFO: Aggregated I/O statistics (set debug=1 for file-wise information)\n",
      "\t  1.154 MB written to files\n",
      "\t 62.000  B written to stdout/stderr\n",
      "\tFor a total of     4.23 MB/s\n",
      "\n"
     ]
    },
    {
     "name": "stdout",
     "output_type": "stream",
     "text": [
      "All queued simulations finished in: 10.508336732998941\n",
      "\u001b[32mProduction simulation for structure 38 completed.\u001b[0m\n",
      "\u001b[36mAll simulations for structure 38 completed.\n",
      "\u001b[0m\n",
      "\u001b[31mStarting simulations for structure 39...\u001b[0m\n",
      "Running: relaxed\n",
      "Run time: 4.5199340710005345\n",
      "Finished: relaxed\n"
     ]
    },
    {
     "name": "stderr",
     "output_type": "stream",
     "text": [
      "INFO: Lists updated 2 times (every ~50.000000 steps)\n",
      "INFO: Aggregated I/O statistics (set debug=1 for file-wise information)\n",
      "\t  2.203 MB written to files\n",
      "\t 96.000  B written to stdout/stderr\n",
      "\tFor a total of    0.528 MB/s\n",
      "\n"
     ]
    },
    {
     "name": "stdout",
     "output_type": "stream",
     "text": [
      "All queued simulations finished in: 10.511836752999443\n",
      "\u001b[32mRelaxation simulation for structure 39 completed.\u001b[0m\n",
      "Running: eq\n",
      "Run time: 0.5799745980002626\n",
      "Finished: eq\n"
     ]
    },
    {
     "name": "stderr",
     "output_type": "stream",
     "text": [
      "INFO: Lists updated 3 times (every ~333.333333 steps)\n",
      "INFO: Aggregated I/O statistics (set debug=1 for file-wise information)\n",
      "\t  1.153 MB written to files\n",
      "\t 62.000  B written to stdout/stderr\n",
      "\tFor a total of     3.89 MB/s\n",
      "\n"
     ]
    },
    {
     "name": "stdout",
     "output_type": "stream",
     "text": [
      "All queued simulations finished in: 10.516606689998298\n",
      "\u001b[32mEquilibration simulation for structure 39 completed.\u001b[0m\n",
      "Running: prod\n",
      "Run time: 0.5430133699992439\n",
      "Finished: prod\n"
     ]
    },
    {
     "name": "stderr",
     "output_type": "stream",
     "text": [
      "INFO: Lists updated 4 times (every ~250.000000 steps)\n",
      "INFO: Aggregated I/O statistics (set debug=1 for file-wise information)\n",
      "\t  1.155 MB written to files\n",
      "\t 62.000  B written to stdout/stderr\n",
      "\tFor a total of     4.13 MB/s\n",
      "\n"
     ]
    },
    {
     "name": "stdout",
     "output_type": "stream",
     "text": [
      "All queued simulations finished in: 10.514647014999355\n",
      "\u001b[32mProduction simulation for structure 39 completed.\u001b[0m\n",
      "\u001b[36mAll simulations for structure 39 completed.\n",
      "\u001b[0m\n",
      "\u001b[31mStarting simulations for structure 40...\u001b[0m\n",
      "Running: relaxed\n",
      "Run time: 4.1749970269993355\n",
      "Finished: relaxed\n"
     ]
    },
    {
     "name": "stderr",
     "output_type": "stream",
     "text": [
      "INFO: Aggregated I/O statistics (set debug=1 for file-wise information)\n",
      "\t  2.197 MB written to files\n",
      "\t 96.000  B written to stdout/stderr\n",
      "\tFor a total of    0.567 MB/s\n",
      "\n"
     ]
    },
    {
     "name": "stdout",
     "output_type": "stream",
     "text": [
      "All queued simulations finished in: 10.510077691000333\n",
      "\u001b[32mRelaxation simulation for structure 40 completed.\u001b[0m\n",
      "Running: eq\n",
      "Run time: 0.5607744280005136\n",
      "Finished: eq\n"
     ]
    },
    {
     "name": "stderr",
     "output_type": "stream",
     "text": [
      "INFO: Lists updated 3 times (every ~333.333333 steps)\n",
      "INFO: Aggregated I/O statistics (set debug=1 for file-wise information)\n",
      "\t  1.151 MB written to files\n",
      "\t 62.000  B written to stdout/stderr\n",
      "\tFor a total of      4.1 MB/s\n",
      "\n"
     ]
    },
    {
     "name": "stdout",
     "output_type": "stream",
     "text": [
      "All queued simulations finished in: 10.518357343000389\n",
      "\u001b[32mEquilibration simulation for structure 40 completed.\u001b[0m\n",
      "Running: prod\n",
      "Run time: 0.5691265179993934\n",
      "Finished: prod\n"
     ]
    },
    {
     "name": "stderr",
     "output_type": "stream",
     "text": [
      "INFO: Lists updated 3 times (every ~333.333333 steps)\n",
      "INFO: Aggregated I/O statistics (set debug=1 for file-wise information)\n",
      "\t  1.154 MB written to files\n",
      "\t 62.000  B written to stdout/stderr\n",
      "\tFor a total of     3.95 MB/s\n",
      "\n"
     ]
    },
    {
     "name": "stdout",
     "output_type": "stream",
     "text": [
      "All queued simulations finished in: 10.507478534998882\n",
      "\u001b[32mProduction simulation for structure 40 completed.\u001b[0m\n",
      "\u001b[36mAll simulations for structure 40 completed.\n",
      "\u001b[0m\n",
      "\u001b[31mStarting simulations for structure 41...\u001b[0m\n",
      "Running: relaxed\n",
      "Run time: 4.351956697999412\n",
      "Finished: relaxed\n"
     ]
    },
    {
     "name": "stderr",
     "output_type": "stream",
     "text": [
      "INFO: Lists updated 1 times (every ~100.000000 steps)\n",
      "INFO: Aggregated I/O statistics (set debug=1 for file-wise information)\n",
      "\t  2.203 MB written to files\n",
      "\t 96.000  B written to stdout/stderr\n",
      "\tFor a total of    0.546 MB/s\n",
      "\n"
     ]
    },
    {
     "name": "stdout",
     "output_type": "stream",
     "text": [
      "All queued simulations finished in: 10.513091803000862\n",
      "\u001b[32mRelaxation simulation for structure 41 completed.\u001b[0m\n",
      "Running: eq\n",
      "Run time: 0.5821163000000524\n",
      "Finished: eq\n"
     ]
    },
    {
     "name": "stderr",
     "output_type": "stream",
     "text": [
      "INFO: Lists updated 3 times (every ~333.333333 steps)\n",
      "INFO: Aggregated I/O statistics (set debug=1 for file-wise information)\n",
      "\t  1.155 MB written to files\n",
      "\t 62.000  B written to stdout/stderr\n",
      "\tFor a total of     3.95 MB/s\n",
      "\n"
     ]
    },
    {
     "name": "stdout",
     "output_type": "stream",
     "text": [
      "All queued simulations finished in: 10.510018791999755\n",
      "\u001b[32mEquilibration simulation for structure 41 completed.\u001b[0m\n",
      "Running: prod\n",
      "Run time: 0.5459774739993009\n",
      "Finished: prod\n"
     ]
    },
    {
     "name": "stderr",
     "output_type": "stream",
     "text": [
      "INFO: Lists updated 3 times (every ~333.333333 steps)\n",
      "INFO: Aggregated I/O statistics (set debug=1 for file-wise information)\n",
      "\t  1.158 MB written to files\n",
      "\t 62.000  B written to stdout/stderr\n",
      "\tFor a total of     4.29 MB/s\n",
      "\n"
     ]
    },
    {
     "name": "stdout",
     "output_type": "stream",
     "text": [
      "All queued simulations finished in: 10.506413577000785\n",
      "\u001b[32mProduction simulation for structure 41 completed.\u001b[0m\n",
      "\u001b[36mAll simulations for structure 41 completed.\n",
      "\u001b[0m\n",
      "\u001b[31mStarting simulations for structure 42...\u001b[0m\n",
      "Running: relaxed\n",
      "Run time: 4.837416307998865\n",
      "Finished: relaxed\n"
     ]
    },
    {
     "name": "stderr",
     "output_type": "stream",
     "text": [
      "INFO: Lists updated 1 times (every ~100.000000 steps)\n",
      "INFO: Aggregated I/O statistics (set debug=1 for file-wise information)\n",
      "\t  2.208 MB written to files\n",
      "\t 96.000  B written to stdout/stderr\n",
      "\tFor a total of    0.488 MB/s\n",
      "\n"
     ]
    },
    {
     "name": "stdout",
     "output_type": "stream",
     "text": [
      "All queued simulations finished in: 10.512466614000004\n",
      "\u001b[32mRelaxation simulation for structure 42 completed.\u001b[0m\n",
      "Running: eq\n",
      "Run time: 0.588228448999871\n",
      "Finished: eq\n"
     ]
    },
    {
     "name": "stderr",
     "output_type": "stream",
     "text": [
      "INFO: Lists updated 3 times (every ~333.333333 steps)\n",
      "INFO: Aggregated I/O statistics (set debug=1 for file-wise information)\n",
      "\t  1.157 MB written to files\n",
      "\t 62.000  B written to stdout/stderr\n",
      "\tFor a total of     3.91 MB/s\n",
      "\n"
     ]
    },
    {
     "name": "stdout",
     "output_type": "stream",
     "text": [
      "All queued simulations finished in: 10.520324253000581\n",
      "\u001b[32mEquilibration simulation for structure 42 completed.\u001b[0m\n",
      "Running: prod\n",
      "Run time: 0.5813876590000291\n",
      "Finished: prod\n"
     ]
    },
    {
     "name": "stderr",
     "output_type": "stream",
     "text": [
      "INFO: Lists updated 4 times (every ~250.000000 steps)\n",
      "INFO: Aggregated I/O statistics (set debug=1 for file-wise information)\n",
      "\t  1.159 MB written to files\n",
      "\t 62.000  B written to stdout/stderr\n",
      "\tFor a total of     3.99 MB/s\n",
      "\n"
     ]
    },
    {
     "name": "stdout",
     "output_type": "stream",
     "text": [
      "All queued simulations finished in: 10.506808187001297\n",
      "\u001b[32mProduction simulation for structure 42 completed.\u001b[0m\n",
      "\u001b[36mAll simulations for structure 42 completed.\n",
      "\u001b[0m\n",
      "\u001b[31mStarting simulations for structure 43...\u001b[0m\n",
      "Running: relaxed\n",
      "Run time: 4.271247119999316\n",
      "Finished: relaxed\n"
     ]
    },
    {
     "name": "stderr",
     "output_type": "stream",
     "text": [
      "INFO: Aggregated I/O statistics (set debug=1 for file-wise information)\n",
      "\t  2.201 MB written to files\n",
      "\t 96.000  B written to stdout/stderr\n",
      "\tFor a total of    0.555 MB/s\n",
      "\n"
     ]
    },
    {
     "name": "stdout",
     "output_type": "stream",
     "text": [
      "All queued simulations finished in: 10.511918161999347\n",
      "\u001b[32mRelaxation simulation for structure 43 completed.\u001b[0m\n",
      "Running: eq\n",
      "Run time: 0.5678811339985259\n",
      "Finished: eq\n"
     ]
    },
    {
     "name": "stderr",
     "output_type": "stream",
     "text": [
      "INFO: Lists updated 3 times (every ~333.333333 steps)\n",
      "INFO: Aggregated I/O statistics (set debug=1 for file-wise information)\n",
      "\t  1.153 MB written to files\n",
      "\t 62.000  B written to stdout/stderr\n",
      "\tFor a total of     4.03 MB/s\n",
      "\n"
     ]
    },
    {
     "name": "stdout",
     "output_type": "stream",
     "text": [
      "All queued simulations finished in: 10.523672154000451\n",
      "\u001b[32mEquilibration simulation for structure 43 completed.\u001b[0m\n",
      "Running: prod\n",
      "Run time: 0.5892286179987423\n",
      "Finished: prod\n"
     ]
    },
    {
     "name": "stderr",
     "output_type": "stream",
     "text": [
      "INFO: Lists updated 3 times (every ~333.333333 steps)\n",
      "INFO: Aggregated I/O statistics (set debug=1 for file-wise information)\n",
      "\t  1.156 MB written to files\n",
      "\t 62.000  B written to stdout/stderr\n",
      "\tFor a total of     3.93 MB/s\n",
      "\n"
     ]
    },
    {
     "name": "stdout",
     "output_type": "stream",
     "text": [
      "All queued simulations finished in: 10.511532980999618\n",
      "\u001b[32mProduction simulation for structure 43 completed.\u001b[0m\n",
      "\u001b[36mAll simulations for structure 43 completed.\n",
      "\u001b[0m\n",
      "\u001b[31mStarting simulations for structure 44...\u001b[0m\n",
      "Running: relaxed\n",
      "Run time: 4.363710075998824\n",
      "Finished: relaxed\n"
     ]
    },
    {
     "name": "stderr",
     "output_type": "stream",
     "text": [
      "INFO: Lists updated 1 times (every ~100.000000 steps)\n",
      "INFO: Aggregated I/O statistics (set debug=1 for file-wise information)\n",
      "\t  2.202 MB written to files\n",
      "\t 96.000  B written to stdout/stderr\n",
      "\tFor a total of    0.543 MB/s\n",
      "\n"
     ]
    },
    {
     "name": "stdout",
     "output_type": "stream",
     "text": [
      "All queued simulations finished in: 10.50810694699976\n",
      "\u001b[32mRelaxation simulation for structure 44 completed.\u001b[0m\n",
      "Running: eq\n",
      "Run time: 0.6975660260013683\n",
      "Finished: eq\n"
     ]
    },
    {
     "name": "stderr",
     "output_type": "stream",
     "text": [
      "INFO: Lists updated 3 times (every ~333.333333 steps)\n",
      "INFO: Aggregated I/O statistics (set debug=1 for file-wise information)\n",
      "\t  1.153 MB written to files\n",
      "\t 62.000  B written to stdout/stderr\n",
      "\tFor a total of      3.9 MB/s\n",
      "\n"
     ]
    },
    {
     "name": "stdout",
     "output_type": "stream",
     "text": [
      "All queued simulations finished in: 10.507922407001388\n",
      "\u001b[32mEquilibration simulation for structure 44 completed.\u001b[0m\n",
      "Running: prod\n",
      "Run time: 0.5413933259987971\n",
      "Finished: prod\n"
     ]
    },
    {
     "name": "stderr",
     "output_type": "stream",
     "text": [
      "INFO: Lists updated 3 times (every ~333.333333 steps)\n",
      "INFO: Aggregated I/O statistics (set debug=1 for file-wise information)\n",
      "\t  1.155 MB written to files\n",
      "\t 62.000  B written to stdout/stderr\n",
      "\tFor a total of     4.17 MB/s\n",
      "\n"
     ]
    },
    {
     "name": "stdout",
     "output_type": "stream",
     "text": [
      "All queued simulations finished in: 10.506083481999667\n",
      "\u001b[32mProduction simulation for structure 44 completed.\u001b[0m\n",
      "\u001b[36mAll simulations for structure 44 completed.\n",
      "\u001b[0m\n",
      "\u001b[31mStarting simulations for structure 45...\u001b[0m\n",
      "Running: relaxed\n",
      "Run time: 4.732160027999271\n",
      "Finished: relaxed\n"
     ]
    },
    {
     "name": "stderr",
     "output_type": "stream",
     "text": [
      "INFO: Lists updated 2 times (every ~50.000000 steps)\n",
      "INFO: Aggregated I/O statistics (set debug=1 for file-wise information)\n",
      "\t  2.202 MB written to files\n",
      "\t 96.000  B written to stdout/stderr\n",
      "\tFor a total of    0.499 MB/s\n",
      "\n"
     ]
    },
    {
     "name": "stdout",
     "output_type": "stream",
     "text": [
      "All queued simulations finished in: 10.507415316998959\n",
      "\u001b[32mRelaxation simulation for structure 45 completed.\u001b[0m\n",
      "Running: eq\n",
      "Run time: 0.5613675039985537\n",
      "Finished: eq\n"
     ]
    },
    {
     "name": "stderr",
     "output_type": "stream",
     "text": [
      "INFO: Lists updated 3 times (every ~333.333333 steps)\n",
      "INFO: Aggregated I/O statistics (set debug=1 for file-wise information)\n",
      "\t  1.153 MB written to files\n",
      "\t 62.000  B written to stdout/stderr\n",
      "\tFor a total of     4.09 MB/s\n",
      "\n"
     ]
    },
    {
     "name": "stdout",
     "output_type": "stream",
     "text": [
      "All queued simulations finished in: 10.523186640000858\n",
      "\u001b[32mEquilibration simulation for structure 45 completed.\u001b[0m\n",
      "Running: prod\n",
      "Run time: 0.576266719999694\n",
      "Finished: prod\n"
     ]
    },
    {
     "name": "stderr",
     "output_type": "stream",
     "text": [
      "INFO: Lists updated 4 times (every ~250.000000 steps)\n",
      "INFO: Aggregated I/O statistics (set debug=1 for file-wise information)\n",
      "\t  1.155 MB written to files\n",
      "\t 62.000  B written to stdout/stderr\n",
      "\tFor a total of     3.94 MB/s\n",
      "\n"
     ]
    },
    {
     "name": "stdout",
     "output_type": "stream",
     "text": [
      "All queued simulations finished in: 10.506520380000438\n",
      "\u001b[32mProduction simulation for structure 45 completed.\u001b[0m\n",
      "\u001b[36mAll simulations for structure 45 completed.\n",
      "\u001b[0m\n",
      "\u001b[31mStarting simulations for structure 46...\u001b[0m\n",
      "Running: relaxed\n",
      "Run time: 4.343379578000167\n",
      "Finished: relaxed\n"
     ]
    },
    {
     "name": "stderr",
     "output_type": "stream",
     "text": [
      "INFO: Aggregated I/O statistics (set debug=1 for file-wise information)\n",
      "\t  2.209 MB written to files\n",
      "\t 96.000  B written to stdout/stderr\n",
      "\tFor a total of    0.546 MB/s\n",
      "\n"
     ]
    },
    {
     "name": "stdout",
     "output_type": "stream",
     "text": [
      "All queued simulations finished in: 10.511182459000338\n",
      "\u001b[32mRelaxation simulation for structure 46 completed.\u001b[0m\n",
      "Running: eq\n",
      "Run time: 0.5583881490001659\n",
      "Finished: eq\n"
     ]
    },
    {
     "name": "stderr",
     "output_type": "stream",
     "text": [
      "INFO: Lists updated 3 times (every ~333.333333 steps)\n",
      "INFO: Aggregated I/O statistics (set debug=1 for file-wise information)\n",
      "\t  1.157 MB written to files\n",
      "\t 62.000  B written to stdout/stderr\n",
      "\tFor a total of     4.02 MB/s\n",
      "\n"
     ]
    },
    {
     "name": "stdout",
     "output_type": "stream",
     "text": [
      "All queued simulations finished in: 10.513095698999678\n",
      "\u001b[32mEquilibration simulation for structure 46 completed.\u001b[0m\n",
      "Running: prod\n",
      "Run time: 0.5662630919996445\n",
      "Finished: prod\n"
     ]
    },
    {
     "name": "stderr",
     "output_type": "stream",
     "text": [
      "INFO: Lists updated 3 times (every ~333.333333 steps)\n",
      "INFO: Aggregated I/O statistics (set debug=1 for file-wise information)\n",
      "\t  1.159 MB written to files\n",
      "\t 62.000  B written to stdout/stderr\n",
      "\tFor a total of     4.14 MB/s\n",
      "\n"
     ]
    },
    {
     "name": "stdout",
     "output_type": "stream",
     "text": [
      "All queued simulations finished in: 10.522383552000974\n",
      "\u001b[32mProduction simulation for structure 46 completed.\u001b[0m\n",
      "\u001b[36mAll simulations for structure 46 completed.\n",
      "\u001b[0m\n",
      "\u001b[31mStarting simulations for structure 47...\u001b[0m\n",
      "Running: relaxed\n",
      "Run time: 4.308160165001027\n",
      "Finished: relaxed\n"
     ]
    },
    {
     "name": "stderr",
     "output_type": "stream",
     "text": [
      "INFO: Aggregated I/O statistics (set debug=1 for file-wise information)\n",
      "\t  2.203 MB written to files\n",
      "\t 96.000  B written to stdout/stderr\n",
      "\tFor a total of    0.553 MB/s\n",
      "\n"
     ]
    },
    {
     "name": "stdout",
     "output_type": "stream",
     "text": [
      "All queued simulations finished in: 10.510405121000076\n",
      "\u001b[32mRelaxation simulation for structure 47 completed.\u001b[0m\n",
      "Running: eq\n",
      "Run time: 0.5843942730007257\n",
      "Finished: eq\n"
     ]
    },
    {
     "name": "stderr",
     "output_type": "stream",
     "text": [
      "INFO: Lists updated 4 times (every ~250.000000 steps)\n",
      "INFO: Aggregated I/O statistics (set debug=1 for file-wise information)\n",
      "\t  1.155 MB written to files\n",
      "\t 62.000  B written to stdout/stderr\n",
      "\tFor a total of     3.86 MB/s\n",
      "\n"
     ]
    },
    {
     "name": "stdout",
     "output_type": "stream",
     "text": [
      "All queued simulations finished in: 10.522624577000897\n",
      "\u001b[32mEquilibration simulation for structure 47 completed.\u001b[0m\n",
      "Running: prod\n",
      "Run time: 0.5719976130003488\n",
      "Finished: prod\n"
     ]
    },
    {
     "name": "stderr",
     "output_type": "stream",
     "text": [
      "INFO: Lists updated 3 times (every ~333.333333 steps)\n",
      "INFO: Aggregated I/O statistics (set debug=1 for file-wise information)\n",
      "\t  1.158 MB written to files\n",
      "\t 62.000  B written to stdout/stderr\n",
      "\tFor a total of     3.93 MB/s\n",
      "\n"
     ]
    },
    {
     "name": "stdout",
     "output_type": "stream",
     "text": [
      "All queued simulations finished in: 10.520716548000564\n",
      "\u001b[32mProduction simulation for structure 47 completed.\u001b[0m\n",
      "\u001b[36mAll simulations for structure 47 completed.\n",
      "\u001b[0m\n",
      "\u001b[31mStarting simulations for structure 48...\u001b[0m\n",
      "Running: relaxed\n",
      "Run time: 4.428380335999464\n",
      "Finished: relaxed\n"
     ]
    },
    {
     "name": "stderr",
     "output_type": "stream",
     "text": [
      "INFO: Lists updated 1 times (every ~100.000000 steps)\n",
      "INFO: Aggregated I/O statistics (set debug=1 for file-wise information)\n",
      "\t  2.213 MB written to files\n",
      "\t 96.000  B written to stdout/stderr\n",
      "\tFor a total of    0.537 MB/s\n",
      "\n"
     ]
    },
    {
     "name": "stdout",
     "output_type": "stream",
     "text": [
      "All queued simulations finished in: 10.514295205000963\n",
      "\u001b[32mRelaxation simulation for structure 48 completed.\u001b[0m\n",
      "Running: eq\n",
      "Run time: 0.5659647060001589\n",
      "Finished: eq\n"
     ]
    },
    {
     "name": "stderr",
     "output_type": "stream",
     "text": [
      "INFO: Lists updated 3 times (every ~333.333333 steps)\n",
      "INFO: Aggregated I/O statistics (set debug=1 for file-wise information)\n",
      "\t  1.159 MB written to files\n",
      "\t 62.000  B written to stdout/stderr\n",
      "\tFor a total of     4.09 MB/s\n",
      "\n"
     ]
    },
    {
     "name": "stdout",
     "output_type": "stream",
     "text": [
      "All queued simulations finished in: 10.509460719000344\n",
      "\u001b[32mEquilibration simulation for structure 48 completed.\u001b[0m\n",
      "Running: prod\n",
      "Run time: 0.5639971710006648\n",
      "Finished: prod\n"
     ]
    },
    {
     "name": "stderr",
     "output_type": "stream",
     "text": [
      "INFO: Lists updated 3 times (every ~333.333333 steps)\n",
      "INFO: Aggregated I/O statistics (set debug=1 for file-wise information)\n",
      "\t  1.161 MB written to files\n",
      "\t 62.000  B written to stdout/stderr\n",
      "\tFor a total of     4.06 MB/s\n",
      "\n"
     ]
    },
    {
     "name": "stdout",
     "output_type": "stream",
     "text": [
      "All queued simulations finished in: 10.51938863199939\n",
      "\u001b[32mProduction simulation for structure 48 completed.\u001b[0m\n",
      "\u001b[36mAll simulations for structure 48 completed.\n",
      "\u001b[0m\n",
      "\u001b[31mStarting simulations for structure 49...\u001b[0m\n",
      "Running: relaxed\n",
      "Run time: 4.459896219999791\n",
      "Finished: relaxed\n"
     ]
    },
    {
     "name": "stderr",
     "output_type": "stream",
     "text": [
      "INFO: Lists updated 1 times (every ~100.000000 steps)\n",
      "INFO: Aggregated I/O statistics (set debug=1 for file-wise information)\n",
      "\t  2.211 MB written to files\n",
      "\t 96.000  B written to stdout/stderr\n",
      "\tFor a total of    0.536 MB/s\n",
      "\n"
     ]
    },
    {
     "name": "stdout",
     "output_type": "stream",
     "text": [
      "All queued simulations finished in: 10.511793010000474\n",
      "\u001b[32mRelaxation simulation for structure 49 completed.\u001b[0m\n",
      "Running: eq\n",
      "Run time: 0.6066678709994449\n",
      "Finished: eq\n"
     ]
    },
    {
     "name": "stderr",
     "output_type": "stream",
     "text": [
      "INFO: Lists updated 4 times (every ~250.000000 steps)\n",
      "INFO: Aggregated I/O statistics (set debug=1 for file-wise information)\n",
      "\t  1.159 MB written to files\n",
      "\t 62.000  B written to stdout/stderr\n",
      "\tFor a total of     3.63 MB/s\n",
      "\n"
     ]
    },
    {
     "name": "stdout",
     "output_type": "stream",
     "text": [
      "All queued simulations finished in: 10.521988202001012\n",
      "\u001b[32mEquilibration simulation for structure 49 completed.\u001b[0m\n",
      "Running: prod\n",
      "Run time: 0.5580687140009104\n",
      "Finished: prod\n"
     ]
    },
    {
     "name": "stderr",
     "output_type": "stream",
     "text": [
      "INFO: Lists updated 3 times (every ~333.333333 steps)\n",
      "INFO: Aggregated I/O statistics (set debug=1 for file-wise information)\n",
      "\t  1.161 MB written to files\n",
      "\t 62.000  B written to stdout/stderr\n",
      "\tFor a total of      4.2 MB/s\n",
      "\n"
     ]
    },
    {
     "name": "stdout",
     "output_type": "stream",
     "text": [
      "All queued simulations finished in: 10.520187166999676\n",
      "\u001b[32mProduction simulation for structure 49 completed.\u001b[0m\n",
      "\u001b[36mAll simulations for structure 49 completed.\n",
      "\u001b[0m\n",
      "\u001b[31mStarting simulations for structure 50...\u001b[0m\n",
      "Running: relaxed\n",
      "Run time: 4.2548374440011685\n",
      "Finished: relaxed\n"
     ]
    },
    {
     "name": "stderr",
     "output_type": "stream",
     "text": [
      "INFO: Lists updated 1 times (every ~100.000000 steps)\n",
      "INFO: Aggregated I/O statistics (set debug=1 for file-wise information)\n",
      "\t  2.199 MB written to files\n",
      "\t 96.000  B written to stdout/stderr\n",
      "\tFor a total of    0.556 MB/s\n",
      "\n"
     ]
    },
    {
     "name": "stdout",
     "output_type": "stream",
     "text": [
      "All queued simulations finished in: 10.507910798000012\n",
      "\u001b[32mRelaxation simulation for structure 50 completed.\u001b[0m\n",
      "Running: eq\n",
      "Run time: 0.573188502999983\n",
      "Finished: eq\n"
     ]
    },
    {
     "name": "stderr",
     "output_type": "stream",
     "text": [
      "INFO: Lists updated 3 times (every ~333.333333 steps)\n",
      "INFO: Aggregated I/O statistics (set debug=1 for file-wise information)\n",
      "\t  1.152 MB written to files\n",
      "\t 62.000  B written to stdout/stderr\n",
      "\tFor a total of     4.02 MB/s\n",
      "\n"
     ]
    },
    {
     "name": "stdout",
     "output_type": "stream",
     "text": [
      "All queued simulations finished in: 10.51848777899977\n",
      "\u001b[32mEquilibration simulation for structure 50 completed.\u001b[0m\n",
      "Running: prod\n",
      "Run time: 0.5655216479990486\n",
      "Finished: prod\n"
     ]
    },
    {
     "name": "stderr",
     "output_type": "stream",
     "text": [
      "INFO: Lists updated 3 times (every ~333.333333 steps)\n",
      "INFO: Aggregated I/O statistics (set debug=1 for file-wise information)\n",
      "\t  1.154 MB written to files\n",
      "\t 62.000  B written to stdout/stderr\n",
      "\tFor a total of        4 MB/s\n",
      "\n"
     ]
    },
    {
     "name": "stdout",
     "output_type": "stream",
     "text": [
      "All queued simulations finished in: 10.523727390000204\n",
      "\u001b[32mProduction simulation for structure 50 completed.\u001b[0m\n",
      "\u001b[36mAll simulations for structure 50 completed.\n",
      "\u001b[0m\n",
      "\u001b[31mStarting simulations for structure 51...\u001b[0m\n",
      "Running: relaxed\n",
      "Run time: 4.343410942999981\n",
      "Finished: relaxed\n"
     ]
    },
    {
     "name": "stderr",
     "output_type": "stream",
     "text": [
      "INFO: Aggregated I/O statistics (set debug=1 for file-wise information)\n",
      "\t  2.205 MB written to files\n",
      "\t 96.000  B written to stdout/stderr\n",
      "\tFor a total of    0.546 MB/s\n",
      "\n"
     ]
    },
    {
     "name": "stdout",
     "output_type": "stream",
     "text": [
      "All queued simulations finished in: 10.509599794999303\n",
      "\u001b[32mRelaxation simulation for structure 51 completed.\u001b[0m\n",
      "Running: eq\n",
      "Run time: 0.5594844580009521\n",
      "Finished: eq\n"
     ]
    },
    {
     "name": "stderr",
     "output_type": "stream",
     "text": [
      "INFO: Lists updated 3 times (every ~333.333333 steps)\n",
      "INFO: Aggregated I/O statistics (set debug=1 for file-wise information)\n",
      "\t  1.155 MB written to files\n",
      "\t 62.000  B written to stdout/stderr\n",
      "\tFor a total of     4.08 MB/s\n",
      "\n"
     ]
    },
    {
     "name": "stdout",
     "output_type": "stream",
     "text": [
      "All queued simulations finished in: 10.520419827000296\n",
      "\u001b[32mEquilibration simulation for structure 51 completed.\u001b[0m\n",
      "Running: prod\n",
      "Run time: 0.5340211710008589\n",
      "Finished: prod\n"
     ]
    },
    {
     "name": "stderr",
     "output_type": "stream",
     "text": [
      "INFO: Lists updated 3 times (every ~333.333333 steps)\n",
      "INFO: Aggregated I/O statistics (set debug=1 for file-wise information)\n",
      "\t  1.157 MB written to files\n",
      "\t 62.000  B written to stdout/stderr\n",
      "\tFor a total of     4.25 MB/s\n",
      "\n"
     ]
    },
    {
     "name": "stdout",
     "output_type": "stream",
     "text": [
      "All queued simulations finished in: 10.521667660001185\n",
      "\u001b[32mProduction simulation for structure 51 completed.\u001b[0m\n",
      "\u001b[36mAll simulations for structure 51 completed.\n",
      "\u001b[0m\n",
      "\u001b[31mStarting simulations for structure 52...\u001b[0m\n",
      "Running: relaxed\n",
      "Run time: 4.270845396000368\n",
      "Finished: relaxed\n"
     ]
    },
    {
     "name": "stderr",
     "output_type": "stream",
     "text": [
      "INFO: Lists updated 2 times (every ~50.000000 steps)\n",
      "INFO: Aggregated I/O statistics (set debug=1 for file-wise information)\n",
      "\t  2.204 MB written to files\n",
      "\t 96.000  B written to stdout/stderr\n",
      "\tFor a total of    0.555 MB/s\n",
      "\n"
     ]
    },
    {
     "name": "stdout",
     "output_type": "stream",
     "text": [
      "All queued simulations finished in: 10.511241123000218\n",
      "\u001b[32mRelaxation simulation for structure 52 completed.\u001b[0m\n",
      "Running: eq\n",
      "Run time: 0.5799601479993726\n",
      "Finished: eq\n"
     ]
    },
    {
     "name": "stderr",
     "output_type": "stream",
     "text": [
      "INFO: Lists updated 3 times (every ~333.333333 steps)\n",
      "INFO: Aggregated I/O statistics (set debug=1 for file-wise information)\n",
      "\t  1.155 MB written to files\n",
      "\t 62.000  B written to stdout/stderr\n",
      "\tFor a total of     3.88 MB/s\n",
      "\n"
     ]
    },
    {
     "name": "stdout",
     "output_type": "stream",
     "text": [
      "All queued simulations finished in: 10.522785844999817\n",
      "\u001b[32mEquilibration simulation for structure 52 completed.\u001b[0m\n",
      "Running: prod\n",
      "Run time: 0.5591854939993937\n",
      "Finished: prod\n"
     ]
    },
    {
     "name": "stderr",
     "output_type": "stream",
     "text": [
      "INFO: Lists updated 3 times (every ~333.333333 steps)\n",
      "INFO: Aggregated I/O statistics (set debug=1 for file-wise information)\n",
      "\t  1.157 MB written to files\n",
      "\t 62.000  B written to stdout/stderr\n",
      "\tFor a total of     4.15 MB/s\n",
      "\n"
     ]
    },
    {
     "name": "stdout",
     "output_type": "stream",
     "text": [
      "All queued simulations finished in: 10.522371891000148\n",
      "\u001b[32mProduction simulation for structure 52 completed.\u001b[0m\n",
      "\u001b[36mAll simulations for structure 52 completed.\n",
      "\u001b[0m\n",
      "\u001b[31mStarting simulations for structure 53...\u001b[0m\n",
      "Running: relaxed\n",
      "Run time: 4.266190606000237\n",
      "Finished: relaxed\n"
     ]
    },
    {
     "name": "stderr",
     "output_type": "stream",
     "text": [
      "INFO: Lists updated 1 times (every ~100.000000 steps)\n",
      "INFO: Aggregated I/O statistics (set debug=1 for file-wise information)\n",
      "\t  2.207 MB written to files\n",
      "\t 96.000  B written to stdout/stderr\n",
      "\tFor a total of    0.557 MB/s\n",
      "\n"
     ]
    },
    {
     "name": "stdout",
     "output_type": "stream",
     "text": [
      "All queued simulations finished in: 10.507512240999858\n",
      "\u001b[32mRelaxation simulation for structure 53 completed.\u001b[0m\n",
      "Running: eq\n",
      "Run time: 0.5578148049989977\n",
      "Finished: eq\n"
     ]
    },
    {
     "name": "stderr",
     "output_type": "stream",
     "text": [
      "INFO: Lists updated 3 times (every ~333.333333 steps)\n",
      "INFO: Aggregated I/O statistics (set debug=1 for file-wise information)\n",
      "\t  1.157 MB written to files\n",
      "\t 62.000  B written to stdout/stderr\n",
      "\tFor a total of     4.09 MB/s\n",
      "\n"
     ]
    },
    {
     "name": "stdout",
     "output_type": "stream",
     "text": [
      "All queued simulations finished in: 10.520238018998498\n",
      "\u001b[32mEquilibration simulation for structure 53 completed.\u001b[0m\n",
      "Running: prod\n",
      "Run time: 0.5935329780004395\n",
      "Finished: prod\n"
     ]
    },
    {
     "name": "stderr",
     "output_type": "stream",
     "text": [
      "INFO: Lists updated 4 times (every ~250.000000 steps)\n",
      "INFO: Aggregated I/O statistics (set debug=1 for file-wise information)\n",
      "\t  1.159 MB written to files\n",
      "\t 62.000  B written to stdout/stderr\n",
      "\tFor a total of     3.88 MB/s\n",
      "\n"
     ]
    },
    {
     "name": "stdout",
     "output_type": "stream",
     "text": [
      "All queued simulations finished in: 10.506474672998593\n",
      "\u001b[32mProduction simulation for structure 53 completed.\u001b[0m\n",
      "\u001b[36mAll simulations for structure 53 completed.\n",
      "\u001b[0m\n",
      "\u001b[31mStarting simulations for structure 54...\u001b[0m\n",
      "Running: relaxed\n",
      "Run time: 4.323756460000368\n",
      "Finished: relaxed\n"
     ]
    },
    {
     "name": "stderr",
     "output_type": "stream",
     "text": [
      "INFO: Aggregated I/O statistics (set debug=1 for file-wise information)\n",
      "\t  2.205 MB written to files\n",
      "\t 96.000  B written to stdout/stderr\n",
      "\tFor a total of    0.548 MB/s\n",
      "\n"
     ]
    },
    {
     "name": "stdout",
     "output_type": "stream",
     "text": [
      "All queued simulations finished in: 10.507728250000582\n",
      "\u001b[32mRelaxation simulation for structure 54 completed.\u001b[0m\n",
      "Running: eq\n",
      "Run time: 0.5652584190011112\n",
      "Finished: eq\n"
     ]
    },
    {
     "name": "stderr",
     "output_type": "stream",
     "text": [
      "INFO: Lists updated 3 times (every ~333.333333 steps)\n",
      "INFO: Aggregated I/O statistics (set debug=1 for file-wise information)\n",
      "\t  1.155 MB written to files\n",
      "\t 62.000  B written to stdout/stderr\n",
      "\tFor a total of     4.04 MB/s\n",
      "\n"
     ]
    },
    {
     "name": "stdout",
     "output_type": "stream",
     "text": [
      "All queued simulations finished in: 10.519439953999608\n",
      "\u001b[32mEquilibration simulation for structure 54 completed.\u001b[0m\n",
      "Running: prod\n",
      "Run time: 0.5549863050000567\n",
      "Finished: prod\n"
     ]
    },
    {
     "name": "stderr",
     "output_type": "stream",
     "text": [
      "INFO: Lists updated 4 times (every ~250.000000 steps)\n",
      "INFO: Aggregated I/O statistics (set debug=1 for file-wise information)\n",
      "\t  1.158 MB written to files\n",
      "\t 62.000  B written to stdout/stderr\n",
      "\tFor a total of     4.06 MB/s\n",
      "\n"
     ]
    },
    {
     "name": "stdout",
     "output_type": "stream",
     "text": [
      "All queued simulations finished in: 10.516122686000017\n",
      "\u001b[32mProduction simulation for structure 54 completed.\u001b[0m\n",
      "\u001b[36mAll simulations for structure 54 completed.\n",
      "\u001b[0m\n",
      "\u001b[31mStarting simulations for structure 55...\u001b[0m\n",
      "Running: relaxed\n",
      "Run time: 5.015343982999184\n",
      "Finished: relaxed\n"
     ]
    },
    {
     "name": "stderr",
     "output_type": "stream",
     "text": [
      "INFO: Lists updated 1 times (every ~100.000000 steps)\n",
      "INFO: Aggregated I/O statistics (set debug=1 for file-wise information)\n",
      "\t  2.211 MB written to files\n",
      "\t 96.000  B written to stdout/stderr\n",
      "\tFor a total of    0.475 MB/s\n",
      "\n"
     ]
    },
    {
     "name": "stdout",
     "output_type": "stream",
     "text": [
      "All queued simulations finished in: 10.507545504000518\n",
      "\u001b[32mRelaxation simulation for structure 55 completed.\u001b[0m\n",
      "Running: eq\n",
      "Run time: 0.6045325449995289\n",
      "Finished: eq\n"
     ]
    },
    {
     "name": "stderr",
     "output_type": "stream",
     "text": [
      "INFO: Lists updated 4 times (every ~250.000000 steps)\n",
      "INFO: Aggregated I/O statistics (set debug=1 for file-wise information)\n",
      "\t  1.159 MB written to files\n",
      "\t 62.000  B written to stdout/stderr\n",
      "\tFor a total of     3.73 MB/s\n",
      "\n"
     ]
    },
    {
     "name": "stdout",
     "output_type": "stream",
     "text": [
      "All queued simulations finished in: 10.523562387999846\n",
      "\u001b[32mEquilibration simulation for structure 55 completed.\u001b[0m\n",
      "Running: prod\n",
      "Run time: 0.5531638570009818\n",
      "Finished: prod\n"
     ]
    },
    {
     "name": "stderr",
     "output_type": "stream",
     "text": [
      "INFO: Lists updated 3 times (every ~333.333333 steps)\n",
      "INFO: Aggregated I/O statistics (set debug=1 for file-wise information)\n",
      "\t  1.162 MB written to files\n",
      "\t 62.000  B written to stdout/stderr\n",
      "\tFor a total of     4.15 MB/s\n",
      "\n"
     ]
    },
    {
     "name": "stdout",
     "output_type": "stream",
     "text": [
      "All queued simulations finished in: 10.524821476999932\n",
      "\u001b[32mProduction simulation for structure 55 completed.\u001b[0m\n",
      "\u001b[36mAll simulations for structure 55 completed.\n",
      "\u001b[0m\n",
      "\u001b[31mStarting simulations for structure 56...\u001b[0m\n",
      "Running: relaxed\n",
      "Run time: 4.2574326419999124\n",
      "Finished: relaxed\n"
     ]
    },
    {
     "name": "stderr",
     "output_type": "stream",
     "text": [
      "INFO: Aggregated I/O statistics (set debug=1 for file-wise information)\n",
      "\t  2.205 MB written to files\n",
      "\t 96.000  B written to stdout/stderr\n",
      "\tFor a total of    0.558 MB/s\n",
      "\n"
     ]
    },
    {
     "name": "stdout",
     "output_type": "stream",
     "text": [
      "All queued simulations finished in: 10.511461537000287\n",
      "\u001b[32mRelaxation simulation for structure 56 completed.\u001b[0m\n",
      "Running: eq\n",
      "Run time: 0.5901093970005604\n",
      "Finished: eq\n"
     ]
    },
    {
     "name": "stderr",
     "output_type": "stream",
     "text": [
      "INFO: Lists updated 3 times (every ~333.333333 steps)\n",
      "INFO: Aggregated I/O statistics (set debug=1 for file-wise information)\n",
      "\t  1.155 MB written to files\n",
      "\t 62.000  B written to stdout/stderr\n",
      "\tFor a total of     3.82 MB/s\n",
      "\n"
     ]
    },
    {
     "name": "stdout",
     "output_type": "stream",
     "text": [
      "All queued simulations finished in: 10.523203400000057\n",
      "\u001b[32mEquilibration simulation for structure 56 completed.\u001b[0m\n",
      "Running: prod\n",
      "Run time: 0.5474932580000313\n",
      "Finished: prod\n"
     ]
    },
    {
     "name": "stderr",
     "output_type": "stream",
     "text": [
      "INFO: Lists updated 3 times (every ~333.333333 steps)\n",
      "INFO: Aggregated I/O statistics (set debug=1 for file-wise information)\n",
      "\t  1.158 MB written to files\n",
      "\t 62.000  B written to stdout/stderr\n",
      "\tFor a total of     4.11 MB/s\n",
      "\n"
     ]
    },
    {
     "name": "stdout",
     "output_type": "stream",
     "text": [
      "All queued simulations finished in: 10.514742886000022\n",
      "\u001b[32mProduction simulation for structure 56 completed.\u001b[0m\n",
      "\u001b[36mAll simulations for structure 56 completed.\n",
      "\u001b[0m\n",
      "\u001b[31mStarting simulations for structure 57...\u001b[0m\n",
      "Running: relaxed\n",
      "Run time: 4.358478521000507\n",
      "Finished: relaxed\n"
     ]
    },
    {
     "name": "stderr",
     "output_type": "stream",
     "text": [
      "INFO: Lists updated 1 times (every ~100.000000 steps)\n",
      "INFO: Aggregated I/O statistics (set debug=1 for file-wise information)\n",
      "\t  2.207 MB written to files\n",
      "\t 96.000  B written to stdout/stderr\n",
      "\tFor a total of    0.545 MB/s\n",
      "\n"
     ]
    },
    {
     "name": "stdout",
     "output_type": "stream",
     "text": [
      "All queued simulations finished in: 10.509845100001257\n",
      "\u001b[32mRelaxation simulation for structure 57 completed.\u001b[0m\n",
      "Running: eq\n",
      "Run time: 0.5730054969990306\n",
      "Finished: eq\n"
     ]
    },
    {
     "name": "stderr",
     "output_type": "stream",
     "text": [
      "INFO: Lists updated 3 times (every ~333.333333 steps)\n",
      "INFO: Aggregated I/O statistics (set debug=1 for file-wise information)\n",
      "\t  1.157 MB written to files\n",
      "\t 62.000  B written to stdout/stderr\n",
      "\tFor a total of     3.87 MB/s\n",
      "\n"
     ]
    },
    {
     "name": "stdout",
     "output_type": "stream",
     "text": [
      "All queued simulations finished in: 10.512652712999625\n",
      "\u001b[32mEquilibration simulation for structure 57 completed.\u001b[0m\n",
      "Running: prod\n",
      "Run time: 0.5621895830008725\n",
      "Finished: prod\n"
     ]
    },
    {
     "name": "stderr",
     "output_type": "stream",
     "text": [
      "INFO: Lists updated 3 times (every ~333.333333 steps)\n",
      "INFO: Aggregated I/O statistics (set debug=1 for file-wise information)\n",
      "\t  1.159 MB written to files\n",
      "\t 62.000  B written to stdout/stderr\n",
      "\tFor a total of     4.21 MB/s\n",
      "\n"
     ]
    },
    {
     "name": "stdout",
     "output_type": "stream",
     "text": [
      "All queued simulations finished in: 10.509341166000013\n",
      "\u001b[32mProduction simulation for structure 57 completed.\u001b[0m\n",
      "\u001b[36mAll simulations for structure 57 completed.\n",
      "\u001b[0m\n",
      "\u001b[31mStarting simulations for structure 58...\u001b[0m\n",
      "Running: relaxed\n",
      "Run time: 4.286258555999666\n",
      "Finished: relaxed\n"
     ]
    },
    {
     "name": "stderr",
     "output_type": "stream",
     "text": [
      "INFO: Aggregated I/O statistics (set debug=1 for file-wise information)\n",
      "\t  2.204 MB written to files\n",
      "\t 96.000  B written to stdout/stderr\n",
      "\tFor a total of    0.553 MB/s\n",
      "\n"
     ]
    },
    {
     "name": "stdout",
     "output_type": "stream",
     "text": [
      "All queued simulations finished in: 10.511898757000381\n",
      "\u001b[32mRelaxation simulation for structure 58 completed.\u001b[0m\n",
      "Running: eq\n",
      "Run time: 0.5353713300009986\n",
      "Finished: eq\n"
     ]
    },
    {
     "name": "stderr",
     "output_type": "stream",
     "text": [
      "INFO: Lists updated 3 times (every ~333.333333 steps)\n",
      "INFO: Aggregated I/O statistics (set debug=1 for file-wise information)\n",
      "\t  1.153 MB written to files\n",
      "\t 62.000  B written to stdout/stderr\n",
      "\tFor a total of     4.19 MB/s\n",
      "\n"
     ]
    },
    {
     "name": "stdout",
     "output_type": "stream",
     "text": [
      "All queued simulations finished in: 10.507014261998847\n",
      "\u001b[32mEquilibration simulation for structure 58 completed.\u001b[0m\n",
      "Running: prod\n",
      "Run time: 0.6994901550006034\n",
      "Finished: prod\n"
     ]
    },
    {
     "name": "stderr",
     "output_type": "stream",
     "text": [
      "INFO: Lists updated 3 times (every ~333.333333 steps)\n",
      "INFO: Aggregated I/O statistics (set debug=1 for file-wise information)\n",
      "\t  1.156 MB written to files\n",
      "\t 62.000  B written to stdout/stderr\n",
      "\tFor a total of        3 MB/s\n",
      "\n"
     ]
    },
    {
     "name": "stdout",
     "output_type": "stream",
     "text": [
      "All queued simulations finished in: 10.506525689001137\n",
      "\u001b[32mProduction simulation for structure 58 completed.\u001b[0m\n",
      "\u001b[36mAll simulations for structure 58 completed.\n",
      "\u001b[0m\n",
      "\u001b[31mStarting simulations for structure 59...\u001b[0m\n",
      "Running: relaxed\n",
      "Run time: 4.408907865001311\n",
      "Finished: relaxed\n"
     ]
    },
    {
     "name": "stderr",
     "output_type": "stream",
     "text": [
      "INFO: Lists updated 1 times (every ~100.000000 steps)\n",
      "INFO: Aggregated I/O statistics (set debug=1 for file-wise information)\n",
      "\t  2.209 MB written to files\n",
      "\t 96.000  B written to stdout/stderr\n",
      "\tFor a total of    0.538 MB/s\n",
      "\n"
     ]
    },
    {
     "name": "stdout",
     "output_type": "stream",
     "text": [
      "All queued simulations finished in: 10.514239653000914\n",
      "\u001b[32mRelaxation simulation for structure 59 completed.\u001b[0m\n",
      "Running: eq\n",
      "Run time: 0.5707882299993798\n",
      "Finished: eq\n"
     ]
    },
    {
     "name": "stderr",
     "output_type": "stream",
     "text": [
      "INFO: Lists updated 3 times (every ~333.333333 steps)\n",
      "INFO: Aggregated I/O statistics (set debug=1 for file-wise information)\n",
      "\t  1.157 MB written to files\n",
      "\t 62.000  B written to stdout/stderr\n",
      "\tFor a total of        4 MB/s\n",
      "\n"
     ]
    },
    {
     "name": "stdout",
     "output_type": "stream",
     "text": [
      "All queued simulations finished in: 10.515292910000426\n",
      "\u001b[32mEquilibration simulation for structure 59 completed.\u001b[0m\n",
      "Running: prod\n",
      "Run time: 0.555917303001479\n",
      "Finished: prod\n"
     ]
    },
    {
     "name": "stderr",
     "output_type": "stream",
     "text": [
      "INFO: Lists updated 3 times (every ~333.333333 steps)\n",
      "INFO: Aggregated I/O statistics (set debug=1 for file-wise information)\n",
      "\t  1.160 MB written to files\n",
      "\t 62.000  B written to stdout/stderr\n",
      "\tFor a total of      4.2 MB/s\n",
      "\n"
     ]
    },
    {
     "name": "stdout",
     "output_type": "stream",
     "text": [
      "All queued simulations finished in: 10.518360355999903\n",
      "\u001b[32mProduction simulation for structure 59 completed.\u001b[0m\n",
      "\u001b[36mAll simulations for structure 59 completed.\n",
      "\u001b[0m\n",
      "\u001b[31mStarting simulations for structure 60...\u001b[0m\n",
      "Running: relaxed\n",
      "Run time: 4.2808651289997215\n",
      "Finished: relaxed\n"
     ]
    },
    {
     "name": "stderr",
     "output_type": "stream",
     "text": [
      "INFO: Lists updated 1 times (every ~100.000000 steps)\n",
      "INFO: Aggregated I/O statistics (set debug=1 for file-wise information)\n",
      "\t  2.200 MB written to files\n",
      "\t 96.000  B written to stdout/stderr\n",
      "\tFor a total of    0.553 MB/s\n",
      "\n"
     ]
    },
    {
     "name": "stdout",
     "output_type": "stream",
     "text": [
      "All queued simulations finished in: 10.510267850000673\n",
      "\u001b[32mRelaxation simulation for structure 60 completed.\u001b[0m\n",
      "Running: eq\n",
      "Run time: 0.5829051849996176\n",
      "Finished: eq\n"
     ]
    },
    {
     "name": "stderr",
     "output_type": "stream",
     "text": [
      "INFO: Lists updated 4 times (every ~250.000000 steps)\n",
      "INFO: Aggregated I/O statistics (set debug=1 for file-wise information)\n",
      "\t  1.154 MB written to files\n",
      "\t 62.000  B written to stdout/stderr\n",
      "\tFor a total of     3.91 MB/s\n",
      "\n"
     ]
    },
    {
     "name": "stdout",
     "output_type": "stream",
     "text": [
      "All queued simulations finished in: 10.522200249000889\n",
      "\u001b[32mEquilibration simulation for structure 60 completed.\u001b[0m\n",
      "Running: prod\n",
      "Run time: 0.5588372349993733\n",
      "Finished: prod\n"
     ]
    },
    {
     "name": "stderr",
     "output_type": "stream",
     "text": [
      "INFO: Lists updated 4 times (every ~250.000000 steps)\n",
      "INFO: Aggregated I/O statistics (set debug=1 for file-wise information)\n",
      "\t  1.156 MB written to files\n",
      "\t 62.000  B written to stdout/stderr\n",
      "\tFor a total of     4.14 MB/s\n",
      "\n"
     ]
    },
    {
     "name": "stdout",
     "output_type": "stream",
     "text": [
      "All queued simulations finished in: 10.518900125998698\n",
      "\u001b[32mProduction simulation for structure 60 completed.\u001b[0m\n",
      "\u001b[36mAll simulations for structure 60 completed.\n",
      "\u001b[0m\n",
      "\u001b[31mStarting simulations for structure 61...\u001b[0m\n",
      "Running: relaxed\n",
      "Run time: 4.406799637999939\n",
      "Finished: relaxed\n"
     ]
    },
    {
     "name": "stderr",
     "output_type": "stream",
     "text": [
      "INFO: Lists updated 2 times (every ~50.000000 steps)\n",
      "INFO: Aggregated I/O statistics (set debug=1 for file-wise information)\n",
      "\t  2.194 MB written to files\n",
      "\t 96.000  B written to stdout/stderr\n",
      "\tFor a total of    0.534 MB/s\n",
      "\n"
     ]
    },
    {
     "name": "stdout",
     "output_type": "stream",
     "text": [
      "All queued simulations finished in: 10.509998917999837\n",
      "\u001b[32mRelaxation simulation for structure 61 completed.\u001b[0m\n",
      "Running: eq\n",
      "Run time: 0.5414744110003085\n",
      "Finished: eq\n"
     ]
    },
    {
     "name": "stderr",
     "output_type": "stream",
     "text": [
      "INFO: Lists updated 3 times (every ~333.333333 steps)\n",
      "INFO: Aggregated I/O statistics (set debug=1 for file-wise information)\n",
      "\t  1.150 MB written to files\n",
      "\t 62.000  B written to stdout/stderr\n",
      "\tFor a total of     4.13 MB/s\n",
      "\n"
     ]
    },
    {
     "name": "stdout",
     "output_type": "stream",
     "text": [
      "All queued simulations finished in: 10.520519512001556\n",
      "\u001b[32mEquilibration simulation for structure 61 completed.\u001b[0m\n",
      "Running: prod\n",
      "Run time: 0.5617540499988536\n",
      "Finished: prod\n"
     ]
    },
    {
     "name": "stderr",
     "output_type": "stream",
     "text": [
      "INFO: Lists updated 3 times (every ~333.333333 steps)\n",
      "INFO: Aggregated I/O statistics (set debug=1 for file-wise information)\n",
      "\t  1.152 MB written to files\n",
      "\t 62.000  B written to stdout/stderr\n",
      "\tFor a total of     4.08 MB/s\n",
      "\n"
     ]
    },
    {
     "name": "stdout",
     "output_type": "stream",
     "text": [
      "All queued simulations finished in: 10.506853460999992\n",
      "\u001b[32mProduction simulation for structure 61 completed.\u001b[0m\n",
      "\u001b[36mAll simulations for structure 61 completed.\n",
      "\u001b[0m\n",
      "\u001b[31mStarting simulations for structure 62...\u001b[0m\n",
      "Running: relaxed\n",
      "Run time: 4.422514965999653\n",
      "Finished: relaxed\n"
     ]
    },
    {
     "name": "stderr",
     "output_type": "stream",
     "text": [
      "INFO: Lists updated 1 times (every ~100.000000 steps)\n",
      "INFO: Aggregated I/O statistics (set debug=1 for file-wise information)\n",
      "\t  2.200 MB written to files\n",
      "\t 96.000  B written to stdout/stderr\n",
      "\tFor a total of    0.534 MB/s\n",
      "\n"
     ]
    },
    {
     "name": "stdout",
     "output_type": "stream",
     "text": [
      "All queued simulations finished in: 10.510773281001093\n",
      "\u001b[32mRelaxation simulation for structure 62 completed.\u001b[0m\n",
      "Running: eq\n",
      "Run time: 0.5346257279998099\n",
      "Finished: eq\n"
     ]
    },
    {
     "name": "stderr",
     "output_type": "stream",
     "text": [
      "INFO: Lists updated 3 times (every ~333.333333 steps)\n",
      "INFO: Aggregated I/O statistics (set debug=1 for file-wise information)\n",
      "\t  1.154 MB written to files\n",
      "\t 62.000  B written to stdout/stderr\n",
      "\tFor a total of     4.24 MB/s\n",
      "\n"
     ]
    },
    {
     "name": "stdout",
     "output_type": "stream",
     "text": [
      "All queued simulations finished in: 10.521595734000584\n",
      "\u001b[32mEquilibration simulation for structure 62 completed.\u001b[0m\n",
      "Running: prod\n",
      "Run time: 0.5344534319992817\n",
      "Finished: prod\n"
     ]
    },
    {
     "name": "stderr",
     "output_type": "stream",
     "text": [
      "INFO: Lists updated 4 times (every ~250.000000 steps)\n",
      "INFO: Aggregated I/O statistics (set debug=1 for file-wise information)\n",
      "\t  1.156 MB written to files\n",
      "\t 62.000  B written to stdout/stderr\n",
      "\tFor a total of     4.24 MB/s\n",
      "\n"
     ]
    },
    {
     "name": "stdout",
     "output_type": "stream",
     "text": [
      "All queued simulations finished in: 10.519466155999908\n",
      "\u001b[32mProduction simulation for structure 62 completed.\u001b[0m\n",
      "\u001b[36mAll simulations for structure 62 completed.\n",
      "\u001b[0m\n",
      "\u001b[31mStarting simulations for structure 63...\u001b[0m\n",
      "Running: relaxed\n",
      "Run time: 4.287260510998749\n",
      "Finished: relaxed\n"
     ]
    },
    {
     "name": "stderr",
     "output_type": "stream",
     "text": [
      "INFO: Lists updated 1 times (every ~100.000000 steps)\n",
      "INFO: Aggregated I/O statistics (set debug=1 for file-wise information)\n",
      "\t  2.198 MB written to files\n",
      "\t 96.000  B written to stdout/stderr\n",
      "\tFor a total of    0.552 MB/s\n",
      "\n"
     ]
    },
    {
     "name": "stdout",
     "output_type": "stream",
     "text": [
      "All queued simulations finished in: 10.509701039998617\n",
      "\u001b[32mRelaxation simulation for structure 63 completed.\u001b[0m\n",
      "Running: eq\n",
      "Run time: 0.5690879660014616\n",
      "Finished: eq\n"
     ]
    },
    {
     "name": "stderr",
     "output_type": "stream",
     "text": [
      "INFO: Lists updated 3 times (every ~333.333333 steps)\n",
      "INFO: Aggregated I/O statistics (set debug=1 for file-wise information)\n",
      "\t  1.152 MB written to files\n",
      "\t 62.000  B written to stdout/stderr\n",
      "\tFor a total of     3.92 MB/s\n",
      "\n"
     ]
    },
    {
     "name": "stdout",
     "output_type": "stream",
     "text": [
      "All queued simulations finished in: 10.51842508000118\n",
      "\u001b[32mEquilibration simulation for structure 63 completed.\u001b[0m\n",
      "Running: prod\n",
      "Run time: 0.5474978750007722\n",
      "Finished: prod\n"
     ]
    },
    {
     "name": "stderr",
     "output_type": "stream",
     "text": [
      "INFO: Lists updated 3 times (every ~333.333333 steps)\n",
      "INFO: Aggregated I/O statistics (set debug=1 for file-wise information)\n",
      "\t  1.154 MB written to files\n",
      "\t 62.000  B written to stdout/stderr\n",
      "\tFor a total of     4.12 MB/s\n",
      "\n"
     ]
    },
    {
     "name": "stdout",
     "output_type": "stream",
     "text": [
      "All queued simulations finished in: 10.506737466999766\n",
      "\u001b[32mProduction simulation for structure 63 completed.\u001b[0m\n",
      "\u001b[36mAll simulations for structure 63 completed.\n",
      "\u001b[0m\n",
      "\u001b[36mStep 5: Measuring the angle at the joint for each mutant after simulation...\u001b[0m\n",
      "\u001b[35mMeasured bend angle for structure 0: 139.44448633313107 degrees.\u001b[0m\n",
      "\u001b[35mMeasured bend angle for structure 1: 118.13529612424942 degrees.\u001b[0m\n",
      "\u001b[35mMeasured bend angle for structure 2: 145.29952736244925 degrees.\u001b[0m\n"
     ]
    },
    {
     "name": "stderr",
     "output_type": "stream",
     "text": [
      "INFO: Processed 0 / 1 confs\r"
     ]
    },
    {
     "name": "stdout",
     "output_type": "stream",
     "text": [
      "\u001b[35mMeasured bend angle for structure 3: 119.60898593595999 degrees.\u001b[0m\n",
      "\u001b[35mMeasured bend angle for structure 4: 149.70372215280494 degrees.\u001b[0m\n",
      "\u001b[35mMeasured bend angle for structure 5: 169.05297225103405 degrees.\u001b[0m\n",
      "\u001b[35mMeasured bend angle for structure 6: 148.46386149726567 degrees.\u001b[0m\n",
      "\u001b[35mMeasured bend angle for structure 7: 157.40688659173475 degrees.\u001b[0m\n"
     ]
    },
    {
     "name": "stderr",
     "output_type": "stream",
     "text": [
      "INFO: Processed 0 / 1 confs\r"
     ]
    },
    {
     "name": "stdout",
     "output_type": "stream",
     "text": [
      "\u001b[35mMeasured bend angle for structure 8: 126.73359466234331 degrees.\u001b[0m\n",
      "\u001b[35mMeasured bend angle for structure 9: 154.2879747331511 degrees.\u001b[0m\n",
      "\u001b[35mMeasured bend angle for structure 10: 112.72744735890025 degrees.\u001b[0m\n",
      "\u001b[35mMeasured bend angle for structure 11: 136.81823569406237 degrees.\u001b[0m\n",
      "\u001b[35mMeasured bend angle for structure 12: 114.98651873802228 degrees.\u001b[0m\n",
      "\u001b[35mMeasured bend angle for structure 13: 118.94504344728315 degrees.\u001b[0m\n"
     ]
    },
    {
     "name": "stderr",
     "output_type": "stream",
     "text": [
      "INFO: Processed 0 / 1 confs\r"
     ]
    },
    {
     "name": "stdout",
     "output_type": "stream",
     "text": [
      "\u001b[35mMeasured bend angle for structure 14: 102.66655390360003 degrees.\u001b[0m\n",
      "\u001b[35mMeasured bend angle for structure 15: 112.32293974121016 degrees.\u001b[0m\n",
      "\u001b[35mMeasured bend angle for structure 16: 152.52952157507016 degrees.\u001b[0m\n",
      "\u001b[35mMeasured bend angle for structure 17: 130.55789392146585 degrees.\u001b[0m\n",
      "\u001b[35mMeasured bend angle for structure 18: 153.303798394595 degrees.\u001b[0m\n",
      "\u001b[35mMeasured bend angle for structure 19: 129.24929064147204 degrees.\u001b[0m\n"
     ]
    },
    {
     "name": "stderr",
     "output_type": "stream",
     "text": [
      "INFO: Processed 0 / 1 confs\r"
     ]
    },
    {
     "name": "stdout",
     "output_type": "stream",
     "text": [
      "\u001b[35mMeasured bend angle for structure 20: 178.0420277198317 degrees.\u001b[0m\n",
      "\u001b[35mMeasured bend angle for structure 21: 173.01605080668855 degrees.\u001b[0m\n",
      "\u001b[35mMeasured bend angle for structure 22: 171.38307109808716 degrees.\u001b[0m\n",
      "\u001b[35mMeasured bend angle for structure 23: 170.19291876728548 degrees.\u001b[0m\n",
      "\u001b[35mMeasured bend angle for structure 24: 177.25602618899356 degrees.\u001b[0m\n"
     ]
    },
    {
     "name": "stderr",
     "output_type": "stream",
     "text": [
      "INFO: Processed 0 / 1 confs\r"
     ]
    },
    {
     "name": "stdout",
     "output_type": "stream",
     "text": [
      "\u001b[35mMeasured bend angle for structure 25: 179.34132748496518 degrees.\u001b[0m\n",
      "\u001b[35mMeasured bend angle for structure 26: 178.1080066360079 degrees.\u001b[0m\n",
      "\u001b[35mMeasured bend angle for structure 27: 177.538317592367 degrees.\u001b[0m\n",
      "\u001b[35mMeasured bend angle for structure 28: 175.17553674940044 degrees.\u001b[0m\n",
      "\u001b[35mMeasured bend angle for structure 29: 177.95125309123085 degrees.\u001b[0m\n",
      "\u001b[35mMeasured bend angle for structure 30: 171.06003281125157 degrees.\u001b[0m\n"
     ]
    },
    {
     "name": "stderr",
     "output_type": "stream",
     "text": [
      "INFO: Processed 0 / 1 confs\r"
     ]
    },
    {
     "name": "stdout",
     "output_type": "stream",
     "text": [
      "\u001b[35mMeasured bend angle for structure 31: 179.8336002758922 degrees.\u001b[0m\n",
      "\u001b[35mMeasured bend angle for structure 32: 175.33154567485605 degrees.\u001b[0m\n",
      "\u001b[35mMeasured bend angle for structure 33: 173.58288510462395 degrees.\u001b[0m\n",
      "\u001b[35mMeasured bend angle for structure 34: 176.64932794934097 degrees.\u001b[0m\n",
      "\u001b[35mMeasured bend angle for structure 35: 176.4609718121078 degrees.\u001b[0m\n",
      "\u001b[35mMeasured bend angle for structure 36: 174.7040688062787 degrees.\u001b[0m\n"
     ]
    },
    {
     "name": "stderr",
     "output_type": "stream",
     "text": [
      "INFO: Processed 0 / 1 confs\r"
     ]
    },
    {
     "name": "stdout",
     "output_type": "stream",
     "text": [
      "\u001b[35mMeasured bend angle for structure 37: 175.83761185818227 degrees.\u001b[0m\n",
      "\u001b[35mMeasured bend angle for structure 38: 175.06282640337776 degrees.\u001b[0m\n",
      "\u001b[35mMeasured bend angle for structure 39: 175.02377768991354 degrees.\u001b[0m\n",
      "\u001b[35mMeasured bend angle for structure 40: 176.79159064319364 degrees.\u001b[0m\n",
      "\u001b[35mMeasured bend angle for structure 41: 174.10303427690204 degrees.\u001b[0m\n"
     ]
    },
    {
     "name": "stderr",
     "output_type": "stream",
     "text": [
      "INFO: Processed 0 / 1 confs\r"
     ]
    },
    {
     "name": "stdout",
     "output_type": "stream",
     "text": [
      "\u001b[35mMeasured bend angle for structure 42: 171.75786823851962 degrees.\u001b[0m\n",
      "\u001b[35mMeasured bend angle for structure 43: 175.19932713459937 degrees.\u001b[0m\n",
      "\u001b[35mMeasured bend angle for structure 44: 178.7321480694833 degrees.\u001b[0m\n",
      "\u001b[35mMeasured bend angle for structure 45: 177.80306659150074 degrees.\u001b[0m\n",
      "\u001b[35mMeasured bend angle for structure 46: 175.0544654500163 degrees.\u001b[0m\n",
      "\u001b[35mMeasured bend angle for structure 47: 177.80461031142474 degrees.\u001b[0m\n"
     ]
    },
    {
     "name": "stderr",
     "output_type": "stream",
     "text": [
      "INFO: Processed 0 / 1 confs\r"
     ]
    },
    {
     "name": "stdout",
     "output_type": "stream",
     "text": [
      "\u001b[35mMeasured bend angle for structure 48: 177.76337297216705 degrees.\u001b[0m\n",
      "\u001b[35mMeasured bend angle for structure 49: 174.87138055670192 degrees.\u001b[0m\n",
      "\u001b[35mMeasured bend angle for structure 50: 172.41885651831336 degrees.\u001b[0m\n",
      "\u001b[35mMeasured bend angle for structure 51: 177.49234932787 degrees.\u001b[0m\n",
      "\u001b[35mMeasured bend angle for structure 52: 177.50622529543867 degrees.\u001b[0m\n",
      "\u001b[35mMeasured bend angle for structure 53: 176.00525593104507 degrees.\u001b[0m\n"
     ]
    },
    {
     "name": "stderr",
     "output_type": "stream",
     "text": [
      "INFO: Processed 0 / 1 confs\r"
     ]
    },
    {
     "name": "stdout",
     "output_type": "stream",
     "text": [
      "\u001b[35mMeasured bend angle for structure 54: 178.32113332692276 degrees.\u001b[0m\n",
      "\u001b[35mMeasured bend angle for structure 55: 178.57066657082854 degrees.\u001b[0m\n",
      "\u001b[35mMeasured bend angle for structure 56: 172.5752137829237 degrees.\u001b[0m\n",
      "\u001b[35mMeasured bend angle for structure 57: 172.75071560993825 degrees.\u001b[0m\n",
      "\u001b[35mMeasured bend angle for structure 58: 176.56388062597557 degrees.\u001b[0m\n",
      "\u001b[35mMeasured bend angle for structure 59: 176.81889999942186 degrees.\u001b[0m\n"
     ]
    },
    {
     "name": "stderr",
     "output_type": "stream",
     "text": [
      "INFO: Processed 0 / 1 confs\r"
     ]
    },
    {
     "name": "stdout",
     "output_type": "stream",
     "text": [
      "\u001b[35mMeasured bend angle for structure 60: 176.39293443068257 degrees.\u001b[0m\n",
      "\u001b[35mMeasured bend angle for structure 61: 178.2393706113081 degrees.\u001b[0m\n",
      "\u001b[35mMeasured bend angle for structure 62: 176.08569282968114 degrees.\u001b[0m\n",
      "\u001b[35mMeasured bend angle for structure 63: 178.22177446708582 degrees.\u001b[0m\n",
      "\u001b[33mStep 6: Evaluating fitness of mutants...\u001b[0m\n",
      "\u001b[32mFitness scores: [39.44448633313107, 18.13529612424942, 45.299527362449254, 19.608985935959993, 49.70372215280494, 69.05297225103405, 48.46386149726567, 57.40688659173475, 26.733594662343307, 54.28797473315109, 12.72744735890025, 36.818235694062366, 14.986518738022284, 18.945043447283155, 2.6665539036000325, 12.322939741210163, 52.52952157507016, 30.557893921465848, 53.30379839459499, 29.249290641472044, 78.04202771983171, 73.01605080668855, 71.38307109808716, 70.19291876728548, 77.25602618899356, 79.34132748496518, 78.1080066360079, 77.53831759236701, 75.17553674940044, 77.95125309123085, 71.06003281125157, 79.8336002758922, 75.33154567485605, 73.58288510462395, 76.64932794934097, 76.4609718121078, 74.70406880627871, 75.83761185818227, 75.06282640337776, 75.02377768991354, 76.79159064319364, 74.10303427690204, 71.75786823851962, 75.19932713459937, 78.73214806948329, 77.80306659150074, 75.0544654500163, 77.80461031142474, 77.76337297216705, 74.87138055670192, 72.41885651831336, 77.49234932786999, 77.50622529543867, 76.00525593104507, 78.32113332692276, 78.57066657082854, 72.5752137829237, 72.75071560993825, 76.56388062597557, 76.81889999942186, 76.39293443068257, 78.23937061130809, 76.08569282968114, 78.22177446708582]\u001b[0m\n",
      "\u001b[34mStep 7: Selecting the best mutants based on fitness scores...\u001b[0m\n",
      "\u001b[36mResults for all structures:\u001b[0m\n",
      "\u001b[35mStructure ID: 14, Bend Angle: 102.66655390360003, Fitness Score: 2.6665539036000325\u001b[0m\n",
      "\u001b[35mStructure ID: 15, Bend Angle: 112.32293974121016, Fitness Score: 12.322939741210163\u001b[0m\n",
      "\u001b[35mStructure ID: 10, Bend Angle: 112.72744735890025, Fitness Score: 12.72744735890025\u001b[0m\n",
      "\u001b[35mStructure ID: 12, Bend Angle: 114.98651873802228, Fitness Score: 14.986518738022284\u001b[0m\n",
      "\u001b[35mStructure ID: 1, Bend Angle: 118.13529612424942, Fitness Score: 18.13529612424942\u001b[0m\n",
      "\u001b[35mStructure ID: 13, Bend Angle: 118.94504344728315, Fitness Score: 18.945043447283155\u001b[0m\n",
      "\u001b[35mStructure ID: 3, Bend Angle: 119.60898593595999, Fitness Score: 19.608985935959993\u001b[0m\n",
      "\u001b[35mStructure ID: 8, Bend Angle: 126.73359466234331, Fitness Score: 26.733594662343307\u001b[0m\n",
      "\u001b[35mStructure ID: 19, Bend Angle: 129.24929064147204, Fitness Score: 29.249290641472044\u001b[0m\n",
      "\u001b[35mStructure ID: 17, Bend Angle: 130.55789392146585, Fitness Score: 30.557893921465848\u001b[0m\n",
      "\u001b[35mStructure ID: 11, Bend Angle: 136.81823569406237, Fitness Score: 36.818235694062366\u001b[0m\n",
      "\u001b[35mStructure ID: 0, Bend Angle: 139.44448633313107, Fitness Score: 39.44448633313107\u001b[0m\n",
      "\u001b[35mStructure ID: 2, Bend Angle: 145.29952736244925, Fitness Score: 45.299527362449254\u001b[0m\n",
      "\u001b[35mStructure ID: 6, Bend Angle: 148.46386149726567, Fitness Score: 48.46386149726567\u001b[0m\n",
      "\u001b[35mStructure ID: 4, Bend Angle: 149.70372215280494, Fitness Score: 49.70372215280494\u001b[0m\n",
      "\u001b[35mStructure ID: 16, Bend Angle: 152.52952157507016, Fitness Score: 52.52952157507016\u001b[0m\n",
      "\u001b[35mStructure ID: 18, Bend Angle: 153.303798394595, Fitness Score: 53.30379839459499\u001b[0m\n",
      "\u001b[35mStructure ID: 9, Bend Angle: 154.2879747331511, Fitness Score: 54.28797473315109\u001b[0m\n",
      "\u001b[35mStructure ID: 7, Bend Angle: 157.40688659173475, Fitness Score: 57.40688659173475\u001b[0m\n",
      "\u001b[35mStructure ID: 5, Bend Angle: 169.05297225103405, Fitness Score: 69.05297225103405\u001b[0m\n",
      "\u001b[35mStructure ID: 23, Bend Angle: 170.19291876728548, Fitness Score: 70.19291876728548\u001b[0m\n",
      "\u001b[35mStructure ID: 30, Bend Angle: 171.06003281125157, Fitness Score: 71.06003281125157\u001b[0m\n",
      "\u001b[35mStructure ID: 22, Bend Angle: 171.38307109808716, Fitness Score: 71.38307109808716\u001b[0m\n",
      "\u001b[35mStructure ID: 42, Bend Angle: 171.75786823851962, Fitness Score: 71.75786823851962\u001b[0m\n",
      "\u001b[35mStructure ID: 50, Bend Angle: 172.41885651831336, Fitness Score: 72.41885651831336\u001b[0m\n",
      "\u001b[35mStructure ID: 56, Bend Angle: 172.5752137829237, Fitness Score: 72.5752137829237\u001b[0m\n",
      "\u001b[35mStructure ID: 57, Bend Angle: 172.75071560993825, Fitness Score: 72.75071560993825\u001b[0m\n",
      "\u001b[35mStructure ID: 21, Bend Angle: 173.01605080668855, Fitness Score: 73.01605080668855\u001b[0m\n",
      "\u001b[35mStructure ID: 33, Bend Angle: 173.58288510462395, Fitness Score: 73.58288510462395\u001b[0m\n",
      "\u001b[35mStructure ID: 41, Bend Angle: 174.10303427690204, Fitness Score: 74.10303427690204\u001b[0m\n",
      "\u001b[35mStructure ID: 36, Bend Angle: 174.7040688062787, Fitness Score: 74.70406880627871\u001b[0m\n",
      "\u001b[35mStructure ID: 49, Bend Angle: 174.87138055670192, Fitness Score: 74.87138055670192\u001b[0m\n",
      "\u001b[35mStructure ID: 39, Bend Angle: 175.02377768991354, Fitness Score: 75.02377768991354\u001b[0m\n",
      "\u001b[35mStructure ID: 46, Bend Angle: 175.0544654500163, Fitness Score: 75.0544654500163\u001b[0m\n",
      "\u001b[35mStructure ID: 38, Bend Angle: 175.06282640337776, Fitness Score: 75.06282640337776\u001b[0m\n",
      "\u001b[35mStructure ID: 28, Bend Angle: 175.17553674940044, Fitness Score: 75.17553674940044\u001b[0m\n",
      "\u001b[35mStructure ID: 43, Bend Angle: 175.19932713459937, Fitness Score: 75.19932713459937\u001b[0m\n",
      "\u001b[35mStructure ID: 32, Bend Angle: 175.33154567485605, Fitness Score: 75.33154567485605\u001b[0m\n",
      "\u001b[35mStructure ID: 37, Bend Angle: 175.83761185818227, Fitness Score: 75.83761185818227\u001b[0m\n",
      "\u001b[35mStructure ID: 53, Bend Angle: 176.00525593104507, Fitness Score: 76.00525593104507\u001b[0m\n",
      "\u001b[35mStructure ID: 62, Bend Angle: 176.08569282968114, Fitness Score: 76.08569282968114\u001b[0m\n",
      "\u001b[35mStructure ID: 60, Bend Angle: 176.39293443068257, Fitness Score: 76.39293443068257\u001b[0m\n",
      "\u001b[35mStructure ID: 35, Bend Angle: 176.4609718121078, Fitness Score: 76.4609718121078\u001b[0m\n",
      "\u001b[35mStructure ID: 58, Bend Angle: 176.56388062597557, Fitness Score: 76.56388062597557\u001b[0m\n",
      "\u001b[35mStructure ID: 34, Bend Angle: 176.64932794934097, Fitness Score: 76.64932794934097\u001b[0m\n",
      "\u001b[35mStructure ID: 40, Bend Angle: 176.79159064319364, Fitness Score: 76.79159064319364\u001b[0m\n",
      "\u001b[35mStructure ID: 59, Bend Angle: 176.81889999942186, Fitness Score: 76.81889999942186\u001b[0m\n",
      "\u001b[35mStructure ID: 24, Bend Angle: 177.25602618899356, Fitness Score: 77.25602618899356\u001b[0m\n",
      "\u001b[35mStructure ID: 51, Bend Angle: 177.49234932787, Fitness Score: 77.49234932786999\u001b[0m\n",
      "\u001b[35mStructure ID: 52, Bend Angle: 177.50622529543867, Fitness Score: 77.50622529543867\u001b[0m\n",
      "\u001b[35mStructure ID: 27, Bend Angle: 177.538317592367, Fitness Score: 77.53831759236701\u001b[0m\n",
      "\u001b[35mStructure ID: 48, Bend Angle: 177.76337297216705, Fitness Score: 77.76337297216705\u001b[0m\n",
      "\u001b[35mStructure ID: 45, Bend Angle: 177.80306659150074, Fitness Score: 77.80306659150074\u001b[0m\n",
      "\u001b[35mStructure ID: 47, Bend Angle: 177.80461031142474, Fitness Score: 77.80461031142474\u001b[0m\n",
      "\u001b[35mStructure ID: 29, Bend Angle: 177.95125309123085, Fitness Score: 77.95125309123085\u001b[0m\n",
      "\u001b[35mStructure ID: 20, Bend Angle: 178.0420277198317, Fitness Score: 78.04202771983171\u001b[0m\n",
      "\u001b[35mStructure ID: 26, Bend Angle: 178.1080066360079, Fitness Score: 78.1080066360079\u001b[0m\n",
      "\u001b[35mStructure ID: 63, Bend Angle: 178.22177446708582, Fitness Score: 78.22177446708582\u001b[0m\n",
      "\u001b[35mStructure ID: 61, Bend Angle: 178.2393706113081, Fitness Score: 78.23937061130809\u001b[0m\n",
      "\u001b[35mStructure ID: 54, Bend Angle: 178.32113332692276, Fitness Score: 78.32113332692276\u001b[0m\n",
      "\u001b[35mStructure ID: 55, Bend Angle: 178.57066657082854, Fitness Score: 78.57066657082854\u001b[0m\n",
      "\u001b[35mStructure ID: 44, Bend Angle: 178.7321480694833, Fitness Score: 78.73214806948329\u001b[0m\n",
      "\u001b[35mStructure ID: 25, Bend Angle: 179.34132748496518, Fitness Score: 79.34132748496518\u001b[0m\n",
      "\u001b[35mStructure ID: 31, Bend Angle: 179.8336002758922, Fitness Score: 79.8336002758922\u001b[0m\n",
      "\u001b[33mSelected the best 5 mutants:\u001b[0m\n",
      "\u001b[31mSelected Structure 0: Structure ID: 14, Bend Angle: 102.66655390360003, Fitness Score: 2.6665539036000325\u001b[0m\n",
      "\u001b[31mSelected Structure 1: Structure ID: 15, Bend Angle: 112.32293974121016, Fitness Score: 12.322939741210163\u001b[0m\n",
      "\u001b[31mSelected Structure 2: Structure ID: 10, Bend Angle: 112.72744735890025, Fitness Score: 12.72744735890025\u001b[0m\n",
      "\u001b[31mSelected Structure 3: Structure ID: 12, Bend Angle: 114.98651873802228, Fitness Score: 14.986518738022284\u001b[0m\n",
      "\u001b[31mSelected Structure 4: Structure ID: 1, Bend Angle: 118.13529612424942, Fitness Score: 18.13529612424942\u001b[0m\n",
      "\u001b[32mStep 8: Storing the removed staples info for the best mutants...\u001b[0m\n",
      "\u001b[34mStructure ID: (14, 102.66655390360003) - For structure_0, staples with the indexes 46, 22, 62 were removed.\u001b[0m\n",
      "\u001b[36mRemoved bases: [3856, 3857, 3858, 3859, 3860, 3861, 3862, 3863, 3864, 3865, 3866, 3867, 3868, 3869, 3870, 3871, 3872, 3873, 3874, 3875, 3876, 3877, 3878, 3879, 3880, 3881, 3882, 3883, 3884, 3885, 3886, 3887, 3888, 3889, 3890, 2989, 2990, 2991, 2992, 2993, 2994, 2995, 2996, 2997, 2998, 2999, 3000, 3001, 3002, 3003, 3004, 3005, 3006, 3007, 3008, 3009, 3010, 3011, 3012, 3013, 3014, 3015, 3016, 4332, 4333, 4334, 4335, 4336, 4337, 4338, 4339, 4340, 4341, 4342, 4343, 4344, 4345, 4346, 4347, 4348, 4349, 4350, 4351, 4352]\u001b[0m\n",
      "\u001b[34mStructure ID: (15, 112.32293974121016) - For structure_0, staples with the indexes 46, 61, 62 were removed.\u001b[0m\n",
      "\u001b[36mRemoved bases: [3856, 3857, 3858, 3859, 3860, 3861, 3862, 3863, 3864, 3865, 3866, 3867, 3868, 3869, 3870, 3871, 3872, 3873, 3874, 3875, 3876, 3877, 3878, 3879, 3880, 3881, 3882, 3883, 3884, 3885, 3886, 3887, 3888, 3889, 3890, 4311, 4312, 4313, 4314, 4315, 4316, 4317, 4318, 4319, 4320, 4321, 4322, 4323, 4324, 4325, 4326, 4327, 4328, 4329, 4330, 4331, 4332, 4333, 4334, 4335, 4336, 4337, 4338, 4339, 4340, 4341, 4342, 4343, 4344, 4345, 4346, 4347, 4348, 4349, 4350, 4351, 4352]\u001b[0m\n",
      "\u001b[34mStructure ID: (10, 112.72744735890025) - For structure_0, staples with the indexes 46, 21, 22 were removed.\u001b[0m\n",
      "\u001b[36mRemoved bases: [3856, 3857, 3858, 3859, 3860, 3861, 3862, 3863, 3864, 3865, 3866, 3867, 3868, 3869, 3870, 3871, 3872, 3873, 3874, 3875, 3876, 3877, 3878, 3879, 3880, 3881, 3882, 3883, 3884, 3885, 3886, 3887, 3888, 3889, 3890, 2947, 2948, 2949, 2950, 2951, 2952, 2953, 2954, 2955, 2956, 2957, 2958, 2959, 2960, 2961, 2962, 2963, 2964, 2965, 2966, 2967, 2968, 2969, 2970, 2971, 2972, 2973, 2974, 2975, 2976, 2977, 2978, 2979, 2980, 2981, 2982, 2983, 2984, 2985, 2986, 2987, 2988, 2989, 2990, 2991, 2992, 2993, 2994, 2995, 2996, 2997, 2998, 2999, 3000, 3001, 3002, 3003, 3004, 3005, 3006, 3007, 3008, 3009, 3010, 3011, 3012, 3013, 3014, 3015, 3016]\u001b[0m\n",
      "\u001b[34mStructure ID: (12, 114.98651873802228) - For structure_0, staples with the indexes 46, 21, 62 were removed.\u001b[0m\n",
      "\u001b[36mRemoved bases: [3856, 3857, 3858, 3859, 3860, 3861, 3862, 3863, 3864, 3865, 3866, 3867, 3868, 3869, 3870, 3871, 3872, 3873, 3874, 3875, 3876, 3877, 3878, 3879, 3880, 3881, 3882, 3883, 3884, 3885, 3886, 3887, 3888, 3889, 3890, 2947, 2948, 2949, 2950, 2951, 2952, 2953, 2954, 2955, 2956, 2957, 2958, 2959, 2960, 2961, 2962, 2963, 2964, 2965, 2966, 2967, 2968, 2969, 2970, 2971, 2972, 2973, 2974, 2975, 2976, 2977, 2978, 2979, 2980, 2981, 2982, 2983, 2984, 2985, 2986, 2987, 2988, 4332, 4333, 4334, 4335, 4336, 4337, 4338, 4339, 4340, 4341, 4342, 4343, 4344, 4345, 4346, 4347, 4348, 4349, 4350, 4351, 4352]\u001b[0m\n",
      "\u001b[34mStructure ID: (1, 118.13529612424942) - For structure_0, staples with the indexes 45, 46, 22 were removed.\u001b[0m\n",
      "\u001b[36mRemoved bases: [3821, 3822, 3823, 3824, 3825, 3826, 3827, 3828, 3829, 3830, 3831, 3832, 3833, 3834, 3835, 3836, 3837, 3838, 3839, 3840, 3841, 3842, 3843, 3844, 3845, 3846, 3847, 3848, 3849, 3850, 3851, 3852, 3853, 3854, 3855, 3856, 3857, 3858, 3859, 3860, 3861, 3862, 3863, 3864, 3865, 3866, 3867, 3868, 3869, 3870, 3871, 3872, 3873, 3874, 3875, 3876, 3877, 3878, 3879, 3880, 3881, 3882, 3883, 3884, 3885, 3886, 3887, 3888, 3889, 3890, 2989, 2990, 2991, 2992, 2993, 2994, 2995, 2996, 2997, 2998, 2999, 3000, 3001, 3002, 3003, 3004, 3005, 3006, 3007, 3008, 3009, 3010, 3011, 3012, 3013, 3014, 3015, 3016]\u001b[0m\n",
      "\u001b[35mDesired angle achieved within tolerance. Stopping evolution process.\u001b[0m\n",
      "\u001b[31mEvolutionary algorithm completed.\u001b[0m\n"
     ]
    },
    {
     "name": "stderr",
     "output_type": "stream",
     "text": [
      "INFO: Processed 0 / 1 confs\r"
     ]
    }
   ],
   "source": [
    "evolutionary_algorithm(initial_dna_structure, left_indices, right_indices, num_iterations, num_best_structures, desired_angle, tolerance, base_path, sim_base_path, sphere_radius)"
   ]
  }
 ],
 "metadata": {
  "kernelspec": {
   "display_name": "pypatchy",
   "language": "python",
   "name": "python3"
  },
  "language_info": {
   "codemirror_mode": {
    "name": "ipython",
    "version": 3
   },
   "file_extension": ".py",
   "mimetype": "text/x-python",
   "name": "python",
   "nbconvert_exporter": "python",
   "pygments_lexer": "ipython3",
   "version": "3.11.8"
  }
 },
 "nbformat": 4,
 "nbformat_minor": 2
}
