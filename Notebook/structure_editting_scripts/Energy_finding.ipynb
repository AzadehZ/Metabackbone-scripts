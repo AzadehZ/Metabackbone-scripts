{
 "cells": [
  {
   "cell_type": "code",
   "execution_count": 1,
   "metadata": {},
   "outputs": [],
   "source": [
    "import os\n",
    "import numpy as np\n",
    "import random\n",
    "import logging\n",
    "from itertools import combinations\n",
    "from typing import Dict, Tuple, List\n",
    "import matplotlib.pyplot as plt\n",
    "from pathlib import Path\n",
    "from copy import deepcopy\n",
    "import pandas as pd\n",
    "from pathlib import Path\n",
    "import pandas as pd\n",
    "import subprocess \n",
    "\n",
    "# Import custom functions from Metabackbone_functions and ER_functions modules\n",
    "from Metabackbone_functions import (\n",
    "    load_dna_structure_files, find_longest_strand, find_cross_over_in_longest_strand,\n",
    "    calculate_left_right_pos, find_valid_point, find_bases_around_point,\n",
    "    calculate_center_of_mass, calculate_bend_angle, find_bend_angle,\n",
    "    find_bases_in_sphere, remove_three_strands_in_sphere, export_dna_structures,\n",
    "    run_all_simulations, stored_removed_strands, remove_one_strand_in_sphere\n",
    ")\n",
    "\n",
    "from oxDNA_analysis_tools.UTILS.RyeReader import describe\n",
    "from ipy_oxdna.dna_structure import DNAStructure, DNAStructureStrand, load_dna_structure, DNABase, strand_from_info\n",
    "from ipy_oxdna.oxdna_simulation import Simulation, SimulationManager\n",
    "from oxDNA_analysis_tools.UTILS.data_structures import TrajInfo, TopInfo\n",
    "\n",
    "from Evolutionary_algorithm_functions import (\n",
    "    run_simulations_for_structure, load_simulated_structure, evaluate_fitness, check_dna_structure,\n",
    "    create_index_position_map, get_indexes_from_positions, update_right_left_indexes,find_strands_in_sphere,plot_histogram,plot_angle_evolution, plot_best_vs_desired_angle\n",
    ")\n",
    "from oxDNA_analysis_tools.output_bonds import output_bonds\n",
    "\n",
    "import argparse\n",
    "from os import path\n",
    "from oxDNA_analysis_tools.UTILS.logger import log, logger_settings\n",
    "from collections import namedtuple\n",
    "from oxDNA_analysis_tools.UTILS.data_structures import TopInfo, TrajInfo\n",
    "from oxDNA_analysis_tools.UTILS.oat_multiprocesser import oat_multiprocesser\n",
    "from oxDNA_analysis_tools.UTILS.RyeReader import describe, get_input_parameter\n",
    "import oxpy"
   ]
  },
  {
   "cell_type": "code",
   "execution_count": 2,
   "metadata": {},
   "outputs": [],
   "source": [
    "left_indices = [0,1,2,3,4,5,6,7,8,9,10,11,12,13,14,15,16,17,18,19,151,152,153,154,155,156,157,158,159,160,161,162,163,164,165,166,167,168,169,170,171,172,173,174,175,176,177,178,179,180,181,182,183,184,185,186,187,188,189,190,191,192,193,194,195,196,197,198,199,200,201,202,203,204,205,206,207,208,209,210,211,212,213,214,215,216,217,218,219,220,221,222,223,224,225,226,227,228,229,230,231,232,233,234,235,236,237,238,239,240,241,242,243,244,245,246,247,248,249,250,251,252,253,254,255,256,257,258,259,260,261,262,263,264,265,266,267,268,269,270,271,272,273,274,275,276,277,278,279,280,281,282,283,284,285,286,287,288,289,290,291,292,293,294,295,296,297,298,299,300,525,526,527,528,529,530,531,532,533,534,535,536,537,538,539,540,541,542,543,544,545,546,547,548,549,550,551,552,553,554,555,556,557,558,559,560,561,562,563,564,565,566,567,568,569,570,571,572,573,574,575,576,577,578,579,580,581,582,583,584,585,586,587,588,589,590,591,592,593,594,595,596,597,598,599,600,601,602,603,604,605,606,607,608,609,610,611,612,613,614,615,616,617,618,619,620,621,622,623,624,625,626,627,628,629,630,631,632,633,634,635,636,637,638,639,640,641,642,643,644,645,646,647,648,649,650,651,652,653,654,655,656,657,658,659,660,661,662,663,664,665,666,667,668,669,670,671,672,673,674,675,676,677,678,679,680,681,682,683,684,2028,2029,2030,2031,2032,2033,2034,2035,2036,2037,2038,2039,2040,2041,2042,2043,2044,2045,2046,2047,2048,2049,2050,2051,2052,2053,2054,2055,2056,2057,2058,2059,2060,2061,2062,2063,2064,2065,2066,2067,2068,2069,2070,2071,2072,2073,2074,2075,2076,2077,2078,2079,2080,2081,2082,2083,2084,2085,2086,2087,2088,2089,2090,2091,2092,2093,2094,2095,2096,2097,2098,2099,2100,2101,2102,2103,2104,2105,2106,2107,2108,2109,2110,2111,2112,2113,2114,2115,2116,2117,2118,2119,2120,2121,2122,2123,2124,2125,2126,2127,2128,2129,2130,2131,2132,2133,2134,2135,2136,2137,2138,2139,2140,2141,2142,2143,2144,2145,2146,2147,2148,2149,2150,2151,2152,2153,2154,2155,2156,2157,2158,2159,2160,2161,2162,2163,2164,2165,2166,2167,2168,2169,2170,2171,2172,2173,2174,2175,2176,2177,2178,2179,2180,2181,2182,2183,2184,2185,2186,2187,2188,2189,2190,2191,2192,2193,2194,2195,2196,2197,2198,2199,2200,2201,2202,2203,2204,2205,3269,3270,3271,3272,3273,3274,3275,3276,3277,3278,3279,3280,3281,3282,3283,3284,3285,3296,3302,3303,3304,3305,3306,3307,3308,3309,3310,3311,3312,3313,3314,3315,3316,3317,3318,3319,3320,3321,3322,3323,3324,3325,3326,3327,3328,3329,3330,3331,3332,3333,3334,3335,3336,3337,3338,3339,3340,3341,3342,3343,3344,3345,3346,3347,3348,3349,3350,3351,3352,3353,3354,3355,3356,3357,3358,3359,3360,3361,3362,3363,3364,3365,3366,3367,3368,3369,3370,3371,3372,3373,3374,3375,3376,3377,3378,3379,3380,3381,3382,3383,3384,3385,3386,3387,3388,3389,3390,3391,3392,3393,3394,3395,3396,3397,3398,3399,3400,3401,3402,3403,3404,3405,3406,3407,3408,3409,3410,3411,3412,3413,3414,3415,3416,3417,3418,3419,3420,3421,3422,3423,3424,3425,3426,3427,3428,3429,3430,3431,3432,3433,3434,3435,3436,3437,3438,3439,3440,3441,3442,3443,3444,3445,3446,3447,3448,3449,3450,3451,3452,3453,3454,3455,3456,3457,3458,3459,3460,3461,3462,3463,3464,3465,3466,3467,3468,3469,3470,3471,3472,3473,3474,3475,3476,3477,3478,3479,3480,3481,3482,3483,3484,3485,3486,3487,3488,3489,3490,3491,3492,3493,3494,3495,3496,3497,3498,3499,3500,3501,3502,3503,3504,3505,3506,3507,3508,3509,3510,3511,3512,3513,3514,3515,3516,3517,3518,3519,3520,3521,3522,3523,3524,3525,3526,3527,3528,3529,3530,3531,3532,3533,3534,3535,3536,3537,3538,3539,3540,3541,3542,3543,3544,3545,3546,3547,3548,3549,3550,3551,3552,3553,3554,3555,3556,3557,3558,3559,4066,4101,4102,4103,4104,4105,4106,4107,4108,4109,4110,4111,4112,4113,4114,4115,4116,4117,4118,4119,4120,4121,4122,4123,4124,4125,4126,4127,4128,4129,4130,4131,4132,4133,4134,4135,4136,4137,4138,4139,4140,4141,4142,4143,4144,4145,4146,4147,4148,4149,4150,4151,4152,4153,4154,4155,4156,4157,4158,4159,4160,4161,4162,4163,4164,4165,4166,4167,4168,4169,4170,4171,4172,4173,4174,4175,4176,4177,4178,4179,4180,4181,4182,4183,4184,4185,4186,4187,4188,4189,4190,4191,4192,4193,4194,4195,4196,4197,4198,4199,4200,4201,4202,4203,4204,4205,4469,4470,4471,4472,4473,4474,4475,4479,4480,4481,4482,4483,4484,4485,4486,4487,4488,4489,4490,4491,4492,4493,4494,4495,4496,4497,4498,4499,4500,4501,4502,4503,4504,4505,4506,4507,4508,4509,4510,4511,4512,4513,4514,4515,4516,4517,4518,4519,4520,4521,4522,4523,4524,4525,4526,4527,4528,4529,4530,4531,4532,4533,4534,4535,4536,4537,4538,4539,4540,4541,4542,4543,4544,4545,4546,4547,4548,4549,4550,4551,4552,4553,4554,4555,4556,4557,4558,4559,4560,4561,4562,4563,4564,4565,4566,4567,4568,4569,4570,4571,4572,4573,4574,4575,4576,4577,4578,4579,4580,4581]\n",
    "right_indices = [20,21,22,23,24,25,26,27,28,29,30,31,32,33,34,35,36,37,38,39,40,41,42,43,916,917,918,919,920,921,922,923,924,925,926,927,928,929,930,931,932,933,934,935,936,937,938,939,940,941,942,943,944,945,946,947,948,949,950,951,952,953,954,955,956,957,958,959,960,961,962,963,964,965,966,967,968,969,970,971,972,973,974,975,976,977,978,979,980,981,982,983,984,985,986,987,988,989,990,991,992,993,994,995,996,997,998,999,1000,1001,1002,1003,1004,1005,1006,1007,1008,1009,1010,1011,1012,1013,1014,1015,1016,1017,1018,1019,1020,1021,1022,1023,1024,1025,1026,1027,1028,1029,1030,1031,1032,1033,1034,1035,1036,1037,1038,1039,1040,1041,1042,1043,1044,1045,1046,1047,1048,1285,1286,1287,1288,1289,1290,1291,1292,1293,1294,1295,1296,1297,1298,1299,1300,1301,1302,1303,1304,1305,1306,1307,1308,1309,1310,1311,1312,1313,1314,1315,1316,1317,1318,1319,1320,1321,1322,1323,1324,1325,1326,1327,1328,1329,1330,1331,1332,1333,1334,1335,1336,1337,1338,1339,1340,1341,1342,1343,1344,1345,1346,1347,1348,1349,1350,1351,1352,1353,1354,1355,1356,1357,1358,1359,1360,1361,1362,1363,1364,1365,1366,1367,1368,1369,1370,1371,1372,1373,1374,1375,1376,1377,1378,1379,1380,1381,1382,1383,1384,1385,1386,1387,1388,1389,1390,1391,1392,1393,1394,1395,1396,1397,1398,1399,1400,1401,1402,1403,1404,1405,1406,1407,1408,1409,1410,1411,1412,1413,1414,1415,1416,1417,1418,1419,1420,1421,1422,1423,1424,1425,1426,1427,1428,1429,1430,1431,1432,1433,1434,1435,1436,1676,1677,1678,1679,1680,1681,1682,1683,1684,1685,1686,1687,1688,1689,1690,1691,1692,1693,1694,1695,1696,1697,1698,1699,1700,1701,1702,1703,1704,1705,1706,1707,1708,1709,1710,1711,1712,1713,1714,1715,1716,1717,1718,1719,1720,1721,1722,1723,1724,1725,1726,1727,1728,1729,1730,1731,1732,1733,1734,1735,1736,1737,1738,1739,1740,1741,1742,1743,1744,1745,1746,1747,1748,1749,1750,1751,1752,1753,1754,1755,1756,1757,1758,1759,1760,1761,1762,1763,1764,1765,1766,1767,1768,1769,1770,1771,1772,1773,1774,1775,1776,1777,1778,1779,1780,1781,1782,1783,1784,1785,1786,1787,1788,1789,1790,1791,1792,1793,1794,1795,1796,1797,1798,2312,2313,2314,2315,2316,2317,2318,2319,2320,2321,2322,2323,2324,2325,2326,2327,2328,2329,2330,2331,2332,2333,2334,2335,2336,2337,2338,2339,2340,2341,2342,2343,2344,2345,2346,2347,2348,2349,2350,2351,2352,2353,2354,2355,2356,2357,2358,2359,2360,2361,2362,2363,2364,2365,2366,2367,2368,2369,2370,2371,2372,2373,2374,2375,2376,2377,2378,2379,2380,2381,2382,2383,2384,2385,2386,2387,2388,2389,2390,2391,2392,2393,2394,2395,2396,2397,2398,2399,2400,2401,2402,2403,2404,2405,2406,2407,2408,2409,2410,2411,2412,2413,2414,2415,2416,2417,2418,2419,2420,2421,2422,2423,2424,2425,2426,2427,2428,2429,2430,2431,2432,2433,2434,2435,2436,2437,2438,2439,2440,2441,2442,2443,2444,2445,2446,2447,2448,2449,2450,2451,2452,2453,2454,2455,2456,2457,2458,2459,2460,2461,2462,2463,2464,2465,2466,2467,2468,2469,2470,2471,2472,2473,2474,2475,2476,2477,2478,2479,2480,2481,2482,2483,2484,2485,2486,2487,2488,2489,2490,2491,2492,2493,2494,2495,2496,2497,2498,2499,2500,2501,2513,2514,2515,2516,2517,2518,2519,2520,2521,2522,2523,2524,2527,2528,2529,2530,2531,2532,2533,3560,3561,3562,3563,3564,3565,3566,3567,3568,3569,3570,3571,3572,3573,3574,3575,3576,3577,3578,3579,3580,3581,3582,3583,3584,3585,3586,3587,3588,3589,3590,3591,3592,3593,3594,3595,3596,3597,3598,3599,3600,3601,3602,3603,3604,3605,3606,3607,3608,3609,3610,3611,3612,3613,3614,3615,3616,3617,3618,3619,3620,3621,3622,3623,3624,3625,3626,3627,3628,3629,3630,3631,3632,3633,3634,3635,3636,3637,3638,3639,3640,3641,3642,3643,3644,3645,3646,3647,3648,3649,3650,3651,3652,3653,3654,3655,3656,3657,3658,3659,3660,3661,3662,3663,3664,3665,3666,3667,3668,3669,3670,3671,3672,3673,3674,3675,3676,3677,3678,3679,3680,3682,3683,3684,3685,3686,3687,3688,3689,3690,3691,3692,3693,3694,3695,3696,3697,3698,3699,3700,3701,3702,3703,3704,3705,3706,3707,3708,3709,3710,3711,3712,3713,3714,3715,3750,4206,4207,4208,4209,4210,4211,4212,4213,4214,4215,4216,4217,4218,4219,4220,4221,4222,4223,4224,4225,4226,4227,4228,4229,4230,4231,4232,4233,4234,4235,4236,4237,4238,4239,4240,4241,4242,4243,4244,4245,4246,4247]\n",
    "sphere_radius = 5\n",
    "eq_steps = 1e8\n",
    "prod_steps = 1e8\n",
    "rel_steps = 1e5\n",
    "min_distance_threshold = 4\n",
    "min_distance = 7.0\n",
    "max_distance = 20.0\n",
    "base_pair_distance = 1.022\n",
    "\n",
    "\n",
    "figs_path = \"/home/ava/MetaBackbone_project/Metabackbone-scripts/Notebook/Simulations_results/simulated_structures/Evolutionary_algorithm\"\n",
    "input_path = \"/home/ava/MetaBackbone_project/Metabackbone-scripts/structure_files/six_helix_oxdna_file/unmodified/1512_bp\"\n",
    "base_path = \"/home/ava/MetaBackbone_project/Metabackbone-scripts/structure_files/six_helix_oxdna_file/modified/1512_bp/Three_staples_removed\"\n",
    "sim_base_path = '/home/ava/MetaBackbone_project/Metabackbone-scripts/Notebook/Simulations_results/simulated_structures/1512_bp'\n",
    "\n",
    "eq_parameters = {'dt':f'0.003','steps':f'{eq_steps}','print_energy_every': f'1e5', 'interaction_type': 'DNA2',\n",
    "                 'print_conf_interval':f'1e5', 'fix_diffusion':'false', 'T':f'20C','max_density_multiplier':f'50'}\n",
    "\n",
    "prod_parameters = {'dt':f'0.003','steps':f'{prod_steps}','print_energy_every': f'1e5', 'interaction_type': 'DNA2',\n",
    "                   'print_conf_interval':f'1e5', 'fix_diffusion':'false', 'T':f'20C','max_density_multiplier':f'50'}\n",
    "rel_parameters = {'steps': f'{rel_steps}', 'max_backbone_force': '200', 'max_backbone_force_far': '200'}"
   ]
  },
  {
   "cell_type": "code",
   "execution_count": 3,
   "metadata": {},
   "outputs": [],
   "source": [
    "def load_dna_structure_files(input_path):\n",
    "    dat_path = os.path.join(input_path, '1512_bp.dat')\n",
    "    top_path = os.path.join(input_path, '1512_bp.top')\n",
    "    dna = load_dna_structure(top_path, dat_path)\n",
    "    return dna"
   ]
  },
  {
   "cell_type": "code",
   "execution_count": 4,
   "metadata": {},
   "outputs": [],
   "source": [
    "def run_output_bonds(input_md_file, strucutre_file):\n",
    "    \n",
    "    p1 = f'oat output_bonds \"{input_md_file.as_posix()}\" \"{strucutre_file.as_posix()}\" '\n",
    "\n",
    "    p2 = \"\"\"| grep -v \"#\" | gawk '{if($7 < -0.1){print $1 \" \" $2 \" \" $7 \" \"}}' > hblist.txt\"\"\"\n",
    "\n",
    "    invovation = p1 + p2\n",
    "    start_dir = os.getcwd()\n",
    "    os.chdir(input_md_file.parent)\n",
    "    try:\n",
    "        result = subprocess.run(invovation, shell=True, check=True)\n",
    "    except subprocess.CalledProcessError as e:\n",
    "        print(e)\n",
    "        raise ValueError('The run output bonds script failed')\n",
    "    os.chdir(start_dir)\n",
    "    if result.returncode != 0:\n",
    "        print('The output_bonds script failed')\n",
    "        sys.exit(1)\n",
    "    \n",
    "    \n",
    "    return None"
   ]
  },
  {
   "cell_type": "code",
   "execution_count": 5,
   "metadata": {},
   "outputs": [],
   "source": [
    "def remove_strands_and_track_bases(dna, point, sphere_radius, num_strands_to_remove=3):\n",
    "    \"\"\"\n",
    "    Remove three strands at a time and track the removed bases (as a flat list of removed base indices).\n",
    "    \"\"\"\n",
    "    # Find bases and strands within the sphere\n",
    "    bases_in_sphere, base_to_strand_mapping, strands_in_sphere_list = find_bases_in_sphere(dna, point, sphere_radius)\n",
    "    \n",
    "    # Find the longest strand in the structure\n",
    "    longest_strand, longest_strand_index = find_longest_strand(dna)\n",
    "    \n",
    "    # Exclude the longest strand from removal candidates\n",
    "    strands_to_remove = set(base_to_strand_mapping.values()) - {longest_strand_index}\n",
    "    \n",
    "    removed_strands_info = []\n",
    "    new_dna_structures = []\n",
    "    removed_bases = []  # This will store all the removed base indices\n",
    "    \n",
    "    # Create all possible triplets of strands to remove\n",
    "    strand_triplets = [(strand_1, strand_2, strand_3) for i, strand_1 in enumerate(strands_to_remove)\n",
    "                       for j, strand_2 in enumerate(list(strands_to_remove)[i + 1:])\n",
    "                       for strand_3 in list(strands_to_remove)[i + j + 2:]]\n",
    "    \n",
    "    # Loop through all triplets of strands to remove\n",
    "    for mutant_index, (strand_1, strand_2, strand_3) in enumerate(strand_triplets):\n",
    "        strand_list = []\n",
    "        removed_bases_triplet = {strand_1: [], strand_2: [], strand_3: []}  # Dictionary to keep format\n",
    "        \n",
    "        for idx, strand in enumerate(dna.strands):\n",
    "            if idx not in {strand_1, strand_2, strand_3}:\n",
    "                strand_list.append(strand)\n",
    "            else:\n",
    "                # Track which bases were removed (store them in both the dict and flat list)\n",
    "                removed_bases_for_strand = [base.uid for base in dna.strands[idx]]\n",
    "                removed_bases_triplet[idx].extend(removed_bases_for_strand)  # To keep original format\n",
    "                removed_bases.extend(removed_bases_for_strand)  # Add to the main flat list\n",
    "                \n",
    "        # Create the new DNA structure after removing the triplet of strands\n",
    "        new_dna_structure = DNAStructure(strand_list, dna.time, dna.box, dna.energy)\n",
    "        new_dna_structures.append(new_dna_structure)\n",
    "        removed_strands_info.append((strand_1, strand_2, strand_3))\n",
    "        \n",
    "        # Calculate total removed bases for this mutant\n",
    "        total_removed_bases = sum(len(bases) for bases in removed_bases_triplet.values())\n",
    "        \n",
    "        # Print the removed strands and corresponding removed bases\n",
    "        print(f\"Removed strands for mutant {mutant_index}: {strand_1}, {strand_2}, {strand_3}\")\n",
    "        print(\"Removed bases for each strand:\")\n",
    "        for strand_id, bases in removed_bases_triplet.items():\n",
    "            print(f\"  Strand {strand_id}: {bases}\")\n",
    "        \n",
    "        # Print total removed bases for this mutant\n",
    "        print(f\"Total removed bases for mutant {mutant_index}: {total_removed_bases}\")\n",
    "        print()\n",
    "    \n",
    "    return new_dna_structures, removed_strands_info, removed_bases"
   ]
  },
  {
   "cell_type": "code",
   "execution_count": 6,
   "metadata": {},
   "outputs": [
    {
     "name": "stderr",
     "output_type": "stream",
     "text": [
      "INFO: Processed 0 / 1 confs\r"
     ]
    }
   ],
   "source": [
    "dna_structure = load_dna_structure_files(input_path)"
   ]
  },
  {
   "cell_type": "code",
   "execution_count": 7,
   "metadata": {},
   "outputs": [
    {
     "name": "stdout",
     "output_type": "stream",
     "text": [
      "longest_strand: <ipy_oxdna.dna_structure.DNAStructureStrand object at 0x70082cde7ad0>\n",
      "longest_strand_index: 2\n"
     ]
    }
   ],
   "source": [
    "longest_strand, longest_strand_index = find_longest_strand(dna_structure)\n",
    "print(\"longest_strand:\", longest_strand)\n",
    "print(\"longest_strand_index:\", longest_strand_index)"
   ]
  },
  {
   "cell_type": "code",
   "execution_count": 8,
   "metadata": {},
   "outputs": [
    {
     "name": "stdout",
     "output_type": "stream",
     "text": [
      "P: [ 0.15676416  0.10544268 -7.50340412]\n"
     ]
    }
   ],
   "source": [
    "point = find_valid_point(dna_structure, left_indices, right_indices, longest_strand)\n",
    "print(\"P:\", point)"
   ]
  },
  {
   "cell_type": "code",
   "execution_count": 9,
   "metadata": {},
   "outputs": [
    {
     "name": "stdout",
     "output_type": "stream",
     "text": [
      "bases_in_sphere: [549, 550, 551, 552, 553, 554, 555, 556, 557, 558, 559, 560, 561, 562, 563, 564, 565, 566, 567, 568, 569, 570, 571, 764, 765, 766, 767, 768, 769, 770, 771, 772, 773, 774, 775, 776, 777, 778, 779, 780, 781, 782, 783, 794, 795, 796, 797, 798, 799, 800, 801, 802, 803, 804, 805, 806, 807, 808, 809, 810, 811, 812, 813, 814, 1020, 1021, 1022, 1023, 1024, 1025, 1026, 1027, 1028, 1029, 1030, 1031, 1032, 1033, 1034, 1035, 1036, 1037, 1038, 1039, 1040, 1041, 1042, 1043, 1059, 1060, 1061, 1062, 1063, 1064, 1065, 1066, 1067, 1068, 1069, 1070, 1071, 1072, 1073, 1074, 1075, 1076, 1077, 1078, 1079, 1080, 1259, 1260, 1261, 1262, 1263, 1264, 1265, 1266, 1267, 1268, 1269, 1270, 1271, 1272, 1273, 1274, 1275, 1276, 1277, 1278, 1279, 1280, 1818, 1868, 1869, 1870, 1871, 1872, 1873, 1874, 1875, 1876, 1877, 1878, 1879, 1880, 1881, 1882, 1883, 1884, 1885, 1886, 1887, 1888, 1889, 1890, 1891, 1892, 1893, 1894, 1895, 1896, 1897, 1898, 1899, 1900, 1901, 1902, 1903, 1904, 1905, 1906, 1907, 1908, 1909, 1910, 1911, 1912, 1913, 1914, 1915, 1916, 1917, 1918, 1919, 1920, 1921, 1922, 1923, 1924, 1925, 1926, 1927, 1928, 1929, 1930, 1931, 1932, 1933, 1934, 1935, 1936, 1950, 2573, 2574, 2575, 2576, 2577, 2578, 2579, 2580, 2581, 2582, 2583, 2584, 2585, 2586, 2587, 2588, 2589, 2590, 2591, 2592, 2593, 2594, 2595, 2596, 2597, 2598, 2599, 2621, 2622, 2636, 2637, 2638, 2639, 2640, 2641, 2642, 2881, 2882, 2883, 2884, 2885, 2886, 2887, 2888, 2889, 2890, 2891, 2892, 2893, 2894, 2895, 2896, 2897, 2898, 2899, 2900, 2901, 2902, 2903]\n",
      "base_to_strand_mapping: {549: 2, 550: 2, 551: 2, 552: 2, 553: 2, 554: 2, 555: 2, 556: 2, 557: 2, 558: 2, 559: 2, 560: 2, 561: 2, 562: 2, 563: 2, 564: 2, 565: 2, 566: 2, 567: 2, 568: 2, 569: 2, 570: 2, 571: 2, 764: 2, 765: 2, 766: 2, 767: 2, 768: 2, 769: 2, 770: 2, 771: 2, 772: 2, 773: 2, 774: 2, 775: 2, 776: 2, 777: 2, 778: 2, 779: 2, 780: 2, 781: 2, 782: 2, 783: 2, 794: 2, 795: 2, 796: 2, 797: 2, 798: 2, 799: 2, 800: 2, 801: 2, 802: 2, 803: 2, 804: 2, 805: 2, 806: 2, 807: 2, 808: 2, 809: 2, 810: 2, 811: 2, 812: 2, 813: 2, 814: 2, 1020: 2, 1021: 2, 1022: 2, 1023: 2, 1024: 2, 1025: 2, 1026: 2, 1027: 2, 1028: 2, 1029: 2, 1030: 2, 1031: 2, 1032: 2, 1033: 2, 1034: 2, 1035: 2, 1036: 2, 1037: 2, 1038: 2, 1039: 2, 1040: 2, 1041: 2, 1042: 2, 1043: 2, 1059: 2, 1060: 2, 1061: 2, 1062: 2, 1063: 2, 1064: 2, 1065: 2, 1066: 2, 1067: 2, 1068: 2, 1069: 2, 1070: 2, 1071: 2, 1072: 2, 1073: 2, 1074: 2, 1075: 2, 1076: 2, 1077: 2, 1078: 2, 1079: 2, 1080: 2, 1259: 2, 1260: 2, 1261: 2, 1262: 2, 1263: 2, 1264: 2, 1265: 2, 1266: 2, 1267: 2, 1268: 2, 1269: 2, 1270: 2, 1271: 2, 1272: 2, 1273: 2, 1274: 2, 1275: 2, 1276: 2, 1277: 2, 1278: 2, 1279: 2, 1280: 2, 1818: 10, 1868: 11, 1869: 11, 1870: 11, 1871: 11, 1872: 11, 1873: 11, 1874: 11, 1875: 11, 1876: 11, 1877: 11, 1878: 11, 1879: 11, 1880: 11, 1881: 12, 1882: 12, 1883: 12, 1884: 12, 1885: 12, 1886: 12, 1887: 12, 1888: 12, 1889: 12, 1890: 12, 1891: 12, 1892: 12, 1893: 12, 1894: 12, 1895: 12, 1896: 12, 1897: 12, 1898: 12, 1899: 12, 1900: 12, 1901: 12, 1902: 12, 1903: 12, 1904: 12, 1905: 12, 1906: 12, 1907: 12, 1908: 12, 1909: 13, 1910: 13, 1911: 13, 1912: 13, 1913: 13, 1914: 13, 1915: 13, 1916: 13, 1917: 13, 1918: 13, 1919: 13, 1920: 13, 1921: 13, 1922: 13, 1923: 13, 1924: 13, 1925: 13, 1926: 13, 1927: 13, 1928: 13, 1929: 13, 1930: 13, 1931: 13, 1932: 13, 1933: 13, 1934: 13, 1935: 13, 1936: 13, 1950: 13, 2573: 31, 2574: 31, 2575: 31, 2576: 31, 2577: 31, 2578: 31, 2579: 31, 2580: 31, 2581: 31, 2582: 31, 2583: 31, 2584: 31, 2585: 31, 2586: 31, 2587: 31, 2588: 31, 2589: 31, 2590: 31, 2591: 31, 2592: 31, 2593: 31, 2594: 31, 2595: 31, 2596: 31, 2597: 31, 2598: 31, 2599: 31, 2621: 32, 2622: 32, 2636: 32, 2637: 32, 2638: 32, 2639: 32, 2640: 32, 2641: 32, 2642: 32, 2881: 41, 2882: 41, 2883: 41, 2884: 41, 2885: 41, 2886: 41, 2887: 41, 2888: 41, 2889: 41, 2890: 41, 2891: 41, 2892: 41, 2893: 41, 2894: 41, 2895: 41, 2896: 41, 2897: 41, 2898: 41, 2899: 41, 2900: 41, 2901: 41, 2902: 42, 2903: 42}\n",
      "strands_in_sphere_list: [32, 2, 41, 10, 11, 12, 13, 42, 31]\n"
     ]
    }
   ],
   "source": [
    "bases_in_sphere, base_to_strand_mapping, strands_in_sphere_list = find_bases_in_sphere(dna_structure, point, sphere_radius)\n",
    "print(\"bases_in_sphere:\", bases_in_sphere)\n",
    "print(\"base_to_strand_mapping:\", base_to_strand_mapping)\n",
    "print(\"strands_in_sphere_list:\", strands_in_sphere_list)"
   ]
  },
  {
   "cell_type": "code",
   "execution_count": 10,
   "metadata": {},
   "outputs": [
    {
     "name": "stdout",
     "output_type": "stream",
     "text": [
      "strands_to_remove: {32, 41, 10, 11, 12, 13, 42, 31}\n"
     ]
    }
   ],
   "source": [
    "strands_to_remove = set(base_to_strand_mapping.values()) - {longest_strand_index}\n",
    "print(\"strands_to_remove:\", strands_to_remove)"
   ]
  },
  {
   "cell_type": "code",
   "execution_count": 11,
   "metadata": {},
   "outputs": [],
   "source": [
    "# mutants, removed_strands_info, removed_bases = remove_strands_and_track_bases(dna_structure, point, sphere_radius, num_strands_to_remove = 3)\n",
    "# print()\n",
    "# print(len(mutants))\n",
    "# print(\"removed_strands_info:\", removed_strands_info)\n",
    "# print(\"removed_bases:\", removed_bases)\n",
    "# print(len(removed_bases))"
   ]
  },
  {
   "cell_type": "code",
   "execution_count": 12,
   "metadata": {},
   "outputs": [],
   "source": [
    "# export_paths = export_dna_structures(mutants, base_path)\n",
    "# for path in export_paths:\n",
    "#     print('Path:', path)"
   ]
  },
  {
   "cell_type": "code",
   "execution_count": 13,
   "metadata": {},
   "outputs": [
    {
     "name": "stdout",
     "output_type": "stream",
     "text": [
      "/home/ava/MetaBackbone_project/Metabackbone-scripts/structure_files/six_helix_oxdna_file/Test/Energy_relaxed_GPU.dat\n",
      "/home/ava/MetaBackbone_project/Metabackbone-scripts/Notebook/structure_editting_scripts/input\n"
     ]
    }
   ],
   "source": [
    "structure_file = \"/home/ava/MetaBackbone_project/Metabackbone-scripts/structure_files/six_helix_oxdna_file/Test/Energy_relaxed_GPU.dat\"\n",
    "inputfile = \"/home/ava/MetaBackbone_project/Metabackbone-scripts/Notebook/structure_editting_scripts/input\"\n",
    "structure_file = Path(structure_file)\n",
    "inputfile = Path(inputfile)\n",
    "print(structure_file)\n",
    "print(inputfile)"
   ]
  },
  {
   "cell_type": "code",
   "execution_count": 14,
   "metadata": {},
   "outputs": [
    {
     "name": "stderr",
     "output_type": "stream",
     "text": [
      "INFO: oxDNA_analysis_tools version: 2.3.5\n",
      "INFO: running config.py installed at: /home/ava/miniconda3/envs/pypatchy/lib/python3.11/site-packages/oxDNA_analysis_tools/config.py\n",
      "INFO: Python version: 3.11.8\n",
      "INFO: Package Numpy found. Version: 1.26.4\n",
      "INFO: No dependency issues found.\n",
      "INFO: no units specified, assuming oxDNA su\n",
      "WARNING: Overwriting key `trajectory_file' (`trajectory.dat' to `/home/ava/MetaBackbone_project/Metabackbone-scripts/structure_files/six_helix_oxdna_file/Test/Energy_relaxed_GPU.dat')\n",
      "INFO: The generator will try to take into account bonded interactions by choosing distances between bonded neighbours no larger than 2.000000\n",
      "INFO: Converting temperature from Celsius (20.000000 C°) to simulation units (0.097717)\n",
      "INFO: Running Debye-Huckel at salt concentration =  1\n",
      "INFO: Using different widths for major and minor grooves\n",
      "DEBUG: Debye-Huckel parameters: Q=0.054300, lambda_0=0.361646, lambda=0.357493, r_high=1.072479, cutoff=2.571515\n",
      "DEBUG: Debye-Huckel parameters: debye_huckel_RC=1.608718e+00, debye_huckel_B=8.766182e-03\n",
      "INFO: The Debye length at this temperature and salt concentration is 0.357493\n",
      "INFO: (Cells.cpp) N_cells_side: 18, 18, 18; rcut=2.57152, IS_MC: 0\n",
      "INFO: N: 2872, N molecules: 43\n",
      "\n",
      "Please cite at least the following publication for any work that uses the oxDNA simulation package\n",
      "  * E. Poppleton et al., J. Open Source Softw. 8, 4693 (2023), DOI: 10.21105/joss.04693\n",
      "INFO: Aggregated I/O statistics (set debug=1 for file-wise information)\n",
      "\t  0.000  B written to files\n",
      "\t  0.000  B written to stdout/stderr\n",
      "INFO: Processing in blocks of 20 configurations\n",
      "INFO: You can modify this number by running oat config -n <number>, which will be persistent between analyses.\n",
      "INFO: Starting up 1 processes for 1 chunks\n",
      "INFO: All spawned, waiting for results\n",
      "WARNING: Overwriting key `trajectory_file' (`trajectory.dat' to `/home/ava/MetaBackbone_project/Metabackbone-scripts/structure_files/six_helix_oxdna_file/Test/Energy_relaxed_GPU.dat')\n",
      "INFO: The generator will try to take into account bonded interactions by choosing distances between bonded neighbours no larger than 2.000000\n",
      "INFO: Running Debye-Huckel at salt concentration =  1\n",
      "INFO: Using different widths for major and minor grooves\n",
      "DEBUG: Debye-Huckel parameters: Q=0.054300, lambda_0=0.361646, lambda=0.357493, r_high=1.072479, cutoff=2.571515\n",
      "DEBUG: Debye-Huckel parameters: debye_huckel_RC=1.608718e+00, debye_huckel_B=8.766182e-03\n",
      "INFO: The Debye length at this temperature and salt concentration is 0.357493\n",
      "INFO: (Cells.cpp) N_cells_side: 18, 18, 18; rcut=2.57152, IS_MC: 0\n",
      "INFO: N: 2872, N molecules: 43\n",
      "\n",
      "Please cite at least the following publication for any work that uses the oxDNA simulation package\n",
      "  * E. Poppleton et al., J. Open Source Softw. 8, 4693 (2023), DOI: 10.21105/joss.04693\n",
      "INFO: Aggregated I/O statistics (set debug=1 for file-wise information)\n",
      "\t  0.000  B written to files\n",
      "\t  0.000  B written to stdout/stderr\n"
     ]
    }
   ],
   "source": [
    "run_output_bonds(inputfile, structure_file)\n",
    "with open('hblist.txt', 'r') as f:\n",
    "    lines = f.readlines()\n",
    "lines_strip = [line.strip() for line in lines]\n",
    "lines_split = [line.split(' ') for line in lines_strip]\n",
    "lines_array = []\n",
    "for line in lines_split:\n",
    "    try:\n",
    "        lines_array.append(np.array(line, dtype=float))\n",
    "    except:\n",
    "        pass\n",
    "        # print(line)\n",
    "        # raise ValueError('The run output bonds script ')\n",
    "lines_one_array = np.array(lines_array)\n",
    "columns = ['id1', 'id2', 'HB']\n",
    "df = pd.DataFrame(lines_one_array, columns=columns, dtype=float)"
   ]
  },
  {
   "cell_type": "code",
   "execution_count": 15,
   "metadata": {},
   "outputs": [],
   "source": [
    "# def process_mutants_and_find_unpaired_bases(dna, point, sphere_radius, num_strands_to_remove=3, input_md_file=None, structure_file=None, hb_cutoff=-0.1):\n",
    "#     # Step 1: Remove strands and create mutants\n",
    "#     mutants, removed_strands_info, removed_bases = remove_strands_and_track_bases(dna, point, sphere_radius, num_strands_to_remove)\n",
    "    \n",
    "#     unpaired_bases_per_mutant = []\n",
    "    \n",
    "#     # Step 2: Loop through each mutant and analyze HB energies\n",
    "#     for i, mutant in enumerate(mutants):\n",
    "#         # Create a structure file for each mutant (assuming you have a way to export the mutant structure)\n",
    "#         mutant_structure_file = export_mutant_structure(mutant, i)\n",
    "        \n",
    "#         # Step 3: Run output bonds for this mutant to get HB energies\n",
    "#         run_output_bonds(input_md_file, mutant_structure_file)\n",
    "        \n",
    "#         # Read the hydrogen bond list (hblist.txt) and filter for unpaired bases\n",
    "#         with open('hblist.txt', 'r') as f:\n",
    "#             lines = f.readlines()\n",
    "        \n",
    "#         lines_strip = [line.strip() for line in lines]\n",
    "#         lines_split = [line.split(' ') for line in lines_strip if len(line.split(' ')) == 3]\n",
    "        \n",
    "#         # Parse HB energies and find unpaired bases (based on HB > hb_cutoff)\n",
    "#         unpaired_bases = []\n",
    "#         for line in lines_split:\n",
    "#             id1, id2, hb = map(float, line)\n",
    "#             if hb > hb_cutoff:\n",
    "#                 unpaired_bases.append(int(id1))  # You could also track id2 or both if needed\n",
    "        \n",
    "#         # Store unpaired bases for this mutant\n",
    "#         unpaired_bases_per_mutant.append(unpaired_bases)\n",
    "        \n",
    "#         # Print out the results for each mutant\n",
    "#         print(f\"Mutant {i} - Unpaired bases: {unpaired_bases}\")\n",
    "    \n",
    "#     return unpaired_bases_per_mutant\n"
   ]
  },
  {
   "cell_type": "code",
   "execution_count": 16,
   "metadata": {},
   "outputs": [],
   "source": [
    "# unpaired_bases_per_mutant = process_mutants_and_find_unpaired_bases(\n",
    "#     dna, \n",
    "#     point, \n",
    "#     sphere_radius, \n",
    "#     num_strands_to_remove=3, \n",
    "#     input_md_file='/path/to/mdfile', \n",
    "#     structure_file='/path/to/structure_file'\n",
    "# )"
   ]
  }
 ],
 "metadata": {
  "kernelspec": {
   "display_name": "pypatchy",
   "language": "python",
   "name": "python3"
  },
  "language_info": {
   "codemirror_mode": {
    "name": "ipython",
    "version": 3
   },
   "file_extension": ".py",
   "mimetype": "text/x-python",
   "name": "python",
   "nbconvert_exporter": "python",
   "pygments_lexer": "ipython3",
   "version": "3.11.8"
  }
 },
 "nbformat": 4,
 "nbformat_minor": 2
}
