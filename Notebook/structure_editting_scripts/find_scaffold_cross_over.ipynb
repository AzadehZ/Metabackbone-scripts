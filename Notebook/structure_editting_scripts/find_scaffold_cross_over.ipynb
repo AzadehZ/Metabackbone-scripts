{
 "cells": [
  {
   "cell_type": "code",
   "execution_count": 1,
   "metadata": {},
   "outputs": [],
   "source": [
    "from itertools import combinations\n",
    "import numpy as np\n",
    "import sys\n",
    "from oxDNA_analysis_tools.UTILS.oxview import oxdna_conf, from_path\n",
    "from oxDNA_analysis_tools.UTILS.RyeReader import describe, get_confs, inbox\n",
    "from oxDNA_analysis_tools.UTILS.data_structures import TopInfo, TrajInfo\n",
    "from pathlib import Path\n",
    "import os\n",
    "from ipy_oxdna.dna_structure import DNAStructure, DNAStructureStrand, load_dna_structure, DNABase, strand_from_info\n",
    "from copy import deepcopy\n",
    "from ipy_oxdna.oxdna_simulation import Simulation \n",
    "import copy\n",
    "from tqdm.auto import tqdm"
   ]
  },
  {
   "cell_type": "code",
   "execution_count": 2,
   "metadata": {},
   "outputs": [],
   "source": [
    "path = '/home/ava/Dropbox (ASU)/temp/Metabackbone/structure_files/six_helix_oxdna_file/unmodified/1512_bp'\n",
    "dat_path = os.path.join(path,'1512_bp.dat')\n",
    "top_path = os.path.join(path,'1512_bp.top')"
   ]
  },
  {
   "cell_type": "code",
   "execution_count": 3,
   "metadata": {},
   "outputs": [
    {
     "name": "stderr",
     "output_type": "stream",
     "text": [
      "INFO: processed 0 / 1 confs\r"
     ]
    }
   ],
   "source": [
    "# downloading the structure \n",
    "\n",
    "dna = load_dna_structure(top_path, dat_path)   "
   ]
  },
  {
   "cell_type": "code",
   "execution_count": 4,
   "metadata": {},
   "outputs": [],
   "source": [
    "def find_longest_strand(dna):\n",
    "    longest_strand = None\n",
    "    max_length = 0\n",
    "    \n",
    "    # Find the longest strand in the DNA structure\n",
    "    for strand in dna.strands:\n",
    "        if len(strand.bases) > max_length:\n",
    "            max_length = len(strand.bases)\n",
    "            longest_strand = strand\n",
    "    \n",
    "    return longest_strand\n",
    "    print(longest_strand)"
   ]
  },
  {
   "cell_type": "code",
   "execution_count": 5,
   "metadata": {},
   "outputs": [
    {
     "name": "stdout",
     "output_type": "stream",
     "text": [
      "<class 'list'>\n",
      "DNABase(uid=43, base='T', pos=array([ 2.10507846, -0.6867429 ,  0.12683482]), a1=array([ 0.17443815, -0.98466813,  0.        ]), a3=array([0., 0., 1.]))\n",
      "[ 2.10507846 -0.6867429   0.12683482]\n",
      "43\n",
      "1512\n"
     ]
    }
   ],
   "source": [
    "    longest_strand = list(find_longest_strand(dna))\n",
    "    print(type(longest_strand))\n",
    "    print(longest_strand[0])\n",
    "    print(longest_strand[0].pos)\n",
    "    print(longest_strand[0].uid)\n",
    "    print(len(longest_strand))\n"
   ]
  },
  {
   "cell_type": "code",
   "execution_count": 6,
   "metadata": {},
   "outputs": [],
   "source": [
    "def find_cross_over_in_longest_strand(dna):\n",
    "    min_distance = float('inf')        # Initialize the minimum distance to infinity\n",
    "    max_index_difference = 0           # Initialize the maximum index difference to 0\n",
    "    cross_over_bases = (None, None)    # Initialize the crossover bases to (None, None)\n",
    "    num_bases = len(longest_strand)\n",
    "    \n",
    "    # Iterate over all pairs of bases in the longest strand\n",
    "    for i in range(num_bases):\n",
    "        for j in range(i + 1, num_bases):\n",
    "            base_i = longest_strand[i] \n",
    "            base_j = longest_strand[j]\n",
    "            index_difference = abs(base_i.uid - base_j.uid)\n",
    "            distance = np.linalg.norm(np.array(base_i.pos) - np.array(base_j.pos))\n",
    "            \n",
    "            # Check if this pair has the largest index difference and the smallest distance\n",
    "            if index_difference > max_index_difference or (index_difference == max_index_difference and distance < min_distance):\n",
    "                max_index_difference = index_difference\n",
    "                min_distance = distance\n",
    "                cross_over_bases = (base_i, base_j)\n",
    "                \n",
    "        return cross_over_bases, max_index_difference, min_distance"
   ]
  },
  {
   "cell_type": "code",
   "execution_count": 7,
   "metadata": {},
   "outputs": [
    {
     "name": "stdout",
     "output_type": "stream",
     "text": [
      "Cross over bases: (DNABase(uid=43, base='T', pos=array([ 2.10507846, -0.6867429 ,  0.12683482]), a1=array([ 0.17443815, -0.98466813,  0.        ]), a3=array([0., 0., 1.])), DNABase(uid=1554, base='T', pos=array([2.37799716, 0.69653118, 0.12683482]), a1=array([-0.28042587,  0.95987568,  0.        ]), a3=array([ 0.,  0., -1.])))\n",
      "Largest index difference: 1511\n",
      "Smallest distance: 1.4099403509855792\n"
     ]
    }
   ],
   "source": [
    "cross_over_bases, max_index_difference, min_distance = find_cross_over_in_longest_strand(dna)\n",
    "print(f\"Cross over bases: {cross_over_bases}\")\n",
    "print(f\"Largest index difference: {max_index_difference}\")\n",
    "print(f\"Smallest distance: {min_distance}\")"
   ]
  }
 ],
 "metadata": {
  "kernelspec": {
   "display_name": "pypatchy",
   "language": "python",
   "name": "python3"
  },
  "language_info": {
   "codemirror_mode": {
    "name": "ipython",
    "version": 3
   },
   "file_extension": ".py",
   "mimetype": "text/x-python",
   "name": "python",
   "nbconvert_exporter": "python",
   "pygments_lexer": "ipython3",
   "version": "3.11.8"
  }
 },
 "nbformat": 4,
 "nbformat_minor": 2
}
