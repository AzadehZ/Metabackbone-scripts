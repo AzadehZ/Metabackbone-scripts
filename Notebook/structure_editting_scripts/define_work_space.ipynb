{
 "cells": [
  {
   "cell_type": "code",
   "execution_count": 2,
   "metadata": {},
   "outputs": [],
   "source": [
    "from itertools import combinations\n",
    "import numpy as np\n",
    "import sys\n",
    "from oxDNA_analysis_tools.UTILS.oxview import oxdna_conf, from_path\n",
    "from oxDNA_analysis_tools.UTILS.RyeReader import describe, get_confs, inbox\n",
    "from oxDNA_analysis_tools.UTILS.data_structures import TopInfo, TrajInfo\n",
    "from pathlib import Path\n",
    "import os\n",
    "from ipy_oxdna.dna_structure import DNAStructure, DNAStructureStrand, load_dna_structure, DNABase, strand_from_info\n",
    "from copy import deepcopy\n",
    "from ipy_oxdna.oxdna_simulation import Simulation, SimulationManager\n",
    "import copy\n",
    "from tqdm.auto import tqdm\n",
    "from ipy_oxdna.oxdna_simulation import Simulation, SimulationManager\n",
    "import os\n",
    "import random"
   ]
  },
  {
   "cell_type": "code",
   "execution_count": 3,
   "metadata": {},
   "outputs": [],
   "source": [
    "base_path = '/home/ava/MetaBackbone_project/Metabackbone-scripts/structure_files/six_helix_oxdna_file/unmodified/1512_bp'\n",
    "\n",
    "def load_dna_structure_files(base_path):\n",
    "    \n",
    "    dat_path = os.path.join(base_path, '1512_bp.dat')\n",
    "    top_path = os.path.join(base_path, '1512_bp.top')\n",
    "    dna = load_dna_structure(top_path, dat_path)\n",
    "    return dna"
   ]
  },
  {
   "cell_type": "code",
   "execution_count": null,
   "metadata": {},
   "outputs": [],
   "source": [
    "dna = load_dna_structure_files(base_path)"
   ]
  },
  {
   "cell_type": "code",
   "execution_count": null,
   "metadata": {},
   "outputs": [],
   "source": [
    "def find_longest_strand(dna):\n",
    "    \n",
    "    longest_strand = None\n",
    "    longest_strand_index = -1\n",
    "    max_length = 0\n",
    "    \n",
    "    for index, strand in enumerate(dna.strands):\n",
    "        if len(strand.bases) > max_length:\n",
    "            max_length = len(strand.bases)\n",
    "            longest_strand = strand\n",
    "            longest_strand_index = index\n",
    "    \n",
    "    return longest_strand, longest_strand_index"
   ]
  },
  {
   "cell_type": "code",
   "execution_count": null,
   "metadata": {},
   "outputs": [],
   "source": [
    "longest_strand, longest_strand_index = list(find_longest_strand(dna))      # Has been checked with the oxview information and they match\n",
    "print (\"longest_strand:\",longest_strand)\n",
    "print(\"longest_strand_index:\",longest_strand_index)\n",
    "print(\"Number of bases in longest strand:\",len(longest_strand))"
   ]
  },
  {
   "cell_type": "code",
   "execution_count": null,
   "metadata": {},
   "outputs": [],
   "source": [
    "def find_cross_over_in_longest_strand(longest_strand):\n",
    "    \n",
    "    min_distance = float('inf')\n",
    "    max_index_difference = 0\n",
    "    cross_over_bases_max = (None, None)\n",
    "    num_bases = len(longest_strand)\n",
    "\n",
    "    for i in range(num_bases):\n",
    "        \n",
    "        for j in range(i + 1, num_bases):\n",
    "            \n",
    "            base_i = longest_strand[i]\n",
    "            base_j = longest_strand[j]\n",
    "            index_difference = abs(base_i.uid - base_j.uid)\n",
    "            distance = np.linalg.norm(np.array(base_i.pos) - np.array(base_j.pos))\n",
    "\n",
    "            if index_difference > max_index_difference or (index_difference == max_index_difference and distance < min_distance):\n",
    "                max_index_difference = index_difference\n",
    "                min_distance = distance\n",
    "                cross_over_bases_max = (base_i, base_j)\n",
    "\n",
    "    return cross_over_bases_max, max_index_difference, min_distance"
   ]
  },
  {
   "cell_type": "code",
   "execution_count": null,
   "metadata": {},
   "outputs": [],
   "source": [
    "cross_over_bases_max, max_index_difference, min_distance = find_cross_over_in_longest_strand(longest_strand)          # Has been checked with the oxview info and they match\n",
    "print(\"cross_over_bases_max:\",cross_over_bases_max)\n",
    "print(\"max_index_difference:\", max_index_difference)\n",
    "print(\"min_distance:\", min_distance)"
   ]
  },
  {
   "cell_type": "code",
   "execution_count": null,
   "metadata": {},
   "outputs": [],
   "source": [
    "left_indices = [0,1,2,3,4,5,6,7,8,9,10,11,12,13,14,15,16,17,18,19,143,144,145,146,147,148,149,150,151,152,153,154,155,156,157,158,159,160,161,162,163,164,165,166,167,168,169,170,171,172,173,174,175,176,177,178,391,392,393,394,395,396,397,398,399,400,401,402,403,404,405,406,407,408,409,410,411,412,413,414,415,416,417,418,419,420,421,422,423,424,425,426,427,428,429,430,431,432,433,434,435,436,437,438,1390,1391,1392,1393,1394,1395,1396,1397,1398,1399,1400,1401,1402,1403,1404,1405,1406,1407,1408,1409,1410,1411,1412,1413,1414,1415,1416,1417,1418,1419,1420,1421,1422,1423,1424,1425,1426,1427,1428,1429,1430,1431,1432,1433,1434,1435,1436,1437,1438,1439,1440,1441,1442,1443,1444,1445,1446,1447,1448,1449,1450,1451,1452,1453,1454,2293,2294,2295,2301,2302,2303,2304,2305,2306,2307,2308,2309,2310,2311,2312,2313,2314,2315,2316,2317,2318,2319,2320,2321,2322,2323,2324,2325,2326,2327,2328,2329,2330,2331,2332,2333,2334,2335,2336,2337,2338,2339,2340,2341,2342,2343,2344,2345,2346,2347,2348,2349,2350,2351,2352,2353,2354,2355,2356,2357,2358,2359,2360,2361,2362,2363,2364,2365,2366,2367,2368,2369,2370,2371,2372,2373,2374,2375,2376,2377,2378,2379,2380,2381,2783,2784,2785,2786,2787,2788,2789,2802,2803,2804,2805,2806,3011,3012,3013,3014,3015,3016,3017,3018,3019,3020,3021,3022,3023,3024,3025,3026,3027,3028,3029,3030,3031,3032,3033,3034,3035,3036,3037,3038,3039,3040,3041,3042,3043,3044,3045,3046,3047,3048,3049,3050,3051,3052,3053,3054,3055,3056,3057,3058,3059,3060,3061,3062,3063,3064,3065,3066,3067]\n",
    "right_indices = [20,21,22,23,24,25,26,27,28,29,30,31,32,33,34,35,36,37,38,39,40,41,42,631,632,633,634,635,636,637,638,639,640,641,642,643,644,645,646,647,648,649,650,651,652,653,654,655,656,657,658,659,660,661,662,663,664,665,666,667,668,669,670,671,672,673,674,675,676,677,678,679,680,681,682,683,684,685,686,687,688,689,690,691,692,693,694,695,696,697,698,699,700,701,875,876,877,878,879,880,881,882,883,884,885,886,887,888,889,890,891,892,893,894,895,896,897,898,899,900,901,902,903,904,905,906,907,908,909,910,911,912,913,914,915,916,917,918,919,920,921,922,923,924,925,926,927,928,929,930,931,932,933,934,935,936,937,938,939,940,941,942,943,944,945,946,947,948,949,950,951,952,953,954,955,956,957,958,959,960,961,962,1139,1140,1141,1142,1143,1144,1145,1146,1147,1148,1149,1150,1151,1152,1153,1154,1155,1156,1157,1158,1159,1160,1161,1162,1163,1164,1165,1166,1167,1168,1169,1170,1171,1172,1173,1174,1175,1176,1177,1178,1179,1180,1181,1182,1183,1184,1185,1186,1187,1188,1189,1190,1191,1192,1193,1194,1195,1196,1197,1198,1199,1555,1556,1557,1558,1559,1560,1561,1562,1563,1564,1565,1566,1567,1568,1569,1570,1571,1572,1573,1574,1575,1576,1577,1578,1579,1580,1581,1582,1583,1584,1585,1586,1587,1588,1589,1590,1591,1592,1593,1594,1595,1596,1597,1598,1599,1600,1601,1602,1603,1604,1605,1606,1607,1608,1609,1610,1611,1612,1613,1614,1615,1616,1617,1618,1619,1620,1621,1622,1623,1624,1625,1626,1627,1628,1629,1630,1631,1632,1633,1634,1635,1636,1637,1638,1639,1640,1641,1642,1643,1644,1645,1646,1647,1648,1649,1650,1651,1652,1653,1654,1655,1656,1657,1658,1667,1668,1669,1670,2382,2383,2384,2385,2386,2387,2388,2389,2390,2391,2392,2393,2394,2395,2396,2397,2398,2399,2400,2401,2402,2403,2404,2405,2406,2407,2408,2409,2410,2411,2412,2413,2414,2415,2416,2417,2418,2419,2420,2421,2422,2423,2424,2425,2426,2427,2428,2429,2430,2431,2432,2433,2434,2435,2436,2437,2438,2439,2440,2441,2442,2443,2444,2445,2446,2447,2448,2449,2450,2451,2452,2453,2454,2455,2456,2457,2458,2459,2460,2461,2462,2463,2464,2465,2466,2467,2479,2480,2481,2482,2483,2484,2491,2492,2493,2494,2495,2496,2497,2498,2499,2500,2501,2502,2818,2819,2820,2821,2822,2823]\n",
    "\n",
    "def calculate_left_right_pos(dna, left_indices, right_indices):\n",
    "    \n",
    "    left_pos = []\n",
    "    right_pos = []\n",
    "\n",
    "    for strand in dna.strands:\n",
    "        for base in strand:\n",
    "            if base.uid in left_indices:\n",
    "                left_pos.append(base.pos)\n",
    "\n",
    "    for strand in dna.strands:\n",
    "        for base in strand:\n",
    "            if base.uid in right_indices:\n",
    "                right_pos.append(base.pos)\n",
    "\n",
    "    all_uids = [base.uid for strand in dna.strands for base in strand]\n",
    "    \n",
    "    # print(f\"All base UIDs in DNA: {all_uids}\")\n",
    "    # print(f\"Left indices: {left_indices}\")\n",
    "    # print(f\"Right indices: {right_indices}\")\n",
    "    # print(f\"Left positions found: {left_pos}\")\n",
    "    # print(f\"Right positions found: {right_pos}\")\n",
    "\n",
    "    if left_pos:\n",
    "        cms_left_side = np.mean(left_pos, axis=0)\n",
    "    else:\n",
    "        raise ValueError(\"No positions found for left indices.\")\n",
    "\n",
    "    if right_pos:\n",
    "        cms_right_side = np.mean(right_pos, axis=0)\n",
    "    else:\n",
    "        raise ValueError(\"No positions found for right indices.\")\n",
    "\n",
    "    return cms_left_side, cms_right_side"
   ]
  },
  {
   "cell_type": "code",
   "execution_count": null,
   "metadata": {},
   "outputs": [],
   "source": [
    "def is_point_far_from_crossovers(point, crossover_positions, min_distance_threshold):\n",
    "    for pos in crossover_positions:\n",
    "        distance = np.linalg.norm(np.array(point) - np.array(pos))\n",
    "        if distance < min_distance_threshold:\n",
    "            return False\n",
    "    return True"
   ]
  },
  {
   "cell_type": "code",
   "execution_count": null,
   "metadata": {},
   "outputs": [],
   "source": [
    "def find_valid_point(dna, left_indices, right_indices, longest_strand, min_distance_threshold= 3 ):\n",
    "    \n",
    "    cms_left_side, cms_right_side = calculate_left_right_pos(dna, left_indices, right_indices)\n",
    "    cross_over_bases, max_index_difference, min_distance = find_cross_over_in_longest_strand(longest_strand)\n",
    "    crossover_positions = [base.pos for base in cross_over_bases if base is not None]\n",
    "\n",
    "    t = random.uniform(0, 1)\n",
    "    first_P = np.array(cms_left_side + t * (cms_right_side - cms_left_side))\n",
    "\n",
    "    if not crossover_positions:\n",
    "        return first_P\n",
    "\n",
    "    while True:\n",
    "        t = random.uniform(0, 1)\n",
    "        P = np.array(cms_left_side + t * (cms_right_side - cms_left_side))\n",
    "\n",
    "        if is_point_far_from_crossovers(P, crossover_positions, min_distance_threshold):\n",
    "            return P"
   ]
  },
  {
   "cell_type": "code",
   "execution_count": null,
   "metadata": {},
   "outputs": [],
   "source": [
    "# Find some point on both left and right sides of the point P to calculate the bent angle \n",
    "def find_bases_around_point(dna, point, min_distance, max_distance):\n",
    "    \n",
    "    left_bases = []\n",
    "    right_bases = []\n",
    "\n",
    "    for strand in dna.strands:\n",
    "        for base in strand:\n",
    "            distance = np.linalg.norm(np.array(base.pos) - np.array(point))\n",
    "            if min_distance < distance < max_distance:\n",
    "                if base.pos[0] < point[0]:\n",
    "                    left_bases.append(base.pos)\n",
    "                else:\n",
    "                    right_bases.append(base.pos)\n",
    "\n",
    "    return left_bases, right_bases"
   ]
  },
  {
   "cell_type": "code",
   "execution_count": null,
   "metadata": {},
   "outputs": [],
   "source": [
    "def calculate_center_of_mass(positions):\n",
    "    if not positions:\n",
    "        raise ValueError(\"No positions provided for center of mass calculation.\")\n",
    "    return np.mean(positions, axis=0)"
   ]
  },
  {
   "cell_type": "code",
   "execution_count": null,
   "metadata": {},
   "outputs": [],
   "source": [
    "def calculate_bend_angle(P, cms_left, cms_right):\n",
    "    \n",
    "    vec_left = cms_left - P\n",
    "    vec_right = cms_right - P\n",
    "\n",
    "    unit_vec_left = vec_left / np.linalg.norm(vec_left)\n",
    "    unit_vec_right = vec_right / np.linalg.norm(vec_right)\n",
    "\n",
    "    dot_product = np.dot(unit_vec_left, unit_vec_right)\n",
    "    angle = np.arccos(dot_product) * (180.0 / np.pi)\n",
    "\n",
    "    return angle"
   ]
  },
  {
   "cell_type": "code",
   "execution_count": null,
   "metadata": {},
   "outputs": [],
   "source": [
    "P = find_valid_point(dna, left_indices, right_indices, longest_strand)\n",
    "print(f\"Valid point P: {P}\")\n",
    "print()\n",
    "cross_over_bases, max_index_difference, min_distance = find_cross_over_in_longest_strand(longest_strand)\n",
    "print(f\"Cross over bases: {cross_over_bases}\")\n",
    "print(f\"Max index difference: {max_index_difference}\")\n",
    "print(f\"Min distance: {min_distance}\")"
   ]
  },
  {
   "cell_type": "code",
   "execution_count": null,
   "metadata": {},
   "outputs": [],
   "source": [
    "def find_bend_angle(dna, left_indices, right_indices, longest_strand, min_distance_threshold=2.0, min_distance=5.0, max_distance=10.0):\n",
    "    \n",
    "    point_pos = find_valid_point(dna, left_indices, right_indices, longest_strand, min_distance_threshold)\n",
    "    left_bases, right_bases = find_bases_around_point(dna, point_pos, min_distance, max_distance)\n",
    "\n",
    "    cms_left = calculate_center_of_mass(left_bases)\n",
    "    cms_right = calculate_center_of_mass(right_bases)\n",
    "\n",
    "    bend_angle = calculate_bend_angle(point_pos, cms_left, cms_right)\n",
    "\n",
    "    return point_pos, bend_angle"
   ]
  },
  {
   "cell_type": "code",
   "execution_count": null,
   "metadata": {},
   "outputs": [],
   "source": [
    "P_pos, bend_angle = find_bend_angle(dna, left_indices, right_indices, longest_strand, min_distance_threshold=5.0, min_distance=5.0, max_distance=10.0)\n",
    "print(f\"Point P position: {P_pos}\")\n",
    "print(f\"Bend angle at point P: {bend_angle} degrees\")"
   ]
  },
  {
   "cell_type": "code",
   "execution_count": null,
   "metadata": {},
   "outputs": [],
   "source": [
    "def calculate_angles_for_all_structures(dna_list, left_indices, right_indices, min_distance_threshold=2.0, min_distance=5.0, max_distance=10.0):\n",
    "    angles = []\n",
    "    for dna in dna_list:\n",
    "        longest_strand, _ = find_longest_strand(dna)\n",
    "        point_pos, bend_angle = find_bend_angle(dna, left_indices, right_indices, longest_strand, min_distance_threshold, min_distance, max_distance)\n",
    "        angles.append((point_pos, bend_angle))\n",
    "    return angles"
   ]
  },
  {
   "cell_type": "code",
   "execution_count": null,
   "metadata": {},
   "outputs": [],
   "source": [
    "sphere_radius = 3.5   # I checked the radius of the bundle from the oxview and chose this number for the sphere radius\n",
    "\n",
    "def find_bases_in_sphere(dna, point, sphere_radius):\n",
    "    bases_in_sphere = []\n",
    "    base_to_strand_mapping = {}\n",
    "    \n",
    "    for strand_index, strand in enumerate(dna.strands):\n",
    "        for base in strand:\n",
    "            base_position = np.array(base.pos)\n",
    "            distance = np.linalg.norm(base_position - point)\n",
    "            # print(f\"Base UID: {base.uid}, Position: {base_position}, Distance to P: {distance}\")\n",
    "\n",
    "            if distance < sphere_radius:\n",
    "                bases_in_sphere.append(base.uid)\n",
    "                base_to_strand_mapping[base.uid] = strand_index\n",
    "                # print(f\"Base UID {base.uid} is within the sphere radius\")\n",
    "    \n",
    "    return bases_in_sphere, base_to_strand_mapping"
   ]
  },
  {
   "cell_type": "code",
   "execution_count": null,
   "metadata": {},
   "outputs": [],
   "source": [
    "bases_in_sphere, base_to_strand_mapping = find_bases_in_sphere(dna, P, sphere_radius)\n",
    "print('bases_in_sphere:', bases_in_sphere)\n",
    "print('base_to_strand_mapping:', base_to_strand_mapping)\n",
    "print('Number_bases_in_sphere:', len(bases_in_sphere))"
   ]
  },
  {
   "cell_type": "code",
   "execution_count": null,
   "metadata": {},
   "outputs": [],
   "source": [
    "def export_dna_structures(new_dna_structures, base_path):\n",
    "    \n",
    "    output_paths = []\n",
    "    \n",
    "    for i, new_dna in enumerate(new_dna_structures):\n",
    "        \n",
    "        structure_id = i  \n",
    "        unique_subdir = os.path.join(base_path, f'structure_{structure_id}')\n",
    "        os.makedirs(unique_subdir, exist_ok=True)\n",
    "        dat_path = os.path.join(unique_subdir, '1512_bp_rmv_staples.dat')\n",
    "        top_path = os.path.join(unique_subdir, '1512_bp_rmv_staples.top')\n",
    "        \n",
    "        new_dna.export_top_conf(Path(top_path), Path(dat_path))\n",
    "        \n",
    "        output_paths.append({\n",
    "            'structure_id': structure_id,\n",
    "            'dat_path': dat_path,\n",
    "            'top_path': top_path\n",
    "        })\n",
    "\n",
    "    return output_paths"
   ]
  },
  {
   "cell_type": "code",
   "execution_count": null,
   "metadata": {},
   "outputs": [],
   "source": [
    "def remove_one_strand_in_sphere(dna, point, sphere_radius):\n",
    "    \n",
    "    bases_in_sphere, base_to_strand_mapping = find_bases_in_sphere(dna, point, sphere_radius)\n",
    "    longest_strand, longest_strand_index = find_longest_strand(dna)\n",
    "    \n",
    "    print(f\"Bases in sphere: {bases_in_sphere}\")\n",
    "    print(f\"Base to strand mapping: {base_to_strand_mapping}\")\n",
    "    print(f\"Longest strand: {longest_strand}\")\n",
    "    print(f\"Longest strand index: {longest_strand_index}\")\n",
    "    \n",
    "    strands_to_remove = set(base_to_strand_mapping.values()) - {longest_strand_index}\n",
    "    print(f\"Strands to remove: {strands_to_remove}\")\n",
    "    \n",
    "    dna_structures = []\n",
    "    \n",
    "    for strand_index in strands_to_remove:\n",
    "        strand_list = []\n",
    "        \n",
    "        for idx, strand in enumerate(dna.strands):\n",
    "            if idx != strand_index:\n",
    "                strand_list.append(strand)\n",
    "        \n",
    "        print(f\"Removing strand with index: {strand_index}\")\n",
    "        \n",
    "        new_dna_structure = DNAStructure(strand_list, dna.time, dna.box, dna.energy)\n",
    "        dna_structures.append(new_dna_structure)\n",
    "        \n",
    "    \n",
    "    return dna_structures"
   ]
  },
  {
   "cell_type": "code",
   "execution_count": null,
   "metadata": {},
   "outputs": [],
   "source": [
    "new_dna_structures = remove_one_strand_in_sphere(dna, P, sphere_radius)\n",
    "print(\"new_dna_structures:\",new_dna_structures)\n",
    "print(len(new_dna_structures))"
   ]
  },
  {
   "cell_type": "code",
   "execution_count": null,
   "metadata": {},
   "outputs": [],
   "source": [
    "angles = calculate_angles_for_all_structures(new_dna_structures, left_indices, right_indices)\n",
    "\n",
    "for i, (point_pos, bend_angle) in enumerate(angles):\n",
    "    print(f\"Structure {i}: Point P position: {point_pos}, Bend angle: {bend_angle} degrees\")"
   ]
  },
  {
   "cell_type": "code",
   "execution_count": null,
   "metadata": {},
   "outputs": [],
   "source": [
    "base_path = '/home/ava/MetaBackbone_project/Metabackbone-scripts/structure_files/six_helix_oxdna_file/Automatically_removed_staples/1512_bp/one_staple_remvd'\n",
    "output_paths_one = export_dna_structures(new_dna_structures, base_path)"
   ]
  },
  {
   "cell_type": "code",
   "execution_count": null,
   "metadata": {},
   "outputs": [],
   "source": [
    "def remove_two_strands_in_sphere(dna, point, sphere_radius):\n",
    "    bases_in_sphere, base_to_strand_mapping = find_bases_in_sphere(dna, P, sphere_radius)\n",
    "    longest_strand, longest_strand_index = find_longest_strand(dna)\n",
    "    \n",
    "    print(\"Bases in sphere:\", bases_in_sphere)\n",
    "    print(\"Base to strand mapping:\", base_to_strand_mapping)\n",
    "    print(\"Longest strand:\", longest_strand)\n",
    "    print(\"Longest strand index:\", longest_strand_index)\n",
    "    \n",
    "    strands_to_remove = set(base_to_strand_mapping.values()) - {longest_strand_index}\n",
    "    print(\"Strands to remove:\", strands_to_remove)\n",
    "\n",
    "    dna_structures = []\n",
    "    removed_strands_info = []\n",
    "\n",
    "    # Create all possible pairs of strands to remove\n",
    "    strand_pairs = [(strand_1, strand_2) for i, strand_1 in enumerate(strands_to_remove)\n",
    "                    for strand_2 in list(strands_to_remove)[i + 1:]]\n",
    "\n",
    "    for strand_1, strand_2 in strand_pairs:\n",
    "        strand_list = []\n",
    "        for idx, strand in enumerate(dna.strands):\n",
    "            if idx not in {strand_1, strand_2}:\n",
    "                strand_list.append(strand)\n",
    "        \n",
    "        new_dna_structure = DNAStructure(strand_list, dna.time, dna.box, dna.energy)\n",
    "        dna_structures.append(new_dna_structure)\n",
    "        \n",
    "        removed_strands_info.append((strand_1, strand_2))\n",
    "        print(f\"Removed strands: {strand_1}, {strand_2}\")\n",
    "    \n",
    "    return dna_structures, removed_strands_info\n",
    "\n"
   ]
  },
  {
   "cell_type": "code",
   "execution_count": null,
   "metadata": {},
   "outputs": [],
   "source": [
    "new_dna_structures_two, removed_strands_info_two = remove_two_strands_in_sphere(dna, P, sphere_radius)\n",
    "\n",
    "print(f\"Generated {len(new_dna_structures_two)} new DNA structures with two strands removed.\")\n",
    "# print(\"Details of removed strands for each structure:\")\n",
    "# for strands in removed_strands_info_two:\n",
    "#     print(f\"Strands removed: {strands}\")"
   ]
  },
  {
   "cell_type": "code",
   "execution_count": null,
   "metadata": {},
   "outputs": [],
   "source": [
    "new_dna_structures_two, removed_strands_info_two = remove_two_strands_in_sphere(dna, P, sphere_radius)\n",
    "print(new_dna_structures_two)\n",
    "print(len(new_dna_structures_two))"
   ]
  },
  {
   "cell_type": "code",
   "execution_count": null,
   "metadata": {},
   "outputs": [],
   "source": [
    "base_path = '/home/ava/MetaBackbone_project/Metabackbone-scripts/structure_files/six_helix_oxdna_file/Automatically_removed_staples/1512_bp/two_staples_remvd'\n",
    "output_paths_two = export_dna_structures(new_dna_structures_two, base_path)"
   ]
  },
  {
   "cell_type": "code",
   "execution_count": null,
   "metadata": {},
   "outputs": [],
   "source": [
    "def remove_three_strands_in_sphere(dna, point, sphere_radius):\n",
    "    bases_in_sphere, base_to_strand_mapping = find_bases_in_sphere(dna, P, sphere_radius)\n",
    "    longest_strand, longest_strand_index = find_longest_strand(dna)\n",
    "    \n",
    "    print(\"Bases in sphere:\", bases_in_sphere)\n",
    "    print(\"Base to strand mapping:\", base_to_strand_mapping)\n",
    "    print(\"Longest strand:\", longest_strand)\n",
    "    print(\"Longest strand index:\", longest_strand_index)\n",
    "    \n",
    "    strands_to_remove = set(base_to_strand_mapping.values()) - {longest_strand_index}\n",
    "    print(\"Strands to remove:\", strands_to_remove)\n",
    "\n",
    "    dna_structures = []\n",
    "    removed_strands_info = []\n",
    "\n",
    "    # Create all possible triplets of strands to remove\n",
    "    strand_triplets = [(strand_1, strand_2, strand_3) for i, strand_1 in enumerate(strands_to_remove)\n",
    "                       for j, strand_2 in enumerate(list(strands_to_remove)[i + 1:])\n",
    "                       for strand_3 in list(strands_to_remove)[i + j + 2:]]\n",
    "\n",
    "    for strand_1, strand_2, strand_3 in strand_triplets:\n",
    "        strand_list = []\n",
    "        for idx, strand in enumerate(dna.strands):\n",
    "            if idx not in {strand_1, strand_2, strand_3}:\n",
    "                strand_list.append(strand)\n",
    "        \n",
    "        new_dna_structure = DNAStructure(strand_list, dna.time, dna.box, dna.energy)\n",
    "        dna_structures.append(new_dna_structure)\n",
    "        \n",
    "        removed_strands_info.append((strand_1, strand_2, strand_3))\n",
    "        print(f\"Removed strands: {strand_1}, {strand_2}, {strand_3}\")\n",
    "    \n",
    "    return dna_structures, removed_strands_info\n"
   ]
  },
  {
   "cell_type": "code",
   "execution_count": null,
   "metadata": {},
   "outputs": [],
   "source": [
    "new_dna_structures_three, removed_strands_info = remove_three_strands_in_sphere(dna, P, sphere_radius)\n",
    "print(f\"Generated {len(new_dna_structures_three)} new DNA structures with three strands removed.\")\n",
    "# print(\"Details of removed strands for each structure:\")\n",
    "# for strands in removed_strands_info:\n",
    "#     print(f\"Strands removed: {strands}\")"
   ]
  },
  {
   "cell_type": "code",
   "execution_count": null,
   "metadata": {},
   "outputs": [],
   "source": [
    "new_dna_structures_three, removed_strands_info = remove_three_strands_in_sphere(dna, P, sphere_radius)\n",
    "print(new_dna_structures_three)\n",
    "print(len(new_dna_structures_three))"
   ]
  },
  {
   "cell_type": "code",
   "execution_count": null,
   "metadata": {},
   "outputs": [],
   "source": [
    "base_path = \"/home/ava/MetaBackbone_project/Metabackbone-scripts/structure_files/six_helix_oxdna_file/Automatically_removed_staples/1512_bp/three_staples_remvd\"\n",
    "output_paths_three= export_dna_structures(new_dna_structures_three, base_path)"
   ]
  },
  {
   "cell_type": "code",
   "execution_count": null,
   "metadata": {},
   "outputs": [],
   "source": [
    "file_dir = '/home/ava/Dropbox (ASU)/temp/Metabackbone/structure_files/six_helix_oxdna_file/Automatically_removed_staples/1512_bp/one_staple_remvd/structure_1'\n",
    "structure_id = os.path.basename(file_dir)\n",
    "print(structure_id)\n"
   ]
  },
  {
   "cell_type": "code",
   "execution_count": null,
   "metadata": {},
   "outputs": [],
   "source": [
    "# Define the base simulation path\n",
    "eq_steps = 1e5\n",
    "prod_steps = 1e5\n",
    "rel_steps = 1e3\n",
    "    \n",
    "# Parameters for simulations\n",
    "eq_parameters = {'dt':f'0.003','steps':f'{eq_steps}','print_energy_every': f'1e5', 'interaction_type': 'DNA2',\n",
    "                 'print_conf_interval':f'1e5', 'fix_diffusion':'false', 'T':f'20C','max_density_multiplier':f'50'}\n",
    "\n",
    "prod_parameters = {'dt':f'0.003','steps':f'{prod_steps}','print_energy_every': f'1e5', 'interaction_type': 'DNA2',\n",
    "                   'print_conf_interval':f'1e5', 'fix_diffusion':'false', 'T':f'20C','max_density_multiplier':f'50'}\n",
    "rel_parameters = {'steps': f'{rel_steps}', 'max_backbone_force': '200', 'max_backbone_force_far': '200'}\n",
    "\n",
    "sim_base_path = '/home/ava/Dropbox (ASU)/temp/Metabackbone/metabackbone/notebooks/Simulations/simulations/Automatically_rmvd_staples/one_staple_removed'\n",
    "base_path = '/home/ava/Dropbox (ASU)/temp/Metabackbone/structure_files/six_helix_oxdna_file/Automatically_removed_staples/1512_bp/one_staple_remvd'\n",
    "\n",
    "\n",
    "# Function to queue relaxation simulations for all structures\n",
    "def queue_relaxation_simulations(structures, base_path, sim_base_path):\n",
    "    simulation_manager = SimulationManager()\n",
    "    sim_list_rel = []\n",
    "\n",
    "    for structure_id, structure in enumerate(structures):\n",
    "        file_dir = os.path.join(base_path, f'structure_{structure_id}')\n",
    "        sim_path = os.path.join(sim_base_path, f'1512_bp_{structure_id}')\n",
    "        rel_dir = os.path.join(sim_path, 'relaxed')\n",
    "\n",
    "        if not os.path.exists(file_dir):\n",
    "            print(f\"Directory does not exist: {file_dir}\")\n",
    "            continue\n",
    "\n",
    "        sim_relax = Simulation(file_dir, rel_dir)\n",
    "        sim_relax.build(clean_build='force')\n",
    "        sim_relax.input.swap_default_input(\"cpu_MC_relax\")\n",
    "        sim_relax.input_file(rel_parameters)\n",
    "        simulation_manager.queue_sim(sim_relax)\n",
    "        sim_list_rel.append(sim_relax)\n",
    "        print(f\"Queued relaxation simulation for structure {structure_id}\")\n",
    "\n",
    "    # Process all queued relaxation simulations\n",
    "    simulation_manager.worker_manager(gpu_mem_block=False)\n",
    "    print(\"Completed all relaxation simulations\")\n",
    "    return sim_list_rel"
   ]
  },
  {
   "cell_type": "code",
   "execution_count": null,
   "metadata": {},
   "outputs": [],
   "source": [
    "# Function to queue equilibration simulations for all structures\n",
    "def queue_equilibration_simulations(structures, base_path, sim_base_path):\n",
    "    simulation_manager = SimulationManager()\n",
    "    sim_list_eq = []\n",
    "\n",
    "    for structure_id, structure in enumerate(structures):\n",
    "        sim_path = os.path.join(sim_base_path, f'1512_bp_{structure_id}')\n",
    "        rel_dir = os.path.join(sim_path, 'relaxed')\n",
    "        eq_dir = os.path.join(sim_path, 'eq')\n",
    "\n",
    "        if not os.path.exists(rel_dir):\n",
    "            print(f\"Directory does not exist: {rel_dir}\")\n",
    "            continue\n",
    "\n",
    "        sim_eq = Simulation(rel_dir, eq_dir)\n",
    "        sim_eq.build(clean_build='force')\n",
    "        sim_eq.input_file(eq_parameters)\n",
    "        simulation_manager.queue_sim(sim_eq)\n",
    "        sim_list_eq.append(sim_eq)\n",
    "        print(f\"Queued equilibration simulation for structure {structure_id}\")\n",
    "\n",
    "    # Process all queued equilibration simulations\n",
    "    simulation_manager.worker_manager(gpu_mem_block=False)\n",
    "    print(\"Completed all equilibration simulations\")\n",
    "    return sim_list_eq"
   ]
  },
  {
   "cell_type": "code",
   "execution_count": null,
   "metadata": {},
   "outputs": [],
   "source": [
    "# Function to queue production simulations for all structures\n",
    "def queue_production_simulations(structures, base_path, sim_base_path):\n",
    "    simulation_manager = SimulationManager()\n",
    "    sim_list_prod = []\n",
    "\n",
    "    for structure_id, structure in enumerate(structures):\n",
    "        sim_path = os.path.join(sim_base_path, f'1512_bp_{structure_id}')\n",
    "        eq_dir = os.path.join(sim_path, 'eq')\n",
    "        prod_dir = os.path.join(sim_path, 'prod')\n",
    "\n",
    "        if not os.path.exists(eq_dir):\n",
    "            print(f\"Directory does not exist: {eq_dir}\")\n",
    "            continue\n",
    "\n",
    "        sim_prod = Simulation(eq_dir, prod_dir)\n",
    "        sim_prod.build(clean_build='force')\n",
    "        sim_prod.input_file(prod_parameters)\n",
    "        simulation_manager.queue_sim(sim_prod)\n",
    "        sim_list_prod.append(sim_prod)\n",
    "        print(f\"Queued production simulation for structure {structure_id}\")\n",
    "\n",
    "    # Process all queued production simulations\n",
    "    simulation_manager.worker_manager(gpu_mem_block=False)\n",
    "    print(\"Completed all production simulations\")\n",
    "    return sim_list_prod"
   ]
  },
  {
   "cell_type": "code",
   "execution_count": null,
   "metadata": {},
   "outputs": [],
   "source": [
    "# Main function to run all simulations\n",
    "def run_all_simulations(structures, base_path, sim_base_path):\n",
    "    print(\"Starting relaxation simulations...\")\n",
    "    sim_list_rel = queue_relaxation_simulations(structures, base_path, sim_base_path)\n",
    "\n",
    "    print(\"Starting equilibration simulations...\")\n",
    "    sim_list_eq = queue_equilibration_simulations(structures, base_path, sim_base_path)\n",
    "\n",
    "    print(\"Starting production simulations...\")\n",
    "    sim_list_prod = queue_production_simulations(structures, base_path, sim_base_path)\n",
    "    \n",
    "    return sim_list_rel, sim_list_eq, sim_list_prod"
   ]
  },
  {
   "cell_type": "code",
   "execution_count": null,
   "metadata": {},
   "outputs": [],
   "source": [
    "sim_base_path = '/home/ava/MetaBackbone_project/Metabackbone-scripts/Notebook/Simulations_results/simulations_structure/Automatically_rmvd_staples/one_staple_removed'\n",
    "base_path = '/home/ava/Dropbox (ASU)/temp/Metabackbone/structure_files/six_helix_oxdna_file/Automatically_removed_staples/1512_bp/one_staple_remvd'\n",
    "\n",
    "run_all_simulations(new_dna_structures, base_path, sim_base_path)"
   ]
  },
  {
   "cell_type": "code",
   "execution_count": null,
   "metadata": {},
   "outputs": [],
   "source": [
    "sim_base_path = '/home/ava/MetaBackbone_project/Metabackbone-scripts/Notebook/Simulations_results/simulations_structure/Automatically_rmvd_staples/two_staples_removed'\n",
    "base_path = '/home/ava/Dropbox (ASU)/temp/Metabackbone/structure_files/six_helix_oxdna_file/Automatically_removed_staples/1512_bp/two_staples_remvd'\n",
    "\n",
    "run_all_simulations(new_dna_structures_two, base_path, sim_base_path)"
   ]
  },
  {
   "cell_type": "code",
   "execution_count": null,
   "metadata": {},
   "outputs": [],
   "source": [
    "sim_base_path = '/home/ava/MetaBackbone_project/Metabackbone-scripts/Notebook/Simulations_results/simulations_structure/Automatically_rmvd_staples/three_staples_removed'\n",
    "base_path = '/home/ava/Dropbox (ASU)/temp/Metabackbone/structure_files/six_helix_oxdna_file/Automatically_removed_staples/1512_bp/three_staples_remvd'\n",
    "\n",
    "run_all_simulations(new_dna_structures_three, base_path, sim_base_path)"
   ]
  },
  {
   "cell_type": "code",
   "execution_count": null,
   "metadata": {},
   "outputs": [],
   "source": [
    "structures = [f'structure_{i}' for i in range(10)]  # Example list of structures\n",
    "sim_list_rel, sim_list_eq, sim_list_prod = run_all_simulations(structures, base_path, sim_base_path)"
   ]
  },
  {
   "cell_type": "code",
   "execution_count": null,
   "metadata": {},
   "outputs": [],
   "source": [
    "# Plot energy for all relaxation simulations\n",
    "for sim in sim_list_rel:\n",
    "    sim.analysis.plot_energy()"
   ]
  },
  {
   "cell_type": "code",
   "execution_count": null,
   "metadata": {},
   "outputs": [],
   "source": [
    "# Plot energy for all equilibration simulations\n",
    "for sim in sim_list_eq:\n",
    "    sim.analysis.plot_energy()"
   ]
  },
  {
   "cell_type": "code",
   "execution_count": null,
   "metadata": {},
   "outputs": [],
   "source": [
    "# Plot energy for all prod simulations\n",
    "for sim in sim_list_prod:\n",
    "    sim.analysis.plot_energy()"
   ]
  }
 ],
 "metadata": {
  "kernelspec": {
   "display_name": "pypatchy",
   "language": "python",
   "name": "python3"
  },
  "language_info": {
   "codemirror_mode": {
    "name": "ipython",
    "version": 3
   },
   "file_extension": ".py",
   "mimetype": "text/x-python",
   "name": "python",
   "nbconvert_exporter": "python",
   "pygments_lexer": "ipython3",
   "version": "3.11.8"
  }
 },
 "nbformat": 4,
 "nbformat_minor": 2
}
